{
 "cells": [
  {
   "cell_type": "markdown",
   "id": "8fe76560",
   "metadata": {},
   "source": [
    "## Дашборд для Яндекс.Дзен"
   ]
  },
  {
   "cell_type": "code",
   "execution_count": 1,
   "id": "ac103b60",
   "metadata": {},
   "outputs": [],
   "source": [
    "# импортируем библиотеки\n",
    "import pandas as pd\n",
    "from sqlalchemy import create_engine"
   ]
  },
  {
   "cell_type": "code",
   "execution_count": 2,
   "id": "783ce8b8",
   "metadata": {},
   "outputs": [],
   "source": [
    "# коннектимся с базой\n",
    "db_config = {'user': 'praktikum_student', # имя пользователя\n",
    "            'pwd': 'Sdf4$2;d-d30pp', # пароль\n",
    "            'host': 'rc1b-wcoijxj3yxfsf3fs.mdb.yandexcloud.net', # хост\n",
    "            'port': 6432, # порт подключения\n",
    "            'db': 'data-analyst-zen-project-db'} # название базы данных"
   ]
  },
  {
   "cell_type": "code",
   "execution_count": 3,
   "id": "749906ab",
   "metadata": {},
   "outputs": [],
   "source": [
    "connection_string = 'postgresql://{}:{}@{}:{}/{}'.format(db_config['user'],\n",
    "                                                db_config['pwd'],\n",
    "                                                db_config['host'],\n",
    "                                                db_config['port'],\n",
    "                                                db_config['db'])"
   ]
  },
  {
   "cell_type": "code",
   "execution_count": 4,
   "id": "14f958a1",
   "metadata": {},
   "outputs": [],
   "source": [
    "engine = create_engine(connection_string)"
   ]
  },
  {
   "cell_type": "code",
   "execution_count": 5,
   "id": "827cc4c5",
   "metadata": {},
   "outputs": [],
   "source": [
    "# выгружаем данные \n",
    "query = '''\n",
    "           SELECT *\n",
    "           FROM dash_visits\n",
    "        '''"
   ]
  },
  {
   "cell_type": "code",
   "execution_count": 6,
   "id": "36022969",
   "metadata": {},
   "outputs": [],
   "source": [
    "dash_visits = pd.io.sql.read_sql(query, con = engine)"
   ]
  },
  {
   "cell_type": "code",
   "execution_count": 7,
   "id": "bbf94270",
   "metadata": {},
   "outputs": [],
   "source": [
    "# делаем запрос sql\n",
    "dash_visits.to_csv('dash_visits.csv', index=False)"
   ]
  },
  {
   "cell_type": "code",
   "execution_count": 8,
   "id": "1685e1dd",
   "metadata": {},
   "outputs": [
    {
     "data": {
      "text/html": [
       "<div>\n",
       "<style scoped>\n",
       "    .dataframe tbody tr th:only-of-type {\n",
       "        vertical-align: middle;\n",
       "    }\n",
       "\n",
       "    .dataframe tbody tr th {\n",
       "        vertical-align: top;\n",
       "    }\n",
       "\n",
       "    .dataframe thead th {\n",
       "        text-align: right;\n",
       "    }\n",
       "</style>\n",
       "<table border=\"1\" class=\"dataframe\">\n",
       "  <thead>\n",
       "    <tr style=\"text-align: right;\">\n",
       "      <th></th>\n",
       "      <th>record_id</th>\n",
       "      <th>item_topic</th>\n",
       "      <th>source_topic</th>\n",
       "      <th>age_segment</th>\n",
       "      <th>dt</th>\n",
       "      <th>visits</th>\n",
       "    </tr>\n",
       "  </thead>\n",
       "  <tbody>\n",
       "    <tr>\n",
       "      <th>7625</th>\n",
       "      <td>1048221</td>\n",
       "      <td>Интересные факты</td>\n",
       "      <td>Политика</td>\n",
       "      <td>41-45</td>\n",
       "      <td>2019-09-24 18:54:00</td>\n",
       "      <td>2</td>\n",
       "    </tr>\n",
       "    <tr>\n",
       "      <th>1566</th>\n",
       "      <td>1042163</td>\n",
       "      <td>Дети</td>\n",
       "      <td>Интерьеры</td>\n",
       "      <td>18-25</td>\n",
       "      <td>2019-09-24 18:59:00</td>\n",
       "      <td>5</td>\n",
       "    </tr>\n",
       "    <tr>\n",
       "      <th>13087</th>\n",
       "      <td>1053684</td>\n",
       "      <td>Культура</td>\n",
       "      <td>Спорт</td>\n",
       "      <td>45+</td>\n",
       "      <td>2019-09-24 18:58:00</td>\n",
       "      <td>1</td>\n",
       "    </tr>\n",
       "    <tr>\n",
       "      <th>861</th>\n",
       "      <td>1041458</td>\n",
       "      <td>Деньги</td>\n",
       "      <td>Россия</td>\n",
       "      <td>26-30</td>\n",
       "      <td>2019-09-24 19:00:00</td>\n",
       "      <td>12</td>\n",
       "    </tr>\n",
       "    <tr>\n",
       "      <th>2853</th>\n",
       "      <td>1043450</td>\n",
       "      <td>Женская психология</td>\n",
       "      <td>Одежда</td>\n",
       "      <td>18-25</td>\n",
       "      <td>2019-09-24 18:32:00</td>\n",
       "      <td>2</td>\n",
       "    </tr>\n",
       "  </tbody>\n",
       "</table>\n",
       "</div>"
      ],
      "text/plain": [
       "       record_id          item_topic source_topic age_segment  \\\n",
       "7625     1048221    Интересные факты     Политика       41-45   \n",
       "1566     1042163                Дети    Интерьеры       18-25   \n",
       "13087    1053684            Культура        Спорт         45+   \n",
       "861      1041458              Деньги       Россия       26-30   \n",
       "2853     1043450  Женская психология       Одежда       18-25   \n",
       "\n",
       "                       dt  visits  \n",
       "7625  2019-09-24 18:54:00       2  \n",
       "1566  2019-09-24 18:59:00       5  \n",
       "13087 2019-09-24 18:58:00       1  \n",
       "861   2019-09-24 19:00:00      12  \n",
       "2853  2019-09-24 18:32:00       2  "
      ]
     },
     "execution_count": 8,
     "metadata": {},
     "output_type": "execute_result"
    }
   ],
   "source": [
    "# проверяем корректность работы. \n",
    "dash_visits.sample(5)"
   ]
  },
  {
   "cell_type": "markdown",
   "id": "96e17426",
   "metadata": {},
   "source": [
    "## Вывод"
   ]
  },
  {
   "cell_type": "markdown",
   "id": "25577c36",
   "metadata": {},
   "source": [
    "Мы получили данные и записали их файл - dash_visits.csv. Как правило далее мы бы провели проверку в данных на наличие: дубликатов, пропусков, аномалий, но в данном случае подразумевается, что данные чистые и мы можем сразу приступить к процессу автоматизации. "
   ]
  },
  {
   "cell_type": "markdown",
   "id": "148c4a71",
   "metadata": {},
   "source": [
    "https://public.tableau.com/app/profile/tim21051960/viz/Dzen_16626510923210/Yandex_Dzen - ссылка на dashboard. "
   ]
  }
 ],
 "metadata": {
  "kernelspec": {
   "display_name": "Python 3 (ipykernel)",
   "language": "python",
   "name": "python3"
  },
  "language_info": {
   "codemirror_mode": {
    "name": "ipython",
    "version": 3
   },
   "file_extension": ".py",
   "mimetype": "text/x-python",
   "name": "python",
   "nbconvert_exporter": "python",
   "pygments_lexer": "ipython3",
   "version": "3.9.7"
  },
  "toc": {
   "base_numbering": 1,
   "nav_menu": {},
   "number_sections": true,
   "sideBar": true,
   "skip_h1_title": false,
   "title_cell": "Table of Contents",
   "title_sidebar": "Contents",
   "toc_cell": false,
   "toc_position": {},
   "toc_section_display": true,
   "toc_window_display": false
  }
 },
 "nbformat": 4,
 "nbformat_minor": 5
}
