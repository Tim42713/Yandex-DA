{
 "cells": [
  {
   "cell_type": "markdown",
   "id": "f57fa901",
   "metadata": {
    "tags": [
     "aa81075c-062f-4de0-b5fe-14c73dc7468e"
    ]
   },
   "source": [
    "## Создание дашборда для опредения уровня NPS"
   ]
  },
  {
   "cell_type": "code",
   "execution_count": 1,
   "id": "f2a7049a",
   "metadata": {},
   "outputs": [],
   "source": [
    "# импортируем необходимые библиотеки\n",
    "import pandas as pd\n",
    "import numpy as np\n",
    "from sqlalchemy import create_engine"
   ]
  },
  {
   "cell_type": "code",
   "execution_count": 2,
   "id": "55c85a70",
   "metadata": {},
   "outputs": [],
   "source": [
    "# подключаем базу\n",
    "path_to_db = '/datasets/telecomm_csi.db'\n",
    "engine = create_engine(f'sqlite:///{path_to_db}', echo = False)"
   ]
  },
  {
   "cell_type": "code",
   "execution_count": 3,
   "id": "0f46576b",
   "metadata": {},
   "outputs": [],
   "source": [
    "# Выполняем sql запрос \n",
    "query = \"\"\"\n",
    "           SELECT u.user_id AS id,\n",
    "                  u.lt_day AS days_of_life,\n",
    "                  CASE\n",
    "                      WHEN u.lt_day <= 365  THEN 'TRUE'\n",
    "                      ELSE 'FALSE'\n",
    "                  END AS is_new,\n",
    "                  u.age,\n",
    "                  CASE\n",
    "                      WHEN gender_segment == 1 THEN 'female'\n",
    "                      WHEN gender_segment == 0 THEN 'male'\n",
    "                      ELSE 'n/a'\n",
    "                  END AS gender_segment,\n",
    "                  u.os_name AS os_type,\n",
    "                  u.cpe_type_name device_type,\n",
    "                  loc.country,\n",
    "                  loc.city,\n",
    "                  SUBSTR(ag.title, 3, 6) AS age_segment,\n",
    "                  SUBSTR(tr.title, 3, 6) AS traffic_segment,\n",
    "                  SUBSTR(lt.title, 3, 6) AS lifetime_segment,\n",
    "                  u.nps_score, \n",
    "                  CASE\n",
    "                      WHEN u.nps_score BETWEEN 0 AND 6 THEN 'detractors'\n",
    "                      WHEN u.nps_score BETWEEN 7 AND 8 THEN 'passives'\n",
    "                      WHEN u.nps_score BETWEEN 9 AND 10 THEN 'promoters'\n",
    "                  END AS nps_group\n",
    "           FROM user AS u\n",
    "           LEFT OUTER JOIN location AS loc ON u.location_id = loc.location_id\n",
    "           LEFT OUTER JOIN age_segment AS ag ON u.age_gr_id = ag.age_gr_id\n",
    "           LEFT OUTER JOIN traffic_segment AS tr ON u.tr_gr_id = tr.tr_gr_id\n",
    "           LEFT OUTER JOIN lifetime_segment AS lt ON u.lt_gr_id = lt.lt_gr_id;\n",
    "        \"\"\""
   ]
  },
  {
   "cell_type": "code",
   "execution_count": 4,
   "id": "05fa2bc6",
   "metadata": {},
   "outputs": [
    {
     "data": {
      "text/html": [
       "<div>\n",
       "<style scoped>\n",
       "    .dataframe tbody tr th:only-of-type {\n",
       "        vertical-align: middle;\n",
       "    }\n",
       "\n",
       "    .dataframe tbody tr th {\n",
       "        vertical-align: top;\n",
       "    }\n",
       "\n",
       "    .dataframe thead th {\n",
       "        text-align: right;\n",
       "    }\n",
       "</style>\n",
       "<table border=\"1\" class=\"dataframe\">\n",
       "  <thead>\n",
       "    <tr style=\"text-align: right;\">\n",
       "      <th></th>\n",
       "      <th>id</th>\n",
       "      <th>days_of_life</th>\n",
       "      <th>is_new</th>\n",
       "      <th>age</th>\n",
       "      <th>gender_segment</th>\n",
       "      <th>os_type</th>\n",
       "      <th>device_type</th>\n",
       "      <th>country</th>\n",
       "      <th>city</th>\n",
       "      <th>age_segment</th>\n",
       "      <th>traffic_segment</th>\n",
       "      <th>lifetime_segment</th>\n",
       "      <th>nps_score</th>\n",
       "      <th>nps_group</th>\n",
       "    </tr>\n",
       "  </thead>\n",
       "  <tbody>\n",
       "    <tr>\n",
       "      <th>0</th>\n",
       "      <td>A001A2</td>\n",
       "      <td>2320</td>\n",
       "      <td>FALSE</td>\n",
       "      <td>45.0</td>\n",
       "      <td>female</td>\n",
       "      <td>ANDROID</td>\n",
       "      <td>SMARTPHONE</td>\n",
       "      <td>Россия</td>\n",
       "      <td>Уфа</td>\n",
       "      <td>45-54</td>\n",
       "      <td>1-5</td>\n",
       "      <td>36+</td>\n",
       "      <td>10</td>\n",
       "      <td>promoters</td>\n",
       "    </tr>\n",
       "    <tr>\n",
       "      <th>1</th>\n",
       "      <td>A001WF</td>\n",
       "      <td>2344</td>\n",
       "      <td>FALSE</td>\n",
       "      <td>53.0</td>\n",
       "      <td>male</td>\n",
       "      <td>ANDROID</td>\n",
       "      <td>SMARTPHONE</td>\n",
       "      <td>Россия</td>\n",
       "      <td>Киров</td>\n",
       "      <td>45-54</td>\n",
       "      <td>1-5</td>\n",
       "      <td>36+</td>\n",
       "      <td>10</td>\n",
       "      <td>promoters</td>\n",
       "    </tr>\n",
       "    <tr>\n",
       "      <th>2</th>\n",
       "      <td>A003Q7</td>\n",
       "      <td>467</td>\n",
       "      <td>FALSE</td>\n",
       "      <td>57.0</td>\n",
       "      <td>male</td>\n",
       "      <td>ANDROID</td>\n",
       "      <td>SMARTPHONE</td>\n",
       "      <td>Россия</td>\n",
       "      <td>Москва</td>\n",
       "      <td>55-64</td>\n",
       "      <td>20-25</td>\n",
       "      <td>13-24</td>\n",
       "      <td>10</td>\n",
       "      <td>promoters</td>\n",
       "    </tr>\n",
       "    <tr>\n",
       "      <th>3</th>\n",
       "      <td>A004TB</td>\n",
       "      <td>4190</td>\n",
       "      <td>FALSE</td>\n",
       "      <td>44.0</td>\n",
       "      <td>female</td>\n",
       "      <td>IOS</td>\n",
       "      <td>SMARTPHONE</td>\n",
       "      <td>Россия</td>\n",
       "      <td>РостовнаДону</td>\n",
       "      <td>35-44</td>\n",
       "      <td>0.1-1</td>\n",
       "      <td>36+</td>\n",
       "      <td>10</td>\n",
       "      <td>promoters</td>\n",
       "    </tr>\n",
       "    <tr>\n",
       "      <th>4</th>\n",
       "      <td>A004XT</td>\n",
       "      <td>1163</td>\n",
       "      <td>FALSE</td>\n",
       "      <td>24.0</td>\n",
       "      <td>male</td>\n",
       "      <td>ANDROID</td>\n",
       "      <td>SMARTPHONE</td>\n",
       "      <td>Россия</td>\n",
       "      <td>Рязань</td>\n",
       "      <td>16-24</td>\n",
       "      <td>5-10</td>\n",
       "      <td>36+</td>\n",
       "      <td>10</td>\n",
       "      <td>promoters</td>\n",
       "    </tr>\n",
       "  </tbody>\n",
       "</table>\n",
       "</div>"
      ],
      "text/plain": [
       "       id  days_of_life is_new   age gender_segment  os_type device_type  \\\n",
       "0  A001A2          2320  FALSE  45.0         female  ANDROID  SMARTPHONE   \n",
       "1  A001WF          2344  FALSE  53.0           male  ANDROID  SMARTPHONE   \n",
       "2  A003Q7           467  FALSE  57.0           male  ANDROID  SMARTPHONE   \n",
       "3  A004TB          4190  FALSE  44.0         female      IOS  SMARTPHONE   \n",
       "4  A004XT          1163  FALSE  24.0           male  ANDROID  SMARTPHONE   \n",
       "\n",
       "  country          city age_segment traffic_segment lifetime_segment  \\\n",
       "0  Россия           Уфа       45-54             1-5              36+   \n",
       "1  Россия         Киров       45-54             1-5              36+   \n",
       "2  Россия        Москва       55-64           20-25            13-24   \n",
       "3  Россия  РостовнаДону       35-44           0.1-1              36+   \n",
       "4  Россия        Рязань       16-24            5-10              36+   \n",
       "\n",
       "   nps_score  nps_group  \n",
       "0         10  promoters  \n",
       "1         10  promoters  \n",
       "2         10  promoters  \n",
       "3         10  promoters  \n",
       "4         10  promoters  "
      ]
     },
     "execution_count": 4,
     "metadata": {},
     "output_type": "execute_result"
    }
   ],
   "source": [
    "# получаем данные и проверяем корректность\n",
    "df = pd.read_sql(query, engine)\n",
    "df.head(5)"
   ]
  },
  {
   "cell_type": "code",
   "execution_count": 5,
   "id": "2ea767f4",
   "metadata": {},
   "outputs": [],
   "source": [
    "# получаем готовую витрину \n",
    "df.to_csv('telecomm_csi_tableau.csv', index=False)"
   ]
  },
  {
   "cell_type": "code",
   "execution_count": 6,
   "id": "381dd835",
   "metadata": {},
   "outputs": [
    {
     "data": {
      "text/html": [
       "<div>\n",
       "<style scoped>\n",
       "    .dataframe tbody tr th:only-of-type {\n",
       "        vertical-align: middle;\n",
       "    }\n",
       "\n",
       "    .dataframe tbody tr th {\n",
       "        vertical-align: top;\n",
       "    }\n",
       "\n",
       "    .dataframe thead th {\n",
       "        text-align: right;\n",
       "    }\n",
       "</style>\n",
       "<table border=\"1\" class=\"dataframe\">\n",
       "  <thead>\n",
       "    <tr style=\"text-align: right;\">\n",
       "      <th></th>\n",
       "      <th>days_of_life</th>\n",
       "      <th>age</th>\n",
       "      <th>nps_score</th>\n",
       "    </tr>\n",
       "  </thead>\n",
       "  <tbody>\n",
       "    <tr>\n",
       "      <th>count</th>\n",
       "      <td>502493.000000</td>\n",
       "      <td>501939.000000</td>\n",
       "      <td>502493.000000</td>\n",
       "    </tr>\n",
       "    <tr>\n",
       "      <th>mean</th>\n",
       "      <td>1868.841439</td>\n",
       "      <td>39.621946</td>\n",
       "      <td>7.508562</td>\n",
       "    </tr>\n",
       "    <tr>\n",
       "      <th>std</th>\n",
       "      <td>1683.701762</td>\n",
       "      <td>11.188249</td>\n",
       "      <td>3.020378</td>\n",
       "    </tr>\n",
       "    <tr>\n",
       "      <th>min</th>\n",
       "      <td>-21.000000</td>\n",
       "      <td>10.000000</td>\n",
       "      <td>1.000000</td>\n",
       "    </tr>\n",
       "    <tr>\n",
       "      <th>25%</th>\n",
       "      <td>533.000000</td>\n",
       "      <td>31.000000</td>\n",
       "      <td>5.000000</td>\n",
       "    </tr>\n",
       "    <tr>\n",
       "      <th>50%</th>\n",
       "      <td>1239.000000</td>\n",
       "      <td>38.000000</td>\n",
       "      <td>9.000000</td>\n",
       "    </tr>\n",
       "    <tr>\n",
       "      <th>75%</th>\n",
       "      <td>3064.000000</td>\n",
       "      <td>47.000000</td>\n",
       "      <td>10.000000</td>\n",
       "    </tr>\n",
       "    <tr>\n",
       "      <th>max</th>\n",
       "      <td>9162.000000</td>\n",
       "      <td>89.000000</td>\n",
       "      <td>10.000000</td>\n",
       "    </tr>\n",
       "  </tbody>\n",
       "</table>\n",
       "</div>"
      ],
      "text/plain": [
       "        days_of_life            age      nps_score\n",
       "count  502493.000000  501939.000000  502493.000000\n",
       "mean     1868.841439      39.621946       7.508562\n",
       "std      1683.701762      11.188249       3.020378\n",
       "min       -21.000000      10.000000       1.000000\n",
       "25%       533.000000      31.000000       5.000000\n",
       "50%      1239.000000      38.000000       9.000000\n",
       "75%      3064.000000      47.000000      10.000000\n",
       "max      9162.000000      89.000000      10.000000"
      ]
     },
     "execution_count": 6,
     "metadata": {},
     "output_type": "execute_result"
    }
   ],
   "source": [
    " # Просмотрим общие данные\n",
    "df.describe()"
   ]
  },
  {
   "cell_type": "markdown",
   "id": "aba1f875",
   "metadata": {},
   "source": [
    "В стобце с \"днями жизни\" можем заметить отрицательные значения, необходимо проверить % данных и решить , что делать с данными."
   ]
  },
  {
   "cell_type": "code",
   "execution_count": 7,
   "id": "10079d9f",
   "metadata": {},
   "outputs": [
    {
     "name": "stdout",
     "output_type": "stream",
     "text": [
      "<class 'pandas.core.frame.DataFrame'>\n",
      "RangeIndex: 502493 entries, 0 to 502492\n",
      "Data columns (total 14 columns):\n",
      " #   Column            Non-Null Count   Dtype  \n",
      "---  ------            --------------   -----  \n",
      " 0   id                502493 non-null  object \n",
      " 1   days_of_life      502493 non-null  int64  \n",
      " 2   is_new            502493 non-null  object \n",
      " 3   age               501939 non-null  float64\n",
      " 4   gender_segment    502493 non-null  object \n",
      " 5   os_type           502493 non-null  object \n",
      " 6   device_type       502493 non-null  object \n",
      " 7   country           502493 non-null  object \n",
      " 8   city              502493 non-null  object \n",
      " 9   age_segment       502493 non-null  object \n",
      " 10  traffic_segment   502493 non-null  object \n",
      " 11  lifetime_segment  502493 non-null  object \n",
      " 12  nps_score         502493 non-null  int64  \n",
      " 13  nps_group         502493 non-null  object \n",
      "dtypes: float64(1), int64(2), object(11)\n",
      "memory usage: 53.7+ MB\n"
     ]
    }
   ],
   "source": [
    "# уточним кол-во, тип данных и т.д\n",
    "df.info()"
   ]
  },
  {
   "cell_type": "markdown",
   "id": "5ee5291a",
   "metadata": {},
   "source": [
    "Есть потери в столбце с возрастом (age), но так так потери незначительны данные корректировать не будем."
   ]
  },
  {
   "cell_type": "code",
   "execution_count": 8,
   "id": "ffdc839f",
   "metadata": {
    "scrolled": true
   },
   "outputs": [
    {
     "data": {
      "text/html": [
       "<div>\n",
       "<style scoped>\n",
       "    .dataframe tbody tr th:only-of-type {\n",
       "        vertical-align: middle;\n",
       "    }\n",
       "\n",
       "    .dataframe tbody tr th {\n",
       "        vertical-align: top;\n",
       "    }\n",
       "\n",
       "    .dataframe thead th {\n",
       "        text-align: right;\n",
       "    }\n",
       "</style>\n",
       "<table border=\"1\" class=\"dataframe\">\n",
       "  <thead>\n",
       "    <tr style=\"text-align: right;\">\n",
       "      <th></th>\n",
       "      <th>id</th>\n",
       "      <th>days_of_life</th>\n",
       "      <th>is_new</th>\n",
       "      <th>age</th>\n",
       "      <th>gender_segment</th>\n",
       "      <th>os_type</th>\n",
       "      <th>device_type</th>\n",
       "      <th>country</th>\n",
       "      <th>city</th>\n",
       "      <th>age_segment</th>\n",
       "      <th>traffic_segment</th>\n",
       "      <th>lifetime_segment</th>\n",
       "      <th>nps_score</th>\n",
       "      <th>nps_group</th>\n",
       "    </tr>\n",
       "  </thead>\n",
       "  <tbody>\n",
       "    <tr>\n",
       "      <th>7666</th>\n",
       "      <td>AEAC2R</td>\n",
       "      <td>-8</td>\n",
       "      <td>TRUE</td>\n",
       "      <td>NaN</td>\n",
       "      <td>n/a</td>\n",
       "      <td>ANDROID</td>\n",
       "      <td>SMARTPHONE</td>\n",
       "      <td>Россия</td>\n",
       "      <td>Томск</td>\n",
       "      <td>n/a</td>\n",
       "      <td>15-20</td>\n",
       "      <td>36+</td>\n",
       "      <td>1</td>\n",
       "      <td>detractors</td>\n",
       "    </tr>\n",
       "    <tr>\n",
       "      <th>53997</th>\n",
       "      <td>CS0HF8</td>\n",
       "      <td>-2</td>\n",
       "      <td>TRUE</td>\n",
       "      <td>NaN</td>\n",
       "      <td>n/a</td>\n",
       "      <td>ANDROID</td>\n",
       "      <td>SMARTPHONE</td>\n",
       "      <td>Россия</td>\n",
       "      <td>Ижевск</td>\n",
       "      <td>n/a</td>\n",
       "      <td>20-25</td>\n",
       "      <td>36+</td>\n",
       "      <td>10</td>\n",
       "      <td>promoters</td>\n",
       "    </tr>\n",
       "    <tr>\n",
       "      <th>71577</th>\n",
       "      <td>DORPT2</td>\n",
       "      <td>-4</td>\n",
       "      <td>TRUE</td>\n",
       "      <td>NaN</td>\n",
       "      <td>n/a</td>\n",
       "      <td>ANDROID</td>\n",
       "      <td>SMARTPHONE</td>\n",
       "      <td>Россия</td>\n",
       "      <td>Москва</td>\n",
       "      <td>n/a</td>\n",
       "      <td>20-25</td>\n",
       "      <td>36+</td>\n",
       "      <td>4</td>\n",
       "      <td>detractors</td>\n",
       "    </tr>\n",
       "    <tr>\n",
       "      <th>100152</th>\n",
       "      <td>F5O3CG</td>\n",
       "      <td>-21</td>\n",
       "      <td>TRUE</td>\n",
       "      <td>NaN</td>\n",
       "      <td>n/a</td>\n",
       "      <td>ANDROID</td>\n",
       "      <td>SMARTPHONE</td>\n",
       "      <td>Россия</td>\n",
       "      <td>Чита</td>\n",
       "      <td>n/a</td>\n",
       "      <td>35-40</td>\n",
       "      <td>36+</td>\n",
       "      <td>7</td>\n",
       "      <td>passives</td>\n",
       "    </tr>\n",
       "    <tr>\n",
       "      <th>103223</th>\n",
       "      <td>FBC993</td>\n",
       "      <td>0</td>\n",
       "      <td>TRUE</td>\n",
       "      <td>NaN</td>\n",
       "      <td>n/a</td>\n",
       "      <td>ANDROID</td>\n",
       "      <td>SMARTPHONE</td>\n",
       "      <td>Россия</td>\n",
       "      <td>Москва</td>\n",
       "      <td>n/a</td>\n",
       "      <td>1-5</td>\n",
       "      <td>1</td>\n",
       "      <td>5</td>\n",
       "      <td>detractors</td>\n",
       "    </tr>\n",
       "    <tr>\n",
       "      <th>228087</th>\n",
       "      <td>LSE939</td>\n",
       "      <td>-13</td>\n",
       "      <td>TRUE</td>\n",
       "      <td>NaN</td>\n",
       "      <td>n/a</td>\n",
       "      <td>ANDROID</td>\n",
       "      <td>SMARTPHONE</td>\n",
       "      <td>Россия</td>\n",
       "      <td>Краснодар</td>\n",
       "      <td>n/a</td>\n",
       "      <td>15-20</td>\n",
       "      <td>36+</td>\n",
       "      <td>1</td>\n",
       "      <td>detractors</td>\n",
       "    </tr>\n",
       "    <tr>\n",
       "      <th>284966</th>\n",
       "      <td>OQO5GZ</td>\n",
       "      <td>0</td>\n",
       "      <td>TRUE</td>\n",
       "      <td>NaN</td>\n",
       "      <td>male</td>\n",
       "      <td>ANDROID</td>\n",
       "      <td>SMARTPHONE</td>\n",
       "      <td>Россия</td>\n",
       "      <td>Томск</td>\n",
       "      <td>n/a</td>\n",
       "      <td>10-15</td>\n",
       "      <td>1</td>\n",
       "      <td>8</td>\n",
       "      <td>passives</td>\n",
       "    </tr>\n",
       "    <tr>\n",
       "      <th>325212</th>\n",
       "      <td>QTT7IR</td>\n",
       "      <td>-13</td>\n",
       "      <td>TRUE</td>\n",
       "      <td>NaN</td>\n",
       "      <td>n/a</td>\n",
       "      <td>IOS</td>\n",
       "      <td>SMARTPHONE</td>\n",
       "      <td>Россия</td>\n",
       "      <td>Москва</td>\n",
       "      <td>n/a</td>\n",
       "      <td>10-15</td>\n",
       "      <td>36+</td>\n",
       "      <td>7</td>\n",
       "      <td>passives</td>\n",
       "    </tr>\n",
       "    <tr>\n",
       "      <th>347784</th>\n",
       "      <td>RZUS6H</td>\n",
       "      <td>-6</td>\n",
       "      <td>TRUE</td>\n",
       "      <td>NaN</td>\n",
       "      <td>n/a</td>\n",
       "      <td>ANDROID</td>\n",
       "      <td>SMARTPHONE</td>\n",
       "      <td>Россия</td>\n",
       "      <td>Красноярск</td>\n",
       "      <td>n/a</td>\n",
       "      <td>30-35</td>\n",
       "      <td>36+</td>\n",
       "      <td>3</td>\n",
       "      <td>detractors</td>\n",
       "    </tr>\n",
       "    <tr>\n",
       "      <th>385897</th>\n",
       "      <td>TYWQW4</td>\n",
       "      <td>-12</td>\n",
       "      <td>TRUE</td>\n",
       "      <td>NaN</td>\n",
       "      <td>n/a</td>\n",
       "      <td>IOS</td>\n",
       "      <td>SMARTPHONE</td>\n",
       "      <td>Россия</td>\n",
       "      <td>Новосибирск</td>\n",
       "      <td>n/a</td>\n",
       "      <td>1-5</td>\n",
       "      <td>36+</td>\n",
       "      <td>5</td>\n",
       "      <td>detractors</td>\n",
       "    </tr>\n",
       "    <tr>\n",
       "      <th>401226</th>\n",
       "      <td>URKAFI</td>\n",
       "      <td>-11</td>\n",
       "      <td>TRUE</td>\n",
       "      <td>NaN</td>\n",
       "      <td>n/a</td>\n",
       "      <td>ANDROID</td>\n",
       "      <td>SMARTPHONE</td>\n",
       "      <td>Россия</td>\n",
       "      <td>НижнийНовгород</td>\n",
       "      <td>n/a</td>\n",
       "      <td>10-15</td>\n",
       "      <td>36+</td>\n",
       "      <td>8</td>\n",
       "      <td>passives</td>\n",
       "    </tr>\n",
       "    <tr>\n",
       "      <th>403933</th>\n",
       "      <td>UWLM0V</td>\n",
       "      <td>0</td>\n",
       "      <td>TRUE</td>\n",
       "      <td>NaN</td>\n",
       "      <td>female</td>\n",
       "      <td>ANDROID</td>\n",
       "      <td>SMARTPHONE</td>\n",
       "      <td>Россия</td>\n",
       "      <td>Балашиха</td>\n",
       "      <td>n/a</td>\n",
       "      <td>5-10</td>\n",
       "      <td>1</td>\n",
       "      <td>10</td>\n",
       "      <td>promoters</td>\n",
       "    </tr>\n",
       "    <tr>\n",
       "      <th>407160</th>\n",
       "      <td>V2GNK2</td>\n",
       "      <td>-13</td>\n",
       "      <td>TRUE</td>\n",
       "      <td>NaN</td>\n",
       "      <td>n/a</td>\n",
       "      <td>IOS</td>\n",
       "      <td>SMARTPHONE</td>\n",
       "      <td>Россия</td>\n",
       "      <td>РостовнаДону</td>\n",
       "      <td>n/a</td>\n",
       "      <td>15-20</td>\n",
       "      <td>36+</td>\n",
       "      <td>5</td>\n",
       "      <td>detractors</td>\n",
       "    </tr>\n",
       "    <tr>\n",
       "      <th>425927</th>\n",
       "      <td>W17RFH</td>\n",
       "      <td>-1</td>\n",
       "      <td>TRUE</td>\n",
       "      <td>NaN</td>\n",
       "      <td>n/a</td>\n",
       "      <td>ANDROID</td>\n",
       "      <td>SMARTPHONE</td>\n",
       "      <td>Россия</td>\n",
       "      <td>Москва</td>\n",
       "      <td>n/a</td>\n",
       "      <td>1-5</td>\n",
       "      <td>36+</td>\n",
       "      <td>5</td>\n",
       "      <td>detractors</td>\n",
       "    </tr>\n",
       "    <tr>\n",
       "      <th>455359</th>\n",
       "      <td>XKF9SN</td>\n",
       "      <td>-12</td>\n",
       "      <td>TRUE</td>\n",
       "      <td>NaN</td>\n",
       "      <td>n/a</td>\n",
       "      <td>ANDROID</td>\n",
       "      <td>SMARTPHONE</td>\n",
       "      <td>Россия</td>\n",
       "      <td>Уфа</td>\n",
       "      <td>n/a</td>\n",
       "      <td>100+</td>\n",
       "      <td>36+</td>\n",
       "      <td>9</td>\n",
       "      <td>promoters</td>\n",
       "    </tr>\n",
       "    <tr>\n",
       "      <th>480641</th>\n",
       "      <td>YV6OAH</td>\n",
       "      <td>0</td>\n",
       "      <td>TRUE</td>\n",
       "      <td>NaN</td>\n",
       "      <td>n/a</td>\n",
       "      <td>IOS</td>\n",
       "      <td>SMARTPHONE</td>\n",
       "      <td>Россия</td>\n",
       "      <td>Томск</td>\n",
       "      <td>n/a</td>\n",
       "      <td>15-20</td>\n",
       "      <td>1</td>\n",
       "      <td>9</td>\n",
       "      <td>promoters</td>\n",
       "    </tr>\n",
       "    <tr>\n",
       "      <th>492382</th>\n",
       "      <td>ZGUUY9</td>\n",
       "      <td>-7</td>\n",
       "      <td>TRUE</td>\n",
       "      <td>NaN</td>\n",
       "      <td>n/a</td>\n",
       "      <td>ANDROID</td>\n",
       "      <td>SMARTPHONE</td>\n",
       "      <td>Россия</td>\n",
       "      <td>Красноярск</td>\n",
       "      <td>n/a</td>\n",
       "      <td>5-10</td>\n",
       "      <td>36+</td>\n",
       "      <td>8</td>\n",
       "      <td>passives</td>\n",
       "    </tr>\n",
       "  </tbody>\n",
       "</table>\n",
       "</div>"
      ],
      "text/plain": [
       "            id  days_of_life is_new  age gender_segment  os_type device_type  \\\n",
       "7666    AEAC2R            -8   TRUE  NaN            n/a  ANDROID  SMARTPHONE   \n",
       "53997   CS0HF8            -2   TRUE  NaN            n/a  ANDROID  SMARTPHONE   \n",
       "71577   DORPT2            -4   TRUE  NaN            n/a  ANDROID  SMARTPHONE   \n",
       "100152  F5O3CG           -21   TRUE  NaN            n/a  ANDROID  SMARTPHONE   \n",
       "103223  FBC993             0   TRUE  NaN            n/a  ANDROID  SMARTPHONE   \n",
       "228087  LSE939           -13   TRUE  NaN            n/a  ANDROID  SMARTPHONE   \n",
       "284966  OQO5GZ             0   TRUE  NaN           male  ANDROID  SMARTPHONE   \n",
       "325212  QTT7IR           -13   TRUE  NaN            n/a      IOS  SMARTPHONE   \n",
       "347784  RZUS6H            -6   TRUE  NaN            n/a  ANDROID  SMARTPHONE   \n",
       "385897  TYWQW4           -12   TRUE  NaN            n/a      IOS  SMARTPHONE   \n",
       "401226  URKAFI           -11   TRUE  NaN            n/a  ANDROID  SMARTPHONE   \n",
       "403933  UWLM0V             0   TRUE  NaN         female  ANDROID  SMARTPHONE   \n",
       "407160  V2GNK2           -13   TRUE  NaN            n/a      IOS  SMARTPHONE   \n",
       "425927  W17RFH            -1   TRUE  NaN            n/a  ANDROID  SMARTPHONE   \n",
       "455359  XKF9SN           -12   TRUE  NaN            n/a  ANDROID  SMARTPHONE   \n",
       "480641  YV6OAH             0   TRUE  NaN            n/a      IOS  SMARTPHONE   \n",
       "492382  ZGUUY9            -7   TRUE  NaN            n/a  ANDROID  SMARTPHONE   \n",
       "\n",
       "       country            city age_segment traffic_segment lifetime_segment  \\\n",
       "7666    Россия           Томск         n/a           15-20              36+   \n",
       "53997   Россия          Ижевск         n/a           20-25              36+   \n",
       "71577   Россия          Москва         n/a           20-25              36+   \n",
       "100152  Россия            Чита         n/a           35-40              36+   \n",
       "103223  Россия          Москва         n/a             1-5                1   \n",
       "228087  Россия       Краснодар         n/a           15-20              36+   \n",
       "284966  Россия           Томск         n/a           10-15                1   \n",
       "325212  Россия          Москва         n/a           10-15              36+   \n",
       "347784  Россия      Красноярск         n/a           30-35              36+   \n",
       "385897  Россия     Новосибирск         n/a             1-5              36+   \n",
       "401226  Россия  НижнийНовгород         n/a           10-15              36+   \n",
       "403933  Россия        Балашиха         n/a            5-10                1   \n",
       "407160  Россия    РостовнаДону         n/a           15-20              36+   \n",
       "425927  Россия          Москва         n/a             1-5              36+   \n",
       "455359  Россия             Уфа         n/a            100+              36+   \n",
       "480641  Россия           Томск         n/a           15-20                1   \n",
       "492382  Россия      Красноярск         n/a            5-10              36+   \n",
       "\n",
       "        nps_score   nps_group  \n",
       "7666            1  detractors  \n",
       "53997          10   promoters  \n",
       "71577           4  detractors  \n",
       "100152          7    passives  \n",
       "103223          5  detractors  \n",
       "228087          1  detractors  \n",
       "284966          8    passives  \n",
       "325212          7    passives  \n",
       "347784          3  detractors  \n",
       "385897          5  detractors  \n",
       "401226          8    passives  \n",
       "403933         10   promoters  \n",
       "407160          5  detractors  \n",
       "425927          5  detractors  \n",
       "455359          9   promoters  \n",
       "480641          9   promoters  \n",
       "492382          8    passives  "
      ]
     },
     "execution_count": 8,
     "metadata": {},
     "output_type": "execute_result"
    }
   ],
   "source": [
    "# просматриваем данные с минусовыми значениями и равными нулю\n",
    "df[df['days_of_life'] <= 0]"
   ]
  },
  {
   "cell_type": "code",
   "execution_count": 9,
   "id": "9680f9b8",
   "metadata": {},
   "outputs": [
    {
     "data": {
      "text/plain": [
       "id                  1301\n",
       "days_of_life        1301\n",
       "is_new              1301\n",
       "age                  787\n",
       "gender_segment      1301\n",
       "os_type             1301\n",
       "device_type         1301\n",
       "country             1301\n",
       "city                1301\n",
       "age_segment         1301\n",
       "traffic_segment     1301\n",
       "lifetime_segment    1301\n",
       "nps_score           1301\n",
       "nps_group           1301\n",
       "dtype: int64"
      ]
     },
     "execution_count": 9,
     "metadata": {},
     "output_type": "execute_result"
    }
   ],
   "source": [
    "# просматриваем данные, где не указан пол \n",
    "df.query('gender_segment  in (\"n/a\")').count()"
   ]
  },
  {
   "cell_type": "markdown",
   "id": "d3beb06b",
   "metadata": {},
   "source": [
    "1) Получаем список \"отрицательных\" пользователей, что можем заметить:\n",
    "\n",
    " * Помимо отрицательных, есть нулевые значения;\n",
    " * У пользователей не указан возраст;\n",
    " * Относятся к сегменту к возрастному сегменту n/a, возможно, если возраст не указан по дефолту пользователь помечается в данный сегмент;\n",
    " * Все пользователи распознаются, как новые;\n",
    " * Пользователи с отрицательными значениями помечаются, как - 36+ в лайфтайм, однако пользователи с 0, как 1.\n",
    " \n",
    "2) Так же отметим, что у некоторых пользователей не указан пол. \n",
    "\n",
    "Т.к у нас учебный проект и потери незначительны (<5%), то мы не будем корректировать, либо удалять данные, однако стоило бы заметить и обсудить это с коллегами на предмет ошибок и искажений данных в дальнейшем."
   ]
  },
  {
   "cell_type": "markdown",
   "id": "12dcbe5c",
   "metadata": {},
   "source": [
    "### Ссылки на дашборд на сайте Tableau Public и pdf-file c презентацией:"
   ]
  },
  {
   "cell_type": "markdown",
   "id": "05367fd2",
   "metadata": {},
   "source": [
    "- https://public.tableau.com/app/profile/tim21051960/viz/telecomm_csi_update/Dashboard1?publish=yes - Дашборд\n",
    "- https://disk.yandex.ru/i/N84JydCFqe3BKA - Презентация"
   ]
  }
 ],
 "metadata": {
  "ExecuteTimeLog": [
   {
    "duration": 752,
    "start_time": "2021-10-03T17:40:52.731Z"
   },
   {
    "duration": 20,
    "start_time": "2021-10-03T17:40:53.486Z"
   },
   {
    "duration": 4,
    "start_time": "2021-10-03T17:41:04.638Z"
   },
   {
    "duration": 461,
    "start_time": "2021-10-03T17:41:04.912Z"
   },
   {
    "duration": 284,
    "start_time": "2021-10-03T17:41:05.376Z"
   },
   {
    "duration": 574,
    "start_time": "2021-10-06T07:55:05.029Z"
   },
   {
    "duration": 6,
    "start_time": "2021-10-06T07:55:05.605Z"
   },
   {
    "duration": 3,
    "start_time": "2021-10-06T07:55:14.685Z"
   },
   {
    "duration": 406,
    "start_time": "2021-10-06T07:55:15.522Z"
   },
   {
    "duration": 67,
    "start_time": "2021-10-06T07:55:15.929Z"
   },
   {
    "duration": 840,
    "start_time": "2021-10-07T07:54:04.647Z"
   },
   {
    "duration": 10,
    "start_time": "2021-10-07T07:54:05.490Z"
   },
   {
    "duration": 4,
    "start_time": "2021-10-07T07:54:05.544Z"
   },
   {
    "duration": 391,
    "start_time": "2021-10-07T07:54:06.237Z"
   },
   {
    "duration": 293,
    "start_time": "2021-10-07T07:54:06.654Z"
   },
   {
    "duration": 476,
    "start_time": "2022-09-14T06:33:34.162Z"
   },
   {
    "duration": 18,
    "start_time": "2022-09-14T06:33:34.641Z"
   },
   {
    "duration": 2,
    "start_time": "2022-09-14T06:33:34.661Z"
   },
   {
    "duration": 588,
    "start_time": "2022-09-14T06:33:34.665Z"
   },
   {
    "duration": 79,
    "start_time": "2022-09-14T06:33:35.254Z"
   },
   {
    "duration": 3,
    "start_time": "2022-09-14T06:33:59.284Z"
   },
   {
    "duration": 4054,
    "start_time": "2022-09-14T06:33:59.852Z"
   },
   {
    "duration": 2092,
    "start_time": "2022-09-14T06:34:03.908Z"
   },
   {
    "duration": 3,
    "start_time": "2022-09-14T06:35:37.576Z"
   },
   {
    "duration": 454,
    "start_time": "2022-09-14T06:35:38.080Z"
   },
   {
    "duration": 2,
    "start_time": "2022-09-14T06:35:50.180Z"
   },
   {
    "duration": 358,
    "start_time": "2022-09-14T06:35:52.076Z"
   },
   {
    "duration": 2,
    "start_time": "2022-09-14T06:36:05.026Z"
   },
   {
    "duration": 364,
    "start_time": "2022-09-14T06:36:06.497Z"
   },
   {
    "duration": 2,
    "start_time": "2022-09-14T06:36:14.090Z"
   },
   {
    "duration": 1646,
    "start_time": "2022-09-14T06:36:14.768Z"
   },
   {
    "duration": 2,
    "start_time": "2022-09-14T06:37:00.376Z"
   },
   {
    "duration": 1995,
    "start_time": "2022-09-14T06:37:00.810Z"
   },
   {
    "duration": 3,
    "start_time": "2022-09-14T06:39:36.187Z"
   },
   {
    "duration": 1957,
    "start_time": "2022-09-14T06:39:36.746Z"
   },
   {
    "duration": 3,
    "start_time": "2022-09-14T06:40:01.468Z"
   },
   {
    "duration": 557,
    "start_time": "2022-09-14T06:40:01.934Z"
   },
   {
    "duration": 2,
    "start_time": "2022-09-14T06:40:17.817Z"
   },
   {
    "duration": 1909,
    "start_time": "2022-09-14T06:40:18.677Z"
   },
   {
    "duration": 512,
    "start_time": "2022-09-14T06:40:42.817Z"
   },
   {
    "duration": 8,
    "start_time": "2022-09-14T06:40:43.331Z"
   },
   {
    "duration": 13,
    "start_time": "2022-09-14T06:40:43.341Z"
   },
   {
    "duration": 2004,
    "start_time": "2022-09-14T06:40:43.355Z"
   },
   {
    "duration": 1227,
    "start_time": "2022-09-14T06:40:45.361Z"
   },
   {
    "duration": 3,
    "start_time": "2022-09-14T06:41:53.992Z"
   },
   {
    "duration": 2072,
    "start_time": "2022-09-14T06:41:54.681Z"
   },
   {
    "duration": 2,
    "start_time": "2022-09-14T06:42:24.963Z"
   },
   {
    "duration": 2332,
    "start_time": "2022-09-14T06:42:25.449Z"
   },
   {
    "duration": 4,
    "start_time": "2022-09-14T06:44:12.830Z"
   },
   {
    "duration": 2659,
    "start_time": "2022-09-14T06:44:13.295Z"
   },
   {
    "duration": 4,
    "start_time": "2022-09-14T06:46:32.462Z"
   },
   {
    "duration": 560,
    "start_time": "2022-09-14T06:46:33.415Z"
   },
   {
    "duration": 543,
    "start_time": "2022-09-14T06:46:48.503Z"
   },
   {
    "duration": 507,
    "start_time": "2022-09-14T06:48:56.189Z"
   },
   {
    "duration": 13,
    "start_time": "2022-09-14T06:48:56.698Z"
   },
   {
    "duration": 3,
    "start_time": "2022-09-14T06:48:56.712Z"
   },
   {
    "duration": 704,
    "start_time": "2022-09-14T06:48:56.717Z"
   },
   {
    "duration": 0,
    "start_time": "2022-09-14T06:48:57.422Z"
   },
   {
    "duration": 3,
    "start_time": "2022-09-14T06:49:05.202Z"
   },
   {
    "duration": 2586,
    "start_time": "2022-09-14T06:49:05.527Z"
   },
   {
    "duration": 1761,
    "start_time": "2022-09-14T06:49:08.115Z"
   },
   {
    "duration": 2,
    "start_time": "2022-09-14T06:54:55.042Z"
   },
   {
    "duration": 1797,
    "start_time": "2022-09-14T06:54:55.512Z"
   },
   {
    "duration": 1044,
    "start_time": "2022-09-14T06:54:57.311Z"
   },
   {
    "duration": 3,
    "start_time": "2022-09-14T07:03:01.253Z"
   },
   {
    "duration": 452,
    "start_time": "2022-09-14T07:03:01.790Z"
   },
   {
    "duration": 3,
    "start_time": "2022-09-14T07:03:45.618Z"
   },
   {
    "duration": 382,
    "start_time": "2022-09-14T07:03:46.082Z"
   },
   {
    "duration": 2,
    "start_time": "2022-09-14T07:04:11.289Z"
   },
   {
    "duration": 409,
    "start_time": "2022-09-14T07:04:11.730Z"
   },
   {
    "duration": 3,
    "start_time": "2022-09-14T07:06:42.382Z"
   },
   {
    "duration": 393,
    "start_time": "2022-09-14T07:06:42.823Z"
   },
   {
    "duration": 3,
    "start_time": "2022-09-14T07:06:54.417Z"
   },
   {
    "duration": 558,
    "start_time": "2022-09-14T07:06:55.265Z"
   },
   {
    "duration": 2,
    "start_time": "2022-09-14T07:07:11.075Z"
   },
   {
    "duration": 2180,
    "start_time": "2022-09-14T07:07:11.485Z"
   },
   {
    "duration": 2,
    "start_time": "2022-09-14T07:09:04.302Z"
   },
   {
    "duration": 2246,
    "start_time": "2022-09-14T07:09:04.674Z"
   },
   {
    "duration": 2,
    "start_time": "2022-09-14T07:09:44.426Z"
   },
   {
    "duration": 2541,
    "start_time": "2022-09-14T07:09:44.781Z"
   },
   {
    "duration": 435,
    "start_time": "2022-09-14T07:21:49.862Z"
   },
   {
    "duration": 14,
    "start_time": "2022-09-14T07:21:50.299Z"
   },
   {
    "duration": 3,
    "start_time": "2022-09-14T07:21:50.314Z"
   },
   {
    "duration": 3084,
    "start_time": "2022-09-14T07:21:50.319Z"
   },
   {
    "duration": 2244,
    "start_time": "2022-09-14T07:21:53.405Z"
   },
   {
    "duration": 452,
    "start_time": "2022-09-14T07:22:49.457Z"
   },
   {
    "duration": 9,
    "start_time": "2022-09-14T07:22:49.911Z"
   },
   {
    "duration": 3,
    "start_time": "2022-09-14T07:22:49.921Z"
   },
   {
    "duration": 3269,
    "start_time": "2022-09-14T07:22:49.925Z"
   },
   {
    "duration": 2674,
    "start_time": "2022-09-14T07:22:53.197Z"
   },
   {
    "duration": 446,
    "start_time": "2022-09-14T07:24:36.262Z"
   },
   {
    "duration": 9,
    "start_time": "2022-09-14T07:24:36.709Z"
   },
   {
    "duration": 3,
    "start_time": "2022-09-14T07:24:36.720Z"
   },
   {
    "duration": 3308,
    "start_time": "2022-09-14T07:24:36.724Z"
   },
   {
    "duration": 2575,
    "start_time": "2022-09-14T07:24:40.034Z"
   },
   {
    "duration": 493,
    "start_time": "2022-09-14T07:25:25.057Z"
   },
   {
    "duration": 9,
    "start_time": "2022-09-14T07:25:25.552Z"
   },
   {
    "duration": 3,
    "start_time": "2022-09-14T07:25:25.562Z"
   },
   {
    "duration": 3645,
    "start_time": "2022-09-14T07:25:25.567Z"
   },
   {
    "duration": 3200,
    "start_time": "2022-09-14T07:25:29.213Z"
   },
   {
    "duration": 520,
    "start_time": "2022-09-14T07:27:33.108Z"
   },
   {
    "duration": 9,
    "start_time": "2022-09-14T07:27:33.632Z"
   },
   {
    "duration": 7,
    "start_time": "2022-09-14T07:27:33.643Z"
   },
   {
    "duration": 3262,
    "start_time": "2022-09-14T07:27:33.652Z"
   },
   {
    "duration": 2571,
    "start_time": "2022-09-14T07:27:36.915Z"
   },
   {
    "duration": 2,
    "start_time": "2022-09-14T07:31:30.143Z"
   },
   {
    "duration": 566,
    "start_time": "2022-09-14T07:31:30.575Z"
   },
   {
    "duration": 3,
    "start_time": "2022-09-14T07:31:48.175Z"
   },
   {
    "duration": 3544,
    "start_time": "2022-09-14T07:31:48.592Z"
   },
   {
    "duration": 2,
    "start_time": "2022-09-14T07:32:05.067Z"
   },
   {
    "duration": 3982,
    "start_time": "2022-09-14T07:32:06.567Z"
   },
   {
    "duration": 3,
    "start_time": "2022-09-14T07:32:33.450Z"
   },
   {
    "duration": 3487,
    "start_time": "2022-09-14T07:32:33.867Z"
   },
   {
    "duration": 3,
    "start_time": "2022-09-14T07:40:47.560Z"
   },
   {
    "duration": 3603,
    "start_time": "2022-09-14T07:40:48.095Z"
   },
   {
    "duration": 3,
    "start_time": "2022-09-14T07:41:17.556Z"
   },
   {
    "duration": 4006,
    "start_time": "2022-09-14T07:41:25.217Z"
   },
   {
    "duration": 4348,
    "start_time": "2022-09-14T07:42:39.490Z"
   },
   {
    "duration": 3,
    "start_time": "2022-09-14T07:43:50.188Z"
   },
   {
    "duration": 572,
    "start_time": "2022-09-14T07:43:50.701Z"
   },
   {
    "duration": 0,
    "start_time": "2022-09-14T07:43:51.275Z"
   },
   {
    "duration": 3,
    "start_time": "2022-09-14T07:44:06.578Z"
   },
   {
    "duration": 4080,
    "start_time": "2022-09-14T07:44:07.030Z"
   },
   {
    "duration": 467,
    "start_time": "2022-09-14T07:49:49.442Z"
   },
   {
    "duration": 8,
    "start_time": "2022-09-14T07:49:49.911Z"
   },
   {
    "duration": 5,
    "start_time": "2022-09-14T07:49:49.920Z"
   },
   {
    "duration": 4263,
    "start_time": "2022-09-14T07:49:49.926Z"
   },
   {
    "duration": 3413,
    "start_time": "2022-09-14T07:49:54.191Z"
   },
   {
    "duration": 477,
    "start_time": "2022-09-14T07:51:20.171Z"
   },
   {
    "duration": 8,
    "start_time": "2022-09-14T07:51:20.650Z"
   },
   {
    "duration": 17,
    "start_time": "2022-09-14T07:51:20.659Z"
   },
   {
    "duration": 4228,
    "start_time": "2022-09-14T07:51:20.678Z"
   },
   {
    "duration": 3583,
    "start_time": "2022-09-14T07:51:24.908Z"
   },
   {
    "duration": 504,
    "start_time": "2022-09-14T07:52:11.883Z"
   },
   {
    "duration": 8,
    "start_time": "2022-09-14T07:52:12.389Z"
   },
   {
    "duration": 4,
    "start_time": "2022-09-14T07:52:12.399Z"
   },
   {
    "duration": 4389,
    "start_time": "2022-09-14T07:52:12.409Z"
   },
   {
    "duration": 3811,
    "start_time": "2022-09-14T07:52:16.800Z"
   },
   {
    "duration": 3,
    "start_time": "2022-09-14T07:55:26.859Z"
   },
   {
    "duration": 546,
    "start_time": "2022-09-14T07:55:27.363Z"
   },
   {
    "duration": 3,
    "start_time": "2022-09-14T07:55:56.570Z"
   },
   {
    "duration": 644,
    "start_time": "2022-09-14T07:55:57.203Z"
   },
   {
    "duration": 2,
    "start_time": "2022-09-14T08:05:31.323Z"
   },
   {
    "duration": 597,
    "start_time": "2022-09-14T08:05:31.843Z"
   },
   {
    "duration": 3,
    "start_time": "2022-09-14T08:05:55.590Z"
   },
   {
    "duration": 3921,
    "start_time": "2022-09-14T08:05:56.820Z"
   },
   {
    "duration": 3,
    "start_time": "2022-09-14T08:08:32.753Z"
   },
   {
    "duration": 637,
    "start_time": "2022-09-14T08:08:33.170Z"
   },
   {
    "duration": 2,
    "start_time": "2022-09-14T08:10:32.283Z"
   },
   {
    "duration": 3999,
    "start_time": "2022-09-14T08:10:32.767Z"
   },
   {
    "duration": 2,
    "start_time": "2022-09-14T08:13:00.123Z"
   },
   {
    "duration": 562,
    "start_time": "2022-09-14T08:13:00.564Z"
   },
   {
    "duration": 3,
    "start_time": "2022-09-14T08:43:39.971Z"
   },
   {
    "duration": 484,
    "start_time": "2022-09-14T08:43:40.410Z"
   },
   {
    "duration": 3,
    "start_time": "2022-09-14T08:45:20.872Z"
   },
   {
    "duration": 3820,
    "start_time": "2022-09-14T08:45:22.592Z"
   },
   {
    "duration": 497,
    "start_time": "2022-09-14T08:48:48.624Z"
   },
   {
    "duration": 9,
    "start_time": "2022-09-14T08:48:49.123Z"
   },
   {
    "duration": 2,
    "start_time": "2022-09-14T08:48:49.133Z"
   },
   {
    "duration": 4163,
    "start_time": "2022-09-14T08:48:49.137Z"
   },
   {
    "duration": 3522,
    "start_time": "2022-09-14T08:48:53.302Z"
   },
   {
    "duration": 3,
    "start_time": "2022-09-14T08:49:20.031Z"
   },
   {
    "duration": 3984,
    "start_time": "2022-09-14T08:49:20.415Z"
   },
   {
    "duration": 3,
    "start_time": "2022-09-14T08:49:34.949Z"
   },
   {
    "duration": 4145,
    "start_time": "2022-09-14T08:49:35.615Z"
   },
   {
    "duration": 2,
    "start_time": "2022-09-14T08:56:25.168Z"
   },
   {
    "duration": 4353,
    "start_time": "2022-09-14T08:56:25.608Z"
   },
   {
    "duration": 477,
    "start_time": "2022-09-14T08:57:01.072Z"
   },
   {
    "duration": 9,
    "start_time": "2022-09-14T08:57:01.551Z"
   },
   {
    "duration": 6,
    "start_time": "2022-09-14T08:57:01.562Z"
   },
   {
    "duration": 4472,
    "start_time": "2022-09-14T08:57:01.569Z"
   },
   {
    "duration": 3532,
    "start_time": "2022-09-14T08:57:06.042Z"
   },
   {
    "duration": 3,
    "start_time": "2022-09-14T08:59:49.647Z"
   },
   {
    "duration": 560,
    "start_time": "2022-09-14T08:59:51.513Z"
   },
   {
    "duration": 490,
    "start_time": "2022-09-14T09:04:22.551Z"
   },
   {
    "duration": 8,
    "start_time": "2022-09-14T09:04:23.043Z"
   },
   {
    "duration": 8,
    "start_time": "2022-09-14T09:04:23.052Z"
   },
   {
    "duration": 586,
    "start_time": "2022-09-14T09:04:23.062Z"
   },
   {
    "duration": 177,
    "start_time": "2022-09-14T09:04:23.649Z"
   },
   {
    "duration": 4,
    "start_time": "2022-09-14T09:04:38.243Z"
   },
   {
    "duration": 565,
    "start_time": "2022-09-14T09:04:38.676Z"
   },
   {
    "duration": 2,
    "start_time": "2022-09-14T09:07:43.863Z"
   },
   {
    "duration": 562,
    "start_time": "2022-09-14T09:07:44.834Z"
   },
   {
    "duration": 2,
    "start_time": "2022-09-14T09:09:28.760Z"
   },
   {
    "duration": 568,
    "start_time": "2022-09-14T09:09:29.910Z"
   },
   {
    "duration": 552,
    "start_time": "2022-09-14T09:09:39.011Z"
   },
   {
    "duration": 2,
    "start_time": "2022-09-14T09:20:58.967Z"
   },
   {
    "duration": 521,
    "start_time": "2022-09-14T09:20:59.105Z"
   },
   {
    "duration": 2,
    "start_time": "2022-09-14T09:21:49.243Z"
   },
   {
    "duration": 4712,
    "start_time": "2022-09-14T09:21:49.714Z"
   },
   {
    "duration": 3,
    "start_time": "2022-09-14T09:23:03.555Z"
   },
   {
    "duration": 511,
    "start_time": "2022-09-14T09:23:03.978Z"
   },
   {
    "duration": 3,
    "start_time": "2022-09-14T09:23:47.503Z"
   },
   {
    "duration": 610,
    "start_time": "2022-09-14T09:23:48.022Z"
   },
   {
    "duration": 3,
    "start_time": "2022-09-14T09:26:52.312Z"
   },
   {
    "duration": 3,
    "start_time": "2022-09-14T09:27:01.632Z"
   },
   {
    "duration": 4514,
    "start_time": "2022-09-14T09:27:01.786Z"
   },
   {
    "duration": 2,
    "start_time": "2022-09-14T09:27:51.960Z"
   },
   {
    "duration": 4509,
    "start_time": "2022-09-14T09:27:52.280Z"
   },
   {
    "duration": 2,
    "start_time": "2022-09-14T09:41:55.101Z"
   },
   {
    "duration": 556,
    "start_time": "2022-09-14T09:41:55.722Z"
   },
   {
    "duration": 4,
    "start_time": "2022-09-14T09:42:30.154Z"
   },
   {
    "duration": 911,
    "start_time": "2022-09-14T09:42:30.700Z"
   },
   {
    "duration": 660,
    "start_time": "2022-09-14T09:42:43.750Z"
   },
   {
    "duration": 2,
    "start_time": "2022-09-14T09:46:02.407Z"
   },
   {
    "duration": 592,
    "start_time": "2022-09-14T09:46:02.849Z"
   },
   {
    "duration": 3,
    "start_time": "2022-09-14T09:48:12.740Z"
   },
   {
    "duration": 626,
    "start_time": "2022-09-14T09:48:13.237Z"
   },
   {
    "duration": 2,
    "start_time": "2022-09-14T09:49:07.112Z"
   },
   {
    "duration": 4486,
    "start_time": "2022-09-14T09:49:07.369Z"
   },
   {
    "duration": 3,
    "start_time": "2022-09-14T09:54:39.791Z"
   },
   {
    "duration": 4722,
    "start_time": "2022-09-14T09:54:41.097Z"
   },
   {
    "duration": 3,
    "start_time": "2022-09-14T10:09:42.414Z"
   },
   {
    "duration": 4556,
    "start_time": "2022-09-14T10:09:42.626Z"
   },
   {
    "duration": 4,
    "start_time": "2022-09-14T10:10:33.877Z"
   },
   {
    "duration": 4046,
    "start_time": "2022-09-14T10:10:35.789Z"
   },
   {
    "duration": 2,
    "start_time": "2022-09-14T10:12:36.608Z"
   },
   {
    "duration": 4296,
    "start_time": "2022-09-14T10:12:36.971Z"
   },
   {
    "duration": 3,
    "start_time": "2022-09-14T10:31:31.401Z"
   },
   {
    "duration": 526,
    "start_time": "2022-09-14T10:31:51.807Z"
   },
   {
    "duration": 17,
    "start_time": "2022-09-14T10:31:52.334Z"
   },
   {
    "duration": 2,
    "start_time": "2022-09-14T10:31:52.353Z"
   },
   {
    "duration": 5456,
    "start_time": "2022-09-14T10:31:52.356Z"
   },
   {
    "duration": 4183,
    "start_time": "2022-09-14T10:31:57.816Z"
   },
   {
    "duration": 4704,
    "start_time": "2022-09-14T10:32:26.698Z"
   },
   {
    "duration": 474,
    "start_time": "2022-09-14T10:40:33.257Z"
   },
   {
    "duration": 9,
    "start_time": "2022-09-14T10:40:33.733Z"
   },
   {
    "duration": 4,
    "start_time": "2022-09-14T10:40:33.743Z"
   },
   {
    "duration": 4782,
    "start_time": "2022-09-14T10:40:33.748Z"
   },
   {
    "duration": 2899,
    "start_time": "2022-09-14T10:40:38.532Z"
   },
   {
    "duration": 75,
    "start_time": "2022-09-14T10:50:57.496Z"
   },
   {
    "duration": 7,
    "start_time": "2022-09-14T10:51:48.183Z"
   },
   {
    "duration": 6,
    "start_time": "2022-09-14T10:51:58.238Z"
   },
   {
    "duration": 480,
    "start_time": "2022-09-14T10:52:10.346Z"
   },
   {
    "duration": 9,
    "start_time": "2022-09-14T10:52:10.830Z"
   },
   {
    "duration": 4,
    "start_time": "2022-09-14T10:52:10.840Z"
   },
   {
    "duration": 5113,
    "start_time": "2022-09-14T10:52:10.846Z"
   },
   {
    "duration": 4409,
    "start_time": "2022-09-14T10:52:15.961Z"
   },
   {
    "duration": 3,
    "start_time": "2022-09-14T10:52:20.371Z"
   },
   {
    "duration": 500,
    "start_time": "2022-09-14T10:52:35.110Z"
   },
   {
    "duration": 3,
    "start_time": "2022-09-14T10:53:32.676Z"
   },
   {
    "duration": 531,
    "start_time": "2022-09-14T10:53:33.239Z"
   },
   {
    "duration": 468,
    "start_time": "2022-09-15T08:57:16.403Z"
   },
   {
    "duration": 11,
    "start_time": "2022-09-15T08:57:16.873Z"
   },
   {
    "duration": 4,
    "start_time": "2022-09-15T08:57:16.885Z"
   },
   {
    "duration": 5001,
    "start_time": "2022-09-15T08:57:16.890Z"
   },
   {
    "duration": 4133,
    "start_time": "2022-09-15T08:57:21.893Z"
   },
   {
    "duration": 3,
    "start_time": "2022-09-15T08:57:26.027Z"
   },
   {
    "duration": 830,
    "start_time": "2022-09-15T08:57:26.032Z"
   },
   {
    "duration": 3,
    "start_time": "2022-09-15T09:10:22.946Z"
   },
   {
    "duration": 571,
    "start_time": "2022-09-15T09:10:23.453Z"
   },
   {
    "duration": 2,
    "start_time": "2022-09-15T09:10:46.923Z"
   },
   {
    "duration": 566,
    "start_time": "2022-09-15T09:10:47.704Z"
   },
   {
    "duration": 70,
    "start_time": "2022-09-15T09:11:06.648Z"
   },
   {
    "duration": 93,
    "start_time": "2022-09-15T09:11:13.046Z"
   },
   {
    "duration": 572,
    "start_time": "2022-09-15T09:11:13.575Z"
   },
   {
    "duration": 2,
    "start_time": "2022-09-15T09:11:55.391Z"
   },
   {
    "duration": 70,
    "start_time": "2022-09-15T09:11:56.148Z"
   },
   {
    "duration": 3,
    "start_time": "2022-09-15T09:12:15.609Z"
   },
   {
    "duration": 55,
    "start_time": "2022-09-15T09:12:16.346Z"
   },
   {
    "duration": 3,
    "start_time": "2022-09-15T09:12:19.445Z"
   },
   {
    "duration": 58,
    "start_time": "2022-09-15T09:12:19.776Z"
   },
   {
    "duration": 3,
    "start_time": "2022-09-15T09:15:26.711Z"
   },
   {
    "duration": 2,
    "start_time": "2022-09-15T09:15:27.177Z"
   },
   {
    "duration": 3,
    "start_time": "2022-09-15T09:26:34.286Z"
   },
   {
    "duration": 552,
    "start_time": "2022-09-15T09:26:34.791Z"
   },
   {
    "duration": 4,
    "start_time": "2022-09-15T09:26:54.615Z"
   },
   {
    "duration": 499,
    "start_time": "2022-09-15T09:26:55.335Z"
   },
   {
    "duration": 3,
    "start_time": "2022-09-15T09:27:16.174Z"
   },
   {
    "duration": 528,
    "start_time": "2022-09-15T09:27:17.212Z"
   },
   {
    "duration": 84,
    "start_time": "2022-09-15T09:28:08.316Z"
   },
   {
    "duration": 488,
    "start_time": "2022-09-15T09:28:09.071Z"
   },
   {
    "duration": 2,
    "start_time": "2022-09-15T09:28:30.666Z"
   },
   {
    "duration": 485,
    "start_time": "2022-09-15T09:28:31.255Z"
   },
   {
    "duration": 2,
    "start_time": "2022-09-15T09:28:38.886Z"
   },
   {
    "duration": 503,
    "start_time": "2022-09-15T09:28:39.401Z"
   },
   {
    "duration": 3,
    "start_time": "2022-09-15T09:28:58.453Z"
   },
   {
    "duration": 509,
    "start_time": "2022-09-15T09:28:59.058Z"
   },
   {
    "duration": 3,
    "start_time": "2022-09-15T09:29:11.371Z"
   },
   {
    "duration": 518,
    "start_time": "2022-09-15T09:29:11.792Z"
   },
   {
    "duration": 2,
    "start_time": "2022-09-15T09:30:15.755Z"
   },
   {
    "duration": 493,
    "start_time": "2022-09-15T09:30:16.191Z"
   },
   {
    "duration": 3,
    "start_time": "2022-09-15T09:30:26.116Z"
   },
   {
    "duration": 509,
    "start_time": "2022-09-15T09:30:26.875Z"
   },
   {
    "duration": 2,
    "start_time": "2022-09-15T09:30:46.117Z"
   },
   {
    "duration": 495,
    "start_time": "2022-09-15T09:30:46.590Z"
   },
   {
    "duration": 64,
    "start_time": "2022-09-15T09:45:41.869Z"
   },
   {
    "duration": 92,
    "start_time": "2022-09-15T09:47:03.763Z"
   },
   {
    "duration": 65,
    "start_time": "2022-09-15T09:47:24.787Z"
   },
   {
    "duration": 70,
    "start_time": "2022-09-15T09:47:50.669Z"
   },
   {
    "duration": 535,
    "start_time": "2022-09-15T09:48:02.425Z"
   },
   {
    "duration": 62,
    "start_time": "2022-09-15T09:48:21.669Z"
   },
   {
    "duration": 506,
    "start_time": "2022-09-15T09:48:23.835Z"
   },
   {
    "duration": 10,
    "start_time": "2022-09-15T09:54:52.669Z"
   },
   {
    "duration": 5,
    "start_time": "2022-09-15T09:55:04.300Z"
   },
   {
    "duration": 15,
    "start_time": "2022-09-15T09:55:16.325Z"
   },
   {
    "duration": 8,
    "start_time": "2022-09-15T09:55:33.418Z"
   },
   {
    "duration": 15,
    "start_time": "2022-09-15T09:55:59.724Z"
   },
   {
    "duration": 63,
    "start_time": "2022-09-15T10:15:33.038Z"
   },
   {
    "duration": 83,
    "start_time": "2022-09-15T10:15:45.502Z"
   },
   {
    "duration": 82,
    "start_time": "2022-09-15T10:16:14.488Z"
   },
   {
    "duration": 65,
    "start_time": "2022-09-15T10:20:00.252Z"
   },
   {
    "duration": 58,
    "start_time": "2022-09-15T10:20:20.830Z"
   },
   {
    "duration": 84,
    "start_time": "2022-09-15T10:20:30.802Z"
   },
   {
    "duration": 9,
    "start_time": "2022-09-15T10:22:18.455Z"
   },
   {
    "duration": 8,
    "start_time": "2022-09-15T10:22:23.998Z"
   },
   {
    "duration": 165,
    "start_time": "2022-09-15T10:22:48.842Z"
   },
   {
    "duration": 510,
    "start_time": "2022-09-15T10:23:39.547Z"
   },
   {
    "duration": 17,
    "start_time": "2022-09-15T10:24:52.911Z"
   },
   {
    "duration": 9,
    "start_time": "2022-09-15T10:25:06.054Z"
   },
   {
    "duration": 17,
    "start_time": "2022-09-15T10:25:17.155Z"
   },
   {
    "duration": 499,
    "start_time": "2022-09-15T10:26:58.602Z"
   },
   {
    "duration": 9,
    "start_time": "2022-09-15T10:26:59.102Z"
   },
   {
    "duration": 3,
    "start_time": "2022-09-15T10:26:59.113Z"
   },
   {
    "duration": 5500,
    "start_time": "2022-09-15T10:26:59.118Z"
   },
   {
    "duration": 4472,
    "start_time": "2022-09-15T10:27:04.620Z"
   },
   {
    "duration": 73,
    "start_time": "2022-09-15T10:27:09.093Z"
   },
   {
    "duration": 1316,
    "start_time": "2022-09-15T10:27:09.167Z"
   },
   {
    "duration": 21,
    "start_time": "2022-09-15T10:27:10.489Z"
   },
   {
    "duration": 523,
    "start_time": "2022-09-15T10:27:10.511Z"
   },
   {
    "duration": 312,
    "start_time": "2022-09-15T10:45:34.853Z"
   },
   {
    "duration": 71,
    "start_time": "2022-09-15T10:46:31.441Z"
   },
   {
    "duration": 68,
    "start_time": "2022-09-15T10:54:00.753Z"
   },
   {
    "duration": 38,
    "start_time": "2022-09-15T10:54:12.188Z"
   },
   {
    "duration": 485,
    "start_time": "2022-09-15T13:40:57.350Z"
   },
   {
    "duration": 21,
    "start_time": "2022-09-15T13:40:57.837Z"
   },
   {
    "duration": 3,
    "start_time": "2022-09-15T13:40:57.860Z"
   },
   {
    "duration": 5432,
    "start_time": "2022-09-15T13:40:57.864Z"
   },
   {
    "duration": 3983,
    "start_time": "2022-09-15T13:41:03.298Z"
   },
   {
    "duration": 81,
    "start_time": "2022-09-15T13:41:07.283Z"
   },
   {
    "duration": 1216,
    "start_time": "2022-09-15T13:41:07.366Z"
   },
   {
    "duration": 26,
    "start_time": "2022-09-15T13:41:08.584Z"
   },
   {
    "duration": 494,
    "start_time": "2022-09-21T14:11:53.455Z"
   },
   {
    "duration": 20,
    "start_time": "2022-09-21T14:11:53.952Z"
   },
   {
    "duration": 4,
    "start_time": "2022-09-21T14:11:53.973Z"
   },
   {
    "duration": 5357,
    "start_time": "2022-09-21T14:11:53.979Z"
   },
   {
    "duration": 4883,
    "start_time": "2022-09-21T14:11:59.338Z"
   },
   {
    "duration": 70,
    "start_time": "2022-09-21T14:12:04.222Z"
   },
   {
    "duration": 1212,
    "start_time": "2022-09-21T14:12:04.293Z"
   },
   {
    "duration": 29,
    "start_time": "2022-09-21T14:12:05.506Z"
   },
   {
    "duration": 467,
    "start_time": "2022-09-26T12:55:24.163Z"
   },
   {
    "duration": 18,
    "start_time": "2022-09-26T12:55:24.631Z"
   },
   {
    "duration": 4,
    "start_time": "2022-09-26T12:55:24.650Z"
   },
   {
    "duration": 4965,
    "start_time": "2022-09-26T12:55:24.655Z"
   },
   {
    "duration": 3676,
    "start_time": "2022-09-26T12:55:29.622Z"
   },
   {
    "duration": 67,
    "start_time": "2022-09-26T12:55:33.300Z"
   },
   {
    "duration": 1187,
    "start_time": "2022-09-26T12:55:33.368Z"
   },
   {
    "duration": 18,
    "start_time": "2022-09-26T12:55:34.557Z"
   },
   {
    "duration": 474,
    "start_time": "2022-09-27T04:53:29.409Z"
   },
   {
    "duration": 10,
    "start_time": "2022-09-27T04:53:29.885Z"
   },
   {
    "duration": 4,
    "start_time": "2022-09-27T04:53:29.896Z"
   },
   {
    "duration": 696,
    "start_time": "2022-09-27T04:53:29.902Z"
   },
   {
    "duration": 0,
    "start_time": "2022-09-27T04:53:30.600Z"
   },
   {
    "duration": 0,
    "start_time": "2022-09-27T04:53:30.601Z"
   },
   {
    "duration": 1,
    "start_time": "2022-09-27T04:53:30.602Z"
   },
   {
    "duration": 0,
    "start_time": "2022-09-27T04:53:30.603Z"
   },
   {
    "duration": 3,
    "start_time": "2022-09-27T04:53:56.577Z"
   },
   {
    "duration": 5852,
    "start_time": "2022-09-27T04:54:01.141Z"
   },
   {
    "duration": 3,
    "start_time": "2022-09-27T04:55:23.461Z"
   },
   {
    "duration": 5448,
    "start_time": "2022-09-27T04:55:24.435Z"
   },
   {
    "duration": 3,
    "start_time": "2022-09-27T04:55:48.432Z"
   },
   {
    "duration": 5458,
    "start_time": "2022-09-27T04:55:49.276Z"
   },
   {
    "duration": 4,
    "start_time": "2022-09-27T04:56:17.365Z"
   },
   {
    "duration": 5433,
    "start_time": "2022-09-27T04:56:18.373Z"
   },
   {
    "duration": 4,
    "start_time": "2022-09-27T04:56:54.722Z"
   },
   {
    "duration": 5505,
    "start_time": "2022-09-27T04:56:56.058Z"
   },
   {
    "duration": 3,
    "start_time": "2022-09-27T04:57:10.864Z"
   },
   {
    "duration": 5510,
    "start_time": "2022-09-27T04:57:11.780Z"
   },
   {
    "duration": 543,
    "start_time": "2022-09-27T04:57:26.393Z"
   },
   {
    "duration": 10,
    "start_time": "2022-09-27T04:57:26.938Z"
   },
   {
    "duration": 4,
    "start_time": "2022-09-27T04:57:26.953Z"
   },
   {
    "duration": 5718,
    "start_time": "2022-09-27T04:57:26.958Z"
   },
   {
    "duration": 3634,
    "start_time": "2022-09-27T04:57:32.680Z"
   },
   {
    "duration": 55,
    "start_time": "2022-09-27T04:57:36.316Z"
   },
   {
    "duration": 1252,
    "start_time": "2022-09-27T04:57:36.372Z"
   },
   {
    "duration": 29,
    "start_time": "2022-09-27T04:57:37.626Z"
   },
   {
    "duration": 4,
    "start_time": "2022-09-27T04:58:28.997Z"
   },
   {
    "duration": 5928,
    "start_time": "2022-09-27T04:58:29.767Z"
   },
   {
    "duration": 3,
    "start_time": "2022-09-27T04:59:16.920Z"
   },
   {
    "duration": 5443,
    "start_time": "2022-09-27T04:59:18.212Z"
   },
   {
    "duration": 601,
    "start_time": "2022-09-27T04:59:31.690Z"
   },
   {
    "duration": 9,
    "start_time": "2022-09-27T04:59:32.293Z"
   },
   {
    "duration": 3,
    "start_time": "2022-09-27T04:59:32.304Z"
   },
   {
    "duration": 5595,
    "start_time": "2022-09-27T04:59:32.309Z"
   },
   {
    "duration": 3861,
    "start_time": "2022-09-27T04:59:37.907Z"
   },
   {
    "duration": 54,
    "start_time": "2022-09-27T04:59:41.770Z"
   },
   {
    "duration": 1343,
    "start_time": "2022-09-27T04:59:41.825Z"
   },
   {
    "duration": 20,
    "start_time": "2022-09-27T04:59:43.170Z"
   },
   {
    "duration": 556,
    "start_time": "2022-09-27T05:00:11.833Z"
   },
   {
    "duration": 10,
    "start_time": "2022-09-27T05:00:12.391Z"
   },
   {
    "duration": 3,
    "start_time": "2022-09-27T05:00:12.403Z"
   },
   {
    "duration": 5951,
    "start_time": "2022-09-27T05:00:12.408Z"
   },
   {
    "duration": 4517,
    "start_time": "2022-09-27T05:00:18.361Z"
   },
   {
    "duration": 50,
    "start_time": "2022-09-27T05:00:22.880Z"
   },
   {
    "duration": 1458,
    "start_time": "2022-09-27T05:00:22.932Z"
   },
   {
    "duration": 24,
    "start_time": "2022-09-27T05:00:24.393Z"
   },
   {
    "duration": 4,
    "start_time": "2022-09-27T05:00:43.461Z"
   },
   {
    "duration": 5694,
    "start_time": "2022-09-27T05:00:44.577Z"
   },
   {
    "duration": 511,
    "start_time": "2022-09-27T05:01:00.884Z"
   },
   {
    "duration": 11,
    "start_time": "2022-09-27T05:01:01.397Z"
   },
   {
    "duration": 48,
    "start_time": "2022-09-27T05:01:01.409Z"
   },
   {
    "duration": 6089,
    "start_time": "2022-09-27T05:01:01.460Z"
   },
   {
    "duration": 4053,
    "start_time": "2022-09-27T05:01:07.551Z"
   },
   {
    "duration": 64,
    "start_time": "2022-09-27T05:01:11.607Z"
   },
   {
    "duration": 1434,
    "start_time": "2022-09-27T05:01:11.673Z"
   },
   {
    "duration": 21,
    "start_time": "2022-09-27T05:01:13.109Z"
   },
   {
    "duration": 3,
    "start_time": "2022-09-27T05:02:53.714Z"
   },
   {
    "duration": 5919,
    "start_time": "2022-09-27T05:02:54.743Z"
   },
   {
    "duration": 3,
    "start_time": "2022-09-27T05:03:11.944Z"
   },
   {
    "duration": 5737,
    "start_time": "2022-09-27T05:03:12.753Z"
   },
   {
    "duration": 3,
    "start_time": "2022-09-27T05:03:47.001Z"
   },
   {
    "duration": 5704,
    "start_time": "2022-09-27T05:03:47.869Z"
   },
   {
    "duration": 4,
    "start_time": "2022-09-27T05:05:04.931Z"
   },
   {
    "duration": 533,
    "start_time": "2022-09-27T05:05:06.598Z"
   },
   {
    "duration": 0,
    "start_time": "2022-09-27T05:08:26.184Z"
   },
   {
    "duration": 0,
    "start_time": "2022-09-27T05:08:26.185Z"
   },
   {
    "duration": 0,
    "start_time": "2022-09-27T05:08:26.187Z"
   },
   {
    "duration": 517,
    "start_time": "2022-09-27T05:08:26.282Z"
   },
   {
    "duration": 10,
    "start_time": "2022-09-27T05:08:26.801Z"
   },
   {
    "duration": 11,
    "start_time": "2022-09-27T05:08:26.812Z"
   },
   {
    "duration": 603,
    "start_time": "2022-09-27T05:08:26.825Z"
   },
   {
    "duration": 0,
    "start_time": "2022-09-27T05:08:27.430Z"
   },
   {
    "duration": 0,
    "start_time": "2022-09-27T05:08:27.432Z"
   },
   {
    "duration": 0,
    "start_time": "2022-09-27T05:08:27.433Z"
   },
   {
    "duration": 0,
    "start_time": "2022-09-27T05:08:27.434Z"
   },
   {
    "duration": 3,
    "start_time": "2022-09-27T05:08:36.312Z"
   },
   {
    "duration": 5506,
    "start_time": "2022-09-27T05:08:37.284Z"
   },
   {
    "duration": 492,
    "start_time": "2022-09-27T05:08:55.099Z"
   },
   {
    "duration": 11,
    "start_time": "2022-09-27T05:08:55.594Z"
   },
   {
    "duration": 6,
    "start_time": "2022-09-27T05:08:55.607Z"
   },
   {
    "duration": 5545,
    "start_time": "2022-09-27T05:08:55.615Z"
   },
   {
    "duration": 4128,
    "start_time": "2022-09-27T05:09:01.162Z"
   },
   {
    "duration": 83,
    "start_time": "2022-09-27T05:09:05.292Z"
   },
   {
    "duration": 1321,
    "start_time": "2022-09-27T05:09:05.377Z"
   },
   {
    "duration": 20,
    "start_time": "2022-09-27T05:09:06.700Z"
   },
   {
    "duration": 569,
    "start_time": "2022-09-27T05:11:20.614Z"
   },
   {
    "duration": 10,
    "start_time": "2022-09-27T05:11:21.185Z"
   },
   {
    "duration": 6,
    "start_time": "2022-09-27T05:11:21.196Z"
   },
   {
    "duration": 5935,
    "start_time": "2022-09-27T05:11:21.204Z"
   },
   {
    "duration": 5377,
    "start_time": "2022-09-27T05:11:27.142Z"
   },
   {
    "duration": 96,
    "start_time": "2022-09-27T05:11:32.521Z"
   },
   {
    "duration": 671,
    "start_time": "2022-09-27T05:11:32.619Z"
   },
   {
    "duration": 22,
    "start_time": "2022-09-27T05:11:33.292Z"
   },
   {
    "duration": 4,
    "start_time": "2022-09-27T05:11:49.935Z"
   },
   {
    "duration": 5417,
    "start_time": "2022-09-27T05:11:51.165Z"
   },
   {
    "duration": 3782,
    "start_time": "2022-09-27T05:11:56.584Z"
   },
   {
    "duration": 4,
    "start_time": "2022-09-27T05:12:12.934Z"
   },
   {
    "duration": 5441,
    "start_time": "2022-09-27T05:12:13.583Z"
   },
   {
    "duration": 3,
    "start_time": "2022-09-27T05:12:29.728Z"
   },
   {
    "duration": 5532,
    "start_time": "2022-09-27T05:12:30.422Z"
   },
   {
    "duration": 544,
    "start_time": "2022-09-27T05:12:50.970Z"
   },
   {
    "duration": 12,
    "start_time": "2022-09-27T05:12:51.517Z"
   },
   {
    "duration": 20,
    "start_time": "2022-09-27T05:12:51.531Z"
   },
   {
    "duration": 5721,
    "start_time": "2022-09-27T05:12:51.553Z"
   },
   {
    "duration": 3942,
    "start_time": "2022-09-27T05:12:57.276Z"
   },
   {
    "duration": 77,
    "start_time": "2022-09-27T05:13:01.220Z"
   },
   {
    "duration": 1351,
    "start_time": "2022-09-27T05:13:01.299Z"
   },
   {
    "duration": 23,
    "start_time": "2022-09-27T05:13:02.654Z"
   },
   {
    "duration": 552,
    "start_time": "2022-09-27T05:13:38.037Z"
   },
   {
    "duration": 9,
    "start_time": "2022-09-27T05:13:38.592Z"
   },
   {
    "duration": 10,
    "start_time": "2022-09-27T05:13:38.603Z"
   },
   {
    "duration": 5832,
    "start_time": "2022-09-27T05:13:38.614Z"
   },
   {
    "duration": 4047,
    "start_time": "2022-09-27T05:13:44.448Z"
   },
   {
    "duration": 83,
    "start_time": "2022-09-27T05:13:48.497Z"
   },
   {
    "duration": 1361,
    "start_time": "2022-09-27T05:13:48.582Z"
   },
   {
    "duration": 28,
    "start_time": "2022-09-27T05:13:49.944Z"
   },
   {
    "duration": 535,
    "start_time": "2022-09-27T05:14:03.742Z"
   },
   {
    "duration": 9,
    "start_time": "2022-09-27T05:14:04.279Z"
   },
   {
    "duration": 4,
    "start_time": "2022-09-27T05:14:04.289Z"
   },
   {
    "duration": 5779,
    "start_time": "2022-09-27T05:14:04.294Z"
   },
   {
    "duration": 4093,
    "start_time": "2022-09-27T05:14:10.075Z"
   },
   {
    "duration": 85,
    "start_time": "2022-09-27T05:14:14.170Z"
   },
   {
    "duration": 1353,
    "start_time": "2022-09-27T05:14:14.256Z"
   },
   {
    "duration": 20,
    "start_time": "2022-09-27T05:14:15.611Z"
   },
   {
    "duration": 547,
    "start_time": "2022-09-27T05:16:36.321Z"
   },
   {
    "duration": 10,
    "start_time": "2022-09-27T05:16:36.870Z"
   },
   {
    "duration": 9,
    "start_time": "2022-09-27T05:16:36.882Z"
   },
   {
    "duration": 5755,
    "start_time": "2022-09-27T05:16:36.894Z"
   },
   {
    "duration": 4089,
    "start_time": "2022-09-27T05:16:42.654Z"
   },
   {
    "duration": 88,
    "start_time": "2022-09-27T05:16:46.746Z"
   },
   {
    "duration": 1301,
    "start_time": "2022-09-27T05:16:46.835Z"
   },
   {
    "duration": 28,
    "start_time": "2022-09-27T05:16:48.138Z"
   },
   {
    "duration": 501,
    "start_time": "2022-09-27T05:16:53.888Z"
   },
   {
    "duration": 11,
    "start_time": "2022-09-27T05:16:54.391Z"
   },
   {
    "duration": 5,
    "start_time": "2022-09-27T05:16:54.404Z"
   },
   {
    "duration": 5747,
    "start_time": "2022-09-27T05:16:54.411Z"
   },
   {
    "duration": 4165,
    "start_time": "2022-09-27T05:17:00.160Z"
   },
   {
    "duration": 78,
    "start_time": "2022-09-27T05:17:04.326Z"
   },
   {
    "duration": 1368,
    "start_time": "2022-09-27T05:17:04.406Z"
   },
   {
    "duration": 19,
    "start_time": "2022-09-27T05:17:05.776Z"
   },
   {
    "duration": 515,
    "start_time": "2022-09-27T05:26:44.688Z"
   },
   {
    "duration": 11,
    "start_time": "2022-09-27T05:26:45.205Z"
   },
   {
    "duration": 15,
    "start_time": "2022-09-27T05:26:45.217Z"
   },
   {
    "duration": 5947,
    "start_time": "2022-09-27T05:26:45.233Z"
   },
   {
    "duration": 4233,
    "start_time": "2022-09-27T05:26:51.183Z"
   },
   {
    "duration": 84,
    "start_time": "2022-09-27T05:26:55.418Z"
   },
   {
    "duration": 1316,
    "start_time": "2022-09-27T05:26:55.505Z"
   },
   {
    "duration": 32,
    "start_time": "2022-09-27T05:26:56.823Z"
   },
   {
    "duration": 571,
    "start_time": "2022-09-27T05:28:46.435Z"
   },
   {
    "duration": 10,
    "start_time": "2022-09-27T05:28:47.008Z"
   },
   {
    "duration": 4,
    "start_time": "2022-09-27T05:28:47.021Z"
   },
   {
    "duration": 5830,
    "start_time": "2022-09-27T05:28:47.027Z"
   },
   {
    "duration": 3949,
    "start_time": "2022-09-27T05:28:52.859Z"
   },
   {
    "duration": 85,
    "start_time": "2022-09-27T05:28:56.811Z"
   },
   {
    "duration": 1359,
    "start_time": "2022-09-27T05:28:56.897Z"
   },
   {
    "duration": 19,
    "start_time": "2022-09-27T05:28:58.258Z"
   },
   {
    "duration": 545,
    "start_time": "2022-09-27T05:30:44.921Z"
   },
   {
    "duration": 10,
    "start_time": "2022-09-27T05:30:45.468Z"
   },
   {
    "duration": 14,
    "start_time": "2022-09-27T05:30:45.480Z"
   },
   {
    "duration": 6245,
    "start_time": "2022-09-27T05:30:45.496Z"
   },
   {
    "duration": 4950,
    "start_time": "2022-09-27T05:30:51.744Z"
   },
   {
    "duration": 83,
    "start_time": "2022-09-27T05:30:56.696Z"
   },
   {
    "duration": 1087,
    "start_time": "2022-09-27T05:30:56.781Z"
   },
   {
    "duration": 19,
    "start_time": "2022-09-27T05:30:57.870Z"
   },
   {
    "duration": 515,
    "start_time": "2022-09-27T05:33:38.793Z"
   },
   {
    "duration": 9,
    "start_time": "2022-09-27T05:33:39.310Z"
   },
   {
    "duration": 4,
    "start_time": "2022-09-27T05:33:39.321Z"
   },
   {
    "duration": 6075,
    "start_time": "2022-09-27T05:33:39.327Z"
   },
   {
    "duration": 4615,
    "start_time": "2022-09-27T05:33:45.404Z"
   },
   {
    "duration": 87,
    "start_time": "2022-09-27T05:33:50.021Z"
   },
   {
    "duration": 1372,
    "start_time": "2022-09-27T05:33:50.110Z"
   },
   {
    "duration": 28,
    "start_time": "2022-09-27T05:33:51.484Z"
   },
   {
    "duration": 519,
    "start_time": "2022-09-27T05:34:15.794Z"
   },
   {
    "duration": 10,
    "start_time": "2022-09-27T05:34:16.315Z"
   },
   {
    "duration": 4,
    "start_time": "2022-09-27T05:34:16.327Z"
   },
   {
    "duration": 6029,
    "start_time": "2022-09-27T05:34:16.333Z"
   },
   {
    "duration": 4209,
    "start_time": "2022-09-27T05:34:22.364Z"
   },
   {
    "duration": 90,
    "start_time": "2022-09-27T05:34:26.575Z"
   },
   {
    "duration": 1353,
    "start_time": "2022-09-27T05:34:26.667Z"
   },
   {
    "duration": 21,
    "start_time": "2022-09-27T05:34:28.022Z"
   },
   {
    "duration": 565,
    "start_time": "2022-09-27T05:34:56.724Z"
   },
   {
    "duration": 10,
    "start_time": "2022-09-27T05:34:57.291Z"
   },
   {
    "duration": 17,
    "start_time": "2022-09-27T05:34:57.303Z"
   },
   {
    "duration": 6037,
    "start_time": "2022-09-27T05:34:57.322Z"
   },
   {
    "duration": 4278,
    "start_time": "2022-09-27T05:35:03.360Z"
   },
   {
    "duration": 91,
    "start_time": "2022-09-27T05:35:07.640Z"
   },
   {
    "duration": 1393,
    "start_time": "2022-09-27T05:35:07.733Z"
   },
   {
    "duration": 33,
    "start_time": "2022-09-27T05:35:09.128Z"
   },
   {
    "duration": 555,
    "start_time": "2022-09-27T05:36:27.556Z"
   },
   {
    "duration": 10,
    "start_time": "2022-09-27T05:36:28.113Z"
   },
   {
    "duration": 5,
    "start_time": "2022-09-27T05:36:28.125Z"
   },
   {
    "duration": 5978,
    "start_time": "2022-09-27T05:36:28.131Z"
   },
   {
    "duration": 4253,
    "start_time": "2022-09-27T05:36:34.111Z"
   },
   {
    "duration": 83,
    "start_time": "2022-09-27T05:36:38.366Z"
   },
   {
    "duration": 1215,
    "start_time": "2022-09-27T05:36:38.451Z"
   },
   {
    "duration": 22,
    "start_time": "2022-09-27T05:36:39.667Z"
   },
   {
    "duration": 562,
    "start_time": "2022-09-27T05:37:08.848Z"
   },
   {
    "duration": 10,
    "start_time": "2022-09-27T05:37:09.412Z"
   },
   {
    "duration": 3,
    "start_time": "2022-09-27T05:37:09.423Z"
   },
   {
    "duration": 5995,
    "start_time": "2022-09-27T05:37:09.428Z"
   },
   {
    "duration": 4112,
    "start_time": "2022-09-27T05:37:15.425Z"
   },
   {
    "duration": 83,
    "start_time": "2022-09-27T05:37:19.539Z"
   },
   {
    "duration": 1294,
    "start_time": "2022-09-27T05:37:19.624Z"
   },
   {
    "duration": 20,
    "start_time": "2022-09-27T05:37:20.919Z"
   },
   {
    "duration": 493,
    "start_time": "2022-09-27T05:38:24.492Z"
   },
   {
    "duration": 9,
    "start_time": "2022-09-27T05:38:24.987Z"
   },
   {
    "duration": 3,
    "start_time": "2022-09-27T05:38:24.997Z"
   },
   {
    "duration": 6008,
    "start_time": "2022-09-27T05:38:25.002Z"
   },
   {
    "duration": 4240,
    "start_time": "2022-09-27T05:38:31.012Z"
   },
   {
    "duration": 78,
    "start_time": "2022-09-27T05:38:35.254Z"
   },
   {
    "duration": 1156,
    "start_time": "2022-09-27T05:38:35.333Z"
   },
   {
    "duration": 23,
    "start_time": "2022-09-27T05:38:36.490Z"
   },
   {
    "duration": 533,
    "start_time": "2022-09-27T05:46:02.071Z"
   },
   {
    "duration": 11,
    "start_time": "2022-09-27T05:46:02.606Z"
   },
   {
    "duration": 9,
    "start_time": "2022-09-27T05:46:02.619Z"
   },
   {
    "duration": 5807,
    "start_time": "2022-09-27T05:46:02.630Z"
   },
   {
    "duration": 4303,
    "start_time": "2022-09-27T05:46:08.438Z"
   },
   {
    "duration": 90,
    "start_time": "2022-09-27T05:46:12.743Z"
   },
   {
    "duration": 1290,
    "start_time": "2022-09-27T05:46:12.835Z"
   },
   {
    "duration": 32,
    "start_time": "2022-09-27T05:46:14.127Z"
   },
   {
    "duration": 523,
    "start_time": "2022-09-27T05:48:08.401Z"
   },
   {
    "duration": 10,
    "start_time": "2022-09-27T05:48:08.926Z"
   },
   {
    "duration": 17,
    "start_time": "2022-09-27T05:48:08.937Z"
   },
   {
    "duration": 6039,
    "start_time": "2022-09-27T05:48:08.956Z"
   },
   {
    "duration": 4146,
    "start_time": "2022-09-27T05:48:14.997Z"
   },
   {
    "duration": 83,
    "start_time": "2022-09-27T05:48:19.145Z"
   },
   {
    "duration": 1285,
    "start_time": "2022-09-27T05:48:19.230Z"
   },
   {
    "duration": 22,
    "start_time": "2022-09-27T05:48:20.517Z"
   },
   {
    "duration": 493,
    "start_time": "2022-09-27T05:53:24.303Z"
   },
   {
    "duration": 9,
    "start_time": "2022-09-27T05:53:24.798Z"
   },
   {
    "duration": 6,
    "start_time": "2022-09-27T05:53:24.809Z"
   },
   {
    "duration": 5887,
    "start_time": "2022-09-27T05:53:24.816Z"
   },
   {
    "duration": 4049,
    "start_time": "2022-09-27T05:53:30.707Z"
   },
   {
    "duration": 80,
    "start_time": "2022-09-27T05:53:34.758Z"
   },
   {
    "duration": 1350,
    "start_time": "2022-09-27T05:53:34.839Z"
   },
   {
    "duration": 20,
    "start_time": "2022-09-27T05:53:36.191Z"
   },
   {
    "duration": 497,
    "start_time": "2022-09-27T05:55:13.289Z"
   },
   {
    "duration": 9,
    "start_time": "2022-09-27T05:55:13.788Z"
   },
   {
    "duration": 5,
    "start_time": "2022-09-27T05:55:13.798Z"
   },
   {
    "duration": 5843,
    "start_time": "2022-09-27T05:55:13.805Z"
   },
   {
    "duration": 4006,
    "start_time": "2022-09-27T05:55:19.653Z"
   },
   {
    "duration": 84,
    "start_time": "2022-09-27T05:55:23.661Z"
   },
   {
    "duration": 1312,
    "start_time": "2022-09-27T05:55:23.747Z"
   },
   {
    "duration": 20,
    "start_time": "2022-09-27T05:55:25.061Z"
   },
   {
    "duration": 496,
    "start_time": "2022-09-27T05:59:24.416Z"
   },
   {
    "duration": 8,
    "start_time": "2022-09-27T05:59:24.914Z"
   },
   {
    "duration": 4,
    "start_time": "2022-09-27T05:59:24.924Z"
   },
   {
    "duration": 5790,
    "start_time": "2022-09-27T05:59:24.930Z"
   },
   {
    "duration": 4126,
    "start_time": "2022-09-27T05:59:30.722Z"
   },
   {
    "duration": 83,
    "start_time": "2022-09-27T05:59:34.851Z"
   },
   {
    "duration": 1158,
    "start_time": "2022-09-27T05:59:34.936Z"
   },
   {
    "duration": 19,
    "start_time": "2022-09-27T05:59:36.095Z"
   },
   {
    "duration": 542,
    "start_time": "2022-09-27T06:00:04.522Z"
   },
   {
    "duration": 10,
    "start_time": "2022-09-27T06:00:05.066Z"
   },
   {
    "duration": 20,
    "start_time": "2022-09-27T06:00:05.077Z"
   },
   {
    "duration": 5844,
    "start_time": "2022-09-27T06:00:05.099Z"
   },
   {
    "duration": 4012,
    "start_time": "2022-09-27T06:00:10.945Z"
   },
   {
    "duration": 84,
    "start_time": "2022-09-27T06:00:14.960Z"
   },
   {
    "duration": 1335,
    "start_time": "2022-09-27T06:00:15.053Z"
   },
   {
    "duration": 21,
    "start_time": "2022-09-27T06:00:16.390Z"
   },
   {
    "duration": 498,
    "start_time": "2022-09-27T06:20:36.277Z"
   },
   {
    "duration": 9,
    "start_time": "2022-09-27T06:20:36.777Z"
   },
   {
    "duration": 3,
    "start_time": "2022-09-27T06:20:36.788Z"
   },
   {
    "duration": 5938,
    "start_time": "2022-09-27T06:20:36.793Z"
   },
   {
    "duration": 4064,
    "start_time": "2022-09-27T06:20:42.733Z"
   },
   {
    "duration": 86,
    "start_time": "2022-09-27T06:20:46.799Z"
   },
   {
    "duration": 1260,
    "start_time": "2022-09-27T06:20:46.887Z"
   },
   {
    "duration": 25,
    "start_time": "2022-09-27T06:20:48.148Z"
   },
   {
    "duration": 52,
    "start_time": "2022-09-27T06:23:34.159Z"
   },
   {
    "duration": 69,
    "start_time": "2022-09-27T06:23:44.251Z"
   },
   {
    "duration": 59,
    "start_time": "2022-09-27T06:28:21.455Z"
   },
   {
    "duration": 541,
    "start_time": "2022-09-27T06:29:16.887Z"
   },
   {
    "duration": 11,
    "start_time": "2022-09-27T06:29:17.431Z"
   },
   {
    "duration": 11,
    "start_time": "2022-09-27T06:29:17.444Z"
   },
   {
    "duration": 5925,
    "start_time": "2022-09-27T06:29:17.456Z"
   },
   {
    "duration": 3914,
    "start_time": "2022-09-27T06:29:23.383Z"
   },
   {
    "duration": 80,
    "start_time": "2022-09-27T06:29:27.298Z"
   },
   {
    "duration": 1294,
    "start_time": "2022-09-27T06:29:27.380Z"
   },
   {
    "duration": 22,
    "start_time": "2022-09-27T06:29:28.676Z"
   },
   {
    "duration": 653,
    "start_time": "2022-09-27T06:30:37.956Z"
   },
   {
    "duration": 19,
    "start_time": "2022-09-27T06:33:13.670Z"
   },
   {
    "duration": 97,
    "start_time": "2022-09-27T06:38:46.188Z"
   },
   {
    "duration": 98,
    "start_time": "2022-09-27T06:39:34.369Z"
   },
   {
    "duration": 67,
    "start_time": "2022-09-27T06:40:02.736Z"
   },
   {
    "duration": 85,
    "start_time": "2022-09-27T06:40:47.614Z"
   },
   {
    "duration": 675,
    "start_time": "2022-09-27T06:41:30.857Z"
   },
   {
    "duration": 18,
    "start_time": "2022-09-27T06:42:42.392Z"
   },
   {
    "duration": 561,
    "start_time": "2022-09-27T06:43:55.329Z"
   },
   {
    "duration": 9,
    "start_time": "2022-09-27T06:43:55.892Z"
   },
   {
    "duration": 4,
    "start_time": "2022-09-27T06:43:55.903Z"
   },
   {
    "duration": 5873,
    "start_time": "2022-09-27T06:43:55.909Z"
   },
   {
    "duration": 4001,
    "start_time": "2022-09-27T06:44:01.784Z"
   },
   {
    "duration": 81,
    "start_time": "2022-09-27T06:44:05.787Z"
   },
   {
    "duration": 1320,
    "start_time": "2022-09-27T06:44:05.870Z"
   },
   {
    "duration": 20,
    "start_time": "2022-09-27T06:44:07.192Z"
   },
   {
    "duration": 105,
    "start_time": "2022-09-27T06:44:07.214Z"
   },
   {
    "duration": 483,
    "start_time": "2022-09-27T11:50:18.823Z"
   },
   {
    "duration": 20,
    "start_time": "2022-09-27T11:50:19.308Z"
   },
   {
    "duration": 4,
    "start_time": "2022-09-27T11:50:19.329Z"
   },
   {
    "duration": 5138,
    "start_time": "2022-09-27T11:50:19.335Z"
   },
   {
    "duration": 4263,
    "start_time": "2022-09-27T11:50:24.475Z"
   },
   {
    "duration": 75,
    "start_time": "2022-09-27T11:50:28.741Z"
   },
   {
    "duration": 1101,
    "start_time": "2022-09-27T11:50:28.818Z"
   },
   {
    "duration": 21,
    "start_time": "2022-09-27T11:50:29.921Z"
   },
   {
    "duration": 77,
    "start_time": "2022-09-27T11:50:29.943Z"
   },
   {
    "duration": 551,
    "start_time": "2022-09-27T17:21:25.800Z"
   },
   {
    "duration": 10,
    "start_time": "2022-09-27T17:21:26.353Z"
   },
   {
    "duration": 4,
    "start_time": "2022-09-27T17:21:26.365Z"
   },
   {
    "duration": 5014,
    "start_time": "2022-09-27T17:21:26.370Z"
   },
   {
    "duration": 4057,
    "start_time": "2022-09-27T17:21:31.386Z"
   },
   {
    "duration": 74,
    "start_time": "2022-09-27T17:21:35.445Z"
   },
   {
    "duration": 1142,
    "start_time": "2022-09-27T17:21:35.521Z"
   },
   {
    "duration": 20,
    "start_time": "2022-09-27T17:21:36.664Z"
   },
   {
    "duration": 72,
    "start_time": "2022-09-27T17:21:36.685Z"
   },
   {
    "duration": 515,
    "start_time": "2022-09-27T17:22:38.637Z"
   },
   {
    "duration": 8,
    "start_time": "2022-09-27T17:22:39.154Z"
   },
   {
    "duration": 7,
    "start_time": "2022-09-27T17:22:39.164Z"
   },
   {
    "duration": 4880,
    "start_time": "2022-09-27T17:22:39.172Z"
   },
   {
    "duration": 4090,
    "start_time": "2022-09-27T17:22:44.054Z"
   },
   {
    "duration": 75,
    "start_time": "2022-09-27T17:22:48.146Z"
   },
   {
    "duration": 1189,
    "start_time": "2022-09-27T17:22:48.223Z"
   },
   {
    "duration": 19,
    "start_time": "2022-09-27T17:22:49.414Z"
   },
   {
    "duration": 83,
    "start_time": "2022-09-27T17:22:49.435Z"
   },
   {
    "duration": 469,
    "start_time": "2022-09-27T17:31:35.949Z"
   },
   {
    "duration": 8,
    "start_time": "2022-09-27T17:31:36.420Z"
   },
   {
    "duration": 10,
    "start_time": "2022-09-27T17:31:36.430Z"
   },
   {
    "duration": 4631,
    "start_time": "2022-09-27T17:31:36.442Z"
   },
   {
    "duration": 3599,
    "start_time": "2022-09-27T17:31:41.075Z"
   },
   {
    "duration": 70,
    "start_time": "2022-09-27T17:31:44.676Z"
   },
   {
    "duration": 1182,
    "start_time": "2022-09-27T17:31:44.748Z"
   },
   {
    "duration": 17,
    "start_time": "2022-09-27T17:31:45.932Z"
   },
   {
    "duration": 78,
    "start_time": "2022-09-27T17:31:45.951Z"
   }
  ],
  "kernelspec": {
   "display_name": "Python 3 (ipykernel)",
   "language": "python",
   "name": "python3"
  },
  "language_info": {
   "codemirror_mode": {
    "name": "ipython",
    "version": 3
   },
   "file_extension": ".py",
   "mimetype": "text/x-python",
   "name": "python",
   "nbconvert_exporter": "python",
   "pygments_lexer": "ipython3",
   "version": "3.9.5"
  },
  "toc": {
   "base_numbering": 1,
   "nav_menu": {},
   "number_sections": true,
   "sideBar": true,
   "skip_h1_title": true,
   "title_cell": "Table of Contents",
   "title_sidebar": "Contents",
   "toc_cell": false,
   "toc_position": {},
   "toc_section_display": true,
   "toc_window_display": false
  }
 },
 "nbformat": 4,
 "nbformat_minor": 5
}
