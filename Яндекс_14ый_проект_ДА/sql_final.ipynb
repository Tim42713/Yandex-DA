{
 "cells": [
  {
   "cell_type": "markdown",
   "metadata": {},
   "source": [
    "### Анализ данных сервиса для онлайн чтения книг. "
   ]
  },
  {
   "cell_type": "markdown",
   "metadata": {},
   "source": [
    "#### Краткое описание. "
   ]
  },
  {
   "cell_type": "markdown",
   "metadata": {},
   "source": [
    "Компания в которой мы работаем, в отделе аналитики, приобрела крупный сервис для чтения книг по подписке. Мы получили доступ к БД нового сервиса, которая содержит информацию о книгах, издательствах, авторах, а также пользовательские обзоры книг. Нам необходимо провести первичный анализ БД и сформулировать ценностное предложение для нового продукта."
   ]
  },
  {
   "cell_type": "markdown",
   "metadata": {},
   "source": [
    "#### Описание полученных данных."
   ]
  },
  {
   "cell_type": "markdown",
   "metadata": {},
   "source": [
    "- Таблица **\"books\"** - *Содержит данные о книгах*:\n",
    "   - book_id — идентификатор книги;\n",
    "   - author_id — идентификатор автора;\n",
    "   - title — название книги;\n",
    "   - num_pages — количество страниц;\n",
    "   - publication_date — дата публикации книги;\n",
    "   - publisher_id — идентификатор издателя.\n",
    "\n",
    "- Таблица **\"authors\"** - *Содержит данные об авторах*:\n",
    "   - author_id — идентификатор автора;\n",
    "   - author — имя автора.\n",
    "\n",
    "- Таблица **\"publishers\"** - *Содержит данные об издательствах*:\n",
    "   - publisher_id — идентификатор издательства;\n",
    "   - publisher — название издательства;\n",
    "\n",
    "- Таблица **\"ratings\"** - *Содержит данные о пользовательских оценках книг*:\n",
    "   - rating_id — идентификатор оценки;\n",
    "   - book_id — идентификатор книги;\n",
    "   - username — имя пользователя, оставившего оценку;\n",
    "   - rating — оценка книги.\n",
    "\n",
    "- Таблица **\"reviews\"** - *Содержит данные о пользовательских обзорах*:\n",
    "   - review_id — идентификатор обзора;\n",
    "   - book_id — идентификатор книги;\n",
    "   - username — имя автора обзора;\n",
    "   - text — текст обзора."
   ]
  },
  {
   "cell_type": "markdown",
   "metadata": {},
   "source": [
    "#### Подключение к БД."
   ]
  },
  {
   "cell_type": "code",
   "execution_count": 1,
   "metadata": {},
   "outputs": [],
   "source": [
    "# импортируем библиотеки\n",
    "import pandas as pd\n",
    "from sqlalchemy import create_engine"
   ]
  },
  {
   "cell_type": "code",
   "execution_count": 2,
   "metadata": {},
   "outputs": [],
   "source": [
    "# устанавливаем параметры\n",
    "db_config = {'user': 'praktikum_student', # имя пользователя\n",
    " 'pwd': 'Sdf4$2;d-d30pp', # пароль\n",
    " 'host': 'rc1b-wcoijxj3yxfsf3fs.mdb.yandexcloud.net',\n",
    " 'port': 6432, # порт подключения\n",
    " 'db': 'data-analyst-final-project-db'} # название базы данных\n",
    "connection_string = 'postgresql://{}:{}@{}:{}/{}'.format(db_config['user'],\n",
    " db_config['pwd'],\n",
    " db_config['host'],\n",
    " db_config['port'],\n",
    " db_config['db'])"
   ]
  },
  {
   "cell_type": "code",
   "execution_count": 3,
   "metadata": {},
   "outputs": [],
   "source": [
    "# сохраняем коннектор\n",
    "engine = create_engine(connection_string, connect_args={'sslmode':'require'})"
   ]
  },
  {
   "cell_type": "code",
   "execution_count": 4,
   "metadata": {},
   "outputs": [],
   "source": [
    "# создаем функцию для вывода запросов\n",
    "def output(query):\n",
    "  return pd.io.sql.read_sql(query, con = engine)"
   ]
  },
  {
   "cell_type": "markdown",
   "metadata": {},
   "source": [
    "После подключения исследуем таблицы, для начала просмотрим первые строки в каждой таблице. "
   ]
  },
  {
   "cell_type": "markdown",
   "metadata": {},
   "source": [
    "#### Обзор данных."
   ]
  },
  {
   "cell_type": "code",
   "execution_count": 5,
   "metadata": {},
   "outputs": [
    {
     "data": {
      "text/html": [
       "<div>\n",
       "<style scoped>\n",
       "    .dataframe tbody tr th:only-of-type {\n",
       "        vertical-align: middle;\n",
       "    }\n",
       "\n",
       "    .dataframe tbody tr th {\n",
       "        vertical-align: top;\n",
       "    }\n",
       "\n",
       "    .dataframe thead th {\n",
       "        text-align: right;\n",
       "    }\n",
       "</style>\n",
       "<table border=\"1\" class=\"dataframe\">\n",
       "  <thead>\n",
       "    <tr style=\"text-align: right;\">\n",
       "      <th></th>\n",
       "      <th>book_id</th>\n",
       "      <th>author_id</th>\n",
       "      <th>title</th>\n",
       "      <th>num_pages</th>\n",
       "      <th>publication_date</th>\n",
       "      <th>publisher_id</th>\n",
       "    </tr>\n",
       "  </thead>\n",
       "  <tbody>\n",
       "    <tr>\n",
       "      <th>0</th>\n",
       "      <td>1</td>\n",
       "      <td>546</td>\n",
       "      <td>'Salem's Lot</td>\n",
       "      <td>594</td>\n",
       "      <td>2005-11-01</td>\n",
       "      <td>93</td>\n",
       "    </tr>\n",
       "    <tr>\n",
       "      <th>1</th>\n",
       "      <td>2</td>\n",
       "      <td>465</td>\n",
       "      <td>1 000 Places to See Before You Die</td>\n",
       "      <td>992</td>\n",
       "      <td>2003-05-22</td>\n",
       "      <td>336</td>\n",
       "    </tr>\n",
       "    <tr>\n",
       "      <th>2</th>\n",
       "      <td>3</td>\n",
       "      <td>407</td>\n",
       "      <td>13 Little Blue Envelopes (Little Blue Envelope...</td>\n",
       "      <td>322</td>\n",
       "      <td>2010-12-21</td>\n",
       "      <td>135</td>\n",
       "    </tr>\n",
       "    <tr>\n",
       "      <th>3</th>\n",
       "      <td>4</td>\n",
       "      <td>82</td>\n",
       "      <td>1491: New Revelations of the Americas Before C...</td>\n",
       "      <td>541</td>\n",
       "      <td>2006-10-10</td>\n",
       "      <td>309</td>\n",
       "    </tr>\n",
       "    <tr>\n",
       "      <th>4</th>\n",
       "      <td>5</td>\n",
       "      <td>125</td>\n",
       "      <td>1776</td>\n",
       "      <td>386</td>\n",
       "      <td>2006-07-04</td>\n",
       "      <td>268</td>\n",
       "    </tr>\n",
       "  </tbody>\n",
       "</table>\n",
       "</div>"
      ],
      "text/plain": [
       "   book_id  author_id                                              title  \\\n",
       "0        1        546                                       'Salem's Lot   \n",
       "1        2        465                 1 000 Places to See Before You Die   \n",
       "2        3        407  13 Little Blue Envelopes (Little Blue Envelope...   \n",
       "3        4         82  1491: New Revelations of the Americas Before C...   \n",
       "4        5        125                                               1776   \n",
       "\n",
       "   num_pages publication_date  publisher_id  \n",
       "0        594       2005-11-01            93  \n",
       "1        992       2003-05-22           336  \n",
       "2        322       2010-12-21           135  \n",
       "3        541       2006-10-10           309  \n",
       "4        386       2006-07-04           268  "
      ]
     },
     "execution_count": 5,
     "metadata": {},
     "output_type": "execute_result"
    }
   ],
   "source": [
    "# просматриваем первые 5 строк таблицы \"books\"\n",
    "query = '''\n",
    "SELECT *\n",
    "FROM books\n",
    "LIMIT 5;\n",
    "        '''\n",
    "# выводим запрос\n",
    "output(query)"
   ]
  },
  {
   "cell_type": "code",
   "execution_count": 6,
   "metadata": {},
   "outputs": [
    {
     "data": {
      "text/html": [
       "<div>\n",
       "<style scoped>\n",
       "    .dataframe tbody tr th:only-of-type {\n",
       "        vertical-align: middle;\n",
       "    }\n",
       "\n",
       "    .dataframe tbody tr th {\n",
       "        vertical-align: top;\n",
       "    }\n",
       "\n",
       "    .dataframe thead th {\n",
       "        text-align: right;\n",
       "    }\n",
       "</style>\n",
       "<table border=\"1\" class=\"dataframe\">\n",
       "  <thead>\n",
       "    <tr style=\"text-align: right;\">\n",
       "      <th></th>\n",
       "      <th>author_id</th>\n",
       "      <th>author</th>\n",
       "    </tr>\n",
       "  </thead>\n",
       "  <tbody>\n",
       "    <tr>\n",
       "      <th>0</th>\n",
       "      <td>1</td>\n",
       "      <td>A.S. Byatt</td>\n",
       "    </tr>\n",
       "    <tr>\n",
       "      <th>1</th>\n",
       "      <td>2</td>\n",
       "      <td>Aesop/Laura Harris/Laura Gibbs</td>\n",
       "    </tr>\n",
       "    <tr>\n",
       "      <th>2</th>\n",
       "      <td>3</td>\n",
       "      <td>Agatha Christie</td>\n",
       "    </tr>\n",
       "    <tr>\n",
       "      <th>3</th>\n",
       "      <td>4</td>\n",
       "      <td>Alan Brennert</td>\n",
       "    </tr>\n",
       "    <tr>\n",
       "      <th>4</th>\n",
       "      <td>5</td>\n",
       "      <td>Alan Moore/David   Lloyd</td>\n",
       "    </tr>\n",
       "  </tbody>\n",
       "</table>\n",
       "</div>"
      ],
      "text/plain": [
       "   author_id                          author\n",
       "0          1                      A.S. Byatt\n",
       "1          2  Aesop/Laura Harris/Laura Gibbs\n",
       "2          3                 Agatha Christie\n",
       "3          4                   Alan Brennert\n",
       "4          5        Alan Moore/David   Lloyd"
      ]
     },
     "execution_count": 6,
     "metadata": {},
     "output_type": "execute_result"
    }
   ],
   "source": [
    "# просматриваем первые 5 строк таблицы \"authors\"\n",
    "query = '''\n",
    "SELECT *\n",
    "FROM authors\n",
    "LIMIT 5;\n",
    "        '''\n",
    "\n",
    "# выводим запрос\n",
    "output(query)"
   ]
  },
  {
   "cell_type": "code",
   "execution_count": 7,
   "metadata": {},
   "outputs": [
    {
     "data": {
      "text/html": [
       "<div>\n",
       "<style scoped>\n",
       "    .dataframe tbody tr th:only-of-type {\n",
       "        vertical-align: middle;\n",
       "    }\n",
       "\n",
       "    .dataframe tbody tr th {\n",
       "        vertical-align: top;\n",
       "    }\n",
       "\n",
       "    .dataframe thead th {\n",
       "        text-align: right;\n",
       "    }\n",
       "</style>\n",
       "<table border=\"1\" class=\"dataframe\">\n",
       "  <thead>\n",
       "    <tr style=\"text-align: right;\">\n",
       "      <th></th>\n",
       "      <th>rating_id</th>\n",
       "      <th>book_id</th>\n",
       "      <th>username</th>\n",
       "      <th>rating</th>\n",
       "    </tr>\n",
       "  </thead>\n",
       "  <tbody>\n",
       "    <tr>\n",
       "      <th>0</th>\n",
       "      <td>1</td>\n",
       "      <td>1</td>\n",
       "      <td>ryanfranco</td>\n",
       "      <td>4</td>\n",
       "    </tr>\n",
       "    <tr>\n",
       "      <th>1</th>\n",
       "      <td>2</td>\n",
       "      <td>1</td>\n",
       "      <td>grantpatricia</td>\n",
       "      <td>2</td>\n",
       "    </tr>\n",
       "    <tr>\n",
       "      <th>2</th>\n",
       "      <td>3</td>\n",
       "      <td>1</td>\n",
       "      <td>brandtandrea</td>\n",
       "      <td>5</td>\n",
       "    </tr>\n",
       "    <tr>\n",
       "      <th>3</th>\n",
       "      <td>4</td>\n",
       "      <td>2</td>\n",
       "      <td>lorichen</td>\n",
       "      <td>3</td>\n",
       "    </tr>\n",
       "    <tr>\n",
       "      <th>4</th>\n",
       "      <td>5</td>\n",
       "      <td>2</td>\n",
       "      <td>mariokeller</td>\n",
       "      <td>2</td>\n",
       "    </tr>\n",
       "  </tbody>\n",
       "</table>\n",
       "</div>"
      ],
      "text/plain": [
       "   rating_id  book_id       username  rating\n",
       "0          1        1     ryanfranco       4\n",
       "1          2        1  grantpatricia       2\n",
       "2          3        1   brandtandrea       5\n",
       "3          4        2       lorichen       3\n",
       "4          5        2    mariokeller       2"
      ]
     },
     "execution_count": 7,
     "metadata": {},
     "output_type": "execute_result"
    }
   ],
   "source": [
    "# просматриваем первые 5 строк таблицы \"ratings\"\n",
    "query = '''\n",
    "SELECT *\n",
    "FROM ratings\n",
    "LIMIT 5;\n",
    "        '''\n",
    "\n",
    "# выводим запрос\n",
    "output(query)"
   ]
  },
  {
   "cell_type": "code",
   "execution_count": 8,
   "metadata": {},
   "outputs": [
    {
     "data": {
      "text/html": [
       "<div>\n",
       "<style scoped>\n",
       "    .dataframe tbody tr th:only-of-type {\n",
       "        vertical-align: middle;\n",
       "    }\n",
       "\n",
       "    .dataframe tbody tr th {\n",
       "        vertical-align: top;\n",
       "    }\n",
       "\n",
       "    .dataframe thead th {\n",
       "        text-align: right;\n",
       "    }\n",
       "</style>\n",
       "<table border=\"1\" class=\"dataframe\">\n",
       "  <thead>\n",
       "    <tr style=\"text-align: right;\">\n",
       "      <th></th>\n",
       "      <th>review_id</th>\n",
       "      <th>book_id</th>\n",
       "      <th>username</th>\n",
       "      <th>text</th>\n",
       "    </tr>\n",
       "  </thead>\n",
       "  <tbody>\n",
       "    <tr>\n",
       "      <th>0</th>\n",
       "      <td>1</td>\n",
       "      <td>1</td>\n",
       "      <td>brandtandrea</td>\n",
       "      <td>Mention society tell send professor analysis. ...</td>\n",
       "    </tr>\n",
       "    <tr>\n",
       "      <th>1</th>\n",
       "      <td>2</td>\n",
       "      <td>1</td>\n",
       "      <td>ryanfranco</td>\n",
       "      <td>Foot glass pretty audience hit themselves. Amo...</td>\n",
       "    </tr>\n",
       "    <tr>\n",
       "      <th>2</th>\n",
       "      <td>3</td>\n",
       "      <td>2</td>\n",
       "      <td>lorichen</td>\n",
       "      <td>Listen treat keep worry. Miss husband tax but ...</td>\n",
       "    </tr>\n",
       "    <tr>\n",
       "      <th>3</th>\n",
       "      <td>4</td>\n",
       "      <td>3</td>\n",
       "      <td>johnsonamanda</td>\n",
       "      <td>Finally month interesting blue could nature cu...</td>\n",
       "    </tr>\n",
       "    <tr>\n",
       "      <th>4</th>\n",
       "      <td>5</td>\n",
       "      <td>3</td>\n",
       "      <td>scotttamara</td>\n",
       "      <td>Nation purpose heavy give wait song will. List...</td>\n",
       "    </tr>\n",
       "  </tbody>\n",
       "</table>\n",
       "</div>"
      ],
      "text/plain": [
       "   review_id  book_id       username  \\\n",
       "0          1        1   brandtandrea   \n",
       "1          2        1     ryanfranco   \n",
       "2          3        2       lorichen   \n",
       "3          4        3  johnsonamanda   \n",
       "4          5        3    scotttamara   \n",
       "\n",
       "                                                text  \n",
       "0  Mention society tell send professor analysis. ...  \n",
       "1  Foot glass pretty audience hit themselves. Amo...  \n",
       "2  Listen treat keep worry. Miss husband tax but ...  \n",
       "3  Finally month interesting blue could nature cu...  \n",
       "4  Nation purpose heavy give wait song will. List...  "
      ]
     },
     "execution_count": 8,
     "metadata": {},
     "output_type": "execute_result"
    }
   ],
   "source": [
    "# просматриваем первые 5 строк таблицы \"reviews\"\n",
    "query = '''\n",
    "SELECT *\n",
    "FROM reviews\n",
    "LIMIT 5;\n",
    "        '''\n",
    "\n",
    "# выводим запрос\n",
    "output(query)"
   ]
  },
  {
   "cell_type": "code",
   "execution_count": 9,
   "metadata": {},
   "outputs": [
    {
     "data": {
      "text/html": [
       "<div>\n",
       "<style scoped>\n",
       "    .dataframe tbody tr th:only-of-type {\n",
       "        vertical-align: middle;\n",
       "    }\n",
       "\n",
       "    .dataframe tbody tr th {\n",
       "        vertical-align: top;\n",
       "    }\n",
       "\n",
       "    .dataframe thead th {\n",
       "        text-align: right;\n",
       "    }\n",
       "</style>\n",
       "<table border=\"1\" class=\"dataframe\">\n",
       "  <thead>\n",
       "    <tr style=\"text-align: right;\">\n",
       "      <th></th>\n",
       "      <th>publisher_id</th>\n",
       "      <th>publisher</th>\n",
       "    </tr>\n",
       "  </thead>\n",
       "  <tbody>\n",
       "    <tr>\n",
       "      <th>0</th>\n",
       "      <td>1</td>\n",
       "      <td>Ace</td>\n",
       "    </tr>\n",
       "    <tr>\n",
       "      <th>1</th>\n",
       "      <td>2</td>\n",
       "      <td>Ace Book</td>\n",
       "    </tr>\n",
       "    <tr>\n",
       "      <th>2</th>\n",
       "      <td>3</td>\n",
       "      <td>Ace Books</td>\n",
       "    </tr>\n",
       "    <tr>\n",
       "      <th>3</th>\n",
       "      <td>4</td>\n",
       "      <td>Ace Hardcover</td>\n",
       "    </tr>\n",
       "    <tr>\n",
       "      <th>4</th>\n",
       "      <td>5</td>\n",
       "      <td>Addison Wesley Publishing Company</td>\n",
       "    </tr>\n",
       "  </tbody>\n",
       "</table>\n",
       "</div>"
      ],
      "text/plain": [
       "   publisher_id                          publisher\n",
       "0             1                                Ace\n",
       "1             2                           Ace Book\n",
       "2             3                          Ace Books\n",
       "3             4                      Ace Hardcover\n",
       "4             5  Addison Wesley Publishing Company"
      ]
     },
     "execution_count": 9,
     "metadata": {},
     "output_type": "execute_result"
    }
   ],
   "source": [
    "# просматриваем первые 5 строк таблицы \"publishers\"\n",
    "query = '''\n",
    "SELECT *\n",
    "FROM publishers\n",
    "LIMIT 5;\n",
    "        '''\n",
    "\n",
    "# выводим запрос\n",
    "output(query)"
   ]
  },
  {
   "cell_type": "markdown",
   "metadata": {},
   "source": [
    "Получили общее представление о данных."
   ]
  },
  {
   "cell_type": "markdown",
   "metadata": {},
   "source": [
    "#### Анализ данных. "
   ]
  },
  {
   "cell_type": "markdown",
   "metadata": {},
   "source": [
    "##### Посчитаем, сколько книг вышло после 1 января 2000 года."
   ]
  },
  {
   "cell_type": "code",
   "execution_count": 10,
   "metadata": {},
   "outputs": [
    {
     "data": {
      "text/html": [
       "<div>\n",
       "<style scoped>\n",
       "    .dataframe tbody tr th:only-of-type {\n",
       "        vertical-align: middle;\n",
       "    }\n",
       "\n",
       "    .dataframe tbody tr th {\n",
       "        vertical-align: top;\n",
       "    }\n",
       "\n",
       "    .dataframe thead th {\n",
       "        text-align: right;\n",
       "    }\n",
       "</style>\n",
       "<table border=\"1\" class=\"dataframe\">\n",
       "  <thead>\n",
       "    <tr style=\"text-align: right;\">\n",
       "      <th></th>\n",
       "      <th>count_of_books</th>\n",
       "    </tr>\n",
       "  </thead>\n",
       "  <tbody>\n",
       "    <tr>\n",
       "      <th>0</th>\n",
       "      <td>819</td>\n",
       "    </tr>\n",
       "  </tbody>\n",
       "</table>\n",
       "</div>"
      ],
      "text/plain": [
       "   count_of_books\n",
       "0             819"
      ]
     },
     "execution_count": 10,
     "metadata": {},
     "output_type": "execute_result"
    }
   ],
   "source": [
    "# формируем запрос к таблице \"books\"\n",
    "query = '''\n",
    "SELECT COUNT(book_id) AS count_of_books\n",
    "FROM books\n",
    "WHERE publication_date > '2000-01-01';\n",
    "        '''\n",
    "\n",
    "# выводим запрос\n",
    "output(query)"
   ]
  },
  {
   "cell_type": "markdown",
   "metadata": {},
   "source": [
    "Общее кол-во книг вышедших после 1 января 2000 года и представленных в сервисе - 819. "
   ]
  },
  {
   "cell_type": "markdown",
   "metadata": {},
   "source": [
    "##### Посчитаем количество обзоров и среднюю оценку для каждой книги. "
   ]
  },
  {
   "cell_type": "markdown",
   "metadata": {},
   "source": [
    "В запросе оставим уникальные id книг чтобы избежать дублей в названии книг."
   ]
  },
  {
   "cell_type": "code",
   "execution_count": 11,
   "metadata": {},
   "outputs": [
    {
     "data": {
      "text/html": [
       "<div>\n",
       "<style scoped>\n",
       "    .dataframe tbody tr th:only-of-type {\n",
       "        vertical-align: middle;\n",
       "    }\n",
       "\n",
       "    .dataframe tbody tr th {\n",
       "        vertical-align: top;\n",
       "    }\n",
       "\n",
       "    .dataframe thead th {\n",
       "        text-align: right;\n",
       "    }\n",
       "</style>\n",
       "<table border=\"1\" class=\"dataframe\">\n",
       "  <thead>\n",
       "    <tr style=\"text-align: right;\">\n",
       "      <th></th>\n",
       "      <th>book_id</th>\n",
       "      <th>title</th>\n",
       "      <th>count_review</th>\n",
       "      <th>average_rating</th>\n",
       "    </tr>\n",
       "  </thead>\n",
       "  <tbody>\n",
       "    <tr>\n",
       "      <th>0</th>\n",
       "      <td>1</td>\n",
       "      <td>'Salem's Lot</td>\n",
       "      <td>2</td>\n",
       "      <td>3.666667</td>\n",
       "    </tr>\n",
       "    <tr>\n",
       "      <th>1</th>\n",
       "      <td>2</td>\n",
       "      <td>1 000 Places to See Before You Die</td>\n",
       "      <td>1</td>\n",
       "      <td>2.500000</td>\n",
       "    </tr>\n",
       "    <tr>\n",
       "      <th>2</th>\n",
       "      <td>3</td>\n",
       "      <td>13 Little Blue Envelopes (Little Blue Envelope...</td>\n",
       "      <td>3</td>\n",
       "      <td>4.666667</td>\n",
       "    </tr>\n",
       "    <tr>\n",
       "      <th>3</th>\n",
       "      <td>4</td>\n",
       "      <td>1491: New Revelations of the Americas Before C...</td>\n",
       "      <td>2</td>\n",
       "      <td>4.500000</td>\n",
       "    </tr>\n",
       "    <tr>\n",
       "      <th>4</th>\n",
       "      <td>5</td>\n",
       "      <td>1776</td>\n",
       "      <td>4</td>\n",
       "      <td>4.000000</td>\n",
       "    </tr>\n",
       "    <tr>\n",
       "      <th>...</th>\n",
       "      <td>...</td>\n",
       "      <td>...</td>\n",
       "      <td>...</td>\n",
       "      <td>...</td>\n",
       "    </tr>\n",
       "    <tr>\n",
       "      <th>995</th>\n",
       "      <td>996</td>\n",
       "      <td>Wyrd Sisters (Discworld  #6; Witches #2)</td>\n",
       "      <td>3</td>\n",
       "      <td>3.666667</td>\n",
       "    </tr>\n",
       "    <tr>\n",
       "      <th>996</th>\n",
       "      <td>997</td>\n",
       "      <td>Xenocide (Ender's Saga  #3)</td>\n",
       "      <td>3</td>\n",
       "      <td>3.400000</td>\n",
       "    </tr>\n",
       "    <tr>\n",
       "      <th>997</th>\n",
       "      <td>998</td>\n",
       "      <td>Year of Wonders</td>\n",
       "      <td>4</td>\n",
       "      <td>3.200000</td>\n",
       "    </tr>\n",
       "    <tr>\n",
       "      <th>998</th>\n",
       "      <td>999</td>\n",
       "      <td>You Suck (A Love Story  #2)</td>\n",
       "      <td>2</td>\n",
       "      <td>4.500000</td>\n",
       "    </tr>\n",
       "    <tr>\n",
       "      <th>999</th>\n",
       "      <td>1000</td>\n",
       "      <td>Zen and the Art of Motorcycle Maintenance: An ...</td>\n",
       "      <td>4</td>\n",
       "      <td>3.833333</td>\n",
       "    </tr>\n",
       "  </tbody>\n",
       "</table>\n",
       "<p>1000 rows × 4 columns</p>\n",
       "</div>"
      ],
      "text/plain": [
       "     book_id                                              title  count_review  \\\n",
       "0          1                                       'Salem's Lot             2   \n",
       "1          2                 1 000 Places to See Before You Die             1   \n",
       "2          3  13 Little Blue Envelopes (Little Blue Envelope...             3   \n",
       "3          4  1491: New Revelations of the Americas Before C...             2   \n",
       "4          5                                               1776             4   \n",
       "..       ...                                                ...           ...   \n",
       "995      996           Wyrd Sisters (Discworld  #6; Witches #2)             3   \n",
       "996      997                        Xenocide (Ender's Saga  #3)             3   \n",
       "997      998                                    Year of Wonders             4   \n",
       "998      999                        You Suck (A Love Story  #2)             2   \n",
       "999     1000  Zen and the Art of Motorcycle Maintenance: An ...             4   \n",
       "\n",
       "     average_rating  \n",
       "0          3.666667  \n",
       "1          2.500000  \n",
       "2          4.666667  \n",
       "3          4.500000  \n",
       "4          4.000000  \n",
       "..              ...  \n",
       "995        3.666667  \n",
       "996        3.400000  \n",
       "997        3.200000  \n",
       "998        4.500000  \n",
       "999        3.833333  \n",
       "\n",
       "[1000 rows x 4 columns]"
      ]
     },
     "execution_count": 11,
     "metadata": {},
     "output_type": "execute_result"
    }
   ],
   "source": [
    "# формируем запрос к таблицам: books, reviews, ratings\n",
    "query = '''\n",
    "SELECT b.book_id,\n",
    "       b.title,\n",
    "       COUNT(DISTINCT(r.review_id)) AS count_review,\n",
    "       AVG(rt.rating) AS average_rating\n",
    "FROM books AS b\n",
    "LEFT JOIN reviews AS r ON r.book_id = b.book_id\n",
    "LEFT JOIN ratings AS rt ON rt.book_id = b.book_id\n",
    "GROUP BY 1\n",
    ";\n",
    "        '''\n",
    "\n",
    "# выводим запрос\n",
    "output(query)"
   ]
  },
  {
   "cell_type": "markdown",
   "metadata": {},
   "source": [
    "Как мы можем заметить на первом месте книга - \"Twilight (Twilight #1)\", исходя из названия можем предположить, что существует книга #2, а так же возможно от иных издателей, что может искажать информацию. Можем сказать, что наибольшее кол-во книг получает около 6 оценок. \t"
   ]
  },
  {
   "cell_type": "markdown",
   "metadata": {},
   "source": [
    "##### Определим издательство, которое выпустило наибольшее число книг толще 50 страниц."
   ]
  },
  {
   "cell_type": "markdown",
   "metadata": {},
   "source": [
    "Данный запрос поможет исключить нам брошюры из анализа. "
   ]
  },
  {
   "cell_type": "code",
   "execution_count": 12,
   "metadata": {},
   "outputs": [
    {
     "data": {
      "text/html": [
       "<div>\n",
       "<style scoped>\n",
       "    .dataframe tbody tr th:only-of-type {\n",
       "        vertical-align: middle;\n",
       "    }\n",
       "\n",
       "    .dataframe tbody tr th {\n",
       "        vertical-align: top;\n",
       "    }\n",
       "\n",
       "    .dataframe thead th {\n",
       "        text-align: right;\n",
       "    }\n",
       "</style>\n",
       "<table border=\"1\" class=\"dataframe\">\n",
       "  <thead>\n",
       "    <tr style=\"text-align: right;\">\n",
       "      <th></th>\n",
       "      <th>publisher</th>\n",
       "      <th>count</th>\n",
       "    </tr>\n",
       "  </thead>\n",
       "  <tbody>\n",
       "    <tr>\n",
       "      <th>0</th>\n",
       "      <td>Penguin Books</td>\n",
       "      <td>42</td>\n",
       "    </tr>\n",
       "    <tr>\n",
       "      <th>1</th>\n",
       "      <td>Vintage</td>\n",
       "      <td>31</td>\n",
       "    </tr>\n",
       "    <tr>\n",
       "      <th>2</th>\n",
       "      <td>Grand Central Publishing</td>\n",
       "      <td>25</td>\n",
       "    </tr>\n",
       "    <tr>\n",
       "      <th>3</th>\n",
       "      <td>Penguin Classics</td>\n",
       "      <td>24</td>\n",
       "    </tr>\n",
       "    <tr>\n",
       "      <th>4</th>\n",
       "      <td>Ballantine Books</td>\n",
       "      <td>19</td>\n",
       "    </tr>\n",
       "    <tr>\n",
       "      <th>5</th>\n",
       "      <td>Bantam</td>\n",
       "      <td>19</td>\n",
       "    </tr>\n",
       "    <tr>\n",
       "      <th>6</th>\n",
       "      <td>Berkley</td>\n",
       "      <td>17</td>\n",
       "    </tr>\n",
       "    <tr>\n",
       "      <th>7</th>\n",
       "      <td>St. Martin's Press</td>\n",
       "      <td>14</td>\n",
       "    </tr>\n",
       "    <tr>\n",
       "      <th>8</th>\n",
       "      <td>Berkley Books</td>\n",
       "      <td>14</td>\n",
       "    </tr>\n",
       "    <tr>\n",
       "      <th>9</th>\n",
       "      <td>William Morrow Paperbacks</td>\n",
       "      <td>13</td>\n",
       "    </tr>\n",
       "  </tbody>\n",
       "</table>\n",
       "</div>"
      ],
      "text/plain": [
       "                   publisher  count\n",
       "0              Penguin Books     42\n",
       "1                    Vintage     31\n",
       "2   Grand Central Publishing     25\n",
       "3           Penguin Classics     24\n",
       "4           Ballantine Books     19\n",
       "5                     Bantam     19\n",
       "6                    Berkley     17\n",
       "7         St. Martin's Press     14\n",
       "8              Berkley Books     14\n",
       "9  William Morrow Paperbacks     13"
      ]
     },
     "execution_count": 12,
     "metadata": {},
     "output_type": "execute_result"
    }
   ],
   "source": [
    "# формируем запрос к таблицам: books, publishers\n",
    "query = '''\n",
    "SELECT p.publisher,\n",
    "       COUNT(b.book_id)\n",
    "FROM publishers as p\n",
    "LEFT JOIN books as b ON p.publisher_id = b.publisher_id\n",
    "WHERE b.num_pages > 50\n",
    "GROUP BY 1\n",
    "ORDER BY 2 DESC\n",
    "LIMIT 10;\n",
    "        '''\n",
    "\n",
    "# выводим запрос\n",
    "output(query)"
   ]
  },
  {
   "cell_type": "markdown",
   "metadata": {},
   "source": [
    "В списке книг которые выпускают наибольшее кол-во книг толще 50 страниц несомненый лидер издательство - \"Penguin Books\" выпустившее более 40 книг. "
   ]
  },
  {
   "cell_type": "markdown",
   "metadata": {},
   "source": [
    "##### Определим автора с самой высокой средней оценкой книг."
   ]
  },
  {
   "cell_type": "markdown",
   "metadata": {},
   "source": [
    "В данном запросе будем учитывать только книги с 50 и более оценками."
   ]
  },
  {
   "cell_type": "code",
   "execution_count": 13,
   "metadata": {},
   "outputs": [
    {
     "data": {
      "text/html": [
       "<div>\n",
       "<style scoped>\n",
       "    .dataframe tbody tr th:only-of-type {\n",
       "        vertical-align: middle;\n",
       "    }\n",
       "\n",
       "    .dataframe tbody tr th {\n",
       "        vertical-align: top;\n",
       "    }\n",
       "\n",
       "    .dataframe thead th {\n",
       "        text-align: right;\n",
       "    }\n",
       "</style>\n",
       "<table border=\"1\" class=\"dataframe\">\n",
       "  <thead>\n",
       "    <tr style=\"text-align: right;\">\n",
       "      <th></th>\n",
       "      <th>author</th>\n",
       "      <th>average_rating</th>\n",
       "    </tr>\n",
       "  </thead>\n",
       "  <tbody>\n",
       "    <tr>\n",
       "      <th>0</th>\n",
       "      <td>J.K. Rowling/Mary GrandPré</td>\n",
       "      <td>4.283844</td>\n",
       "    </tr>\n",
       "    <tr>\n",
       "      <th>1</th>\n",
       "      <td>Markus Zusak/Cao Xuân Việt Khương</td>\n",
       "      <td>4.264151</td>\n",
       "    </tr>\n",
       "    <tr>\n",
       "      <th>2</th>\n",
       "      <td>J.R.R. Tolkien</td>\n",
       "      <td>4.258446</td>\n",
       "    </tr>\n",
       "    <tr>\n",
       "      <th>3</th>\n",
       "      <td>Louisa May Alcott</td>\n",
       "      <td>4.192308</td>\n",
       "    </tr>\n",
       "    <tr>\n",
       "      <th>4</th>\n",
       "      <td>Rick Riordan</td>\n",
       "      <td>4.080645</td>\n",
       "    </tr>\n",
       "    <tr>\n",
       "      <th>5</th>\n",
       "      <td>William Golding</td>\n",
       "      <td>3.901408</td>\n",
       "    </tr>\n",
       "    <tr>\n",
       "      <th>6</th>\n",
       "      <td>J.D. Salinger</td>\n",
       "      <td>3.825581</td>\n",
       "    </tr>\n",
       "    <tr>\n",
       "      <th>7</th>\n",
       "      <td>Paulo Coelho/Alan R. Clarke/Özdemir İnce</td>\n",
       "      <td>3.789474</td>\n",
       "    </tr>\n",
       "    <tr>\n",
       "      <th>8</th>\n",
       "      <td>William Shakespeare/Paul Werstine/Barbara A. M...</td>\n",
       "      <td>3.787879</td>\n",
       "    </tr>\n",
       "    <tr>\n",
       "      <th>9</th>\n",
       "      <td>Dan Brown</td>\n",
       "      <td>3.754540</td>\n",
       "    </tr>\n",
       "  </tbody>\n",
       "</table>\n",
       "</div>"
      ],
      "text/plain": [
       "                                              author  average_rating\n",
       "0                         J.K. Rowling/Mary GrandPré        4.283844\n",
       "1                  Markus Zusak/Cao Xuân Việt Khương        4.264151\n",
       "2                                     J.R.R. Tolkien        4.258446\n",
       "3                                  Louisa May Alcott        4.192308\n",
       "4                                       Rick Riordan        4.080645\n",
       "5                                    William Golding        3.901408\n",
       "6                                      J.D. Salinger        3.825581\n",
       "7           Paulo Coelho/Alan R. Clarke/Özdemir İnce        3.789474\n",
       "8  William Shakespeare/Paul Werstine/Barbara A. M...        3.787879\n",
       "9                                          Dan Brown        3.754540"
      ]
     },
     "execution_count": 13,
     "metadata": {},
     "output_type": "execute_result"
    }
   ],
   "source": [
    "query = '''\n",
    "SELECT author,\n",
    "       AVG(average_ratings) AS average_rating \n",
    "FROM (\n",
    "  SELECT a.author,\n",
    "         b.book_id,\n",
    "         AVG(r.rating) AS average_ratings\n",
    "  FROM authors AS a\n",
    "  LEFT JOIN books AS b ON b.author_id = a.author_id\n",
    "  LEFT JOIN ratings AS r ON r.book_id = b.book_id\n",
    "  GROUP BY 1, 2\n",
    "  HAVING COUNT(rating) > 50) AS time_table\n",
    "GROUP BY 1\n",
    "ORDER BY 2 DESC\n",
    "LIMIT 10;\n",
    "        '''\n",
    "\n",
    "# выводим запрос\n",
    "output(query)"
   ]
  },
  {
   "cell_type": "markdown",
   "metadata": {},
   "source": [
    "Как мы можем заметить средняя оценка примерно одинаковая между книгами с большим кол-вом оценок. (более 50). Однако, что интересно, что часть книг написана в соавторстве и делать выводы какой-то писатель лучше продается преждевременно."
   ]
  },
  {
   "cell_type": "markdown",
   "metadata": {},
   "source": [
    "##### Посчитаем среднее количество обзоров."
   ]
  },
  {
   "cell_type": "markdown",
   "metadata": {},
   "source": [
    "В данном запросе будем учитывать только пользователей, которые поставили больше 50 оценок."
   ]
  },
  {
   "cell_type": "code",
   "execution_count": 14,
   "metadata": {},
   "outputs": [
    {
     "data": {
      "text/html": [
       "<div>\n",
       "<style scoped>\n",
       "    .dataframe tbody tr th:only-of-type {\n",
       "        vertical-align: middle;\n",
       "    }\n",
       "\n",
       "    .dataframe tbody tr th {\n",
       "        vertical-align: top;\n",
       "    }\n",
       "\n",
       "    .dataframe thead th {\n",
       "        text-align: right;\n",
       "    }\n",
       "</style>\n",
       "<table border=\"1\" class=\"dataframe\">\n",
       "  <thead>\n",
       "    <tr style=\"text-align: right;\">\n",
       "      <th></th>\n",
       "      <th>average_count_reviews</th>\n",
       "    </tr>\n",
       "  </thead>\n",
       "  <tbody>\n",
       "    <tr>\n",
       "      <th>0</th>\n",
       "      <td>24.0</td>\n",
       "    </tr>\n",
       "  </tbody>\n",
       "</table>\n",
       "</div>"
      ],
      "text/plain": [
       "   average_count_reviews\n",
       "0                   24.0"
      ]
     },
     "execution_count": 14,
     "metadata": {},
     "output_type": "execute_result"
    }
   ],
   "source": [
    "query = '''\n",
    "SELECT ROUND(AVG(count_reviews)) AS average_count_reviews\n",
    "FROM (\n",
    "  SELECT username,\n",
    "         COUNT(review_id) as count_reviews\n",
    "  FROM reviews\n",
    "  WHERE username IN (\n",
    "      SELECT username\n",
    "      FROM ratings\n",
    "      GROUP BY 1\n",
    "      HAVING COUNT(ratings) > 50)\n",
    "GROUP BY 1\n",
    "ORDER BY 2 DESC) AS cnt_users\n",
    "        '''\n",
    "\n",
    "# выводим запрос\n",
    "output(query)"
   ]
  },
  {
   "cell_type": "markdown",
   "metadata": {},
   "source": [
    "Активный пользователь, поставивший более 50 оценок на сайте в среднем для каждой 2ой прочитанной книги оставляет обзор, что весьма существенно. "
   ]
  },
  {
   "cell_type": "markdown",
   "metadata": {},
   "source": [
    "#### Общий вывод."
   ]
  },
  {
   "cell_type": "markdown",
   "metadata": {},
   "source": [
    "- Проведен краткий анализ полученных данных нового сервиса в нашей компании: \n",
    "  - В сервисе представлено 819 книг вышедших после 1 января 2000 года;\n",
    "  - Наибольшее кол-во обзоров получила книга \"Twilight (Twilight #1)\", однако мы отметили, что данная книга скорее всего не единственная с данным названием, что может искажать рез-ты среднего рейтинга, ведь на 1 книгу с одинаковым названием могут быть разные рейтинги;\n",
    "  - Нибольшее кол-во книг толще 50 страниц выпустило издательство \"Penguin Books\" - 42 книги, далее следует \"Vintage\" с 31 книгой. \n",
    "  - Автор с наиболее высокой средней оценкой - J.K. Rowling/Mary GrandPré - 4.3. \n",
    "  - Наиболее активные пользователи сервиса оставляют рецензию на каждое 2ую прочитанную книгу. \n",
    "  \n",
    "--- \n",
    "\n",
    "- Рекомендации:\n",
    "  - Необходимо пересмотреть названия книг, т.к мы поняли могут быть дубли, в связи с разным изданием, нумерацией и т.д., что может исказить среднюю оценку для книги. Думаю решением в данном случае будет ввести категоризацию по жанрам для книг для сравнений рез-тов; \n",
    "  - Наибольшее кол-во книг выпустило издательство \"Penguin Books\" - 42 книги, думаю стоит просмотреть рейтинги внутри данного издательства и например внутри издательства \"Vintage\", вдруг какие-то книги с одинаковым названием, но разным издательством продаются лучше и получают оценки лучше;\n",
    "  - Автор получивший наивысшую среднюю оценку - J.K. Rowling/Mary GrandPré - 4.3. Однако стоит понимать, что многие книги пишутся в соавторстве, а порой получают просто переиздание, что так же может искажать среднюю оценку этот момент будет более понятен, когда в одном из будущих исследований мы сделаем жанры и проведем исследование рейтингов между издательствами; \n",
    "  - Интересно, что активные пользователи оставляют большое кол-во рецензий, думаю можно составить рейтинг рецензий, где пользователи будут оценивать друг друга и вести дискуссии (с модерацией), что-то вроде клуба книголюбов внутри нашего сервиса. "
   ]
  }
 ],
 "metadata": {
  "ExecuteTimeLog": [
   {
    "duration": 526,
    "start_time": "2023-04-30T18:26:37.510Z"
   },
   {
    "duration": 591,
    "start_time": "2023-04-30T18:27:05.244Z"
   },
   {
    "duration": 5,
    "start_time": "2023-04-30T18:27:05.837Z"
   },
   {
    "duration": 5808,
    "start_time": "2023-04-30T18:27:05.844Z"
   },
   {
    "duration": 43,
    "start_time": "2023-04-30T18:36:10.926Z"
   },
   {
    "duration": 551,
    "start_time": "2023-04-30T18:36:29.125Z"
   },
   {
    "duration": 4,
    "start_time": "2023-04-30T18:36:29.678Z"
   },
   {
    "duration": 4608,
    "start_time": "2023-04-30T18:36:29.683Z"
   },
   {
    "duration": 43,
    "start_time": "2023-04-30T18:36:34.293Z"
   },
   {
    "duration": 39,
    "start_time": "2023-04-30T18:36:52.672Z"
   },
   {
    "duration": 21,
    "start_time": "2023-04-30T18:37:00.454Z"
   },
   {
    "duration": 11,
    "start_time": "2023-04-30T18:38:50.672Z"
   },
   {
    "duration": 511,
    "start_time": "2023-04-30T18:40:04.495Z"
   },
   {
    "duration": 4,
    "start_time": "2023-04-30T18:40:05.008Z"
   },
   {
    "duration": 5106,
    "start_time": "2023-04-30T18:40:05.014Z"
   },
   {
    "duration": 83,
    "start_time": "2023-04-30T18:40:10.122Z"
   },
   {
    "duration": 12,
    "start_time": "2023-04-30T18:40:10.207Z"
   },
   {
    "duration": 18,
    "start_time": "2023-04-30T18:40:10.220Z"
   },
   {
    "duration": 14,
    "start_time": "2023-04-30T18:42:22.010Z"
   },
   {
    "duration": 493,
    "start_time": "2023-04-30T18:43:35.705Z"
   },
   {
    "duration": 4,
    "start_time": "2023-04-30T18:43:36.200Z"
   },
   {
    "duration": 4534,
    "start_time": "2023-04-30T18:43:36.205Z"
   },
   {
    "duration": 68,
    "start_time": "2023-04-30T18:43:40.741Z"
   },
   {
    "duration": 10,
    "start_time": "2023-04-30T18:43:40.811Z"
   },
   {
    "duration": 11,
    "start_time": "2023-04-30T18:43:40.823Z"
   },
   {
    "duration": 11,
    "start_time": "2023-04-30T18:43:40.835Z"
   },
   {
    "duration": 11,
    "start_time": "2023-04-30T18:43:40.848Z"
   },
   {
    "duration": 45,
    "start_time": "2023-04-30T18:44:47.969Z"
   },
   {
    "duration": 507,
    "start_time": "2023-04-30T18:53:28.879Z"
   },
   {
    "duration": 3,
    "start_time": "2023-04-30T18:53:29.388Z"
   },
   {
    "duration": 4758,
    "start_time": "2023-04-30T18:53:29.393Z"
   },
   {
    "duration": 46,
    "start_time": "2023-04-30T18:53:34.153Z"
   },
   {
    "duration": 13,
    "start_time": "2023-04-30T18:53:34.200Z"
   },
   {
    "duration": 13,
    "start_time": "2023-04-30T18:53:34.215Z"
   },
   {
    "duration": 12,
    "start_time": "2023-04-30T18:53:34.229Z"
   },
   {
    "duration": 15,
    "start_time": "2023-04-30T18:53:34.243Z"
   },
   {
    "duration": 11,
    "start_time": "2023-04-30T18:53:34.260Z"
   },
   {
    "duration": 36,
    "start_time": "2023-04-30T19:02:45.531Z"
   },
   {
    "duration": 39,
    "start_time": "2023-04-30T19:03:17.527Z"
   },
   {
    "duration": 29,
    "start_time": "2023-04-30T19:03:30.394Z"
   },
   {
    "duration": 68,
    "start_time": "2023-04-30T19:08:25.392Z"
   },
   {
    "duration": 41,
    "start_time": "2023-04-30T19:10:45.495Z"
   },
   {
    "duration": 594,
    "start_time": "2023-04-30T19:29:06.131Z"
   },
   {
    "duration": 4,
    "start_time": "2023-04-30T19:29:06.727Z"
   },
   {
    "duration": 5269,
    "start_time": "2023-04-30T19:29:06.733Z"
   },
   {
    "duration": 3,
    "start_time": "2023-04-30T19:29:12.004Z"
   },
   {
    "duration": 87,
    "start_time": "2023-04-30T19:29:12.009Z"
   },
   {
    "duration": 11,
    "start_time": "2023-04-30T19:29:12.097Z"
   },
   {
    "duration": 45,
    "start_time": "2023-04-30T19:29:12.110Z"
   },
   {
    "duration": 29,
    "start_time": "2023-04-30T19:29:12.157Z"
   },
   {
    "duration": 11,
    "start_time": "2023-04-30T19:29:12.188Z"
   },
   {
    "duration": 13,
    "start_time": "2023-04-30T19:29:12.202Z"
   },
   {
    "duration": 31,
    "start_time": "2023-04-30T19:29:12.217Z"
   },
   {
    "duration": 166,
    "start_time": "2023-04-30T19:29:12.250Z"
   },
   {
    "duration": 0,
    "start_time": "2023-04-30T19:29:12.418Z"
   },
   {
    "duration": 0,
    "start_time": "2023-04-30T19:29:12.419Z"
   },
   {
    "duration": 21,
    "start_time": "2023-04-30T19:30:53.903Z"
   },
   {
    "duration": 86,
    "start_time": "2023-04-30T19:44:28.344Z"
   },
   {
    "duration": 77,
    "start_time": "2023-04-30T19:44:59.252Z"
   },
   {
    "duration": 18,
    "start_time": "2023-04-30T19:45:45.544Z"
   },
   {
    "duration": 503,
    "start_time": "2023-04-30T19:45:56.391Z"
   },
   {
    "duration": 3,
    "start_time": "2023-04-30T19:45:56.896Z"
   },
   {
    "duration": 5304,
    "start_time": "2023-04-30T19:45:56.901Z"
   },
   {
    "duration": 6,
    "start_time": "2023-04-30T19:46:02.208Z"
   },
   {
    "duration": 92,
    "start_time": "2023-04-30T19:46:02.219Z"
   },
   {
    "duration": 11,
    "start_time": "2023-04-30T19:46:02.312Z"
   },
   {
    "duration": 12,
    "start_time": "2023-04-30T19:46:02.325Z"
   },
   {
    "duration": 16,
    "start_time": "2023-04-30T19:46:02.338Z"
   },
   {
    "duration": 25,
    "start_time": "2023-04-30T19:46:02.355Z"
   },
   {
    "duration": 13,
    "start_time": "2023-04-30T19:46:02.382Z"
   },
   {
    "duration": 28,
    "start_time": "2023-04-30T19:46:02.397Z"
   },
   {
    "duration": 15,
    "start_time": "2023-04-30T19:46:02.427Z"
   },
   {
    "duration": 13,
    "start_time": "2023-04-30T19:46:02.443Z"
   },
   {
    "duration": 23,
    "start_time": "2023-04-30T19:46:02.459Z"
   },
   {
    "duration": 15,
    "start_time": "2023-04-30T19:46:26.174Z"
   },
   {
    "duration": 23,
    "start_time": "2023-04-30T19:47:21.088Z"
   },
   {
    "duration": 32,
    "start_time": "2023-04-30T19:48:18.976Z"
   },
   {
    "duration": 523,
    "start_time": "2023-04-30T19:49:43.473Z"
   },
   {
    "duration": 4,
    "start_time": "2023-04-30T19:49:43.998Z"
   },
   {
    "duration": 5043,
    "start_time": "2023-04-30T19:49:44.004Z"
   },
   {
    "duration": 3,
    "start_time": "2023-04-30T19:49:49.049Z"
   },
   {
    "duration": 67,
    "start_time": "2023-04-30T19:49:49.053Z"
   },
   {
    "duration": 10,
    "start_time": "2023-04-30T19:49:49.121Z"
   },
   {
    "duration": 10,
    "start_time": "2023-04-30T19:49:49.133Z"
   },
   {
    "duration": 11,
    "start_time": "2023-04-30T19:49:49.145Z"
   },
   {
    "duration": 17,
    "start_time": "2023-04-30T19:49:49.157Z"
   },
   {
    "duration": 10,
    "start_time": "2023-04-30T19:49:49.177Z"
   },
   {
    "duration": 34,
    "start_time": "2023-04-30T19:49:49.188Z"
   },
   {
    "duration": 14,
    "start_time": "2023-04-30T19:49:49.223Z"
   },
   {
    "duration": 13,
    "start_time": "2023-04-30T19:49:49.238Z"
   },
   {
    "duration": 29,
    "start_time": "2023-04-30T19:49:49.252Z"
   },
   {
    "duration": 32,
    "start_time": "2023-04-30T19:49:49.283Z"
   },
   {
    "duration": 142,
    "start_time": "2023-04-30T19:51:18.881Z"
   },
   {
    "duration": 30,
    "start_time": "2023-04-30T19:51:31.775Z"
   },
   {
    "duration": 34,
    "start_time": "2023-04-30T19:51:58.945Z"
   },
   {
    "duration": 12,
    "start_time": "2023-04-30T19:52:42.824Z"
   },
   {
    "duration": 16,
    "start_time": "2023-04-30T19:53:06.073Z"
   },
   {
    "duration": 21,
    "start_time": "2023-04-30T19:55:28.442Z"
   },
   {
    "duration": 28,
    "start_time": "2023-04-30T20:06:40.655Z"
   },
   {
    "duration": 30,
    "start_time": "2023-04-30T20:06:55.194Z"
   },
   {
    "duration": 30,
    "start_time": "2023-04-30T20:07:07.014Z"
   },
   {
    "duration": 501,
    "start_time": "2023-04-30T20:07:12.054Z"
   },
   {
    "duration": 4,
    "start_time": "2023-04-30T20:07:12.557Z"
   },
   {
    "duration": 4666,
    "start_time": "2023-04-30T20:07:12.563Z"
   },
   {
    "duration": 3,
    "start_time": "2023-04-30T20:07:17.231Z"
   },
   {
    "duration": 69,
    "start_time": "2023-04-30T20:07:17.235Z"
   },
   {
    "duration": 10,
    "start_time": "2023-04-30T20:07:17.305Z"
   },
   {
    "duration": 13,
    "start_time": "2023-04-30T20:07:17.317Z"
   },
   {
    "duration": 11,
    "start_time": "2023-04-30T20:07:17.331Z"
   },
   {
    "duration": 9,
    "start_time": "2023-04-30T20:07:17.344Z"
   },
   {
    "duration": 11,
    "start_time": "2023-04-30T20:07:17.355Z"
   },
   {
    "duration": 27,
    "start_time": "2023-04-30T20:07:17.367Z"
   },
   {
    "duration": 10,
    "start_time": "2023-04-30T20:07:17.396Z"
   },
   {
    "duration": 19,
    "start_time": "2023-04-30T20:07:17.408Z"
   },
   {
    "duration": 21,
    "start_time": "2023-04-30T20:07:17.428Z"
   },
   {
    "duration": 28,
    "start_time": "2023-04-30T20:07:29.642Z"
   },
   {
    "duration": 28,
    "start_time": "2023-04-30T20:07:49.572Z"
   },
   {
    "duration": 29,
    "start_time": "2023-04-30T20:08:10.884Z"
   },
   {
    "duration": 445,
    "start_time": "2023-04-30T20:08:15.914Z"
   },
   {
    "duration": 3,
    "start_time": "2023-04-30T20:08:16.360Z"
   },
   {
    "duration": 4697,
    "start_time": "2023-04-30T20:08:16.365Z"
   },
   {
    "duration": 3,
    "start_time": "2023-04-30T20:08:21.064Z"
   },
   {
    "duration": 70,
    "start_time": "2023-04-30T20:08:21.068Z"
   },
   {
    "duration": 12,
    "start_time": "2023-04-30T20:08:21.140Z"
   },
   {
    "duration": 11,
    "start_time": "2023-04-30T20:08:21.154Z"
   },
   {
    "duration": 17,
    "start_time": "2023-04-30T20:08:21.166Z"
   },
   {
    "duration": 10,
    "start_time": "2023-04-30T20:08:21.185Z"
   },
   {
    "duration": 9,
    "start_time": "2023-04-30T20:08:21.197Z"
   },
   {
    "duration": 31,
    "start_time": "2023-04-30T20:08:21.208Z"
   },
   {
    "duration": 24,
    "start_time": "2023-04-30T20:08:21.241Z"
   },
   {
    "duration": 14,
    "start_time": "2023-04-30T20:08:21.267Z"
   },
   {
    "duration": 14,
    "start_time": "2023-04-30T20:08:21.283Z"
   },
   {
    "duration": 35,
    "start_time": "2023-04-30T20:10:15.654Z"
   },
   {
    "duration": 34,
    "start_time": "2023-04-30T20:13:47.103Z"
   },
   {
    "duration": 29,
    "start_time": "2023-04-30T20:15:06.614Z"
   },
   {
    "duration": 518,
    "start_time": "2023-04-30T20:15:15.064Z"
   },
   {
    "duration": 4,
    "start_time": "2023-04-30T20:15:15.584Z"
   },
   {
    "duration": 4696,
    "start_time": "2023-04-30T20:15:15.590Z"
   },
   {
    "duration": 3,
    "start_time": "2023-04-30T20:15:20.288Z"
   },
   {
    "duration": 105,
    "start_time": "2023-04-30T20:15:20.293Z"
   },
   {
    "duration": 11,
    "start_time": "2023-04-30T20:15:20.399Z"
   },
   {
    "duration": 12,
    "start_time": "2023-04-30T20:15:20.411Z"
   },
   {
    "duration": 14,
    "start_time": "2023-04-30T20:15:20.425Z"
   },
   {
    "duration": 18,
    "start_time": "2023-04-30T20:15:20.441Z"
   },
   {
    "duration": 11,
    "start_time": "2023-04-30T20:15:20.461Z"
   },
   {
    "duration": 28,
    "start_time": "2023-04-30T20:15:20.473Z"
   },
   {
    "duration": 12,
    "start_time": "2023-04-30T20:15:20.503Z"
   },
   {
    "duration": 11,
    "start_time": "2023-04-30T20:15:20.516Z"
   },
   {
    "duration": 33,
    "start_time": "2023-04-30T20:15:20.529Z"
   },
   {
    "duration": 29,
    "start_time": "2023-04-30T20:15:20.563Z"
   },
   {
    "duration": 35,
    "start_time": "2023-04-30T20:15:48.182Z"
   },
   {
    "duration": 136,
    "start_time": "2023-04-30T20:17:09.359Z"
   },
   {
    "duration": 496,
    "start_time": "2023-04-30T20:17:38.864Z"
   },
   {
    "duration": 4,
    "start_time": "2023-04-30T20:17:39.362Z"
   },
   {
    "duration": 4462,
    "start_time": "2023-04-30T20:17:39.367Z"
   },
   {
    "duration": 3,
    "start_time": "2023-04-30T20:17:43.831Z"
   },
   {
    "duration": 80,
    "start_time": "2023-04-30T20:17:43.835Z"
   },
   {
    "duration": 15,
    "start_time": "2023-04-30T20:17:43.917Z"
   },
   {
    "duration": 53,
    "start_time": "2023-04-30T20:17:43.934Z"
   },
   {
    "duration": 14,
    "start_time": "2023-04-30T20:17:43.989Z"
   },
   {
    "duration": 29,
    "start_time": "2023-04-30T20:17:44.005Z"
   },
   {
    "duration": 12,
    "start_time": "2023-04-30T20:17:44.037Z"
   },
   {
    "duration": 38,
    "start_time": "2023-04-30T20:17:44.051Z"
   },
   {
    "duration": 14,
    "start_time": "2023-04-30T20:17:44.091Z"
   },
   {
    "duration": 13,
    "start_time": "2023-04-30T20:17:44.107Z"
   },
   {
    "duration": 39,
    "start_time": "2023-04-30T20:17:44.122Z"
   },
   {
    "duration": 28,
    "start_time": "2023-04-30T20:17:44.163Z"
   },
   {
    "duration": 24,
    "start_time": "2023-04-30T20:18:31.405Z"
   },
   {
    "duration": 157,
    "start_time": "2023-04-30T20:19:20.935Z"
   },
   {
    "duration": 21,
    "start_time": "2023-04-30T20:19:25.623Z"
   },
   {
    "duration": 23,
    "start_time": "2023-04-30T20:19:39.104Z"
   },
   {
    "duration": 68,
    "start_time": "2023-04-30T20:19:44.836Z"
   },
   {
    "duration": 28,
    "start_time": "2023-04-30T20:20:28.848Z"
   },
   {
    "duration": 30,
    "start_time": "2023-04-30T20:21:22.495Z"
   },
   {
    "duration": 22,
    "start_time": "2023-04-30T20:21:38.345Z"
   },
   {
    "duration": 4,
    "start_time": "2023-04-30T20:22:11.194Z"
   },
   {
    "duration": 22,
    "start_time": "2023-04-30T20:22:16.006Z"
   },
   {
    "duration": 21,
    "start_time": "2023-04-30T20:22:35.576Z"
   },
   {
    "duration": 23,
    "start_time": "2023-04-30T20:23:31.495Z"
   },
   {
    "duration": 25,
    "start_time": "2023-04-30T20:24:57.427Z"
   },
   {
    "duration": 12,
    "start_time": "2023-04-30T20:30:14.834Z"
   },
   {
    "duration": 480,
    "start_time": "2023-04-30T20:32:47.585Z"
   },
   {
    "duration": 4,
    "start_time": "2023-04-30T20:32:48.067Z"
   },
   {
    "duration": 4383,
    "start_time": "2023-04-30T20:32:48.073Z"
   },
   {
    "duration": 3,
    "start_time": "2023-04-30T20:32:52.458Z"
   },
   {
    "duration": 78,
    "start_time": "2023-04-30T20:32:52.463Z"
   },
   {
    "duration": 10,
    "start_time": "2023-04-30T20:32:52.542Z"
   },
   {
    "duration": 10,
    "start_time": "2023-04-30T20:32:52.553Z"
   },
   {
    "duration": 11,
    "start_time": "2023-04-30T20:32:52.564Z"
   },
   {
    "duration": 10,
    "start_time": "2023-04-30T20:32:52.576Z"
   },
   {
    "duration": 9,
    "start_time": "2023-04-30T20:32:52.588Z"
   },
   {
    "duration": 20,
    "start_time": "2023-04-30T20:32:52.598Z"
   },
   {
    "duration": 10,
    "start_time": "2023-04-30T20:32:52.620Z"
   },
   {
    "duration": 129,
    "start_time": "2023-04-30T20:34:04.241Z"
   },
   {
    "duration": 22,
    "start_time": "2023-04-30T20:34:10.045Z"
   },
   {
    "duration": 547,
    "start_time": "2023-05-01T06:48:52.864Z"
   },
   {
    "duration": 4,
    "start_time": "2023-05-01T06:48:53.413Z"
   },
   {
    "duration": 8577,
    "start_time": "2023-05-01T06:48:53.418Z"
   },
   {
    "duration": 3,
    "start_time": "2023-05-01T06:49:01.997Z"
   },
   {
    "duration": 352,
    "start_time": "2023-05-01T06:49:02.003Z"
   },
   {
    "duration": 72,
    "start_time": "2023-05-01T06:49:02.357Z"
   },
   {
    "duration": 77,
    "start_time": "2023-05-01T06:49:02.430Z"
   },
   {
    "duration": 73,
    "start_time": "2023-05-01T06:49:02.509Z"
   },
   {
    "duration": 77,
    "start_time": "2023-05-01T06:49:02.588Z"
   },
   {
    "duration": 77,
    "start_time": "2023-05-01T06:49:02.666Z"
   },
   {
    "duration": 92,
    "start_time": "2023-05-01T06:49:02.745Z"
   },
   {
    "duration": 85,
    "start_time": "2023-05-01T06:49:02.838Z"
   },
   {
    "duration": 103,
    "start_time": "2023-05-01T07:05:19.333Z"
   },
   {
    "duration": 215,
    "start_time": "2023-05-01T07:05:46.303Z"
   },
   {
    "duration": 104,
    "start_time": "2023-05-01T07:06:02.442Z"
   },
   {
    "duration": 105,
    "start_time": "2023-05-01T07:07:55.892Z"
   },
   {
    "duration": 114,
    "start_time": "2023-05-01T07:08:16.793Z"
   },
   {
    "duration": 174,
    "start_time": "2023-05-01T07:15:24.484Z"
   },
   {
    "duration": 165,
    "start_time": "2023-05-01T07:15:37.692Z"
   },
   {
    "duration": 296,
    "start_time": "2023-05-01T07:16:23.441Z"
   },
   {
    "duration": 173,
    "start_time": "2023-05-01T07:17:02.843Z"
   },
   {
    "duration": 155,
    "start_time": "2023-05-01T07:17:28.793Z"
   },
   {
    "duration": 197,
    "start_time": "2023-05-01T07:18:21.962Z"
   },
   {
    "duration": 381,
    "start_time": "2023-05-01T07:18:31.283Z"
   },
   {
    "duration": 163,
    "start_time": "2023-05-01T07:18:41.233Z"
   },
   {
    "duration": 93,
    "start_time": "2023-05-01T07:19:05.302Z"
   },
   {
    "duration": 160,
    "start_time": "2023-05-01T07:19:30.042Z"
   },
   {
    "duration": 101,
    "start_time": "2023-05-01T07:19:35.212Z"
   },
   {
    "duration": 104,
    "start_time": "2023-05-01T07:20:41.436Z"
   },
   {
    "duration": 103,
    "start_time": "2023-05-01T07:21:19.976Z"
   },
   {
    "duration": 104,
    "start_time": "2023-05-01T07:22:41.392Z"
   },
   {
    "duration": 93,
    "start_time": "2023-05-01T07:24:18.552Z"
   },
   {
    "duration": 94,
    "start_time": "2023-05-01T07:25:08.463Z"
   },
   {
    "duration": 94,
    "start_time": "2023-05-01T07:25:36.315Z"
   },
   {
    "duration": 104,
    "start_time": "2023-05-01T07:26:55.663Z"
   },
   {
    "duration": 79,
    "start_time": "2023-05-01T07:28:35.313Z"
   },
   {
    "duration": 79,
    "start_time": "2023-05-01T07:29:21.342Z"
   },
   {
    "duration": 79,
    "start_time": "2023-05-01T07:30:22.883Z"
   },
   {
    "duration": 77,
    "start_time": "2023-05-01T07:30:36.612Z"
   },
   {
    "duration": 223,
    "start_time": "2023-05-01T08:18:17.572Z"
   },
   {
    "duration": 78,
    "start_time": "2023-05-01T08:18:48.697Z"
   },
   {
    "duration": 315,
    "start_time": "2023-05-01T08:19:09.773Z"
   },
   {
    "duration": 242,
    "start_time": "2023-05-01T08:19:29.282Z"
   },
   {
    "duration": 272,
    "start_time": "2023-05-01T08:19:45.161Z"
   },
   {
    "duration": 518,
    "start_time": "2023-05-01T08:19:52.551Z"
   },
   {
    "duration": 257,
    "start_time": "2023-05-01T08:20:07.594Z"
   },
   {
    "duration": 241,
    "start_time": "2023-05-01T08:20:12.684Z"
   },
   {
    "duration": 101,
    "start_time": "2023-05-01T08:20:36.642Z"
   },
   {
    "duration": 168,
    "start_time": "2023-05-01T08:25:35.991Z"
   },
   {
    "duration": 182,
    "start_time": "2023-05-01T08:25:52.381Z"
   },
   {
    "duration": 159,
    "start_time": "2023-05-01T08:26:27.780Z"
   },
   {
    "duration": 81,
    "start_time": "2023-05-01T08:26:38.980Z"
   },
   {
    "duration": 75,
    "start_time": "2023-05-01T08:26:55.641Z"
   },
   {
    "duration": 158,
    "start_time": "2023-05-01T08:33:57.101Z"
   },
   {
    "duration": 194,
    "start_time": "2023-05-01T08:34:52.971Z"
   },
   {
    "duration": 244,
    "start_time": "2023-05-01T08:35:03.732Z"
   },
   {
    "duration": 192,
    "start_time": "2023-05-01T08:35:41.112Z"
   },
   {
    "duration": 79,
    "start_time": "2023-05-01T08:35:46.262Z"
   },
   {
    "duration": 272,
    "start_time": "2023-05-01T08:37:13.531Z"
   },
   {
    "duration": 161,
    "start_time": "2023-05-01T08:37:22.142Z"
   },
   {
    "duration": 207,
    "start_time": "2023-05-01T08:37:48.392Z"
   },
   {
    "duration": 221,
    "start_time": "2023-05-01T08:38:26.441Z"
   },
   {
    "duration": 76,
    "start_time": "2023-05-01T08:38:46.480Z"
   },
   {
    "duration": 91,
    "start_time": "2023-05-01T08:40:34.461Z"
   },
   {
    "duration": 77,
    "start_time": "2023-05-01T08:41:11.681Z"
   },
   {
    "duration": 76,
    "start_time": "2023-05-01T08:41:56.851Z"
   },
   {
    "duration": 177,
    "start_time": "2023-05-01T08:44:35.613Z"
   },
   {
    "duration": 191,
    "start_time": "2023-05-01T08:45:02.002Z"
   },
   {
    "duration": 203,
    "start_time": "2023-05-01T08:46:45.111Z"
   },
   {
    "duration": 221,
    "start_time": "2023-05-01T08:46:54.921Z"
   },
   {
    "duration": 91,
    "start_time": "2023-05-01T08:47:01.943Z"
   },
   {
    "duration": 166,
    "start_time": "2023-05-01T08:50:55.822Z"
   },
   {
    "duration": 188,
    "start_time": "2023-05-01T08:51:04.742Z"
   },
   {
    "duration": 177,
    "start_time": "2023-05-01T08:51:22.931Z"
   },
   {
    "duration": 80,
    "start_time": "2023-05-01T08:52:56.832Z"
   },
   {
    "duration": 198,
    "start_time": "2023-05-01T08:53:15.300Z"
   },
   {
    "duration": 95,
    "start_time": "2023-05-01T08:53:26.873Z"
   },
   {
    "duration": 247,
    "start_time": "2023-05-01T08:55:23.374Z"
   },
   {
    "duration": 80,
    "start_time": "2023-05-01T08:55:31.778Z"
   },
   {
    "duration": 589,
    "start_time": "2023-05-01T09:05:05.603Z"
   },
   {
    "duration": 3,
    "start_time": "2023-05-01T09:05:06.194Z"
   },
   {
    "duration": 15148,
    "start_time": "2023-05-01T09:05:06.199Z"
   },
   {
    "duration": 3,
    "start_time": "2023-05-01T09:05:21.350Z"
   },
   {
    "duration": 261,
    "start_time": "2023-05-01T09:05:21.354Z"
   },
   {
    "duration": 73,
    "start_time": "2023-05-01T09:05:21.616Z"
   },
   {
    "duration": 74,
    "start_time": "2023-05-01T09:05:21.691Z"
   },
   {
    "duration": 76,
    "start_time": "2023-05-01T09:05:21.766Z"
   },
   {
    "duration": 76,
    "start_time": "2023-05-01T09:05:21.844Z"
   },
   {
    "duration": 73,
    "start_time": "2023-05-01T09:05:21.924Z"
   },
   {
    "duration": 87,
    "start_time": "2023-05-01T09:05:21.999Z"
   },
   {
    "duration": 76,
    "start_time": "2023-05-01T09:05:22.088Z"
   },
   {
    "duration": 82,
    "start_time": "2023-05-01T09:05:22.166Z"
   },
   {
    "duration": 78,
    "start_time": "2023-05-01T09:05:22.249Z"
   },
   {
    "duration": 236,
    "start_time": "2023-05-01T09:07:25.271Z"
   },
   {
    "duration": 228,
    "start_time": "2023-05-01T09:08:06.933Z"
   },
   {
    "duration": 76,
    "start_time": "2023-05-01T09:08:37.942Z"
   },
   {
    "duration": 76,
    "start_time": "2023-05-01T09:09:01.301Z"
   },
   {
    "duration": 186,
    "start_time": "2023-05-01T09:09:23.812Z"
   },
   {
    "duration": 78,
    "start_time": "2023-05-01T09:09:46.992Z"
   },
   {
    "duration": 77,
    "start_time": "2023-05-01T09:10:06.485Z"
   },
   {
    "duration": 194,
    "start_time": "2023-05-01T09:10:39.875Z"
   },
   {
    "duration": 194,
    "start_time": "2023-05-01T09:10:55.975Z"
   },
   {
    "duration": 172,
    "start_time": "2023-05-01T09:11:20.901Z"
   },
   {
    "duration": 78,
    "start_time": "2023-05-01T09:11:28.420Z"
   },
   {
    "duration": 75,
    "start_time": "2023-05-01T09:11:56.401Z"
   },
   {
    "duration": 83,
    "start_time": "2023-05-01T09:12:09.812Z"
   },
   {
    "duration": 77,
    "start_time": "2023-05-01T09:12:41.641Z"
   },
   {
    "duration": 92,
    "start_time": "2023-05-01T09:13:15.801Z"
   },
   {
    "duration": 580,
    "start_time": "2023-05-01T09:13:30.294Z"
   },
   {
    "duration": 4,
    "start_time": "2023-05-01T09:13:30.882Z"
   },
   {
    "duration": 9607,
    "start_time": "2023-05-01T09:13:30.888Z"
   },
   {
    "duration": 3,
    "start_time": "2023-05-01T09:13:40.497Z"
   },
   {
    "duration": 260,
    "start_time": "2023-05-01T09:13:40.501Z"
   },
   {
    "duration": 73,
    "start_time": "2023-05-01T09:13:40.762Z"
   },
   {
    "duration": 72,
    "start_time": "2023-05-01T09:13:40.837Z"
   },
   {
    "duration": 130,
    "start_time": "2023-05-01T09:13:40.910Z"
   },
   {
    "duration": 74,
    "start_time": "2023-05-01T09:13:41.041Z"
   },
   {
    "duration": 73,
    "start_time": "2023-05-01T09:13:41.117Z"
   },
   {
    "duration": 83,
    "start_time": "2023-05-01T09:13:41.192Z"
   },
   {
    "duration": 74,
    "start_time": "2023-05-01T09:13:41.277Z"
   },
   {
    "duration": 78,
    "start_time": "2023-05-01T09:13:41.352Z"
   },
   {
    "duration": 76,
    "start_time": "2023-05-01T09:13:41.432Z"
   },
   {
    "duration": 90,
    "start_time": "2023-05-01T09:49:43.501Z"
   },
   {
    "duration": 242,
    "start_time": "2023-05-01T09:50:57.034Z"
   },
   {
    "duration": 90,
    "start_time": "2023-05-01T09:51:03.815Z"
   },
   {
    "duration": 87,
    "start_time": "2023-05-01T09:53:15.605Z"
   },
   {
    "duration": 104,
    "start_time": "2023-05-01T09:53:26.206Z"
   },
   {
    "duration": 577,
    "start_time": "2023-05-01T10:12:11.649Z"
   },
   {
    "duration": 4,
    "start_time": "2023-05-01T10:12:12.228Z"
   },
   {
    "duration": 10165,
    "start_time": "2023-05-01T10:12:12.234Z"
   },
   {
    "duration": 4,
    "start_time": "2023-05-01T10:12:22.401Z"
   },
   {
    "duration": 326,
    "start_time": "2023-05-01T10:12:22.409Z"
   },
   {
    "duration": 85,
    "start_time": "2023-05-01T10:12:22.737Z"
   },
   {
    "duration": 80,
    "start_time": "2023-05-01T10:12:22.823Z"
   },
   {
    "duration": 92,
    "start_time": "2023-05-01T10:12:22.905Z"
   },
   {
    "duration": 72,
    "start_time": "2023-05-01T10:12:23.000Z"
   },
   {
    "duration": 83,
    "start_time": "2023-05-01T10:12:23.074Z"
   },
   {
    "duration": 92,
    "start_time": "2023-05-01T10:12:23.159Z"
   },
   {
    "duration": 86,
    "start_time": "2023-05-01T10:12:23.253Z"
   },
   {
    "duration": 78,
    "start_time": "2023-05-01T10:12:23.341Z"
   },
   {
    "duration": 79,
    "start_time": "2023-05-01T10:12:23.422Z"
   },
   {
    "duration": 512,
    "start_time": "2023-05-01T10:20:38.238Z"
   },
   {
    "duration": 4,
    "start_time": "2023-05-01T10:20:38.752Z"
   },
   {
    "duration": 11098,
    "start_time": "2023-05-01T10:20:38.758Z"
   },
   {
    "duration": 4,
    "start_time": "2023-05-01T10:20:49.858Z"
   },
   {
    "duration": 309,
    "start_time": "2023-05-01T10:20:49.866Z"
   },
   {
    "duration": 83,
    "start_time": "2023-05-01T10:20:50.177Z"
   },
   {
    "duration": 78,
    "start_time": "2023-05-01T10:20:50.262Z"
   },
   {
    "duration": 87,
    "start_time": "2023-05-01T10:20:50.342Z"
   },
   {
    "duration": 86,
    "start_time": "2023-05-01T10:20:50.430Z"
   },
   {
    "duration": 86,
    "start_time": "2023-05-01T10:20:50.518Z"
   },
   {
    "duration": 93,
    "start_time": "2023-05-01T10:20:50.607Z"
   },
   {
    "duration": 77,
    "start_time": "2023-05-01T10:20:50.702Z"
   },
   {
    "duration": 89,
    "start_time": "2023-05-01T10:20:50.781Z"
   },
   {
    "duration": 82,
    "start_time": "2023-05-01T10:20:50.873Z"
   },
   {
    "duration": 525,
    "start_time": "2023-05-01T10:21:58.295Z"
   },
   {
    "duration": 4,
    "start_time": "2023-05-01T10:21:58.822Z"
   },
   {
    "duration": 9196,
    "start_time": "2023-05-01T10:21:58.828Z"
   },
   {
    "duration": 3,
    "start_time": "2023-05-01T10:22:08.026Z"
   },
   {
    "duration": 330,
    "start_time": "2023-05-01T10:22:08.032Z"
   },
   {
    "duration": 84,
    "start_time": "2023-05-01T10:22:08.365Z"
   },
   {
    "duration": 91,
    "start_time": "2023-05-01T10:22:08.452Z"
   },
   {
    "duration": 84,
    "start_time": "2023-05-01T10:22:08.545Z"
   },
   {
    "duration": 86,
    "start_time": "2023-05-01T10:22:08.631Z"
   },
   {
    "duration": 85,
    "start_time": "2023-05-01T10:22:08.719Z"
   },
   {
    "duration": 89,
    "start_time": "2023-05-01T10:22:08.806Z"
   },
   {
    "duration": 80,
    "start_time": "2023-05-01T10:22:08.896Z"
   },
   {
    "duration": 87,
    "start_time": "2023-05-01T10:22:08.978Z"
   },
   {
    "duration": 84,
    "start_time": "2023-05-01T10:22:09.067Z"
   },
   {
    "duration": 458,
    "start_time": "2023-05-02T01:17:08.372Z"
   },
   {
    "duration": 3,
    "start_time": "2023-05-02T01:17:08.832Z"
   },
   {
    "duration": 9153,
    "start_time": "2023-05-02T01:17:08.837Z"
   },
   {
    "duration": 3,
    "start_time": "2023-05-02T01:17:17.992Z"
   },
   {
    "duration": 280,
    "start_time": "2023-05-02T01:17:17.996Z"
   },
   {
    "duration": 75,
    "start_time": "2023-05-02T01:17:18.277Z"
   },
   {
    "duration": 77,
    "start_time": "2023-05-02T01:17:18.354Z"
   },
   {
    "duration": 76,
    "start_time": "2023-05-02T01:17:18.432Z"
   },
   {
    "duration": 76,
    "start_time": "2023-05-02T01:17:18.511Z"
   },
   {
    "duration": 75,
    "start_time": "2023-05-02T01:17:18.590Z"
   },
   {
    "duration": 88,
    "start_time": "2023-05-02T01:17:18.667Z"
   },
   {
    "duration": 78,
    "start_time": "2023-05-02T01:17:18.757Z"
   },
   {
    "duration": 81,
    "start_time": "2023-05-02T01:17:18.837Z"
   },
   {
    "duration": 80,
    "start_time": "2023-05-02T01:17:18.920Z"
   },
   {
    "duration": 127,
    "start_time": "2023-05-02T01:17:46.940Z"
   },
   {
    "duration": 535,
    "start_time": "2023-06-22T16:40:10.525Z"
   },
   {
    "duration": 4,
    "start_time": "2023-06-22T16:40:11.062Z"
   },
   {
    "duration": 10126,
    "start_time": "2023-06-22T16:40:11.070Z"
   },
   {
    "duration": 4,
    "start_time": "2023-06-22T16:40:21.199Z"
   },
   {
    "duration": 126,
    "start_time": "2023-06-22T16:40:21.205Z"
   },
   {
    "duration": 12,
    "start_time": "2023-06-22T16:40:21.333Z"
   },
   {
    "duration": 20,
    "start_time": "2023-06-22T16:40:21.347Z"
   },
   {
    "duration": 36,
    "start_time": "2023-06-22T16:40:21.370Z"
   },
   {
    "duration": 12,
    "start_time": "2023-06-22T16:40:21.407Z"
   },
   {
    "duration": 10,
    "start_time": "2023-06-22T16:40:21.421Z"
   },
   {
    "duration": 35,
    "start_time": "2023-06-22T16:40:21.432Z"
   },
   {
    "duration": 38,
    "start_time": "2023-06-22T16:40:21.468Z"
   },
   {
    "duration": 17,
    "start_time": "2023-06-22T16:40:21.508Z"
   },
   {
    "duration": 26,
    "start_time": "2023-06-22T16:40:21.526Z"
   }
  ],
  "kernelspec": {
   "display_name": "Python 3 (ipykernel)",
   "language": "python",
   "name": "python3"
  },
  "language_info": {
   "codemirror_mode": {
    "name": "ipython",
    "version": 3
   },
   "file_extension": ".py",
   "mimetype": "text/x-python",
   "name": "python",
   "nbconvert_exporter": "python",
   "pygments_lexer": "ipython3",
   "version": "3.9.5"
  },
  "toc": {
   "base_numbering": 1,
   "nav_menu": {},
   "number_sections": true,
   "sideBar": true,
   "skip_h1_title": true,
   "title_cell": "Table of Contents",
   "title_sidebar": "Contents",
   "toc_cell": false,
   "toc_position": {
    "height": "calc(100% - 180px)",
    "left": "10px",
    "top": "150px",
    "width": "243.062px"
   },
   "toc_section_display": true,
   "toc_window_display": true
  }
 },
 "nbformat": 4,
 "nbformat_minor": 2
}
