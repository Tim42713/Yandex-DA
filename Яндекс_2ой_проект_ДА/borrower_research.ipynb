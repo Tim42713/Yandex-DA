{
 "cells": [
  {
   "cell_type": "markdown",
   "id": "ff5ccb2b",
   "metadata": {},
   "source": [
    "# Исследование надежности заемщиков."
   ]
  },
  {
   "cell_type": "markdown",
   "id": "82b4a31f",
   "metadata": {},
   "source": [
    "## Обзор данных\n",
    "- Задача: разобраться, влияет ли семейное положение и количество детей клиента на факт погашения кредита в срок."
   ]
  },
  {
   "cell_type": "markdown",
   "id": "dd980b38",
   "metadata": {},
   "source": [
    "### Описание\n",
    "- Название столбцов:\n",
    "\n",
    "- children — количество детей в семье\n",
    "- days_employed — общий трудовой стаж в днях\n",
    "- dob_years — возраст клиента в годах\n",
    "- education — уровень образования клиента\n",
    "- family_status — семейное положение\n",
    "- gender — пол клиента\n",
    "- income_type — тип занятости\n",
    "- debt — имел ли задолженность по возврату кредитов\n",
    "- total_income — ежемесячный доход\n",
    "- purpose — цель получения кредита"
   ]
  },
  {
   "cell_type": "code",
   "execution_count": 1,
   "id": "72e07732",
   "metadata": {},
   "outputs": [],
   "source": [
    "# импортируем библиотеки\n",
    "import pandas as pd\n",
    "import os"
   ]
  },
  {
   "cell_type": "code",
   "execution_count": 2,
   "id": "206a3db2",
   "metadata": {},
   "outputs": [],
   "source": [
    "# сохраняем уникальный путь для данных\n",
    "path = 'C:\\\\Users\\\\tbyni\\\\Рабочий стол\\\\YA_DA12+\\\\2 Предобработка данных\\\\Проект\\\\'"
   ]
  },
  {
   "cell_type": "code",
   "execution_count": 3,
   "id": "8acfba43",
   "metadata": {},
   "outputs": [],
   "source": [
    "# выгружаем необходимую информацию \n",
    "df = pd.read_csv(path + 'borrower_research.csv', sep = ',')"
   ]
  },
  {
   "cell_type": "code",
   "execution_count": 4,
   "id": "81ebf2a6",
   "metadata": {
    "scrolled": true
   },
   "outputs": [
    {
     "name": "stdout",
     "output_type": "stream",
     "text": [
      "<class 'pandas.core.frame.DataFrame'>\n",
      "RangeIndex: 21525 entries, 0 to 21524\n",
      "Data columns (total 12 columns):\n",
      " #   Column            Non-Null Count  Dtype  \n",
      "---  ------            --------------  -----  \n",
      " 0   children          21525 non-null  int64  \n",
      " 1   days_employed     19351 non-null  float64\n",
      " 2   dob_years         21525 non-null  int64  \n",
      " 3   education         21525 non-null  object \n",
      " 4   education_id      21525 non-null  int64  \n",
      " 5   family_status     21525 non-null  object \n",
      " 6   family_status_id  21525 non-null  int64  \n",
      " 7   gender            21525 non-null  object \n",
      " 8   income_type       21525 non-null  object \n",
      " 9   debt              21525 non-null  int64  \n",
      " 10  total_income      19351 non-null  float64\n",
      " 11  purpose           21525 non-null  object \n",
      "dtypes: float64(2), int64(5), object(5)\n",
      "memory usage: 2.0+ MB\n"
     ]
    }
   ],
   "source": [
    "# просматриваем общую информацию о данных\n",
    "df.info()"
   ]
  },
  {
   "cell_type": "code",
   "execution_count": 5,
   "id": "9dc1b45d",
   "metadata": {},
   "outputs": [
    {
     "data": {
      "text/html": [
       "<div>\n",
       "<style scoped>\n",
       "    .dataframe tbody tr th:only-of-type {\n",
       "        vertical-align: middle;\n",
       "    }\n",
       "\n",
       "    .dataframe tbody tr th {\n",
       "        vertical-align: top;\n",
       "    }\n",
       "\n",
       "    .dataframe thead th {\n",
       "        text-align: right;\n",
       "    }\n",
       "</style>\n",
       "<table border=\"1\" class=\"dataframe\">\n",
       "  <thead>\n",
       "    <tr style=\"text-align: right;\">\n",
       "      <th></th>\n",
       "      <th>children</th>\n",
       "      <th>days_employed</th>\n",
       "      <th>dob_years</th>\n",
       "      <th>education_id</th>\n",
       "      <th>family_status_id</th>\n",
       "      <th>debt</th>\n",
       "      <th>total_income</th>\n",
       "    </tr>\n",
       "  </thead>\n",
       "  <tbody>\n",
       "    <tr>\n",
       "      <th>count</th>\n",
       "      <td>21525.000000</td>\n",
       "      <td>19351.000000</td>\n",
       "      <td>21525.000000</td>\n",
       "      <td>21525.000000</td>\n",
       "      <td>21525.000000</td>\n",
       "      <td>21525.000000</td>\n",
       "      <td>1.935100e+04</td>\n",
       "    </tr>\n",
       "    <tr>\n",
       "      <th>mean</th>\n",
       "      <td>0.538908</td>\n",
       "      <td>63046.497661</td>\n",
       "      <td>43.293380</td>\n",
       "      <td>0.817236</td>\n",
       "      <td>0.972544</td>\n",
       "      <td>0.080883</td>\n",
       "      <td>1.674223e+05</td>\n",
       "    </tr>\n",
       "    <tr>\n",
       "      <th>std</th>\n",
       "      <td>1.381587</td>\n",
       "      <td>140827.311974</td>\n",
       "      <td>12.574584</td>\n",
       "      <td>0.548138</td>\n",
       "      <td>1.420324</td>\n",
       "      <td>0.272661</td>\n",
       "      <td>1.029716e+05</td>\n",
       "    </tr>\n",
       "    <tr>\n",
       "      <th>min</th>\n",
       "      <td>-1.000000</td>\n",
       "      <td>-18388.949901</td>\n",
       "      <td>0.000000</td>\n",
       "      <td>0.000000</td>\n",
       "      <td>0.000000</td>\n",
       "      <td>0.000000</td>\n",
       "      <td>2.066726e+04</td>\n",
       "    </tr>\n",
       "    <tr>\n",
       "      <th>25%</th>\n",
       "      <td>0.000000</td>\n",
       "      <td>-2747.423625</td>\n",
       "      <td>33.000000</td>\n",
       "      <td>1.000000</td>\n",
       "      <td>0.000000</td>\n",
       "      <td>0.000000</td>\n",
       "      <td>1.030532e+05</td>\n",
       "    </tr>\n",
       "    <tr>\n",
       "      <th>50%</th>\n",
       "      <td>0.000000</td>\n",
       "      <td>-1203.369529</td>\n",
       "      <td>42.000000</td>\n",
       "      <td>1.000000</td>\n",
       "      <td>0.000000</td>\n",
       "      <td>0.000000</td>\n",
       "      <td>1.450179e+05</td>\n",
       "    </tr>\n",
       "    <tr>\n",
       "      <th>75%</th>\n",
       "      <td>1.000000</td>\n",
       "      <td>-291.095954</td>\n",
       "      <td>53.000000</td>\n",
       "      <td>1.000000</td>\n",
       "      <td>1.000000</td>\n",
       "      <td>0.000000</td>\n",
       "      <td>2.034351e+05</td>\n",
       "    </tr>\n",
       "    <tr>\n",
       "      <th>max</th>\n",
       "      <td>20.000000</td>\n",
       "      <td>401755.400475</td>\n",
       "      <td>75.000000</td>\n",
       "      <td>4.000000</td>\n",
       "      <td>4.000000</td>\n",
       "      <td>1.000000</td>\n",
       "      <td>2.265604e+06</td>\n",
       "    </tr>\n",
       "  </tbody>\n",
       "</table>\n",
       "</div>"
      ],
      "text/plain": [
       "           children  days_employed     dob_years  education_id  \\\n",
       "count  21525.000000   19351.000000  21525.000000  21525.000000   \n",
       "mean       0.538908   63046.497661     43.293380      0.817236   \n",
       "std        1.381587  140827.311974     12.574584      0.548138   \n",
       "min       -1.000000  -18388.949901      0.000000      0.000000   \n",
       "25%        0.000000   -2747.423625     33.000000      1.000000   \n",
       "50%        0.000000   -1203.369529     42.000000      1.000000   \n",
       "75%        1.000000    -291.095954     53.000000      1.000000   \n",
       "max       20.000000  401755.400475     75.000000      4.000000   \n",
       "\n",
       "       family_status_id          debt  total_income  \n",
       "count      21525.000000  21525.000000  1.935100e+04  \n",
       "mean           0.972544      0.080883  1.674223e+05  \n",
       "std            1.420324      0.272661  1.029716e+05  \n",
       "min            0.000000      0.000000  2.066726e+04  \n",
       "25%            0.000000      0.000000  1.030532e+05  \n",
       "50%            0.000000      0.000000  1.450179e+05  \n",
       "75%            1.000000      0.000000  2.034351e+05  \n",
       "max            4.000000      1.000000  2.265604e+06  "
      ]
     },
     "execution_count": 5,
     "metadata": {},
     "output_type": "execute_result"
    }
   ],
   "source": [
    "# получаем общую информацию о данных\n",
    "df.describe()"
   ]
  },
  {
   "cell_type": "code",
   "execution_count": 6,
   "id": "9a1c6b12",
   "metadata": {},
   "outputs": [
    {
     "data": {
      "text/html": [
       "<div>\n",
       "<style scoped>\n",
       "    .dataframe tbody tr th:only-of-type {\n",
       "        vertical-align: middle;\n",
       "    }\n",
       "\n",
       "    .dataframe tbody tr th {\n",
       "        vertical-align: top;\n",
       "    }\n",
       "\n",
       "    .dataframe thead th {\n",
       "        text-align: right;\n",
       "    }\n",
       "</style>\n",
       "<table border=\"1\" class=\"dataframe\">\n",
       "  <thead>\n",
       "    <tr style=\"text-align: right;\">\n",
       "      <th></th>\n",
       "      <th>children</th>\n",
       "      <th>days_employed</th>\n",
       "      <th>dob_years</th>\n",
       "      <th>education</th>\n",
       "      <th>education_id</th>\n",
       "      <th>family_status</th>\n",
       "      <th>family_status_id</th>\n",
       "      <th>gender</th>\n",
       "      <th>income_type</th>\n",
       "      <th>debt</th>\n",
       "      <th>total_income</th>\n",
       "      <th>purpose</th>\n",
       "    </tr>\n",
       "  </thead>\n",
       "  <tbody>\n",
       "    <tr>\n",
       "      <th>0</th>\n",
       "      <td>1</td>\n",
       "      <td>-8437.673028</td>\n",
       "      <td>42</td>\n",
       "      <td>высшее</td>\n",
       "      <td>0</td>\n",
       "      <td>женат / замужем</td>\n",
       "      <td>0</td>\n",
       "      <td>F</td>\n",
       "      <td>сотрудник</td>\n",
       "      <td>0</td>\n",
       "      <td>253875.639453</td>\n",
       "      <td>покупка жилья</td>\n",
       "    </tr>\n",
       "    <tr>\n",
       "      <th>1</th>\n",
       "      <td>1</td>\n",
       "      <td>-4024.803754</td>\n",
       "      <td>36</td>\n",
       "      <td>среднее</td>\n",
       "      <td>1</td>\n",
       "      <td>женат / замужем</td>\n",
       "      <td>0</td>\n",
       "      <td>F</td>\n",
       "      <td>сотрудник</td>\n",
       "      <td>0</td>\n",
       "      <td>112080.014102</td>\n",
       "      <td>приобретение автомобиля</td>\n",
       "    </tr>\n",
       "    <tr>\n",
       "      <th>2</th>\n",
       "      <td>0</td>\n",
       "      <td>-5623.422610</td>\n",
       "      <td>33</td>\n",
       "      <td>Среднее</td>\n",
       "      <td>1</td>\n",
       "      <td>женат / замужем</td>\n",
       "      <td>0</td>\n",
       "      <td>M</td>\n",
       "      <td>сотрудник</td>\n",
       "      <td>0</td>\n",
       "      <td>145885.952297</td>\n",
       "      <td>покупка жилья</td>\n",
       "    </tr>\n",
       "    <tr>\n",
       "      <th>3</th>\n",
       "      <td>3</td>\n",
       "      <td>-4124.747207</td>\n",
       "      <td>32</td>\n",
       "      <td>среднее</td>\n",
       "      <td>1</td>\n",
       "      <td>женат / замужем</td>\n",
       "      <td>0</td>\n",
       "      <td>M</td>\n",
       "      <td>сотрудник</td>\n",
       "      <td>0</td>\n",
       "      <td>267628.550329</td>\n",
       "      <td>дополнительное образование</td>\n",
       "    </tr>\n",
       "    <tr>\n",
       "      <th>4</th>\n",
       "      <td>0</td>\n",
       "      <td>340266.072047</td>\n",
       "      <td>53</td>\n",
       "      <td>среднее</td>\n",
       "      <td>1</td>\n",
       "      <td>гражданский брак</td>\n",
       "      <td>1</td>\n",
       "      <td>F</td>\n",
       "      <td>пенсионер</td>\n",
       "      <td>0</td>\n",
       "      <td>158616.077870</td>\n",
       "      <td>сыграть свадьбу</td>\n",
       "    </tr>\n",
       "    <tr>\n",
       "      <th>5</th>\n",
       "      <td>0</td>\n",
       "      <td>-926.185831</td>\n",
       "      <td>27</td>\n",
       "      <td>высшее</td>\n",
       "      <td>0</td>\n",
       "      <td>гражданский брак</td>\n",
       "      <td>1</td>\n",
       "      <td>M</td>\n",
       "      <td>компаньон</td>\n",
       "      <td>0</td>\n",
       "      <td>255763.565419</td>\n",
       "      <td>покупка жилья</td>\n",
       "    </tr>\n",
       "    <tr>\n",
       "      <th>6</th>\n",
       "      <td>0</td>\n",
       "      <td>-2879.202052</td>\n",
       "      <td>43</td>\n",
       "      <td>высшее</td>\n",
       "      <td>0</td>\n",
       "      <td>женат / замужем</td>\n",
       "      <td>0</td>\n",
       "      <td>F</td>\n",
       "      <td>компаньон</td>\n",
       "      <td>0</td>\n",
       "      <td>240525.971920</td>\n",
       "      <td>операции с жильем</td>\n",
       "    </tr>\n",
       "    <tr>\n",
       "      <th>7</th>\n",
       "      <td>0</td>\n",
       "      <td>-152.779569</td>\n",
       "      <td>50</td>\n",
       "      <td>СРЕДНЕЕ</td>\n",
       "      <td>1</td>\n",
       "      <td>женат / замужем</td>\n",
       "      <td>0</td>\n",
       "      <td>M</td>\n",
       "      <td>сотрудник</td>\n",
       "      <td>0</td>\n",
       "      <td>135823.934197</td>\n",
       "      <td>образование</td>\n",
       "    </tr>\n",
       "    <tr>\n",
       "      <th>8</th>\n",
       "      <td>2</td>\n",
       "      <td>-6929.865299</td>\n",
       "      <td>35</td>\n",
       "      <td>ВЫСШЕЕ</td>\n",
       "      <td>0</td>\n",
       "      <td>гражданский брак</td>\n",
       "      <td>1</td>\n",
       "      <td>F</td>\n",
       "      <td>сотрудник</td>\n",
       "      <td>0</td>\n",
       "      <td>95856.832424</td>\n",
       "      <td>на проведение свадьбы</td>\n",
       "    </tr>\n",
       "    <tr>\n",
       "      <th>9</th>\n",
       "      <td>0</td>\n",
       "      <td>-2188.756445</td>\n",
       "      <td>41</td>\n",
       "      <td>среднее</td>\n",
       "      <td>1</td>\n",
       "      <td>женат / замужем</td>\n",
       "      <td>0</td>\n",
       "      <td>M</td>\n",
       "      <td>сотрудник</td>\n",
       "      <td>0</td>\n",
       "      <td>144425.938277</td>\n",
       "      <td>покупка жилья для семьи</td>\n",
       "    </tr>\n",
       "    <tr>\n",
       "      <th>10</th>\n",
       "      <td>2</td>\n",
       "      <td>-4171.483647</td>\n",
       "      <td>36</td>\n",
       "      <td>высшее</td>\n",
       "      <td>0</td>\n",
       "      <td>женат / замужем</td>\n",
       "      <td>0</td>\n",
       "      <td>M</td>\n",
       "      <td>компаньон</td>\n",
       "      <td>0</td>\n",
       "      <td>113943.491460</td>\n",
       "      <td>покупка недвижимости</td>\n",
       "    </tr>\n",
       "    <tr>\n",
       "      <th>11</th>\n",
       "      <td>0</td>\n",
       "      <td>-792.701887</td>\n",
       "      <td>40</td>\n",
       "      <td>среднее</td>\n",
       "      <td>1</td>\n",
       "      <td>женат / замужем</td>\n",
       "      <td>0</td>\n",
       "      <td>F</td>\n",
       "      <td>сотрудник</td>\n",
       "      <td>0</td>\n",
       "      <td>77069.234271</td>\n",
       "      <td>покупка коммерческой недвижимости</td>\n",
       "    </tr>\n",
       "    <tr>\n",
       "      <th>12</th>\n",
       "      <td>0</td>\n",
       "      <td>NaN</td>\n",
       "      <td>65</td>\n",
       "      <td>среднее</td>\n",
       "      <td>1</td>\n",
       "      <td>гражданский брак</td>\n",
       "      <td>1</td>\n",
       "      <td>M</td>\n",
       "      <td>пенсионер</td>\n",
       "      <td>0</td>\n",
       "      <td>NaN</td>\n",
       "      <td>сыграть свадьбу</td>\n",
       "    </tr>\n",
       "    <tr>\n",
       "      <th>13</th>\n",
       "      <td>0</td>\n",
       "      <td>-1846.641941</td>\n",
       "      <td>54</td>\n",
       "      <td>неоконченное высшее</td>\n",
       "      <td>2</td>\n",
       "      <td>женат / замужем</td>\n",
       "      <td>0</td>\n",
       "      <td>F</td>\n",
       "      <td>сотрудник</td>\n",
       "      <td>0</td>\n",
       "      <td>130458.228857</td>\n",
       "      <td>приобретение автомобиля</td>\n",
       "    </tr>\n",
       "    <tr>\n",
       "      <th>14</th>\n",
       "      <td>0</td>\n",
       "      <td>-1844.956182</td>\n",
       "      <td>56</td>\n",
       "      <td>высшее</td>\n",
       "      <td>0</td>\n",
       "      <td>гражданский брак</td>\n",
       "      <td>1</td>\n",
       "      <td>F</td>\n",
       "      <td>компаньон</td>\n",
       "      <td>1</td>\n",
       "      <td>165127.911772</td>\n",
       "      <td>покупка жилой недвижимости</td>\n",
       "    </tr>\n",
       "    <tr>\n",
       "      <th>15</th>\n",
       "      <td>1</td>\n",
       "      <td>-972.364419</td>\n",
       "      <td>26</td>\n",
       "      <td>среднее</td>\n",
       "      <td>1</td>\n",
       "      <td>женат / замужем</td>\n",
       "      <td>0</td>\n",
       "      <td>F</td>\n",
       "      <td>сотрудник</td>\n",
       "      <td>0</td>\n",
       "      <td>116820.904450</td>\n",
       "      <td>строительство собственной недвижимости</td>\n",
       "    </tr>\n",
       "    <tr>\n",
       "      <th>16</th>\n",
       "      <td>0</td>\n",
       "      <td>-1719.934226</td>\n",
       "      <td>35</td>\n",
       "      <td>среднее</td>\n",
       "      <td>1</td>\n",
       "      <td>женат / замужем</td>\n",
       "      <td>0</td>\n",
       "      <td>F</td>\n",
       "      <td>сотрудник</td>\n",
       "      <td>0</td>\n",
       "      <td>289202.704229</td>\n",
       "      <td>недвижимость</td>\n",
       "    </tr>\n",
       "    <tr>\n",
       "      <th>17</th>\n",
       "      <td>0</td>\n",
       "      <td>-2369.999720</td>\n",
       "      <td>33</td>\n",
       "      <td>высшее</td>\n",
       "      <td>0</td>\n",
       "      <td>гражданский брак</td>\n",
       "      <td>1</td>\n",
       "      <td>M</td>\n",
       "      <td>сотрудник</td>\n",
       "      <td>0</td>\n",
       "      <td>90410.586745</td>\n",
       "      <td>строительство недвижимости</td>\n",
       "    </tr>\n",
       "    <tr>\n",
       "      <th>18</th>\n",
       "      <td>0</td>\n",
       "      <td>400281.136913</td>\n",
       "      <td>53</td>\n",
       "      <td>среднее</td>\n",
       "      <td>1</td>\n",
       "      <td>вдовец / вдова</td>\n",
       "      <td>2</td>\n",
       "      <td>F</td>\n",
       "      <td>пенсионер</td>\n",
       "      <td>0</td>\n",
       "      <td>56823.777243</td>\n",
       "      <td>на покупку подержанного автомобиля</td>\n",
       "    </tr>\n",
       "    <tr>\n",
       "      <th>19</th>\n",
       "      <td>0</td>\n",
       "      <td>-10038.818549</td>\n",
       "      <td>48</td>\n",
       "      <td>СРЕДНЕЕ</td>\n",
       "      <td>1</td>\n",
       "      <td>в разводе</td>\n",
       "      <td>3</td>\n",
       "      <td>F</td>\n",
       "      <td>сотрудник</td>\n",
       "      <td>0</td>\n",
       "      <td>242831.107982</td>\n",
       "      <td>на покупку своего автомобиля</td>\n",
       "    </tr>\n",
       "  </tbody>\n",
       "</table>\n",
       "</div>"
      ],
      "text/plain": [
       "    children  days_employed  dob_years            education  education_id  \\\n",
       "0          1   -8437.673028         42               высшее             0   \n",
       "1          1   -4024.803754         36              среднее             1   \n",
       "2          0   -5623.422610         33              Среднее             1   \n",
       "3          3   -4124.747207         32              среднее             1   \n",
       "4          0  340266.072047         53              среднее             1   \n",
       "5          0    -926.185831         27               высшее             0   \n",
       "6          0   -2879.202052         43               высшее             0   \n",
       "7          0    -152.779569         50              СРЕДНЕЕ             1   \n",
       "8          2   -6929.865299         35               ВЫСШЕЕ             0   \n",
       "9          0   -2188.756445         41              среднее             1   \n",
       "10         2   -4171.483647         36               высшее             0   \n",
       "11         0    -792.701887         40              среднее             1   \n",
       "12         0            NaN         65              среднее             1   \n",
       "13         0   -1846.641941         54  неоконченное высшее             2   \n",
       "14         0   -1844.956182         56               высшее             0   \n",
       "15         1    -972.364419         26              среднее             1   \n",
       "16         0   -1719.934226         35              среднее             1   \n",
       "17         0   -2369.999720         33               высшее             0   \n",
       "18         0  400281.136913         53              среднее             1   \n",
       "19         0  -10038.818549         48              СРЕДНЕЕ             1   \n",
       "\n",
       "       family_status  family_status_id gender income_type  debt  \\\n",
       "0    женат / замужем                 0      F   сотрудник     0   \n",
       "1    женат / замужем                 0      F   сотрудник     0   \n",
       "2    женат / замужем                 0      M   сотрудник     0   \n",
       "3    женат / замужем                 0      M   сотрудник     0   \n",
       "4   гражданский брак                 1      F   пенсионер     0   \n",
       "5   гражданский брак                 1      M   компаньон     0   \n",
       "6    женат / замужем                 0      F   компаньон     0   \n",
       "7    женат / замужем                 0      M   сотрудник     0   \n",
       "8   гражданский брак                 1      F   сотрудник     0   \n",
       "9    женат / замужем                 0      M   сотрудник     0   \n",
       "10   женат / замужем                 0      M   компаньон     0   \n",
       "11   женат / замужем                 0      F   сотрудник     0   \n",
       "12  гражданский брак                 1      M   пенсионер     0   \n",
       "13   женат / замужем                 0      F   сотрудник     0   \n",
       "14  гражданский брак                 1      F   компаньон     1   \n",
       "15   женат / замужем                 0      F   сотрудник     0   \n",
       "16   женат / замужем                 0      F   сотрудник     0   \n",
       "17  гражданский брак                 1      M   сотрудник     0   \n",
       "18    вдовец / вдова                 2      F   пенсионер     0   \n",
       "19         в разводе                 3      F   сотрудник     0   \n",
       "\n",
       "     total_income                                 purpose  \n",
       "0   253875.639453                           покупка жилья  \n",
       "1   112080.014102                 приобретение автомобиля  \n",
       "2   145885.952297                           покупка жилья  \n",
       "3   267628.550329              дополнительное образование  \n",
       "4   158616.077870                         сыграть свадьбу  \n",
       "5   255763.565419                           покупка жилья  \n",
       "6   240525.971920                       операции с жильем  \n",
       "7   135823.934197                             образование  \n",
       "8    95856.832424                   на проведение свадьбы  \n",
       "9   144425.938277                 покупка жилья для семьи  \n",
       "10  113943.491460                    покупка недвижимости  \n",
       "11   77069.234271       покупка коммерческой недвижимости  \n",
       "12            NaN                         сыграть свадьбу  \n",
       "13  130458.228857                 приобретение автомобиля  \n",
       "14  165127.911772              покупка жилой недвижимости  \n",
       "15  116820.904450  строительство собственной недвижимости  \n",
       "16  289202.704229                            недвижимость  \n",
       "17   90410.586745              строительство недвижимости  \n",
       "18   56823.777243      на покупку подержанного автомобиля  \n",
       "19  242831.107982            на покупку своего автомобиля  "
      ]
     },
     "execution_count": 6,
     "metadata": {},
     "output_type": "execute_result"
    }
   ],
   "source": [
    "# просматриваем первые 20 строк\n",
    "df.head(20)"
   ]
  },
  {
   "cell_type": "markdown",
   "id": "2c377558",
   "metadata": {
    "id": "Ot25h6XR_Zct"
   },
   "source": [
    "Просматривая таблицу, выявили следующее:\n",
    "\n",
    "- Перекос в кол-ве значений в 2х столбцам. (days_employed, total_income) Кол-во 19351. Предполагаем, что это пропуски, которые нам будет необходимо заполнить. \n",
    "- В столбцах: children, days_employed, есть минусовые значения, что само по себе не может быть. \n",
    "- В столбце education нет единого формата шрифта.\n",
    "- Наличие значений равных 0 в столбце dob_years, чего так же не может быть.\n",
    "- Странные значения в days_employed, очень много, заметим для себя, но исправлять нет смысла, т.к данный столбец не влиялет на цель исследования. \n",
    "- Странное кол-во детей в столбце children, а тоесть 20, можно будет привести к большему кол-ву и отнести к многодетным, чтобы таблица была более приятна глазу. \n"
   ]
  },
  {
   "cell_type": "markdown",
   "id": "d1dedf95",
   "metadata": {},
   "source": [
    "## Заполнение пропусков"
   ]
  },
  {
   "cell_type": "code",
   "execution_count": 7,
   "id": "730f1418",
   "metadata": {
    "scrolled": true
   },
   "outputs": [],
   "source": [
    " # df.isna().sum() # Узнаем кол-во пропущенных значений.\n",
    " # \"Процент пропущенных значений в столбце days_employed: {:,.1%}\".format(df['days_employed'].isna().sum()/len(df)) # Узнаем % пропущенных значений относительно общего кол-ва.\n",
    " # \"Процент пропущенных значений в столбце total_income: {:,.1%}\".format(df['total_income'].isna().sum()/len(df)) # Узнаем % пропущенных значений относительно общего кол-ва.\n",
    "df['total_income'] = df['total_income'].fillna(value = df['total_income'].median()) # Заполняем пропуски в столбце total_income\n",
    "df['days_employed'] = df['days_employed'].fillna(value = df['days_employed'].mean()) # Заполняем пропуски в столбце total_income\n",
    " # df.info() # Убеждаемся, что все пропуски в столбцах days_employed и total_income заполнены. "
   ]
  },
  {
   "cell_type": "markdown",
   "id": "c6ba7bef",
   "metadata": {},
   "source": [
    "- Определили кол-во пропущенных значений, уточнили, что % более 5 значит необходимо заполнение, чтобы данные были корректны. Далее будем делать акцент на столбец total_income, т.к он непосредственно влияет на исследование, а столбец days_employed полон аномалий и не информативен для данного исследования, (Не влияет ни на кол-во детей, ни на факт погашения кредита.) далее его не используем. \n",
    "\n",
    "- Т.к в столбце total_income, столь разные заработки и есть так называемые лидеры, то правильнее будет использовать медианные значения, чтобы избежать предвзятости."
   ]
  },
  {
   "cell_type": "markdown",
   "id": "19f99f05",
   "metadata": {},
   "source": [
    "### Проверка данных на аномалии и исправления."
   ]
  },
  {
   "cell_type": "code",
   "execution_count": 8,
   "id": "0f29573a",
   "metadata": {},
   "outputs": [],
   "source": [
    " # df['children'].unique() # Ранее узнали, что в столбце есть странные значения. Узнаем. \n",
    " # df['children'][df['children'] == -1].count() # Уточняем кол-во заемщиков с -1 в графе дети.(amount=47)\n",
    " # df['children'][df['children'] == 20].count() # Уточняем кол-во заемщиков с 20 в графе дети.(amount=76)\n",
    "df['children'] = df['children'].replace(-1, 1) # Замена отрицательных значений на положительные.\n",
    "df['children'] = df['children'].replace(20, 5) # Как ранее писал заемщики с 20 детьми переходят в список многодетных.\n",
    " # df['children'].value_counts() # Проверяем. Все сходится."
   ]
  },
  {
   "cell_type": "markdown",
   "id": "a8a32042",
   "metadata": {},
   "source": [
    "- Cтолбец с возрастом клиентов (dob_years) исправлять не будем ввиду его не информативности. \n",
    "- Исправил столбец children в соотвествии с планом. Значение -1 заменил, т.к думаю, что в данном случае техническая ошибка и скорее всего клиент хотел указать 1, клиентов с кол-вом детей 20 перенес в раздел многодетных, а тоесть >5."
   ]
  },
  {
   "cell_type": "code",
   "execution_count": 9,
   "id": "537c2844",
   "metadata": {},
   "outputs": [],
   "source": [
    " # df['gender'].value_counts() # Проверяем столбец на корректность. \n",
    "df['gender'] = df['gender'].replace('XNA', 'F') # Т.к female больше практически в 2 раза отнесем данную ошибку в F. \n",
    " # df['gender'].value_counts() # check 'gender'\n",
    " # df['family_status'].value_counts() # check 'family_status'"
   ]
  },
  {
   "cell_type": "markdown",
   "id": "cdef6f35",
   "metadata": {},
   "source": [
    "- Проверил важные для нас столбцы gender и family_status на корректность. Все исправлено."
   ]
  },
  {
   "cell_type": "markdown",
   "id": "2beca482",
   "metadata": {},
   "source": [
    "### Изменение типов данных."
   ]
  },
  {
   "cell_type": "code",
   "execution_count": 10,
   "id": "fc284456",
   "metadata": {},
   "outputs": [],
   "source": [
    " # заменяем формат данных\n",
    "df['total_income'] = df['total_income'].astype('int')\n",
    " # df.info()\n",
    " # df.head(20)"
   ]
  },
  {
   "cell_type": "markdown",
   "id": "da1b00aa",
   "metadata": {},
   "source": [
    "### Удаление дубликатов."
   ]
  },
  {
   "cell_type": "code",
   "execution_count": 11,
   "id": "a7580493",
   "metadata": {},
   "outputs": [],
   "source": [
    " # приводим строки к единой форме  \n",
    "df['education'] = df['education'].str.lower() \n",
    " # df['education'].value_counts() # ckeck 'education' \n",
    " # df.duplicated().sum() # просматриваем кол-во дубликатов. (amount=71)\n",
    " # \"Процент дубликатов: {:,.2%}\".format(df.duplicated().sum()/len(df)) #(percent = 0,3)\n",
    "df = df.drop_duplicates() # удаляем дубликаты. \n",
    " # df.duplicated().sum() # check "
   ]
  },
  {
   "cell_type": "markdown",
   "id": "3849b9d8",
   "metadata": {},
   "source": [
    "- Привели названия строк в столбце education к единой форме.\n",
    "- % дубликатов низкий, поэтому можем удалить это никак не повлияет на анализ."
   ]
  },
  {
   "cell_type": "markdown",
   "id": "a07f195e",
   "metadata": {},
   "source": [
    "### Формирование дополнительных датафреймов словарей, декомпозиция исходного датафрейма."
   ]
  },
  {
   "cell_type": "code",
   "execution_count": 12,
   "id": "066f6cb6",
   "metadata": {},
   "outputs": [],
   "source": [
    "# создаем дополнительные \"словари\".\n",
    "education_id = df[['education', 'education_id']]\n",
    "family_status_id = df[['family_status', 'family_status_id']]"
   ]
  },
  {
   "cell_type": "markdown",
   "id": "e7e92398",
   "metadata": {},
   "source": [
    "### Категоризация дохода."
   ]
  },
  {
   "cell_type": "code",
   "execution_count": 13,
   "id": "3542121c",
   "metadata": {},
   "outputs": [],
   "source": [
    " # категоризуем клиентов по доходу\n",
    "def total_income_category(total_income):\n",
    "    if total_income >= 0 and total_income <= 30000:\n",
    "        return 'E'\n",
    "    if total_income > 30001 and total_income <= 50000:\n",
    "        return 'D'\n",
    "    if total_income > 50001 and total_income <= 200000:\n",
    "        return 'C'\n",
    "    if total_income > 200001 and total_income <= 1000000:\n",
    "        return 'B'\n",
    "    if total_income > 1000001:\n",
    "        return 'A'\n",
    "df['total_income_id'] = df['total_income'].apply(total_income_category)\n",
    " # df['total_income_id'].value_counts() # Уточняем кол-во людей по достатку. "
   ]
  },
  {
   "cell_type": "markdown",
   "id": "1633845a",
   "metadata": {},
   "source": [
    "- Создаем функцию для распределения клиентов по уровню их доходов:\n",
    "\n",
    "- А = клиенты с уровнем дохода 100001 и выше;\n",
    "- B = клиенты с уровнем дохода 200001 - 1000000;\n",
    "- С = клиенты с уровнем дохода 50001 - 200000;\n",
    "- D = клиенты с уровнем дохода 30001 - 50000; \n",
    "- E = клиенты с уровнем дохода 0 - 30000."
   ]
  },
  {
   "cell_type": "markdown",
   "id": "7b51228d",
   "metadata": {},
   "source": [
    "### Категоризация целей кредита."
   ]
  },
  {
   "cell_type": "code",
   "execution_count": 14,
   "id": "3214bad1",
   "metadata": {},
   "outputs": [],
   "source": [
    " # функция для категоризации целей кредита\n",
    "def purpose_category(row):\n",
    "    if 'автомобил' in row:\n",
    "        return 'операции с автомобилем'\n",
    "    elif 'недвижимост' in row or 'жиль' in row:\n",
    "        return 'операции с недвижимостью'\n",
    "    elif 'свадьб' in row:\n",
    "        return 'проведение свадьбы'\n",
    "    elif 'образован' in row:\n",
    "        return 'получение образования'\n",
    "    else:\n",
    "        return 'ошибка'\n",
    "    \n",
    "df['purpose_category'] = df['purpose'].apply(purpose_category)\n",
    " # df['purpose_category'].value_counts() # check"
   ]
  },
  {
   "cell_type": "markdown",
   "id": "077c0ffb",
   "metadata": {},
   "source": [
    "- Создаем функцию, чтобы понять для какой цели клиенты чаще всего берут кредиты. Как мы видим, что основной причиной для заема является покупка жилья. Можем предопложить, что здесь есть прямая взаимосвзяь с кол-вом детей и как следствие увеличением жил. площади. "
   ]
  },
  {
   "cell_type": "markdown",
   "id": "760e7eed",
   "metadata": {},
   "source": [
    "### Ответы на вопросы."
   ]
  },
  {
   "cell_type": "markdown",
   "id": "7e235d2d",
   "metadata": {},
   "source": [
    "#### Вопрос 1: Есть ли зависимость между количеством детей и возвратом кредита в срок?"
   ]
  },
  {
   "cell_type": "code",
   "execution_count": 15,
   "id": "5d8dbe2b",
   "metadata": {},
   "outputs": [
    {
     "data": {
      "text/html": [
       "<div>\n",
       "<style scoped>\n",
       "    .dataframe tbody tr th:only-of-type {\n",
       "        vertical-align: middle;\n",
       "    }\n",
       "\n",
       "    .dataframe tbody tr th {\n",
       "        vertical-align: top;\n",
       "    }\n",
       "\n",
       "    .dataframe thead th {\n",
       "        text-align: right;\n",
       "    }\n",
       "</style>\n",
       "<table border=\"1\" class=\"dataframe\">\n",
       "  <thead>\n",
       "    <tr style=\"text-align: right;\">\n",
       "      <th></th>\n",
       "      <th>amount_children</th>\n",
       "      <th>total_children</th>\n",
       "      <th>final_children</th>\n",
       "    </tr>\n",
       "    <tr>\n",
       "      <th>children</th>\n",
       "      <th></th>\n",
       "      <th></th>\n",
       "      <th></th>\n",
       "    </tr>\n",
       "  </thead>\n",
       "  <tbody>\n",
       "    <tr>\n",
       "      <th>4</th>\n",
       "      <td>41</td>\n",
       "      <td>4</td>\n",
       "      <td>0.097561</td>\n",
       "    </tr>\n",
       "    <tr>\n",
       "      <th>2</th>\n",
       "      <td>2052</td>\n",
       "      <td>194</td>\n",
       "      <td>0.094542</td>\n",
       "    </tr>\n",
       "    <tr>\n",
       "      <th>5</th>\n",
       "      <td>85</td>\n",
       "      <td>8</td>\n",
       "      <td>0.094118</td>\n",
       "    </tr>\n",
       "    <tr>\n",
       "      <th>1</th>\n",
       "      <td>4855</td>\n",
       "      <td>445</td>\n",
       "      <td>0.091658</td>\n",
       "    </tr>\n",
       "    <tr>\n",
       "      <th>3</th>\n",
       "      <td>330</td>\n",
       "      <td>27</td>\n",
       "      <td>0.081818</td>\n",
       "    </tr>\n",
       "    <tr>\n",
       "      <th>0</th>\n",
       "      <td>14091</td>\n",
       "      <td>1063</td>\n",
       "      <td>0.075438</td>\n",
       "    </tr>\n",
       "  </tbody>\n",
       "</table>\n",
       "</div>"
      ],
      "text/plain": [
       "          amount_children  total_children  final_children\n",
       "children                                                 \n",
       "4                      41               4        0.097561\n",
       "2                    2052             194        0.094542\n",
       "5                      85               8        0.094118\n",
       "1                    4855             445        0.091658\n",
       "3                     330              27        0.081818\n",
       "0                   14091            1063        0.075438"
      ]
     },
     "execution_count": 15,
     "metadata": {},
     "output_type": "execute_result"
    }
   ],
   "source": [
    "# просматриваем зависимость между кол-вом детей и возвратом кредита в срок\n",
    "child_depend_debt = pd.DataFrame()\n",
    "child_depend_debt['amount_children'] = df.groupby('children')['debt'].count()\n",
    "child_depend_debt['total_children'] = df.groupby('children')['debt'].sum()\n",
    "child_depend_debt['final_children'] = child_depend_debt['total_children'] / child_depend_debt['amount_children'] \n",
    "child_depend_debt.sort_values('final_children', ascending = False)"
   ]
  },
  {
   "cell_type": "markdown",
   "id": "3af81233",
   "metadata": {},
   "source": [
    "Из полученных данных заметно выделяется факт, что люди без детей имеют гораздо меньший процент просрочки по кредиту. Из этого можно предположить, что с увеличением кол-ва детей возрастает и финансовая нагрузка, соответственно и риск просрочки, что видно по таблице. Однако, как мы можем заметить, что у многодетных, к которым мы отнесли людей у кого более 5 детей, вовсе отсутствует просрочка, а у людей с 3 детьми просрочка меньше чем у людей с 2, здесь можем предположить играет факт выборки, на людей с 2 детьми приходится = 2052, а на людей с 4 детьми всего лишь 41. "
   ]
  },
  {
   "cell_type": "markdown",
   "id": "602d6c7b",
   "metadata": {},
   "source": [
    "#### Вопрос 2: Есть ли зависимость между семейным положением и возвратом кредита в срок?"
   ]
  },
  {
   "cell_type": "code",
   "execution_count": 16,
   "id": "d7abd551",
   "metadata": {
    "scrolled": true
   },
   "outputs": [
    {
     "data": {
      "text/html": [
       "<div>\n",
       "<style scoped>\n",
       "    .dataframe tbody tr th:only-of-type {\n",
       "        vertical-align: middle;\n",
       "    }\n",
       "\n",
       "    .dataframe tbody tr th {\n",
       "        vertical-align: top;\n",
       "    }\n",
       "\n",
       "    .dataframe thead th {\n",
       "        text-align: right;\n",
       "    }\n",
       "</style>\n",
       "<table border=\"1\" class=\"dataframe\">\n",
       "  <thead>\n",
       "    <tr style=\"text-align: right;\">\n",
       "      <th></th>\n",
       "      <th>amount_family_status</th>\n",
       "      <th>total_family_status</th>\n",
       "      <th>final_family_status</th>\n",
       "    </tr>\n",
       "    <tr>\n",
       "      <th>family_status</th>\n",
       "      <th></th>\n",
       "      <th></th>\n",
       "      <th></th>\n",
       "    </tr>\n",
       "  </thead>\n",
       "  <tbody>\n",
       "    <tr>\n",
       "      <th>Не женат / не замужем</th>\n",
       "      <td>274</td>\n",
       "      <td>2810</td>\n",
       "      <td>0.097509</td>\n",
       "    </tr>\n",
       "    <tr>\n",
       "      <th>гражданский брак</th>\n",
       "      <td>388</td>\n",
       "      <td>4151</td>\n",
       "      <td>0.093471</td>\n",
       "    </tr>\n",
       "    <tr>\n",
       "      <th>женат / замужем</th>\n",
       "      <td>931</td>\n",
       "      <td>12339</td>\n",
       "      <td>0.075452</td>\n",
       "    </tr>\n",
       "    <tr>\n",
       "      <th>в разводе</th>\n",
       "      <td>85</td>\n",
       "      <td>1195</td>\n",
       "      <td>0.071130</td>\n",
       "    </tr>\n",
       "    <tr>\n",
       "      <th>вдовец / вдова</th>\n",
       "      <td>63</td>\n",
       "      <td>959</td>\n",
       "      <td>0.065693</td>\n",
       "    </tr>\n",
       "  </tbody>\n",
       "</table>\n",
       "</div>"
      ],
      "text/plain": [
       "                       amount_family_status  total_family_status  \\\n",
       "family_status                                                      \n",
       "Не женат / не замужем                   274                 2810   \n",
       "гражданский брак                        388                 4151   \n",
       "женат / замужем                         931                12339   \n",
       "в разводе                                85                 1195   \n",
       "вдовец / вдова                           63                  959   \n",
       "\n",
       "                       final_family_status  \n",
       "family_status                               \n",
       "Не женат / не замужем             0.097509  \n",
       "гражданский брак                  0.093471  \n",
       "женат / замужем                   0.075452  \n",
       "в разводе                         0.071130  \n",
       "вдовец / вдова                    0.065693  "
      ]
     },
     "execution_count": 16,
     "metadata": {},
     "output_type": "execute_result"
    }
   ],
   "source": [
    "# просматриваем зависимость между семейным положением и возвратом кредита в срок\n",
    "fam_depend_debt = pd.DataFrame()\n",
    "fam_depend_debt['amount_family_status'] = df.groupby('family_status')['debt'].sum()\n",
    "fam_depend_debt['total_family_status'] = df.groupby('family_status')['debt'].count()\n",
    "fam_depend_debt['final_family_status'] = fam_depend_debt['amount_family_status'] / fam_depend_debt['total_family_status'] \n",
    "fam_depend_debt.sort_values('final_family_status', ascending = False)"
   ]
  },
  {
   "cell_type": "markdown",
   "id": "71e5a8ef",
   "metadata": {},
   "source": [
    "Чаще всех просрочку допускают люди не находящиеся в официальном браке и не состоявшие. Смею предположить, что у людей состоящих/состоявших в официальном браке (сюда же отнесем разведенных и овдовевших) есть дети и определенные жизненные обязательства, которые заставляют их более ответственно брать кредиты. Зависимость есть. "
   ]
  },
  {
   "cell_type": "markdown",
   "id": "5aee30b0",
   "metadata": {},
   "source": [
    "#### Есть ли зависимость между уровнем дохода и возвратом кредита в срок?"
   ]
  },
  {
   "cell_type": "code",
   "execution_count": 17,
   "id": "3347c0c4",
   "metadata": {},
   "outputs": [
    {
     "data": {
      "text/html": [
       "<div>\n",
       "<style scoped>\n",
       "    .dataframe tbody tr th:only-of-type {\n",
       "        vertical-align: middle;\n",
       "    }\n",
       "\n",
       "    .dataframe tbody tr th {\n",
       "        vertical-align: top;\n",
       "    }\n",
       "\n",
       "    .dataframe thead th {\n",
       "        text-align: right;\n",
       "    }\n",
       "</style>\n",
       "<table border=\"1\" class=\"dataframe\">\n",
       "  <thead>\n",
       "    <tr style=\"text-align: right;\">\n",
       "      <th></th>\n",
       "      <th>amount</th>\n",
       "      <th>total</th>\n",
       "      <th>final</th>\n",
       "    </tr>\n",
       "    <tr>\n",
       "      <th>total_income_id</th>\n",
       "      <th></th>\n",
       "      <th></th>\n",
       "      <th></th>\n",
       "    </tr>\n",
       "  </thead>\n",
       "  <tbody>\n",
       "    <tr>\n",
       "      <th>E</th>\n",
       "      <td>2</td>\n",
       "      <td>22</td>\n",
       "      <td>0.090909</td>\n",
       "    </tr>\n",
       "    <tr>\n",
       "      <th>C</th>\n",
       "      <td>1360</td>\n",
       "      <td>16016</td>\n",
       "      <td>0.084915</td>\n",
       "    </tr>\n",
       "    <tr>\n",
       "      <th>A</th>\n",
       "      <td>2</td>\n",
       "      <td>25</td>\n",
       "      <td>0.080000</td>\n",
       "    </tr>\n",
       "    <tr>\n",
       "      <th>B</th>\n",
       "      <td>356</td>\n",
       "      <td>5040</td>\n",
       "      <td>0.070635</td>\n",
       "    </tr>\n",
       "    <tr>\n",
       "      <th>D</th>\n",
       "      <td>21</td>\n",
       "      <td>350</td>\n",
       "      <td>0.060000</td>\n",
       "    </tr>\n",
       "  </tbody>\n",
       "</table>\n",
       "</div>"
      ],
      "text/plain": [
       "                 amount  total     final\n",
       "total_income_id                         \n",
       "E                     2     22  0.090909\n",
       "C                  1360  16016  0.084915\n",
       "A                     2     25  0.080000\n",
       "B                   356   5040  0.070635\n",
       "D                    21    350  0.060000"
      ]
     },
     "execution_count": 17,
     "metadata": {},
     "output_type": "execute_result"
    }
   ],
   "source": [
    " # просматриваем зависимость между уровнем дохода и возвратом кредита в срок\n",
    "debt_income = pd.DataFrame()\n",
    "debt_income['amount'] = df.groupby('total_income_id')['debt'].sum()\n",
    "debt_income['total'] = df.groupby('total_income_id')['debt'].count()\n",
    "debt_income['final'] = debt_income['amount'] / debt_income['total']\n",
    "debt_income.sort_values('final', ascending = False)"
   ]
  },
  {
   "cell_type": "markdown",
   "id": "ea5b2d3c",
   "metadata": {},
   "source": [
    "- Памятка: \n",
    "- А = клиенты с уровнем дохода 100001 и выше;\n",
    "- B = клиенты с уровнем дохода 200001 - 1000000;\n",
    "- С = клиенты с уровнем дохода 50001 - 200000;\n",
    "- D = клиенты с уровнем дохода 30001 - 50000;\n",
    "- E = клиенты с уровнем дохода 0 - 30000.\n",
    "\n",
    "Из полученных данных, можно сделать вывод, что лучше всех возвращают кредиты люди с заработком 30001 - 50000 и по мере роста благосостояния люди берут больше кредитов и не отдают. Пример, люди с доходом 50001 - 200000, процент просрочки уже выше. Но если обратим внимание, на след ступень (200001 - 1000000), то процент уже сокращается. Считаю, что зависимости нет. "
   ]
  },
  {
   "cell_type": "markdown",
   "id": "690a6775",
   "metadata": {},
   "source": [
    "#### Как разные цели кредита влияют на его возврат в срок?"
   ]
  },
  {
   "cell_type": "code",
   "execution_count": 18,
   "id": "32ad4de5",
   "metadata": {},
   "outputs": [
    {
     "data": {
      "text/html": [
       "<div>\n",
       "<style scoped>\n",
       "    .dataframe tbody tr th:only-of-type {\n",
       "        vertical-align: middle;\n",
       "    }\n",
       "\n",
       "    .dataframe tbody tr th {\n",
       "        vertical-align: top;\n",
       "    }\n",
       "\n",
       "    .dataframe thead th {\n",
       "        text-align: right;\n",
       "    }\n",
       "</style>\n",
       "<table border=\"1\" class=\"dataframe\">\n",
       "  <thead>\n",
       "    <tr style=\"text-align: right;\">\n",
       "      <th>debt</th>\n",
       "      <th>0</th>\n",
       "      <th>1</th>\n",
       "    </tr>\n",
       "    <tr>\n",
       "      <th>purpose_category</th>\n",
       "      <th></th>\n",
       "      <th></th>\n",
       "    </tr>\n",
       "  </thead>\n",
       "  <tbody>\n",
       "    <tr>\n",
       "      <th>операции с недвижимостью</th>\n",
       "      <td>10029</td>\n",
       "      <td>782</td>\n",
       "    </tr>\n",
       "    <tr>\n",
       "      <th>операции с автомобилем</th>\n",
       "      <td>3903</td>\n",
       "      <td>403</td>\n",
       "    </tr>\n",
       "    <tr>\n",
       "      <th>получение образования</th>\n",
       "      <td>3643</td>\n",
       "      <td>370</td>\n",
       "    </tr>\n",
       "    <tr>\n",
       "      <th>проведение свадьбы</th>\n",
       "      <td>2138</td>\n",
       "      <td>186</td>\n",
       "    </tr>\n",
       "  </tbody>\n",
       "</table>\n",
       "</div>"
      ],
      "text/plain": [
       "debt                          0    1\n",
       "purpose_category                    \n",
       "операции с недвижимостью  10029  782\n",
       "операции с автомобилем     3903  403\n",
       "получение образования      3643  370\n",
       "проведение свадьбы         2138  186"
      ]
     },
     "execution_count": 18,
     "metadata": {},
     "output_type": "execute_result"
    }
   ],
   "source": [
    "# просматриваем распределение по признаку задержки в выплатах кредита\n",
    "pd.pivot_table(df, index = 'purpose_category', columns = 'debt', values = 'gender', aggfunc = 'count').sort_values(by = 1,ascending = False)"
   ]
  },
  {
   "cell_type": "markdown",
   "id": "1543c49c",
   "metadata": {},
   "source": [
    "Самый низкий процент невозврата при операциях с недвижимостью. Здесь можно предположить, что кредит на недвижимость берут более осознанно и на длительный срок и даже несмотря на большое кол-во на фоне других причин и их соотношения, заемщики недвижимости выглядят более привлекательно. Но не стоит забывать, что заемщики могут утаить истинную причину кредита.  "
   ]
  },
  {
   "cell_type": "markdown",
   "id": "f752278f",
   "metadata": {},
   "source": [
    "## Общий вывод:"
   ]
  },
  {
   "cell_type": "markdown",
   "id": "a5ee0f14",
   "metadata": {},
   "source": [
    "Подводя итоги нашего исследования, можем предположить, что наш иделальный кандидат это женатый человек берущий кредит на недвижимость или свадьбу, без детей с зарплатой более 50000.\n",
    "\n",
    "Отдельно стоит отметить, что наш анализ подтверждает зависимость между семейным положением и возвратом кредитов, а именно: \n",
    "\n",
    "- Семейные реже просрочивают платежи, что будет плюсом при рассмотрении заявки.\n",
    "- Наличие детей увеличивает статьи расходов, что отрицательно влияет на решение по выдаче займа. \n",
    "- Данные касательно заработка неоднозначны, но можно отметить, что чем выше заработок, тем выше возможность положительного решения. \n",
    "- В случае с причиной кредита, необходимо учитывать предыдущие факторы и более детально рассматривать каждого клиента, т.к несмотря на большое кол-во просрочек в сделках с недвижимостью общий процент невозврата гораздо ниже нежели при других причинах."
   ]
  }
 ],
 "metadata": {
  "ExecuteTimeLog": [
   {
    "duration": 400,
    "start_time": "2022-05-24T07:44:06.764Z"
   },
   {
    "duration": 468,
    "start_time": "2022-05-24T07:47:06.276Z"
   },
   {
    "duration": 78,
    "start_time": "2022-05-24T07:49:05.513Z"
   },
   {
    "duration": 78,
    "start_time": "2022-05-24T07:49:56.837Z"
   },
   {
    "duration": 32,
    "start_time": "2022-05-24T07:51:27.373Z"
   },
   {
    "duration": 79,
    "start_time": "2022-05-24T07:51:42.433Z"
   },
   {
    "duration": 85,
    "start_time": "2022-05-24T07:52:04.115Z"
   },
   {
    "duration": 75,
    "start_time": "2022-05-24T07:52:17.679Z"
   },
   {
    "duration": 93,
    "start_time": "2022-05-24T07:52:35.071Z"
   },
   {
    "duration": 84,
    "start_time": "2022-05-24T07:53:44.455Z"
   },
   {
    "duration": 76,
    "start_time": "2022-05-24T08:04:53.597Z"
   },
   {
    "duration": 27,
    "start_time": "2022-05-24T08:06:59.928Z"
   },
   {
    "duration": 78,
    "start_time": "2022-05-24T08:07:03.854Z"
   },
   {
    "duration": 84,
    "start_time": "2022-05-24T08:07:16.171Z"
   },
   {
    "duration": 76,
    "start_time": "2022-05-24T08:15:10.587Z"
   },
   {
    "duration": 3,
    "start_time": "2022-05-24T08:15:19.836Z"
   },
   {
    "duration": 3,
    "start_time": "2022-05-24T08:17:49.087Z"
   },
   {
    "duration": 70,
    "start_time": "2022-05-24T08:17:54.519Z"
   },
   {
    "duration": 4,
    "start_time": "2022-05-24T08:17:56.616Z"
   },
   {
    "duration": 71,
    "start_time": "2022-05-24T08:18:40.219Z"
   },
   {
    "duration": 6,
    "start_time": "2022-05-24T08:18:42.056Z"
   },
   {
    "duration": 81,
    "start_time": "2022-05-24T08:21:27.703Z"
   },
   {
    "duration": 63,
    "start_time": "2022-05-24T08:21:45.569Z"
   },
   {
    "duration": 78,
    "start_time": "2022-05-24T08:21:50.828Z"
   },
   {
    "duration": 88,
    "start_time": "2022-05-24T08:22:07.112Z"
   },
   {
    "duration": 10,
    "start_time": "2022-05-24T08:24:53.695Z"
   },
   {
    "duration": 3,
    "start_time": "2022-05-24T08:27:33.226Z"
   },
   {
    "duration": 15,
    "start_time": "2022-05-24T08:27:38.933Z"
   },
   {
    "duration": 85,
    "start_time": "2022-05-24T08:37:11.373Z"
   },
   {
    "duration": 80,
    "start_time": "2022-05-24T08:41:57.030Z"
   },
   {
    "duration": 532,
    "start_time": "2022-05-24T08:52:17.272Z"
   },
   {
    "duration": 24,
    "start_time": "2022-05-24T08:54:34.977Z"
   },
   {
    "duration": 75,
    "start_time": "2022-05-24T08:54:41.388Z"
   },
   {
    "duration": 8,
    "start_time": "2022-05-24T08:55:02.495Z"
   },
   {
    "duration": 6,
    "start_time": "2022-05-24T08:55:05.839Z"
   },
   {
    "duration": 5,
    "start_time": "2022-05-24T08:55:10.083Z"
   },
   {
    "duration": 4,
    "start_time": "2022-05-24T08:55:13.672Z"
   },
   {
    "duration": 79,
    "start_time": "2022-05-24T08:55:17.489Z"
   },
   {
    "duration": 6,
    "start_time": "2022-05-24T08:55:19.179Z"
   },
   {
    "duration": 5,
    "start_time": "2022-05-24T09:00:03.102Z"
   },
   {
    "duration": 4,
    "start_time": "2022-05-24T09:00:11.945Z"
   },
   {
    "duration": 3,
    "start_time": "2022-05-24T09:00:22.933Z"
   },
   {
    "duration": 5,
    "start_time": "2022-05-24T09:03:21.958Z"
   },
   {
    "duration": 5,
    "start_time": "2022-05-24T09:04:10.920Z"
   },
   {
    "duration": 4,
    "start_time": "2022-05-24T09:04:13.583Z"
   },
   {
    "duration": 4,
    "start_time": "2022-05-24T09:04:48.188Z"
   },
   {
    "duration": 6,
    "start_time": "2022-05-24T09:06:18.865Z"
   },
   {
    "duration": 9,
    "start_time": "2022-05-24T09:11:59.299Z"
   },
   {
    "duration": 9,
    "start_time": "2022-05-24T09:12:26.526Z"
   },
   {
    "duration": 16,
    "start_time": "2022-05-24T09:13:10.250Z"
   },
   {
    "duration": 104,
    "start_time": "2022-05-24T09:13:35.118Z"
   },
   {
    "duration": 9,
    "start_time": "2022-05-24T09:15:44.415Z"
   },
   {
    "duration": 11,
    "start_time": "2022-05-24T09:15:51.695Z"
   },
   {
    "duration": 10,
    "start_time": "2022-05-24T09:16:08.506Z"
   },
   {
    "duration": 11,
    "start_time": "2022-05-24T09:18:49.809Z"
   },
   {
    "duration": 9,
    "start_time": "2022-05-24T09:18:53.020Z"
   },
   {
    "duration": 348,
    "start_time": "2022-05-24T09:22:46.741Z"
   },
   {
    "duration": 9,
    "start_time": "2022-05-24T09:29:46.512Z"
   },
   {
    "duration": 11,
    "start_time": "2022-05-24T09:30:24.268Z"
   },
   {
    "duration": 90,
    "start_time": "2022-05-24T09:36:45.544Z"
   },
   {
    "duration": 88,
    "start_time": "2022-05-24T09:37:10.946Z"
   },
   {
    "duration": 90,
    "start_time": "2022-05-24T09:37:26.332Z"
   },
   {
    "duration": 10,
    "start_time": "2022-05-24T09:59:38.676Z"
   },
   {
    "duration": 80,
    "start_time": "2022-05-24T10:01:36.262Z"
   },
   {
    "duration": 81,
    "start_time": "2022-05-24T10:02:47.478Z"
   },
   {
    "duration": 81,
    "start_time": "2022-05-24T10:11:16.777Z"
   },
   {
    "duration": 67,
    "start_time": "2022-05-24T10:26:55.023Z"
   },
   {
    "duration": 85,
    "start_time": "2022-05-24T10:56:29.428Z"
   },
   {
    "duration": 78,
    "start_time": "2022-05-24T10:59:26.895Z"
   },
   {
    "duration": 79,
    "start_time": "2022-05-24T11:05:10.591Z"
   },
   {
    "duration": 80,
    "start_time": "2022-05-24T11:06:04.954Z"
   },
   {
    "duration": 77,
    "start_time": "2022-05-24T11:06:37.888Z"
   },
   {
    "duration": 83,
    "start_time": "2022-05-24T11:06:51.051Z"
   },
   {
    "duration": 9,
    "start_time": "2022-05-24T11:25:38.879Z"
   },
   {
    "duration": 9,
    "start_time": "2022-05-24T11:25:59.350Z"
   },
   {
    "duration": 9,
    "start_time": "2022-05-24T11:26:19.453Z"
   },
   {
    "duration": 10,
    "start_time": "2022-05-24T11:26:28.621Z"
   },
   {
    "duration": 13,
    "start_time": "2022-05-24T11:28:44.164Z"
   },
   {
    "duration": 20,
    "start_time": "2022-05-24T11:29:01.732Z"
   },
   {
    "duration": 25,
    "start_time": "2022-05-24T11:29:51.431Z"
   },
   {
    "duration": 20,
    "start_time": "2022-05-24T11:29:57.139Z"
   },
   {
    "duration": 9,
    "start_time": "2022-05-24T11:30:15.796Z"
   },
   {
    "duration": 5,
    "start_time": "2022-05-24T11:31:08.291Z"
   },
   {
    "duration": 8,
    "start_time": "2022-05-24T11:33:06.802Z"
   },
   {
    "duration": 5,
    "start_time": "2022-05-24T11:33:15.233Z"
   },
   {
    "duration": 7,
    "start_time": "2022-05-24T11:34:04.491Z"
   },
   {
    "duration": 4,
    "start_time": "2022-05-24T11:34:20.945Z"
   },
   {
    "duration": 4,
    "start_time": "2022-05-24T11:34:24.256Z"
   },
   {
    "duration": 10,
    "start_time": "2022-05-24T11:36:03.472Z"
   },
   {
    "duration": 16,
    "start_time": "2022-05-24T11:36:13.090Z"
   },
   {
    "duration": 10,
    "start_time": "2022-05-24T11:38:22.494Z"
   },
   {
    "duration": 14,
    "start_time": "2022-05-24T11:38:28.523Z"
   },
   {
    "duration": 5,
    "start_time": "2022-05-24T11:53:01.128Z"
   },
   {
    "duration": 397,
    "start_time": "2022-05-24T11:53:16.977Z"
   },
   {
    "duration": 5,
    "start_time": "2022-05-24T11:53:33.577Z"
   },
   {
    "duration": 8,
    "start_time": "2022-05-24T11:54:47.027Z"
   },
   {
    "duration": 5,
    "start_time": "2022-05-24T11:54:53.868Z"
   },
   {
    "duration": 10,
    "start_time": "2022-05-24T11:57:04.952Z"
   },
   {
    "duration": 10,
    "start_time": "2022-05-24T11:59:29.035Z"
   },
   {
    "duration": 7,
    "start_time": "2022-05-24T12:00:06.289Z"
   },
   {
    "duration": 9,
    "start_time": "2022-05-24T12:01:06.664Z"
   },
   {
    "duration": 9,
    "start_time": "2022-05-24T12:01:24.103Z"
   },
   {
    "duration": 72,
    "start_time": "2022-05-24T12:01:29.296Z"
   },
   {
    "duration": 10,
    "start_time": "2022-05-24T12:01:53.476Z"
   },
   {
    "duration": 9,
    "start_time": "2022-05-24T12:02:02.997Z"
   },
   {
    "duration": 9,
    "start_time": "2022-05-24T12:02:08.729Z"
   },
   {
    "duration": 9,
    "start_time": "2022-05-24T12:02:12.031Z"
   },
   {
    "duration": 10,
    "start_time": "2022-05-24T12:03:17.759Z"
   },
   {
    "duration": 10,
    "start_time": "2022-05-24T12:03:20.177Z"
   },
   {
    "duration": 41,
    "start_time": "2022-05-24T12:03:39.180Z"
   },
   {
    "duration": 14,
    "start_time": "2022-05-24T12:03:47.815Z"
   },
   {
    "duration": 9,
    "start_time": "2022-05-24T12:04:29.033Z"
   },
   {
    "duration": 12,
    "start_time": "2022-05-24T12:08:21.363Z"
   },
   {
    "duration": 13,
    "start_time": "2022-05-24T12:09:14.587Z"
   },
   {
    "duration": 9,
    "start_time": "2022-05-24T12:09:48.484Z"
   },
   {
    "duration": 18,
    "start_time": "2022-05-24T12:10:02.684Z"
   },
   {
    "duration": 18,
    "start_time": "2022-05-24T12:10:37.259Z"
   },
   {
    "duration": 9,
    "start_time": "2022-05-24T12:11:39.092Z"
   },
   {
    "duration": 6,
    "start_time": "2022-05-24T12:11:45.168Z"
   },
   {
    "duration": 29,
    "start_time": "2022-05-24T12:12:14.375Z"
   },
   {
    "duration": 49,
    "start_time": "2022-05-24T12:12:21.129Z"
   },
   {
    "duration": 48,
    "start_time": "2022-05-24T12:12:25.379Z"
   },
   {
    "duration": 33,
    "start_time": "2022-05-24T12:12:29.780Z"
   },
   {
    "duration": 21,
    "start_time": "2022-05-24T12:12:36.977Z"
   },
   {
    "duration": 39,
    "start_time": "2022-05-24T12:12:42.001Z"
   },
   {
    "duration": 24,
    "start_time": "2022-05-24T12:12:52.999Z"
   },
   {
    "duration": 26,
    "start_time": "2022-05-24T12:13:58.378Z"
   },
   {
    "duration": 11,
    "start_time": "2022-05-24T12:16:47.467Z"
   },
   {
    "duration": 9,
    "start_time": "2022-05-24T12:16:57.352Z"
   },
   {
    "duration": 72,
    "start_time": "2022-05-24T12:17:02.453Z"
   },
   {
    "duration": 10,
    "start_time": "2022-05-24T12:17:04.477Z"
   },
   {
    "duration": 30,
    "start_time": "2022-05-24T12:19:38.846Z"
   },
   {
    "duration": 8,
    "start_time": "2022-05-24T12:19:43.179Z"
   },
   {
    "duration": 6,
    "start_time": "2022-05-24T12:21:25.135Z"
   },
   {
    "duration": 14,
    "start_time": "2022-05-24T12:22:45.372Z"
   },
   {
    "duration": 5,
    "start_time": "2022-05-24T12:25:09.177Z"
   },
   {
    "duration": 20,
    "start_time": "2022-05-24T12:25:20.404Z"
   },
   {
    "duration": 7,
    "start_time": "2022-05-24T12:26:56.486Z"
   },
   {
    "duration": 11,
    "start_time": "2022-05-24T12:27:13.399Z"
   },
   {
    "duration": 17,
    "start_time": "2022-05-24T12:27:19.504Z"
   },
   {
    "duration": 15,
    "start_time": "2022-05-24T12:27:40.459Z"
   },
   {
    "duration": 15,
    "start_time": "2022-05-24T12:27:50.190Z"
   },
   {
    "duration": 14,
    "start_time": "2022-05-24T12:33:27.876Z"
   },
   {
    "duration": 45,
    "start_time": "2022-05-24T12:49:53.289Z"
   },
   {
    "duration": 38,
    "start_time": "2022-05-24T12:50:00.780Z"
   },
   {
    "duration": 33,
    "start_time": "2022-05-24T13:01:24.192Z"
   },
   {
    "duration": 78,
    "start_time": "2022-05-24T13:10:30.678Z"
   },
   {
    "duration": 33,
    "start_time": "2022-05-24T13:23:28.767Z"
   },
   {
    "duration": 32,
    "start_time": "2022-05-24T13:41:06.068Z"
   },
   {
    "duration": 29,
    "start_time": "2022-05-24T14:14:19.323Z"
   },
   {
    "duration": 26,
    "start_time": "2022-05-24T14:14:26.087Z"
   },
   {
    "duration": 44,
    "start_time": "2022-05-24T14:15:05.282Z"
   },
   {
    "duration": 27,
    "start_time": "2022-05-24T14:15:14.897Z"
   },
   {
    "duration": 3,
    "start_time": "2022-05-24T14:15:42.482Z"
   },
   {
    "duration": 29,
    "start_time": "2022-05-24T14:15:46.746Z"
   },
   {
    "duration": 27,
    "start_time": "2022-05-24T14:28:56.017Z"
   },
   {
    "duration": 28,
    "start_time": "2022-05-24T14:32:30.277Z"
   },
   {
    "duration": 32,
    "start_time": "2022-05-24T14:35:15.820Z"
   },
   {
    "duration": 26,
    "start_time": "2022-05-24T14:37:56.556Z"
   },
   {
    "duration": 507,
    "start_time": "2022-05-25T08:52:37.561Z"
   },
   {
    "duration": 88,
    "start_time": "2022-05-25T08:52:46.242Z"
   },
   {
    "duration": 81,
    "start_time": "2022-05-25T08:52:55.711Z"
   },
   {
    "duration": 85,
    "start_time": "2022-05-25T08:53:14.886Z"
   },
   {
    "duration": 33,
    "start_time": "2022-05-25T09:35:16.275Z"
   },
   {
    "duration": 415,
    "start_time": "2022-05-25T09:37:14.653Z"
   },
   {
    "duration": 39,
    "start_time": "2022-05-25T10:02:06.538Z"
   },
   {
    "duration": 30,
    "start_time": "2022-05-25T10:27:55.132Z"
   },
   {
    "duration": 98,
    "start_time": "2022-05-25T10:36:30.856Z"
   },
   {
    "duration": 35,
    "start_time": "2022-05-25T10:36:42.271Z"
   },
   {
    "duration": 49,
    "start_time": "2022-05-25T10:37:22.692Z"
   },
   {
    "duration": 40,
    "start_time": "2022-05-25T10:37:39.094Z"
   },
   {
    "duration": 38,
    "start_time": "2022-05-25T10:38:37.897Z"
   },
   {
    "duration": 31,
    "start_time": "2022-05-25T10:38:47.633Z"
   },
   {
    "duration": 31,
    "start_time": "2022-05-25T10:41:56.326Z"
   },
   {
    "duration": 11,
    "start_time": "2022-05-25T10:42:23.857Z"
   },
   {
    "duration": 6,
    "start_time": "2022-05-25T10:43:12.084Z"
   },
   {
    "duration": 6,
    "start_time": "2022-05-25T11:23:08.133Z"
   },
   {
    "duration": 7,
    "start_time": "2022-05-25T11:25:12.372Z"
   },
   {
    "duration": 6,
    "start_time": "2022-05-25T11:26:39.058Z"
   },
   {
    "duration": 14,
    "start_time": "2022-05-25T11:38:50.107Z"
   },
   {
    "duration": 6,
    "start_time": "2022-05-25T11:39:09.201Z"
   },
   {
    "duration": 10,
    "start_time": "2022-05-25T11:39:20.824Z"
   },
   {
    "duration": 11,
    "start_time": "2022-05-25T11:44:59.181Z"
   },
   {
    "duration": 23,
    "start_time": "2022-05-25T11:46:05.901Z"
   },
   {
    "duration": 19,
    "start_time": "2022-05-25T11:46:14.855Z"
   },
   {
    "duration": 16,
    "start_time": "2022-05-25T11:46:27.371Z"
   },
   {
    "duration": 24,
    "start_time": "2022-05-25T11:46:45.072Z"
   },
   {
    "duration": 21,
    "start_time": "2022-05-25T11:46:58.104Z"
   },
   {
    "duration": 10,
    "start_time": "2022-05-25T11:47:30.462Z"
   },
   {
    "duration": 16,
    "start_time": "2022-05-25T11:47:49.593Z"
   },
   {
    "duration": 22,
    "start_time": "2022-05-25T11:48:13.398Z"
   },
   {
    "duration": 1424,
    "start_time": "2022-05-25T11:48:34.446Z"
   },
   {
    "duration": 1518,
    "start_time": "2022-05-25T11:48:38.337Z"
   },
   {
    "duration": 1387,
    "start_time": "2022-05-25T11:49:03.263Z"
   },
   {
    "duration": 1324,
    "start_time": "2022-05-25T11:49:06.561Z"
   },
   {
    "duration": 10,
    "start_time": "2022-05-25T11:52:08.214Z"
   },
   {
    "duration": 12,
    "start_time": "2022-05-25T11:53:21.859Z"
   },
   {
    "duration": 25,
    "start_time": "2022-05-25T11:53:33.210Z"
   },
   {
    "duration": 11,
    "start_time": "2022-05-25T11:54:49.979Z"
   },
   {
    "duration": 101,
    "start_time": "2022-05-25T11:55:41.957Z"
   },
   {
    "duration": 78,
    "start_time": "2022-05-25T11:56:54.898Z"
   },
   {
    "duration": 101,
    "start_time": "2022-05-25T11:57:46.613Z"
   },
   {
    "duration": 12,
    "start_time": "2022-05-25T11:58:40.965Z"
   },
   {
    "duration": 50,
    "start_time": "2022-05-25T11:59:17.428Z"
   },
   {
    "duration": 52,
    "start_time": "2022-05-25T11:59:29.556Z"
   },
   {
    "duration": 36,
    "start_time": "2022-05-25T11:59:40.463Z"
   },
   {
    "duration": 11,
    "start_time": "2022-05-25T12:01:32.126Z"
   },
   {
    "duration": 13,
    "start_time": "2022-05-25T12:01:47.112Z"
   },
   {
    "duration": 6,
    "start_time": "2022-05-25T12:01:55.995Z"
   },
   {
    "duration": 13,
    "start_time": "2022-05-25T12:03:01.601Z"
   },
   {
    "duration": 14,
    "start_time": "2022-05-25T12:03:22.208Z"
   },
   {
    "duration": 6,
    "start_time": "2022-05-25T12:03:39.239Z"
   },
   {
    "duration": 13,
    "start_time": "2022-05-25T12:04:01.111Z"
   },
   {
    "duration": 4,
    "start_time": "2022-05-25T12:04:49.101Z"
   },
   {
    "duration": 38,
    "start_time": "2022-05-25T12:05:09.768Z"
   },
   {
    "duration": 32,
    "start_time": "2022-05-25T12:05:28.830Z"
   },
   {
    "duration": 52,
    "start_time": "2022-05-25T12:05:32.822Z"
   },
   {
    "duration": 59,
    "start_time": "2022-05-25T12:05:39.887Z"
   },
   {
    "duration": 46,
    "start_time": "2022-05-25T12:05:45.178Z"
   },
   {
    "duration": 13,
    "start_time": "2022-05-25T12:05:55.749Z"
   },
   {
    "duration": 5,
    "start_time": "2022-05-25T12:06:00.758Z"
   },
   {
    "duration": 53,
    "start_time": "2022-05-25T12:06:23.798Z"
   },
   {
    "duration": 202,
    "start_time": "2022-05-25T12:06:38.741Z"
   },
   {
    "duration": 6,
    "start_time": "2022-05-25T12:06:48.018Z"
   },
   {
    "duration": 4,
    "start_time": "2022-05-25T12:06:51.084Z"
   },
   {
    "duration": 3,
    "start_time": "2022-05-25T12:06:53.833Z"
   },
   {
    "duration": 113,
    "start_time": "2022-05-25T12:06:58.094Z"
   },
   {
    "duration": 4,
    "start_time": "2022-05-25T12:07:00.640Z"
   },
   {
    "duration": 11,
    "start_time": "2022-05-25T12:07:24.220Z"
   },
   {
    "duration": 6,
    "start_time": "2022-05-25T12:08:58.293Z"
   },
   {
    "duration": 5,
    "start_time": "2022-05-25T12:09:09.148Z"
   },
   {
    "duration": 6,
    "start_time": "2022-05-25T12:09:15.499Z"
   },
   {
    "duration": 7,
    "start_time": "2022-05-25T12:09:36.866Z"
   },
   {
    "duration": 7,
    "start_time": "2022-05-25T12:09:43.621Z"
   },
   {
    "duration": 5,
    "start_time": "2022-05-25T12:11:59.450Z"
   },
   {
    "duration": 17,
    "start_time": "2022-05-25T12:12:33.912Z"
   },
   {
    "duration": 12,
    "start_time": "2022-05-25T12:22:04.511Z"
   },
   {
    "duration": 13,
    "start_time": "2022-05-25T12:22:25.407Z"
   },
   {
    "duration": 10,
    "start_time": "2022-05-25T12:23:13.405Z"
   },
   {
    "duration": 11,
    "start_time": "2022-05-25T12:23:27.112Z"
   },
   {
    "duration": 12,
    "start_time": "2022-05-25T12:46:39.618Z"
   },
   {
    "duration": 7,
    "start_time": "2022-05-25T12:48:47.069Z"
   },
   {
    "duration": 94,
    "start_time": "2022-05-25T12:49:30.390Z"
   },
   {
    "duration": 79,
    "start_time": "2022-05-25T12:49:43.188Z"
   },
   {
    "duration": 7,
    "start_time": "2022-05-25T12:50:43.700Z"
   },
   {
    "duration": 11,
    "start_time": "2022-05-25T12:52:24.289Z"
   },
   {
    "duration": 5,
    "start_time": "2022-05-25T12:55:52.602Z"
   },
   {
    "duration": 8,
    "start_time": "2022-05-25T12:56:02.467Z"
   },
   {
    "duration": 8,
    "start_time": "2022-05-25T13:12:27.845Z"
   },
   {
    "duration": 8,
    "start_time": "2022-05-25T13:12:45.827Z"
   },
   {
    "duration": 10,
    "start_time": "2022-05-25T13:12:54.977Z"
   },
   {
    "duration": 9,
    "start_time": "2022-05-25T13:12:59.303Z"
   },
   {
    "duration": 9,
    "start_time": "2022-05-25T13:15:23.042Z"
   },
   {
    "duration": 10,
    "start_time": "2022-05-25T13:15:25.500Z"
   },
   {
    "duration": 32,
    "start_time": "2022-05-25T13:15:58.879Z"
   },
   {
    "duration": 11,
    "start_time": "2022-05-25T13:16:56.165Z"
   },
   {
    "duration": 13,
    "start_time": "2022-05-25T13:29:03.723Z"
   },
   {
    "duration": 51,
    "start_time": "2022-05-25T13:29:17.989Z"
   },
   {
    "duration": 48,
    "start_time": "2022-05-25T13:29:23.562Z"
   },
   {
    "duration": 44,
    "start_time": "2022-05-25T13:29:26.491Z"
   },
   {
    "duration": 89,
    "start_time": "2022-05-25T13:29:30.663Z"
   },
   {
    "duration": 53,
    "start_time": "2022-05-25T13:29:32.442Z"
   },
   {
    "duration": 9,
    "start_time": "2022-05-25T13:29:37.486Z"
   },
   {
    "duration": 11,
    "start_time": "2022-05-25T13:34:04.323Z"
   },
   {
    "duration": 11,
    "start_time": "2022-05-25T13:34:11.985Z"
   },
   {
    "duration": 27,
    "start_time": "2022-05-25T13:35:05.343Z"
   },
   {
    "duration": 19,
    "start_time": "2022-05-25T13:36:36.296Z"
   },
   {
    "duration": 23,
    "start_time": "2022-05-25T13:37:10.270Z"
   },
   {
    "duration": 28,
    "start_time": "2022-05-25T13:37:46.938Z"
   },
   {
    "duration": 83,
    "start_time": "2022-05-25T13:38:15.628Z"
   },
   {
    "duration": 41,
    "start_time": "2022-05-25T13:38:33.087Z"
   },
   {
    "duration": 30,
    "start_time": "2022-05-25T13:39:18.214Z"
   },
   {
    "duration": 12,
    "start_time": "2022-05-25T13:41:16.334Z"
   },
   {
    "duration": 8,
    "start_time": "2022-05-25T13:44:30.281Z"
   },
   {
    "duration": 13,
    "start_time": "2022-05-25T13:44:37.696Z"
   },
   {
    "duration": 14,
    "start_time": "2022-05-25T13:44:45.227Z"
   },
   {
    "duration": 39,
    "start_time": "2022-05-25T13:47:09.223Z"
   },
   {
    "duration": 8,
    "start_time": "2022-05-25T13:47:15.227Z"
   },
   {
    "duration": 9,
    "start_time": "2022-05-25T13:47:30.928Z"
   },
   {
    "duration": 14,
    "start_time": "2022-05-25T13:49:27.131Z"
   },
   {
    "duration": 17,
    "start_time": "2022-05-25T13:49:39.155Z"
   },
   {
    "duration": 18,
    "start_time": "2022-05-25T13:53:49.355Z"
   },
   {
    "duration": 17,
    "start_time": "2022-05-25T13:54:50.247Z"
   },
   {
    "duration": 17,
    "start_time": "2022-05-25T13:59:31.273Z"
   },
   {
    "duration": 16,
    "start_time": "2022-05-25T14:02:22.754Z"
   },
   {
    "duration": 17,
    "start_time": "2022-05-25T14:10:30.543Z"
   },
   {
    "duration": 15,
    "start_time": "2022-05-25T14:13:21.247Z"
   },
   {
    "duration": 16,
    "start_time": "2022-05-25T14:14:23.337Z"
   },
   {
    "duration": 24,
    "start_time": "2022-05-25T14:36:38.975Z"
   },
   {
    "duration": 10,
    "start_time": "2022-05-25T14:38:41.944Z"
   },
   {
    "duration": 14,
    "start_time": "2022-05-25T14:38:49.283Z"
   },
   {
    "duration": 19,
    "start_time": "2022-05-25T14:39:06.478Z"
   },
   {
    "duration": 15,
    "start_time": "2022-05-25T14:39:11.492Z"
   },
   {
    "duration": 13,
    "start_time": "2022-05-25T14:39:17.346Z"
   },
   {
    "duration": 11,
    "start_time": "2022-05-25T14:39:33.859Z"
   },
   {
    "duration": 18,
    "start_time": "2022-05-25T14:40:03.000Z"
   },
   {
    "duration": 4,
    "start_time": "2022-05-25T14:40:09.744Z"
   },
   {
    "duration": 16,
    "start_time": "2022-05-25T14:40:25.643Z"
   },
   {
    "duration": 4,
    "start_time": "2022-05-25T14:47:28.673Z"
   },
   {
    "duration": 154,
    "start_time": "2022-05-26T07:50:06.732Z"
   },
   {
    "duration": 2869,
    "start_time": "2022-05-26T07:50:29.608Z"
   },
   {
    "duration": 200,
    "start_time": "2022-05-26T07:50:33.875Z"
   },
   {
    "duration": 1271,
    "start_time": "2022-05-26T07:50:36.200Z"
   },
   {
    "duration": 372,
    "start_time": "2022-05-26T07:50:48.860Z"
   },
   {
    "duration": 53,
    "start_time": "2022-05-26T07:51:00.424Z"
   },
   {
    "duration": 335,
    "start_time": "2022-05-26T07:51:27.912Z"
   },
   {
    "duration": 71,
    "start_time": "2022-05-26T07:52:15.324Z"
   },
   {
    "duration": 67,
    "start_time": "2022-05-26T07:54:26.388Z"
   },
   {
    "duration": 51,
    "start_time": "2022-05-26T07:54:31.932Z"
   },
   {
    "duration": 37,
    "start_time": "2022-05-26T09:02:00.121Z"
   },
   {
    "duration": 69,
    "start_time": "2022-05-26T09:02:03.210Z"
   },
   {
    "duration": 125,
    "start_time": "2022-05-26T09:02:11.441Z"
   },
   {
    "duration": 143,
    "start_time": "2022-05-26T09:02:41.468Z"
   },
   {
    "duration": 120,
    "start_time": "2022-05-26T09:18:56.570Z"
   },
   {
    "duration": 540,
    "start_time": "2022-05-26T09:19:07.004Z"
   },
   {
    "duration": 11,
    "start_time": "2022-05-26T09:48:58.831Z"
   },
   {
    "duration": 9,
    "start_time": "2022-05-26T09:51:48.120Z"
   },
   {
    "duration": 11,
    "start_time": "2022-05-26T09:51:52.791Z"
   },
   {
    "duration": 76,
    "start_time": "2022-05-26T09:51:58.420Z"
   },
   {
    "duration": 13,
    "start_time": "2022-05-26T09:52:01.017Z"
   },
   {
    "duration": 12,
    "start_time": "2022-05-26T09:52:20.562Z"
   },
   {
    "duration": 9,
    "start_time": "2022-05-26T09:52:46.453Z"
   },
   {
    "duration": 9,
    "start_time": "2022-05-26T09:53:22.110Z"
   },
   {
    "duration": 10,
    "start_time": "2022-05-26T09:54:16.973Z"
   },
   {
    "duration": 9,
    "start_time": "2022-05-26T09:54:37.773Z"
   },
   {
    "duration": 12,
    "start_time": "2022-05-26T09:55:00.594Z"
   },
   {
    "duration": 8,
    "start_time": "2022-05-26T09:58:08.162Z"
   },
   {
    "duration": 13,
    "start_time": "2022-05-26T09:58:27.192Z"
   },
   {
    "duration": 69,
    "start_time": "2022-05-26T10:02:50.032Z"
   },
   {
    "duration": 38,
    "start_time": "2022-05-26T10:03:01.284Z"
   },
   {
    "duration": 49,
    "start_time": "2022-05-26T10:03:08.347Z"
   },
   {
    "duration": 64,
    "start_time": "2022-05-26T10:05:05.869Z"
   },
   {
    "duration": 192,
    "start_time": "2022-05-26T10:05:08.139Z"
   },
   {
    "duration": 8,
    "start_time": "2022-05-26T10:05:52.813Z"
   },
   {
    "duration": 35,
    "start_time": "2022-05-26T10:06:28.346Z"
   },
   {
    "duration": 22,
    "start_time": "2022-05-26T10:06:30.653Z"
   },
   {
    "duration": 8,
    "start_time": "2022-05-26T10:07:39.756Z"
   },
   {
    "duration": 7,
    "start_time": "2022-05-26T10:07:42.756Z"
   },
   {
    "duration": 12,
    "start_time": "2022-05-26T10:09:24.823Z"
   },
   {
    "duration": 17,
    "start_time": "2022-05-26T10:09:50.217Z"
   },
   {
    "duration": 56,
    "start_time": "2022-05-26T10:10:19.713Z"
   },
   {
    "duration": 25,
    "start_time": "2022-05-26T10:10:33.430Z"
   },
   {
    "duration": 9,
    "start_time": "2022-05-26T10:10:46.524Z"
   },
   {
    "duration": 14,
    "start_time": "2022-05-26T10:10:54.073Z"
   },
   {
    "duration": 15,
    "start_time": "2022-05-26T10:10:56.985Z"
   },
   {
    "duration": 93,
    "start_time": "2022-05-26T10:11:01.950Z"
   },
   {
    "duration": 12,
    "start_time": "2022-05-26T10:11:03.378Z"
   },
   {
    "duration": 11,
    "start_time": "2022-05-26T10:25:06.615Z"
   },
   {
    "duration": 16,
    "start_time": "2022-05-26T10:25:53.371Z"
   },
   {
    "duration": 16,
    "start_time": "2022-05-26T10:27:50.765Z"
   },
   {
    "duration": 84,
    "start_time": "2022-05-26T10:28:05.787Z"
   },
   {
    "duration": 18,
    "start_time": "2022-05-26T10:45:14.916Z"
   },
   {
    "duration": 38,
    "start_time": "2022-05-26T10:45:48.287Z"
   },
   {
    "duration": 12,
    "start_time": "2022-05-26T10:47:11.016Z"
   },
   {
    "duration": 70,
    "start_time": "2022-05-26T10:47:16.613Z"
   },
   {
    "duration": 16,
    "start_time": "2022-05-26T10:47:18.236Z"
   },
   {
    "duration": 31,
    "start_time": "2022-05-26T10:47:53.675Z"
   },
   {
    "duration": 82,
    "start_time": "2022-05-26T10:50:04.789Z"
   },
   {
    "duration": 86,
    "start_time": "2022-05-26T10:50:21.413Z"
   },
   {
    "duration": 6,
    "start_time": "2022-05-26T11:34:17.210Z"
   },
   {
    "duration": 110,
    "start_time": "2022-05-26T11:48:01.455Z"
   },
   {
    "duration": 4,
    "start_time": "2022-05-26T12:16:15.548Z"
   },
   {
    "duration": 30,
    "start_time": "2022-05-26T12:47:55.501Z"
   },
   {
    "duration": 53,
    "start_time": "2022-05-26T12:48:17.524Z"
   },
   {
    "duration": 34,
    "start_time": "2022-05-26T12:48:42.889Z"
   },
   {
    "duration": 30,
    "start_time": "2022-05-26T12:53:48.053Z"
   },
   {
    "duration": 13,
    "start_time": "2022-05-26T13:05:15.753Z"
   },
   {
    "duration": 18,
    "start_time": "2022-05-26T13:21:50.050Z"
   },
   {
    "duration": 381,
    "start_time": "2022-05-26T13:22:27.009Z"
   },
   {
    "duration": 12,
    "start_time": "2022-05-26T13:22:55.955Z"
   },
   {
    "duration": 24,
    "start_time": "2022-05-26T13:23:32.116Z"
   },
   {
    "duration": 13,
    "start_time": "2022-05-26T14:36:58.288Z"
   },
   {
    "duration": 15,
    "start_time": "2022-05-26T14:45:49.010Z"
   },
   {
    "duration": 15,
    "start_time": "2022-05-26T14:46:32.784Z"
   },
   {
    "duration": 64,
    "start_time": "2022-05-27T11:18:45.134Z"
   },
   {
    "duration": 796,
    "start_time": "2022-05-27T11:18:58.210Z"
   },
   {
    "duration": 7,
    "start_time": "2022-05-27T11:19:00.463Z"
   },
   {
    "duration": 40,
    "start_time": "2022-05-27T11:19:02.830Z"
   },
   {
    "duration": 28,
    "start_time": "2022-05-27T11:19:52.598Z"
   },
   {
    "duration": 85,
    "start_time": "2022-05-27T11:20:18.035Z"
   },
   {
    "duration": 76,
    "start_time": "2022-05-27T11:20:28.724Z"
   },
   {
    "duration": 69,
    "start_time": "2022-05-27T11:20:59.455Z"
   },
   {
    "duration": 79,
    "start_time": "2022-05-27T11:21:16.974Z"
   },
   {
    "duration": 83,
    "start_time": "2022-05-27T11:22:20.105Z"
   },
   {
    "duration": 31,
    "start_time": "2022-05-27T11:22:47.858Z"
   },
   {
    "duration": 10,
    "start_time": "2022-05-27T11:22:53.600Z"
   },
   {
    "duration": 35,
    "start_time": "2022-05-27T11:23:51.076Z"
   },
   {
    "duration": 11,
    "start_time": "2022-05-27T11:24:01.181Z"
   },
   {
    "duration": 31,
    "start_time": "2022-05-27T11:24:24.310Z"
   },
   {
    "duration": 36,
    "start_time": "2022-05-27T11:25:00.173Z"
   },
   {
    "duration": 9,
    "start_time": "2022-05-27T11:25:17.551Z"
   },
   {
    "duration": 12,
    "start_time": "2022-05-27T11:25:35.840Z"
   },
   {
    "duration": 13,
    "start_time": "2022-05-27T11:25:38.560Z"
   },
   {
    "duration": 13,
    "start_time": "2022-05-27T11:25:42.730Z"
   },
   {
    "duration": 10,
    "start_time": "2022-05-27T11:25:52.005Z"
   },
   {
    "duration": 10,
    "start_time": "2022-05-27T11:26:38.474Z"
   },
   {
    "duration": 7,
    "start_time": "2022-05-27T11:27:01.072Z"
   },
   {
    "duration": 525,
    "start_time": "2022-05-27T11:27:19.512Z"
   },
   {
    "duration": 5,
    "start_time": "2022-05-27T11:27:24.901Z"
   },
   {
    "duration": 4,
    "start_time": "2022-05-27T11:27:33.382Z"
   },
   {
    "duration": 78,
    "start_time": "2022-05-27T11:27:38.277Z"
   },
   {
    "duration": 6,
    "start_time": "2022-05-27T11:27:40.545Z"
   },
   {
    "duration": 5,
    "start_time": "2022-05-27T11:27:42.724Z"
   },
   {
    "duration": 85,
    "start_time": "2022-05-27T11:27:58.662Z"
   },
   {
    "duration": 7,
    "start_time": "2022-05-27T11:28:00.340Z"
   },
   {
    "duration": 33,
    "start_time": "2022-05-27T11:28:06.390Z"
   },
   {
    "duration": 7,
    "start_time": "2022-05-27T11:28:15.056Z"
   },
   {
    "duration": 8,
    "start_time": "2022-05-27T11:28:28.758Z"
   },
   {
    "duration": 13,
    "start_time": "2022-05-27T11:28:38.286Z"
   },
   {
    "duration": 10,
    "start_time": "2022-05-27T11:29:17.881Z"
   },
   {
    "duration": 9,
    "start_time": "2022-05-27T11:29:23.544Z"
   },
   {
    "duration": 11,
    "start_time": "2022-05-27T11:31:41.931Z"
   },
   {
    "duration": 13,
    "start_time": "2022-05-27T11:31:47.042Z"
   },
   {
    "duration": 10,
    "start_time": "2022-05-27T11:35:38.797Z"
   },
   {
    "duration": 87,
    "start_time": "2022-05-27T11:35:44.609Z"
   },
   {
    "duration": 5,
    "start_time": "2022-05-27T11:35:47.100Z"
   },
   {
    "duration": 12,
    "start_time": "2022-05-27T11:35:49.174Z"
   },
   {
    "duration": 9,
    "start_time": "2022-05-27T11:49:35.702Z"
   },
   {
    "duration": 10,
    "start_time": "2022-05-27T12:05:57.737Z"
   },
   {
    "duration": 43,
    "start_time": "2022-05-27T12:06:27.557Z"
   },
   {
    "duration": 87,
    "start_time": "2022-05-27T12:08:21.242Z"
   },
   {
    "duration": 6,
    "start_time": "2022-05-27T12:08:23.844Z"
   },
   {
    "duration": 12,
    "start_time": "2022-05-27T12:08:27.018Z"
   },
   {
    "duration": 11,
    "start_time": "2022-05-27T12:11:55.794Z"
   },
   {
    "duration": 42,
    "start_time": "2022-05-27T12:33:32.970Z"
   },
   {
    "duration": 81,
    "start_time": "2022-05-27T12:49:19.686Z"
   },
   {
    "duration": 8,
    "start_time": "2022-05-27T12:49:21.687Z"
   },
   {
    "duration": 90,
    "start_time": "2022-05-27T12:58:30.053Z"
   },
   {
    "duration": 20,
    "start_time": "2022-05-27T12:59:06.285Z"
   },
   {
    "duration": 15,
    "start_time": "2022-05-27T13:47:26.941Z"
   },
   {
    "duration": 12,
    "start_time": "2022-05-27T13:47:33.956Z"
   },
   {
    "duration": 75,
    "start_time": "2022-05-27T13:48:01.152Z"
   },
   {
    "duration": 8,
    "start_time": "2022-05-27T13:48:02.746Z"
   },
   {
    "duration": 15,
    "start_time": "2022-05-27T13:48:05.002Z"
   },
   {
    "duration": 4,
    "start_time": "2022-05-27T13:48:08.152Z"
   },
   {
    "duration": 9,
    "start_time": "2022-05-27T13:49:01.791Z"
   },
   {
    "duration": 8,
    "start_time": "2022-05-27T13:49:04.693Z"
   },
   {
    "duration": 73,
    "start_time": "2022-05-27T13:49:09.557Z"
   },
   {
    "duration": 7,
    "start_time": "2022-05-27T13:49:11.161Z"
   },
   {
    "duration": 17,
    "start_time": "2022-05-27T13:49:12.689Z"
   },
   {
    "duration": 67,
    "start_time": "2022-05-27T14:02:01.642Z"
   },
   {
    "duration": 18,
    "start_time": "2022-05-27T14:02:03.574Z"
   },
   {
    "duration": 13,
    "start_time": "2022-05-27T14:02:08.698Z"
   },
   {
    "duration": 7,
    "start_time": "2022-05-27T14:02:59.541Z"
   },
   {
    "duration": 6,
    "start_time": "2022-05-27T14:27:32.124Z"
   },
   {
    "duration": 66,
    "start_time": "2022-05-27T14:27:37.763Z"
   },
   {
    "duration": 7,
    "start_time": "2022-05-27T14:27:39.843Z"
   },
   {
    "duration": 11,
    "start_time": "2022-05-27T14:27:41.979Z"
   },
   {
    "duration": 6,
    "start_time": "2022-05-27T14:27:45.146Z"
   },
   {
    "duration": 65,
    "start_time": "2022-05-27T14:32:56.090Z"
   },
   {
    "duration": 5,
    "start_time": "2022-05-27T14:32:58.289Z"
   },
   {
    "duration": 12,
    "start_time": "2022-05-27T14:33:00.686Z"
   },
   {
    "duration": 5,
    "start_time": "2022-05-27T14:33:02.481Z"
   },
   {
    "duration": 63,
    "start_time": "2022-05-28T14:06:30.687Z"
   },
   {
    "duration": 757,
    "start_time": "2022-05-28T14:06:34.405Z"
   },
   {
    "duration": 12,
    "start_time": "2022-05-28T14:06:35.964Z"
   },
   {
    "duration": 19,
    "start_time": "2022-05-28T14:06:37.986Z"
   },
   {
    "duration": 30,
    "start_time": "2022-05-28T14:47:59.277Z"
   },
   {
    "duration": 36,
    "start_time": "2022-05-28T14:49:07.618Z"
   },
   {
    "duration": 191,
    "start_time": "2022-05-28T14:57:54.027Z"
   },
   {
    "duration": 6,
    "start_time": "2022-05-28T16:29:10.584Z"
   },
   {
    "duration": 5,
    "start_time": "2022-05-28T16:29:33.870Z"
   },
   {
    "duration": 15,
    "start_time": "2022-05-28T16:30:54.249Z"
   },
   {
    "duration": 80,
    "start_time": "2022-05-28T16:31:04.316Z"
   },
   {
    "duration": 73,
    "start_time": "2022-05-28T16:33:30.489Z"
   },
   {
    "duration": 6,
    "start_time": "2022-05-28T16:33:32.220Z"
   },
   {
    "duration": 39,
    "start_time": "2022-05-28T16:33:33.667Z"
   },
   {
    "duration": 16,
    "start_time": "2022-05-28T16:33:40.424Z"
   },
   {
    "duration": 84,
    "start_time": "2022-05-28T16:37:13.771Z"
   },
   {
    "duration": 6,
    "start_time": "2022-05-28T16:37:15.499Z"
   },
   {
    "duration": 37,
    "start_time": "2022-05-28T16:37:16.655Z"
   },
   {
    "duration": 70,
    "start_time": "2022-05-28T16:37:52.781Z"
   },
   {
    "duration": 6,
    "start_time": "2022-05-28T16:37:54.172Z"
   },
   {
    "duration": 13,
    "start_time": "2022-05-28T16:37:55.601Z"
   },
   {
    "duration": 5,
    "start_time": "2022-05-28T16:37:56.994Z"
   },
   {
    "duration": 69,
    "start_time": "2022-05-28T16:46:41.933Z"
   },
   {
    "duration": 6,
    "start_time": "2022-05-28T16:46:43.376Z"
   },
   {
    "duration": 23,
    "start_time": "2022-05-28T16:46:45.310Z"
   },
   {
    "duration": 71,
    "start_time": "2022-05-28T16:48:36.859Z"
   },
   {
    "duration": 6,
    "start_time": "2022-05-28T16:48:38.375Z"
   },
   {
    "duration": 45,
    "start_time": "2022-05-28T16:48:57.120Z"
   },
   {
    "duration": 18,
    "start_time": "2022-05-28T16:54:41.770Z"
   },
   {
    "duration": 81,
    "start_time": "2022-05-28T16:55:47.312Z"
   },
   {
    "duration": 8,
    "start_time": "2022-05-28T16:55:48.479Z"
   },
   {
    "duration": 33,
    "start_time": "2022-05-28T16:55:49.756Z"
   },
   {
    "duration": 3,
    "start_time": "2022-05-28T16:55:50.939Z"
   },
   {
    "duration": 80,
    "start_time": "2022-05-28T16:56:01.042Z"
   },
   {
    "duration": 7,
    "start_time": "2022-05-28T16:56:02.549Z"
   },
   {
    "duration": 10,
    "start_time": "2022-05-28T16:56:03.869Z"
   },
   {
    "duration": 4,
    "start_time": "2022-05-28T16:56:05.466Z"
   },
   {
    "duration": 15,
    "start_time": "2022-05-28T16:56:11.147Z"
   },
   {
    "duration": 13,
    "start_time": "2022-05-28T16:59:59.752Z"
   },
   {
    "duration": 27,
    "start_time": "2022-05-28T17:28:19.609Z"
   },
   {
    "duration": 22,
    "start_time": "2022-05-28T17:28:51.343Z"
   },
   {
    "duration": 39,
    "start_time": "2022-05-28T17:29:44.895Z"
   },
   {
    "duration": 81,
    "start_time": "2022-05-28T17:39:29.740Z"
   },
   {
    "duration": 119,
    "start_time": "2022-05-28T17:45:03.049Z"
   },
   {
    "duration": 11,
    "start_time": "2022-05-28T17:46:18.838Z"
   },
   {
    "duration": 36,
    "start_time": "2022-05-28T17:51:16.922Z"
   },
   {
    "duration": 43,
    "start_time": "2022-05-28T17:51:31.883Z"
   },
   {
    "duration": 59,
    "start_time": "2022-05-28T17:51:41.371Z"
   },
   {
    "duration": 39,
    "start_time": "2022-05-28T17:51:59.974Z"
   },
   {
    "duration": 40,
    "start_time": "2022-05-28T17:52:06.340Z"
   },
   {
    "duration": 21,
    "start_time": "2022-05-28T17:53:21.169Z"
   },
   {
    "duration": 99,
    "start_time": "2022-05-28T17:53:28.833Z"
   },
   {
    "duration": 7,
    "start_time": "2022-05-28T17:53:30.061Z"
   },
   {
    "duration": 10,
    "start_time": "2022-05-28T17:53:31.053Z"
   },
   {
    "duration": 4,
    "start_time": "2022-05-28T17:53:32.049Z"
   },
   {
    "duration": 21,
    "start_time": "2022-05-28T17:53:33.272Z"
   },
   {
    "duration": 40,
    "start_time": "2022-05-28T17:54:09.741Z"
   },
   {
    "duration": 28,
    "start_time": "2022-05-28T17:55:15.309Z"
   },
   {
    "duration": 40,
    "start_time": "2022-05-28T17:55:52.173Z"
   },
   {
    "duration": 43,
    "start_time": "2022-05-28T17:58:00.668Z"
   },
   {
    "duration": 34,
    "start_time": "2022-05-28T18:03:00.973Z"
   },
   {
    "duration": 86,
    "start_time": "2022-05-28T18:06:28.509Z"
   },
   {
    "duration": 20,
    "start_time": "2022-05-28T18:07:22.528Z"
   },
   {
    "duration": 80,
    "start_time": "2022-05-28T18:07:26.911Z"
   },
   {
    "duration": 6,
    "start_time": "2022-05-28T18:07:28.443Z"
   },
   {
    "duration": 48,
    "start_time": "2022-05-28T18:07:30.489Z"
   },
   {
    "duration": 17,
    "start_time": "2022-05-28T18:07:32.382Z"
   },
   {
    "duration": 95,
    "start_time": "2022-05-28T18:07:54.312Z"
   },
   {
    "duration": 79,
    "start_time": "2022-05-28T18:08:12.196Z"
   },
   {
    "duration": 6,
    "start_time": "2022-05-28T18:08:14.895Z"
   },
   {
    "duration": 39,
    "start_time": "2022-05-28T18:08:17.841Z"
   },
   {
    "duration": 16,
    "start_time": "2022-05-28T18:08:19.666Z"
   },
   {
    "duration": 15,
    "start_time": "2022-05-28T18:08:31.517Z"
   },
   {
    "duration": 89,
    "start_time": "2022-05-28T18:08:43.163Z"
   },
   {
    "duration": 6,
    "start_time": "2022-05-28T18:08:44.123Z"
   },
   {
    "duration": 41,
    "start_time": "2022-05-28T18:08:44.973Z"
   },
   {
    "duration": 17,
    "start_time": "2022-05-28T18:08:46.049Z"
   },
   {
    "duration": 92,
    "start_time": "2022-05-28T18:09:02.165Z"
   },
   {
    "duration": 6,
    "start_time": "2022-05-28T18:09:05.477Z"
   },
   {
    "duration": 64,
    "start_time": "2022-05-28T18:09:13.743Z"
   },
   {
    "duration": 101,
    "start_time": "2022-05-28T18:10:17.304Z"
   },
   {
    "duration": 72,
    "start_time": "2022-05-28T18:10:25.974Z"
   },
   {
    "duration": 6,
    "start_time": "2022-05-28T18:10:27.525Z"
   },
   {
    "duration": 46,
    "start_time": "2022-05-28T18:10:36.333Z"
   },
   {
    "duration": 6,
    "start_time": "2022-05-28T18:15:31.276Z"
   },
   {
    "duration": 17,
    "start_time": "2022-05-28T18:15:44.239Z"
   },
   {
    "duration": 56,
    "start_time": "2022-05-28T18:16:02.936Z"
   },
   {
    "duration": 8,
    "start_time": "2022-05-28T18:16:57.048Z"
   },
   {
    "duration": 6,
    "start_time": "2022-05-28T18:21:32.379Z"
   },
   {
    "duration": 110,
    "start_time": "2022-05-28T18:21:48.089Z"
   },
   {
    "duration": 11,
    "start_time": "2022-05-28T18:22:46.138Z"
   },
   {
    "duration": 83,
    "start_time": "2022-05-28T18:32:10.158Z"
   },
   {
    "duration": 8,
    "start_time": "2022-05-28T18:32:12.357Z"
   },
   {
    "duration": 27,
    "start_time": "2022-05-28T18:32:14.956Z"
   },
   {
    "duration": 5,
    "start_time": "2022-05-28T18:32:17.909Z"
   },
   {
    "duration": 57,
    "start_time": "2022-05-28T18:32:42.243Z"
   },
   {
    "duration": 21,
    "start_time": "2022-05-28T18:40:55.421Z"
   },
   {
    "duration": 127,
    "start_time": "2022-05-28T18:41:04.146Z"
   },
   {
    "duration": 7,
    "start_time": "2022-05-28T18:41:05.686Z"
   },
   {
    "duration": 31,
    "start_time": "2022-05-28T18:41:08.120Z"
   },
   {
    "duration": 26,
    "start_time": "2022-05-28T18:43:38.577Z"
   },
   {
    "duration": 16,
    "start_time": "2022-05-28T18:55:33.128Z"
   },
   {
    "duration": 28,
    "start_time": "2022-05-28T18:55:38.701Z"
   },
   {
    "duration": 32,
    "start_time": "2022-05-28T18:56:25.424Z"
   },
   {
    "duration": 77,
    "start_time": "2022-05-28T18:56:34.499Z"
   },
   {
    "duration": 8,
    "start_time": "2022-05-28T18:56:35.996Z"
   },
   {
    "duration": 39,
    "start_time": "2022-05-28T18:56:37.177Z"
   },
   {
    "duration": 5,
    "start_time": "2022-05-28T18:56:38.974Z"
   },
   {
    "duration": 48,
    "start_time": "2022-05-28T18:56:39.996Z"
   },
   {
    "duration": 89,
    "start_time": "2022-05-28T18:56:50.937Z"
   },
   {
    "duration": 6,
    "start_time": "2022-05-28T18:56:52.331Z"
   },
   {
    "duration": 23,
    "start_time": "2022-05-28T18:56:53.591Z"
   },
   {
    "duration": 4,
    "start_time": "2022-05-28T18:56:54.512Z"
   },
   {
    "duration": 60,
    "start_time": "2022-05-28T18:56:55.666Z"
   },
   {
    "duration": 848,
    "start_time": "2022-05-29T14:16:17.731Z"
   },
   {
    "duration": 89,
    "start_time": "2022-05-29T14:20:09.809Z"
   },
   {
    "duration": 68,
    "start_time": "2022-05-29T14:33:01.370Z"
   },
   {
    "duration": 92,
    "start_time": "2022-05-29T14:44:24.953Z"
   },
   {
    "duration": 81,
    "start_time": "2022-05-29T14:44:49.951Z"
   },
   {
    "duration": 66,
    "start_time": "2022-05-29T14:49:03.253Z"
   },
   {
    "duration": 277,
    "start_time": "2022-05-29T14:49:48.916Z"
   },
   {
    "duration": 6,
    "start_time": "2022-05-29T14:49:52.215Z"
   },
   {
    "duration": 77,
    "start_time": "2022-05-29T14:49:53.881Z"
   },
   {
    "duration": 5,
    "start_time": "2022-05-29T14:50:14.122Z"
   },
   {
    "duration": 2,
    "start_time": "2022-05-29T14:50:15.921Z"
   },
   {
    "duration": 68,
    "start_time": "2022-05-29T14:50:19.753Z"
   },
   {
    "duration": 6,
    "start_time": "2022-05-29T14:50:21.193Z"
   },
   {
    "duration": 10,
    "start_time": "2022-05-29T14:50:22.709Z"
   },
   {
    "duration": 8,
    "start_time": "2022-05-29T14:50:34.689Z"
   },
   {
    "duration": 5,
    "start_time": "2022-05-29T14:50:50.751Z"
   },
   {
    "duration": 66,
    "start_time": "2022-05-29T14:50:54.161Z"
   },
   {
    "duration": 6,
    "start_time": "2022-05-29T14:50:55.275Z"
   },
   {
    "duration": 5,
    "start_time": "2022-05-29T14:50:57.125Z"
   },
   {
    "duration": 93,
    "start_time": "2022-05-29T14:51:16.131Z"
   },
   {
    "duration": 11,
    "start_time": "2022-05-29T14:51:56.591Z"
   },
   {
    "duration": 41,
    "start_time": "2022-05-29T14:52:08.450Z"
   },
   {
    "duration": 7,
    "start_time": "2022-05-29T14:52:46.892Z"
   },
   {
    "duration": 6,
    "start_time": "2022-05-29T14:53:04.540Z"
   },
   {
    "duration": 65,
    "start_time": "2022-05-29T14:53:09.117Z"
   },
   {
    "duration": 7,
    "start_time": "2022-05-29T14:53:10.207Z"
   },
   {
    "duration": 11,
    "start_time": "2022-05-29T14:53:11.577Z"
   },
   {
    "duration": 3,
    "start_time": "2022-05-29T14:53:12.707Z"
   },
   {
    "duration": 5,
    "start_time": "2022-05-29T14:53:14.572Z"
   },
   {
    "duration": 16,
    "start_time": "2022-05-29T14:53:22.410Z"
   },
   {
    "duration": 6,
    "start_time": "2022-05-29T14:53:49.010Z"
   },
   {
    "duration": 6,
    "start_time": "2022-05-29T14:55:20.453Z"
   },
   {
    "duration": 7,
    "start_time": "2022-05-29T14:56:18.758Z"
   },
   {
    "duration": 7,
    "start_time": "2022-05-29T14:56:45.799Z"
   },
   {
    "duration": 9,
    "start_time": "2022-05-29T14:56:49.857Z"
   },
   {
    "duration": 9,
    "start_time": "2022-05-29T14:57:15.614Z"
   },
   {
    "duration": 7,
    "start_time": "2022-05-29T14:58:13.902Z"
   },
   {
    "duration": 21,
    "start_time": "2022-05-29T15:01:16.916Z"
   },
   {
    "duration": 35,
    "start_time": "2022-05-29T15:01:33.098Z"
   },
   {
    "duration": 9,
    "start_time": "2022-05-29T15:01:58.677Z"
   },
   {
    "duration": 20,
    "start_time": "2022-05-29T15:02:18.079Z"
   },
   {
    "duration": 9,
    "start_time": "2022-05-29T15:02:31.908Z"
   },
   {
    "duration": 15,
    "start_time": "2022-05-29T15:02:44.480Z"
   },
   {
    "duration": 23,
    "start_time": "2022-05-29T15:03:38.663Z"
   },
   {
    "duration": 9,
    "start_time": "2022-05-29T15:04:09.480Z"
   },
   {
    "duration": 8,
    "start_time": "2022-05-29T15:04:19.182Z"
   },
   {
    "duration": 8,
    "start_time": "2022-05-29T15:04:26.619Z"
   },
   {
    "duration": 10,
    "start_time": "2022-05-29T15:05:11.262Z"
   },
   {
    "duration": 96,
    "start_time": "2022-05-29T15:07:48.141Z"
   },
   {
    "duration": 75,
    "start_time": "2022-05-29T15:09:35.252Z"
   },
   {
    "duration": 72,
    "start_time": "2022-05-29T15:09:42.547Z"
   },
   {
    "duration": 84,
    "start_time": "2022-05-29T15:09:52.877Z"
   },
   {
    "duration": 73,
    "start_time": "2022-05-29T15:10:13.910Z"
   },
   {
    "duration": 96,
    "start_time": "2022-05-29T15:11:22.578Z"
   },
   {
    "duration": 15,
    "start_time": "2022-05-29T15:11:54.245Z"
   },
   {
    "duration": 11,
    "start_time": "2022-05-29T15:12:19.851Z"
   },
   {
    "duration": 81,
    "start_time": "2022-05-29T15:12:49.277Z"
   },
   {
    "duration": 15,
    "start_time": "2022-05-29T15:13:02.329Z"
   },
   {
    "duration": 10,
    "start_time": "2022-05-29T15:13:56.451Z"
   },
   {
    "duration": 13,
    "start_time": "2022-05-29T15:13:58.862Z"
   },
   {
    "duration": 92,
    "start_time": "2022-05-29T15:14:04.663Z"
   },
   {
    "duration": 6,
    "start_time": "2022-05-29T15:14:06.123Z"
   },
   {
    "duration": 19,
    "start_time": "2022-05-29T15:14:07.360Z"
   },
   {
    "duration": 85,
    "start_time": "2022-05-29T15:14:20.845Z"
   },
   {
    "duration": 6,
    "start_time": "2022-05-29T15:14:22.301Z"
   },
   {
    "duration": 14,
    "start_time": "2022-05-29T15:14:23.887Z"
   },
   {
    "duration": 14,
    "start_time": "2022-05-29T15:14:45.591Z"
   },
   {
    "duration": 79,
    "start_time": "2022-05-29T15:15:03.149Z"
   },
   {
    "duration": 6,
    "start_time": "2022-05-29T15:15:04.433Z"
   },
   {
    "duration": 16,
    "start_time": "2022-05-29T15:15:05.781Z"
   },
   {
    "duration": 34,
    "start_time": "2022-05-29T15:20:52.224Z"
   },
   {
    "duration": 73,
    "start_time": "2022-05-29T15:26:01.032Z"
   },
   {
    "duration": 6,
    "start_time": "2022-05-29T15:26:03.270Z"
   },
   {
    "duration": 11,
    "start_time": "2022-05-29T15:26:05.084Z"
   },
   {
    "duration": 13,
    "start_time": "2022-05-29T15:27:59.368Z"
   },
   {
    "duration": 7,
    "start_time": "2022-05-29T15:28:40.190Z"
   },
   {
    "duration": 40,
    "start_time": "2022-05-29T15:38:31.277Z"
   },
   {
    "duration": 11,
    "start_time": "2022-05-29T15:38:59.122Z"
   },
   {
    "duration": 7,
    "start_time": "2022-05-29T15:40:47.086Z"
   },
   {
    "duration": 13,
    "start_time": "2022-05-29T15:42:22.775Z"
   },
   {
    "duration": 71,
    "start_time": "2022-05-29T15:43:50.431Z"
   },
   {
    "duration": 12,
    "start_time": "2022-05-29T15:43:51.700Z"
   },
   {
    "duration": 11,
    "start_time": "2022-05-29T15:43:53.559Z"
   },
   {
    "duration": 18,
    "start_time": "2022-05-29T15:50:18.189Z"
   },
   {
    "duration": 3,
    "start_time": "2022-05-29T15:50:54.961Z"
   },
   {
    "duration": 17,
    "start_time": "2022-05-29T15:51:57.275Z"
   },
   {
    "duration": 3,
    "start_time": "2022-05-29T15:52:25.233Z"
   },
   {
    "duration": 5,
    "start_time": "2022-05-29T15:52:55.380Z"
   },
   {
    "duration": 15,
    "start_time": "2022-05-29T15:54:09.559Z"
   },
   {
    "duration": 17,
    "start_time": "2022-05-29T15:54:17.599Z"
   },
   {
    "duration": 11,
    "start_time": "2022-05-29T15:56:15.354Z"
   },
   {
    "duration": 30,
    "start_time": "2022-05-29T16:06:16.335Z"
   },
   {
    "duration": 32,
    "start_time": "2022-05-29T16:08:05.276Z"
   },
   {
    "duration": 27,
    "start_time": "2022-05-29T16:08:08.914Z"
   },
   {
    "duration": 79,
    "start_time": "2022-05-29T16:08:14.836Z"
   },
   {
    "duration": 7,
    "start_time": "2022-05-29T16:08:16.269Z"
   },
   {
    "duration": 12,
    "start_time": "2022-05-29T16:08:17.626Z"
   },
   {
    "duration": 6,
    "start_time": "2022-05-29T16:08:19.688Z"
   },
   {
    "duration": 30,
    "start_time": "2022-05-29T16:08:20.815Z"
   },
   {
    "duration": 34,
    "start_time": "2022-05-29T16:09:23.284Z"
   },
   {
    "duration": 67,
    "start_time": "2022-05-29T16:09:29.724Z"
   },
   {
    "duration": 8,
    "start_time": "2022-05-29T16:09:31.173Z"
   },
   {
    "duration": 11,
    "start_time": "2022-05-29T16:09:32.716Z"
   },
   {
    "duration": 4,
    "start_time": "2022-05-29T16:09:34.245Z"
   },
   {
    "duration": 25,
    "start_time": "2022-05-29T16:09:35.924Z"
   },
   {
    "duration": 38,
    "start_time": "2022-05-29T16:10:24.877Z"
   },
   {
    "duration": 17,
    "start_time": "2022-05-29T16:11:34.766Z"
   },
   {
    "duration": 25,
    "start_time": "2022-05-29T16:14:02.026Z"
   },
   {
    "duration": 22,
    "start_time": "2022-05-29T16:15:49.047Z"
   },
   {
    "duration": 21,
    "start_time": "2022-05-29T16:15:52.356Z"
   },
   {
    "duration": 28,
    "start_time": "2022-05-29T16:17:27.931Z"
   },
   {
    "duration": 70,
    "start_time": "2022-05-29T16:17:41.122Z"
   },
   {
    "duration": 6,
    "start_time": "2022-05-29T16:17:42.313Z"
   },
   {
    "duration": 10,
    "start_time": "2022-05-29T16:17:43.577Z"
   },
   {
    "duration": 4,
    "start_time": "2022-05-29T16:17:44.819Z"
   },
   {
    "duration": 26,
    "start_time": "2022-05-29T16:17:45.682Z"
   },
   {
    "duration": 688,
    "start_time": "2022-05-30T06:41:57.679Z"
   },
   {
    "duration": 8,
    "start_time": "2022-05-30T06:41:59.353Z"
   },
   {
    "duration": 12,
    "start_time": "2022-05-30T06:42:01.338Z"
   },
   {
    "duration": 3,
    "start_time": "2022-05-30T06:42:03.524Z"
   },
   {
    "duration": 24,
    "start_time": "2022-05-30T06:49:26.054Z"
   },
   {
    "duration": 20,
    "start_time": "2022-05-30T06:49:36.928Z"
   },
   {
    "duration": 32,
    "start_time": "2022-05-30T06:49:41.505Z"
   },
   {
    "duration": 27,
    "start_time": "2022-05-30T06:49:46.306Z"
   },
   {
    "duration": 30,
    "start_time": "2022-05-30T06:49:50.841Z"
   },
   {
    "duration": 54,
    "start_time": "2022-05-30T06:50:03.199Z"
   },
   {
    "duration": 40,
    "start_time": "2022-05-30T06:50:14.474Z"
   },
   {
    "duration": 24,
    "start_time": "2022-05-30T06:50:18.637Z"
   },
   {
    "duration": 64,
    "start_time": "2022-05-30T06:50:28.155Z"
   },
   {
    "duration": 19,
    "start_time": "2022-05-30T06:51:36.510Z"
   },
   {
    "duration": 23,
    "start_time": "2022-05-30T06:51:41.825Z"
   },
   {
    "duration": 25,
    "start_time": "2022-05-30T06:52:13.551Z"
   },
   {
    "duration": 41,
    "start_time": "2022-05-30T06:52:32.803Z"
   },
   {
    "duration": 27,
    "start_time": "2022-05-30T06:52:38.616Z"
   },
   {
    "duration": 33,
    "start_time": "2022-05-30T06:52:49.790Z"
   },
   {
    "duration": 68,
    "start_time": "2022-05-30T06:52:59.290Z"
   },
   {
    "duration": 9,
    "start_time": "2022-05-30T06:53:00.664Z"
   },
   {
    "duration": 11,
    "start_time": "2022-05-30T06:53:02.068Z"
   },
   {
    "duration": 4,
    "start_time": "2022-05-30T06:53:03.478Z"
   },
   {
    "duration": 39,
    "start_time": "2022-05-30T06:53:04.502Z"
   },
   {
    "duration": 27,
    "start_time": "2022-05-30T06:53:48.538Z"
   },
   {
    "duration": 7,
    "start_time": "2022-05-30T06:54:15.724Z"
   },
   {
    "duration": 66,
    "start_time": "2022-05-30T06:54:24.880Z"
   },
   {
    "duration": 8,
    "start_time": "2022-05-30T06:54:26.428Z"
   },
   {
    "duration": 10,
    "start_time": "2022-05-30T06:54:40.110Z"
   },
   {
    "duration": 82,
    "start_time": "2022-05-30T06:54:56.265Z"
   },
   {
    "duration": 6,
    "start_time": "2022-05-30T06:54:58.295Z"
   },
   {
    "duration": 48,
    "start_time": "2022-05-30T06:55:48.256Z"
   },
   {
    "duration": 25,
    "start_time": "2022-05-30T06:56:49.985Z"
   },
   {
    "duration": 25,
    "start_time": "2022-05-30T07:04:00.712Z"
   },
   {
    "duration": 41,
    "start_time": "2022-05-30T07:04:22.812Z"
   },
   {
    "duration": 68,
    "start_time": "2022-05-30T07:04:29.592Z"
   },
   {
    "duration": 4,
    "start_time": "2022-05-30T07:04:31.165Z"
   },
   {
    "duration": 70,
    "start_time": "2022-05-30T07:04:53.696Z"
   },
   {
    "duration": 5,
    "start_time": "2022-05-30T07:04:55.356Z"
   },
   {
    "duration": 83,
    "start_time": "2022-05-30T08:00:25.202Z"
   },
   {
    "duration": 71,
    "start_time": "2022-05-30T08:24:27.050Z"
   },
   {
    "duration": 10,
    "start_time": "2022-05-30T08:24:42.972Z"
   },
   {
    "duration": 69,
    "start_time": "2022-05-30T08:25:01.372Z"
   },
   {
    "duration": 6,
    "start_time": "2022-05-30T08:25:02.848Z"
   },
   {
    "duration": 14,
    "start_time": "2022-05-30T08:25:04.233Z"
   },
   {
    "duration": 4,
    "start_time": "2022-05-30T08:25:06.645Z"
   },
   {
    "duration": 28,
    "start_time": "2022-05-30T08:25:09.110Z"
   },
   {
    "duration": 12,
    "start_time": "2022-05-30T08:25:25.582Z"
   },
   {
    "duration": 39,
    "start_time": "2022-05-30T08:26:06.895Z"
   },
   {
    "duration": 74,
    "start_time": "2022-05-30T08:26:13.744Z"
   },
   {
    "duration": 7,
    "start_time": "2022-05-30T08:26:14.711Z"
   },
   {
    "duration": 18,
    "start_time": "2022-05-30T08:26:16.676Z"
   },
   {
    "duration": 4,
    "start_time": "2022-05-30T08:26:18.579Z"
   },
   {
    "duration": 34,
    "start_time": "2022-05-30T08:26:19.667Z"
   },
   {
    "duration": 2,
    "start_time": "2022-05-30T08:26:20.156Z"
   },
   {
    "duration": 31,
    "start_time": "2022-05-30T08:26:45.106Z"
   },
   {
    "duration": 17,
    "start_time": "2022-05-30T08:26:50.929Z"
   },
   {
    "duration": 34,
    "start_time": "2022-05-30T08:27:09.716Z"
   },
   {
    "duration": 46,
    "start_time": "2022-05-30T08:27:18.886Z"
   },
   {
    "duration": 2,
    "start_time": "2022-05-30T08:27:19.886Z"
   },
   {
    "duration": 35,
    "start_time": "2022-05-30T08:27:27.770Z"
   },
   {
    "duration": 11,
    "start_time": "2022-05-30T08:27:28.715Z"
   },
   {
    "duration": 9,
    "start_time": "2022-05-30T08:27:41.773Z"
   },
   {
    "duration": 8,
    "start_time": "2022-05-30T08:31:17.714Z"
   },
   {
    "duration": 10,
    "start_time": "2022-05-30T08:31:49.657Z"
   },
   {
    "duration": 44,
    "start_time": "2022-05-30T08:35:37.383Z"
   },
   {
    "duration": 5,
    "start_time": "2022-05-30T09:05:59.622Z"
   },
   {
    "duration": 11,
    "start_time": "2022-05-30T09:06:02.226Z"
   },
   {
    "duration": 13,
    "start_time": "2022-05-30T09:06:15.891Z"
   },
   {
    "duration": 12,
    "start_time": "2022-05-30T09:21:55.054Z"
   },
   {
    "duration": 10,
    "start_time": "2022-05-30T09:23:28.477Z"
   },
   {
    "duration": 12,
    "start_time": "2022-05-30T09:23:33.132Z"
   },
   {
    "duration": 10,
    "start_time": "2022-05-30T09:23:48.465Z"
   },
   {
    "duration": 11,
    "start_time": "2022-05-30T09:23:56.940Z"
   },
   {
    "duration": 8,
    "start_time": "2022-05-30T09:24:00.149Z"
   },
   {
    "duration": 28,
    "start_time": "2022-05-30T09:24:36.521Z"
   },
   {
    "duration": 11,
    "start_time": "2022-05-30T09:24:42.602Z"
   },
   {
    "duration": 22,
    "start_time": "2022-05-30T09:26:26.390Z"
   },
   {
    "duration": 27,
    "start_time": "2022-05-30T09:30:08.547Z"
   },
   {
    "duration": 15,
    "start_time": "2022-05-30T09:31:58.868Z"
   },
   {
    "duration": 15,
    "start_time": "2022-05-30T09:32:09.197Z"
   },
   {
    "duration": 12,
    "start_time": "2022-05-30T09:39:18.207Z"
   },
   {
    "duration": 8,
    "start_time": "2022-05-30T09:39:31.447Z"
   },
   {
    "duration": 10,
    "start_time": "2022-05-30T09:39:39.698Z"
   },
   {
    "duration": 9,
    "start_time": "2022-05-30T09:39:57.361Z"
   },
   {
    "duration": 10,
    "start_time": "2022-05-30T09:42:42.139Z"
   },
   {
    "duration": 9,
    "start_time": "2022-05-30T09:43:18.591Z"
   },
   {
    "duration": 31,
    "start_time": "2022-05-30T09:43:52.119Z"
   },
   {
    "duration": 12,
    "start_time": "2022-05-30T09:43:57.223Z"
   },
   {
    "duration": 16,
    "start_time": "2022-05-30T09:44:54.909Z"
   },
   {
    "duration": 23,
    "start_time": "2022-05-30T09:49:29.798Z"
   },
   {
    "duration": 28,
    "start_time": "2022-05-30T09:49:49.141Z"
   },
   {
    "duration": 19,
    "start_time": "2022-05-30T09:50:42.154Z"
   },
   {
    "duration": 20,
    "start_time": "2022-05-30T09:50:54.018Z"
   },
   {
    "duration": 5,
    "start_time": "2022-05-30T10:25:33.583Z"
   },
   {
    "duration": 8,
    "start_time": "2022-05-30T10:28:58.245Z"
   },
   {
    "duration": 15,
    "start_time": "2022-05-30T10:29:08.698Z"
   },
   {
    "duration": 10,
    "start_time": "2022-05-30T10:29:24.471Z"
   },
   {
    "duration": 42,
    "start_time": "2022-05-30T10:50:46.806Z"
   },
   {
    "duration": 78,
    "start_time": "2022-05-30T10:50:53.135Z"
   },
   {
    "duration": 6,
    "start_time": "2022-05-30T10:50:54.603Z"
   },
   {
    "duration": 14,
    "start_time": "2022-05-30T10:50:56.210Z"
   },
   {
    "duration": 5,
    "start_time": "2022-05-30T10:50:57.776Z"
   },
   {
    "duration": 35,
    "start_time": "2022-05-30T10:50:58.851Z"
   },
   {
    "duration": 14,
    "start_time": "2022-05-30T10:51:00.241Z"
   },
   {
    "duration": 16,
    "start_time": "2022-05-30T10:54:35.331Z"
   },
   {
    "duration": 15,
    "start_time": "2022-05-30T10:54:52.830Z"
   },
   {
    "duration": 90,
    "start_time": "2022-05-30T10:55:26.574Z"
   },
   {
    "duration": 19,
    "start_time": "2022-05-30T11:01:38.813Z"
   },
   {
    "duration": 15,
    "start_time": "2022-05-30T11:04:45.972Z"
   },
   {
    "duration": 70,
    "start_time": "2022-05-30T11:04:54.469Z"
   },
   {
    "duration": 7,
    "start_time": "2022-05-30T11:04:55.525Z"
   },
   {
    "duration": 11,
    "start_time": "2022-05-30T11:04:56.669Z"
   },
   {
    "duration": 4,
    "start_time": "2022-05-30T11:04:57.936Z"
   },
   {
    "duration": 31,
    "start_time": "2022-05-30T11:04:58.732Z"
   },
   {
    "duration": 15,
    "start_time": "2022-05-30T11:04:59.797Z"
   },
   {
    "duration": 13,
    "start_time": "2022-05-30T11:06:05.791Z"
   },
   {
    "duration": 15,
    "start_time": "2022-05-30T11:06:08.864Z"
   },
   {
    "duration": 13,
    "start_time": "2022-05-30T11:06:18.521Z"
   },
   {
    "duration": 14,
    "start_time": "2022-05-30T11:06:49.900Z"
   },
   {
    "duration": 19,
    "start_time": "2022-05-30T11:08:33.857Z"
   },
   {
    "duration": 15,
    "start_time": "2022-05-30T11:08:52.630Z"
   },
   {
    "duration": 14,
    "start_time": "2022-05-30T11:10:50.851Z"
   },
   {
    "duration": 414,
    "start_time": "2022-05-30T11:11:23.254Z"
   },
   {
    "duration": 15,
    "start_time": "2022-05-30T11:12:29.142Z"
   },
   {
    "duration": 4,
    "start_time": "2022-05-30T11:13:14.949Z"
   },
   {
    "duration": 18,
    "start_time": "2022-05-30T11:16:03.423Z"
   },
   {
    "duration": 41,
    "start_time": "2022-05-30T11:32:47.003Z"
   },
   {
    "duration": 10,
    "start_time": "2022-05-30T11:39:26.678Z"
   },
   {
    "duration": 30,
    "start_time": "2022-05-30T11:40:35.550Z"
   },
   {
    "duration": 14,
    "start_time": "2022-05-30T11:40:47.951Z"
   },
   {
    "duration": 3,
    "start_time": "2022-05-30T12:07:58.310Z"
   },
   {
    "duration": 37,
    "start_time": "2022-05-30T12:08:59.104Z"
   },
   {
    "duration": 18,
    "start_time": "2022-05-30T12:11:22.871Z"
   },
   {
    "duration": 14,
    "start_time": "2022-05-30T12:15:00.140Z"
   },
   {
    "duration": 16,
    "start_time": "2022-05-30T12:16:38.304Z"
   },
   {
    "duration": 87,
    "start_time": "2022-05-30T12:27:50.794Z"
   },
   {
    "duration": 74,
    "start_time": "2022-05-30T12:28:23.469Z"
   },
   {
    "duration": 6,
    "start_time": "2022-05-30T12:28:24.509Z"
   },
   {
    "duration": 11,
    "start_time": "2022-05-30T12:28:26.112Z"
   },
   {
    "duration": 4,
    "start_time": "2022-05-30T12:28:27.759Z"
   },
   {
    "duration": 30,
    "start_time": "2022-05-30T12:28:29.895Z"
   },
   {
    "duration": 14,
    "start_time": "2022-05-30T12:28:32.361Z"
   },
   {
    "duration": 16,
    "start_time": "2022-05-30T12:29:05.511Z"
   },
   {
    "duration": 14,
    "start_time": "2022-05-30T12:43:34.002Z"
   },
   {
    "duration": 5,
    "start_time": "2022-05-30T12:43:42.240Z"
   },
   {
    "duration": 8,
    "start_time": "2022-05-30T12:43:43.838Z"
   },
   {
    "duration": 4,
    "start_time": "2022-05-30T12:43:45.473Z"
   },
   {
    "duration": 30,
    "start_time": "2022-05-30T12:43:46.839Z"
   },
   {
    "duration": 13,
    "start_time": "2022-05-30T12:43:48.150Z"
   },
   {
    "duration": 3,
    "start_time": "2022-05-30T12:43:49.578Z"
   },
   {
    "duration": 9,
    "start_time": "2022-05-30T12:57:22.201Z"
   },
   {
    "duration": 10,
    "start_time": "2022-05-30T12:58:03.640Z"
   },
   {
    "duration": 25,
    "start_time": "2022-05-30T12:58:20.298Z"
   },
   {
    "duration": 11,
    "start_time": "2022-05-30T12:58:52.112Z"
   },
   {
    "duration": 24,
    "start_time": "2022-05-30T12:59:42.989Z"
   },
   {
    "duration": 103,
    "start_time": "2022-05-30T13:00:40.467Z"
   },
   {
    "duration": 21,
    "start_time": "2022-05-30T13:00:55.441Z"
   },
   {
    "duration": 11,
    "start_time": "2022-05-30T13:01:47.983Z"
   },
   {
    "duration": 16,
    "start_time": "2022-05-30T13:02:44.547Z"
   },
   {
    "duration": 19,
    "start_time": "2022-05-30T13:03:03.488Z"
   },
   {
    "duration": 16,
    "start_time": "2022-05-30T13:03:12.259Z"
   },
   {
    "duration": 19,
    "start_time": "2022-05-30T13:05:15.624Z"
   },
   {
    "duration": 11,
    "start_time": "2022-05-30T13:05:40.444Z"
   },
   {
    "duration": 11,
    "start_time": "2022-05-30T13:07:44.146Z"
   },
   {
    "duration": 12,
    "start_time": "2022-05-30T13:07:46.901Z"
   },
   {
    "duration": 14,
    "start_time": "2022-05-30T13:07:59.138Z"
   },
   {
    "duration": 15,
    "start_time": "2022-05-30T13:08:24.777Z"
   },
   {
    "duration": 13,
    "start_time": "2022-05-30T13:08:38.469Z"
   },
   {
    "duration": 11,
    "start_time": "2022-05-30T13:08:48.578Z"
   },
   {
    "duration": 16,
    "start_time": "2022-05-30T13:09:05.491Z"
   },
   {
    "duration": 11,
    "start_time": "2022-05-30T13:09:20.312Z"
   },
   {
    "duration": 36,
    "start_time": "2022-05-30T13:09:35.812Z"
   },
   {
    "duration": 12,
    "start_time": "2022-05-30T13:10:21.610Z"
   },
   {
    "duration": 11,
    "start_time": "2022-05-30T13:10:34.194Z"
   },
   {
    "duration": 10,
    "start_time": "2022-05-30T13:10:44.794Z"
   },
   {
    "duration": 15,
    "start_time": "2022-05-30T13:10:52.691Z"
   },
   {
    "duration": 19,
    "start_time": "2022-05-30T13:11:26.619Z"
   },
   {
    "duration": 12,
    "start_time": "2022-05-30T13:13:33.946Z"
   },
   {
    "duration": 78,
    "start_time": "2022-05-30T13:13:47.068Z"
   },
   {
    "duration": 8,
    "start_time": "2022-05-30T13:13:48.423Z"
   },
   {
    "duration": 11,
    "start_time": "2022-05-30T13:13:49.896Z"
   },
   {
    "duration": 15,
    "start_time": "2022-05-30T13:13:51.626Z"
   },
   {
    "duration": 28,
    "start_time": "2022-05-30T13:13:52.887Z"
   },
   {
    "duration": 13,
    "start_time": "2022-05-30T13:13:54.579Z"
   },
   {
    "duration": 17,
    "start_time": "2022-05-30T13:15:09.183Z"
   },
   {
    "duration": 14,
    "start_time": "2022-05-30T13:15:19.150Z"
   },
   {
    "duration": 921,
    "start_time": "2022-05-30T16:21:34.041Z"
   },
   {
    "duration": 7,
    "start_time": "2022-05-30T16:21:35.212Z"
   },
   {
    "duration": 11,
    "start_time": "2022-05-30T16:21:36.542Z"
   },
   {
    "duration": 4,
    "start_time": "2022-05-30T16:21:38.273Z"
   },
   {
    "duration": 31,
    "start_time": "2022-05-30T16:21:39.226Z"
   },
   {
    "duration": 3,
    "start_time": "2022-05-30T16:21:41.058Z"
   },
   {
    "duration": 4,
    "start_time": "2022-05-30T16:21:43.033Z"
   },
   {
    "duration": 76,
    "start_time": "2022-05-30T16:23:28.826Z"
   },
   {
    "duration": 11,
    "start_time": "2022-05-30T16:24:03.374Z"
   },
   {
    "duration": 16,
    "start_time": "2022-05-30T16:24:06.419Z"
   },
   {
    "duration": 15,
    "start_time": "2022-05-30T16:25:10.132Z"
   },
   {
    "duration": 19,
    "start_time": "2022-05-30T16:25:22.791Z"
   },
   {
    "duration": 16,
    "start_time": "2022-05-30T16:27:44.151Z"
   },
   {
    "duration": 13,
    "start_time": "2022-05-30T16:28:08.892Z"
   },
   {
    "duration": 54,
    "start_time": "2022-05-31T07:35:27.210Z"
   },
   {
    "duration": 6,
    "start_time": "2022-05-31T07:35:35.879Z"
   },
   {
    "duration": 780,
    "start_time": "2022-05-31T07:35:46.318Z"
   },
   {
    "duration": 8,
    "start_time": "2022-05-31T07:35:47.623Z"
   },
   {
    "duration": 13,
    "start_time": "2022-05-31T07:35:49.047Z"
   },
   {
    "duration": 4,
    "start_time": "2022-05-31T07:35:50.409Z"
   },
   {
    "duration": 46,
    "start_time": "2022-05-31T07:35:51.567Z"
   },
   {
    "duration": 17,
    "start_time": "2022-05-31T07:35:52.704Z"
   },
   {
    "duration": 12,
    "start_time": "2022-05-31T07:45:39.027Z"
   },
   {
    "duration": 7,
    "start_time": "2022-05-31T07:46:40.187Z"
   },
   {
    "duration": 71,
    "start_time": "2022-05-31T09:03:07.192Z"
   },
   {
    "duration": 6,
    "start_time": "2022-05-31T09:03:08.730Z"
   },
   {
    "duration": 14,
    "start_time": "2022-05-31T09:03:10.647Z"
   },
   {
    "duration": 4,
    "start_time": "2022-05-31T09:03:12.349Z"
   },
   {
    "duration": 29,
    "start_time": "2022-05-31T09:03:13.428Z"
   },
   {
    "duration": 5,
    "start_time": "2022-05-31T09:03:15.042Z"
   },
   {
    "duration": 21,
    "start_time": "2022-05-31T09:03:17.273Z"
   },
   {
    "duration": 16,
    "start_time": "2022-05-31T09:03:52.015Z"
   },
   {
    "duration": 15,
    "start_time": "2022-05-31T11:46:03.481Z"
   },
   {
    "duration": 43,
    "start_time": "2022-05-31T12:20:21.021Z"
   },
   {
    "duration": 13,
    "start_time": "2022-05-31T12:21:30.093Z"
   },
   {
    "duration": 13,
    "start_time": "2022-05-31T12:21:43.341Z"
   },
   {
    "duration": 13,
    "start_time": "2022-05-31T12:22:19.971Z"
   },
   {
    "duration": 13,
    "start_time": "2022-05-31T12:23:08.172Z"
   },
   {
    "duration": 6,
    "start_time": "2022-05-31T12:23:17.968Z"
   },
   {
    "duration": 12,
    "start_time": "2022-05-31T12:23:18.733Z"
   },
   {
    "duration": 3,
    "start_time": "2022-05-31T12:23:19.318Z"
   },
   {
    "duration": 37,
    "start_time": "2022-05-31T12:23:19.767Z"
   },
   {
    "duration": 6,
    "start_time": "2022-05-31T12:23:20.416Z"
   },
   {
    "duration": 11,
    "start_time": "2022-05-31T12:23:20.969Z"
   },
   {
    "duration": 15,
    "start_time": "2022-05-31T12:23:23.638Z"
   },
   {
    "duration": 14,
    "start_time": "2022-05-31T12:24:01.187Z"
   },
   {
    "duration": 14,
    "start_time": "2022-05-31T12:24:13.838Z"
   },
   {
    "duration": 31,
    "start_time": "2022-05-31T12:24:30.271Z"
   },
   {
    "duration": 27,
    "start_time": "2022-05-31T12:24:39.344Z"
   },
   {
    "duration": 39,
    "start_time": "2022-05-31T12:25:02.614Z"
   },
   {
    "duration": 24,
    "start_time": "2022-05-31T12:25:19.092Z"
   },
   {
    "duration": 14,
    "start_time": "2022-05-31T12:26:07.592Z"
   },
   {
    "duration": 25,
    "start_time": "2022-05-31T12:31:51.418Z"
   },
   {
    "duration": 16,
    "start_time": "2022-05-31T12:33:56.619Z"
   },
   {
    "duration": 352,
    "start_time": "2022-05-31T12:45:22.573Z"
   },
   {
    "duration": 6,
    "start_time": "2022-05-31T12:45:23.765Z"
   },
   {
    "duration": 12,
    "start_time": "2022-05-31T12:45:25.173Z"
   },
   {
    "duration": 4,
    "start_time": "2022-05-31T12:45:26.545Z"
   },
   {
    "duration": 34,
    "start_time": "2022-05-31T12:45:27.582Z"
   },
   {
    "duration": 6,
    "start_time": "2022-05-31T12:45:29.005Z"
   },
   {
    "duration": 13,
    "start_time": "2022-05-31T12:45:30.243Z"
   },
   {
    "duration": 12,
    "start_time": "2022-05-31T12:45:34.331Z"
   },
   {
    "duration": 19,
    "start_time": "2022-05-31T12:52:14.759Z"
   },
   {
    "duration": 326,
    "start_time": "2022-05-31T12:58:13.020Z"
   },
   {
    "duration": 331,
    "start_time": "2022-05-31T12:58:40.329Z"
   },
   {
    "duration": 13,
    "start_time": "2022-05-31T13:03:18.848Z"
   },
   {
    "duration": 13,
    "start_time": "2022-05-31T13:07:43.847Z"
   },
   {
    "duration": 15,
    "start_time": "2022-05-31T13:15:38.221Z"
   },
   {
    "duration": 13,
    "start_time": "2022-05-31T13:16:55.947Z"
   },
   {
    "duration": 14,
    "start_time": "2022-05-31T13:21:06.027Z"
   },
   {
    "duration": 12,
    "start_time": "2022-05-31T13:21:13.036Z"
   },
   {
    "duration": 13,
    "start_time": "2022-05-31T14:32:26.334Z"
   },
   {
    "duration": 76,
    "start_time": "2022-05-31T14:56:18.203Z"
   },
   {
    "duration": 6,
    "start_time": "2022-05-31T14:56:19.761Z"
   },
   {
    "duration": 12,
    "start_time": "2022-05-31T14:56:21.131Z"
   },
   {
    "duration": 5,
    "start_time": "2022-05-31T14:56:22.606Z"
   },
   {
    "duration": 32,
    "start_time": "2022-05-31T14:56:23.686Z"
   },
   {
    "duration": 6,
    "start_time": "2022-05-31T14:56:25.145Z"
   },
   {
    "duration": 13,
    "start_time": "2022-05-31T14:56:26.320Z"
   },
   {
    "duration": 10,
    "start_time": "2022-05-31T14:56:28.542Z"
   },
   {
    "duration": 19,
    "start_time": "2022-05-31T14:56:31.940Z"
   },
   {
    "duration": 55,
    "start_time": "2022-06-01T07:26:41.117Z"
   },
   {
    "duration": 8,
    "start_time": "2022-06-01T07:27:38.434Z"
   },
   {
    "duration": 7,
    "start_time": "2022-06-01T07:28:12.848Z"
   },
   {
    "duration": 7,
    "start_time": "2022-06-01T07:28:40.990Z"
   },
   {
    "duration": 7,
    "start_time": "2022-06-01T07:29:09.060Z"
   },
   {
    "duration": 993,
    "start_time": "2022-06-01T07:29:15.823Z"
   },
   {
    "duration": 6,
    "start_time": "2022-06-01T07:29:16.937Z"
   },
   {
    "duration": 11,
    "start_time": "2022-06-01T07:29:17.663Z"
   },
   {
    "duration": 4,
    "start_time": "2022-06-01T07:29:18.588Z"
   },
   {
    "duration": 27,
    "start_time": "2022-06-01T07:29:19.095Z"
   },
   {
    "duration": 4,
    "start_time": "2022-06-01T07:29:19.764Z"
   },
   {
    "duration": 9,
    "start_time": "2022-06-01T07:29:20.279Z"
   },
   {
    "duration": 9,
    "start_time": "2022-06-01T07:29:21.470Z"
   },
   {
    "duration": 18,
    "start_time": "2022-06-01T07:29:22.938Z"
   },
   {
    "duration": 14,
    "start_time": "2022-06-01T07:29:24.878Z"
   },
   {
    "duration": 15,
    "start_time": "2022-06-01T07:34:35.413Z"
   },
   {
    "duration": 64,
    "start_time": "2022-06-01T07:42:33.094Z"
   },
   {
    "duration": 5,
    "start_time": "2022-06-01T07:42:33.999Z"
   },
   {
    "duration": 10,
    "start_time": "2022-06-01T07:42:34.786Z"
   },
   {
    "duration": 4,
    "start_time": "2022-06-01T07:42:35.829Z"
   },
   {
    "duration": 26,
    "start_time": "2022-06-01T07:42:36.776Z"
   },
   {
    "duration": 5,
    "start_time": "2022-06-01T07:42:38.303Z"
   },
   {
    "duration": 9,
    "start_time": "2022-06-01T07:42:39.362Z"
   },
   {
    "duration": 8,
    "start_time": "2022-06-01T07:42:40.712Z"
   },
   {
    "duration": 10,
    "start_time": "2022-06-01T07:42:43.347Z"
   },
   {
    "duration": 14,
    "start_time": "2022-06-01T07:42:49.501Z"
   },
   {
    "duration": 19,
    "start_time": "2022-06-01T08:23:37.580Z"
   },
   {
    "duration": 27,
    "start_time": "2022-06-01T08:24:18.754Z"
   },
   {
    "duration": 61,
    "start_time": "2022-06-01T08:24:37.518Z"
   },
   {
    "duration": 5,
    "start_time": "2022-06-01T08:24:38.341Z"
   },
   {
    "duration": 11,
    "start_time": "2022-06-01T08:24:39.118Z"
   },
   {
    "duration": 4,
    "start_time": "2022-06-01T08:24:40.426Z"
   },
   {
    "duration": 27,
    "start_time": "2022-06-01T08:24:41.217Z"
   },
   {
    "duration": 5,
    "start_time": "2022-06-01T08:24:42.366Z"
   },
   {
    "duration": 9,
    "start_time": "2022-06-01T08:24:43.242Z"
   },
   {
    "duration": 10,
    "start_time": "2022-06-01T08:24:44.618Z"
   },
   {
    "duration": 12,
    "start_time": "2022-06-01T08:24:46.436Z"
   },
   {
    "duration": 14,
    "start_time": "2022-06-01T08:24:48.187Z"
   },
   {
    "duration": 8,
    "start_time": "2022-06-01T08:24:49.074Z"
   },
   {
    "duration": 9,
    "start_time": "2022-06-01T08:25:20.912Z"
   },
   {
    "duration": 14,
    "start_time": "2022-06-01T09:11:52.993Z"
   },
   {
    "duration": 10,
    "start_time": "2022-06-01T09:44:35.504Z"
   },
   {
    "duration": 70,
    "start_time": "2022-06-01T09:44:44.474Z"
   },
   {
    "duration": 6,
    "start_time": "2022-06-01T09:44:45.202Z"
   },
   {
    "duration": 13,
    "start_time": "2022-06-01T09:44:45.878Z"
   },
   {
    "duration": 3,
    "start_time": "2022-06-01T09:44:46.768Z"
   },
   {
    "duration": 31,
    "start_time": "2022-06-01T09:44:47.560Z"
   },
   {
    "duration": 5,
    "start_time": "2022-06-01T09:44:48.272Z"
   },
   {
    "duration": 10,
    "start_time": "2022-06-01T09:44:48.801Z"
   },
   {
    "duration": 14,
    "start_time": "2022-06-01T09:44:49.690Z"
   },
   {
    "duration": 13,
    "start_time": "2022-06-01T09:44:51.286Z"
   },
   {
    "duration": 16,
    "start_time": "2022-06-01T09:44:52.250Z"
   },
   {
    "duration": 11,
    "start_time": "2022-06-01T09:44:54.012Z"
   },
   {
    "duration": 11,
    "start_time": "2022-06-01T09:45:43.049Z"
   },
   {
    "duration": 68,
    "start_time": "2022-06-01T09:45:59.974Z"
   },
   {
    "duration": 6,
    "start_time": "2022-06-01T09:46:00.708Z"
   },
   {
    "duration": 12,
    "start_time": "2022-06-01T09:46:01.423Z"
   },
   {
    "duration": 4,
    "start_time": "2022-06-01T09:46:02.144Z"
   },
   {
    "duration": 44,
    "start_time": "2022-06-01T09:46:02.602Z"
   },
   {
    "duration": 5,
    "start_time": "2022-06-01T09:46:03.345Z"
   },
   {
    "duration": 11,
    "start_time": "2022-06-01T09:46:03.851Z"
   },
   {
    "duration": 15,
    "start_time": "2022-06-01T09:46:04.708Z"
   },
   {
    "duration": 14,
    "start_time": "2022-06-01T09:46:05.613Z"
   },
   {
    "duration": 17,
    "start_time": "2022-06-01T09:46:07.024Z"
   },
   {
    "duration": 10,
    "start_time": "2022-06-01T09:46:08.646Z"
   },
   {
    "duration": 14,
    "start_time": "2022-06-01T09:46:55.736Z"
   },
   {
    "duration": 12,
    "start_time": "2022-06-01T09:50:15.977Z"
   },
   {
    "duration": 66,
    "start_time": "2022-06-01T09:50:42.201Z"
   },
   {
    "duration": 6,
    "start_time": "2022-06-01T09:50:42.801Z"
   },
   {
    "duration": 13,
    "start_time": "2022-06-01T09:50:43.375Z"
   },
   {
    "duration": 4,
    "start_time": "2022-06-01T09:50:44.040Z"
   },
   {
    "duration": 31,
    "start_time": "2022-06-01T09:50:44.490Z"
   },
   {
    "duration": 5,
    "start_time": "2022-06-01T09:50:45.120Z"
   },
   {
    "duration": 11,
    "start_time": "2022-06-01T09:50:45.526Z"
   },
   {
    "duration": 11,
    "start_time": "2022-06-01T09:50:46.209Z"
   },
   {
    "duration": 14,
    "start_time": "2022-06-01T09:50:47.635Z"
   },
   {
    "duration": 17,
    "start_time": "2022-06-01T09:50:49.205Z"
   },
   {
    "duration": 10,
    "start_time": "2022-06-01T09:50:50.501Z"
   },
   {
    "duration": 11,
    "start_time": "2022-06-01T09:51:44.801Z"
   },
   {
    "duration": 67,
    "start_time": "2022-06-01T09:51:54.578Z"
   },
   {
    "duration": 6,
    "start_time": "2022-06-01T09:51:55.163Z"
   },
   {
    "duration": 12,
    "start_time": "2022-06-01T09:51:55.731Z"
   },
   {
    "duration": 3,
    "start_time": "2022-06-01T09:51:56.350Z"
   },
   {
    "duration": 31,
    "start_time": "2022-06-01T09:51:56.842Z"
   },
   {
    "duration": 6,
    "start_time": "2022-06-01T09:51:57.569Z"
   },
   {
    "duration": 11,
    "start_time": "2022-06-01T09:51:58.178Z"
   },
   {
    "duration": 10,
    "start_time": "2022-06-01T09:51:59.701Z"
   },
   {
    "duration": 15,
    "start_time": "2022-06-01T09:52:01.868Z"
   },
   {
    "duration": 15,
    "start_time": "2022-06-01T09:52:03.406Z"
   },
   {
    "duration": 10,
    "start_time": "2022-06-01T09:52:05.088Z"
   },
   {
    "duration": 16,
    "start_time": "2022-06-01T09:52:29.366Z"
   },
   {
    "duration": 19,
    "start_time": "2022-06-01T09:53:07.872Z"
   },
   {
    "duration": 7,
    "start_time": "2022-06-01T10:58:25.753Z"
   },
   {
    "duration": 7,
    "start_time": "2022-06-01T10:58:26.570Z"
   },
   {
    "duration": 3,
    "start_time": "2022-06-01T10:58:27.650Z"
   },
   {
    "duration": 34,
    "start_time": "2022-06-01T10:58:28.508Z"
   },
   {
    "duration": 6,
    "start_time": "2022-06-01T10:58:29.554Z"
   },
   {
    "duration": 10,
    "start_time": "2022-06-01T10:58:30.482Z"
   },
   {
    "duration": 10,
    "start_time": "2022-06-01T10:58:31.453Z"
   },
   {
    "duration": 14,
    "start_time": "2022-06-01T10:58:32.846Z"
   },
   {
    "duration": 16,
    "start_time": "2022-06-01T10:58:34.136Z"
   },
   {
    "duration": 14,
    "start_time": "2022-06-01T10:58:35.503Z"
   },
   {
    "duration": 16,
    "start_time": "2022-06-01T10:58:36.857Z"
   },
   {
    "duration": 17,
    "start_time": "2022-06-01T10:58:47.006Z"
   },
   {
    "duration": 21,
    "start_time": "2022-06-01T13:09:26.203Z"
   },
   {
    "duration": 5,
    "start_time": "2022-06-01T13:09:49.105Z"
   },
   {
    "duration": 8,
    "start_time": "2022-06-01T13:09:49.633Z"
   },
   {
    "duration": 4,
    "start_time": "2022-06-01T13:09:50.181Z"
   },
   {
    "duration": 33,
    "start_time": "2022-06-01T13:09:50.727Z"
   },
   {
    "duration": 5,
    "start_time": "2022-06-01T13:09:51.325Z"
   },
   {
    "duration": 10,
    "start_time": "2022-06-01T13:09:51.847Z"
   },
   {
    "duration": 10,
    "start_time": "2022-06-01T13:09:52.333Z"
   },
   {
    "duration": 13,
    "start_time": "2022-06-01T13:09:53.552Z"
   },
   {
    "duration": 16,
    "start_time": "2022-06-01T13:09:54.505Z"
   },
   {
    "duration": 16,
    "start_time": "2022-06-01T13:09:55.459Z"
   },
   {
    "duration": 16,
    "start_time": "2022-06-01T13:09:56.670Z"
   },
   {
    "duration": 16,
    "start_time": "2022-06-01T13:11:00.186Z"
   },
   {
    "duration": 72,
    "start_time": "2022-06-01T14:18:43.758Z"
   },
   {
    "duration": 81,
    "start_time": "2022-06-01T14:18:48.548Z"
   },
   {
    "duration": 82,
    "start_time": "2022-06-01T14:19:00.021Z"
   },
   {
    "duration": 110,
    "start_time": "2022-06-01T14:19:09.463Z"
   },
   {
    "duration": 68,
    "start_time": "2022-06-01T14:19:19.157Z"
   },
   {
    "duration": 10,
    "start_time": "2022-06-01T14:19:49.005Z"
   },
   {
    "duration": 5,
    "start_time": "2022-06-01T14:20:11.196Z"
   },
   {
    "duration": 17,
    "start_time": "2022-06-01T14:20:15.779Z"
   },
   {
    "duration": 5,
    "start_time": "2022-06-01T14:20:26.840Z"
   },
   {
    "duration": 14,
    "start_time": "2022-06-01T14:21:19.135Z"
   },
   {
    "duration": 6,
    "start_time": "2022-06-01T14:21:28.620Z"
   },
   {
    "duration": 45,
    "start_time": "2022-06-01T14:22:06.896Z"
   },
   {
    "duration": 15,
    "start_time": "2022-06-01T14:22:32.582Z"
   },
   {
    "duration": 13,
    "start_time": "2022-06-01T14:22:41.881Z"
   },
   {
    "duration": 13,
    "start_time": "2022-06-01T14:22:53.119Z"
   },
   {
    "duration": 8,
    "start_time": "2022-06-01T14:23:01.780Z"
   },
   {
    "duration": 12,
    "start_time": "2022-06-01T14:23:17.508Z"
   },
   {
    "duration": 14,
    "start_time": "2022-06-01T14:23:36.441Z"
   },
   {
    "duration": 13,
    "start_time": "2022-06-01T14:23:53.568Z"
   },
   {
    "duration": 14,
    "start_time": "2022-06-01T14:24:07.604Z"
   },
   {
    "duration": 488,
    "start_time": "2022-06-01T14:26:29.597Z"
   },
   {
    "duration": 7,
    "start_time": "2022-06-01T14:26:30.087Z"
   },
   {
    "duration": 20,
    "start_time": "2022-06-01T14:26:30.095Z"
   },
   {
    "duration": 10,
    "start_time": "2022-06-01T14:26:30.116Z"
   },
   {
    "duration": 36,
    "start_time": "2022-06-01T14:26:30.128Z"
   },
   {
    "duration": 5,
    "start_time": "2022-06-01T14:26:30.166Z"
   },
   {
    "duration": 25,
    "start_time": "2022-06-01T14:26:30.172Z"
   },
   {
    "duration": 21,
    "start_time": "2022-06-01T14:26:30.198Z"
   },
   {
    "duration": 33,
    "start_time": "2022-06-01T14:26:30.220Z"
   },
   {
    "duration": 71,
    "start_time": "2022-06-01T14:26:30.254Z"
   },
   {
    "duration": 0,
    "start_time": "2022-06-01T14:26:30.327Z"
   },
   {
    "duration": 0,
    "start_time": "2022-06-01T14:26:30.328Z"
   },
   {
    "duration": 493,
    "start_time": "2022-06-01T15:24:29.396Z"
   },
   {
    "duration": 7,
    "start_time": "2022-06-01T15:24:29.891Z"
   },
   {
    "duration": 18,
    "start_time": "2022-06-01T15:24:29.900Z"
   },
   {
    "duration": 6,
    "start_time": "2022-06-01T15:24:29.919Z"
   },
   {
    "duration": 50,
    "start_time": "2022-06-01T15:24:29.929Z"
   },
   {
    "duration": 8,
    "start_time": "2022-06-01T15:24:29.982Z"
   },
   {
    "duration": 21,
    "start_time": "2022-06-01T15:24:29.992Z"
   },
   {
    "duration": 22,
    "start_time": "2022-06-01T15:24:30.015Z"
   },
   {
    "duration": 22,
    "start_time": "2022-06-01T15:24:30.039Z"
   },
   {
    "duration": 98,
    "start_time": "2022-06-01T15:24:30.063Z"
   },
   {
    "duration": 0,
    "start_time": "2022-06-01T15:24:30.163Z"
   },
   {
    "duration": 0,
    "start_time": "2022-06-01T15:24:30.165Z"
   },
   {
    "duration": 834,
    "start_time": "2022-06-01T15:34:52.710Z"
   },
   {
    "duration": 11,
    "start_time": "2022-06-01T15:34:58.851Z"
   },
   {
    "duration": 24,
    "start_time": "2022-06-01T15:35:23.529Z"
   },
   {
    "duration": 22,
    "start_time": "2022-06-01T15:35:25.664Z"
   },
   {
    "duration": 23,
    "start_time": "2022-06-01T15:35:39.061Z"
   },
   {
    "duration": 28,
    "start_time": "2022-06-02T11:29:22.627Z"
   },
   {
    "duration": 27,
    "start_time": "2022-06-02T11:29:29.491Z"
   },
   {
    "duration": 53,
    "start_time": "2022-06-02T11:59:30.080Z"
   },
   {
    "duration": 854,
    "start_time": "2022-06-02T11:59:39.688Z"
   },
   {
    "duration": 292,
    "start_time": "2022-06-02T11:59:40.544Z"
   },
   {
    "duration": 2,
    "start_time": "2022-06-02T11:59:40.838Z"
   },
   {
    "duration": 6,
    "start_time": "2022-06-02T11:59:42.202Z"
   },
   {
    "duration": 4,
    "start_time": "2022-06-02T11:59:44.079Z"
   },
   {
    "duration": 4,
    "start_time": "2022-06-02T11:59:45.082Z"
   },
   {
    "duration": 4,
    "start_time": "2022-06-02T11:59:48.075Z"
   },
   {
    "duration": 30,
    "start_time": "2022-06-02T11:59:49.381Z"
   },
   {
    "duration": 5,
    "start_time": "2022-06-02T11:59:51.060Z"
   },
   {
    "duration": 13,
    "start_time": "2022-06-02T11:59:52.295Z"
   },
   {
    "duration": 9,
    "start_time": "2022-06-02T11:59:54.499Z"
   },
   {
    "duration": 21,
    "start_time": "2022-06-02T11:59:57.417Z"
   },
   {
    "duration": 16,
    "start_time": "2022-06-02T11:59:59.219Z"
   },
   {
    "duration": 15,
    "start_time": "2022-06-02T12:00:03.288Z"
   },
   {
    "duration": 16,
    "start_time": "2022-06-02T12:00:05.978Z"
   },
   {
    "duration": 28,
    "start_time": "2022-06-02T12:37:17.429Z"
   },
   {
    "duration": 14,
    "start_time": "2022-06-02T12:37:32.426Z"
   },
   {
    "duration": 16,
    "start_time": "2022-06-02T13:22:33.585Z"
   },
   {
    "duration": 13,
    "start_time": "2022-06-02T13:30:19.578Z"
   },
   {
    "duration": 591,
    "start_time": "2022-06-02T13:32:20.494Z"
   },
   {
    "duration": 15,
    "start_time": "2022-06-02T13:33:01.220Z"
   },
   {
    "duration": 17,
    "start_time": "2022-06-02T13:36:44.607Z"
   },
   {
    "duration": 2,
    "start_time": "2022-06-02T13:37:15.781Z"
   },
   {
    "duration": 73,
    "start_time": "2022-06-02T13:37:16.224Z"
   },
   {
    "duration": 2,
    "start_time": "2022-06-02T13:37:16.587Z"
   },
   {
    "duration": 8,
    "start_time": "2022-06-02T13:37:18.618Z"
   },
   {
    "duration": 5,
    "start_time": "2022-06-02T13:37:20.478Z"
   },
   {
    "duration": 4,
    "start_time": "2022-06-02T13:37:21.396Z"
   },
   {
    "duration": 4,
    "start_time": "2022-06-02T13:37:25.625Z"
   },
   {
    "duration": 27,
    "start_time": "2022-06-02T13:37:26.972Z"
   },
   {
    "duration": 5,
    "start_time": "2022-06-02T13:37:28.672Z"
   },
   {
    "duration": 10,
    "start_time": "2022-06-02T13:37:30.205Z"
   },
   {
    "duration": 10,
    "start_time": "2022-06-02T13:37:34.667Z"
   },
   {
    "duration": 14,
    "start_time": "2022-06-02T13:37:37.466Z"
   },
   {
    "duration": 16,
    "start_time": "2022-06-02T13:37:40.472Z"
   },
   {
    "duration": 24,
    "start_time": "2022-06-02T13:37:42.415Z"
   },
   {
    "duration": 17,
    "start_time": "2022-06-02T13:37:44.641Z"
   },
   {
    "duration": 16,
    "start_time": "2022-06-02T13:42:05.466Z"
   },
   {
    "duration": 3,
    "start_time": "2022-06-02T13:48:02.223Z"
   },
   {
    "duration": 70,
    "start_time": "2022-06-02T13:48:02.723Z"
   },
   {
    "duration": 45,
    "start_time": "2022-06-02T13:48:03.252Z"
   },
   {
    "duration": 24,
    "start_time": "2022-06-02T13:59:38.582Z"
   },
   {
    "duration": 46,
    "start_time": "2022-06-02T14:00:05.999Z"
   },
   {
    "duration": 432,
    "start_time": "2022-06-02T14:34:19.613Z"
   },
   {
    "duration": 75,
    "start_time": "2022-06-02T14:34:20.047Z"
   },
   {
    "duration": 32,
    "start_time": "2022-06-02T14:34:20.124Z"
   },
   {
    "duration": 47,
    "start_time": "2022-06-02T14:34:20.159Z"
   },
   {
    "duration": 16,
    "start_time": "2022-06-02T14:34:20.208Z"
   },
   {
    "duration": 38,
    "start_time": "2022-06-02T14:34:20.225Z"
   },
   {
    "duration": 18,
    "start_time": "2022-06-02T14:34:20.264Z"
   },
   {
    "duration": 23,
    "start_time": "2022-06-02T14:34:20.284Z"
   },
   {
    "duration": 28,
    "start_time": "2022-06-02T14:34:20.309Z"
   },
   {
    "duration": 61,
    "start_time": "2022-06-02T14:34:20.340Z"
   },
   {
    "duration": 5,
    "start_time": "2022-06-02T14:34:20.403Z"
   },
   {
    "duration": 24,
    "start_time": "2022-06-02T14:34:20.411Z"
   },
   {
    "duration": 37,
    "start_time": "2022-06-02T14:34:20.436Z"
   },
   {
    "duration": 21,
    "start_time": "2022-06-02T14:34:20.475Z"
   },
   {
    "duration": 18,
    "start_time": "2022-06-02T14:34:20.498Z"
   },
   {
    "duration": 22,
    "start_time": "2022-06-02T14:34:20.517Z"
   },
   {
    "duration": 56,
    "start_time": "2022-06-02T14:34:20.544Z"
   },
   {
    "duration": 3,
    "start_time": "2022-06-02T14:34:44.228Z"
   },
   {
    "duration": 83,
    "start_time": "2022-06-02T14:34:45.134Z"
   },
   {
    "duration": 22,
    "start_time": "2022-06-02T14:34:46.049Z"
   },
   {
    "duration": 49,
    "start_time": "2022-06-02T14:34:46.816Z"
   },
   {
    "duration": 15,
    "start_time": "2022-06-02T14:34:47.453Z"
   },
   {
    "duration": 7,
    "start_time": "2022-06-02T14:34:51.718Z"
   },
   {
    "duration": 5,
    "start_time": "2022-06-02T14:34:54.383Z"
   },
   {
    "duration": 6,
    "start_time": "2022-06-02T14:34:55.503Z"
   },
   {
    "duration": 4,
    "start_time": "2022-06-02T14:34:59.512Z"
   },
   {
    "duration": 54,
    "start_time": "2022-06-02T14:35:01.942Z"
   },
   {
    "duration": 7,
    "start_time": "2022-06-02T14:35:05.019Z"
   },
   {
    "duration": 540,
    "start_time": "2022-06-02T14:39:08.418Z"
   },
   {
    "duration": 83,
    "start_time": "2022-06-02T14:39:08.960Z"
   },
   {
    "duration": 27,
    "start_time": "2022-06-02T14:39:09.045Z"
   },
   {
    "duration": 78,
    "start_time": "2022-06-02T14:39:09.075Z"
   },
   {
    "duration": 30,
    "start_time": "2022-06-02T14:39:09.154Z"
   },
   {
    "duration": 15,
    "start_time": "2022-06-02T14:39:09.186Z"
   },
   {
    "duration": 87,
    "start_time": "2022-06-02T14:39:09.202Z"
   },
   {
    "duration": 13,
    "start_time": "2022-06-02T14:39:09.291Z"
   },
   {
    "duration": 70,
    "start_time": "2022-06-02T14:39:09.306Z"
   },
   {
    "duration": 50,
    "start_time": "2022-06-02T14:39:09.378Z"
   },
   {
    "duration": 22,
    "start_time": "2022-06-02T14:39:09.433Z"
   },
   {
    "duration": 41,
    "start_time": "2022-06-02T14:39:09.459Z"
   },
   {
    "duration": 23,
    "start_time": "2022-06-02T14:39:09.501Z"
   },
   {
    "duration": 56,
    "start_time": "2022-06-02T14:39:09.528Z"
   },
   {
    "duration": 25,
    "start_time": "2022-06-02T14:39:09.586Z"
   },
   {
    "duration": 22,
    "start_time": "2022-06-02T14:39:09.613Z"
   },
   {
    "duration": 62,
    "start_time": "2022-06-02T14:39:09.636Z"
   },
   {
    "duration": 411,
    "start_time": "2022-06-02T18:54:34.610Z"
   },
   {
    "duration": 86,
    "start_time": "2022-06-02T18:54:35.022Z"
   },
   {
    "duration": 16,
    "start_time": "2022-06-02T18:54:35.110Z"
   },
   {
    "duration": 64,
    "start_time": "2022-06-02T18:54:35.129Z"
   },
   {
    "duration": 15,
    "start_time": "2022-06-02T18:54:35.196Z"
   },
   {
    "duration": 9,
    "start_time": "2022-06-02T18:54:35.213Z"
   },
   {
    "duration": 36,
    "start_time": "2022-06-02T18:54:35.224Z"
   },
   {
    "duration": 13,
    "start_time": "2022-06-02T18:54:35.262Z"
   },
   {
    "duration": 16,
    "start_time": "2022-06-02T18:54:35.276Z"
   },
   {
    "duration": 29,
    "start_time": "2022-06-02T18:54:35.294Z"
   },
   {
    "duration": 10,
    "start_time": "2022-06-02T18:54:35.325Z"
   },
   {
    "duration": 49,
    "start_time": "2022-06-02T18:54:35.338Z"
   },
   {
    "duration": 14,
    "start_time": "2022-06-02T18:54:35.389Z"
   },
   {
    "duration": 18,
    "start_time": "2022-06-02T18:54:35.406Z"
   },
   {
    "duration": 23,
    "start_time": "2022-06-02T18:54:35.425Z"
   },
   {
    "duration": 29,
    "start_time": "2022-06-02T18:54:35.456Z"
   },
   {
    "duration": 22,
    "start_time": "2022-06-02T18:54:35.487Z"
   },
   {
    "duration": 35,
    "start_time": "2022-06-02T19:50:05.989Z"
   },
   {
    "duration": 42,
    "start_time": "2022-06-02T19:50:18.183Z"
   },
   {
    "duration": 21,
    "start_time": "2022-06-02T19:50:27.481Z"
   },
   {
    "duration": 49,
    "start_time": "2022-06-02T19:50:36.918Z"
   },
   {
    "duration": 714,
    "start_time": "2022-06-02T19:50:50.150Z"
   },
   {
    "duration": 286,
    "start_time": "2022-06-02T19:50:50.866Z"
   },
   {
    "duration": 15,
    "start_time": "2022-06-02T19:50:51.154Z"
   },
   {
    "duration": 39,
    "start_time": "2022-06-02T19:50:51.221Z"
   },
   {
    "duration": 14,
    "start_time": "2022-06-02T19:50:51.591Z"
   },
   {
    "duration": 7,
    "start_time": "2022-06-02T19:50:53.028Z"
   },
   {
    "duration": 5,
    "start_time": "2022-06-02T19:50:54.071Z"
   },
   {
    "duration": 5,
    "start_time": "2022-06-02T19:50:54.587Z"
   },
   {
    "duration": 5,
    "start_time": "2022-06-02T19:50:56.596Z"
   },
   {
    "duration": 29,
    "start_time": "2022-06-02T19:50:57.674Z"
   },
   {
    "duration": 6,
    "start_time": "2022-06-02T19:50:58.994Z"
   },
   {
    "duration": 11,
    "start_time": "2022-06-02T19:51:00.254Z"
   },
   {
    "duration": 10,
    "start_time": "2022-06-02T19:51:01.554Z"
   },
   {
    "duration": 17,
    "start_time": "2022-06-02T19:51:03.314Z"
   },
   {
    "duration": 17,
    "start_time": "2022-06-02T19:51:05.266Z"
   },
   {
    "duration": 14,
    "start_time": "2022-06-02T19:51:07.359Z"
   },
   {
    "duration": 40,
    "start_time": "2022-06-02T19:51:09.319Z"
   },
   {
    "duration": 16,
    "start_time": "2022-06-02T19:59:08.664Z"
   },
   {
    "duration": 33,
    "start_time": "2022-06-02T19:59:36.845Z"
   },
   {
    "duration": 13,
    "start_time": "2022-06-02T19:59:44.459Z"
   },
   {
    "duration": 14,
    "start_time": "2022-06-02T20:02:34.853Z"
   },
   {
    "duration": 15,
    "start_time": "2022-06-02T20:02:53.150Z"
   },
   {
    "duration": 14,
    "start_time": "2022-06-02T20:03:13.366Z"
   },
   {
    "duration": 97,
    "start_time": "2022-06-02T20:06:41.090Z"
   },
   {
    "duration": 15,
    "start_time": "2022-06-02T20:06:51.248Z"
   },
   {
    "duration": 17,
    "start_time": "2022-06-02T20:09:50.356Z"
   },
   {
    "duration": 20,
    "start_time": "2022-06-02T20:11:42.252Z"
   },
   {
    "duration": 27,
    "start_time": "2022-06-02T20:13:24.048Z"
   },
   {
    "duration": 24,
    "start_time": "2022-06-02T20:18:33.007Z"
   },
   {
    "duration": 23,
    "start_time": "2022-06-02T20:19:55.651Z"
   },
   {
    "duration": 3,
    "start_time": "2022-06-02T20:20:09.111Z"
   },
   {
    "duration": 70,
    "start_time": "2022-06-02T20:20:09.489Z"
   },
   {
    "duration": 14,
    "start_time": "2022-06-02T20:20:09.822Z"
   },
   {
    "duration": 31,
    "start_time": "2022-06-02T20:20:10.200Z"
   },
   {
    "duration": 14,
    "start_time": "2022-06-02T20:20:10.812Z"
   },
   {
    "duration": 6,
    "start_time": "2022-06-02T20:20:12.813Z"
   },
   {
    "duration": 5,
    "start_time": "2022-06-02T20:20:14.628Z"
   },
   {
    "duration": 4,
    "start_time": "2022-06-02T20:20:15.401Z"
   },
   {
    "duration": 4,
    "start_time": "2022-06-02T20:20:18.194Z"
   },
   {
    "duration": 28,
    "start_time": "2022-06-02T20:20:19.547Z"
   },
   {
    "duration": 5,
    "start_time": "2022-06-02T20:20:21.262Z"
   },
   {
    "duration": 11,
    "start_time": "2022-06-02T20:20:22.879Z"
   },
   {
    "duration": 15,
    "start_time": "2022-06-02T20:20:24.484Z"
   },
   {
    "duration": 13,
    "start_time": "2022-06-02T20:20:26.842Z"
   },
   {
    "duration": 20,
    "start_time": "2022-06-02T20:20:30.354Z"
   },
   {
    "duration": 17,
    "start_time": "2022-06-02T20:20:33.647Z"
   },
   {
    "duration": 28,
    "start_time": "2022-06-02T20:20:36.548Z"
   },
   {
    "duration": 29,
    "start_time": "2022-06-02T20:20:59.574Z"
   },
   {
    "duration": 2,
    "start_time": "2022-06-02T20:21:09.411Z"
   },
   {
    "duration": 75,
    "start_time": "2022-06-02T20:21:10.148Z"
   },
   {
    "duration": 16,
    "start_time": "2022-06-02T20:21:10.726Z"
   },
   {
    "duration": 35,
    "start_time": "2022-06-02T20:21:11.302Z"
   },
   {
    "duration": 16,
    "start_time": "2022-06-02T20:21:11.952Z"
   },
   {
    "duration": 6,
    "start_time": "2022-06-02T20:21:14.088Z"
   },
   {
    "duration": 5,
    "start_time": "2022-06-02T20:21:16.155Z"
   },
   {
    "duration": 4,
    "start_time": "2022-06-02T20:21:16.765Z"
   },
   {
    "duration": 5,
    "start_time": "2022-06-02T20:21:19.044Z"
   },
   {
    "duration": 27,
    "start_time": "2022-06-02T20:21:20.428Z"
   },
   {
    "duration": 5,
    "start_time": "2022-06-02T20:21:22.174Z"
   },
   {
    "duration": 11,
    "start_time": "2022-06-02T20:21:23.306Z"
   },
   {
    "duration": 10,
    "start_time": "2022-06-02T20:21:24.825Z"
   },
   {
    "duration": 15,
    "start_time": "2022-06-02T20:21:27.444Z"
   },
   {
    "duration": 19,
    "start_time": "2022-06-02T20:21:38.949Z"
   },
   {
    "duration": 15,
    "start_time": "2022-06-02T20:21:43.054Z"
   },
   {
    "duration": 26,
    "start_time": "2022-06-02T20:21:48.123Z"
   },
   {
    "duration": 22,
    "start_time": "2022-06-02T20:24:08.603Z"
   },
   {
    "duration": 3,
    "start_time": "2022-06-02T20:24:24.704Z"
   },
   {
    "duration": 70,
    "start_time": "2022-06-02T20:24:25.204Z"
   },
   {
    "duration": 15,
    "start_time": "2022-06-02T20:24:25.749Z"
   },
   {
    "duration": 31,
    "start_time": "2022-06-02T20:24:26.082Z"
   },
   {
    "duration": 15,
    "start_time": "2022-06-02T20:24:26.386Z"
   },
   {
    "duration": 5,
    "start_time": "2022-06-02T20:24:27.693Z"
   },
   {
    "duration": 6,
    "start_time": "2022-06-02T20:24:28.670Z"
   },
   {
    "duration": 5,
    "start_time": "2022-06-02T20:24:29.584Z"
   },
   {
    "duration": 4,
    "start_time": "2022-06-02T20:24:31.607Z"
   },
   {
    "duration": 26,
    "start_time": "2022-06-02T20:24:32.484Z"
   },
   {
    "duration": 5,
    "start_time": "2022-06-02T20:24:34.192Z"
   },
   {
    "duration": 11,
    "start_time": "2022-06-02T20:24:36.057Z"
   },
   {
    "duration": 14,
    "start_time": "2022-06-02T20:24:37.490Z"
   },
   {
    "duration": 18,
    "start_time": "2022-06-02T20:24:39.472Z"
   },
   {
    "duration": 16,
    "start_time": "2022-06-02T20:24:41.159Z"
   },
   {
    "duration": 15,
    "start_time": "2022-06-02T20:24:43.611Z"
   },
   {
    "duration": 25,
    "start_time": "2022-06-02T20:24:45.904Z"
   },
   {
    "duration": 29,
    "start_time": "2022-06-02T20:26:14.164Z"
   },
   {
    "duration": 35,
    "start_time": "2022-06-02T20:26:28.210Z"
   },
   {
    "duration": 15,
    "start_time": "2022-06-02T20:26:41.133Z"
   },
   {
    "duration": 20,
    "start_time": "2022-06-02T20:26:49.702Z"
   },
   {
    "duration": 3,
    "start_time": "2022-06-02T20:27:24.582Z"
   },
   {
    "duration": 72,
    "start_time": "2022-06-02T20:27:24.947Z"
   },
   {
    "duration": 14,
    "start_time": "2022-06-02T20:27:25.198Z"
   },
   {
    "duration": 31,
    "start_time": "2022-06-02T20:27:25.549Z"
   },
   {
    "duration": 15,
    "start_time": "2022-06-02T20:27:26.113Z"
   },
   {
    "duration": 6,
    "start_time": "2022-06-02T20:27:27.552Z"
   },
   {
    "duration": 5,
    "start_time": "2022-06-02T20:27:28.804Z"
   },
   {
    "duration": 5,
    "start_time": "2022-06-02T20:27:29.312Z"
   },
   {
    "duration": 4,
    "start_time": "2022-06-02T20:27:31.290Z"
   },
   {
    "duration": 29,
    "start_time": "2022-06-02T20:27:32.048Z"
   },
   {
    "duration": 6,
    "start_time": "2022-06-02T20:27:34.061Z"
   },
   {
    "duration": 11,
    "start_time": "2022-06-02T20:27:35.158Z"
   },
   {
    "duration": 16,
    "start_time": "2022-06-02T20:27:36.238Z"
   },
   {
    "duration": 18,
    "start_time": "2022-06-02T20:27:37.652Z"
   },
   {
    "duration": 17,
    "start_time": "2022-06-02T20:27:39.280Z"
   },
   {
    "duration": 15,
    "start_time": "2022-06-02T20:27:41.165Z"
   },
   {
    "duration": 22,
    "start_time": "2022-06-02T20:27:43.084Z"
   },
   {
    "duration": 20,
    "start_time": "2022-06-02T20:27:52.827Z"
   },
   {
    "duration": 10,
    "start_time": "2022-06-02T20:28:50.820Z"
   },
   {
    "duration": 14,
    "start_time": "2022-06-02T20:29:02.319Z"
   },
   {
    "duration": 15,
    "start_time": "2022-06-02T20:29:43.723Z"
   },
   {
    "duration": 263,
    "start_time": "2022-06-02T20:31:59.972Z"
   },
   {
    "duration": 49,
    "start_time": "2022-06-02T20:32:12.903Z"
   },
   {
    "duration": 74,
    "start_time": "2022-06-02T20:32:42.432Z"
   },
   {
    "duration": 221,
    "start_time": "2022-06-02T20:33:03.178Z"
   },
   {
    "duration": 16,
    "start_time": "2022-06-02T20:33:29.376Z"
   },
   {
    "duration": 14,
    "start_time": "2022-06-02T20:33:51.540Z"
   },
   {
    "duration": 25,
    "start_time": "2022-06-02T20:35:09.083Z"
   },
   {
    "duration": 11,
    "start_time": "2022-06-02T20:35:20.983Z"
   },
   {
    "duration": 11,
    "start_time": "2022-06-02T20:35:24.211Z"
   },
   {
    "duration": 15,
    "start_time": "2022-06-02T20:35:45.399Z"
   },
   {
    "duration": 15,
    "start_time": "2022-06-02T20:39:41.762Z"
   },
   {
    "duration": 3,
    "start_time": "2022-06-02T20:39:59.204Z"
   },
   {
    "duration": 66,
    "start_time": "2022-06-02T20:39:59.478Z"
   },
   {
    "duration": 14,
    "start_time": "2022-06-02T20:39:59.808Z"
   },
   {
    "duration": 34,
    "start_time": "2022-06-02T20:40:00.111Z"
   },
   {
    "duration": 15,
    "start_time": "2022-06-02T20:40:00.358Z"
   },
   {
    "duration": 6,
    "start_time": "2022-06-02T20:40:01.608Z"
   },
   {
    "duration": 4,
    "start_time": "2022-06-02T20:40:02.627Z"
   },
   {
    "duration": 5,
    "start_time": "2022-06-02T20:40:03.180Z"
   },
   {
    "duration": 4,
    "start_time": "2022-06-02T20:40:05.307Z"
   },
   {
    "duration": 28,
    "start_time": "2022-06-02T20:40:06.118Z"
   },
   {
    "duration": 5,
    "start_time": "2022-06-02T20:40:07.173Z"
   },
   {
    "duration": 11,
    "start_time": "2022-06-02T20:40:08.084Z"
   },
   {
    "duration": 10,
    "start_time": "2022-06-02T20:40:09.649Z"
   },
   {
    "duration": 14,
    "start_time": "2022-06-02T20:40:11.786Z"
   },
   {
    "duration": 17,
    "start_time": "2022-06-02T20:40:12.892Z"
   },
   {
    "duration": 16,
    "start_time": "2022-06-02T20:40:14.391Z"
   },
   {
    "duration": 18,
    "start_time": "2022-06-02T20:40:15.896Z"
   },
   {
    "duration": 2,
    "start_time": "2022-06-02T20:43:09.867Z"
   },
   {
    "duration": 69,
    "start_time": "2022-06-02T20:43:10.354Z"
   },
   {
    "duration": 15,
    "start_time": "2022-06-02T20:43:10.629Z"
   },
   {
    "duration": 35,
    "start_time": "2022-06-02T20:43:11.192Z"
   },
   {
    "duration": 15,
    "start_time": "2022-06-02T20:43:11.600Z"
   },
   {
    "duration": 6,
    "start_time": "2022-06-02T20:43:13.777Z"
   },
   {
    "duration": 5,
    "start_time": "2022-06-02T20:43:15.241Z"
   },
   {
    "duration": 4,
    "start_time": "2022-06-02T20:43:15.872Z"
   },
   {
    "duration": 5,
    "start_time": "2022-06-02T20:43:18.325Z"
   },
   {
    "duration": 27,
    "start_time": "2022-06-02T20:43:19.506Z"
   },
   {
    "duration": 5,
    "start_time": "2022-06-02T20:43:20.671Z"
   },
   {
    "duration": 11,
    "start_time": "2022-06-02T20:43:21.472Z"
   },
   {
    "duration": 12,
    "start_time": "2022-06-02T20:43:22.647Z"
   },
   {
    "duration": 15,
    "start_time": "2022-06-02T20:43:24.341Z"
   },
   {
    "duration": 15,
    "start_time": "2022-06-02T20:43:25.641Z"
   },
   {
    "duration": 15,
    "start_time": "2022-06-02T20:43:27.817Z"
   },
   {
    "duration": 18,
    "start_time": "2022-06-02T20:43:29.881Z"
   },
   {
    "duration": 26,
    "start_time": "2022-06-02T20:45:26.160Z"
   },
   {
    "duration": 404,
    "start_time": "2022-06-02T20:45:48.838Z"
   },
   {
    "duration": 26,
    "start_time": "2022-06-02T20:46:46.019Z"
   },
   {
    "duration": 435,
    "start_time": "2022-06-02T20:47:15.062Z"
   },
   {
    "duration": 82,
    "start_time": "2022-06-02T20:47:15.499Z"
   },
   {
    "duration": 15,
    "start_time": "2022-06-02T20:47:15.582Z"
   },
   {
    "duration": 36,
    "start_time": "2022-06-02T20:47:15.599Z"
   },
   {
    "duration": 28,
    "start_time": "2022-06-02T20:47:15.637Z"
   },
   {
    "duration": 6,
    "start_time": "2022-06-02T20:47:15.667Z"
   },
   {
    "duration": 4,
    "start_time": "2022-06-02T20:47:15.674Z"
   },
   {
    "duration": 6,
    "start_time": "2022-06-02T20:47:15.680Z"
   },
   {
    "duration": 5,
    "start_time": "2022-06-02T20:47:15.688Z"
   },
   {
    "duration": 28,
    "start_time": "2022-06-02T20:47:15.696Z"
   },
   {
    "duration": 5,
    "start_time": "2022-06-02T20:47:15.726Z"
   },
   {
    "duration": 41,
    "start_time": "2022-06-02T20:47:15.732Z"
   },
   {
    "duration": 12,
    "start_time": "2022-06-02T20:47:15.775Z"
   },
   {
    "duration": 14,
    "start_time": "2022-06-02T20:47:15.788Z"
   },
   {
    "duration": 14,
    "start_time": "2022-06-02T20:47:15.804Z"
   },
   {
    "duration": 14,
    "start_time": "2022-06-02T20:47:15.820Z"
   },
   {
    "duration": 107,
    "start_time": "2022-06-02T20:47:15.835Z"
   },
   {
    "duration": 17,
    "start_time": "2022-06-02T20:47:30.689Z"
   },
   {
    "duration": 19,
    "start_time": "2022-06-02T20:48:29.017Z"
   },
   {
    "duration": 3,
    "start_time": "2022-06-02T20:48:40.293Z"
   },
   {
    "duration": 70,
    "start_time": "2022-06-02T20:48:40.737Z"
   },
   {
    "duration": 14,
    "start_time": "2022-06-02T20:48:41.006Z"
   },
   {
    "duration": 32,
    "start_time": "2022-06-02T20:48:41.303Z"
   },
   {
    "duration": 17,
    "start_time": "2022-06-02T20:48:41.602Z"
   },
   {
    "duration": 6,
    "start_time": "2022-06-02T20:48:44.155Z"
   },
   {
    "duration": 5,
    "start_time": "2022-06-02T20:48:45.424Z"
   },
   {
    "duration": 4,
    "start_time": "2022-06-02T20:48:45.964Z"
   },
   {
    "duration": 4,
    "start_time": "2022-06-02T20:48:48.589Z"
   },
   {
    "duration": 28,
    "start_time": "2022-06-02T20:48:49.695Z"
   },
   {
    "duration": 5,
    "start_time": "2022-06-02T20:48:50.804Z"
   },
   {
    "duration": 11,
    "start_time": "2022-06-02T20:48:51.699Z"
   },
   {
    "duration": 9,
    "start_time": "2022-06-02T20:48:53.107Z"
   },
   {
    "duration": 14,
    "start_time": "2022-06-02T20:48:54.609Z"
   },
   {
    "duration": 16,
    "start_time": "2022-06-02T20:48:56.532Z"
   },
   {
    "duration": 15,
    "start_time": "2022-06-02T20:48:59.568Z"
   },
   {
    "duration": 21,
    "start_time": "2022-06-02T20:49:01.748Z"
   },
   {
    "duration": 13,
    "start_time": "2022-06-02T20:49:12.137Z"
   },
   {
    "duration": 14,
    "start_time": "2022-06-02T20:50:14.188Z"
   },
   {
    "duration": 55,
    "start_time": "2022-06-03T07:09:29.946Z"
   },
   {
    "duration": 399,
    "start_time": "2022-06-03T07:09:43.861Z"
   },
   {
    "duration": 196,
    "start_time": "2022-06-03T07:09:44.336Z"
   },
   {
    "duration": 16,
    "start_time": "2022-06-03T07:09:44.792Z"
   },
   {
    "duration": 39,
    "start_time": "2022-06-03T07:09:45.275Z"
   },
   {
    "duration": 14,
    "start_time": "2022-06-03T07:09:45.711Z"
   },
   {
    "duration": 7,
    "start_time": "2022-06-03T07:09:48.447Z"
   },
   {
    "duration": 6,
    "start_time": "2022-06-03T07:09:50.259Z"
   },
   {
    "duration": 4,
    "start_time": "2022-06-03T07:09:51.146Z"
   },
   {
    "duration": 4,
    "start_time": "2022-06-03T07:09:54.291Z"
   },
   {
    "duration": 30,
    "start_time": "2022-06-03T07:09:55.146Z"
   },
   {
    "duration": 4,
    "start_time": "2022-06-03T07:09:56.634Z"
   },
   {
    "duration": 10,
    "start_time": "2022-06-03T07:09:58.654Z"
   },
   {
    "duration": 9,
    "start_time": "2022-06-03T07:10:00.086Z"
   },
   {
    "duration": 14,
    "start_time": "2022-06-03T07:10:02.956Z"
   },
   {
    "duration": 17,
    "start_time": "2022-06-03T07:10:04.985Z"
   },
   {
    "duration": 18,
    "start_time": "2022-06-03T07:10:13.685Z"
   },
   {
    "duration": 47,
    "start_time": "2022-06-03T07:10:16.766Z"
   },
   {
    "duration": 15,
    "start_time": "2022-06-03T07:10:34.227Z"
   },
   {
    "duration": 12,
    "start_time": "2022-06-03T07:10:43.899Z"
   },
   {
    "duration": 23,
    "start_time": "2022-06-03T07:12:28.743Z"
   },
   {
    "duration": 8,
    "start_time": "2022-06-03T07:12:45.766Z"
   },
   {
    "duration": 16,
    "start_time": "2022-06-03T07:12:58.111Z"
   },
   {
    "duration": 9,
    "start_time": "2022-06-03T07:13:12.689Z"
   },
   {
    "duration": 29,
    "start_time": "2022-06-03T07:13:24.615Z"
   },
   {
    "duration": 17,
    "start_time": "2022-06-03T07:13:51.088Z"
   },
   {
    "duration": 13,
    "start_time": "2022-06-03T07:14:22.403Z"
   },
   {
    "duration": 37,
    "start_time": "2022-06-03T07:14:52.994Z"
   },
   {
    "duration": 34,
    "start_time": "2022-06-03T07:15:08.398Z"
   },
   {
    "duration": 9,
    "start_time": "2022-06-03T07:16:56.417Z"
   },
   {
    "duration": 11,
    "start_time": "2022-06-03T07:17:05.819Z"
   },
   {
    "duration": 15,
    "start_time": "2022-06-03T07:17:13.548Z"
   },
   {
    "duration": 60,
    "start_time": "2022-06-03T07:17:31.306Z"
   },
   {
    "duration": 33,
    "start_time": "2022-06-03T07:17:58.421Z"
   },
   {
    "duration": 13,
    "start_time": "2022-06-03T07:18:04.738Z"
   },
   {
    "duration": 31,
    "start_time": "2022-06-03T07:18:36.974Z"
   },
   {
    "duration": 8,
    "start_time": "2022-06-03T07:20:41.672Z"
   },
   {
    "duration": 32,
    "start_time": "2022-06-03T07:23:09.087Z"
   },
   {
    "duration": 41,
    "start_time": "2022-06-03T07:23:18.515Z"
   },
   {
    "duration": 35,
    "start_time": "2022-06-03T07:23:25.851Z"
   },
   {
    "duration": 38,
    "start_time": "2022-06-03T07:23:43.361Z"
   },
   {
    "duration": 41,
    "start_time": "2022-06-03T07:23:58.796Z"
   },
   {
    "duration": 11,
    "start_time": "2022-06-03T07:24:12.780Z"
   },
   {
    "duration": 116,
    "start_time": "2022-06-03T07:24:31.038Z"
   },
   {
    "duration": 35,
    "start_time": "2022-06-03T07:24:47.933Z"
   },
   {
    "duration": 10,
    "start_time": "2022-06-03T07:35:33.002Z"
   },
   {
    "duration": 16,
    "start_time": "2022-06-03T07:35:41.146Z"
   },
   {
    "duration": 13,
    "start_time": "2022-06-03T07:38:40.166Z"
   },
   {
    "duration": 30,
    "start_time": "2022-06-03T07:39:20.827Z"
   },
   {
    "duration": 10,
    "start_time": "2022-06-03T07:39:53.377Z"
   },
   {
    "duration": 38,
    "start_time": "2022-06-03T07:40:01.193Z"
   },
   {
    "duration": 9,
    "start_time": "2022-06-03T07:40:39.472Z"
   },
   {
    "duration": 18,
    "start_time": "2022-06-03T07:40:45.611Z"
   },
   {
    "duration": 480,
    "start_time": "2022-06-03T07:41:31.429Z"
   },
   {
    "duration": 91,
    "start_time": "2022-06-03T07:41:31.911Z"
   },
   {
    "duration": 19,
    "start_time": "2022-06-03T07:41:32.004Z"
   },
   {
    "duration": 130,
    "start_time": "2022-06-03T07:41:32.027Z"
   },
   {
    "duration": 40,
    "start_time": "2022-06-03T07:41:32.160Z"
   },
   {
    "duration": 32,
    "start_time": "2022-06-03T07:41:32.202Z"
   },
   {
    "duration": 37,
    "start_time": "2022-06-03T07:41:32.236Z"
   },
   {
    "duration": 23,
    "start_time": "2022-06-03T07:41:32.275Z"
   },
   {
    "duration": 59,
    "start_time": "2022-06-03T07:41:32.300Z"
   },
   {
    "duration": 35,
    "start_time": "2022-06-03T07:41:32.361Z"
   },
   {
    "duration": 5,
    "start_time": "2022-06-03T07:41:32.398Z"
   },
   {
    "duration": 18,
    "start_time": "2022-06-03T07:41:32.404Z"
   },
   {
    "duration": 25,
    "start_time": "2022-06-03T07:41:32.423Z"
   },
   {
    "duration": 17,
    "start_time": "2022-06-03T07:41:32.450Z"
   },
   {
    "duration": 17,
    "start_time": "2022-06-03T07:41:32.469Z"
   },
   {
    "duration": 15,
    "start_time": "2022-06-03T07:41:32.487Z"
   },
   {
    "duration": 42,
    "start_time": "2022-06-03T07:41:32.504Z"
   },
   {
    "duration": 16,
    "start_time": "2022-06-03T07:52:56.098Z"
   },
   {
    "duration": 86,
    "start_time": "2022-06-03T07:53:55.485Z"
   },
   {
    "duration": 58,
    "start_time": "2022-06-03T07:54:09.460Z"
   },
   {
    "duration": 53,
    "start_time": "2022-06-03T07:54:45.546Z"
   },
   {
    "duration": 48,
    "start_time": "2022-06-03T07:54:51.511Z"
   },
   {
    "duration": 68,
    "start_time": "2022-06-03T07:55:04.890Z"
   },
   {
    "duration": 38,
    "start_time": "2022-06-03T07:55:10.138Z"
   },
   {
    "duration": 20,
    "start_time": "2022-06-03T07:55:37.808Z"
   },
   {
    "duration": 424,
    "start_time": "2022-06-03T08:05:51.224Z"
   },
   {
    "duration": 70,
    "start_time": "2022-06-03T08:05:51.651Z"
   },
   {
    "duration": 15,
    "start_time": "2022-06-03T08:05:51.723Z"
   },
   {
    "duration": 39,
    "start_time": "2022-06-03T08:05:51.740Z"
   },
   {
    "duration": 14,
    "start_time": "2022-06-03T08:05:51.780Z"
   },
   {
    "duration": 7,
    "start_time": "2022-06-03T08:05:51.796Z"
   },
   {
    "duration": 7,
    "start_time": "2022-06-03T08:05:51.804Z"
   },
   {
    "duration": 4,
    "start_time": "2022-06-03T08:05:51.828Z"
   },
   {
    "duration": 11,
    "start_time": "2022-06-03T08:05:51.834Z"
   },
   {
    "duration": 27,
    "start_time": "2022-06-03T08:05:51.847Z"
   },
   {
    "duration": 4,
    "start_time": "2022-06-03T08:05:51.876Z"
   },
   {
    "duration": 13,
    "start_time": "2022-06-03T08:05:51.881Z"
   },
   {
    "duration": 9,
    "start_time": "2022-06-03T08:05:51.895Z"
   },
   {
    "duration": 30,
    "start_time": "2022-06-03T08:05:51.906Z"
   },
   {
    "duration": 16,
    "start_time": "2022-06-03T08:05:51.938Z"
   },
   {
    "duration": 14,
    "start_time": "2022-06-03T08:05:51.955Z"
   },
   {
    "duration": 17,
    "start_time": "2022-06-03T08:05:51.970Z"
   },
   {
    "duration": 15,
    "start_time": "2022-06-03T08:15:07.304Z"
   },
   {
    "duration": 3,
    "start_time": "2022-06-03T08:18:47.984Z"
   },
   {
    "duration": 78,
    "start_time": "2022-06-03T08:18:48.641Z"
   },
   {
    "duration": 14,
    "start_time": "2022-06-03T08:18:49.260Z"
   },
   {
    "duration": 34,
    "start_time": "2022-06-03T08:18:50.300Z"
   },
   {
    "duration": 15,
    "start_time": "2022-06-03T08:18:51.613Z"
   },
   {
    "duration": 6,
    "start_time": "2022-06-03T08:18:57.052Z"
   },
   {
    "duration": 4,
    "start_time": "2022-06-03T08:19:07.023Z"
   },
   {
    "duration": 5,
    "start_time": "2022-06-03T08:19:11.501Z"
   },
   {
    "duration": 3,
    "start_time": "2022-06-03T08:19:27.578Z"
   },
   {
    "duration": 27,
    "start_time": "2022-06-03T08:19:29.842Z"
   },
   {
    "duration": 6,
    "start_time": "2022-06-03T08:19:32.421Z"
   },
   {
    "duration": 19,
    "start_time": "2022-06-03T08:19:37.426Z"
   },
   {
    "duration": 16,
    "start_time": "2022-06-03T08:19:42.430Z"
   },
   {
    "duration": 13,
    "start_time": "2022-06-03T08:19:49.662Z"
   },
   {
    "duration": 21,
    "start_time": "2022-06-03T08:19:54.121Z"
   },
   {
    "duration": 19,
    "start_time": "2022-06-03T08:20:00.005Z"
   },
   {
    "duration": 20,
    "start_time": "2022-06-03T08:20:09.768Z"
   },
   {
    "duration": 426,
    "start_time": "2022-06-03T08:20:53.500Z"
   },
   {
    "duration": 85,
    "start_time": "2022-06-03T08:20:53.931Z"
   },
   {
    "duration": 18,
    "start_time": "2022-06-03T08:20:54.018Z"
   },
   {
    "duration": 39,
    "start_time": "2022-06-03T08:20:54.044Z"
   },
   {
    "duration": 16,
    "start_time": "2022-06-03T08:20:54.085Z"
   },
   {
    "duration": 26,
    "start_time": "2022-06-03T08:20:54.103Z"
   },
   {
    "duration": 9,
    "start_time": "2022-06-03T08:20:54.131Z"
   },
   {
    "duration": 17,
    "start_time": "2022-06-03T08:20:54.143Z"
   },
   {
    "duration": 6,
    "start_time": "2022-06-03T08:20:54.162Z"
   },
   {
    "duration": 28,
    "start_time": "2022-06-03T08:20:54.170Z"
   },
   {
    "duration": 6,
    "start_time": "2022-06-03T08:20:54.200Z"
   },
   {
    "duration": 49,
    "start_time": "2022-06-03T08:20:54.207Z"
   },
   {
    "duration": 13,
    "start_time": "2022-06-03T08:20:54.257Z"
   },
   {
    "duration": 25,
    "start_time": "2022-06-03T08:20:54.272Z"
   },
   {
    "duration": 16,
    "start_time": "2022-06-03T08:20:54.299Z"
   },
   {
    "duration": 17,
    "start_time": "2022-06-03T08:20:54.316Z"
   },
   {
    "duration": 26,
    "start_time": "2022-06-03T08:20:54.350Z"
   },
   {
    "duration": 369,
    "start_time": "2022-06-03T18:35:47.077Z"
   },
   {
    "duration": 70,
    "start_time": "2022-06-03T18:35:47.448Z"
   },
   {
    "duration": 14,
    "start_time": "2022-06-03T18:35:47.520Z"
   },
   {
    "duration": 35,
    "start_time": "2022-06-03T18:35:47.536Z"
   },
   {
    "duration": 14,
    "start_time": "2022-06-03T18:35:47.573Z"
   },
   {
    "duration": 8,
    "start_time": "2022-06-03T18:35:47.588Z"
   },
   {
    "duration": 7,
    "start_time": "2022-06-03T18:35:47.597Z"
   },
   {
    "duration": 3,
    "start_time": "2022-06-03T18:35:47.627Z"
   },
   {
    "duration": 10,
    "start_time": "2022-06-03T18:35:47.632Z"
   },
   {
    "duration": 29,
    "start_time": "2022-06-03T18:35:47.644Z"
   },
   {
    "duration": 4,
    "start_time": "2022-06-03T18:35:47.674Z"
   },
   {
    "duration": 11,
    "start_time": "2022-06-03T18:35:47.680Z"
   },
   {
    "duration": 11,
    "start_time": "2022-06-03T18:35:47.693Z"
   },
   {
    "duration": 28,
    "start_time": "2022-06-03T18:35:47.705Z"
   },
   {
    "duration": 16,
    "start_time": "2022-06-03T18:35:47.734Z"
   },
   {
    "duration": 17,
    "start_time": "2022-06-03T18:35:47.752Z"
   },
   {
    "duration": 16,
    "start_time": "2022-06-03T18:35:47.771Z"
   },
   {
    "duration": 41,
    "start_time": "2022-06-14T14:40:41.479Z"
   },
   {
    "duration": 334,
    "start_time": "2022-06-14T14:40:48.032Z"
   },
   {
    "duration": 129,
    "start_time": "2022-06-14T14:40:48.537Z"
   },
   {
    "duration": 439,
    "start_time": "2022-08-16T16:12:24.985Z"
   },
   {
    "duration": 335,
    "start_time": "2022-08-16T16:12:25.426Z"
   },
   {
    "duration": 13,
    "start_time": "2022-08-16T16:12:25.763Z"
   },
   {
    "duration": 38,
    "start_time": "2022-08-16T16:12:25.779Z"
   },
   {
    "duration": 8,
    "start_time": "2022-08-16T16:12:25.819Z"
   },
   {
    "duration": 1081,
    "start_time": "2022-08-16T16:12:25.829Z"
   },
   {
    "duration": 0,
    "start_time": "2022-08-16T16:12:26.912Z"
   },
   {
    "duration": 0,
    "start_time": "2022-08-16T16:12:26.913Z"
   },
   {
    "duration": 0,
    "start_time": "2022-08-16T16:12:26.914Z"
   },
   {
    "duration": 0,
    "start_time": "2022-08-16T16:12:26.915Z"
   },
   {
    "duration": 0,
    "start_time": "2022-08-16T16:12:26.916Z"
   },
   {
    "duration": 0,
    "start_time": "2022-08-16T16:12:26.917Z"
   },
   {
    "duration": 0,
    "start_time": "2022-08-16T16:12:26.919Z"
   },
   {
    "duration": 0,
    "start_time": "2022-08-16T16:12:26.921Z"
   },
   {
    "duration": 1,
    "start_time": "2022-08-16T16:12:26.922Z"
   },
   {
    "duration": 0,
    "start_time": "2022-08-16T16:12:26.924Z"
   },
   {
    "duration": 0,
    "start_time": "2022-08-16T16:12:26.925Z"
   },
   {
    "duration": 399,
    "start_time": "2022-08-16T16:13:54.934Z"
   },
   {
    "duration": 77,
    "start_time": "2022-08-16T16:13:55.335Z"
   },
   {
    "duration": 16,
    "start_time": "2022-08-16T16:13:55.415Z"
   },
   {
    "duration": 44,
    "start_time": "2022-08-16T16:13:55.434Z"
   },
   {
    "duration": 32,
    "start_time": "2022-08-16T16:13:55.480Z"
   },
   {
    "duration": 10,
    "start_time": "2022-08-16T16:13:55.514Z"
   },
   {
    "duration": 5,
    "start_time": "2022-08-16T16:13:55.526Z"
   },
   {
    "duration": 22,
    "start_time": "2022-08-16T16:13:55.533Z"
   },
   {
    "duration": 5,
    "start_time": "2022-08-16T16:13:55.557Z"
   },
   {
    "duration": 41,
    "start_time": "2022-08-16T16:13:55.564Z"
   },
   {
    "duration": 17,
    "start_time": "2022-08-16T16:13:55.607Z"
   },
   {
    "duration": 26,
    "start_time": "2022-08-16T16:13:55.625Z"
   },
   {
    "duration": 12,
    "start_time": "2022-08-16T16:13:55.653Z"
   },
   {
    "duration": 23,
    "start_time": "2022-08-16T16:13:55.666Z"
   },
   {
    "duration": 17,
    "start_time": "2022-08-16T16:13:55.691Z"
   },
   {
    "duration": 16,
    "start_time": "2022-08-16T16:13:55.709Z"
   },
   {
    "duration": 68,
    "start_time": "2022-08-16T16:13:55.726Z"
   }
  ],
  "kernelspec": {
   "display_name": "Python 3 (ipykernel)",
   "language": "python",
   "name": "python3"
  },
  "language_info": {
   "codemirror_mode": {
    "name": "ipython",
    "version": 3
   },
   "file_extension": ".py",
   "mimetype": "text/x-python",
   "name": "python",
   "nbconvert_exporter": "python",
   "pygments_lexer": "ipython3",
   "version": "3.9.7"
  },
  "toc": {
   "base_numbering": 1,
   "nav_menu": {},
   "number_sections": true,
   "sideBar": true,
   "skip_h1_title": true,
   "title_cell": "Table of Contents",
   "title_sidebar": "Contents",
   "toc_cell": false,
   "toc_position": {},
   "toc_section_display": true,
   "toc_window_display": false
  }
 },
 "nbformat": 4,
 "nbformat_minor": 5
}
