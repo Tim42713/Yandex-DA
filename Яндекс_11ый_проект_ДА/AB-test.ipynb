{
 "cells": [
  {
   "cell_type": "markdown",
   "metadata": {},
   "source": [
    "### Проект проверки гипотез по увеличению прибыли. "
   ]
  },
  {
   "cell_type": "markdown",
   "metadata": {},
   "source": [
    "#### Основные задачи. "
   ]
  },
  {
   "cell_type": "markdown",
   "metadata": {},
   "source": [
    "* Приоритизировать гипотезы;\n",
    "* Запустить A/B-тест;\n",
    "* Проанализировать результаты;\n",
    "* Принять решение на основании полученных результатов."
   ]
  },
  {
   "cell_type": "markdown",
   "metadata": {},
   "source": [
    "#### Краткое описание. "
   ]
  },
  {
   "cell_type": "markdown",
   "metadata": {},
   "source": [
    "Мы работаем в отделе аналитики крупного интернет-магазина. Вместе с отделом маркетинга подготовили список гипотез для увеличения выручки. Принято решение в необходимости проведения A/B - теста. Подготовлены гипотезы, далее необходимо приоритизировать гипотезы, запустить тест и дать рекомендации на основании проведенного анализа. "
   ]
  },
  {
   "cell_type": "markdown",
   "metadata": {},
   "source": [
    "#### План работы. "
   ]
  },
  {
   "cell_type": "markdown",
   "metadata": {},
   "source": [
    "* Откроем и изучим общую информацию о данных;\n",
    "* Произведем обработку данных;\n",
    "* Выявим и исправим ошибки в данных, в случае наличия;\n",
    "* Отсортируем гипотезы по убыванию приоритету;\n",
    "* Проведем A/B - тест;\n",
    "* Проанализируем итоги A/B - теста;\n",
    "* Примем решения на основании полученных результатов."
   ]
  },
  {
   "cell_type": "markdown",
   "metadata": {},
   "source": [
    "#### Названия столбцов. "
   ]
  },
  {
   "cell_type": "markdown",
   "metadata": {},
   "source": [
    "1) Данные гипотез: (hypothesis)\n",
    "\n",
    "* Hypothesis — краткое описание гипотезы;\n",
    "* Reach — охват пользователей по 10-балльной шкале;\n",
    "* Impact — влияние на пользователей по 10-балльной шкале;\n",
    "* Confidence — уверенность в гипотезе по 10-балльной шкале;\n",
    "* Efforts — затраты ресурсов на проверку гипотезы по 10-балльной шкале.\n",
    "\n",
    "2) Информация о заказах: (orders)\n",
    "\n",
    "* transactionId — идентификатор заказа;\n",
    "* visitorId — идентификатор пользователя, совершившего заказ;\n",
    "* date — дата, когда был совершён заказ;\n",
    "* revenue — выручка заказа;\n",
    "* group — группа A/B-теста, в которую попал заказ.\n",
    "\n",
    "3) Информация о пользователях: (visitors)\n",
    "\n",
    "* date — дата;\n",
    "* group — группа A/B-теста;\n",
    "* visitors — количество пользователей в указанную дату в указанной группе A/B-теста."
   ]
  },
  {
   "cell_type": "markdown",
   "metadata": {},
   "source": [
    "### Обзор данных. "
   ]
  },
  {
   "cell_type": "code",
   "execution_count": 1,
   "metadata": {},
   "outputs": [],
   "source": [
    "# импортируем библиотеки.\n",
    "import pandas as pd\n",
    "import numpy as np\n",
    "import matplotlib.pyplot as plt\n",
    "import datetime as dt\n",
    "from scipy import stats as st"
   ]
  },
  {
   "cell_type": "code",
   "execution_count": 2,
   "metadata": {},
   "outputs": [],
   "source": [
    "# параметр для просмотра расширенных данных в таблице.\n",
    "pd.options.display.max_colwidth = 150"
   ]
  },
  {
   "cell_type": "code",
   "execution_count": 3,
   "metadata": {},
   "outputs": [],
   "source": [
    "# получаем данные для исследования \n",
    "path = 'C:\\\\Users\\\\tbyni\\\\Рабочий стол\\\\Проекты ЯП_ДА\\\\Яндекс_11ый_проект_ДА\\\\'\n",
    "hypothesis = pd.read_csv(path + 'hypothesis.csv', sep = ',')\n",
    "orders = pd.read_csv(path + 'orders.csv', sep = ',')\n",
    "visitors = pd.read_csv(path + 'visitors.csv', sep = ',')"
   ]
  },
  {
   "cell_type": "code",
   "execution_count": 4,
   "metadata": {
    "scrolled": false
   },
   "outputs": [
    {
     "data": {
      "text/html": [
       "<div>\n",
       "<style scoped>\n",
       "    .dataframe tbody tr th:only-of-type {\n",
       "        vertical-align: middle;\n",
       "    }\n",
       "\n",
       "    .dataframe tbody tr th {\n",
       "        vertical-align: top;\n",
       "    }\n",
       "\n",
       "    .dataframe thead th {\n",
       "        text-align: right;\n",
       "    }\n",
       "</style>\n",
       "<table border=\"1\" class=\"dataframe\">\n",
       "  <thead>\n",
       "    <tr style=\"text-align: right;\">\n",
       "      <th></th>\n",
       "      <th>Hypothesis</th>\n",
       "      <th>Reach</th>\n",
       "      <th>Impact</th>\n",
       "      <th>Confidence</th>\n",
       "      <th>Efforts</th>\n",
       "    </tr>\n",
       "  </thead>\n",
       "  <tbody>\n",
       "    <tr>\n",
       "      <th>0</th>\n",
       "      <td>Добавить два новых канала привлечения трафика, что позволит привлекать на 30% больше пользователей</td>\n",
       "      <td>3</td>\n",
       "      <td>10</td>\n",
       "      <td>8</td>\n",
       "      <td>6</td>\n",
       "    </tr>\n",
       "    <tr>\n",
       "      <th>1</th>\n",
       "      <td>Запустить собственную службу доставки, что сократит срок доставки заказов</td>\n",
       "      <td>2</td>\n",
       "      <td>5</td>\n",
       "      <td>4</td>\n",
       "      <td>10</td>\n",
       "    </tr>\n",
       "    <tr>\n",
       "      <th>2</th>\n",
       "      <td>Добавить блоки рекомендаций товаров на сайт интернет магазина, чтобы повысить конверсию и средний чек заказа</td>\n",
       "      <td>8</td>\n",
       "      <td>3</td>\n",
       "      <td>7</td>\n",
       "      <td>3</td>\n",
       "    </tr>\n",
       "    <tr>\n",
       "      <th>3</th>\n",
       "      <td>Изменить структура категорий, что увеличит конверсию, т.к. пользователи быстрее найдут нужный товар</td>\n",
       "      <td>8</td>\n",
       "      <td>3</td>\n",
       "      <td>3</td>\n",
       "      <td>8</td>\n",
       "    </tr>\n",
       "    <tr>\n",
       "      <th>4</th>\n",
       "      <td>Изменить цвет фона главной страницы, чтобы увеличить вовлеченность пользователей</td>\n",
       "      <td>3</td>\n",
       "      <td>1</td>\n",
       "      <td>1</td>\n",
       "      <td>1</td>\n",
       "    </tr>\n",
       "    <tr>\n",
       "      <th>5</th>\n",
       "      <td>Добавить страницу отзывов клиентов о магазине, что позволит увеличить количество заказов</td>\n",
       "      <td>3</td>\n",
       "      <td>2</td>\n",
       "      <td>2</td>\n",
       "      <td>3</td>\n",
       "    </tr>\n",
       "    <tr>\n",
       "      <th>6</th>\n",
       "      <td>Показать на главной странице баннеры с актуальными акциями и распродажами, чтобы увеличить конверсию</td>\n",
       "      <td>5</td>\n",
       "      <td>3</td>\n",
       "      <td>8</td>\n",
       "      <td>3</td>\n",
       "    </tr>\n",
       "    <tr>\n",
       "      <th>7</th>\n",
       "      <td>Добавить форму подписки на все основные страницы, чтобы собрать базу клиентов для email-рассылок</td>\n",
       "      <td>10</td>\n",
       "      <td>7</td>\n",
       "      <td>8</td>\n",
       "      <td>5</td>\n",
       "    </tr>\n",
       "    <tr>\n",
       "      <th>8</th>\n",
       "      <td>Запустить акцию, дающую скидку на товар в день рождения</td>\n",
       "      <td>1</td>\n",
       "      <td>9</td>\n",
       "      <td>9</td>\n",
       "      <td>5</td>\n",
       "    </tr>\n",
       "  </tbody>\n",
       "</table>\n",
       "</div>"
      ],
      "text/plain": [
       "                                                                                                     Hypothesis  \\\n",
       "0            Добавить два новых канала привлечения трафика, что позволит привлекать на 30% больше пользователей   \n",
       "1                                     Запустить собственную службу доставки, что сократит срок доставки заказов   \n",
       "2  Добавить блоки рекомендаций товаров на сайт интернет магазина, чтобы повысить конверсию и средний чек заказа   \n",
       "3           Изменить структура категорий, что увеличит конверсию, т.к. пользователи быстрее найдут нужный товар   \n",
       "4                              Изменить цвет фона главной страницы, чтобы увеличить вовлеченность пользователей   \n",
       "5                      Добавить страницу отзывов клиентов о магазине, что позволит увеличить количество заказов   \n",
       "6          Показать на главной странице баннеры с актуальными акциями и распродажами, чтобы увеличить конверсию   \n",
       "7              Добавить форму подписки на все основные страницы, чтобы собрать базу клиентов для email-рассылок   \n",
       "8                                                       Запустить акцию, дающую скидку на товар в день рождения   \n",
       "\n",
       "   Reach  Impact  Confidence  Efforts  \n",
       "0      3      10           8        6  \n",
       "1      2       5           4       10  \n",
       "2      8       3           7        3  \n",
       "3      8       3           3        8  \n",
       "4      3       1           1        1  \n",
       "5      3       2           2        3  \n",
       "6      5       3           8        3  \n",
       "7     10       7           8        5  \n",
       "8      1       9           9        5  "
      ]
     },
     "metadata": {},
     "output_type": "display_data"
    },
    {
     "data": {
      "text/html": [
       "<div>\n",
       "<style scoped>\n",
       "    .dataframe tbody tr th:only-of-type {\n",
       "        vertical-align: middle;\n",
       "    }\n",
       "\n",
       "    .dataframe tbody tr th {\n",
       "        vertical-align: top;\n",
       "    }\n",
       "\n",
       "    .dataframe thead th {\n",
       "        text-align: right;\n",
       "    }\n",
       "</style>\n",
       "<table border=\"1\" class=\"dataframe\">\n",
       "  <thead>\n",
       "    <tr style=\"text-align: right;\">\n",
       "      <th></th>\n",
       "      <th>transactionId</th>\n",
       "      <th>visitorId</th>\n",
       "      <th>date</th>\n",
       "      <th>revenue</th>\n",
       "      <th>group</th>\n",
       "    </tr>\n",
       "  </thead>\n",
       "  <tbody>\n",
       "    <tr>\n",
       "      <th>0</th>\n",
       "      <td>3667963787</td>\n",
       "      <td>3312258926</td>\n",
       "      <td>2019-08-15</td>\n",
       "      <td>1650</td>\n",
       "      <td>B</td>\n",
       "    </tr>\n",
       "    <tr>\n",
       "      <th>1</th>\n",
       "      <td>2804400009</td>\n",
       "      <td>3642806036</td>\n",
       "      <td>2019-08-15</td>\n",
       "      <td>730</td>\n",
       "      <td>B</td>\n",
       "    </tr>\n",
       "    <tr>\n",
       "      <th>2</th>\n",
       "      <td>2961555356</td>\n",
       "      <td>4069496402</td>\n",
       "      <td>2019-08-15</td>\n",
       "      <td>400</td>\n",
       "      <td>A</td>\n",
       "    </tr>\n",
       "    <tr>\n",
       "      <th>3</th>\n",
       "      <td>3797467345</td>\n",
       "      <td>1196621759</td>\n",
       "      <td>2019-08-15</td>\n",
       "      <td>9759</td>\n",
       "      <td>B</td>\n",
       "    </tr>\n",
       "    <tr>\n",
       "      <th>4</th>\n",
       "      <td>2282983706</td>\n",
       "      <td>2322279887</td>\n",
       "      <td>2019-08-15</td>\n",
       "      <td>2308</td>\n",
       "      <td>B</td>\n",
       "    </tr>\n",
       "  </tbody>\n",
       "</table>\n",
       "</div>"
      ],
      "text/plain": [
       "   transactionId   visitorId        date  revenue group\n",
       "0     3667963787  3312258926  2019-08-15     1650     B\n",
       "1     2804400009  3642806036  2019-08-15      730     B\n",
       "2     2961555356  4069496402  2019-08-15      400     A\n",
       "3     3797467345  1196621759  2019-08-15     9759     B\n",
       "4     2282983706  2322279887  2019-08-15     2308     B"
      ]
     },
     "metadata": {},
     "output_type": "display_data"
    },
    {
     "data": {
      "text/html": [
       "<div>\n",
       "<style scoped>\n",
       "    .dataframe tbody tr th:only-of-type {\n",
       "        vertical-align: middle;\n",
       "    }\n",
       "\n",
       "    .dataframe tbody tr th {\n",
       "        vertical-align: top;\n",
       "    }\n",
       "\n",
       "    .dataframe thead th {\n",
       "        text-align: right;\n",
       "    }\n",
       "</style>\n",
       "<table border=\"1\" class=\"dataframe\">\n",
       "  <thead>\n",
       "    <tr style=\"text-align: right;\">\n",
       "      <th></th>\n",
       "      <th>date</th>\n",
       "      <th>group</th>\n",
       "      <th>visitors</th>\n",
       "    </tr>\n",
       "  </thead>\n",
       "  <tbody>\n",
       "    <tr>\n",
       "      <th>0</th>\n",
       "      <td>2019-08-01</td>\n",
       "      <td>A</td>\n",
       "      <td>719</td>\n",
       "    </tr>\n",
       "    <tr>\n",
       "      <th>1</th>\n",
       "      <td>2019-08-02</td>\n",
       "      <td>A</td>\n",
       "      <td>619</td>\n",
       "    </tr>\n",
       "    <tr>\n",
       "      <th>2</th>\n",
       "      <td>2019-08-03</td>\n",
       "      <td>A</td>\n",
       "      <td>507</td>\n",
       "    </tr>\n",
       "    <tr>\n",
       "      <th>3</th>\n",
       "      <td>2019-08-04</td>\n",
       "      <td>A</td>\n",
       "      <td>717</td>\n",
       "    </tr>\n",
       "    <tr>\n",
       "      <th>4</th>\n",
       "      <td>2019-08-05</td>\n",
       "      <td>A</td>\n",
       "      <td>756</td>\n",
       "    </tr>\n",
       "  </tbody>\n",
       "</table>\n",
       "</div>"
      ],
      "text/plain": [
       "         date group  visitors\n",
       "0  2019-08-01     A       719\n",
       "1  2019-08-02     A       619\n",
       "2  2019-08-03     A       507\n",
       "3  2019-08-04     A       717\n",
       "4  2019-08-05     A       756"
      ]
     },
     "metadata": {},
     "output_type": "display_data"
    },
    {
     "name": "stdout",
     "output_type": "stream",
     "text": [
      "<class 'pandas.core.frame.DataFrame'>\n",
      "RangeIndex: 9 entries, 0 to 8\n",
      "Data columns (total 5 columns):\n",
      " #   Column      Non-Null Count  Dtype \n",
      "---  ------      --------------  ----- \n",
      " 0   Hypothesis  9 non-null      object\n",
      " 1   Reach       9 non-null      int64 \n",
      " 2   Impact      9 non-null      int64 \n",
      " 3   Confidence  9 non-null      int64 \n",
      " 4   Efforts     9 non-null      int64 \n",
      "dtypes: int64(4), object(1)\n",
      "memory usage: 488.0+ bytes\n"
     ]
    },
    {
     "data": {
      "text/plain": [
       "None"
      ]
     },
     "metadata": {},
     "output_type": "display_data"
    },
    {
     "name": "stdout",
     "output_type": "stream",
     "text": [
      "<class 'pandas.core.frame.DataFrame'>\n",
      "RangeIndex: 1197 entries, 0 to 1196\n",
      "Data columns (total 5 columns):\n",
      " #   Column         Non-Null Count  Dtype \n",
      "---  ------         --------------  ----- \n",
      " 0   transactionId  1197 non-null   int64 \n",
      " 1   visitorId      1197 non-null   int64 \n",
      " 2   date           1197 non-null   object\n",
      " 3   revenue        1197 non-null   int64 \n",
      " 4   group          1197 non-null   object\n",
      "dtypes: int64(3), object(2)\n",
      "memory usage: 46.9+ KB\n"
     ]
    },
    {
     "data": {
      "text/plain": [
       "None"
      ]
     },
     "metadata": {},
     "output_type": "display_data"
    },
    {
     "name": "stdout",
     "output_type": "stream",
     "text": [
      "<class 'pandas.core.frame.DataFrame'>\n",
      "RangeIndex: 62 entries, 0 to 61\n",
      "Data columns (total 3 columns):\n",
      " #   Column    Non-Null Count  Dtype \n",
      "---  ------    --------------  ----- \n",
      " 0   date      62 non-null     object\n",
      " 1   group     62 non-null     object\n",
      " 2   visitors  62 non-null     int64 \n",
      "dtypes: int64(1), object(2)\n",
      "memory usage: 1.6+ KB\n"
     ]
    },
    {
     "data": {
      "text/plain": [
       "None"
      ]
     },
     "metadata": {},
     "output_type": "display_data"
    },
    {
     "data": {
      "text/plain": [
       "Hypothesis    0\n",
       "Reach         0\n",
       "Impact        0\n",
       "Confidence    0\n",
       "Efforts       0\n",
       "dtype: int64"
      ]
     },
     "metadata": {},
     "output_type": "display_data"
    },
    {
     "data": {
      "text/plain": [
       "transactionId    0\n",
       "visitorId        0\n",
       "date             0\n",
       "revenue          0\n",
       "group            0\n",
       "dtype: int64"
      ]
     },
     "metadata": {},
     "output_type": "display_data"
    },
    {
     "data": {
      "text/plain": [
       "date        0\n",
       "group       0\n",
       "visitors    0\n",
       "dtype: int64"
      ]
     },
     "metadata": {},
     "output_type": "display_data"
    }
   ],
   "source": [
    "# просмотрим общую информацию о данных.\n",
    "def information (a, b, c):\n",
    "    display(a.head(9))\n",
    "    display(b.head(5))\n",
    "    display(c.head(5))\n",
    "    display(a.info())\n",
    "    display(b.info())\n",
    "    display(c.info())\n",
    "    display(a.isna().sum())\n",
    "    display(b.isna().sum())\n",
    "    display(c.isna().sum())\n",
    "information(hypothesis, orders, visitors)"
   ]
  },
  {
   "cell_type": "code",
   "execution_count": 5,
   "metadata": {},
   "outputs": [
    {
     "data": {
      "text/plain": [
       "0"
      ]
     },
     "execution_count": 5,
     "metadata": {},
     "output_type": "execute_result"
    }
   ],
   "source": [
    "# проверяем данные в orders на наличие дубликатов.\n",
    "orders.duplicated().sum()"
   ]
  },
  {
   "cell_type": "code",
   "execution_count": 6,
   "metadata": {},
   "outputs": [
    {
     "data": {
      "text/plain": [
       "0"
      ]
     },
     "execution_count": 6,
     "metadata": {},
     "output_type": "execute_result"
    }
   ],
   "source": [
    "# проверяем данные в visitors на наличие дубликатов.\n",
    "visitors.duplicated().sum()"
   ]
  },
  {
   "cell_type": "code",
   "execution_count": 7,
   "metadata": {},
   "outputs": [
    {
     "data": {
      "text/plain": [
       "58"
      ]
     },
     "execution_count": 7,
     "metadata": {},
     "output_type": "execute_result"
    }
   ],
   "source": [
    "# просматриваем кол-во пользователей которые могли попасть в обе группы при проведении теста. \n",
    "len(np.intersect1d(orders.query('group == \"A\"')['visitorId'], orders.query('group == \"B\"')['visitorId']))"
   ]
  },
  {
   "cell_type": "code",
   "execution_count": 8,
   "metadata": {},
   "outputs": [
    {
     "data": {
      "text/plain": [
       "group\n",
       "A    1211535685633\n",
       "B    1381118605657\n",
       "Name: visitorId, dtype: int64"
      ]
     },
     "execution_count": 8,
     "metadata": {},
     "output_type": "execute_result"
    }
   ],
   "source": [
    "# проверяем распределение пользователей по группам. \n",
    "allocation_groups = orders.groupby('group')['visitorId'].sum()\n",
    "allocation_groups"
   ]
  },
  {
   "cell_type": "code",
   "execution_count": 9,
   "metadata": {},
   "outputs": [
    {
     "data": {
      "text/html": [
       "<div>\n",
       "<style scoped>\n",
       "    .dataframe tbody tr th:only-of-type {\n",
       "        vertical-align: middle;\n",
       "    }\n",
       "\n",
       "    .dataframe tbody tr th {\n",
       "        vertical-align: top;\n",
       "    }\n",
       "\n",
       "    .dataframe thead th {\n",
       "        text-align: right;\n",
       "    }\n",
       "</style>\n",
       "<table border=\"1\" class=\"dataframe\">\n",
       "  <thead>\n",
       "    <tr style=\"text-align: right;\">\n",
       "      <th></th>\n",
       "      <th>min</th>\n",
       "      <th>max</th>\n",
       "    </tr>\n",
       "    <tr>\n",
       "      <th>group</th>\n",
       "      <th></th>\n",
       "      <th></th>\n",
       "    </tr>\n",
       "  </thead>\n",
       "  <tbody>\n",
       "    <tr>\n",
       "      <th>A</th>\n",
       "      <td>2019-08-01</td>\n",
       "      <td>2019-08-31</td>\n",
       "    </tr>\n",
       "    <tr>\n",
       "      <th>B</th>\n",
       "      <td>2019-08-01</td>\n",
       "      <td>2019-08-31</td>\n",
       "    </tr>\n",
       "  </tbody>\n",
       "</table>\n",
       "</div>"
      ],
      "text/plain": [
       "              min         max\n",
       "group                        \n",
       "A      2019-08-01  2019-08-31\n",
       "B      2019-08-01  2019-08-31"
      ]
     },
     "execution_count": 9,
     "metadata": {},
     "output_type": "execute_result"
    }
   ],
   "source": [
    "# просматриваем продолжительность проведения теста в обеих группах.\n",
    "visitors.groupby('group')['date'].agg(['min', 'max'])"
   ]
  },
  {
   "cell_type": "markdown",
   "metadata": {},
   "source": [
    "#### Вывод."
   ]
  },
  {
   "cell_type": "markdown",
   "metadata": {},
   "source": [
    "* Просматривая данные выделим следующее:\n",
    "* Для исследования получены 3 таблицы (hypothesis (5 столбцов и 9 строк), orders (5 столбцов и 1197 строк), visitors (3 столбца и 62 строки);\n",
    "* В данных отсутствуют пропущенные значения и дубликаты;\n",
    "* Неверный формат данных в столбцах date, в таблицах visitors и orders необходимо заменить на datetime;\n",
    "* Необходимо привести названия столбцов, таблицы hypothesis к нижнему регистру;\n",
    "* Как мы можем заметить, что 58 пользователей попали в обе группы, такое кол-во менее 5%, значит можем удалить эти данные чтобы не было искажений;\n",
    "* Проверили распределение по группам, погрешность 1 %;\n",
    "* Просмотрели сроки проведения теста совпадают;\n",
    "* Тест парный;\n",
    "* Кол-во пользователей по группам, следующее: группа \"А\" - 18736, группа \"В\" - 18916. "
   ]
  },
  {
   "cell_type": "markdown",
   "metadata": {},
   "source": [
    "### Обработка данных."
   ]
  },
  {
   "cell_type": "code",
   "execution_count": 10,
   "metadata": {},
   "outputs": [],
   "source": [
    "# приведем названия столбцов к нижнему регистру.\n",
    "hypothesis.columns = ['hypothesis', 'reach', 'impact', 'confidence', 'efforts']"
   ]
  },
  {
   "cell_type": "code",
   "execution_count": 11,
   "metadata": {},
   "outputs": [],
   "source": [
    "# приведем столбец date к нужному формату.\n",
    "visitors['date'] = pd.to_datetime(visitors['date'], format = '%Y-%m-%d')\n",
    "orders['date'] = pd.to_datetime(orders['date'], format = '%Y-%m-%d')"
   ]
  },
  {
   "cell_type": "code",
   "execution_count": 12,
   "metadata": {},
   "outputs": [],
   "source": [
    "# удаляем задвоенные id по группам\n",
    "delete_id = np.intersect1d(orders.query('group == \"A\"')['visitorId'].unique(), orders.query('group == \"B\"')['visitorId'].unique())\n",
    "delete_id = delete_id.tolist()\n",
    "orders = orders[~orders.visitorId.isin(delete_id)]"
   ]
  },
  {
   "cell_type": "markdown",
   "metadata": {},
   "source": [
    "### Приоритизация гипотез."
   ]
  },
  {
   "cell_type": "markdown",
   "metadata": {},
   "source": [
    "#### Применим фреймворк ICE для приоритизации гипотез. Отсортируем их по убыванию приоритета."
   ]
  },
  {
   "cell_type": "code",
   "execution_count": 13,
   "metadata": {},
   "outputs": [
    {
     "data": {
      "text/html": [
       "<div>\n",
       "<style scoped>\n",
       "    .dataframe tbody tr th:only-of-type {\n",
       "        vertical-align: middle;\n",
       "    }\n",
       "\n",
       "    .dataframe tbody tr th {\n",
       "        vertical-align: top;\n",
       "    }\n",
       "\n",
       "    .dataframe thead th {\n",
       "        text-align: right;\n",
       "    }\n",
       "</style>\n",
       "<table border=\"1\" class=\"dataframe\">\n",
       "  <thead>\n",
       "    <tr style=\"text-align: right;\">\n",
       "      <th></th>\n",
       "      <th>hypothesis</th>\n",
       "      <th>ICE</th>\n",
       "    </tr>\n",
       "  </thead>\n",
       "  <tbody>\n",
       "    <tr>\n",
       "      <th>8</th>\n",
       "      <td>Запустить акцию, дающую скидку на товар в день рождения</td>\n",
       "      <td>16.2</td>\n",
       "    </tr>\n",
       "    <tr>\n",
       "      <th>0</th>\n",
       "      <td>Добавить два новых канала привлечения трафика, что позволит привлекать на 30% больше пользователей</td>\n",
       "      <td>13.3</td>\n",
       "    </tr>\n",
       "    <tr>\n",
       "      <th>7</th>\n",
       "      <td>Добавить форму подписки на все основные страницы, чтобы собрать базу клиентов для email-рассылок</td>\n",
       "      <td>11.2</td>\n",
       "    </tr>\n",
       "    <tr>\n",
       "      <th>6</th>\n",
       "      <td>Показать на главной странице баннеры с актуальными акциями и распродажами, чтобы увеличить конверсию</td>\n",
       "      <td>8.0</td>\n",
       "    </tr>\n",
       "    <tr>\n",
       "      <th>2</th>\n",
       "      <td>Добавить блоки рекомендаций товаров на сайт интернет магазина, чтобы повысить конверсию и средний чек заказа</td>\n",
       "      <td>7.0</td>\n",
       "    </tr>\n",
       "    <tr>\n",
       "      <th>1</th>\n",
       "      <td>Запустить собственную службу доставки, что сократит срок доставки заказов</td>\n",
       "      <td>2.0</td>\n",
       "    </tr>\n",
       "    <tr>\n",
       "      <th>5</th>\n",
       "      <td>Добавить страницу отзывов клиентов о магазине, что позволит увеличить количество заказов</td>\n",
       "      <td>1.3</td>\n",
       "    </tr>\n",
       "    <tr>\n",
       "      <th>3</th>\n",
       "      <td>Изменить структура категорий, что увеличит конверсию, т.к. пользователи быстрее найдут нужный товар</td>\n",
       "      <td>1.1</td>\n",
       "    </tr>\n",
       "    <tr>\n",
       "      <th>4</th>\n",
       "      <td>Изменить цвет фона главной страницы, чтобы увеличить вовлеченность пользователей</td>\n",
       "      <td>1.0</td>\n",
       "    </tr>\n",
       "  </tbody>\n",
       "</table>\n",
       "</div>"
      ],
      "text/plain": [
       "                                                                                                     hypothesis  \\\n",
       "8                                                       Запустить акцию, дающую скидку на товар в день рождения   \n",
       "0            Добавить два новых канала привлечения трафика, что позволит привлекать на 30% больше пользователей   \n",
       "7              Добавить форму подписки на все основные страницы, чтобы собрать базу клиентов для email-рассылок   \n",
       "6          Показать на главной странице баннеры с актуальными акциями и распродажами, чтобы увеличить конверсию   \n",
       "2  Добавить блоки рекомендаций товаров на сайт интернет магазина, чтобы повысить конверсию и средний чек заказа   \n",
       "1                                     Запустить собственную службу доставки, что сократит срок доставки заказов   \n",
       "5                      Добавить страницу отзывов клиентов о магазине, что позволит увеличить количество заказов   \n",
       "3           Изменить структура категорий, что увеличит конверсию, т.к. пользователи быстрее найдут нужный товар   \n",
       "4                              Изменить цвет фона главной страницы, чтобы увеличить вовлеченность пользователей   \n",
       "\n",
       "    ICE  \n",
       "8  16.2  \n",
       "0  13.3  \n",
       "7  11.2  \n",
       "6   8.0  \n",
       "2   7.0  \n",
       "1   2.0  \n",
       "5   1.3  \n",
       "3   1.1  \n",
       "4   1.0  "
      ]
     },
     "execution_count": 13,
     "metadata": {},
     "output_type": "execute_result"
    }
   ],
   "source": [
    "# используем способ приоритизации задач ICE и отсортируем по приоритету\n",
    "hypothesis['ICE'] = (hypothesis['impact'] * hypothesis['confidence']) / hypothesis['efforts']\n",
    "round(hypothesis[['hypothesis', 'ICE']].sort_values(by = 'ICE', ascending = False), 1)"
   ]
  },
  {
   "cell_type": "markdown",
   "metadata": {},
   "source": [
    "Сформирована тройка лидеров, но без учета кол-ва пользователей которых затронет изменение."
   ]
  },
  {
   "cell_type": "code",
   "execution_count": 14,
   "metadata": {},
   "outputs": [
    {
     "data": {
      "text/html": [
       "<div>\n",
       "<style scoped>\n",
       "    .dataframe tbody tr th:only-of-type {\n",
       "        vertical-align: middle;\n",
       "    }\n",
       "\n",
       "    .dataframe tbody tr th {\n",
       "        vertical-align: top;\n",
       "    }\n",
       "\n",
       "    .dataframe thead th {\n",
       "        text-align: right;\n",
       "    }\n",
       "</style>\n",
       "<table border=\"1\" class=\"dataframe\">\n",
       "  <thead>\n",
       "    <tr style=\"text-align: right;\">\n",
       "      <th></th>\n",
       "      <th>hypothesis</th>\n",
       "      <th>RICE</th>\n",
       "    </tr>\n",
       "  </thead>\n",
       "  <tbody>\n",
       "    <tr>\n",
       "      <th>7</th>\n",
       "      <td>Добавить форму подписки на все основные страницы, чтобы собрать базу клиентов для email-рассылок</td>\n",
       "      <td>112.0</td>\n",
       "    </tr>\n",
       "    <tr>\n",
       "      <th>2</th>\n",
       "      <td>Добавить блоки рекомендаций товаров на сайт интернет магазина, чтобы повысить конверсию и средний чек заказа</td>\n",
       "      <td>56.0</td>\n",
       "    </tr>\n",
       "    <tr>\n",
       "      <th>0</th>\n",
       "      <td>Добавить два новых канала привлечения трафика, что позволит привлекать на 30% больше пользователей</td>\n",
       "      <td>40.0</td>\n",
       "    </tr>\n",
       "    <tr>\n",
       "      <th>6</th>\n",
       "      <td>Показать на главной странице баннеры с актуальными акциями и распродажами, чтобы увеличить конверсию</td>\n",
       "      <td>40.0</td>\n",
       "    </tr>\n",
       "    <tr>\n",
       "      <th>8</th>\n",
       "      <td>Запустить акцию, дающую скидку на товар в день рождения</td>\n",
       "      <td>16.2</td>\n",
       "    </tr>\n",
       "    <tr>\n",
       "      <th>3</th>\n",
       "      <td>Изменить структура категорий, что увеличит конверсию, т.к. пользователи быстрее найдут нужный товар</td>\n",
       "      <td>9.0</td>\n",
       "    </tr>\n",
       "    <tr>\n",
       "      <th>1</th>\n",
       "      <td>Запустить собственную службу доставки, что сократит срок доставки заказов</td>\n",
       "      <td>4.0</td>\n",
       "    </tr>\n",
       "    <tr>\n",
       "      <th>5</th>\n",
       "      <td>Добавить страницу отзывов клиентов о магазине, что позволит увеличить количество заказов</td>\n",
       "      <td>4.0</td>\n",
       "    </tr>\n",
       "    <tr>\n",
       "      <th>4</th>\n",
       "      <td>Изменить цвет фона главной страницы, чтобы увеличить вовлеченность пользователей</td>\n",
       "      <td>3.0</td>\n",
       "    </tr>\n",
       "  </tbody>\n",
       "</table>\n",
       "</div>"
      ],
      "text/plain": [
       "                                                                                                     hypothesis  \\\n",
       "7              Добавить форму подписки на все основные страницы, чтобы собрать базу клиентов для email-рассылок   \n",
       "2  Добавить блоки рекомендаций товаров на сайт интернет магазина, чтобы повысить конверсию и средний чек заказа   \n",
       "0            Добавить два новых канала привлечения трафика, что позволит привлекать на 30% больше пользователей   \n",
       "6          Показать на главной странице баннеры с актуальными акциями и распродажами, чтобы увеличить конверсию   \n",
       "8                                                       Запустить акцию, дающую скидку на товар в день рождения   \n",
       "3           Изменить структура категорий, что увеличит конверсию, т.к. пользователи быстрее найдут нужный товар   \n",
       "1                                     Запустить собственную службу доставки, что сократит срок доставки заказов   \n",
       "5                      Добавить страницу отзывов клиентов о магазине, что позволит увеличить количество заказов   \n",
       "4                              Изменить цвет фона главной страницы, чтобы увеличить вовлеченность пользователей   \n",
       "\n",
       "    RICE  \n",
       "7  112.0  \n",
       "2   56.0  \n",
       "0   40.0  \n",
       "6   40.0  \n",
       "8   16.2  \n",
       "3    9.0  \n",
       "1    4.0  \n",
       "5    4.0  \n",
       "4    3.0  "
      ]
     },
     "execution_count": 14,
     "metadata": {},
     "output_type": "execute_result"
    }
   ],
   "source": [
    "# используем способ приоритизации задач RICE и отсортируем по приоритету\n",
    "hypothesis['RICE'] = (hypothesis['reach'] * hypothesis['impact'] * hypothesis['confidence']) / hypothesis['efforts']\n",
    "round(hypothesis[['hypothesis', 'RICE']].sort_values(by = 'RICE', ascending = False), 1)"
   ]
  },
  {
   "cell_type": "markdown",
   "metadata": {},
   "source": [
    "Как мы можем заметить относительно способа ICE, в лидерах уже иная гипотеза, причем со значительным отрывом."
   ]
  },
  {
   "cell_type": "code",
   "execution_count": 15,
   "metadata": {},
   "outputs": [
    {
     "data": {
      "text/html": [
       "<div>\n",
       "<style scoped>\n",
       "    .dataframe tbody tr th:only-of-type {\n",
       "        vertical-align: middle;\n",
       "    }\n",
       "\n",
       "    .dataframe tbody tr th {\n",
       "        vertical-align: top;\n",
       "    }\n",
       "\n",
       "    .dataframe thead th {\n",
       "        text-align: right;\n",
       "    }\n",
       "</style>\n",
       "<table border=\"1\" class=\"dataframe\">\n",
       "  <thead>\n",
       "    <tr style=\"text-align: right;\">\n",
       "      <th></th>\n",
       "      <th>hypothesis</th>\n",
       "      <th>reach</th>\n",
       "      <th>ICE</th>\n",
       "      <th>RICE</th>\n",
       "    </tr>\n",
       "  </thead>\n",
       "  <tbody>\n",
       "    <tr>\n",
       "      <th>7</th>\n",
       "      <td>Добавить форму подписки на все основные страницы, чтобы собрать базу клиентов для email-рассылок</td>\n",
       "      <td>10</td>\n",
       "      <td>11.2</td>\n",
       "      <td>112.0</td>\n",
       "    </tr>\n",
       "    <tr>\n",
       "      <th>2</th>\n",
       "      <td>Добавить блоки рекомендаций товаров на сайт интернет магазина, чтобы повысить конверсию и средний чек заказа</td>\n",
       "      <td>8</td>\n",
       "      <td>7.0</td>\n",
       "      <td>56.0</td>\n",
       "    </tr>\n",
       "    <tr>\n",
       "      <th>0</th>\n",
       "      <td>Добавить два новых канала привлечения трафика, что позволит привлекать на 30% больше пользователей</td>\n",
       "      <td>3</td>\n",
       "      <td>13.3</td>\n",
       "      <td>40.0</td>\n",
       "    </tr>\n",
       "    <tr>\n",
       "      <th>6</th>\n",
       "      <td>Показать на главной странице баннеры с актуальными акциями и распродажами, чтобы увеличить конверсию</td>\n",
       "      <td>5</td>\n",
       "      <td>8.0</td>\n",
       "      <td>40.0</td>\n",
       "    </tr>\n",
       "    <tr>\n",
       "      <th>8</th>\n",
       "      <td>Запустить акцию, дающую скидку на товар в день рождения</td>\n",
       "      <td>1</td>\n",
       "      <td>16.2</td>\n",
       "      <td>16.2</td>\n",
       "    </tr>\n",
       "    <tr>\n",
       "      <th>3</th>\n",
       "      <td>Изменить структура категорий, что увеличит конверсию, т.к. пользователи быстрее найдут нужный товар</td>\n",
       "      <td>8</td>\n",
       "      <td>1.1</td>\n",
       "      <td>9.0</td>\n",
       "    </tr>\n",
       "    <tr>\n",
       "      <th>1</th>\n",
       "      <td>Запустить собственную службу доставки, что сократит срок доставки заказов</td>\n",
       "      <td>2</td>\n",
       "      <td>2.0</td>\n",
       "      <td>4.0</td>\n",
       "    </tr>\n",
       "    <tr>\n",
       "      <th>5</th>\n",
       "      <td>Добавить страницу отзывов клиентов о магазине, что позволит увеличить количество заказов</td>\n",
       "      <td>3</td>\n",
       "      <td>1.3</td>\n",
       "      <td>4.0</td>\n",
       "    </tr>\n",
       "    <tr>\n",
       "      <th>4</th>\n",
       "      <td>Изменить цвет фона главной страницы, чтобы увеличить вовлеченность пользователей</td>\n",
       "      <td>3</td>\n",
       "      <td>1.0</td>\n",
       "      <td>3.0</td>\n",
       "    </tr>\n",
       "  </tbody>\n",
       "</table>\n",
       "</div>"
      ],
      "text/plain": [
       "                                                                                                     hypothesis  \\\n",
       "7              Добавить форму подписки на все основные страницы, чтобы собрать базу клиентов для email-рассылок   \n",
       "2  Добавить блоки рекомендаций товаров на сайт интернет магазина, чтобы повысить конверсию и средний чек заказа   \n",
       "0            Добавить два новых канала привлечения трафика, что позволит привлекать на 30% больше пользователей   \n",
       "6          Показать на главной странице баннеры с актуальными акциями и распродажами, чтобы увеличить конверсию   \n",
       "8                                                       Запустить акцию, дающую скидку на товар в день рождения   \n",
       "3           Изменить структура категорий, что увеличит конверсию, т.к. пользователи быстрее найдут нужный товар   \n",
       "1                                     Запустить собственную службу доставки, что сократит срок доставки заказов   \n",
       "5                      Добавить страницу отзывов клиентов о магазине, что позволит увеличить количество заказов   \n",
       "4                              Изменить цвет фона главной страницы, чтобы увеличить вовлеченность пользователей   \n",
       "\n",
       "   reach   ICE   RICE  \n",
       "7     10  11.2  112.0  \n",
       "2      8   7.0   56.0  \n",
       "0      3  13.3   40.0  \n",
       "6      5   8.0   40.0  \n",
       "8      1  16.2   16.2  \n",
       "3      8   1.1    9.0  \n",
       "1      2   2.0    4.0  \n",
       "5      3   1.3    4.0  \n",
       "4      3   1.0    3.0  "
      ]
     },
     "execution_count": 15,
     "metadata": {},
     "output_type": "execute_result"
    }
   ],
   "source": [
    "# отсортируем именно по RICE \n",
    "round(hypothesis[['hypothesis', 'reach','ICE', 'RICE']].sort_values(by = 'RICE', ascending = False), 1)"
   ]
  },
  {
   "cell_type": "markdown",
   "metadata": {},
   "source": [
    "#### Вывод"
   ]
  },
  {
   "cell_type": "markdown",
   "metadata": {},
   "source": [
    "- После использования 2х, наиболее популярных способов по приоритизация гипотез мы получили явную 5ку лидеров\n",
    "- Как мы можем заметить из общей таблицы лидеры гипотез меняются в зависимости от способа приоритизации - это связано с тем, что когда мы учитываем скольких пользователей затронет изменение меняется и рейтинг гипотез."
   ]
  },
  {
   "cell_type": "markdown",
   "metadata": {},
   "source": [
    "### Анализ A/B-теста."
   ]
  },
  {
   "cell_type": "markdown",
   "metadata": {},
   "source": [
    "#### Построим график кумулятивной выручки по группам."
   ]
  },
  {
   "cell_type": "code",
   "execution_count": 16,
   "metadata": {},
   "outputs": [],
   "source": [
    "# создадим уникальные пары с датой, когда был совершён заказ и группой A/B-теста, в которую попал заказ.\n",
    "datesGroups = orders[['date', 'group']].drop_duplicates()"
   ]
  },
  {
   "cell_type": "markdown",
   "metadata": {},
   "source": [
    "Далее собирем агрегированные кумулятивные данные по дням о заказах и пользователях, чтобы после объединить в 1 таблицу."
   ]
  },
  {
   "cell_type": "code",
   "execution_count": 17,
   "metadata": {},
   "outputs": [],
   "source": [
    "# найдем сумму выручки по группам с уникальными id и датами.\n",
    "ordersAggregated = datesGroups.apply(\n",
    "    lambda x: orders[np.logical_and(orders['date'] <= x['date'], orders['group'] == x['group'])].agg({\n",
    "'date' : 'max',\n",
    "'group' : 'max',\n",
    "'transactionId' : pd.Series.nunique,\n",
    "'visitorId' : pd.Series.nunique,\n",
    "'revenue' : 'sum'}), axis=1).sort_values(by=['date','group'])"
   ]
  },
  {
   "cell_type": "code",
   "execution_count": 18,
   "metadata": {},
   "outputs": [],
   "source": [
    "# получаем кол-во пользователей по группам. \n",
    "visitorsAggregated = datesGroups.apply(lambda x: visitors[np.logical_and(visitors['date'] <= x['date'], visitors['group'] == x['group'])].agg({'date' : 'max', 'group' : 'max', 'visitors' : 'sum'}), axis=1).sort_values(by=['date','group'])"
   ]
  },
  {
   "cell_type": "code",
   "execution_count": 19,
   "metadata": {},
   "outputs": [],
   "source": [
    "# объединяем данные для формирования необходимого графика.\n",
    "cumulativeData = ordersAggregated.merge(visitorsAggregated, left_on=['date', 'group'], right_on=['date', 'group'])\n",
    "cumulativeData.columns = ['date', 'group', 'orders', 'buyers', 'revenue', 'visitors']\n",
    " # cumulativeData.head(5) # check"
   ]
  },
  {
   "cell_type": "markdown",
   "metadata": {},
   "source": [
    "- Получили таблицу для каждой группы теста со следующими данными:\n",
    " * Дата (date)\n",
    " * Группа (group)\n",
    " * Кумулятивное количество заказов (orders)\n",
    " * Кумулятивное количество пользователей (buyers)\n",
    " * Кумулятивная выручка (revenue)\n",
    " * Кумулятивное количество посетителей (visitors)"
   ]
  },
  {
   "cell_type": "code",
   "execution_count": 20,
   "metadata": {},
   "outputs": [
    {
     "data": {
      "image/png": "[encoded data removed]",
      "text/plain": [
       "<Figure size 432x288 with 1 Axes>"
      ]
     },
     "metadata": {
      "needs_background": "light"
     },
     "output_type": "display_data"
    }
   ],
   "source": [
    "# датафреймы с кумулятивным количеством заказов и кумулятивной выручкой по дням в группах А и B\n",
    "cumulativeRevenueA = cumulativeData[cumulativeData['group']=='A'][['date','revenue', 'orders', 'visitors']]\n",
    "cumulativeRevenueB = cumulativeData[cumulativeData['group']=='B'][['date','revenue', 'orders', 'visitors']]\n",
    "\n",
    "# строим графики выручки групп А и В\n",
    "plt.plot(cumulativeRevenueA['date'], cumulativeRevenueA['revenue'], label= 'A')\n",
    "plt.plot(cumulativeRevenueB['date'], cumulativeRevenueB['revenue'], label= 'B')\n",
    "plt.xticks(rotation=45)\n",
    "plt.xlabel(\"Дата\")\n",
    "plt.ylabel(\"Выручка\")\n",
    "plt.title('График кумулятивной выручки по группам')\n",
    "\n",
    "plt.legend()\n",
    "plt.show()"
   ]
  },
  {
   "cell_type": "markdown",
   "metadata": {},
   "source": [
    "- В течение всего теста выручка по каждой группе увеличивается;\n",
    "- График выручки в группе А растет равномерно в течение всего теста;\n",
    "- График в группе В рос равномерно до 17.08.2019, далее последовал резкий скачок из чего можем сделать предположение, что в данный период был либо резкий скачок по кол-ву заказов, либо появление очень дорогих заказов.\n",
    "----------\n",
    "* Далее рассмотрим подробнее в связи с чем может быть связан такой резкий скачок. "
   ]
  },
  {
   "cell_type": "markdown",
   "metadata": {},
   "source": [
    "#### График кумулятивного среднего чека по группам."
   ]
  },
  {
   "cell_type": "code",
   "execution_count": 21,
   "metadata": {
    "scrolled": true
   },
   "outputs": [
    {
     "data": {
      "image/png": "[encoded data removed]",
      "text/plain": [
       "<Figure size 432x288 with 1 Axes>"
      ]
     },
     "metadata": {
      "needs_background": "light"
     },
     "output_type": "display_data"
    }
   ],
   "source": [
    "# получаем график кумулятивного среднего чека\n",
    "plt.plot(cumulativeRevenueA['date'], cumulativeRevenueA['revenue'] / cumulativeRevenueA['orders'], label='A')\n",
    "plt.plot(cumulativeRevenueB['date'], cumulativeRevenueB['revenue'] / cumulativeRevenueB['orders'], label='B')\n",
    "plt.xticks(rotation=45)\n",
    "plt.xlabel(\"Дата\")\n",
    "plt.ylabel(\"Средний чек\")\n",
    "plt.title('График кумулятивного среднего чека по группам')\n",
    "plt.legend()\n",
    "plt.show()"
   ]
  },
  {
   "cell_type": "markdown",
   "metadata": {},
   "source": [
    "- Как мы можем увидеть из графика колебания все еще велики и пока рано делать выводы из получившихся результатов.\n",
    "- В группе А резкий скачок наблюдается - 05.08.2019, а в В, как и ранее 17.08.2019."
   ]
  },
  {
   "cell_type": "markdown",
   "metadata": {},
   "source": [
    "#### График относительного изменения кумулятивного среднего чека группы B к группе A."
   ]
  },
  {
   "cell_type": "code",
   "execution_count": 22,
   "metadata": {},
   "outputs": [
    {
     "data": {
      "image/png": "[encoded data removed]",
      "text/plain": [
       "<Figure size 432x288 with 1 Axes>"
      ]
     },
     "metadata": {
      "needs_background": "light"
     },
     "output_type": "display_data"
    }
   ],
   "source": [
    "# строим график относительного изменения.\n",
    "mergedCumulativeRevenue = cumulativeRevenueA.merge(cumulativeRevenueB, left_on = 'date', right_on = 'date', how = 'left', suffixes=['A', 'B'])\n",
    "plt.plot(mergedCumulativeRevenue['date'], (mergedCumulativeRevenue['revenueB']/mergedCumulativeRevenue['ordersB'])/(mergedCumulativeRevenue['revenueA']/mergedCumulativeRevenue['ordersA'])-1)\n",
    "plt.xticks(rotation=45)\n",
    "plt.xlabel(\"Дата\")\n",
    "plt.ylabel(\"Соотношение средних чеков\")\n",
    "plt.title('График относительного изменения кумулятивного среднего чека между группами.')\n",
    "plt.axhline(y=0, color='red', linestyle = '--')\n",
    "plt.show()"
   ]
  },
  {
   "cell_type": "markdown",
   "metadata": {},
   "source": [
    "* Как мы видим в графике присутствуют резкие колебания, скорее всего в эти даты и были аномалии;\n",
    "* Будем искать выбросы."
   ]
  },
  {
   "cell_type": "markdown",
   "metadata": {},
   "source": [
    "#### График кумулятивного среднего количества заказов на посетителя по группам."
   ]
  },
  {
   "cell_type": "code",
   "execution_count": 23,
   "metadata": {},
   "outputs": [
    {
     "data": {
      "image/png": "[encoded data removed]",
      "text/plain": [
       "<Figure size 432x288 with 1 Axes>"
      ]
     },
     "metadata": {
      "needs_background": "light"
     },
     "output_type": "display_data"
    }
   ],
   "source": [
    "# получаем данные по кол-ву среднего кол-ва заказов.\n",
    "plt.plot(cumulativeRevenueA['date'], cumulativeRevenueA['orders'] / cumulativeRevenueA['visitors'], label='A')\n",
    "plt.plot(cumulativeRevenueB['date'], cumulativeRevenueB['orders'] / cumulativeRevenueB['visitors'], label='B')\n",
    "plt.xticks(rotation=45)\n",
    "plt.xlabel('Дата')\n",
    "plt.ylabel('Среднее по заказам')\n",
    "plt.title('График кумулятивного среднего количества заказов')\n",
    "plt.legend()\n",
    "plt.show()"
   ]
  },
  {
   "cell_type": "markdown",
   "metadata": {},
   "source": [
    "Как мы можем заметить на графиках очень сильные различия. При резком скачке в районе 01.08.2019 последовал резкий обвал, однако после 05.08.2019 в группе B был отскок. Тогда в группе А мы наблюдаем стабильное снижение и стабилизацию."
   ]
  },
  {
   "cell_type": "markdown",
   "metadata": {},
   "source": [
    "#### График относительного изменения кумулятивного среднего количества заказов на посетителя группы B к группе A."
   ]
  },
  {
   "cell_type": "code",
   "execution_count": 24,
   "metadata": {},
   "outputs": [
    {
     "data": {
      "image/png": "[encoded data removed]",
      "text/plain": [
       "<Figure size 432x288 with 1 Axes>"
      ]
     },
     "metadata": {
      "needs_background": "light"
     },
     "output_type": "display_data"
    }
   ],
   "source": [
    "# формируем график относительного изменения.\n",
    "mergedCumulativeRevenue = cumulativeRevenueA.merge(cumulativeRevenueB, left_on = 'date', right_on = 'date', how = 'left', suffixes=['A', 'B'])\n",
    "plt.plot(mergedCumulativeRevenue['date'], (mergedCumulativeRevenue['ordersB']/mergedCumulativeRevenue['visitorsB'])/(mergedCumulativeRevenue['ordersA']/mergedCumulativeRevenue['visitorsA'])-1)\n",
    "plt.xticks(rotation=45)\n",
    "plt.xlabel(\"Дата\")\n",
    "plt.ylabel(\"Соотношение средних чеков\")\n",
    "plt.title('График относительного изменения кумулятивного среднего чека между группами.')\n",
    "plt.axhline(y=0, color='red', linestyle = '--')\n",
    "plt.show()"
   ]
  },
  {
   "cell_type": "markdown",
   "metadata": {},
   "source": [
    "Можем заметить, что группа \"В\" показывает себя гораздо увереннее в сравнении с \"А\", хоть и график резко скачет, что может указывать на выбросы."
   ]
  },
  {
   "cell_type": "markdown",
   "metadata": {},
   "source": [
    "#### Точечный график количества заказов по пользователям."
   ]
  },
  {
   "cell_type": "code",
   "execution_count": 25,
   "metadata": {},
   "outputs": [],
   "source": [
    "# групируем данные заказов по пользователям.\n",
    "ordersByUsers = (\n",
    "    orders.groupby('visitorId', as_index=False)\n",
    "    .agg({'transactionId': 'nunique'})\n",
    ")\n",
    "ordersByUsers.columns = ['visitorId', 'order']"
   ]
  },
  {
   "cell_type": "code",
   "execution_count": 26,
   "metadata": {},
   "outputs": [
    {
     "data": {
      "image/png": "[encoded data removed]",
      "text/plain": [
       "<Figure size 432x288 with 1 Axes>"
      ]
     },
     "metadata": {
      "needs_background": "light"
     },
     "output_type": "display_data"
    }
   ],
   "source": [
    "# строим график по кол-ву заказов\n",
    "x_values = pd.Series(range(0, len(ordersByUsers)))\n",
    "plt.scatter(x_values, ordersByUsers['order'])\n",
    "plt.xlabel('Кол-во пользователей')\n",
    "plt.ylabel('Кол-во заказов')\n",
    "plt.title('График количества заказов по пользователям')\n",
    "plt.show()"
   ]
  },
  {
   "cell_type": "markdown",
   "metadata": {},
   "source": [
    "- Из графика видно, что пользователей сделавших 1-2 заказов львиная доля; \n",
    "- Есть пользователи совершившие более 5 заказов. "
   ]
  },
  {
   "cell_type": "markdown",
   "metadata": {},
   "source": [
    "#### Посчитаем 95-й и 99-й перцентили количества заказов на пользователя."
   ]
  },
  {
   "cell_type": "code",
   "execution_count": 27,
   "metadata": {},
   "outputs": [
    {
     "data": {
      "text/html": [
       "<div>\n",
       "<style scoped>\n",
       "    .dataframe tbody tr th:only-of-type {\n",
       "        vertical-align: middle;\n",
       "    }\n",
       "\n",
       "    .dataframe tbody tr th {\n",
       "        vertical-align: top;\n",
       "    }\n",
       "\n",
       "    .dataframe thead th {\n",
       "        text-align: right;\n",
       "    }\n",
       "</style>\n",
       "<table border=\"1\" class=\"dataframe\">\n",
       "  <thead>\n",
       "    <tr style=\"text-align: right;\">\n",
       "      <th></th>\n",
       "      <th>visitorId</th>\n",
       "      <th>order</th>\n",
       "    </tr>\n",
       "  </thead>\n",
       "  <tbody>\n",
       "    <tr>\n",
       "      <th>908</th>\n",
       "      <td>3967698036</td>\n",
       "      <td>3</td>\n",
       "    </tr>\n",
       "    <tr>\n",
       "      <th>55</th>\n",
       "      <td>249864742</td>\n",
       "      <td>3</td>\n",
       "    </tr>\n",
       "    <tr>\n",
       "      <th>478</th>\n",
       "      <td>2108163459</td>\n",
       "      <td>3</td>\n",
       "    </tr>\n",
       "    <tr>\n",
       "      <th>687</th>\n",
       "      <td>2988190573</td>\n",
       "      <td>3</td>\n",
       "    </tr>\n",
       "    <tr>\n",
       "      <th>890</th>\n",
       "      <td>3908431265</td>\n",
       "      <td>3</td>\n",
       "    </tr>\n",
       "    <tr>\n",
       "      <th>138</th>\n",
       "      <td>611059232</td>\n",
       "      <td>3</td>\n",
       "    </tr>\n",
       "    <tr>\n",
       "      <th>632</th>\n",
       "      <td>2742574263</td>\n",
       "      <td>3</td>\n",
       "    </tr>\n",
       "    <tr>\n",
       "      <th>157</th>\n",
       "      <td>678354126</td>\n",
       "      <td>2</td>\n",
       "    </tr>\n",
       "    <tr>\n",
       "      <th>323</th>\n",
       "      <td>1404560065</td>\n",
       "      <td>2</td>\n",
       "    </tr>\n",
       "    <tr>\n",
       "      <th>452</th>\n",
       "      <td>1985475298</td>\n",
       "      <td>2</td>\n",
       "    </tr>\n",
       "  </tbody>\n",
       "</table>\n",
       "</div>"
      ],
      "text/plain": [
       "      visitorId  order\n",
       "908  3967698036      3\n",
       "55    249864742      3\n",
       "478  2108163459      3\n",
       "687  2988190573      3\n",
       "890  3908431265      3\n",
       "138   611059232      3\n",
       "632  2742574263      3\n",
       "157   678354126      2\n",
       "323  1404560065      2\n",
       "452  1985475298      2"
      ]
     },
     "execution_count": 27,
     "metadata": {},
     "output_type": "execute_result"
    }
   ],
   "source": [
    "# сортируем по кол-ву заказов\n",
    "ordersByUsers.sort_values(by='order', ascending=False).head(10)"
   ]
  },
  {
   "cell_type": "code",
   "execution_count": 28,
   "metadata": {},
   "outputs": [
    {
     "data": {
      "text/plain": [
       "array([1., 2.])"
      ]
     },
     "execution_count": 28,
     "metadata": {},
     "output_type": "execute_result"
    }
   ],
   "source": [
    "np.percentile(ordersByUsers['order'], [95, 99])"
   ]
  },
  {
   "cell_type": "markdown",
   "metadata": {},
   "source": [
    "* Определяем, что в 95% случаев кол-во заказов не более 1;\n",
    "* Определяем, что в 99% случаев кол-во заказов не более 2;\n",
    "* Рамки определены 95% и 99%.\n",
    "---- \n",
    "Как фильтр аномалий примем, что в 95% случаев кол-во заказов не более 1ого."
   ]
  },
  {
   "cell_type": "markdown",
   "metadata": {},
   "source": [
    "#### Построим точечный график стоимостей заказов."
   ]
  },
  {
   "cell_type": "code",
   "execution_count": 29,
   "metadata": {},
   "outputs": [
    {
     "data": {
      "text/html": [
       "<div>\n",
       "<style scoped>\n",
       "    .dataframe tbody tr th:only-of-type {\n",
       "        vertical-align: middle;\n",
       "    }\n",
       "\n",
       "    .dataframe tbody tr th {\n",
       "        vertical-align: top;\n",
       "    }\n",
       "\n",
       "    .dataframe thead th {\n",
       "        text-align: right;\n",
       "    }\n",
       "</style>\n",
       "<table border=\"1\" class=\"dataframe\">\n",
       "  <thead>\n",
       "    <tr style=\"text-align: right;\">\n",
       "      <th></th>\n",
       "      <th>transactionId</th>\n",
       "      <th>visitorId</th>\n",
       "      <th>date</th>\n",
       "      <th>revenue</th>\n",
       "      <th>group</th>\n",
       "    </tr>\n",
       "  </thead>\n",
       "  <tbody>\n",
       "    <tr>\n",
       "      <th>425</th>\n",
       "      <td>590470918</td>\n",
       "      <td>1920142716</td>\n",
       "      <td>2019-08-19</td>\n",
       "      <td>1294500</td>\n",
       "      <td>B</td>\n",
       "    </tr>\n",
       "    <tr>\n",
       "      <th>1196</th>\n",
       "      <td>3936777065</td>\n",
       "      <td>2108080724</td>\n",
       "      <td>2019-08-15</td>\n",
       "      <td>202740</td>\n",
       "      <td>B</td>\n",
       "    </tr>\n",
       "    <tr>\n",
       "      <th>1136</th>\n",
       "      <td>666610489</td>\n",
       "      <td>1307669133</td>\n",
       "      <td>2019-08-13</td>\n",
       "      <td>92550</td>\n",
       "      <td>A</td>\n",
       "    </tr>\n",
       "    <tr>\n",
       "      <th>744</th>\n",
       "      <td>3668308183</td>\n",
       "      <td>888512513</td>\n",
       "      <td>2019-08-27</td>\n",
       "      <td>86620</td>\n",
       "      <td>B</td>\n",
       "    </tr>\n",
       "    <tr>\n",
       "      <th>743</th>\n",
       "      <td>3603576309</td>\n",
       "      <td>4133034833</td>\n",
       "      <td>2019-08-09</td>\n",
       "      <td>67990</td>\n",
       "      <td>A</td>\n",
       "    </tr>\n",
       "    <tr>\n",
       "      <th>1103</th>\n",
       "      <td>1348774318</td>\n",
       "      <td>1164614297</td>\n",
       "      <td>2019-08-12</td>\n",
       "      <td>66350</td>\n",
       "      <td>A</td>\n",
       "    </tr>\n",
       "    <tr>\n",
       "      <th>1099</th>\n",
       "      <td>316924019</td>\n",
       "      <td>148427295</td>\n",
       "      <td>2019-08-12</td>\n",
       "      <td>65710</td>\n",
       "      <td>A</td>\n",
       "    </tr>\n",
       "    <tr>\n",
       "      <th>949</th>\n",
       "      <td>1347999392</td>\n",
       "      <td>887908475</td>\n",
       "      <td>2019-08-21</td>\n",
       "      <td>60450</td>\n",
       "      <td>A</td>\n",
       "    </tr>\n",
       "    <tr>\n",
       "      <th>940</th>\n",
       "      <td>2420050534</td>\n",
       "      <td>4003628586</td>\n",
       "      <td>2019-08-08</td>\n",
       "      <td>58550</td>\n",
       "      <td>B</td>\n",
       "    </tr>\n",
       "    <tr>\n",
       "      <th>131</th>\n",
       "      <td>3163614039</td>\n",
       "      <td>2254586615</td>\n",
       "      <td>2019-08-22</td>\n",
       "      <td>53904</td>\n",
       "      <td>A</td>\n",
       "    </tr>\n",
       "  </tbody>\n",
       "</table>\n",
       "</div>"
      ],
      "text/plain": [
       "      transactionId   visitorId       date  revenue group\n",
       "425       590470918  1920142716 2019-08-19  1294500     B\n",
       "1196     3936777065  2108080724 2019-08-15   202740     B\n",
       "1136      666610489  1307669133 2019-08-13    92550     A\n",
       "744      3668308183   888512513 2019-08-27    86620     B\n",
       "743      3603576309  4133034833 2019-08-09    67990     A\n",
       "1103     1348774318  1164614297 2019-08-12    66350     A\n",
       "1099      316924019   148427295 2019-08-12    65710     A\n",
       "949      1347999392   887908475 2019-08-21    60450     A\n",
       "940      2420050534  4003628586 2019-08-08    58550     B\n",
       "131      3163614039  2254586615 2019-08-22    53904     A"
      ]
     },
     "execution_count": 29,
     "metadata": {},
     "output_type": "execute_result"
    }
   ],
   "source": [
    "# отсортируем по стоимости заказов\n",
    "orders.sort_values(by='revenue', ascending=False).head(10)"
   ]
  },
  {
   "cell_type": "code",
   "execution_count": 30,
   "metadata": {
    "scrolled": true
   },
   "outputs": [
    {
     "data": {
      "image/png": "[encoded data removed]",
      "text/plain": [
       "<Figure size 432x288 with 1 Axes>"
      ]
     },
     "metadata": {
      "needs_background": "light"
     },
     "output_type": "display_data"
    }
   ],
   "source": [
    "# строим точечный график стоимости заказов\n",
    "x_values = pd.Series(range(0, len(orders['revenue'])))\n",
    "plt.scatter(x_values, orders['revenue'])\n",
    "plt.xlabel('Кол-во пользователей')\n",
    "plt.ylabel('Стоимость')\n",
    "plt.title('График стоимостей заказов')\n",
    "plt.show()"
   ]
  },
  {
   "cell_type": "markdown",
   "metadata": {},
   "source": [
    "- Можем заметить, что самые крупные заказы были сделаны в группе \"В\";\n",
    "- Отметим 2 наиболее крупных выброса с аномальными заказами."
   ]
  },
  {
   "cell_type": "code",
   "execution_count": 31,
   "metadata": {},
   "outputs": [
    {
     "data": {
      "image/png": "[encoded data removed]",
      "text/plain": [
       "<Figure size 432x288 with 1 Axes>"
      ]
     },
     "metadata": {
      "needs_background": "light"
     },
     "output_type": "display_data"
    }
   ],
   "source": [
    "# строим точечный график стоимости заказов\n",
    "x_values = pd.Series(range(0, len(orders['revenue'])))\n",
    "plt.scatter(x_values, orders['revenue'])\n",
    "plt.xlabel('Кол-во пользователей')\n",
    "plt.ylabel('Стоимость')\n",
    "plt.title('График стоимостей заказов')\n",
    "plt.axis([0, 1150, 0, 200000])\n",
    "plt.show()"
   ]
  },
  {
   "cell_type": "markdown",
   "metadata": {},
   "source": [
    "- Убрав крупнейшие траты, отметим, что заказов более 100Т нет;\n",
    "- Редкий заказ бывает более 25Т."
   ]
  },
  {
   "cell_type": "markdown",
   "metadata": {},
   "source": [
    "#### Посчитаем 95-й и 99-й перцентили стоимости заказов."
   ]
  },
  {
   "cell_type": "code",
   "execution_count": 32,
   "metadata": {},
   "outputs": [
    {
     "data": {
      "text/plain": [
       "array([26785., 53904.])"
      ]
     },
     "execution_count": 32,
     "metadata": {},
     "output_type": "execute_result"
    }
   ],
   "source": [
    "np.percentile(orders['revenue'], [95, 99])"
   ]
  },
  {
   "cell_type": "markdown",
   "metadata": {},
   "source": [
    "- Определяем, что в 95% случаев стоимость заказа не превышает стоимости в 26785 руб;\n",
    "- Определяем, что в 99% случаев стоимость заказа не превышает стоимости в 53904 руб;\n",
    "- Рамки определены 95% и 99%. \n",
    "---\n",
    "Как фильтр аномалий примем, что в 95% случаев стоимость заказов не превышает 26785 руб. "
   ]
  },
  {
   "cell_type": "markdown",
   "metadata": {},
   "source": [
    "#### Посчитайтаем статистическую значимость различий в среднем количестве заказов на посетителя между группами. "
   ]
  },
  {
   "cell_type": "markdown",
   "metadata": {},
   "source": [
    "Формулируем гипотезы:\n",
    "\n",
    "- H0: По \"сырым\" данным в среднем количестве заказов на посетителя между группами \"А\" и \"В\" разница статистически значима.\n",
    "- H1: По \"сырым\" данным в среднем количестве заказов на посетителя между группами \"А\" и \"В\" разница статистически незначима.\n",
    "- alpha = 0.05 "
   ]
  },
  {
   "cell_type": "code",
   "execution_count": 33,
   "metadata": {},
   "outputs": [],
   "source": [
    "# получаем данные, где пользователи совершили хотя бы 1 заказ для группы \"А\"\n",
    "ordersByUsersA = (\n",
    "    orders[orders['group'] == 'A']\n",
    "    .groupby('visitorId', as_index = False)\n",
    "    .agg({'transactionId': pd.Series.nunique})\n",
    ")\n",
    "ordersByUsersA.columns = ['visitorId', 'orders']"
   ]
  },
  {
   "cell_type": "code",
   "execution_count": 34,
   "metadata": {},
   "outputs": [],
   "source": [
    "# получаем данные, где пользователи совершили хотя бы 1 заказ для группы \"В\"\n",
    "ordersByUsersB = (\n",
    "    orders[orders['group'] == 'B']\n",
    "    .groupby('visitorId', as_index=False)\n",
    "    .agg({'transactionId': pd.Series.nunique})\n",
    ")\n",
    "ordersByUsersB.columns = ['visitorId', 'orders']"
   ]
  },
  {
   "cell_type": "code",
   "execution_count": 35,
   "metadata": {},
   "outputs": [],
   "source": [
    "# получаем данные, где пользователю соответствует кол-во заказов в группе \"А\". \n",
    "sampleA = pd.concat(\n",
    "    [ordersByUsersA['orders'], pd.Series(0, index=np.arange(visitors['visitors']\n",
    "                                                            .sum() - len(ordersByUsersA['orders'])), name = 'orders')], axis = 0)"
   ]
  },
  {
   "cell_type": "code",
   "execution_count": 36,
   "metadata": {},
   "outputs": [],
   "source": [
    "# получаем данные, где пользователю соответсвует кол-во заказов в группе \"В\". \n",
    "sampleB = pd.concat(\n",
    "    [ordersByUsersB['orders'], pd.Series(0, index=np.arange(visitors['visitors']\n",
    "                                                            .sum() - len(ordersByUsersB['orders'])), name = 'orders')], axis = 0)"
   ]
  },
  {
   "cell_type": "code",
   "execution_count": 37,
   "metadata": {},
   "outputs": [
    {
     "name": "stdout",
     "output_type": "stream",
     "text": [
      "alpha = 0.05\n",
      "p-value = 0.00743\n"
     ]
    }
   ],
   "source": [
    "# получаем p-value\n",
    "print('alpha = 0.05')\n",
    "print(f'p-value = {\"{0:.5f}\".format(st.mannwhitneyu(sampleA, sampleB)[1])}')"
   ]
  },
  {
   "cell_type": "code",
   "execution_count": 38,
   "metadata": {},
   "outputs": [
    {
     "name": "stdout",
     "output_type": "stream",
     "text": [
      "Относительный прирост группы \"В\" = 0.171\n"
     ]
    }
   ],
   "source": [
    "# просчитываем относительный прирост\n",
    "print(f'Относительный прирост группы \"В\" = {\"{0:.3f}\".format(sampleB.mean() / sampleA.mean() - 1)}')"
   ]
  },
  {
   "cell_type": "markdown",
   "metadata": {},
   "source": [
    "- p-value = 0.00743, что менее установленного критического уровня статистической значимости из чего следует разница статистически значима.\n",
    "- Относительный прирост группы \"В\" к группе \"А\" равен 17.1%."
   ]
  },
  {
   "cell_type": "markdown",
   "metadata": {},
   "source": [
    "#### Посчитаем статистическую значимость различий в среднем чеке заказа между группами по «сырым» данным."
   ]
  },
  {
   "cell_type": "markdown",
   "metadata": {},
   "source": [
    "Формулируем гипотезы:\n",
    "\n",
    "- H0: По \"сырым\" данным в среднем чеке заказов на между группами \"А\" и \"В\" разница статистически значима.\n",
    "- H1: По \"сырым\" данным в среднем чеке заказов на между группами \"А\" и \"В\" разница статистически незначима.\n",
    "- alpha = 0.05"
   ]
  },
  {
   "cell_type": "code",
   "execution_count": 39,
   "metadata": {},
   "outputs": [
    {
     "name": "stdout",
     "output_type": "stream",
     "text": [
      "alpha = 0.05\n",
      "p-value = 0.829\n"
     ]
    }
   ],
   "source": [
    "# получаем p-value\n",
    "print('alpha = 0.05')\n",
    "print(f'p-value = {\"{0:.3f}\".format(st.mannwhitneyu(orders[orders[\"group\"]==\"A\"][\"revenue\"], orders[orders[\"group\"]==\"B\"][\"revenue\"])[1])}')"
   ]
  },
  {
   "cell_type": "code",
   "execution_count": 40,
   "metadata": {},
   "outputs": [
    {
     "name": "stdout",
     "output_type": "stream",
     "text": [
      "Относительный прирост группы \"В\" = 0.287\n"
     ]
    }
   ],
   "source": [
    "# просчитываем относительный прирост\n",
    "print(f'Относительный прирост группы \"В\" = {\"{0:.3f}\".format(orders[orders[\"group\"]==\"B\"][\"revenue\"].mean()/orders[orders[\"group\"]==\"A\"][\"revenue\"].mean()-1)}')"
   ]
  },
  {
   "cell_type": "markdown",
   "metadata": {},
   "source": [
    "- p-value = 0.829, что более установленного критического уровня статистической значимости, значит мы можем отвергнуть гипотезу - Н0 и предположить, что разница статистически незначима.\n",
    "- Относительный прирост группы \"В\" к группе \"А\" равен 28.7%, но с пометкой на то, что именно в группе \"В\" самые крупные заказы. "
   ]
  },
  {
   "cell_type": "markdown",
   "metadata": {},
   "source": [
    "#### Получим данные для \"очистки\"."
   ]
  },
  {
   "cell_type": "code",
   "execution_count": 41,
   "metadata": {},
   "outputs": [],
   "source": [
    "# фильтруем по пользователям.                  \n",
    "usersWithManyOrders = pd.concat(\n",
    "    [\n",
    "        ordersByUsersA[ordersByUsersA['orders'] > np.percentile(ordersByUsers['order'], 95)]['visitorId'],\n",
    "        ordersByUsersB[ordersByUsersB['orders'] > np.percentile(ordersByUsers['order'], 95)]['visitorId'],\n",
    "    ],\n",
    "    axis=0,\n",
    ")"
   ]
  },
  {
   "cell_type": "code",
   "execution_count": 42,
   "metadata": {},
   "outputs": [],
   "source": [
    "# фильтруем по стоимости.\n",
    "usersWithExpensiveOrders = orders[orders['revenue'] > np.percentile(orders['revenue'], 95)]['visitorId']\n",
    "abnormalUsers = (\n",
    "    pd.concat([usersWithManyOrders, usersWithExpensiveOrders], axis = 0)\n",
    "    .drop_duplicates()\n",
    "    .sort_values()\n",
    ")"
   ]
  },
  {
   "cell_type": "code",
   "execution_count": 43,
   "metadata": {},
   "outputs": [
    {
     "data": {
      "text/plain": [
       "568     113298937\n",
       "1099    148427295\n",
       "928     204675465\n",
       "33      249864742\n",
       "684     358944393\n",
       "Name: visitorId, dtype: int64"
      ]
     },
     "execution_count": 43,
     "metadata": {},
     "output_type": "execute_result"
    }
   ],
   "source": [
    "abnormalUsers.head(5)"
   ]
  },
  {
   "cell_type": "code",
   "execution_count": 44,
   "metadata": {},
   "outputs": [
    {
     "name": "stdout",
     "output_type": "stream",
     "text": [
      "Кол-во аномальных пользователей = 86\n",
      "Процент аномальных пользователей от общего кол-ва = 8.84 %\n"
     ]
    }
   ],
   "source": [
    "# просматриваем кол-во  аномальных пользователей. \n",
    "print(f'Кол-во аномальных пользователей = {abnormalUsers.nunique()}')\n",
    "print(f'Процент аномальных пользователей от общего кол-ва = {round((abnormalUsers.nunique()/orders[\"visitorId\"].nunique())*100, 2)} %')"
   ]
  },
  {
   "cell_type": "markdown",
   "metadata": {},
   "source": [
    "#### Посчитаем статистическую значимость различий в среднем количестве заказов на посетителя между группами по «очищенным» данным."
   ]
  },
  {
   "cell_type": "markdown",
   "metadata": {},
   "source": [
    "Формулируем гипотезы:\n",
    "\n",
    "- H0: По \"очищенным\" данным в среднем количестве заказов на посетителя между группами \"А\" и \"В\" разница статистически значима.\n",
    "- H1: По \"очищенным\" данным в среднем количестве заказов на посетителя между группами \"А\" и \"В\" разница статистически незначима.\n",
    "- Критический уровень статистической значимости установим .05"
   ]
  },
  {
   "cell_type": "code",
   "execution_count": 45,
   "metadata": {},
   "outputs": [],
   "source": [
    "sampleAFiltered = pd.concat(\n",
    "    [\n",
    "        ordersByUsersA[\n",
    "            np.logical_not(ordersByUsersA['visitorId'].isin(abnormalUsers))\n",
    "        ]['orders'],\n",
    "        pd.Series(\n",
    "            0,\n",
    "            index=np.arange(\n",
    "                visitors['visitors'].sum() - len(ordersByUsersA['orders'])\n",
    "            ),\n",
    "            name='orders',\n",
    "        ),\n",
    "    ],\n",
    "    axis=0,\n",
    ")"
   ]
  },
  {
   "cell_type": "code",
   "execution_count": 46,
   "metadata": {},
   "outputs": [],
   "source": [
    "sampleBFiltered = pd.concat(\n",
    "    [\n",
    "        ordersByUsersB[\n",
    "            np.logical_not(ordersByUsersB['visitorId'].isin(abnormalUsers))\n",
    "        ]['orders'],\n",
    "        pd.Series(\n",
    "            0,\n",
    "            index=np.arange(\n",
    "                visitors['visitors'].sum() - len(ordersByUsersB['orders'])\n",
    "            ),\n",
    "            name='orders',\n",
    "        ),\n",
    "    ],\n",
    "    axis=0,\n",
    ")"
   ]
  },
  {
   "cell_type": "code",
   "execution_count": 47,
   "metadata": {},
   "outputs": [
    {
     "name": "stdout",
     "output_type": "stream",
     "text": [
      "p-value: 0.01120\n"
     ]
    }
   ],
   "source": [
    "print('p-value: {0:.5f}'.format(st.mannwhitneyu(sampleAFiltered, sampleBFiltered)[1]))"
   ]
  },
  {
   "cell_type": "code",
   "execution_count": 48,
   "metadata": {},
   "outputs": [
    {
     "name": "stdout",
     "output_type": "stream",
     "text": [
      "Относительное изменение: 0.185\n"
     ]
    }
   ],
   "source": [
    "print('Относительное изменение: {0:.3f}'.format(sampleBFiltered.mean()/sampleAFiltered.mean()-1))"
   ]
  },
  {
   "cell_type": "markdown",
   "metadata": {},
   "source": [
    "- p-value = 0.01120, что менее установленного критического уровня статистической значимости из чего следует разница статистически значима, как и в случае с \"сырыми\" данными.\n",
    "- Относительный прирост группы \"В\" к группе \"А\" равен 18.5%"
   ]
  },
  {
   "cell_type": "markdown",
   "metadata": {},
   "source": [
    "#### Посчитаем статистическую значимость различий в среднем чеке заказа между группами по «очищенным» данным."
   ]
  },
  {
   "cell_type": "markdown",
   "metadata": {},
   "source": [
    "Формулируем гипотезы:\n",
    "\n",
    "- H0: По \"очищенным\" данным в среднем чеке заказов на между группами \"А\" и \"В\" разница статистически значима.\n",
    "- H1: По \"очищенным\" данным в среднем чеке заказов на между группами \"А\" и \"В\" разница статистически незначима.\n",
    "- Критический уровень статистической значимости установим .05."
   ]
  },
  {
   "cell_type": "code",
   "execution_count": 49,
   "metadata": {},
   "outputs": [
    {
     "name": "stdout",
     "output_type": "stream",
     "text": [
      "p-value: 0.727\n"
     ]
    }
   ],
   "source": [
    "print('p-value: {0:.3f}'.format(\n",
    "        st.mannwhitneyu(\n",
    "            orders[\n",
    "                np.logical_and(\n",
    "                    orders['group'] == 'A',\n",
    "                    np.logical_not(orders['visitorId'].isin(abnormalUsers)),\n",
    "                )\n",
    "            ]['revenue'],\n",
    "            orders[\n",
    "                np.logical_and(\n",
    "                    orders['group'] == 'B',\n",
    "                    np.logical_not(orders['visitorId'].isin(abnormalUsers)),\n",
    "                )\n",
    "            ]['revenue'],\n",
    "        )[1]\n",
    "    ))"
   ]
  },
  {
   "cell_type": "code",
   "execution_count": 50,
   "metadata": {},
   "outputs": [
    {
     "name": "stdout",
     "output_type": "stream",
     "text": [
      "Относительное изменение-0.034\n"
     ]
    }
   ],
   "source": [
    "print(\"Относительное изменение{0:.3f}\".format(\n",
    "        orders[\n",
    "            np.logical_and(\n",
    "                orders['group'] == 'B',\n",
    "                np.logical_not(orders['visitorId'].isin(abnormalUsers)),\n",
    "            )\n",
    "        ]['revenue'].mean()\n",
    "        / orders[\n",
    "            np.logical_and(\n",
    "                orders['group'] == 'A',\n",
    "                np.logical_not(orders['visitorId'].isin(abnormalUsers)),\n",
    "            )\n",
    "        ]['revenue'].mean()\n",
    "        - 1\n",
    "    ))"
   ]
  },
  {
   "cell_type": "markdown",
   "metadata": {},
   "source": [
    "- p-value = 0.727, как и в случае с \"сырыми\" отметим, что статистической значимости нет. \n",
    "- После очистки данных прироста нет и прирост показывает отрицательную динамику."
   ]
  },
  {
   "cell_type": "markdown",
   "metadata": {},
   "source": [
    "### Вывод."
   ]
  },
  {
   "cell_type": "markdown",
   "metadata": {},
   "source": [
    "- Тест прошел в корректных временных рамках;\n",
    "- Выборка по группам корректна; \n",
    "- Группа \"В\" лидирует по среднему кол-ву заказов, что отчетливо видно по графику, который к концу теста выровнялся;\n",
    "- Отметим, что после очистки от 2х крупнейших заказов в группе \"В\" мы заметили, что график среднего чека по группам начался снижаться для группы \"В\";\n",
    "- Просматривая график относительного среднего чека, отметим, что благодаря выбросам он так и не стабилизировался.\n",
    "\n",
    "------\n",
    "\n",
    "Исходя из полученных данных можем остановить тест и зафиксировать победу группы \"В\", т.к несмотря на то, что нам не удалось получить большое увеличение прибыли, мы смогли увеличить кол-во заказов, что потенциально ведет к увеличению и прибыли. Далее мы можем проверить те самые заказы установить кол-во и стоимость данных заказов чтобы проработать увеличение прибыли. "
   ]
  }
 ],
 "metadata": {
  "ExecuteTimeLog": [
   {
    "duration": 1315,
    "start_time": "2023-01-24T09:31:38.592Z"
   },
   {
    "duration": 2,
    "start_time": "2023-01-24T09:31:39.909Z"
   },
   {
    "duration": 1107,
    "start_time": "2023-01-24T09:39:39.881Z"
   },
   {
    "duration": 2,
    "start_time": "2023-01-24T09:39:40.990Z"
   },
   {
    "duration": 1230,
    "start_time": "2023-01-24T09:59:01.951Z"
   },
   {
    "duration": 3,
    "start_time": "2023-01-24T09:59:03.184Z"
   },
   {
    "duration": 333,
    "start_time": "2023-01-24T09:59:03.189Z"
   },
   {
    "duration": 62,
    "start_time": "2023-01-24T09:59:03.524Z"
   },
   {
    "duration": 1191,
    "start_time": "2023-01-24T09:59:44.696Z"
   },
   {
    "duration": 3,
    "start_time": "2023-01-24T09:59:45.889Z"
   },
   {
    "duration": 79,
    "start_time": "2023-01-24T09:59:45.893Z"
   },
   {
    "duration": 53,
    "start_time": "2023-01-24T09:59:45.973Z"
   },
   {
    "duration": 1108,
    "start_time": "2023-01-24T10:52:59.993Z"
   },
   {
    "duration": 3,
    "start_time": "2023-01-24T10:53:01.103Z"
   },
   {
    "duration": 104,
    "start_time": "2023-01-24T10:53:01.107Z"
   },
   {
    "duration": 53,
    "start_time": "2023-01-24T10:53:01.213Z"
   },
   {
    "duration": 1175,
    "start_time": "2023-01-24T11:57:08.542Z"
   },
   {
    "duration": 2,
    "start_time": "2023-01-24T11:57:09.719Z"
   },
   {
    "duration": 83,
    "start_time": "2023-01-24T11:57:09.723Z"
   },
   {
    "duration": 58,
    "start_time": "2023-01-24T11:57:09.808Z"
   },
   {
    "duration": 1192,
    "start_time": "2023-01-24T11:57:26.874Z"
   },
   {
    "duration": 3,
    "start_time": "2023-01-24T11:57:28.068Z"
   },
   {
    "duration": 89,
    "start_time": "2023-01-24T11:57:28.072Z"
   },
   {
    "duration": 51,
    "start_time": "2023-01-24T11:57:28.163Z"
   },
   {
    "duration": 7,
    "start_time": "2023-01-24T11:59:02.708Z"
   },
   {
    "duration": 1229,
    "start_time": "2023-01-24T11:59:16.375Z"
   },
   {
    "duration": 3,
    "start_time": "2023-01-24T11:59:17.606Z"
   },
   {
    "duration": 79,
    "start_time": "2023-01-24T11:59:17.611Z"
   },
   {
    "duration": 55,
    "start_time": "2023-01-24T11:59:17.693Z"
   },
   {
    "duration": 7,
    "start_time": "2023-01-24T11:59:17.750Z"
   },
   {
    "duration": 28,
    "start_time": "2023-01-24T11:59:17.758Z"
   },
   {
    "duration": 1628,
    "start_time": "2023-01-24T12:36:58.289Z"
   },
   {
    "duration": 13,
    "start_time": "2023-01-24T12:39:01.471Z"
   },
   {
    "duration": 1175,
    "start_time": "2023-01-24T12:39:30.413Z"
   },
   {
    "duration": 3,
    "start_time": "2023-01-24T12:39:31.590Z"
   },
   {
    "duration": 115,
    "start_time": "2023-01-24T12:39:31.594Z"
   },
   {
    "duration": 52,
    "start_time": "2023-01-24T12:39:31.710Z"
   },
   {
    "duration": 5,
    "start_time": "2023-01-24T12:39:31.764Z"
   },
   {
    "duration": 22,
    "start_time": "2023-01-24T12:39:31.771Z"
   },
   {
    "duration": 118,
    "start_time": "2023-01-24T12:39:31.795Z"
   },
   {
    "duration": 1223,
    "start_time": "2023-01-24T12:48:07.054Z"
   },
   {
    "duration": 1111,
    "start_time": "2023-01-24T12:48:22.509Z"
   },
   {
    "duration": 11,
    "start_time": "2023-01-24T12:49:02.520Z"
   },
   {
    "duration": 1428,
    "start_time": "2023-01-24T12:49:43.369Z"
   },
   {
    "duration": 5,
    "start_time": "2023-01-24T12:49:58.078Z"
   },
   {
    "duration": 13,
    "start_time": "2023-01-24T12:51:56.118Z"
   },
   {
    "duration": 14,
    "start_time": "2023-01-24T12:54:02.166Z"
   },
   {
    "duration": 13,
    "start_time": "2023-01-24T12:54:18.736Z"
   },
   {
    "duration": 1196,
    "start_time": "2023-01-24T12:54:27.642Z"
   },
   {
    "duration": 3,
    "start_time": "2023-01-24T12:54:28.840Z"
   },
   {
    "duration": 83,
    "start_time": "2023-01-24T12:54:28.845Z"
   },
   {
    "duration": 76,
    "start_time": "2023-01-24T12:54:28.930Z"
   },
   {
    "duration": 7,
    "start_time": "2023-01-24T12:54:29.010Z"
   },
   {
    "duration": 18,
    "start_time": "2023-01-24T12:54:29.019Z"
   },
   {
    "duration": 19,
    "start_time": "2023-01-24T12:54:29.039Z"
   },
   {
    "duration": 58,
    "start_time": "2023-01-24T12:58:24.125Z"
   },
   {
    "duration": 1226,
    "start_time": "2023-01-24T13:13:30.869Z"
   },
   {
    "duration": 4,
    "start_time": "2023-01-24T13:13:32.097Z"
   },
   {
    "duration": 98,
    "start_time": "2023-01-24T13:13:32.102Z"
   },
   {
    "duration": 59,
    "start_time": "2023-01-24T13:13:32.201Z"
   },
   {
    "duration": 19,
    "start_time": "2023-01-24T13:13:32.263Z"
   },
   {
    "duration": 7,
    "start_time": "2023-01-24T13:13:32.285Z"
   },
   {
    "duration": 31,
    "start_time": "2023-01-24T13:13:32.294Z"
   },
   {
    "duration": 1155,
    "start_time": "2023-01-24T13:18:17.550Z"
   },
   {
    "duration": 4,
    "start_time": "2023-01-24T13:18:18.707Z"
   },
   {
    "duration": 83,
    "start_time": "2023-01-24T13:18:18.713Z"
   },
   {
    "duration": 56,
    "start_time": "2023-01-24T13:18:18.798Z"
   },
   {
    "duration": 26,
    "start_time": "2023-01-24T13:18:18.856Z"
   },
   {
    "duration": 6,
    "start_time": "2023-01-24T13:18:18.884Z"
   },
   {
    "duration": 31,
    "start_time": "2023-01-24T13:18:18.892Z"
   },
   {
    "duration": 116,
    "start_time": "2023-01-24T13:18:18.925Z"
   },
   {
    "duration": 16,
    "start_time": "2023-01-24T13:18:28.944Z"
   },
   {
    "duration": 1169,
    "start_time": "2023-01-24T13:58:38.830Z"
   },
   {
    "duration": 3,
    "start_time": "2023-01-24T13:58:40.002Z"
   },
   {
    "duration": 117,
    "start_time": "2023-01-24T13:58:40.006Z"
   },
   {
    "duration": 55,
    "start_time": "2023-01-24T13:58:40.124Z"
   },
   {
    "duration": 7,
    "start_time": "2023-01-24T13:58:40.181Z"
   },
   {
    "duration": 21,
    "start_time": "2023-01-24T13:58:40.189Z"
   },
   {
    "duration": 32,
    "start_time": "2023-01-24T13:58:40.212Z"
   },
   {
    "duration": 37,
    "start_time": "2023-01-24T13:58:40.246Z"
   },
   {
    "duration": 139,
    "start_time": "2023-01-24T14:04:32.041Z"
   },
   {
    "duration": 10,
    "start_time": "2023-01-24T14:05:01.822Z"
   },
   {
    "duration": 310,
    "start_time": "2023-01-24T14:06:48.078Z"
   },
   {
    "duration": 1226,
    "start_time": "2023-01-24T14:07:19.682Z"
   },
   {
    "duration": 3,
    "start_time": "2023-01-24T14:07:20.910Z"
   },
   {
    "duration": 102,
    "start_time": "2023-01-24T14:07:20.914Z"
   },
   {
    "duration": 58,
    "start_time": "2023-01-24T14:07:21.018Z"
   },
   {
    "duration": 5,
    "start_time": "2023-01-24T14:07:21.078Z"
   },
   {
    "duration": 29,
    "start_time": "2023-01-24T14:07:21.084Z"
   },
   {
    "duration": 31,
    "start_time": "2023-01-24T14:07:21.115Z"
   },
   {
    "duration": 1381,
    "start_time": "2023-01-24T14:07:21.149Z"
   },
   {
    "duration": 0,
    "start_time": "2023-01-24T14:07:22.532Z"
   },
   {
    "duration": 1265,
    "start_time": "2023-01-24T14:09:10.651Z"
   },
   {
    "duration": 3,
    "start_time": "2023-01-24T14:09:11.918Z"
   },
   {
    "duration": 96,
    "start_time": "2023-01-24T14:09:11.923Z"
   },
   {
    "duration": 57,
    "start_time": "2023-01-24T14:09:12.021Z"
   },
   {
    "duration": 6,
    "start_time": "2023-01-24T14:09:12.079Z"
   },
   {
    "duration": 31,
    "start_time": "2023-01-24T14:09:12.086Z"
   },
   {
    "duration": 25,
    "start_time": "2023-01-24T14:09:12.119Z"
   },
   {
    "duration": 49,
    "start_time": "2023-01-24T14:09:12.146Z"
   },
   {
    "duration": 15,
    "start_time": "2023-01-24T14:09:12.197Z"
   },
   {
    "duration": 1194,
    "start_time": "2023-01-24T14:27:18.635Z"
   },
   {
    "duration": 3,
    "start_time": "2023-01-24T14:27:19.832Z"
   },
   {
    "duration": 92,
    "start_time": "2023-01-24T14:27:19.837Z"
   },
   {
    "duration": 63,
    "start_time": "2023-01-24T14:27:19.931Z"
   },
   {
    "duration": 7,
    "start_time": "2023-01-24T14:27:19.997Z"
   },
   {
    "duration": 23,
    "start_time": "2023-01-24T14:27:20.005Z"
   },
   {
    "duration": 11,
    "start_time": "2023-01-24T14:27:20.030Z"
   },
   {
    "duration": 15,
    "start_time": "2023-01-24T14:27:20.042Z"
   },
   {
    "duration": 30,
    "start_time": "2023-01-24T14:27:20.059Z"
   },
   {
    "duration": 14,
    "start_time": "2023-01-24T14:27:20.091Z"
   },
   {
    "duration": 412,
    "start_time": "2023-01-24T14:43:08.478Z"
   },
   {
    "duration": 1147,
    "start_time": "2023-01-24T14:44:28.537Z"
   },
   {
    "duration": 3,
    "start_time": "2023-01-24T14:44:29.686Z"
   },
   {
    "duration": 96,
    "start_time": "2023-01-24T14:44:29.691Z"
   },
   {
    "duration": 55,
    "start_time": "2023-01-24T14:44:29.789Z"
   },
   {
    "duration": 5,
    "start_time": "2023-01-24T14:44:29.846Z"
   },
   {
    "duration": 6,
    "start_time": "2023-01-24T14:44:29.881Z"
   },
   {
    "duration": 5,
    "start_time": "2023-01-24T14:44:29.889Z"
   },
   {
    "duration": 483,
    "start_time": "2023-01-24T14:44:29.898Z"
   },
   {
    "duration": 0,
    "start_time": "2023-01-24T14:44:30.382Z"
   },
   {
    "duration": 0,
    "start_time": "2023-01-24T14:44:30.383Z"
   },
   {
    "duration": 9,
    "start_time": "2023-01-24T14:45:30.627Z"
   },
   {
    "duration": 4,
    "start_time": "2023-01-24T14:46:07.620Z"
   },
   {
    "duration": 1218,
    "start_time": "2023-01-24T14:46:50.410Z"
   },
   {
    "duration": 3,
    "start_time": "2023-01-24T14:46:51.629Z"
   },
   {
    "duration": 93,
    "start_time": "2023-01-24T14:46:51.634Z"
   },
   {
    "duration": 52,
    "start_time": "2023-01-24T14:46:51.730Z"
   },
   {
    "duration": 5,
    "start_time": "2023-01-24T14:46:51.784Z"
   },
   {
    "duration": 9,
    "start_time": "2023-01-24T14:46:51.790Z"
   },
   {
    "duration": 6,
    "start_time": "2023-01-24T14:46:51.800Z"
   },
   {
    "duration": 8,
    "start_time": "2023-01-24T14:46:51.808Z"
   },
   {
    "duration": 16,
    "start_time": "2023-01-24T14:46:51.818Z"
   },
   {
    "duration": 12,
    "start_time": "2023-01-24T14:46:51.837Z"
   },
   {
    "duration": 46,
    "start_time": "2023-01-24T15:11:51.902Z"
   },
   {
    "duration": 41,
    "start_time": "2023-01-24T15:12:34.374Z"
   },
   {
    "duration": 43,
    "start_time": "2023-01-24T15:12:42.534Z"
   },
   {
    "duration": 75,
    "start_time": "2023-01-24T15:17:45.971Z"
   },
   {
    "duration": 7,
    "start_time": "2023-01-24T15:17:55.471Z"
   },
   {
    "duration": 7,
    "start_time": "2023-01-24T15:18:19.162Z"
   },
   {
    "duration": 1409,
    "start_time": "2023-01-24T15:18:40.324Z"
   },
   {
    "duration": 4,
    "start_time": "2023-01-24T15:18:41.735Z"
   },
   {
    "duration": 189,
    "start_time": "2023-01-24T15:18:41.741Z"
   },
   {
    "duration": 65,
    "start_time": "2023-01-24T15:18:41.934Z"
   },
   {
    "duration": 7,
    "start_time": "2023-01-24T15:18:42.002Z"
   },
   {
    "duration": 12,
    "start_time": "2023-01-24T15:18:42.011Z"
   },
   {
    "duration": 183,
    "start_time": "2023-01-24T15:18:42.025Z"
   },
   {
    "duration": 0,
    "start_time": "2023-01-24T15:18:42.209Z"
   },
   {
    "duration": 0,
    "start_time": "2023-01-24T15:18:42.211Z"
   },
   {
    "duration": 0,
    "start_time": "2023-01-24T15:18:42.212Z"
   },
   {
    "duration": 0,
    "start_time": "2023-01-24T15:18:42.213Z"
   },
   {
    "duration": 20,
    "start_time": "2023-01-24T15:19:21.100Z"
   },
   {
    "duration": 1170,
    "start_time": "2023-01-24T15:19:28.506Z"
   },
   {
    "duration": 3,
    "start_time": "2023-01-24T15:19:29.678Z"
   },
   {
    "duration": 67,
    "start_time": "2023-01-24T15:19:29.682Z"
   },
   {
    "duration": 69,
    "start_time": "2023-01-24T15:19:29.750Z"
   },
   {
    "duration": 37,
    "start_time": "2023-01-24T15:19:29.822Z"
   },
   {
    "duration": 26,
    "start_time": "2023-01-24T15:19:29.861Z"
   },
   {
    "duration": 113,
    "start_time": "2023-01-24T15:19:29.888Z"
   },
   {
    "duration": 0,
    "start_time": "2023-01-24T15:19:30.002Z"
   },
   {
    "duration": 0,
    "start_time": "2023-01-24T15:19:30.003Z"
   },
   {
    "duration": 0,
    "start_time": "2023-01-24T15:19:30.004Z"
   },
   {
    "duration": 0,
    "start_time": "2023-01-24T15:19:30.006Z"
   },
   {
    "duration": 13,
    "start_time": "2023-01-24T15:19:51.651Z"
   },
   {
    "duration": 11,
    "start_time": "2023-01-24T15:24:34.673Z"
   },
   {
    "duration": 7,
    "start_time": "2023-01-24T15:24:58.073Z"
   },
   {
    "duration": 7,
    "start_time": "2023-01-24T15:25:08.298Z"
   },
   {
    "duration": 10,
    "start_time": "2023-01-24T15:28:02.866Z"
   },
   {
    "duration": 19,
    "start_time": "2023-01-24T15:28:16.279Z"
   },
   {
    "duration": 32,
    "start_time": "2023-01-24T15:28:39.256Z"
   },
   {
    "duration": 64,
    "start_time": "2023-01-24T15:28:56.238Z"
   },
   {
    "duration": 27,
    "start_time": "2023-01-24T15:32:22.509Z"
   },
   {
    "duration": 13,
    "start_time": "2023-01-24T15:32:37.767Z"
   },
   {
    "duration": 9,
    "start_time": "2023-01-24T15:32:46.335Z"
   },
   {
    "duration": 12,
    "start_time": "2023-01-24T15:33:39.269Z"
   },
   {
    "duration": 12,
    "start_time": "2023-01-24T15:37:53.835Z"
   },
   {
    "duration": 1196,
    "start_time": "2023-01-24T15:38:03.316Z"
   },
   {
    "duration": 3,
    "start_time": "2023-01-24T15:38:04.514Z"
   },
   {
    "duration": 90,
    "start_time": "2023-01-24T15:38:04.518Z"
   },
   {
    "duration": 66,
    "start_time": "2023-01-24T15:38:04.610Z"
   },
   {
    "duration": 6,
    "start_time": "2023-01-24T15:38:04.678Z"
   },
   {
    "duration": 17,
    "start_time": "2023-01-24T15:38:04.685Z"
   },
   {
    "duration": 126,
    "start_time": "2023-01-24T15:38:04.703Z"
   },
   {
    "duration": 0,
    "start_time": "2023-01-24T15:38:04.831Z"
   },
   {
    "duration": 0,
    "start_time": "2023-01-24T15:38:04.832Z"
   },
   {
    "duration": 0,
    "start_time": "2023-01-24T15:38:04.833Z"
   },
   {
    "duration": 0,
    "start_time": "2023-01-24T15:38:04.834Z"
   },
   {
    "duration": 10,
    "start_time": "2023-01-24T15:38:36.487Z"
   },
   {
    "duration": 9,
    "start_time": "2023-01-24T15:38:58.678Z"
   },
   {
    "duration": 39,
    "start_time": "2023-01-24T15:41:39.077Z"
   },
   {
    "duration": 56,
    "start_time": "2023-01-24T15:41:44.595Z"
   },
   {
    "duration": 53,
    "start_time": "2023-01-24T15:41:51.807Z"
   },
   {
    "duration": 1173,
    "start_time": "2023-01-24T15:42:02.072Z"
   },
   {
    "duration": 6,
    "start_time": "2023-01-24T15:42:03.247Z"
   },
   {
    "duration": 67,
    "start_time": "2023-01-24T15:42:03.255Z"
   },
   {
    "duration": 62,
    "start_time": "2023-01-24T15:42:03.328Z"
   },
   {
    "duration": 6,
    "start_time": "2023-01-24T15:42:03.392Z"
   },
   {
    "duration": 6,
    "start_time": "2023-01-24T15:42:03.399Z"
   },
   {
    "duration": 42,
    "start_time": "2023-01-24T15:42:03.407Z"
   },
   {
    "duration": 0,
    "start_time": "2023-01-24T15:42:03.451Z"
   },
   {
    "duration": 0,
    "start_time": "2023-01-24T15:42:03.453Z"
   },
   {
    "duration": 0,
    "start_time": "2023-01-24T15:42:03.454Z"
   },
   {
    "duration": 0,
    "start_time": "2023-01-24T15:42:03.456Z"
   },
   {
    "duration": 56,
    "start_time": "2023-01-24T15:42:11.495Z"
   },
   {
    "duration": 44,
    "start_time": "2023-01-24T15:42:29.295Z"
   },
   {
    "duration": 102,
    "start_time": "2023-01-24T15:42:33.677Z"
   },
   {
    "duration": 38,
    "start_time": "2023-01-24T16:03:02.409Z"
   },
   {
    "duration": 11,
    "start_time": "2023-01-24T16:03:08.635Z"
   },
   {
    "duration": 5,
    "start_time": "2023-01-24T16:05:26.892Z"
   },
   {
    "duration": 6,
    "start_time": "2023-01-24T16:05:48.536Z"
   },
   {
    "duration": 5,
    "start_time": "2023-01-24T16:09:56.141Z"
   },
   {
    "duration": 10,
    "start_time": "2023-01-24T16:09:56.952Z"
   },
   {
    "duration": 12,
    "start_time": "2023-01-24T16:10:22.883Z"
   },
   {
    "duration": 1398,
    "start_time": "2023-01-24T16:10:31.022Z"
   },
   {
    "duration": 3,
    "start_time": "2023-01-24T16:10:32.423Z"
   },
   {
    "duration": 72,
    "start_time": "2023-01-24T16:10:32.428Z"
   },
   {
    "duration": 65,
    "start_time": "2023-01-24T16:10:32.502Z"
   },
   {
    "duration": 6,
    "start_time": "2023-01-24T16:10:32.569Z"
   },
   {
    "duration": 18,
    "start_time": "2023-01-24T16:10:32.577Z"
   },
   {
    "duration": 125,
    "start_time": "2023-01-24T16:10:32.597Z"
   },
   {
    "duration": 0,
    "start_time": "2023-01-24T16:10:32.725Z"
   },
   {
    "duration": 0,
    "start_time": "2023-01-24T16:10:32.727Z"
   },
   {
    "duration": 0,
    "start_time": "2023-01-24T16:10:32.729Z"
   },
   {
    "duration": 0,
    "start_time": "2023-01-24T16:10:32.731Z"
   },
   {
    "duration": 20,
    "start_time": "2023-01-24T16:10:57.497Z"
   },
   {
    "duration": 58,
    "start_time": "2023-01-24T16:18:14.933Z"
   },
   {
    "duration": 10,
    "start_time": "2023-01-24T16:45:17.708Z"
   },
   {
    "duration": 1301,
    "start_time": "2023-01-24T17:58:12.626Z"
   },
   {
    "duration": 2,
    "start_time": "2023-01-24T17:58:13.929Z"
   },
   {
    "duration": 204,
    "start_time": "2023-01-24T17:58:13.933Z"
   },
   {
    "duration": 60,
    "start_time": "2023-01-24T17:58:14.140Z"
   },
   {
    "duration": 25,
    "start_time": "2023-01-24T17:58:14.202Z"
   },
   {
    "duration": 5,
    "start_time": "2023-01-24T17:58:14.229Z"
   },
   {
    "duration": 14,
    "start_time": "2023-01-24T17:58:14.235Z"
   },
   {
    "duration": 3,
    "start_time": "2023-01-24T17:58:14.250Z"
   },
   {
    "duration": 9,
    "start_time": "2023-01-24T17:58:14.255Z"
   },
   {
    "duration": 19,
    "start_time": "2023-01-24T17:58:14.266Z"
   },
   {
    "duration": 12,
    "start_time": "2023-01-24T17:58:14.286Z"
   },
   {
    "duration": 92,
    "start_time": "2023-01-24T17:58:48.770Z"
   },
   {
    "duration": 8,
    "start_time": "2023-01-24T17:58:56.126Z"
   },
   {
    "duration": 1089,
    "start_time": "2023-01-24T17:59:06.250Z"
   },
   {
    "duration": 3,
    "start_time": "2023-01-24T17:59:07.341Z"
   },
   {
    "duration": 75,
    "start_time": "2023-01-24T17:59:07.345Z"
   },
   {
    "duration": 58,
    "start_time": "2023-01-24T17:59:07.422Z"
   },
   {
    "duration": 6,
    "start_time": "2023-01-24T17:59:07.482Z"
   },
   {
    "duration": 39,
    "start_time": "2023-01-24T17:59:07.490Z"
   },
   {
    "duration": 18,
    "start_time": "2023-01-24T17:59:07.530Z"
   },
   {
    "duration": 8,
    "start_time": "2023-01-24T17:59:07.550Z"
   },
   {
    "duration": 11,
    "start_time": "2023-01-24T17:59:07.560Z"
   },
   {
    "duration": 23,
    "start_time": "2023-01-24T17:59:07.573Z"
   },
   {
    "duration": 19,
    "start_time": "2023-01-24T17:59:07.598Z"
   },
   {
    "duration": 1171,
    "start_time": "2023-01-24T18:44:20.669Z"
   },
   {
    "duration": 2,
    "start_time": "2023-01-24T18:44:21.843Z"
   },
   {
    "duration": 102,
    "start_time": "2023-01-24T18:44:21.847Z"
   },
   {
    "duration": 58,
    "start_time": "2023-01-24T18:44:21.952Z"
   },
   {
    "duration": 19,
    "start_time": "2023-01-24T18:44:22.012Z"
   },
   {
    "duration": 46,
    "start_time": "2023-01-24T18:44:22.032Z"
   },
   {
    "duration": 46,
    "start_time": "2023-01-24T18:44:22.079Z"
   },
   {
    "duration": 18,
    "start_time": "2023-01-24T18:44:22.126Z"
   },
   {
    "duration": 32,
    "start_time": "2023-01-24T18:44:22.146Z"
   },
   {
    "duration": 43,
    "start_time": "2023-01-24T18:44:22.180Z"
   },
   {
    "duration": 46,
    "start_time": "2023-01-24T18:44:22.224Z"
   },
   {
    "duration": 890,
    "start_time": "2023-01-24T18:51:00.903Z"
   },
   {
    "duration": 11,
    "start_time": "2023-01-24T18:51:31.823Z"
   },
   {
    "duration": 13,
    "start_time": "2023-01-24T18:51:56.079Z"
   },
   {
    "duration": 8,
    "start_time": "2023-01-24T18:52:39.637Z"
   },
   {
    "duration": 10,
    "start_time": "2023-01-24T18:55:15.174Z"
   },
   {
    "duration": 9,
    "start_time": "2023-01-24T18:55:29.069Z"
   },
   {
    "duration": 50,
    "start_time": "2023-01-24T18:56:02.800Z"
   },
   {
    "duration": 44,
    "start_time": "2023-01-24T18:56:22.754Z"
   },
   {
    "duration": 9,
    "start_time": "2023-01-24T18:56:40.876Z"
   },
   {
    "duration": 10,
    "start_time": "2023-01-24T18:57:12.759Z"
   },
   {
    "duration": 1137,
    "start_time": "2023-01-24T18:57:18.097Z"
   },
   {
    "duration": 3,
    "start_time": "2023-01-24T18:57:19.236Z"
   },
   {
    "duration": 68,
    "start_time": "2023-01-24T18:57:19.240Z"
   },
   {
    "duration": 53,
    "start_time": "2023-01-24T18:57:19.311Z"
   },
   {
    "duration": 7,
    "start_time": "2023-01-24T18:57:19.366Z"
   },
   {
    "duration": 12,
    "start_time": "2023-01-24T18:57:19.375Z"
   },
   {
    "duration": 10,
    "start_time": "2023-01-24T18:57:19.389Z"
   },
   {
    "duration": 3,
    "start_time": "2023-01-24T18:57:19.427Z"
   },
   {
    "duration": 6,
    "start_time": "2023-01-24T18:57:19.432Z"
   },
   {
    "duration": 16,
    "start_time": "2023-01-24T18:57:19.440Z"
   },
   {
    "duration": 15,
    "start_time": "2023-01-24T18:57:19.457Z"
   },
   {
    "duration": 1107,
    "start_time": "2023-01-24T18:57:37.631Z"
   },
   {
    "duration": 3,
    "start_time": "2023-01-24T18:57:38.739Z"
   },
   {
    "duration": 102,
    "start_time": "2023-01-24T18:57:38.743Z"
   },
   {
    "duration": 52,
    "start_time": "2023-01-24T18:57:38.847Z"
   },
   {
    "duration": 5,
    "start_time": "2023-01-24T18:57:38.900Z"
   },
   {
    "duration": 21,
    "start_time": "2023-01-24T18:57:38.907Z"
   },
   {
    "duration": 10,
    "start_time": "2023-01-24T18:57:38.929Z"
   },
   {
    "duration": 5,
    "start_time": "2023-01-24T18:57:38.940Z"
   },
   {
    "duration": 7,
    "start_time": "2023-01-24T18:57:38.947Z"
   },
   {
    "duration": 18,
    "start_time": "2023-01-24T18:57:38.956Z"
   },
   {
    "duration": 13,
    "start_time": "2023-01-24T18:57:38.976Z"
   },
   {
    "duration": 1168,
    "start_time": "2023-01-24T18:58:49.310Z"
   },
   {
    "duration": 4,
    "start_time": "2023-01-24T18:58:50.480Z"
   },
   {
    "duration": 103,
    "start_time": "2023-01-24T18:58:50.486Z"
   },
   {
    "duration": 65,
    "start_time": "2023-01-24T18:58:50.592Z"
   },
   {
    "duration": 7,
    "start_time": "2023-01-24T18:58:50.658Z"
   },
   {
    "duration": 8,
    "start_time": "2023-01-24T18:58:50.667Z"
   },
   {
    "duration": 16,
    "start_time": "2023-01-24T18:58:50.677Z"
   },
   {
    "duration": 32,
    "start_time": "2023-01-24T18:58:50.695Z"
   },
   {
    "duration": 8,
    "start_time": "2023-01-24T18:58:50.729Z"
   },
   {
    "duration": 27,
    "start_time": "2023-01-24T18:58:50.739Z"
   },
   {
    "duration": 13,
    "start_time": "2023-01-24T18:58:50.767Z"
   },
   {
    "duration": 1126,
    "start_time": "2023-01-24T19:00:26.405Z"
   },
   {
    "duration": 3,
    "start_time": "2023-01-24T19:00:27.533Z"
   },
   {
    "duration": 95,
    "start_time": "2023-01-24T19:00:27.537Z"
   },
   {
    "duration": 49,
    "start_time": "2023-01-24T19:00:27.634Z"
   },
   {
    "duration": 6,
    "start_time": "2023-01-24T19:00:27.684Z"
   },
   {
    "duration": 36,
    "start_time": "2023-01-24T19:00:27.691Z"
   },
   {
    "duration": 9,
    "start_time": "2023-01-24T19:00:27.729Z"
   },
   {
    "duration": 6,
    "start_time": "2023-01-24T19:00:27.739Z"
   },
   {
    "duration": 26,
    "start_time": "2023-01-24T19:00:27.747Z"
   },
   {
    "duration": 24,
    "start_time": "2023-01-24T19:00:27.775Z"
   },
   {
    "duration": 11,
    "start_time": "2023-01-24T19:00:27.800Z"
   },
   {
    "duration": 102,
    "start_time": "2023-01-24T19:11:04.915Z"
   },
   {
    "duration": 17,
    "start_time": "2023-01-24T19:11:14.042Z"
   },
   {
    "duration": 1234,
    "start_time": "2023-01-24T19:11:28.509Z"
   },
   {
    "duration": 3,
    "start_time": "2023-01-24T19:11:29.745Z"
   },
   {
    "duration": 77,
    "start_time": "2023-01-24T19:11:29.750Z"
   },
   {
    "duration": 57,
    "start_time": "2023-01-24T19:11:29.829Z"
   },
   {
    "duration": 6,
    "start_time": "2023-01-24T19:11:29.887Z"
   },
   {
    "duration": 6,
    "start_time": "2023-01-24T19:11:29.927Z"
   },
   {
    "duration": 18,
    "start_time": "2023-01-24T19:11:29.935Z"
   },
   {
    "duration": 118,
    "start_time": "2023-01-24T19:11:29.955Z"
   },
   {
    "duration": 0,
    "start_time": "2023-01-24T19:11:30.075Z"
   },
   {
    "duration": 0,
    "start_time": "2023-01-24T19:11:30.076Z"
   },
   {
    "duration": 0,
    "start_time": "2023-01-24T19:11:30.077Z"
   },
   {
    "duration": 0,
    "start_time": "2023-01-24T19:11:30.078Z"
   },
   {
    "duration": 0,
    "start_time": "2023-01-24T19:11:30.079Z"
   },
   {
    "duration": 1228,
    "start_time": "2023-01-24T19:13:55.458Z"
   },
   {
    "duration": 3,
    "start_time": "2023-01-24T19:13:56.688Z"
   },
   {
    "duration": 88,
    "start_time": "2023-01-24T19:13:56.692Z"
   },
   {
    "duration": 67,
    "start_time": "2023-01-24T19:13:56.782Z"
   },
   {
    "duration": 6,
    "start_time": "2023-01-24T19:13:56.851Z"
   },
   {
    "duration": 9,
    "start_time": "2023-01-24T19:13:56.858Z"
   },
   {
    "duration": 25,
    "start_time": "2023-01-24T19:13:56.868Z"
   },
   {
    "duration": 20,
    "start_time": "2023-01-24T19:13:56.895Z"
   },
   {
    "duration": 22,
    "start_time": "2023-01-24T19:13:56.917Z"
   },
   {
    "duration": 16,
    "start_time": "2023-01-24T19:13:56.941Z"
   },
   {
    "duration": 12,
    "start_time": "2023-01-24T19:13:56.958Z"
   },
   {
    "duration": 45,
    "start_time": "2023-01-24T19:13:56.972Z"
   },
   {
    "duration": 51,
    "start_time": "2023-01-24T19:13:57.019Z"
   },
   {
    "duration": 10,
    "start_time": "2023-01-24T19:14:33.260Z"
   },
   {
    "duration": 21,
    "start_time": "2023-01-24T19:16:39.219Z"
   },
   {
    "duration": 109,
    "start_time": "2023-01-24T19:16:53.078Z"
   },
   {
    "duration": 1190,
    "start_time": "2023-01-24T19:19:49.953Z"
   },
   {
    "duration": 2,
    "start_time": "2023-01-24T19:19:51.145Z"
   },
   {
    "duration": 70,
    "start_time": "2023-01-24T19:19:51.149Z"
   },
   {
    "duration": 59,
    "start_time": "2023-01-24T19:19:51.221Z"
   },
   {
    "duration": 5,
    "start_time": "2023-01-24T19:19:51.281Z"
   },
   {
    "duration": 10,
    "start_time": "2023-01-24T19:19:51.287Z"
   },
   {
    "duration": 54,
    "start_time": "2023-01-24T19:19:51.299Z"
   },
   {
    "duration": 109,
    "start_time": "2023-01-24T19:19:51.355Z"
   },
   {
    "duration": 0,
    "start_time": "2023-01-24T19:19:51.465Z"
   },
   {
    "duration": 0,
    "start_time": "2023-01-24T19:19:51.466Z"
   },
   {
    "duration": 0,
    "start_time": "2023-01-24T19:19:51.467Z"
   },
   {
    "duration": 0,
    "start_time": "2023-01-24T19:19:51.468Z"
   },
   {
    "duration": 0,
    "start_time": "2023-01-24T19:19:51.469Z"
   },
   {
    "duration": 19,
    "start_time": "2023-01-24T19:21:03.319Z"
   },
   {
    "duration": 9,
    "start_time": "2023-01-24T19:21:23.572Z"
   },
   {
    "duration": 13,
    "start_time": "2023-01-24T19:24:25.795Z"
   },
   {
    "duration": 1211,
    "start_time": "2023-01-24T19:24:47.949Z"
   },
   {
    "duration": 3,
    "start_time": "2023-01-24T19:24:49.162Z"
   },
   {
    "duration": 87,
    "start_time": "2023-01-24T19:24:49.167Z"
   },
   {
    "duration": 56,
    "start_time": "2023-01-24T19:24:49.256Z"
   },
   {
    "duration": 6,
    "start_time": "2023-01-24T19:24:49.313Z"
   },
   {
    "duration": 29,
    "start_time": "2023-01-24T19:24:49.321Z"
   },
   {
    "duration": 28,
    "start_time": "2023-01-24T19:24:49.352Z"
   },
   {
    "duration": 129,
    "start_time": "2023-01-24T19:24:49.382Z"
   },
   {
    "duration": 0,
    "start_time": "2023-01-24T19:24:49.512Z"
   },
   {
    "duration": 0,
    "start_time": "2023-01-24T19:24:49.513Z"
   },
   {
    "duration": 0,
    "start_time": "2023-01-24T19:24:49.514Z"
   },
   {
    "duration": 0,
    "start_time": "2023-01-24T19:24:49.515Z"
   },
   {
    "duration": 0,
    "start_time": "2023-01-24T19:24:49.516Z"
   },
   {
    "duration": 13,
    "start_time": "2023-01-24T19:25:16.984Z"
   },
   {
    "duration": 1140,
    "start_time": "2023-01-24T19:25:25.944Z"
   },
   {
    "duration": 2,
    "start_time": "2023-01-24T19:25:27.086Z"
   },
   {
    "duration": 79,
    "start_time": "2023-01-24T19:25:27.090Z"
   },
   {
    "duration": 54,
    "start_time": "2023-01-24T19:25:27.172Z"
   },
   {
    "duration": 14,
    "start_time": "2023-01-24T19:25:27.228Z"
   },
   {
    "duration": 8,
    "start_time": "2023-01-24T19:25:27.247Z"
   },
   {
    "duration": 11,
    "start_time": "2023-01-24T19:25:27.257Z"
   },
   {
    "duration": 10,
    "start_time": "2023-01-24T19:25:27.269Z"
   },
   {
    "duration": 10,
    "start_time": "2023-01-24T19:25:27.281Z"
   },
   {
    "duration": 10,
    "start_time": "2023-01-24T19:25:27.293Z"
   },
   {
    "duration": 11,
    "start_time": "2023-01-24T19:25:27.305Z"
   },
   {
    "duration": 23,
    "start_time": "2023-01-24T19:25:27.319Z"
   },
   {
    "duration": 19,
    "start_time": "2023-01-24T19:25:27.344Z"
   },
   {
    "duration": 100,
    "start_time": "2023-01-24T19:28:52.877Z"
   },
   {
    "duration": 1271,
    "start_time": "2023-01-24T19:29:00.188Z"
   },
   {
    "duration": 3,
    "start_time": "2023-01-24T19:29:01.461Z"
   },
   {
    "duration": 88,
    "start_time": "2023-01-24T19:29:01.465Z"
   },
   {
    "duration": 52,
    "start_time": "2023-01-24T19:29:01.555Z"
   },
   {
    "duration": 36,
    "start_time": "2023-01-24T19:29:01.609Z"
   },
   {
    "duration": 26,
    "start_time": "2023-01-24T19:29:01.646Z"
   },
   {
    "duration": 34,
    "start_time": "2023-01-24T19:29:01.674Z"
   },
   {
    "duration": 181,
    "start_time": "2023-01-24T19:29:01.710Z"
   },
   {
    "duration": 0,
    "start_time": "2023-01-24T19:29:01.893Z"
   },
   {
    "duration": 0,
    "start_time": "2023-01-24T19:29:01.894Z"
   },
   {
    "duration": 0,
    "start_time": "2023-01-24T19:29:01.896Z"
   },
   {
    "duration": 0,
    "start_time": "2023-01-24T19:29:01.897Z"
   },
   {
    "duration": 0,
    "start_time": "2023-01-24T19:29:01.899Z"
   },
   {
    "duration": 1220,
    "start_time": "2023-01-24T19:29:27.722Z"
   },
   {
    "duration": 4,
    "start_time": "2023-01-24T19:29:28.944Z"
   },
   {
    "duration": 112,
    "start_time": "2023-01-24T19:29:28.950Z"
   },
   {
    "duration": 58,
    "start_time": "2023-01-24T19:29:29.064Z"
   },
   {
    "duration": 19,
    "start_time": "2023-01-24T19:29:29.124Z"
   },
   {
    "duration": 40,
    "start_time": "2023-01-24T19:29:29.146Z"
   },
   {
    "duration": 89,
    "start_time": "2023-01-24T19:29:29.188Z"
   },
   {
    "duration": 72,
    "start_time": "2023-01-24T19:29:29.278Z"
   },
   {
    "duration": 67,
    "start_time": "2023-01-24T19:29:29.351Z"
   },
   {
    "duration": 74,
    "start_time": "2023-01-24T19:29:29.420Z"
   },
   {
    "duration": 55,
    "start_time": "2023-01-24T19:29:29.496Z"
   },
   {
    "duration": 36,
    "start_time": "2023-01-24T19:29:29.553Z"
   },
   {
    "duration": 17,
    "start_time": "2023-01-24T19:34:00.126Z"
   },
   {
    "duration": 1251,
    "start_time": "2023-01-24T19:34:18.240Z"
   },
   {
    "duration": 3,
    "start_time": "2023-01-24T19:34:19.493Z"
   },
   {
    "duration": 119,
    "start_time": "2023-01-24T19:34:19.497Z"
   },
   {
    "duration": 74,
    "start_time": "2023-01-24T19:34:19.618Z"
   },
   {
    "duration": 6,
    "start_time": "2023-01-24T19:34:19.694Z"
   },
   {
    "duration": 58,
    "start_time": "2023-01-24T19:34:19.702Z"
   },
   {
    "duration": 43,
    "start_time": "2023-01-24T19:34:19.762Z"
   },
   {
    "duration": 58,
    "start_time": "2023-01-24T19:34:19.807Z"
   },
   {
    "duration": 27,
    "start_time": "2023-01-24T19:34:19.867Z"
   },
   {
    "duration": 55,
    "start_time": "2023-01-24T19:34:19.896Z"
   },
   {
    "duration": 34,
    "start_time": "2023-01-24T19:34:19.953Z"
   },
   {
    "duration": 60,
    "start_time": "2023-01-24T19:34:19.988Z"
   },
   {
    "duration": 34,
    "start_time": "2023-01-24T19:34:20.050Z"
   },
   {
    "duration": 11,
    "start_time": "2023-01-24T19:35:03.513Z"
   },
   {
    "duration": 1218,
    "start_time": "2023-01-24T19:35:31.759Z"
   },
   {
    "duration": 2,
    "start_time": "2023-01-24T19:35:32.979Z"
   },
   {
    "duration": 88,
    "start_time": "2023-01-24T19:35:32.983Z"
   },
   {
    "duration": 70,
    "start_time": "2023-01-24T19:35:33.074Z"
   },
   {
    "duration": 6,
    "start_time": "2023-01-24T19:35:33.145Z"
   },
   {
    "duration": 31,
    "start_time": "2023-01-24T19:35:33.153Z"
   },
   {
    "duration": 31,
    "start_time": "2023-01-24T19:35:33.186Z"
   },
   {
    "duration": 49,
    "start_time": "2023-01-24T19:35:33.219Z"
   },
   {
    "duration": 33,
    "start_time": "2023-01-24T19:35:33.269Z"
   },
   {
    "duration": 39,
    "start_time": "2023-01-24T19:35:33.305Z"
   },
   {
    "duration": 26,
    "start_time": "2023-01-24T19:35:33.345Z"
   },
   {
    "duration": 47,
    "start_time": "2023-01-24T19:35:33.372Z"
   },
   {
    "duration": 51,
    "start_time": "2023-01-24T19:35:33.421Z"
   },
   {
    "duration": 10,
    "start_time": "2023-01-24T19:40:02.788Z"
   },
   {
    "duration": 1191,
    "start_time": "2023-01-24T19:41:27.553Z"
   },
   {
    "duration": 9,
    "start_time": "2023-01-24T19:41:28.748Z"
   },
   {
    "duration": 66,
    "start_time": "2023-01-24T19:41:28.759Z"
   },
   {
    "duration": 60,
    "start_time": "2023-01-24T19:41:28.830Z"
   },
   {
    "duration": 38,
    "start_time": "2023-01-24T19:41:28.893Z"
   },
   {
    "duration": 14,
    "start_time": "2023-01-24T19:41:28.933Z"
   },
   {
    "duration": 13,
    "start_time": "2023-01-24T19:41:28.949Z"
   },
   {
    "duration": 3,
    "start_time": "2023-01-24T19:41:28.964Z"
   },
   {
    "duration": 8,
    "start_time": "2023-01-24T19:41:28.969Z"
   },
   {
    "duration": 9,
    "start_time": "2023-01-24T19:41:28.978Z"
   },
   {
    "duration": 19,
    "start_time": "2023-01-24T19:41:28.988Z"
   },
   {
    "duration": 28,
    "start_time": "2023-01-24T19:41:29.008Z"
   },
   {
    "duration": 1167,
    "start_time": "2023-01-24T19:43:24.354Z"
   },
   {
    "duration": 19,
    "start_time": "2023-01-24T19:43:25.523Z"
   },
   {
    "duration": 101,
    "start_time": "2023-01-24T19:43:25.544Z"
   },
   {
    "duration": 68,
    "start_time": "2023-01-24T19:43:25.648Z"
   },
   {
    "duration": 28,
    "start_time": "2023-01-24T19:43:25.718Z"
   },
   {
    "duration": 13,
    "start_time": "2023-01-24T19:43:25.748Z"
   },
   {
    "duration": 18,
    "start_time": "2023-01-24T19:43:25.763Z"
   },
   {
    "duration": 6,
    "start_time": "2023-01-24T19:43:25.783Z"
   },
   {
    "duration": 6,
    "start_time": "2023-01-24T19:43:25.791Z"
   },
   {
    "duration": 5,
    "start_time": "2023-01-24T19:43:25.799Z"
   },
   {
    "duration": 15,
    "start_time": "2023-01-24T19:43:25.806Z"
   },
   {
    "duration": 26,
    "start_time": "2023-01-24T19:43:25.822Z"
   },
   {
    "duration": 119,
    "start_time": "2023-01-24T19:55:07.845Z"
   },
   {
    "duration": 9,
    "start_time": "2023-01-24T19:56:39.706Z"
   },
   {
    "duration": 1171,
    "start_time": "2023-01-24T19:56:46.147Z"
   },
   {
    "duration": 3,
    "start_time": "2023-01-24T19:56:47.320Z"
   },
   {
    "duration": 79,
    "start_time": "2023-01-24T19:56:47.330Z"
   },
   {
    "duration": 55,
    "start_time": "2023-01-24T19:56:47.411Z"
   },
   {
    "duration": 5,
    "start_time": "2023-01-24T19:56:47.468Z"
   },
   {
    "duration": 7,
    "start_time": "2023-01-24T19:56:47.474Z"
   },
   {
    "duration": 11,
    "start_time": "2023-01-24T19:56:47.483Z"
   },
   {
    "duration": 3,
    "start_time": "2023-01-24T19:56:47.496Z"
   },
   {
    "duration": 8,
    "start_time": "2023-01-24T19:56:47.527Z"
   },
   {
    "duration": 8,
    "start_time": "2023-01-24T19:56:47.541Z"
   },
   {
    "duration": 18,
    "start_time": "2023-01-24T19:56:47.550Z"
   },
   {
    "duration": 12,
    "start_time": "2023-01-24T19:56:47.570Z"
   },
   {
    "duration": 99,
    "start_time": "2023-01-24T19:56:58.968Z"
   },
   {
    "duration": 1216,
    "start_time": "2023-01-24T19:57:07.445Z"
   },
   {
    "duration": 3,
    "start_time": "2023-01-24T19:57:08.664Z"
   },
   {
    "duration": 73,
    "start_time": "2023-01-24T19:57:08.669Z"
   },
   {
    "duration": 55,
    "start_time": "2023-01-24T19:57:08.744Z"
   },
   {
    "duration": 5,
    "start_time": "2023-01-24T19:57:08.801Z"
   },
   {
    "duration": 23,
    "start_time": "2023-01-24T19:57:08.808Z"
   },
   {
    "duration": 23,
    "start_time": "2023-01-24T19:57:08.833Z"
   },
   {
    "duration": 3,
    "start_time": "2023-01-24T19:57:08.858Z"
   },
   {
    "duration": 12,
    "start_time": "2023-01-24T19:57:08.863Z"
   },
   {
    "duration": 12,
    "start_time": "2023-01-24T19:57:08.876Z"
   },
   {
    "duration": 14,
    "start_time": "2023-01-24T19:57:08.889Z"
   },
   {
    "duration": 12,
    "start_time": "2023-01-24T19:57:08.905Z"
   },
   {
    "duration": 10,
    "start_time": "2023-01-24T19:57:56.052Z"
   },
   {
    "duration": 1097,
    "start_time": "2023-01-24T19:58:04.047Z"
   },
   {
    "duration": 3,
    "start_time": "2023-01-24T19:58:05.146Z"
   },
   {
    "duration": 102,
    "start_time": "2023-01-24T19:58:05.151Z"
   },
   {
    "duration": 57,
    "start_time": "2023-01-24T19:58:05.255Z"
   },
   {
    "duration": 20,
    "start_time": "2023-01-24T19:58:05.314Z"
   },
   {
    "duration": 36,
    "start_time": "2023-01-24T19:58:05.335Z"
   },
   {
    "duration": 25,
    "start_time": "2023-01-24T19:58:05.373Z"
   },
   {
    "duration": 41,
    "start_time": "2023-01-24T19:58:05.399Z"
   },
   {
    "duration": 36,
    "start_time": "2023-01-24T19:58:05.442Z"
   },
   {
    "duration": 36,
    "start_time": "2023-01-24T19:58:05.480Z"
   },
   {
    "duration": 59,
    "start_time": "2023-01-24T19:58:05.518Z"
   },
   {
    "duration": 22,
    "start_time": "2023-01-24T19:58:05.578Z"
   },
   {
    "duration": 5,
    "start_time": "2023-01-24T19:58:30.764Z"
   },
   {
    "duration": 16,
    "start_time": "2023-01-24T19:58:52.645Z"
   },
   {
    "duration": 9,
    "start_time": "2023-01-24T20:05:52.328Z"
   },
   {
    "duration": 1144,
    "start_time": "2023-01-24T20:06:01.844Z"
   },
   {
    "duration": 3,
    "start_time": "2023-01-24T20:06:02.990Z"
   },
   {
    "duration": 94,
    "start_time": "2023-01-24T20:06:02.994Z"
   },
   {
    "duration": 61,
    "start_time": "2023-01-24T20:06:03.090Z"
   },
   {
    "duration": 5,
    "start_time": "2023-01-24T20:06:03.153Z"
   },
   {
    "duration": 8,
    "start_time": "2023-01-24T20:06:03.160Z"
   },
   {
    "duration": 11,
    "start_time": "2023-01-24T20:06:03.170Z"
   },
   {
    "duration": 3,
    "start_time": "2023-01-24T20:06:03.183Z"
   },
   {
    "duration": 20,
    "start_time": "2023-01-24T20:06:03.187Z"
   },
   {
    "duration": 36,
    "start_time": "2023-01-24T20:06:03.208Z"
   },
   {
    "duration": 14,
    "start_time": "2023-01-24T20:06:03.246Z"
   },
   {
    "duration": 12,
    "start_time": "2023-01-24T20:09:10.211Z"
   },
   {
    "duration": 1152,
    "start_time": "2023-01-24T20:09:21.296Z"
   },
   {
    "duration": 3,
    "start_time": "2023-01-24T20:09:22.450Z"
   },
   {
    "duration": 70,
    "start_time": "2023-01-24T20:09:22.454Z"
   },
   {
    "duration": 58,
    "start_time": "2023-01-24T20:09:22.526Z"
   },
   {
    "duration": 5,
    "start_time": "2023-01-24T20:09:22.586Z"
   },
   {
    "duration": 47,
    "start_time": "2023-01-24T20:09:22.593Z"
   },
   {
    "duration": 12,
    "start_time": "2023-01-24T20:09:22.643Z"
   },
   {
    "duration": 4,
    "start_time": "2023-01-24T20:09:22.656Z"
   },
   {
    "duration": 7,
    "start_time": "2023-01-24T20:09:22.661Z"
   },
   {
    "duration": 17,
    "start_time": "2023-01-24T20:09:22.670Z"
   },
   {
    "duration": 12,
    "start_time": "2023-01-24T20:09:22.688Z"
   },
   {
    "duration": 41,
    "start_time": "2023-01-24T20:09:22.702Z"
   },
   {
    "duration": 1134,
    "start_time": "2023-01-24T20:14:42.891Z"
   },
   {
    "duration": 7,
    "start_time": "2023-01-24T20:14:44.027Z"
   },
   {
    "duration": 89,
    "start_time": "2023-01-24T20:14:44.035Z"
   },
   {
    "duration": 68,
    "start_time": "2023-01-24T20:14:44.125Z"
   },
   {
    "duration": 6,
    "start_time": "2023-01-24T20:14:44.195Z"
   },
   {
    "duration": 56,
    "start_time": "2023-01-24T20:14:44.202Z"
   },
   {
    "duration": 12,
    "start_time": "2023-01-24T20:14:44.260Z"
   },
   {
    "duration": 3,
    "start_time": "2023-01-24T20:14:44.273Z"
   },
   {
    "duration": 7,
    "start_time": "2023-01-24T20:14:44.278Z"
   },
   {
    "duration": 16,
    "start_time": "2023-01-24T20:14:44.287Z"
   },
   {
    "duration": 12,
    "start_time": "2023-01-24T20:14:44.305Z"
   },
   {
    "duration": 101,
    "start_time": "2023-01-24T21:32:23.171Z"
   },
   {
    "duration": 1079,
    "start_time": "2023-01-24T21:32:38.351Z"
   },
   {
    "duration": 3,
    "start_time": "2023-01-24T21:32:39.431Z"
   },
   {
    "duration": 86,
    "start_time": "2023-01-24T21:32:39.435Z"
   },
   {
    "duration": 54,
    "start_time": "2023-01-24T21:32:39.523Z"
   },
   {
    "duration": 6,
    "start_time": "2023-01-24T21:32:39.578Z"
   },
   {
    "duration": 12,
    "start_time": "2023-01-24T21:32:39.586Z"
   },
   {
    "duration": 35,
    "start_time": "2023-01-24T21:32:39.600Z"
   },
   {
    "duration": 10,
    "start_time": "2023-01-24T21:32:39.636Z"
   },
   {
    "duration": 21,
    "start_time": "2023-01-24T21:32:39.648Z"
   },
   {
    "duration": 114,
    "start_time": "2023-01-24T21:32:39.672Z"
   },
   {
    "duration": 0,
    "start_time": "2023-01-24T21:32:39.788Z"
   },
   {
    "duration": 0,
    "start_time": "2023-01-24T21:32:39.790Z"
   },
   {
    "duration": 10,
    "start_time": "2023-01-24T21:33:25.299Z"
   },
   {
    "duration": 3,
    "start_time": "2023-01-24T21:33:32.891Z"
   },
   {
    "duration": 1118,
    "start_time": "2023-01-24T21:33:40.087Z"
   },
   {
    "duration": 3,
    "start_time": "2023-01-24T21:33:41.206Z"
   },
   {
    "duration": 89,
    "start_time": "2023-01-24T21:33:41.210Z"
   },
   {
    "duration": 51,
    "start_time": "2023-01-24T21:33:41.301Z"
   },
   {
    "duration": 5,
    "start_time": "2023-01-24T21:33:41.354Z"
   },
   {
    "duration": 21,
    "start_time": "2023-01-24T21:33:41.360Z"
   },
   {
    "duration": 38,
    "start_time": "2023-01-24T21:33:41.383Z"
   },
   {
    "duration": 11,
    "start_time": "2023-01-24T21:33:41.423Z"
   },
   {
    "duration": 29,
    "start_time": "2023-01-24T21:33:41.435Z"
   },
   {
    "duration": 28,
    "start_time": "2023-01-24T21:33:41.467Z"
   },
   {
    "duration": 22,
    "start_time": "2023-01-24T21:33:41.496Z"
   },
   {
    "duration": 99,
    "start_time": "2023-01-24T21:34:28.152Z"
   },
   {
    "duration": 14,
    "start_time": "2023-01-24T21:34:55.129Z"
   },
   {
    "duration": 9,
    "start_time": "2023-01-24T21:42:03.651Z"
   },
   {
    "duration": 1422,
    "start_time": "2023-01-25T09:48:14.063Z"
   },
   {
    "duration": 3,
    "start_time": "2023-01-25T09:48:15.487Z"
   },
   {
    "duration": 266,
    "start_time": "2023-01-25T09:48:15.492Z"
   },
   {
    "duration": 61,
    "start_time": "2023-01-25T09:48:15.760Z"
   },
   {
    "duration": 17,
    "start_time": "2023-01-25T09:48:15.824Z"
   },
   {
    "duration": 10,
    "start_time": "2023-01-25T09:48:15.843Z"
   },
   {
    "duration": 18,
    "start_time": "2023-01-25T09:48:15.854Z"
   },
   {
    "duration": 4,
    "start_time": "2023-01-25T09:48:15.874Z"
   },
   {
    "duration": 7,
    "start_time": "2023-01-25T09:48:15.879Z"
   },
   {
    "duration": 18,
    "start_time": "2023-01-25T09:48:15.888Z"
   },
   {
    "duration": 35,
    "start_time": "2023-01-25T09:48:15.908Z"
   },
   {
    "duration": 1268,
    "start_time": "2023-01-25T10:43:18.418Z"
   },
   {
    "duration": 4,
    "start_time": "2023-01-25T10:43:19.688Z"
   },
   {
    "duration": 91,
    "start_time": "2023-01-25T10:43:19.694Z"
   },
   {
    "duration": 58,
    "start_time": "2023-01-25T10:43:19.787Z"
   },
   {
    "duration": 6,
    "start_time": "2023-01-25T10:43:19.847Z"
   },
   {
    "duration": 25,
    "start_time": "2023-01-25T10:43:19.854Z"
   },
   {
    "duration": 35,
    "start_time": "2023-01-25T10:43:19.881Z"
   },
   {
    "duration": 9,
    "start_time": "2023-01-25T10:43:19.918Z"
   },
   {
    "duration": 26,
    "start_time": "2023-01-25T10:43:19.929Z"
   },
   {
    "duration": 29,
    "start_time": "2023-01-25T10:43:19.957Z"
   },
   {
    "duration": 50,
    "start_time": "2023-01-25T10:43:19.988Z"
   },
   {
    "duration": 105,
    "start_time": "2023-01-25T10:46:47.100Z"
   },
   {
    "duration": 1240,
    "start_time": "2023-01-25T10:47:02.769Z"
   },
   {
    "duration": 4,
    "start_time": "2023-01-25T10:47:04.011Z"
   },
   {
    "duration": 100,
    "start_time": "2023-01-25T10:47:04.016Z"
   },
   {
    "duration": 60,
    "start_time": "2023-01-25T10:47:04.118Z"
   },
   {
    "duration": 6,
    "start_time": "2023-01-25T10:47:04.180Z"
   },
   {
    "duration": 45,
    "start_time": "2023-01-25T10:47:04.187Z"
   },
   {
    "duration": 45,
    "start_time": "2023-01-25T10:47:04.234Z"
   },
   {
    "duration": 29,
    "start_time": "2023-01-25T10:47:04.280Z"
   },
   {
    "duration": 39,
    "start_time": "2023-01-25T10:47:04.310Z"
   },
   {
    "duration": 139,
    "start_time": "2023-01-25T10:47:04.351Z"
   },
   {
    "duration": 0,
    "start_time": "2023-01-25T10:47:04.492Z"
   },
   {
    "duration": 0,
    "start_time": "2023-01-25T10:47:04.494Z"
   },
   {
    "duration": 11,
    "start_time": "2023-01-25T10:47:34.758Z"
   },
   {
    "duration": 17,
    "start_time": "2023-01-25T10:48:30.609Z"
   },
   {
    "duration": 20,
    "start_time": "2023-01-25T10:48:52.048Z"
   },
   {
    "duration": 10,
    "start_time": "2023-01-25T10:49:22.021Z"
   },
   {
    "duration": 1193,
    "start_time": "2023-01-25T10:49:34.459Z"
   },
   {
    "duration": 3,
    "start_time": "2023-01-25T10:49:35.654Z"
   },
   {
    "duration": 85,
    "start_time": "2023-01-25T10:49:35.658Z"
   },
   {
    "duration": 56,
    "start_time": "2023-01-25T10:49:35.745Z"
   },
   {
    "duration": 7,
    "start_time": "2023-01-25T10:49:35.803Z"
   },
   {
    "duration": 6,
    "start_time": "2023-01-25T10:49:35.838Z"
   },
   {
    "duration": 21,
    "start_time": "2023-01-25T10:49:35.846Z"
   },
   {
    "duration": 5,
    "start_time": "2023-01-25T10:49:35.868Z"
   },
   {
    "duration": 17,
    "start_time": "2023-01-25T10:49:35.874Z"
   },
   {
    "duration": 12,
    "start_time": "2023-01-25T10:49:35.893Z"
   },
   {
    "duration": 13,
    "start_time": "2023-01-25T10:49:35.907Z"
   },
   {
    "duration": 24,
    "start_time": "2023-01-25T10:49:35.922Z"
   },
   {
    "duration": 110,
    "start_time": "2023-01-25T10:51:21.370Z"
   },
   {
    "duration": 1223,
    "start_time": "2023-01-25T10:51:31.058Z"
   },
   {
    "duration": 3,
    "start_time": "2023-01-25T10:51:32.283Z"
   },
   {
    "duration": 85,
    "start_time": "2023-01-25T10:51:32.288Z"
   },
   {
    "duration": 58,
    "start_time": "2023-01-25T10:51:32.375Z"
   },
   {
    "duration": 7,
    "start_time": "2023-01-25T10:51:32.435Z"
   },
   {
    "duration": 25,
    "start_time": "2023-01-25T10:51:32.444Z"
   },
   {
    "duration": 20,
    "start_time": "2023-01-25T10:51:32.471Z"
   },
   {
    "duration": 7,
    "start_time": "2023-01-25T10:51:32.493Z"
   },
   {
    "duration": 18,
    "start_time": "2023-01-25T10:51:32.502Z"
   },
   {
    "duration": 109,
    "start_time": "2023-01-25T10:51:32.523Z"
   },
   {
    "duration": 0,
    "start_time": "2023-01-25T10:51:32.636Z"
   },
   {
    "duration": 0,
    "start_time": "2023-01-25T10:51:32.637Z"
   },
   {
    "duration": 15,
    "start_time": "2023-01-25T10:57:46.267Z"
   },
   {
    "duration": 12,
    "start_time": "2023-01-25T10:58:01.708Z"
   },
   {
    "duration": 11,
    "start_time": "2023-01-25T11:02:24.067Z"
   },
   {
    "duration": 9,
    "start_time": "2023-01-25T11:03:50.801Z"
   },
   {
    "duration": 13,
    "start_time": "2023-01-25T11:04:29.744Z"
   },
   {
    "duration": 1171,
    "start_time": "2023-01-25T11:04:54.796Z"
   },
   {
    "duration": 3,
    "start_time": "2023-01-25T11:04:55.969Z"
   },
   {
    "duration": 128,
    "start_time": "2023-01-25T11:04:55.974Z"
   },
   {
    "duration": 59,
    "start_time": "2023-01-25T11:04:56.104Z"
   },
   {
    "duration": 5,
    "start_time": "2023-01-25T11:04:56.166Z"
   },
   {
    "duration": 37,
    "start_time": "2023-01-25T11:04:56.173Z"
   },
   {
    "duration": 56,
    "start_time": "2023-01-25T11:04:56.212Z"
   },
   {
    "duration": 50,
    "start_time": "2023-01-25T11:04:56.270Z"
   },
   {
    "duration": 19,
    "start_time": "2023-01-25T11:04:56.322Z"
   },
   {
    "duration": 53,
    "start_time": "2023-01-25T11:04:56.343Z"
   },
   {
    "duration": 32,
    "start_time": "2023-01-25T11:04:56.398Z"
   },
   {
    "duration": 47,
    "start_time": "2023-01-25T11:04:56.431Z"
   },
   {
    "duration": 56,
    "start_time": "2023-01-25T11:05:52.785Z"
   },
   {
    "duration": 1227,
    "start_time": "2023-01-25T11:06:09.544Z"
   },
   {
    "duration": 3,
    "start_time": "2023-01-25T11:06:10.773Z"
   },
   {
    "duration": 83,
    "start_time": "2023-01-25T11:06:10.778Z"
   },
   {
    "duration": 58,
    "start_time": "2023-01-25T11:06:10.864Z"
   },
   {
    "duration": 17,
    "start_time": "2023-01-25T11:06:10.924Z"
   },
   {
    "duration": 9,
    "start_time": "2023-01-25T11:06:10.942Z"
   },
   {
    "duration": 13,
    "start_time": "2023-01-25T11:06:10.953Z"
   },
   {
    "duration": 4,
    "start_time": "2023-01-25T11:06:10.967Z"
   },
   {
    "duration": 8,
    "start_time": "2023-01-25T11:06:10.972Z"
   },
   {
    "duration": 20,
    "start_time": "2023-01-25T11:06:10.981Z"
   },
   {
    "duration": 76,
    "start_time": "2023-01-25T11:06:11.003Z"
   },
   {
    "duration": 14,
    "start_time": "2023-01-25T11:06:11.080Z"
   },
   {
    "duration": 48,
    "start_time": "2023-01-25T11:06:11.096Z"
   },
   {
    "duration": 112,
    "start_time": "2023-01-25T11:07:31.445Z"
   },
   {
    "duration": 10,
    "start_time": "2023-01-25T11:08:25.383Z"
   },
   {
    "duration": 11,
    "start_time": "2023-01-25T11:08:39.345Z"
   },
   {
    "duration": 10,
    "start_time": "2023-01-25T11:10:14.613Z"
   },
   {
    "duration": 11,
    "start_time": "2023-01-25T11:10:36.635Z"
   },
   {
    "duration": 49,
    "start_time": "2023-01-25T11:30:49.897Z"
   },
   {
    "duration": 1297,
    "start_time": "2023-01-25T11:30:57.558Z"
   },
   {
    "duration": 3,
    "start_time": "2023-01-25T11:30:58.857Z"
   },
   {
    "duration": 234,
    "start_time": "2023-01-25T11:30:58.861Z"
   },
   {
    "duration": 55,
    "start_time": "2023-01-25T11:30:59.097Z"
   },
   {
    "duration": 5,
    "start_time": "2023-01-25T11:30:59.154Z"
   },
   {
    "duration": 35,
    "start_time": "2023-01-25T11:30:59.160Z"
   },
   {
    "duration": 10,
    "start_time": "2023-01-25T11:30:59.197Z"
   },
   {
    "duration": 9,
    "start_time": "2023-01-25T11:30:59.209Z"
   },
   {
    "duration": 22,
    "start_time": "2023-01-25T11:30:59.220Z"
   },
   {
    "duration": 19,
    "start_time": "2023-01-25T11:30:59.245Z"
   },
   {
    "duration": 37,
    "start_time": "2023-01-25T11:30:59.266Z"
   },
   {
    "duration": 25,
    "start_time": "2023-01-25T11:30:59.305Z"
   },
   {
    "duration": 123,
    "start_time": "2023-01-25T11:32:23.288Z"
   },
   {
    "duration": 8,
    "start_time": "2023-01-25T11:32:37.034Z"
   },
   {
    "duration": 1245,
    "start_time": "2023-01-25T11:32:42.988Z"
   },
   {
    "duration": 4,
    "start_time": "2023-01-25T11:32:44.235Z"
   },
   {
    "duration": 93,
    "start_time": "2023-01-25T11:32:44.241Z"
   },
   {
    "duration": 55,
    "start_time": "2023-01-25T11:32:44.336Z"
   },
   {
    "duration": 9,
    "start_time": "2023-01-25T11:32:44.392Z"
   },
   {
    "duration": 18,
    "start_time": "2023-01-25T11:32:44.403Z"
   },
   {
    "duration": 17,
    "start_time": "2023-01-25T11:32:44.423Z"
   },
   {
    "duration": 6,
    "start_time": "2023-01-25T11:32:44.442Z"
   },
   {
    "duration": 7,
    "start_time": "2023-01-25T11:32:44.449Z"
   },
   {
    "duration": 10,
    "start_time": "2023-01-25T11:32:44.459Z"
   },
   {
    "duration": 13,
    "start_time": "2023-01-25T11:32:44.470Z"
   },
   {
    "duration": 18,
    "start_time": "2023-01-25T11:32:44.484Z"
   },
   {
    "duration": 70,
    "start_time": "2023-01-25T11:35:04.063Z"
   },
   {
    "duration": 1170,
    "start_time": "2023-01-25T11:35:18.530Z"
   },
   {
    "duration": 3,
    "start_time": "2023-01-25T11:35:19.702Z"
   },
   {
    "duration": 90,
    "start_time": "2023-01-25T11:35:19.706Z"
   },
   {
    "duration": 65,
    "start_time": "2023-01-25T11:35:19.798Z"
   },
   {
    "duration": 30,
    "start_time": "2023-01-25T11:35:19.864Z"
   },
   {
    "duration": 9,
    "start_time": "2023-01-25T11:35:19.896Z"
   },
   {
    "duration": 16,
    "start_time": "2023-01-25T11:35:19.907Z"
   },
   {
    "duration": 5,
    "start_time": "2023-01-25T11:35:19.925Z"
   },
   {
    "duration": 7,
    "start_time": "2023-01-25T11:35:19.933Z"
   },
   {
    "duration": 12,
    "start_time": "2023-01-25T11:35:19.943Z"
   },
   {
    "duration": 88,
    "start_time": "2023-01-25T11:35:19.957Z"
   },
   {
    "duration": 14,
    "start_time": "2023-01-25T11:35:20.047Z"
   },
   {
    "duration": 41,
    "start_time": "2023-01-25T11:35:20.093Z"
   },
   {
    "duration": 10,
    "start_time": "2023-01-25T11:43:12.427Z"
   },
   {
    "duration": 138,
    "start_time": "2023-01-25T11:43:56.429Z"
   },
   {
    "duration": 16,
    "start_time": "2023-01-25T11:44:56.427Z"
   },
   {
    "duration": 1165,
    "start_time": "2023-01-25T11:53:34.822Z"
   },
   {
    "duration": 5,
    "start_time": "2023-01-25T11:53:35.989Z"
   },
   {
    "duration": 105,
    "start_time": "2023-01-25T11:53:36.006Z"
   },
   {
    "duration": 53,
    "start_time": "2023-01-25T11:53:36.112Z"
   },
   {
    "duration": 5,
    "start_time": "2023-01-25T11:53:36.168Z"
   },
   {
    "duration": 31,
    "start_time": "2023-01-25T11:53:36.174Z"
   },
   {
    "duration": 7,
    "start_time": "2023-01-25T11:53:36.207Z"
   },
   {
    "duration": 9,
    "start_time": "2023-01-25T11:53:36.215Z"
   },
   {
    "duration": 120,
    "start_time": "2023-01-25T11:53:36.225Z"
   },
   {
    "duration": 0,
    "start_time": "2023-01-25T11:53:36.346Z"
   },
   {
    "duration": 0,
    "start_time": "2023-01-25T11:53:36.347Z"
   },
   {
    "duration": 49,
    "start_time": "2023-01-25T11:53:48.803Z"
   },
   {
    "duration": 1205,
    "start_time": "2023-01-25T11:53:59.917Z"
   },
   {
    "duration": 3,
    "start_time": "2023-01-25T11:54:01.124Z"
   },
   {
    "duration": 334,
    "start_time": "2023-01-25T11:54:01.129Z"
   },
   {
    "duration": 250,
    "start_time": "2023-01-25T11:54:01.465Z"
   },
   {
    "duration": 12,
    "start_time": "2023-01-25T11:54:01.718Z"
   },
   {
    "duration": 28,
    "start_time": "2023-01-25T11:54:01.731Z"
   },
   {
    "duration": 30,
    "start_time": "2023-01-25T11:54:01.761Z"
   },
   {
    "duration": 60,
    "start_time": "2023-01-25T11:54:01.793Z"
   },
   {
    "duration": 135,
    "start_time": "2023-01-25T11:54:01.855Z"
   },
   {
    "duration": 19,
    "start_time": "2023-01-25T11:54:01.991Z"
   },
   {
    "duration": 55,
    "start_time": "2023-01-25T11:54:02.012Z"
   },
   {
    "duration": 1265,
    "start_time": "2023-01-25T11:55:22.078Z"
   },
   {
    "duration": 3,
    "start_time": "2023-01-25T11:55:23.346Z"
   },
   {
    "duration": 86,
    "start_time": "2023-01-25T11:55:23.351Z"
   },
   {
    "duration": 65,
    "start_time": "2023-01-25T11:55:23.440Z"
   },
   {
    "duration": 7,
    "start_time": "2023-01-25T11:55:23.509Z"
   },
   {
    "duration": 6,
    "start_time": "2023-01-25T11:55:23.518Z"
   },
   {
    "duration": 5,
    "start_time": "2023-01-25T11:55:23.526Z"
   },
   {
    "duration": 8,
    "start_time": "2023-01-25T11:55:23.533Z"
   },
   {
    "duration": 84,
    "start_time": "2023-01-25T11:55:23.542Z"
   },
   {
    "duration": 12,
    "start_time": "2023-01-25T11:55:23.628Z"
   },
   {
    "duration": 12,
    "start_time": "2023-01-25T11:55:23.641Z"
   },
   {
    "duration": 1223,
    "start_time": "2023-01-25T11:56:54.330Z"
   },
   {
    "duration": 3,
    "start_time": "2023-01-25T11:56:55.555Z"
   },
   {
    "duration": 95,
    "start_time": "2023-01-25T11:56:55.559Z"
   },
   {
    "duration": 68,
    "start_time": "2023-01-25T11:56:55.655Z"
   },
   {
    "duration": 6,
    "start_time": "2023-01-25T11:56:55.725Z"
   },
   {
    "duration": 10,
    "start_time": "2023-01-25T11:56:55.732Z"
   },
   {
    "duration": 11,
    "start_time": "2023-01-25T11:56:55.744Z"
   },
   {
    "duration": 42,
    "start_time": "2023-01-25T11:56:55.757Z"
   },
   {
    "duration": 7,
    "start_time": "2023-01-25T11:56:55.801Z"
   },
   {
    "duration": 17,
    "start_time": "2023-01-25T11:56:55.810Z"
   },
   {
    "duration": 12,
    "start_time": "2023-01-25T11:56:55.829Z"
   },
   {
    "duration": 1173,
    "start_time": "2023-01-25T11:57:11.006Z"
   },
   {
    "duration": 3,
    "start_time": "2023-01-25T11:57:12.182Z"
   },
   {
    "duration": 92,
    "start_time": "2023-01-25T11:57:12.195Z"
   },
   {
    "duration": 62,
    "start_time": "2023-01-25T11:57:12.288Z"
   },
   {
    "duration": 42,
    "start_time": "2023-01-25T11:57:12.352Z"
   },
   {
    "duration": 9,
    "start_time": "2023-01-25T11:57:12.396Z"
   },
   {
    "duration": 4,
    "start_time": "2023-01-25T11:57:12.409Z"
   },
   {
    "duration": 11,
    "start_time": "2023-01-25T11:57:12.414Z"
   },
   {
    "duration": 87,
    "start_time": "2023-01-25T11:57:12.426Z"
   },
   {
    "duration": 18,
    "start_time": "2023-01-25T11:57:12.514Z"
   },
   {
    "duration": 30,
    "start_time": "2023-01-25T11:57:12.534Z"
   },
   {
    "duration": 1173,
    "start_time": "2023-01-25T11:57:41.229Z"
   },
   {
    "duration": 4,
    "start_time": "2023-01-25T11:57:42.409Z"
   },
   {
    "duration": 98,
    "start_time": "2023-01-25T11:57:42.415Z"
   },
   {
    "duration": 63,
    "start_time": "2023-01-25T11:57:42.516Z"
   },
   {
    "duration": 6,
    "start_time": "2023-01-25T11:57:42.593Z"
   },
   {
    "duration": 29,
    "start_time": "2023-01-25T11:57:42.603Z"
   },
   {
    "duration": 28,
    "start_time": "2023-01-25T11:57:42.634Z"
   },
   {
    "duration": 17,
    "start_time": "2023-01-25T11:57:42.663Z"
   },
   {
    "duration": 8,
    "start_time": "2023-01-25T11:57:42.682Z"
   },
   {
    "duration": 39,
    "start_time": "2023-01-25T11:57:42.692Z"
   },
   {
    "duration": 12,
    "start_time": "2023-01-25T11:57:42.733Z"
   },
   {
    "duration": 4621,
    "start_time": "2023-01-25T12:14:19.315Z"
   },
   {
    "duration": 6,
    "start_time": "2023-01-25T12:14:23.938Z"
   },
   {
    "duration": 84,
    "start_time": "2023-01-25T12:14:23.946Z"
   },
   {
    "duration": 77,
    "start_time": "2023-01-25T12:14:24.032Z"
   },
   {
    "duration": 8,
    "start_time": "2023-01-25T12:14:24.113Z"
   },
   {
    "duration": 6,
    "start_time": "2023-01-25T12:14:24.123Z"
   },
   {
    "duration": 8,
    "start_time": "2023-01-25T12:14:24.131Z"
   },
   {
    "duration": 9,
    "start_time": "2023-01-25T12:14:24.141Z"
   },
   {
    "duration": 6,
    "start_time": "2023-01-25T12:14:24.152Z"
   },
   {
    "duration": 40,
    "start_time": "2023-01-25T12:14:24.159Z"
   },
   {
    "duration": 14,
    "start_time": "2023-01-25T12:14:24.200Z"
   },
   {
    "duration": 1206,
    "start_time": "2023-01-25T13:05:49.096Z"
   },
   {
    "duration": 7,
    "start_time": "2023-01-25T13:05:50.304Z"
   },
   {
    "duration": 76,
    "start_time": "2023-01-25T13:05:50.313Z"
   },
   {
    "duration": 76,
    "start_time": "2023-01-25T13:05:50.391Z"
   },
   {
    "duration": 41,
    "start_time": "2023-01-25T13:05:50.469Z"
   },
   {
    "duration": 10,
    "start_time": "2023-01-25T13:05:50.512Z"
   },
   {
    "duration": 11,
    "start_time": "2023-01-25T13:05:50.524Z"
   },
   {
    "duration": 12,
    "start_time": "2023-01-25T13:05:50.537Z"
   },
   {
    "duration": 6,
    "start_time": "2023-01-25T13:05:50.550Z"
   },
   {
    "duration": 31,
    "start_time": "2023-01-25T13:05:50.557Z"
   },
   {
    "duration": 23,
    "start_time": "2023-01-25T13:05:50.590Z"
   },
   {
    "duration": 1213,
    "start_time": "2023-01-25T13:06:07.977Z"
   },
   {
    "duration": 13,
    "start_time": "2023-01-25T13:06:09.192Z"
   },
   {
    "duration": 84,
    "start_time": "2023-01-25T13:06:09.208Z"
   },
   {
    "duration": 55,
    "start_time": "2023-01-25T13:06:09.299Z"
   },
   {
    "duration": 7,
    "start_time": "2023-01-25T13:06:09.357Z"
   },
   {
    "duration": 38,
    "start_time": "2023-01-25T13:06:09.366Z"
   },
   {
    "duration": 12,
    "start_time": "2023-01-25T13:06:09.406Z"
   },
   {
    "duration": 12,
    "start_time": "2023-01-25T13:06:09.420Z"
   },
   {
    "duration": 5,
    "start_time": "2023-01-25T13:06:09.434Z"
   },
   {
    "duration": 27,
    "start_time": "2023-01-25T13:06:09.442Z"
   },
   {
    "duration": 30,
    "start_time": "2023-01-25T13:06:09.472Z"
   },
   {
    "duration": 10,
    "start_time": "2023-01-25T13:09:48.954Z"
   },
   {
    "duration": 7,
    "start_time": "2023-01-25T13:10:05.284Z"
   },
   {
    "duration": 13,
    "start_time": "2023-01-25T13:10:15.173Z"
   },
   {
    "duration": 113,
    "start_time": "2023-01-25T13:10:59.808Z"
   },
   {
    "duration": 11,
    "start_time": "2023-01-25T13:11:14.699Z"
   },
   {
    "duration": 13,
    "start_time": "2023-01-25T13:12:22.006Z"
   },
   {
    "duration": 1131,
    "start_time": "2023-01-25T13:13:33.357Z"
   },
   {
    "duration": 12,
    "start_time": "2023-01-25T13:13:34.491Z"
   },
   {
    "duration": 80,
    "start_time": "2023-01-25T13:13:34.509Z"
   },
   {
    "duration": 63,
    "start_time": "2023-01-25T13:13:34.591Z"
   },
   {
    "duration": 6,
    "start_time": "2023-01-25T13:13:34.656Z"
   },
   {
    "duration": 38,
    "start_time": "2023-01-25T13:13:34.663Z"
   },
   {
    "duration": 7,
    "start_time": "2023-01-25T13:13:34.709Z"
   },
   {
    "duration": 16,
    "start_time": "2023-01-25T13:13:34.718Z"
   },
   {
    "duration": 6,
    "start_time": "2023-01-25T13:13:34.736Z"
   },
   {
    "duration": 23,
    "start_time": "2023-01-25T13:13:34.744Z"
   },
   {
    "duration": 16,
    "start_time": "2023-01-25T13:13:34.769Z"
   },
   {
    "duration": 13,
    "start_time": "2023-01-25T13:15:14.923Z"
   },
   {
    "duration": 23,
    "start_time": "2023-01-25T13:15:26.208Z"
   },
   {
    "duration": 13,
    "start_time": "2023-01-25T13:16:29.423Z"
   },
   {
    "duration": 1283,
    "start_time": "2023-01-25T13:17:01.184Z"
   },
   {
    "duration": 2,
    "start_time": "2023-01-25T13:17:02.470Z"
   },
   {
    "duration": 99,
    "start_time": "2023-01-25T13:17:02.474Z"
   },
   {
    "duration": 65,
    "start_time": "2023-01-25T13:17:02.575Z"
   },
   {
    "duration": 7,
    "start_time": "2023-01-25T13:17:02.643Z"
   },
   {
    "duration": 44,
    "start_time": "2023-01-25T13:17:02.653Z"
   },
   {
    "duration": 16,
    "start_time": "2023-01-25T13:17:02.701Z"
   },
   {
    "duration": 12,
    "start_time": "2023-01-25T13:17:02.719Z"
   },
   {
    "duration": 6,
    "start_time": "2023-01-25T13:17:02.733Z"
   },
   {
    "duration": 17,
    "start_time": "2023-01-25T13:17:02.741Z"
   },
   {
    "duration": 14,
    "start_time": "2023-01-25T13:17:02.759Z"
   },
   {
    "duration": 28,
    "start_time": "2023-01-25T13:17:02.775Z"
   },
   {
    "duration": 1202,
    "start_time": "2023-01-25T13:47:53.488Z"
   },
   {
    "duration": 6,
    "start_time": "2023-01-25T13:47:54.694Z"
   },
   {
    "duration": 88,
    "start_time": "2023-01-25T13:47:54.704Z"
   },
   {
    "duration": 70,
    "start_time": "2023-01-25T13:47:54.796Z"
   },
   {
    "duration": 36,
    "start_time": "2023-01-25T13:47:54.869Z"
   },
   {
    "duration": 12,
    "start_time": "2023-01-25T13:47:54.906Z"
   },
   {
    "duration": 10,
    "start_time": "2023-01-25T13:47:54.920Z"
   },
   {
    "duration": 9,
    "start_time": "2023-01-25T13:47:54.932Z"
   },
   {
    "duration": 10,
    "start_time": "2023-01-25T13:47:54.942Z"
   },
   {
    "duration": 16,
    "start_time": "2023-01-25T13:47:54.953Z"
   },
   {
    "duration": 12,
    "start_time": "2023-01-25T13:47:54.971Z"
   },
   {
    "duration": 27,
    "start_time": "2023-01-25T13:47:54.984Z"
   },
   {
    "duration": 133,
    "start_time": "2023-01-25T13:56:34.504Z"
   },
   {
    "duration": 342,
    "start_time": "2023-01-25T13:58:59.989Z"
   },
   {
    "duration": 44,
    "start_time": "2023-01-25T15:39:28.803Z"
   },
   {
    "duration": 1460,
    "start_time": "2023-01-25T15:39:39.860Z"
   },
   {
    "duration": 4,
    "start_time": "2023-01-25T15:39:41.322Z"
   },
   {
    "duration": 219,
    "start_time": "2023-01-25T15:39:41.327Z"
   },
   {
    "duration": 66,
    "start_time": "2023-01-25T15:39:41.548Z"
   },
   {
    "duration": 8,
    "start_time": "2023-01-25T15:39:41.617Z"
   },
   {
    "duration": 10,
    "start_time": "2023-01-25T15:39:41.628Z"
   },
   {
    "duration": 6,
    "start_time": "2023-01-25T15:39:41.640Z"
   },
   {
    "duration": 15,
    "start_time": "2023-01-25T15:39:41.648Z"
   },
   {
    "duration": 11,
    "start_time": "2023-01-25T15:39:41.666Z"
   },
   {
    "duration": 20,
    "start_time": "2023-01-25T15:39:41.699Z"
   },
   {
    "duration": 16,
    "start_time": "2023-01-25T15:39:41.722Z"
   },
   {
    "duration": 26,
    "start_time": "2023-01-25T15:39:41.739Z"
   },
   {
    "duration": 21,
    "start_time": "2023-01-25T15:39:41.767Z"
   },
   {
    "duration": 322,
    "start_time": "2023-01-25T15:39:41.800Z"
   },
   {
    "duration": 1274,
    "start_time": "2023-01-25T15:44:50.123Z"
   },
   {
    "duration": 3,
    "start_time": "2023-01-25T15:44:51.399Z"
   },
   {
    "duration": 133,
    "start_time": "2023-01-25T15:44:51.404Z"
   },
   {
    "duration": 103,
    "start_time": "2023-01-25T15:44:51.539Z"
   },
   {
    "duration": 14,
    "start_time": "2023-01-25T15:44:51.645Z"
   },
   {
    "duration": 10,
    "start_time": "2023-01-25T15:44:51.664Z"
   },
   {
    "duration": 49,
    "start_time": "2023-01-25T15:44:51.676Z"
   },
   {
    "duration": 27,
    "start_time": "2023-01-25T15:44:51.728Z"
   },
   {
    "duration": 15,
    "start_time": "2023-01-25T15:44:51.757Z"
   },
   {
    "duration": 20,
    "start_time": "2023-01-25T15:44:51.774Z"
   },
   {
    "duration": 19,
    "start_time": "2023-01-25T15:44:51.796Z"
   },
   {
    "duration": 41,
    "start_time": "2023-01-25T15:44:51.816Z"
   },
   {
    "duration": 11,
    "start_time": "2023-01-25T15:44:51.859Z"
   },
   {
    "duration": 411,
    "start_time": "2023-01-25T15:44:51.874Z"
   },
   {
    "duration": 1252,
    "start_time": "2023-01-25T16:37:54.523Z"
   },
   {
    "duration": 3,
    "start_time": "2023-01-25T16:37:55.777Z"
   },
   {
    "duration": 83,
    "start_time": "2023-01-25T16:37:55.781Z"
   },
   {
    "duration": 73,
    "start_time": "2023-01-25T16:37:55.866Z"
   },
   {
    "duration": 6,
    "start_time": "2023-01-25T16:37:55.941Z"
   },
   {
    "duration": 14,
    "start_time": "2023-01-25T16:37:55.949Z"
   },
   {
    "duration": 5,
    "start_time": "2023-01-25T16:37:55.965Z"
   },
   {
    "duration": 17,
    "start_time": "2023-01-25T16:37:55.972Z"
   },
   {
    "duration": 14,
    "start_time": "2023-01-25T16:37:55.991Z"
   },
   {
    "duration": 29,
    "start_time": "2023-01-25T16:37:56.007Z"
   },
   {
    "duration": 14,
    "start_time": "2023-01-25T16:37:56.039Z"
   },
   {
    "duration": 18,
    "start_time": "2023-01-25T16:37:56.054Z"
   },
   {
    "duration": 17,
    "start_time": "2023-01-25T16:37:56.074Z"
   },
   {
    "duration": 204,
    "start_time": "2023-01-25T16:37:56.093Z"
   },
   {
    "duration": 144,
    "start_time": "2023-01-25T16:37:56.299Z"
   },
   {
    "duration": 10,
    "start_time": "2023-01-25T16:37:56.445Z"
   },
   {
    "duration": 16,
    "start_time": "2023-01-25T16:38:25.527Z"
   },
   {
    "duration": 1248,
    "start_time": "2023-01-25T17:03:42.419Z"
   },
   {
    "duration": 4,
    "start_time": "2023-01-25T17:03:43.669Z"
   },
   {
    "duration": 109,
    "start_time": "2023-01-25T17:03:43.674Z"
   },
   {
    "duration": 62,
    "start_time": "2023-01-25T17:03:43.786Z"
   },
   {
    "duration": 6,
    "start_time": "2023-01-25T17:03:43.850Z"
   },
   {
    "duration": 96,
    "start_time": "2023-01-25T17:03:43.857Z"
   },
   {
    "duration": 75,
    "start_time": "2023-01-25T17:03:43.955Z"
   },
   {
    "duration": 43,
    "start_time": "2023-01-25T17:03:44.033Z"
   },
   {
    "duration": 47,
    "start_time": "2023-01-25T17:03:44.078Z"
   },
   {
    "duration": 35,
    "start_time": "2023-01-25T17:03:44.128Z"
   },
   {
    "duration": 16,
    "start_time": "2023-01-25T17:03:44.165Z"
   },
   {
    "duration": 74,
    "start_time": "2023-01-25T17:03:44.183Z"
   },
   {
    "duration": 14,
    "start_time": "2023-01-25T17:03:44.259Z"
   },
   {
    "duration": 237,
    "start_time": "2023-01-25T17:03:44.276Z"
   },
   {
    "duration": 138,
    "start_time": "2023-01-25T17:03:44.515Z"
   },
   {
    "duration": 17,
    "start_time": "2023-01-25T17:03:44.654Z"
   },
   {
    "duration": 1215,
    "start_time": "2023-01-25T17:11:15.105Z"
   },
   {
    "duration": 4,
    "start_time": "2023-01-25T17:11:16.322Z"
   },
   {
    "duration": 115,
    "start_time": "2023-01-25T17:11:16.328Z"
   },
   {
    "duration": 55,
    "start_time": "2023-01-25T17:11:16.445Z"
   },
   {
    "duration": 6,
    "start_time": "2023-01-25T17:11:16.503Z"
   },
   {
    "duration": 27,
    "start_time": "2023-01-25T17:11:16.511Z"
   },
   {
    "duration": 28,
    "start_time": "2023-01-25T17:11:16.541Z"
   },
   {
    "duration": 66,
    "start_time": "2023-01-25T17:11:16.572Z"
   },
   {
    "duration": 25,
    "start_time": "2023-01-25T17:11:16.640Z"
   },
   {
    "duration": 37,
    "start_time": "2023-01-25T17:11:16.667Z"
   },
   {
    "duration": 32,
    "start_time": "2023-01-25T17:11:16.706Z"
   },
   {
    "duration": 30,
    "start_time": "2023-01-25T17:11:16.740Z"
   },
   {
    "duration": 51,
    "start_time": "2023-01-25T17:11:16.773Z"
   },
   {
    "duration": 214,
    "start_time": "2023-01-25T17:11:16.828Z"
   },
   {
    "duration": 175,
    "start_time": "2023-01-25T17:11:17.045Z"
   },
   {
    "duration": 17,
    "start_time": "2023-01-25T17:11:17.222Z"
   },
   {
    "duration": 1160,
    "start_time": "2023-01-25T17:20:55.353Z"
   },
   {
    "duration": 14,
    "start_time": "2023-01-25T17:20:56.515Z"
   },
   {
    "duration": 82,
    "start_time": "2023-01-25T17:20:56.531Z"
   },
   {
    "duration": 57,
    "start_time": "2023-01-25T17:20:56.615Z"
   },
   {
    "duration": 25,
    "start_time": "2023-01-25T17:20:56.674Z"
   },
   {
    "duration": 6,
    "start_time": "2023-01-25T17:20:56.701Z"
   },
   {
    "duration": 10,
    "start_time": "2023-01-25T17:20:56.708Z"
   },
   {
    "duration": 12,
    "start_time": "2023-01-25T17:20:56.720Z"
   },
   {
    "duration": 10,
    "start_time": "2023-01-25T17:20:56.733Z"
   },
   {
    "duration": 20,
    "start_time": "2023-01-25T17:20:56.744Z"
   },
   {
    "duration": 14,
    "start_time": "2023-01-25T17:20:56.766Z"
   },
   {
    "duration": 15,
    "start_time": "2023-01-25T17:20:56.800Z"
   },
   {
    "duration": 15,
    "start_time": "2023-01-25T17:20:56.816Z"
   },
   {
    "duration": 202,
    "start_time": "2023-01-25T17:20:56.834Z"
   },
   {
    "duration": 142,
    "start_time": "2023-01-25T17:20:57.038Z"
   },
   {
    "duration": 27,
    "start_time": "2023-01-25T17:20:57.182Z"
   },
   {
    "duration": 267,
    "start_time": "2023-01-25T17:20:57.211Z"
   },
   {
    "duration": 217,
    "start_time": "2023-01-25T17:22:22.990Z"
   },
   {
    "duration": 1111,
    "start_time": "2023-01-25T17:22:32.153Z"
   },
   {
    "duration": 3,
    "start_time": "2023-01-25T17:22:33.267Z"
   },
   {
    "duration": 75,
    "start_time": "2023-01-25T17:22:33.271Z"
   },
   {
    "duration": 87,
    "start_time": "2023-01-25T17:22:33.349Z"
   },
   {
    "duration": 6,
    "start_time": "2023-01-25T17:22:33.438Z"
   },
   {
    "duration": 9,
    "start_time": "2023-01-25T17:22:33.446Z"
   },
   {
    "duration": 9,
    "start_time": "2023-01-25T17:22:33.457Z"
   },
   {
    "duration": 33,
    "start_time": "2023-01-25T17:22:33.468Z"
   },
   {
    "duration": 3,
    "start_time": "2023-01-25T17:22:33.503Z"
   },
   {
    "duration": 22,
    "start_time": "2023-01-25T17:22:33.509Z"
   },
   {
    "duration": 13,
    "start_time": "2023-01-25T17:22:33.533Z"
   },
   {
    "duration": 22,
    "start_time": "2023-01-25T17:22:33.548Z"
   },
   {
    "duration": 17,
    "start_time": "2023-01-25T17:22:33.572Z"
   },
   {
    "duration": 195,
    "start_time": "2023-01-25T17:22:33.600Z"
   },
   {
    "duration": 149,
    "start_time": "2023-01-25T17:22:33.798Z"
   },
   {
    "duration": 16,
    "start_time": "2023-01-25T17:22:33.950Z"
   },
   {
    "duration": 323,
    "start_time": "2023-01-25T17:22:33.968Z"
   },
   {
    "duration": 1081,
    "start_time": "2023-01-25T17:25:19.426Z"
   },
   {
    "duration": 3,
    "start_time": "2023-01-25T17:25:20.510Z"
   },
   {
    "duration": 76,
    "start_time": "2023-01-25T17:25:20.514Z"
   },
   {
    "duration": 51,
    "start_time": "2023-01-25T17:25:20.592Z"
   },
   {
    "duration": 6,
    "start_time": "2023-01-25T17:25:20.645Z"
   },
   {
    "duration": 8,
    "start_time": "2023-01-25T17:25:20.652Z"
   },
   {
    "duration": 38,
    "start_time": "2023-01-25T17:25:20.661Z"
   },
   {
    "duration": 7,
    "start_time": "2023-01-25T17:25:20.701Z"
   },
   {
    "duration": 10,
    "start_time": "2023-01-25T17:25:20.709Z"
   },
   {
    "duration": 17,
    "start_time": "2023-01-25T17:25:20.722Z"
   },
   {
    "duration": 14,
    "start_time": "2023-01-25T17:25:20.741Z"
   },
   {
    "duration": 25,
    "start_time": "2023-01-25T17:25:20.757Z"
   },
   {
    "duration": 20,
    "start_time": "2023-01-25T17:25:20.784Z"
   },
   {
    "duration": 229,
    "start_time": "2023-01-25T17:25:20.806Z"
   },
   {
    "duration": 131,
    "start_time": "2023-01-25T17:25:21.036Z"
   },
   {
    "duration": 13,
    "start_time": "2023-01-25T17:25:21.169Z"
   },
   {
    "duration": 290,
    "start_time": "2023-01-25T17:25:21.184Z"
   },
   {
    "duration": 1140,
    "start_time": "2023-01-25T17:25:45.765Z"
   },
   {
    "duration": 3,
    "start_time": "2023-01-25T17:25:46.908Z"
   },
   {
    "duration": 108,
    "start_time": "2023-01-25T17:25:46.912Z"
   },
   {
    "duration": 62,
    "start_time": "2023-01-25T17:25:47.023Z"
   },
   {
    "duration": 21,
    "start_time": "2023-01-25T17:25:47.087Z"
   },
   {
    "duration": 39,
    "start_time": "2023-01-25T17:25:47.110Z"
   },
   {
    "duration": 52,
    "start_time": "2023-01-25T17:25:47.154Z"
   },
   {
    "duration": 33,
    "start_time": "2023-01-25T17:25:47.208Z"
   },
   {
    "duration": 26,
    "start_time": "2023-01-25T17:25:47.243Z"
   },
   {
    "duration": 59,
    "start_time": "2023-01-25T17:25:47.271Z"
   },
   {
    "duration": 35,
    "start_time": "2023-01-25T17:25:47.331Z"
   },
   {
    "duration": 68,
    "start_time": "2023-01-25T17:25:47.368Z"
   },
   {
    "duration": 46,
    "start_time": "2023-01-25T17:25:47.437Z"
   },
   {
    "duration": 247,
    "start_time": "2023-01-25T17:25:47.485Z"
   },
   {
    "duration": 135,
    "start_time": "2023-01-25T17:25:47.733Z"
   },
   {
    "duration": 29,
    "start_time": "2023-01-25T17:25:47.870Z"
   },
   {
    "duration": 333,
    "start_time": "2023-01-25T17:25:47.901Z"
   },
   {
    "duration": 1180,
    "start_time": "2023-01-25T17:35:16.716Z"
   },
   {
    "duration": 5,
    "start_time": "2023-01-25T17:35:17.898Z"
   },
   {
    "duration": 75,
    "start_time": "2023-01-25T17:35:17.904Z"
   },
   {
    "duration": 54,
    "start_time": "2023-01-25T17:35:17.981Z"
   },
   {
    "duration": 6,
    "start_time": "2023-01-25T17:35:18.037Z"
   },
   {
    "duration": 8,
    "start_time": "2023-01-25T17:35:18.045Z"
   },
   {
    "duration": 7,
    "start_time": "2023-01-25T17:35:18.055Z"
   },
   {
    "duration": 40,
    "start_time": "2023-01-25T17:35:18.063Z"
   },
   {
    "duration": 18,
    "start_time": "2023-01-25T17:35:18.105Z"
   },
   {
    "duration": 21,
    "start_time": "2023-01-25T17:35:18.125Z"
   },
   {
    "duration": 13,
    "start_time": "2023-01-25T17:35:18.148Z"
   },
   {
    "duration": 22,
    "start_time": "2023-01-25T17:35:18.163Z"
   },
   {
    "duration": 13,
    "start_time": "2023-01-25T17:35:18.187Z"
   },
   {
    "duration": 196,
    "start_time": "2023-01-25T17:35:18.203Z"
   },
   {
    "duration": 124,
    "start_time": "2023-01-25T17:35:18.400Z"
   },
   {
    "duration": 13,
    "start_time": "2023-01-25T17:35:18.525Z"
   },
   {
    "duration": 344,
    "start_time": "2023-01-25T17:35:18.540Z"
   },
   {
    "duration": 269,
    "start_time": "2023-01-25T17:35:47.830Z"
   },
   {
    "duration": 1093,
    "start_time": "2023-01-25T17:36:01.130Z"
   },
   {
    "duration": 3,
    "start_time": "2023-01-25T17:36:02.225Z"
   },
   {
    "duration": 79,
    "start_time": "2023-01-25T17:36:02.229Z"
   },
   {
    "duration": 57,
    "start_time": "2023-01-25T17:36:02.309Z"
   },
   {
    "duration": 33,
    "start_time": "2023-01-25T17:36:02.369Z"
   },
   {
    "duration": 12,
    "start_time": "2023-01-25T17:36:02.404Z"
   },
   {
    "duration": 27,
    "start_time": "2023-01-25T17:36:02.418Z"
   },
   {
    "duration": 32,
    "start_time": "2023-01-25T17:36:02.447Z"
   },
   {
    "duration": 34,
    "start_time": "2023-01-25T17:36:02.481Z"
   },
   {
    "duration": 32,
    "start_time": "2023-01-25T17:36:02.517Z"
   },
   {
    "duration": 16,
    "start_time": "2023-01-25T17:36:02.551Z"
   },
   {
    "duration": 42,
    "start_time": "2023-01-25T17:36:02.570Z"
   },
   {
    "duration": 14,
    "start_time": "2023-01-25T17:36:02.614Z"
   },
   {
    "duration": 204,
    "start_time": "2023-01-25T17:36:02.631Z"
   },
   {
    "duration": 150,
    "start_time": "2023-01-25T17:36:02.837Z"
   },
   {
    "duration": 21,
    "start_time": "2023-01-25T17:36:02.989Z"
   },
   {
    "duration": 344,
    "start_time": "2023-01-25T17:36:03.012Z"
   },
   {
    "duration": 174,
    "start_time": "2023-01-25T17:36:29.964Z"
   },
   {
    "duration": 335,
    "start_time": "2023-01-25T17:36:50.124Z"
   },
   {
    "duration": 188,
    "start_time": "2023-01-25T17:37:03.620Z"
   },
   {
    "duration": 161,
    "start_time": "2023-01-25T17:42:06.551Z"
   },
   {
    "duration": 65,
    "start_time": "2023-01-25T17:42:26.073Z"
   },
   {
    "duration": 185,
    "start_time": "2023-01-25T17:42:40.542Z"
   },
   {
    "duration": 184,
    "start_time": "2023-01-25T17:42:58.937Z"
   },
   {
    "duration": 260,
    "start_time": "2023-01-25T17:43:04.326Z"
   },
   {
    "duration": 50,
    "start_time": "2023-01-25T17:43:19.007Z"
   },
   {
    "duration": 271,
    "start_time": "2023-01-25T17:43:23.904Z"
   },
   {
    "duration": 176,
    "start_time": "2023-01-25T17:45:01.145Z"
   },
   {
    "duration": 168,
    "start_time": "2023-01-25T17:45:21.568Z"
   },
   {
    "duration": 238,
    "start_time": "2023-01-25T17:45:41.997Z"
   },
   {
    "duration": 216,
    "start_time": "2023-01-25T17:45:55.060Z"
   },
   {
    "duration": 1185,
    "start_time": "2023-01-25T17:46:05.905Z"
   },
   {
    "duration": 6,
    "start_time": "2023-01-25T17:46:07.093Z"
   },
   {
    "duration": 105,
    "start_time": "2023-01-25T17:46:07.103Z"
   },
   {
    "duration": 60,
    "start_time": "2023-01-25T17:46:07.210Z"
   },
   {
    "duration": 27,
    "start_time": "2023-01-25T17:46:07.273Z"
   },
   {
    "duration": 7,
    "start_time": "2023-01-25T17:46:07.302Z"
   },
   {
    "duration": 18,
    "start_time": "2023-01-25T17:46:07.311Z"
   },
   {
    "duration": 13,
    "start_time": "2023-01-25T17:46:07.331Z"
   },
   {
    "duration": 5,
    "start_time": "2023-01-25T17:46:07.347Z"
   },
   {
    "duration": 23,
    "start_time": "2023-01-25T17:46:07.354Z"
   },
   {
    "duration": 20,
    "start_time": "2023-01-25T17:46:07.380Z"
   },
   {
    "duration": 22,
    "start_time": "2023-01-25T17:46:07.402Z"
   },
   {
    "duration": 11,
    "start_time": "2023-01-25T17:46:07.426Z"
   },
   {
    "duration": 263,
    "start_time": "2023-01-25T17:46:07.440Z"
   },
   {
    "duration": 156,
    "start_time": "2023-01-25T17:46:07.705Z"
   },
   {
    "duration": 13,
    "start_time": "2023-01-25T17:46:07.863Z"
   },
   {
    "duration": 304,
    "start_time": "2023-01-25T17:46:07.878Z"
   },
   {
    "duration": 189,
    "start_time": "2023-01-25T17:46:49.816Z"
   },
   {
    "duration": 1136,
    "start_time": "2023-01-25T17:47:08.361Z"
   },
   {
    "duration": 3,
    "start_time": "2023-01-25T17:47:09.499Z"
   },
   {
    "duration": 71,
    "start_time": "2023-01-25T17:47:09.504Z"
   },
   {
    "duration": 66,
    "start_time": "2023-01-25T17:47:09.577Z"
   },
   {
    "duration": 6,
    "start_time": "2023-01-25T17:47:09.645Z"
   },
   {
    "duration": 10,
    "start_time": "2023-01-25T17:47:09.653Z"
   },
   {
    "duration": 5,
    "start_time": "2023-01-25T17:47:09.665Z"
   },
   {
    "duration": 39,
    "start_time": "2023-01-25T17:47:09.672Z"
   },
   {
    "duration": 11,
    "start_time": "2023-01-25T17:47:09.714Z"
   },
   {
    "duration": 27,
    "start_time": "2023-01-25T17:47:09.728Z"
   },
   {
    "duration": 14,
    "start_time": "2023-01-25T17:47:09.757Z"
   },
   {
    "duration": 18,
    "start_time": "2023-01-25T17:47:09.773Z"
   },
   {
    "duration": 6,
    "start_time": "2023-01-25T17:47:09.798Z"
   },
   {
    "duration": 188,
    "start_time": "2023-01-25T17:47:09.807Z"
   },
   {
    "duration": 138,
    "start_time": "2023-01-25T17:47:09.997Z"
   },
   {
    "duration": 13,
    "start_time": "2023-01-25T17:47:10.137Z"
   },
   {
    "duration": 274,
    "start_time": "2023-01-25T17:47:10.151Z"
   },
   {
    "duration": 300,
    "start_time": "2023-01-25T17:48:50.240Z"
   },
   {
    "duration": 208,
    "start_time": "2023-01-25T17:49:52.516Z"
   },
   {
    "duration": 191,
    "start_time": "2023-01-25T17:54:37.959Z"
   },
   {
    "duration": 191,
    "start_time": "2023-01-25T17:55:04.899Z"
   },
   {
    "duration": 198,
    "start_time": "2023-01-25T17:55:29.987Z"
   },
   {
    "duration": 185,
    "start_time": "2023-01-25T17:56:58.515Z"
   },
   {
    "duration": 311,
    "start_time": "2023-01-25T17:57:23.006Z"
   },
   {
    "duration": 1139,
    "start_time": "2023-01-25T17:57:34.469Z"
   },
   {
    "duration": 3,
    "start_time": "2023-01-25T17:57:35.610Z"
   },
   {
    "duration": 70,
    "start_time": "2023-01-25T17:57:35.615Z"
   },
   {
    "duration": 55,
    "start_time": "2023-01-25T17:57:35.687Z"
   },
   {
    "duration": 6,
    "start_time": "2023-01-25T17:57:35.744Z"
   },
   {
    "duration": 8,
    "start_time": "2023-01-25T17:57:35.752Z"
   },
   {
    "duration": 38,
    "start_time": "2023-01-25T17:57:35.761Z"
   },
   {
    "duration": 6,
    "start_time": "2023-01-25T17:57:35.801Z"
   },
   {
    "duration": 6,
    "start_time": "2023-01-25T17:57:35.808Z"
   },
   {
    "duration": 16,
    "start_time": "2023-01-25T17:57:35.815Z"
   },
   {
    "duration": 13,
    "start_time": "2023-01-25T17:57:35.832Z"
   },
   {
    "duration": 20,
    "start_time": "2023-01-25T17:57:35.847Z"
   },
   {
    "duration": 31,
    "start_time": "2023-01-25T17:57:35.869Z"
   },
   {
    "duration": 201,
    "start_time": "2023-01-25T17:57:35.903Z"
   },
   {
    "duration": 135,
    "start_time": "2023-01-25T17:57:36.106Z"
   },
   {
    "duration": 12,
    "start_time": "2023-01-25T17:57:36.243Z"
   },
   {
    "duration": 316,
    "start_time": "2023-01-25T17:57:36.257Z"
   },
   {
    "duration": 1470,
    "start_time": "2023-01-25T21:45:32.652Z"
   },
   {
    "duration": 3,
    "start_time": "2023-01-25T21:45:34.124Z"
   },
   {
    "duration": 200,
    "start_time": "2023-01-25T21:45:34.129Z"
   },
   {
    "duration": 66,
    "start_time": "2023-01-25T21:45:34.331Z"
   },
   {
    "duration": 7,
    "start_time": "2023-01-25T21:45:34.399Z"
   },
   {
    "duration": 8,
    "start_time": "2023-01-25T21:45:34.407Z"
   },
   {
    "duration": 7,
    "start_time": "2023-01-25T21:45:34.417Z"
   },
   {
    "duration": 15,
    "start_time": "2023-01-25T21:45:34.426Z"
   },
   {
    "duration": 11,
    "start_time": "2023-01-25T21:45:34.443Z"
   },
   {
    "duration": 20,
    "start_time": "2023-01-25T21:45:34.485Z"
   },
   {
    "duration": 19,
    "start_time": "2023-01-25T21:45:34.507Z"
   },
   {
    "duration": 20,
    "start_time": "2023-01-25T21:45:34.528Z"
   },
   {
    "duration": 37,
    "start_time": "2023-01-25T21:45:34.550Z"
   },
   {
    "duration": 227,
    "start_time": "2023-01-25T21:45:34.590Z"
   },
   {
    "duration": 136,
    "start_time": "2023-01-25T21:45:34.819Z"
   },
   {
    "duration": 15,
    "start_time": "2023-01-25T21:45:34.957Z"
   },
   {
    "duration": 316,
    "start_time": "2023-01-25T21:45:34.984Z"
   },
   {
    "duration": 1313,
    "start_time": "2023-01-25T21:54:26.420Z"
   },
   {
    "duration": 3,
    "start_time": "2023-01-25T21:54:27.736Z"
   },
   {
    "duration": 106,
    "start_time": "2023-01-25T21:54:27.742Z"
   },
   {
    "duration": 85,
    "start_time": "2023-01-25T21:54:27.851Z"
   },
   {
    "duration": 6,
    "start_time": "2023-01-25T21:54:27.938Z"
   },
   {
    "duration": 12,
    "start_time": "2023-01-25T21:54:27.946Z"
   },
   {
    "duration": 31,
    "start_time": "2023-01-25T21:54:27.960Z"
   },
   {
    "duration": 29,
    "start_time": "2023-01-25T21:54:27.995Z"
   },
   {
    "duration": 9,
    "start_time": "2023-01-25T21:54:28.026Z"
   },
   {
    "duration": 21,
    "start_time": "2023-01-25T21:54:28.038Z"
   },
   {
    "duration": 18,
    "start_time": "2023-01-25T21:54:28.061Z"
   },
   {
    "duration": 27,
    "start_time": "2023-01-25T21:54:28.081Z"
   },
   {
    "duration": 21,
    "start_time": "2023-01-25T21:54:28.111Z"
   },
   {
    "duration": 308,
    "start_time": "2023-01-25T21:54:28.135Z"
   },
   {
    "duration": 155,
    "start_time": "2023-01-25T21:54:28.446Z"
   },
   {
    "duration": 15,
    "start_time": "2023-01-25T21:54:28.603Z"
   },
   {
    "duration": 333,
    "start_time": "2023-01-25T21:54:28.620Z"
   },
   {
    "duration": 249,
    "start_time": "2023-01-25T21:54:28.955Z"
   },
   {
    "duration": 1221,
    "start_time": "2023-01-25T21:55:25.733Z"
   },
   {
    "duration": 4,
    "start_time": "2023-01-25T21:55:26.956Z"
   },
   {
    "duration": 85,
    "start_time": "2023-01-25T21:55:26.961Z"
   },
   {
    "duration": 77,
    "start_time": "2023-01-25T21:55:27.048Z"
   },
   {
    "duration": 7,
    "start_time": "2023-01-25T21:55:27.127Z"
   },
   {
    "duration": 11,
    "start_time": "2023-01-25T21:55:27.136Z"
   },
   {
    "duration": 14,
    "start_time": "2023-01-25T21:55:27.149Z"
   },
   {
    "duration": 42,
    "start_time": "2023-01-25T21:55:27.165Z"
   },
   {
    "duration": 16,
    "start_time": "2023-01-25T21:55:27.208Z"
   },
   {
    "duration": 30,
    "start_time": "2023-01-25T21:55:27.226Z"
   },
   {
    "duration": 14,
    "start_time": "2023-01-25T21:55:27.258Z"
   },
   {
    "duration": 45,
    "start_time": "2023-01-25T21:55:27.274Z"
   },
   {
    "duration": 24,
    "start_time": "2023-01-25T21:55:27.320Z"
   },
   {
    "duration": 220,
    "start_time": "2023-01-25T21:55:27.347Z"
   },
   {
    "duration": 150,
    "start_time": "2023-01-25T21:55:27.570Z"
   },
   {
    "duration": 15,
    "start_time": "2023-01-25T21:55:27.722Z"
   },
   {
    "duration": 329,
    "start_time": "2023-01-25T21:55:27.739Z"
   },
   {
    "duration": 241,
    "start_time": "2023-01-25T21:55:28.070Z"
   },
   {
    "duration": 1343,
    "start_time": "2023-01-25T21:57:01.364Z"
   },
   {
    "duration": 4,
    "start_time": "2023-01-25T21:57:02.709Z"
   },
   {
    "duration": 104,
    "start_time": "2023-01-25T21:57:02.715Z"
   },
   {
    "duration": 67,
    "start_time": "2023-01-25T21:57:02.821Z"
   },
   {
    "duration": 6,
    "start_time": "2023-01-25T21:57:02.890Z"
   },
   {
    "duration": 9,
    "start_time": "2023-01-25T21:57:02.898Z"
   },
   {
    "duration": 18,
    "start_time": "2023-01-25T21:57:02.909Z"
   },
   {
    "duration": 22,
    "start_time": "2023-01-25T21:57:02.929Z"
   },
   {
    "duration": 14,
    "start_time": "2023-01-25T21:57:02.954Z"
   },
   {
    "duration": 19,
    "start_time": "2023-01-25T21:57:02.971Z"
   },
   {
    "duration": 13,
    "start_time": "2023-01-25T21:57:02.991Z"
   },
   {
    "duration": 18,
    "start_time": "2023-01-25T21:57:03.006Z"
   },
   {
    "duration": 22,
    "start_time": "2023-01-25T21:57:03.026Z"
   },
   {
    "duration": 220,
    "start_time": "2023-01-25T21:57:03.050Z"
   },
   {
    "duration": 159,
    "start_time": "2023-01-25T21:57:03.272Z"
   },
   {
    "duration": 21,
    "start_time": "2023-01-25T21:57:03.432Z"
   },
   {
    "duration": 378,
    "start_time": "2023-01-25T21:57:03.455Z"
   },
   {
    "duration": 253,
    "start_time": "2023-01-25T21:57:03.835Z"
   },
   {
    "duration": 1317,
    "start_time": "2023-01-25T22:14:09.740Z"
   },
   {
    "duration": 3,
    "start_time": "2023-01-25T22:14:11.059Z"
   },
   {
    "duration": 75,
    "start_time": "2023-01-25T22:14:11.064Z"
   },
   {
    "duration": 70,
    "start_time": "2023-01-25T22:14:11.142Z"
   },
   {
    "duration": 6,
    "start_time": "2023-01-25T22:14:11.215Z"
   },
   {
    "duration": 11,
    "start_time": "2023-01-25T22:14:11.223Z"
   },
   {
    "duration": 9,
    "start_time": "2023-01-25T22:14:11.235Z"
   },
   {
    "duration": 38,
    "start_time": "2023-01-25T22:14:11.246Z"
   },
   {
    "duration": 5,
    "start_time": "2023-01-25T22:14:11.287Z"
   },
   {
    "duration": 20,
    "start_time": "2023-01-25T22:14:11.295Z"
   },
   {
    "duration": 20,
    "start_time": "2023-01-25T22:14:11.317Z"
   },
   {
    "duration": 20,
    "start_time": "2023-01-25T22:14:11.339Z"
   },
   {
    "duration": 28,
    "start_time": "2023-01-25T22:14:11.361Z"
   },
   {
    "duration": 216,
    "start_time": "2023-01-25T22:14:11.393Z"
   },
   {
    "duration": 145,
    "start_time": "2023-01-25T22:14:11.611Z"
   },
   {
    "duration": 13,
    "start_time": "2023-01-25T22:14:11.758Z"
   },
   {
    "duration": 344,
    "start_time": "2023-01-25T22:14:11.785Z"
   },
   {
    "duration": 227,
    "start_time": "2023-01-25T22:14:12.132Z"
   },
   {
    "duration": 336,
    "start_time": "2023-01-25T22:14:12.361Z"
   },
   {
    "duration": 1340,
    "start_time": "2023-01-25T22:25:41.695Z"
   },
   {
    "duration": 4,
    "start_time": "2023-01-25T22:25:43.037Z"
   },
   {
    "duration": 78,
    "start_time": "2023-01-25T22:25:43.043Z"
   },
   {
    "duration": 69,
    "start_time": "2023-01-25T22:25:43.123Z"
   },
   {
    "duration": 6,
    "start_time": "2023-01-25T22:25:43.195Z"
   },
   {
    "duration": 8,
    "start_time": "2023-01-25T22:25:43.203Z"
   },
   {
    "duration": 10,
    "start_time": "2023-01-25T22:25:43.213Z"
   },
   {
    "duration": 13,
    "start_time": "2023-01-25T22:25:43.224Z"
   },
   {
    "duration": 8,
    "start_time": "2023-01-25T22:25:43.239Z"
   },
   {
    "duration": 38,
    "start_time": "2023-01-25T22:25:43.249Z"
   },
   {
    "duration": 14,
    "start_time": "2023-01-25T22:25:43.289Z"
   },
   {
    "duration": 19,
    "start_time": "2023-01-25T22:25:43.304Z"
   },
   {
    "duration": 9,
    "start_time": "2023-01-25T22:25:43.325Z"
   },
   {
    "duration": 218,
    "start_time": "2023-01-25T22:25:43.336Z"
   },
   {
    "duration": 151,
    "start_time": "2023-01-25T22:25:43.556Z"
   },
   {
    "duration": 13,
    "start_time": "2023-01-25T22:25:43.709Z"
   },
   {
    "duration": 309,
    "start_time": "2023-01-25T22:25:43.724Z"
   },
   {
    "duration": 219,
    "start_time": "2023-01-25T22:25:44.035Z"
   },
   {
    "duration": 353,
    "start_time": "2023-01-25T22:25:44.256Z"
   },
   {
    "duration": 1192,
    "start_time": "2023-01-25T22:34:48.241Z"
   },
   {
    "duration": 4,
    "start_time": "2023-01-25T22:34:49.436Z"
   },
   {
    "duration": 99,
    "start_time": "2023-01-25T22:34:49.441Z"
   },
   {
    "duration": 75,
    "start_time": "2023-01-25T22:34:49.542Z"
   },
   {
    "duration": 7,
    "start_time": "2023-01-25T22:34:49.620Z"
   },
   {
    "duration": 39,
    "start_time": "2023-01-25T22:34:49.630Z"
   },
   {
    "duration": 17,
    "start_time": "2023-01-25T22:34:49.671Z"
   },
   {
    "duration": 19,
    "start_time": "2023-01-25T22:34:49.691Z"
   },
   {
    "duration": 27,
    "start_time": "2023-01-25T22:34:49.712Z"
   },
   {
    "duration": 48,
    "start_time": "2023-01-25T22:34:49.741Z"
   },
   {
    "duration": 32,
    "start_time": "2023-01-25T22:34:49.791Z"
   },
   {
    "duration": 85,
    "start_time": "2023-01-25T22:34:49.825Z"
   },
   {
    "duration": 12,
    "start_time": "2023-01-25T22:34:49.913Z"
   },
   {
    "duration": 210,
    "start_time": "2023-01-25T22:34:49.929Z"
   },
   {
    "duration": 130,
    "start_time": "2023-01-25T22:34:50.141Z"
   },
   {
    "duration": 14,
    "start_time": "2023-01-25T22:34:50.283Z"
   },
   {
    "duration": 372,
    "start_time": "2023-01-25T22:34:50.299Z"
   },
   {
    "duration": 227,
    "start_time": "2023-01-25T22:34:50.673Z"
   },
   {
    "duration": 310,
    "start_time": "2023-01-25T22:34:50.902Z"
   },
   {
    "duration": 315,
    "start_time": "2023-01-25T22:35:16.332Z"
   },
   {
    "duration": 1277,
    "start_time": "2023-01-25T22:35:24.953Z"
   },
   {
    "duration": 3,
    "start_time": "2023-01-25T22:35:26.232Z"
   },
   {
    "duration": 77,
    "start_time": "2023-01-25T22:35:26.237Z"
   },
   {
    "duration": 63,
    "start_time": "2023-01-25T22:35:26.317Z"
   },
   {
    "duration": 7,
    "start_time": "2023-01-25T22:35:26.381Z"
   },
   {
    "duration": 12,
    "start_time": "2023-01-25T22:35:26.390Z"
   },
   {
    "duration": 24,
    "start_time": "2023-01-25T22:35:26.404Z"
   },
   {
    "duration": 11,
    "start_time": "2023-01-25T22:35:26.430Z"
   },
   {
    "duration": 6,
    "start_time": "2023-01-25T22:35:26.443Z"
   },
   {
    "duration": 16,
    "start_time": "2023-01-25T22:35:26.453Z"
   },
   {
    "duration": 23,
    "start_time": "2023-01-25T22:35:26.471Z"
   },
   {
    "duration": 17,
    "start_time": "2023-01-25T22:35:26.495Z"
   },
   {
    "duration": 10,
    "start_time": "2023-01-25T22:35:26.513Z"
   },
   {
    "duration": 258,
    "start_time": "2023-01-25T22:35:26.526Z"
   },
   {
    "duration": 157,
    "start_time": "2023-01-25T22:35:26.786Z"
   },
   {
    "duration": 17,
    "start_time": "2023-01-25T22:35:26.945Z"
   },
   {
    "duration": 348,
    "start_time": "2023-01-25T22:35:26.965Z"
   },
   {
    "duration": 221,
    "start_time": "2023-01-25T22:35:27.315Z"
   },
   {
    "duration": 336,
    "start_time": "2023-01-25T22:35:27.538Z"
   },
   {
    "duration": 55,
    "start_time": "2023-01-26T16:17:44.062Z"
   },
   {
    "duration": 1377,
    "start_time": "2023-01-26T16:17:54.993Z"
   },
   {
    "duration": 3,
    "start_time": "2023-01-26T16:17:56.372Z"
   },
   {
    "duration": 192,
    "start_time": "2023-01-26T16:17:56.377Z"
   },
   {
    "duration": 57,
    "start_time": "2023-01-26T16:17:56.571Z"
   },
   {
    "duration": 5,
    "start_time": "2023-01-26T16:17:56.630Z"
   },
   {
    "duration": 8,
    "start_time": "2023-01-26T16:17:56.636Z"
   },
   {
    "duration": 9,
    "start_time": "2023-01-26T16:17:56.646Z"
   },
   {
    "duration": 11,
    "start_time": "2023-01-26T16:17:56.657Z"
   },
   {
    "duration": 11,
    "start_time": "2023-01-26T16:17:56.669Z"
   },
   {
    "duration": 34,
    "start_time": "2023-01-26T16:17:56.682Z"
   },
   {
    "duration": 14,
    "start_time": "2023-01-26T16:17:56.718Z"
   },
   {
    "duration": 29,
    "start_time": "2023-01-26T16:17:56.735Z"
   },
   {
    "duration": 13,
    "start_time": "2023-01-26T16:17:56.766Z"
   },
   {
    "duration": 222,
    "start_time": "2023-01-26T16:17:56.781Z"
   },
   {
    "duration": 144,
    "start_time": "2023-01-26T16:17:57.005Z"
   },
   {
    "duration": 15,
    "start_time": "2023-01-26T16:17:57.151Z"
   },
   {
    "duration": 325,
    "start_time": "2023-01-26T16:17:57.167Z"
   },
   {
    "duration": 226,
    "start_time": "2023-01-26T16:17:57.494Z"
   },
   {
    "duration": 342,
    "start_time": "2023-01-26T16:17:57.722Z"
   },
   {
    "duration": 878,
    "start_time": "2023-01-26T16:17:58.066Z"
   },
   {
    "duration": 1127,
    "start_time": "2023-01-26T16:19:22.094Z"
   },
   {
    "duration": 3,
    "start_time": "2023-01-26T16:19:23.222Z"
   },
   {
    "duration": 82,
    "start_time": "2023-01-26T16:19:23.228Z"
   },
   {
    "duration": 58,
    "start_time": "2023-01-26T16:19:23.313Z"
   },
   {
    "duration": 31,
    "start_time": "2023-01-26T16:19:23.373Z"
   },
   {
    "duration": 6,
    "start_time": "2023-01-26T16:19:23.406Z"
   },
   {
    "duration": 6,
    "start_time": "2023-01-26T16:19:23.413Z"
   },
   {
    "duration": 15,
    "start_time": "2023-01-26T16:19:23.421Z"
   },
   {
    "duration": 11,
    "start_time": "2023-01-26T16:19:23.439Z"
   },
   {
    "duration": 22,
    "start_time": "2023-01-26T16:19:23.452Z"
   },
   {
    "duration": 30,
    "start_time": "2023-01-26T16:19:23.476Z"
   },
   {
    "duration": 16,
    "start_time": "2023-01-26T16:19:23.507Z"
   },
   {
    "duration": 12,
    "start_time": "2023-01-26T16:19:23.525Z"
   },
   {
    "duration": 212,
    "start_time": "2023-01-26T16:19:23.540Z"
   },
   {
    "duration": 136,
    "start_time": "2023-01-26T16:19:23.753Z"
   },
   {
    "duration": 23,
    "start_time": "2023-01-26T16:19:23.891Z"
   },
   {
    "duration": 355,
    "start_time": "2023-01-26T16:19:23.916Z"
   },
   {
    "duration": 232,
    "start_time": "2023-01-26T16:19:24.274Z"
   },
   {
    "duration": 328,
    "start_time": "2023-01-26T16:19:24.508Z"
   },
   {
    "duration": 226,
    "start_time": "2023-01-26T16:19:24.837Z"
   },
   {
    "duration": 1106,
    "start_time": "2023-01-26T16:25:51.716Z"
   },
   {
    "duration": 3,
    "start_time": "2023-01-26T16:25:52.824Z"
   },
   {
    "duration": 68,
    "start_time": "2023-01-26T16:25:52.829Z"
   },
   {
    "duration": 55,
    "start_time": "2023-01-26T16:25:52.899Z"
   },
   {
    "duration": 6,
    "start_time": "2023-01-26T16:25:52.957Z"
   },
   {
    "duration": 39,
    "start_time": "2023-01-26T16:25:52.965Z"
   },
   {
    "duration": 7,
    "start_time": "2023-01-26T16:25:53.006Z"
   },
   {
    "duration": 10,
    "start_time": "2023-01-26T16:25:53.015Z"
   },
   {
    "duration": 7,
    "start_time": "2023-01-26T16:25:53.026Z"
   },
   {
    "duration": 22,
    "start_time": "2023-01-26T16:25:53.035Z"
   },
   {
    "duration": 12,
    "start_time": "2023-01-26T16:25:53.059Z"
   },
   {
    "duration": 31,
    "start_time": "2023-01-26T16:25:53.073Z"
   },
   {
    "duration": 5,
    "start_time": "2023-01-26T16:25:53.106Z"
   },
   {
    "duration": 211,
    "start_time": "2023-01-26T16:25:53.113Z"
   },
   {
    "duration": 134,
    "start_time": "2023-01-26T16:25:53.326Z"
   },
   {
    "duration": 15,
    "start_time": "2023-01-26T16:25:53.462Z"
   },
   {
    "duration": 316,
    "start_time": "2023-01-26T16:25:53.478Z"
   },
   {
    "duration": 201,
    "start_time": "2023-01-26T16:25:53.802Z"
   },
   {
    "duration": 350,
    "start_time": "2023-01-26T16:25:54.005Z"
   },
   {
    "duration": 229,
    "start_time": "2023-01-26T16:25:54.357Z"
   },
   {
    "duration": 1124,
    "start_time": "2023-01-26T16:37:58.809Z"
   },
   {
    "duration": 3,
    "start_time": "2023-01-26T16:37:59.935Z"
   },
   {
    "duration": 72,
    "start_time": "2023-01-26T16:37:59.940Z"
   },
   {
    "duration": 58,
    "start_time": "2023-01-26T16:38:00.014Z"
   },
   {
    "duration": 6,
    "start_time": "2023-01-26T16:38:00.073Z"
   },
   {
    "duration": 13,
    "start_time": "2023-01-26T16:38:00.103Z"
   },
   {
    "duration": 38,
    "start_time": "2023-01-26T16:38:00.118Z"
   },
   {
    "duration": 52,
    "start_time": "2023-01-26T16:38:00.158Z"
   },
   {
    "duration": 41,
    "start_time": "2023-01-26T16:38:00.212Z"
   },
   {
    "duration": 43,
    "start_time": "2023-01-26T16:38:00.256Z"
   },
   {
    "duration": 39,
    "start_time": "2023-01-26T16:38:00.300Z"
   },
   {
    "duration": 48,
    "start_time": "2023-01-26T16:38:00.340Z"
   },
   {
    "duration": 46,
    "start_time": "2023-01-26T16:38:00.389Z"
   },
   {
    "duration": 261,
    "start_time": "2023-01-26T16:38:00.437Z"
   },
   {
    "duration": 141,
    "start_time": "2023-01-26T16:38:00.699Z"
   },
   {
    "duration": 15,
    "start_time": "2023-01-26T16:38:00.842Z"
   },
   {
    "duration": 379,
    "start_time": "2023-01-26T16:38:00.859Z"
   },
   {
    "duration": 233,
    "start_time": "2023-01-26T16:38:01.240Z"
   },
   {
    "duration": 333,
    "start_time": "2023-01-26T16:38:01.475Z"
   },
   {
    "duration": 234,
    "start_time": "2023-01-26T16:38:01.810Z"
   },
   {
    "duration": 318,
    "start_time": "2023-01-26T16:38:02.046Z"
   },
   {
    "duration": 44,
    "start_time": "2023-01-26T16:45:27.715Z"
   },
   {
    "duration": 97,
    "start_time": "2023-01-26T16:56:48.045Z"
   },
   {
    "duration": 8,
    "start_time": "2023-01-26T16:57:01.868Z"
   },
   {
    "duration": 10,
    "start_time": "2023-01-26T16:57:10.090Z"
   },
   {
    "duration": 4,
    "start_time": "2023-01-26T16:57:50.793Z"
   },
   {
    "duration": 746,
    "start_time": "2023-01-26T16:58:02.730Z"
   },
   {
    "duration": 119,
    "start_time": "2023-01-26T16:58:16.547Z"
   },
   {
    "duration": 6,
    "start_time": "2023-01-26T17:11:05.276Z"
   },
   {
    "duration": 7,
    "start_time": "2023-01-26T17:23:03.569Z"
   },
   {
    "duration": 1116,
    "start_time": "2023-01-26T17:23:11.584Z"
   },
   {
    "duration": 3,
    "start_time": "2023-01-26T17:23:12.704Z"
   },
   {
    "duration": 69,
    "start_time": "2023-01-26T17:23:12.708Z"
   },
   {
    "duration": 53,
    "start_time": "2023-01-26T17:23:12.778Z"
   },
   {
    "duration": 6,
    "start_time": "2023-01-26T17:23:12.833Z"
   },
   {
    "duration": 7,
    "start_time": "2023-01-26T17:23:12.841Z"
   },
   {
    "duration": 7,
    "start_time": "2023-01-26T17:23:12.850Z"
   },
   {
    "duration": 9,
    "start_time": "2023-01-26T17:23:12.858Z"
   },
   {
    "duration": 7,
    "start_time": "2023-01-26T17:23:12.869Z"
   },
   {
    "duration": 36,
    "start_time": "2023-01-26T17:23:12.878Z"
   },
   {
    "duration": 13,
    "start_time": "2023-01-26T17:23:12.915Z"
   },
   {
    "duration": 15,
    "start_time": "2023-01-26T17:23:12.930Z"
   },
   {
    "duration": 11,
    "start_time": "2023-01-26T17:23:12.947Z"
   },
   {
    "duration": 208,
    "start_time": "2023-01-26T17:23:12.961Z"
   },
   {
    "duration": 136,
    "start_time": "2023-01-26T17:23:13.171Z"
   },
   {
    "duration": 14,
    "start_time": "2023-01-26T17:23:13.309Z"
   },
   {
    "duration": 326,
    "start_time": "2023-01-26T17:23:13.325Z"
   },
   {
    "duration": 209,
    "start_time": "2023-01-26T17:23:13.653Z"
   },
   {
    "duration": 363,
    "start_time": "2023-01-26T17:23:13.864Z"
   },
   {
    "duration": 238,
    "start_time": "2023-01-26T17:23:14.229Z"
   },
   {
    "duration": 329,
    "start_time": "2023-01-26T17:23:14.469Z"
   },
   {
    "duration": 7,
    "start_time": "2023-01-26T17:23:14.804Z"
   },
   {
    "duration": 124,
    "start_time": "2023-01-26T17:23:14.812Z"
   },
   {
    "duration": 6,
    "start_time": "2023-01-26T17:23:14.938Z"
   },
   {
    "duration": 1151,
    "start_time": "2023-01-26T17:23:40.041Z"
   },
   {
    "duration": 3,
    "start_time": "2023-01-26T17:23:41.194Z"
   },
   {
    "duration": 75,
    "start_time": "2023-01-26T17:23:41.203Z"
   },
   {
    "duration": 64,
    "start_time": "2023-01-26T17:23:41.281Z"
   },
   {
    "duration": 5,
    "start_time": "2023-01-26T17:23:41.347Z"
   },
   {
    "duration": 9,
    "start_time": "2023-01-26T17:23:41.353Z"
   },
   {
    "duration": 7,
    "start_time": "2023-01-26T17:23:41.364Z"
   },
   {
    "duration": 34,
    "start_time": "2023-01-26T17:23:41.372Z"
   },
   {
    "duration": 9,
    "start_time": "2023-01-26T17:23:41.408Z"
   },
   {
    "duration": 14,
    "start_time": "2023-01-26T17:23:41.419Z"
   },
   {
    "duration": 12,
    "start_time": "2023-01-26T17:23:41.435Z"
   },
   {
    "duration": 13,
    "start_time": "2023-01-26T17:23:41.449Z"
   },
   {
    "duration": 7,
    "start_time": "2023-01-26T17:23:41.464Z"
   },
   {
    "duration": 205,
    "start_time": "2023-01-26T17:23:41.472Z"
   },
   {
    "duration": 134,
    "start_time": "2023-01-26T17:23:41.679Z"
   },
   {
    "duration": 12,
    "start_time": "2023-01-26T17:23:41.815Z"
   },
   {
    "duration": 290,
    "start_time": "2023-01-26T17:23:41.828Z"
   },
   {
    "duration": 198,
    "start_time": "2023-01-26T17:23:42.119Z"
   },
   {
    "duration": 289,
    "start_time": "2023-01-26T17:23:42.319Z"
   },
   {
    "duration": 216,
    "start_time": "2023-01-26T17:23:42.610Z"
   },
   {
    "duration": 304,
    "start_time": "2023-01-26T17:23:42.827Z"
   },
   {
    "duration": 6,
    "start_time": "2023-01-26T17:23:43.133Z"
   },
   {
    "duration": 132,
    "start_time": "2023-01-26T17:23:43.141Z"
   },
   {
    "duration": 7,
    "start_time": "2023-01-26T17:23:43.275Z"
   },
   {
    "duration": 20,
    "start_time": "2023-01-26T17:23:43.284Z"
   },
   {
    "duration": 1452,
    "start_time": "2023-01-26T17:36:51.471Z"
   },
   {
    "duration": 3,
    "start_time": "2023-01-26T17:36:52.925Z"
   },
   {
    "duration": 73,
    "start_time": "2023-01-26T17:36:52.930Z"
   },
   {
    "duration": 70,
    "start_time": "2023-01-26T17:36:53.005Z"
   },
   {
    "duration": 32,
    "start_time": "2023-01-26T17:36:53.076Z"
   },
   {
    "duration": 9,
    "start_time": "2023-01-26T17:36:53.109Z"
   },
   {
    "duration": 8,
    "start_time": "2023-01-26T17:36:53.120Z"
   },
   {
    "duration": 10,
    "start_time": "2023-01-26T17:36:53.129Z"
   },
   {
    "duration": 8,
    "start_time": "2023-01-26T17:36:53.141Z"
   },
   {
    "duration": 18,
    "start_time": "2023-01-26T17:36:53.152Z"
   },
   {
    "duration": 37,
    "start_time": "2023-01-26T17:36:53.172Z"
   },
   {
    "duration": 20,
    "start_time": "2023-01-26T17:36:53.211Z"
   },
   {
    "duration": 18,
    "start_time": "2023-01-26T17:36:53.235Z"
   },
   {
    "duration": 210,
    "start_time": "2023-01-26T17:36:53.255Z"
   },
   {
    "duration": 159,
    "start_time": "2023-01-26T17:36:53.467Z"
   },
   {
    "duration": 14,
    "start_time": "2023-01-26T17:36:53.628Z"
   },
   {
    "duration": 314,
    "start_time": "2023-01-26T17:36:53.645Z"
   },
   {
    "duration": 252,
    "start_time": "2023-01-26T17:36:53.961Z"
   },
   {
    "duration": 330,
    "start_time": "2023-01-26T17:36:54.215Z"
   },
   {
    "duration": 217,
    "start_time": "2023-01-26T17:36:54.547Z"
   },
   {
    "duration": 336,
    "start_time": "2023-01-26T17:36:54.767Z"
   },
   {
    "duration": 7,
    "start_time": "2023-01-26T17:36:55.105Z"
   },
   {
    "duration": 126,
    "start_time": "2023-01-26T17:36:55.114Z"
   },
   {
    "duration": 9,
    "start_time": "2023-01-26T17:36:55.241Z"
   },
   {
    "duration": 22,
    "start_time": "2023-01-26T17:36:55.252Z"
   },
   {
    "duration": 1079,
    "start_time": "2023-01-26T17:52:10.332Z"
   },
   {
    "duration": 3,
    "start_time": "2023-01-26T17:52:11.413Z"
   },
   {
    "duration": 69,
    "start_time": "2023-01-26T17:52:11.417Z"
   },
   {
    "duration": 52,
    "start_time": "2023-01-26T17:52:11.489Z"
   },
   {
    "duration": 5,
    "start_time": "2023-01-26T17:52:11.542Z"
   },
   {
    "duration": 6,
    "start_time": "2023-01-26T17:52:11.548Z"
   },
   {
    "duration": 6,
    "start_time": "2023-01-26T17:52:11.555Z"
   },
   {
    "duration": 11,
    "start_time": "2023-01-26T17:52:11.562Z"
   },
   {
    "duration": 4,
    "start_time": "2023-01-26T17:52:11.603Z"
   },
   {
    "duration": 15,
    "start_time": "2023-01-26T17:52:11.609Z"
   },
   {
    "duration": 12,
    "start_time": "2023-01-26T17:52:11.625Z"
   },
   {
    "duration": 16,
    "start_time": "2023-01-26T17:52:11.638Z"
   },
   {
    "duration": 7,
    "start_time": "2023-01-26T17:52:11.656Z"
   },
   {
    "duration": 196,
    "start_time": "2023-01-26T17:52:11.665Z"
   },
   {
    "duration": 128,
    "start_time": "2023-01-26T17:52:11.863Z"
   },
   {
    "duration": 23,
    "start_time": "2023-01-26T17:52:11.992Z"
   },
   {
    "duration": 281,
    "start_time": "2023-01-26T17:52:12.016Z"
   },
   {
    "duration": 202,
    "start_time": "2023-01-26T17:52:12.303Z"
   },
   {
    "duration": 305,
    "start_time": "2023-01-26T17:52:12.507Z"
   },
   {
    "duration": 218,
    "start_time": "2023-01-26T17:52:12.814Z"
   },
   {
    "duration": 285,
    "start_time": "2023-01-26T17:52:13.034Z"
   },
   {
    "duration": 6,
    "start_time": "2023-01-26T17:52:13.321Z"
   },
   {
    "duration": 137,
    "start_time": "2023-01-26T17:52:13.328Z"
   },
   {
    "duration": 9,
    "start_time": "2023-01-26T17:52:13.467Z"
   },
   {
    "duration": 12,
    "start_time": "2023-01-26T17:52:13.477Z"
   },
   {
    "duration": 23,
    "start_time": "2023-01-26T17:52:13.491Z"
   },
   {
    "duration": 151,
    "start_time": "2023-01-26T17:52:13.515Z"
   },
   {
    "duration": 1247,
    "start_time": "2023-01-26T18:05:08.120Z"
   },
   {
    "duration": 3,
    "start_time": "2023-01-26T18:05:09.369Z"
   },
   {
    "duration": 71,
    "start_time": "2023-01-26T18:05:09.374Z"
   },
   {
    "duration": 60,
    "start_time": "2023-01-26T18:05:09.446Z"
   },
   {
    "duration": 6,
    "start_time": "2023-01-26T18:05:09.508Z"
   },
   {
    "duration": 8,
    "start_time": "2023-01-26T18:05:09.515Z"
   },
   {
    "duration": 6,
    "start_time": "2023-01-26T18:05:09.525Z"
   },
   {
    "duration": 20,
    "start_time": "2023-01-26T18:05:09.533Z"
   },
   {
    "duration": 15,
    "start_time": "2023-01-26T18:05:09.554Z"
   },
   {
    "duration": 19,
    "start_time": "2023-01-26T18:05:09.570Z"
   },
   {
    "duration": 15,
    "start_time": "2023-01-26T18:05:09.590Z"
   },
   {
    "duration": 22,
    "start_time": "2023-01-26T18:05:09.607Z"
   },
   {
    "duration": 12,
    "start_time": "2023-01-26T18:05:09.631Z"
   },
   {
    "duration": 194,
    "start_time": "2023-01-26T18:05:09.646Z"
   },
   {
    "duration": 131,
    "start_time": "2023-01-26T18:05:09.841Z"
   },
   {
    "duration": 13,
    "start_time": "2023-01-26T18:05:09.974Z"
   },
   {
    "duration": 286,
    "start_time": "2023-01-26T18:05:09.988Z"
   },
   {
    "duration": 194,
    "start_time": "2023-01-26T18:05:10.276Z"
   },
   {
    "duration": 321,
    "start_time": "2023-01-26T18:05:10.472Z"
   },
   {
    "duration": 222,
    "start_time": "2023-01-26T18:05:10.794Z"
   },
   {
    "duration": 297,
    "start_time": "2023-01-26T18:05:11.018Z"
   },
   {
    "duration": 8,
    "start_time": "2023-01-26T18:05:11.317Z"
   },
   {
    "duration": 128,
    "start_time": "2023-01-26T18:05:11.326Z"
   },
   {
    "duration": 7,
    "start_time": "2023-01-26T18:05:11.456Z"
   },
   {
    "duration": 5,
    "start_time": "2023-01-26T18:05:11.465Z"
   },
   {
    "duration": 11,
    "start_time": "2023-01-26T18:05:11.471Z"
   },
   {
    "duration": 161,
    "start_time": "2023-01-26T18:05:11.483Z"
   },
   {
    "duration": 11,
    "start_time": "2023-01-26T18:15:57.336Z"
   },
   {
    "duration": 5,
    "start_time": "2023-01-26T18:16:12.837Z"
   },
   {
    "duration": 14,
    "start_time": "2023-01-26T18:16:26.087Z"
   },
   {
    "duration": 1124,
    "start_time": "2023-01-26T18:23:07.980Z"
   },
   {
    "duration": 3,
    "start_time": "2023-01-26T18:23:09.106Z"
   },
   {
    "duration": 71,
    "start_time": "2023-01-26T18:23:09.111Z"
   },
   {
    "duration": 57,
    "start_time": "2023-01-26T18:23:09.184Z"
   },
   {
    "duration": 4,
    "start_time": "2023-01-26T18:23:09.243Z"
   },
   {
    "duration": 17,
    "start_time": "2023-01-26T18:23:09.249Z"
   },
   {
    "duration": 9,
    "start_time": "2023-01-26T18:23:09.267Z"
   },
   {
    "duration": 25,
    "start_time": "2023-01-26T18:23:09.278Z"
   },
   {
    "duration": 2,
    "start_time": "2023-01-26T18:23:09.305Z"
   },
   {
    "duration": 17,
    "start_time": "2023-01-26T18:23:09.310Z"
   },
   {
    "duration": 12,
    "start_time": "2023-01-26T18:23:09.328Z"
   },
   {
    "duration": 14,
    "start_time": "2023-01-26T18:23:09.342Z"
   },
   {
    "duration": 7,
    "start_time": "2023-01-26T18:23:09.358Z"
   },
   {
    "duration": 215,
    "start_time": "2023-01-26T18:23:09.367Z"
   },
   {
    "duration": 119,
    "start_time": "2023-01-26T18:23:09.584Z"
   },
   {
    "duration": 12,
    "start_time": "2023-01-26T18:23:09.705Z"
   },
   {
    "duration": 275,
    "start_time": "2023-01-26T18:23:09.719Z"
   },
   {
    "duration": 190,
    "start_time": "2023-01-26T18:23:09.997Z"
   },
   {
    "duration": 326,
    "start_time": "2023-01-26T18:23:10.189Z"
   },
   {
    "duration": 213,
    "start_time": "2023-01-26T18:23:10.517Z"
   },
   {
    "duration": 275,
    "start_time": "2023-01-26T18:23:10.732Z"
   },
   {
    "duration": 6,
    "start_time": "2023-01-26T18:23:11.009Z"
   },
   {
    "duration": 118,
    "start_time": "2023-01-26T18:23:11.017Z"
   },
   {
    "duration": 8,
    "start_time": "2023-01-26T18:23:11.137Z"
   },
   {
    "duration": 9,
    "start_time": "2023-01-26T18:23:11.147Z"
   },
   {
    "duration": 14,
    "start_time": "2023-01-26T18:23:11.158Z"
   },
   {
    "duration": 165,
    "start_time": "2023-01-26T18:23:11.174Z"
   },
   {
    "duration": 4,
    "start_time": "2023-01-26T18:23:11.342Z"
   },
   {
    "duration": 1355,
    "start_time": "2023-01-28T18:22:57.003Z"
   },
   {
    "duration": 3,
    "start_time": "2023-01-28T18:22:58.360Z"
   },
   {
    "duration": 204,
    "start_time": "2023-01-28T18:22:58.364Z"
   },
   {
    "duration": 52,
    "start_time": "2023-01-28T18:22:58.571Z"
   },
   {
    "duration": 6,
    "start_time": "2023-01-28T18:22:58.625Z"
   },
   {
    "duration": 25,
    "start_time": "2023-01-28T18:22:58.632Z"
   },
   {
    "duration": 5,
    "start_time": "2023-01-28T18:22:58.658Z"
   },
   {
    "duration": 8,
    "start_time": "2023-01-28T18:22:58.664Z"
   },
   {
    "duration": 4,
    "start_time": "2023-01-28T18:22:58.674Z"
   },
   {
    "duration": 13,
    "start_time": "2023-01-28T18:22:58.681Z"
   },
   {
    "duration": 11,
    "start_time": "2023-01-28T18:22:58.695Z"
   },
   {
    "duration": 46,
    "start_time": "2023-01-28T18:22:58.707Z"
   },
   {
    "duration": 17,
    "start_time": "2023-01-28T18:22:58.755Z"
   },
   {
    "duration": 197,
    "start_time": "2023-01-28T18:22:58.774Z"
   },
   {
    "duration": 122,
    "start_time": "2023-01-28T18:22:58.973Z"
   },
   {
    "duration": 11,
    "start_time": "2023-01-28T18:22:59.097Z"
   },
   {
    "duration": 278,
    "start_time": "2023-01-28T18:22:59.110Z"
   },
   {
    "duration": 216,
    "start_time": "2023-01-28T18:22:59.390Z"
   },
   {
    "duration": 390,
    "start_time": "2023-01-28T18:22:59.608Z"
   },
   {
    "duration": 229,
    "start_time": "2023-01-28T18:22:59.999Z"
   },
   {
    "duration": 334,
    "start_time": "2023-01-28T18:23:00.230Z"
   },
   {
    "duration": 8,
    "start_time": "2023-01-28T18:23:00.566Z"
   },
   {
    "duration": 138,
    "start_time": "2023-01-28T18:23:00.576Z"
   },
   {
    "duration": 9,
    "start_time": "2023-01-28T18:23:00.716Z"
   },
   {
    "duration": 64,
    "start_time": "2023-01-28T18:23:00.727Z"
   },
   {
    "duration": 46,
    "start_time": "2023-01-28T18:23:00.794Z"
   },
   {
    "duration": 216,
    "start_time": "2023-01-28T18:23:00.843Z"
   },
   {
    "duration": 5,
    "start_time": "2023-01-28T18:23:01.062Z"
   },
   {
    "duration": 13,
    "start_time": "2023-01-28T18:48:47.159Z"
   },
   {
    "duration": 1070,
    "start_time": "2023-01-28T18:51:36.797Z"
   },
   {
    "duration": 3,
    "start_time": "2023-01-28T18:51:37.869Z"
   },
   {
    "duration": 68,
    "start_time": "2023-01-28T18:51:37.874Z"
   },
   {
    "duration": 51,
    "start_time": "2023-01-28T18:51:37.943Z"
   },
   {
    "duration": 4,
    "start_time": "2023-01-28T18:51:37.997Z"
   },
   {
    "duration": 9,
    "start_time": "2023-01-28T18:51:38.003Z"
   },
   {
    "duration": 18,
    "start_time": "2023-01-28T18:51:38.013Z"
   },
   {
    "duration": 22,
    "start_time": "2023-01-28T18:51:38.033Z"
   },
   {
    "duration": 8,
    "start_time": "2023-01-28T18:51:38.057Z"
   },
   {
    "duration": 16,
    "start_time": "2023-01-28T18:51:38.066Z"
   },
   {
    "duration": 27,
    "start_time": "2023-01-28T18:51:38.083Z"
   },
   {
    "duration": 15,
    "start_time": "2023-01-28T18:51:38.112Z"
   },
   {
    "duration": 9,
    "start_time": "2023-01-28T18:51:38.129Z"
   },
   {
    "duration": 167,
    "start_time": "2023-01-28T18:51:38.140Z"
   },
   {
    "duration": 113,
    "start_time": "2023-01-28T18:51:38.309Z"
   },
   {
    "duration": 11,
    "start_time": "2023-01-28T18:51:38.424Z"
   },
   {
    "duration": 273,
    "start_time": "2023-01-28T18:51:38.436Z"
   },
   {
    "duration": 199,
    "start_time": "2023-01-28T18:51:38.711Z"
   },
   {
    "duration": 315,
    "start_time": "2023-01-28T18:51:38.912Z"
   },
   {
    "duration": 197,
    "start_time": "2023-01-28T18:51:39.229Z"
   },
   {
    "duration": 318,
    "start_time": "2023-01-28T18:51:39.428Z"
   },
   {
    "duration": 8,
    "start_time": "2023-01-28T18:51:39.748Z"
   },
   {
    "duration": 140,
    "start_time": "2023-01-28T18:51:39.758Z"
   },
   {
    "duration": 7,
    "start_time": "2023-01-28T18:51:39.900Z"
   },
   {
    "duration": 14,
    "start_time": "2023-01-28T18:51:39.908Z"
   },
   {
    "duration": 23,
    "start_time": "2023-01-28T18:51:39.923Z"
   },
   {
    "duration": 130,
    "start_time": "2023-01-28T18:51:39.947Z"
   },
   {
    "duration": 6,
    "start_time": "2023-01-28T18:51:40.079Z"
   },
   {
    "duration": 14,
    "start_time": "2023-01-28T18:51:40.086Z"
   },
   {
    "duration": 1147,
    "start_time": "2023-01-28T19:04:04.517Z"
   },
   {
    "duration": 3,
    "start_time": "2023-01-28T19:04:05.667Z"
   },
   {
    "duration": 105,
    "start_time": "2023-01-28T19:04:05.671Z"
   },
   {
    "duration": 76,
    "start_time": "2023-01-28T19:04:05.779Z"
   },
   {
    "duration": 8,
    "start_time": "2023-01-28T19:04:05.857Z"
   },
   {
    "duration": 32,
    "start_time": "2023-01-28T19:04:05.867Z"
   },
   {
    "duration": 36,
    "start_time": "2023-01-28T19:04:05.901Z"
   },
   {
    "duration": 40,
    "start_time": "2023-01-28T19:04:05.938Z"
   },
   {
    "duration": 23,
    "start_time": "2023-01-28T19:04:05.980Z"
   },
   {
    "duration": 35,
    "start_time": "2023-01-28T19:04:06.005Z"
   },
   {
    "duration": 39,
    "start_time": "2023-01-28T19:04:06.042Z"
   },
   {
    "duration": 67,
    "start_time": "2023-01-28T19:04:06.083Z"
   },
   {
    "duration": 44,
    "start_time": "2023-01-28T19:04:06.152Z"
   },
   {
    "duration": 241,
    "start_time": "2023-01-28T19:04:06.198Z"
   },
   {
    "duration": 122,
    "start_time": "2023-01-28T19:04:06.441Z"
   },
   {
    "duration": 14,
    "start_time": "2023-01-28T19:04:06.565Z"
   },
   {
    "duration": 300,
    "start_time": "2023-01-28T19:04:06.580Z"
   },
   {
    "duration": 191,
    "start_time": "2023-01-28T19:04:06.881Z"
   },
   {
    "duration": 323,
    "start_time": "2023-01-28T19:04:07.074Z"
   },
   {
    "duration": 263,
    "start_time": "2023-01-28T19:04:07.399Z"
   },
   {
    "duration": 292,
    "start_time": "2023-01-28T19:04:07.663Z"
   },
   {
    "duration": 9,
    "start_time": "2023-01-28T19:04:07.957Z"
   },
   {
    "duration": 136,
    "start_time": "2023-01-28T19:04:07.968Z"
   },
   {
    "duration": 8,
    "start_time": "2023-01-28T19:04:08.105Z"
   },
   {
    "duration": 13,
    "start_time": "2023-01-28T19:04:08.114Z"
   },
   {
    "duration": 39,
    "start_time": "2023-01-28T19:04:08.129Z"
   },
   {
    "duration": 146,
    "start_time": "2023-01-28T19:04:08.170Z"
   },
   {
    "duration": 13,
    "start_time": "2023-01-28T19:04:08.319Z"
   },
   {
    "duration": 39,
    "start_time": "2023-01-28T19:04:08.334Z"
   },
   {
    "duration": 15,
    "start_time": "2023-01-28T19:04:08.375Z"
   },
   {
    "duration": 146,
    "start_time": "2023-01-28T19:04:08.392Z"
   },
   {
    "duration": 23,
    "start_time": "2023-01-28T19:04:08.540Z"
   },
   {
    "duration": 75,
    "start_time": "2023-01-28T19:04:08.565Z"
   },
   {
    "duration": 1222,
    "start_time": "2023-01-28T19:08:00.259Z"
   },
   {
    "duration": 3,
    "start_time": "2023-01-28T19:08:01.483Z"
   },
   {
    "duration": 170,
    "start_time": "2023-01-28T19:08:01.488Z"
   },
   {
    "duration": 87,
    "start_time": "2023-01-28T19:08:01.661Z"
   },
   {
    "duration": 52,
    "start_time": "2023-01-28T19:08:01.750Z"
   },
   {
    "duration": 26,
    "start_time": "2023-01-28T19:08:01.803Z"
   },
   {
    "duration": 31,
    "start_time": "2023-01-28T19:08:01.831Z"
   },
   {
    "duration": 95,
    "start_time": "2023-01-28T19:08:01.864Z"
   },
   {
    "duration": 54,
    "start_time": "2023-01-28T19:08:01.960Z"
   },
   {
    "duration": 36,
    "start_time": "2023-01-28T19:08:02.018Z"
   },
   {
    "duration": 13,
    "start_time": "2023-01-28T19:08:02.057Z"
   },
   {
    "duration": 39,
    "start_time": "2023-01-28T19:08:02.072Z"
   },
   {
    "duration": 28,
    "start_time": "2023-01-28T19:08:02.113Z"
   },
   {
    "duration": 193,
    "start_time": "2023-01-28T19:08:02.142Z"
   },
   {
    "duration": 120,
    "start_time": "2023-01-28T19:08:02.337Z"
   },
   {
    "duration": 12,
    "start_time": "2023-01-28T19:08:02.459Z"
   },
   {
    "duration": 287,
    "start_time": "2023-01-28T19:08:02.473Z"
   },
   {
    "duration": 206,
    "start_time": "2023-01-28T19:08:02.762Z"
   },
   {
    "duration": 292,
    "start_time": "2023-01-28T19:08:02.970Z"
   },
   {
    "duration": 219,
    "start_time": "2023-01-28T19:08:03.264Z"
   },
   {
    "duration": 291,
    "start_time": "2023-01-28T19:08:03.485Z"
   },
   {
    "duration": 7,
    "start_time": "2023-01-28T19:08:03.779Z"
   },
   {
    "duration": 137,
    "start_time": "2023-01-28T19:08:03.788Z"
   },
   {
    "duration": 8,
    "start_time": "2023-01-28T19:08:03.927Z"
   },
   {
    "duration": 18,
    "start_time": "2023-01-28T19:08:03.937Z"
   },
   {
    "duration": 16,
    "start_time": "2023-01-28T19:08:03.957Z"
   },
   {
    "duration": 137,
    "start_time": "2023-01-28T19:08:03.974Z"
   },
   {
    "duration": 5,
    "start_time": "2023-01-28T19:08:04.114Z"
   },
   {
    "duration": 27,
    "start_time": "2023-01-28T19:08:04.120Z"
   },
   {
    "duration": 17,
    "start_time": "2023-01-28T19:08:04.150Z"
   },
   {
    "duration": 131,
    "start_time": "2023-01-28T19:08:04.170Z"
   },
   {
    "duration": 11,
    "start_time": "2023-01-28T19:08:04.302Z"
   },
   {
    "duration": 60,
    "start_time": "2023-01-28T19:08:04.314Z"
   },
   {
    "duration": 113,
    "start_time": "2023-01-28T19:08:04.376Z"
   },
   {
    "duration": 0,
    "start_time": "2023-01-28T19:08:04.491Z"
   },
   {
    "duration": 16,
    "start_time": "2023-01-28T19:13:12.535Z"
   },
   {
    "duration": 1163,
    "start_time": "2023-01-28T19:13:25.977Z"
   },
   {
    "duration": 3,
    "start_time": "2023-01-28T19:13:27.141Z"
   },
   {
    "duration": 66,
    "start_time": "2023-01-28T19:13:27.153Z"
   },
   {
    "duration": 51,
    "start_time": "2023-01-28T19:13:27.221Z"
   },
   {
    "duration": 7,
    "start_time": "2023-01-28T19:13:27.273Z"
   },
   {
    "duration": 19,
    "start_time": "2023-01-28T19:13:27.281Z"
   },
   {
    "duration": 16,
    "start_time": "2023-01-28T19:13:27.302Z"
   },
   {
    "duration": 14,
    "start_time": "2023-01-28T19:13:27.320Z"
   },
   {
    "duration": 24,
    "start_time": "2023-01-28T19:13:27.337Z"
   },
   {
    "duration": 27,
    "start_time": "2023-01-28T19:13:27.365Z"
   },
   {
    "duration": 22,
    "start_time": "2023-01-28T19:13:27.394Z"
   },
   {
    "duration": 29,
    "start_time": "2023-01-28T19:13:27.419Z"
   },
   {
    "duration": 17,
    "start_time": "2023-01-28T19:13:27.450Z"
   },
   {
    "duration": 227,
    "start_time": "2023-01-28T19:13:27.470Z"
   },
   {
    "duration": 131,
    "start_time": "2023-01-28T19:13:27.698Z"
   },
   {
    "duration": 24,
    "start_time": "2023-01-28T19:13:27.831Z"
   },
   {
    "duration": 277,
    "start_time": "2023-01-28T19:13:27.856Z"
   },
   {
    "duration": 189,
    "start_time": "2023-01-28T19:13:28.135Z"
   },
   {
    "duration": 336,
    "start_time": "2023-01-28T19:13:28.326Z"
   },
   {
    "duration": 221,
    "start_time": "2023-01-28T19:13:28.664Z"
   },
   {
    "duration": 294,
    "start_time": "2023-01-28T19:13:28.887Z"
   },
   {
    "duration": 7,
    "start_time": "2023-01-28T19:13:29.183Z"
   },
   {
    "duration": 138,
    "start_time": "2023-01-28T19:13:29.191Z"
   },
   {
    "duration": 9,
    "start_time": "2023-01-28T19:13:29.330Z"
   },
   {
    "duration": 21,
    "start_time": "2023-01-28T19:13:29.341Z"
   },
   {
    "duration": 20,
    "start_time": "2023-01-28T19:13:29.363Z"
   },
   {
    "duration": 175,
    "start_time": "2023-01-28T19:13:29.385Z"
   },
   {
    "duration": 5,
    "start_time": "2023-01-28T19:13:29.563Z"
   },
   {
    "duration": 11,
    "start_time": "2023-01-28T19:13:29.570Z"
   },
   {
    "duration": 13,
    "start_time": "2023-01-28T19:13:29.583Z"
   },
   {
    "duration": 126,
    "start_time": "2023-01-28T19:13:29.598Z"
   },
   {
    "duration": 4,
    "start_time": "2023-01-28T19:13:29.726Z"
   },
   {
    "duration": 53,
    "start_time": "2023-01-28T19:13:29.732Z"
   },
   {
    "duration": 33,
    "start_time": "2023-01-28T19:13:29.787Z"
   },
   {
    "duration": 150,
    "start_time": "2023-01-28T19:13:29.822Z"
   },
   {
    "duration": 1214,
    "start_time": "2023-01-28T19:15:01.629Z"
   },
   {
    "duration": 3,
    "start_time": "2023-01-28T19:15:02.844Z"
   },
   {
    "duration": 86,
    "start_time": "2023-01-28T19:15:02.853Z"
   },
   {
    "duration": 54,
    "start_time": "2023-01-28T19:15:02.941Z"
   },
   {
    "duration": 5,
    "start_time": "2023-01-28T19:15:02.996Z"
   },
   {
    "duration": 36,
    "start_time": "2023-01-28T19:15:03.003Z"
   },
   {
    "duration": 31,
    "start_time": "2023-01-28T19:15:03.040Z"
   },
   {
    "duration": 40,
    "start_time": "2023-01-28T19:15:03.073Z"
   },
   {
    "duration": 20,
    "start_time": "2023-01-28T19:15:03.114Z"
   },
   {
    "duration": 58,
    "start_time": "2023-01-28T19:15:03.137Z"
   },
   {
    "duration": 37,
    "start_time": "2023-01-28T19:15:03.197Z"
   },
   {
    "duration": 39,
    "start_time": "2023-01-28T19:15:03.236Z"
   },
   {
    "duration": 36,
    "start_time": "2023-01-28T19:15:03.277Z"
   },
   {
    "duration": 238,
    "start_time": "2023-01-28T19:15:03.315Z"
   },
   {
    "duration": 125,
    "start_time": "2023-01-28T19:15:03.555Z"
   },
   {
    "duration": 11,
    "start_time": "2023-01-28T19:15:03.681Z"
   },
   {
    "duration": 288,
    "start_time": "2023-01-28T19:15:03.694Z"
   },
   {
    "duration": 198,
    "start_time": "2023-01-28T19:15:03.984Z"
   },
   {
    "duration": 307,
    "start_time": "2023-01-28T19:15:04.184Z"
   },
   {
    "duration": 214,
    "start_time": "2023-01-28T19:15:04.493Z"
   },
   {
    "duration": 323,
    "start_time": "2023-01-28T19:15:04.709Z"
   },
   {
    "duration": 19,
    "start_time": "2023-01-28T19:15:05.034Z"
   },
   {
    "duration": 122,
    "start_time": "2023-01-28T19:15:05.055Z"
   },
   {
    "duration": 8,
    "start_time": "2023-01-28T19:15:05.179Z"
   },
   {
    "duration": 5,
    "start_time": "2023-01-28T19:15:05.188Z"
   },
   {
    "duration": 14,
    "start_time": "2023-01-28T19:15:05.195Z"
   },
   {
    "duration": 151,
    "start_time": "2023-01-28T19:15:05.210Z"
   },
   {
    "duration": 5,
    "start_time": "2023-01-28T19:15:05.365Z"
   },
   {
    "duration": 7,
    "start_time": "2023-01-28T19:15:05.371Z"
   },
   {
    "duration": 7,
    "start_time": "2023-01-28T19:15:05.379Z"
   },
   {
    "duration": 145,
    "start_time": "2023-01-28T19:15:05.387Z"
   },
   {
    "duration": 6,
    "start_time": "2023-01-28T19:15:05.535Z"
   },
   {
    "duration": 47,
    "start_time": "2023-01-28T19:15:05.543Z"
   },
   {
    "duration": 15,
    "start_time": "2023-01-28T19:15:05.592Z"
   },
   {
    "duration": 157,
    "start_time": "2023-01-28T19:15:05.609Z"
   },
   {
    "duration": 48,
    "start_time": "2023-01-28T19:15:33.875Z"
   },
   {
    "duration": 50,
    "start_time": "2023-01-28T19:15:37.057Z"
   },
   {
    "duration": 8,
    "start_time": "2023-01-28T19:15:48.942Z"
   },
   {
    "duration": 1219,
    "start_time": "2023-01-28T19:18:27.237Z"
   },
   {
    "duration": 5,
    "start_time": "2023-01-28T19:18:28.458Z"
   },
   {
    "duration": 90,
    "start_time": "2023-01-28T19:18:28.464Z"
   },
   {
    "duration": 50,
    "start_time": "2023-01-28T19:18:28.555Z"
   },
   {
    "duration": 4,
    "start_time": "2023-01-28T19:18:28.607Z"
   },
   {
    "duration": 17,
    "start_time": "2023-01-28T19:18:28.613Z"
   },
   {
    "duration": 2,
    "start_time": "2023-01-28T19:18:28.654Z"
   },
   {
    "duration": 40,
    "start_time": "2023-01-28T19:18:28.658Z"
   },
   {
    "duration": 31,
    "start_time": "2023-01-28T19:18:28.699Z"
   },
   {
    "duration": 69,
    "start_time": "2023-01-28T19:18:28.731Z"
   },
   {
    "duration": 32,
    "start_time": "2023-01-28T19:18:28.802Z"
   },
   {
    "duration": 15,
    "start_time": "2023-01-28T19:18:28.835Z"
   },
   {
    "duration": 51,
    "start_time": "2023-01-28T19:18:28.852Z"
   },
   {
    "duration": 230,
    "start_time": "2023-01-28T19:18:28.907Z"
   },
   {
    "duration": 134,
    "start_time": "2023-01-28T19:18:29.139Z"
   },
   {
    "duration": 11,
    "start_time": "2023-01-28T19:18:29.274Z"
   },
   {
    "duration": 283,
    "start_time": "2023-01-28T19:18:29.287Z"
   },
   {
    "duration": 197,
    "start_time": "2023-01-28T19:18:29.572Z"
   },
   {
    "duration": 275,
    "start_time": "2023-01-28T19:18:29.771Z"
   },
   {
    "duration": 218,
    "start_time": "2023-01-28T19:18:30.048Z"
   },
   {
    "duration": 312,
    "start_time": "2023-01-28T19:18:30.268Z"
   },
   {
    "duration": 8,
    "start_time": "2023-01-28T19:18:30.582Z"
   },
   {
    "duration": 212,
    "start_time": "2023-01-28T19:18:30.592Z"
   },
   {
    "duration": 8,
    "start_time": "2023-01-28T19:18:30.806Z"
   },
   {
    "duration": 17,
    "start_time": "2023-01-28T19:18:30.816Z"
   },
   {
    "duration": 33,
    "start_time": "2023-01-28T19:18:30.835Z"
   },
   {
    "duration": 145,
    "start_time": "2023-01-28T19:18:30.870Z"
   },
   {
    "duration": 5,
    "start_time": "2023-01-28T19:18:31.017Z"
   },
   {
    "duration": 38,
    "start_time": "2023-01-28T19:18:31.023Z"
   },
   {
    "duration": 41,
    "start_time": "2023-01-28T19:18:31.062Z"
   },
   {
    "duration": 140,
    "start_time": "2023-01-28T19:18:31.105Z"
   },
   {
    "duration": 16,
    "start_time": "2023-01-28T19:18:31.247Z"
   },
   {
    "duration": 62,
    "start_time": "2023-01-28T19:18:31.264Z"
   },
   {
    "duration": 23,
    "start_time": "2023-01-28T19:18:31.329Z"
   },
   {
    "duration": 46,
    "start_time": "2023-01-28T19:18:31.354Z"
   },
   {
    "duration": 27,
    "start_time": "2023-01-28T19:18:31.402Z"
   },
   {
    "duration": 1115,
    "start_time": "2023-01-28T19:41:37.108Z"
   },
   {
    "duration": 3,
    "start_time": "2023-01-28T19:41:38.225Z"
   },
   {
    "duration": 69,
    "start_time": "2023-01-28T19:41:38.230Z"
   },
   {
    "duration": 52,
    "start_time": "2023-01-28T19:41:38.301Z"
   },
   {
    "duration": 5,
    "start_time": "2023-01-28T19:41:38.354Z"
   },
   {
    "duration": 5,
    "start_time": "2023-01-28T19:41:38.361Z"
   },
   {
    "duration": 7,
    "start_time": "2023-01-28T19:41:38.367Z"
   },
   {
    "duration": 12,
    "start_time": "2023-01-28T19:41:38.375Z"
   },
   {
    "duration": 4,
    "start_time": "2023-01-28T19:41:38.388Z"
   },
   {
    "duration": 14,
    "start_time": "2023-01-28T19:41:38.394Z"
   },
   {
    "duration": 11,
    "start_time": "2023-01-28T19:41:38.409Z"
   },
   {
    "duration": 35,
    "start_time": "2023-01-28T19:41:38.422Z"
   },
   {
    "duration": 7,
    "start_time": "2023-01-28T19:41:38.459Z"
   },
   {
    "duration": 173,
    "start_time": "2023-01-28T19:41:38.467Z"
   },
   {
    "duration": 111,
    "start_time": "2023-01-28T19:41:38.642Z"
   },
   {
    "duration": 12,
    "start_time": "2023-01-28T19:41:38.755Z"
   },
   {
    "duration": 279,
    "start_time": "2023-01-28T19:41:38.768Z"
   },
   {
    "duration": 191,
    "start_time": "2023-01-28T19:41:39.048Z"
   },
   {
    "duration": 340,
    "start_time": "2023-01-28T19:41:39.241Z"
   },
   {
    "duration": 218,
    "start_time": "2023-01-28T19:41:39.583Z"
   },
   {
    "duration": 299,
    "start_time": "2023-01-28T19:41:39.803Z"
   },
   {
    "duration": 7,
    "start_time": "2023-01-28T19:41:40.104Z"
   },
   {
    "duration": 121,
    "start_time": "2023-01-28T19:41:40.112Z"
   },
   {
    "duration": 10,
    "start_time": "2023-01-28T19:41:40.234Z"
   },
   {
    "duration": 13,
    "start_time": "2023-01-28T19:41:40.246Z"
   },
   {
    "duration": 13,
    "start_time": "2023-01-28T19:41:40.260Z"
   },
   {
    "duration": 136,
    "start_time": "2023-01-28T19:41:40.274Z"
   },
   {
    "duration": 4,
    "start_time": "2023-01-28T19:41:40.414Z"
   },
   {
    "duration": 8,
    "start_time": "2023-01-28T19:41:40.420Z"
   },
   {
    "duration": 7,
    "start_time": "2023-01-28T19:41:40.430Z"
   },
   {
    "duration": 137,
    "start_time": "2023-01-28T19:41:40.439Z"
   },
   {
    "duration": 5,
    "start_time": "2023-01-28T19:41:40.577Z"
   },
   {
    "duration": 45,
    "start_time": "2023-01-28T19:41:40.583Z"
   },
   {
    "duration": 29,
    "start_time": "2023-01-28T19:41:40.630Z"
   },
   {
    "duration": 50,
    "start_time": "2023-01-28T19:41:40.661Z"
   },
   {
    "duration": 15,
    "start_time": "2023-01-28T19:41:40.712Z"
   },
   {
    "duration": 65,
    "start_time": "2023-01-28T19:41:40.729Z"
   },
   {
    "duration": 31,
    "start_time": "2023-01-28T19:41:40.795Z"
   },
   {
    "duration": 24,
    "start_time": "2023-01-28T19:43:18.038Z"
   },
   {
    "duration": 1050,
    "start_time": "2023-01-28T19:50:37.708Z"
   },
   {
    "duration": 2,
    "start_time": "2023-01-28T19:50:38.760Z"
   },
   {
    "duration": 66,
    "start_time": "2023-01-28T19:50:38.764Z"
   },
   {
    "duration": 51,
    "start_time": "2023-01-28T19:50:38.832Z"
   },
   {
    "duration": 6,
    "start_time": "2023-01-28T19:50:38.884Z"
   },
   {
    "duration": 7,
    "start_time": "2023-01-28T19:50:38.891Z"
   },
   {
    "duration": 6,
    "start_time": "2023-01-28T19:50:38.899Z"
   },
   {
    "duration": 10,
    "start_time": "2023-01-28T19:50:38.907Z"
   },
   {
    "duration": 6,
    "start_time": "2023-01-28T19:50:38.918Z"
   },
   {
    "duration": 38,
    "start_time": "2023-01-28T19:50:38.927Z"
   },
   {
    "duration": 13,
    "start_time": "2023-01-28T19:50:38.966Z"
   },
   {
    "duration": 16,
    "start_time": "2023-01-28T19:50:38.981Z"
   },
   {
    "duration": 9,
    "start_time": "2023-01-28T19:50:38.999Z"
   },
   {
    "duration": 194,
    "start_time": "2023-01-28T19:50:39.009Z"
   },
   {
    "duration": 128,
    "start_time": "2023-01-28T19:50:39.204Z"
   },
   {
    "duration": 24,
    "start_time": "2023-01-28T19:50:39.334Z"
   },
   {
    "duration": 304,
    "start_time": "2023-01-28T19:50:39.360Z"
   },
   {
    "duration": 202,
    "start_time": "2023-01-28T19:50:39.666Z"
   },
   {
    "duration": 297,
    "start_time": "2023-01-28T19:50:39.870Z"
   },
   {
    "duration": 214,
    "start_time": "2023-01-28T19:50:40.169Z"
   },
   {
    "duration": 282,
    "start_time": "2023-01-28T19:50:40.384Z"
   },
   {
    "duration": 6,
    "start_time": "2023-01-28T19:50:40.667Z"
   },
   {
    "duration": 119,
    "start_time": "2023-01-28T19:50:40.675Z"
   },
   {
    "duration": 7,
    "start_time": "2023-01-28T19:50:40.796Z"
   },
   {
    "duration": 11,
    "start_time": "2023-01-28T19:50:40.804Z"
   },
   {
    "duration": 13,
    "start_time": "2023-01-28T19:50:40.816Z"
   },
   {
    "duration": 140,
    "start_time": "2023-01-28T19:50:40.831Z"
   },
   {
    "duration": 4,
    "start_time": "2023-01-28T19:50:40.974Z"
   },
   {
    "duration": 18,
    "start_time": "2023-01-28T19:50:40.979Z"
   },
   {
    "duration": 18,
    "start_time": "2023-01-28T19:50:40.999Z"
   },
   {
    "duration": 151,
    "start_time": "2023-01-28T19:50:41.018Z"
   },
   {
    "duration": 8,
    "start_time": "2023-01-28T19:50:41.171Z"
   },
   {
    "duration": 47,
    "start_time": "2023-01-28T19:50:41.180Z"
   },
   {
    "duration": 19,
    "start_time": "2023-01-28T19:50:41.229Z"
   },
   {
    "duration": 48,
    "start_time": "2023-01-28T19:50:41.253Z"
   },
   {
    "duration": 31,
    "start_time": "2023-01-28T19:50:41.303Z"
   },
   {
    "duration": 48,
    "start_time": "2023-01-28T19:50:41.335Z"
   },
   {
    "duration": 20,
    "start_time": "2023-01-28T19:50:41.385Z"
   },
   {
    "duration": 85,
    "start_time": "2023-01-28T19:50:41.407Z"
   },
   {
    "duration": 94,
    "start_time": "2023-01-28T19:50:41.493Z"
   },
   {
    "duration": 9,
    "start_time": "2023-01-28T19:51:26.646Z"
   },
   {
    "duration": 5,
    "start_time": "2023-01-28T19:54:25.270Z"
   },
   {
    "duration": 1083,
    "start_time": "2023-01-28T19:55:31.467Z"
   },
   {
    "duration": 3,
    "start_time": "2023-01-28T19:55:32.552Z"
   },
   {
    "duration": 65,
    "start_time": "2023-01-28T19:55:32.556Z"
   },
   {
    "duration": 55,
    "start_time": "2023-01-28T19:55:32.623Z"
   },
   {
    "duration": 5,
    "start_time": "2023-01-28T19:55:32.679Z"
   },
   {
    "duration": 8,
    "start_time": "2023-01-28T19:55:32.685Z"
   },
   {
    "duration": 6,
    "start_time": "2023-01-28T19:55:32.694Z"
   },
   {
    "duration": 8,
    "start_time": "2023-01-28T19:55:32.702Z"
   },
   {
    "duration": 6,
    "start_time": "2023-01-28T19:55:32.712Z"
   },
   {
    "duration": 36,
    "start_time": "2023-01-28T19:55:32.720Z"
   },
   {
    "duration": 13,
    "start_time": "2023-01-28T19:55:32.758Z"
   },
   {
    "duration": 16,
    "start_time": "2023-01-28T19:55:32.773Z"
   },
   {
    "duration": 9,
    "start_time": "2023-01-28T19:55:32.791Z"
   },
   {
    "duration": 210,
    "start_time": "2023-01-28T19:55:32.801Z"
   },
   {
    "duration": 124,
    "start_time": "2023-01-28T19:55:33.013Z"
   },
   {
    "duration": 19,
    "start_time": "2023-01-28T19:55:33.139Z"
   },
   {
    "duration": 270,
    "start_time": "2023-01-28T19:55:33.160Z"
   },
   {
    "duration": 198,
    "start_time": "2023-01-28T19:55:33.432Z"
   },
   {
    "duration": 343,
    "start_time": "2023-01-28T19:55:33.631Z"
   },
   {
    "duration": 195,
    "start_time": "2023-01-28T19:55:33.976Z"
   },
   {
    "duration": 293,
    "start_time": "2023-01-28T19:55:34.173Z"
   },
   {
    "duration": 6,
    "start_time": "2023-01-28T19:55:34.467Z"
   },
   {
    "duration": 114,
    "start_time": "2023-01-28T19:55:34.475Z"
   },
   {
    "duration": 7,
    "start_time": "2023-01-28T19:55:34.590Z"
   },
   {
    "duration": 8,
    "start_time": "2023-01-28T19:55:34.598Z"
   },
   {
    "duration": 12,
    "start_time": "2023-01-28T19:55:34.607Z"
   },
   {
    "duration": 134,
    "start_time": "2023-01-28T19:55:34.620Z"
   },
   {
    "duration": 5,
    "start_time": "2023-01-28T19:55:34.758Z"
   },
   {
    "duration": 11,
    "start_time": "2023-01-28T19:55:34.764Z"
   },
   {
    "duration": 14,
    "start_time": "2023-01-28T19:55:34.776Z"
   },
   {
    "duration": 112,
    "start_time": "2023-01-28T19:55:34.792Z"
   },
   {
    "duration": 7,
    "start_time": "2023-01-28T19:55:34.906Z"
   },
   {
    "duration": 53,
    "start_time": "2023-01-28T19:55:34.914Z"
   },
   {
    "duration": 15,
    "start_time": "2023-01-28T19:55:34.969Z"
   },
   {
    "duration": 52,
    "start_time": "2023-01-28T19:55:34.985Z"
   },
   {
    "duration": 14,
    "start_time": "2023-01-28T19:55:35.054Z"
   },
   {
    "duration": 55,
    "start_time": "2023-01-28T19:55:35.070Z"
   },
   {
    "duration": 33,
    "start_time": "2023-01-28T19:55:35.127Z"
   },
   {
    "duration": 74,
    "start_time": "2023-01-28T19:55:35.162Z"
   },
   {
    "duration": 75,
    "start_time": "2023-01-28T19:55:35.238Z"
   },
   {
    "duration": 50,
    "start_time": "2023-01-28T19:55:35.314Z"
   },
   {
    "duration": 9,
    "start_time": "2023-01-28T19:55:35.366Z"
   },
   {
    "duration": 13,
    "start_time": "2023-01-28T19:55:35.377Z"
   },
   {
    "duration": 5,
    "start_time": "2023-01-28T19:56:13.966Z"
   },
   {
    "duration": 1046,
    "start_time": "2023-01-28T19:57:48.107Z"
   },
   {
    "duration": 3,
    "start_time": "2023-01-28T19:57:49.155Z"
   },
   {
    "duration": 66,
    "start_time": "2023-01-28T19:57:49.159Z"
   },
   {
    "duration": 51,
    "start_time": "2023-01-28T19:57:49.227Z"
   },
   {
    "duration": 5,
    "start_time": "2023-01-28T19:57:49.281Z"
   },
   {
    "duration": 10,
    "start_time": "2023-01-28T19:57:49.288Z"
   },
   {
    "duration": 8,
    "start_time": "2023-01-28T19:57:49.300Z"
   },
   {
    "duration": 16,
    "start_time": "2023-01-28T19:57:49.310Z"
   },
   {
    "duration": 11,
    "start_time": "2023-01-28T19:57:49.327Z"
   },
   {
    "duration": 19,
    "start_time": "2023-01-28T19:57:49.339Z"
   },
   {
    "duration": 12,
    "start_time": "2023-01-28T19:57:49.359Z"
   },
   {
    "duration": 20,
    "start_time": "2023-01-28T19:57:49.373Z"
   },
   {
    "duration": 7,
    "start_time": "2023-01-28T19:57:49.395Z"
   },
   {
    "duration": 229,
    "start_time": "2023-01-28T19:57:49.405Z"
   },
   {
    "duration": 136,
    "start_time": "2023-01-28T19:57:49.636Z"
   },
   {
    "duration": 17,
    "start_time": "2023-01-28T19:57:49.775Z"
   },
   {
    "duration": 287,
    "start_time": "2023-01-28T19:57:49.794Z"
   },
   {
    "duration": 186,
    "start_time": "2023-01-28T19:57:50.083Z"
   },
   {
    "duration": 286,
    "start_time": "2023-01-28T19:57:50.270Z"
   },
   {
    "duration": 188,
    "start_time": "2023-01-28T19:57:50.557Z"
   },
   {
    "duration": 297,
    "start_time": "2023-01-28T19:57:50.747Z"
   },
   {
    "duration": 7,
    "start_time": "2023-01-28T19:57:51.052Z"
   },
   {
    "duration": 117,
    "start_time": "2023-01-28T19:57:51.060Z"
   },
   {
    "duration": 7,
    "start_time": "2023-01-28T19:57:51.179Z"
   },
   {
    "duration": 11,
    "start_time": "2023-01-28T19:57:51.187Z"
   },
   {
    "duration": 17,
    "start_time": "2023-01-28T19:57:51.199Z"
   },
   {
    "duration": 122,
    "start_time": "2023-01-28T19:57:51.217Z"
   },
   {
    "duration": 4,
    "start_time": "2023-01-28T19:57:51.340Z"
   },
   {
    "duration": 4,
    "start_time": "2023-01-28T19:57:51.353Z"
   },
   {
    "duration": 10,
    "start_time": "2023-01-28T19:57:51.358Z"
   },
   {
    "duration": 108,
    "start_time": "2023-01-28T19:57:51.369Z"
   },
   {
    "duration": 7,
    "start_time": "2023-01-28T19:57:51.479Z"
   },
   {
    "duration": 60,
    "start_time": "2023-01-28T19:57:51.487Z"
   },
   {
    "duration": 27,
    "start_time": "2023-01-28T19:57:51.548Z"
   },
   {
    "duration": 47,
    "start_time": "2023-01-28T19:57:51.577Z"
   },
   {
    "duration": 17,
    "start_time": "2023-01-28T19:57:51.626Z"
   },
   {
    "duration": 53,
    "start_time": "2023-01-28T19:57:51.644Z"
   },
   {
    "duration": 22,
    "start_time": "2023-01-28T19:57:51.699Z"
   },
   {
    "duration": 68,
    "start_time": "2023-01-28T19:57:51.722Z"
   },
   {
    "duration": 80,
    "start_time": "2023-01-28T19:57:51.792Z"
   },
   {
    "duration": 4,
    "start_time": "2023-01-28T19:57:51.876Z"
   },
   {
    "duration": 7,
    "start_time": "2023-01-28T19:57:51.882Z"
   },
   {
    "duration": 1086,
    "start_time": "2023-01-28T19:59:09.162Z"
   },
   {
    "duration": 3,
    "start_time": "2023-01-28T19:59:10.252Z"
   },
   {
    "duration": 83,
    "start_time": "2023-01-28T19:59:10.256Z"
   },
   {
    "duration": 48,
    "start_time": "2023-01-28T19:59:10.340Z"
   },
   {
    "duration": 5,
    "start_time": "2023-01-28T19:59:10.390Z"
   },
   {
    "duration": 9,
    "start_time": "2023-01-28T19:59:10.397Z"
   },
   {
    "duration": 5,
    "start_time": "2023-01-28T19:59:10.407Z"
   },
   {
    "duration": 15,
    "start_time": "2023-01-28T19:59:10.413Z"
   },
   {
    "duration": 24,
    "start_time": "2023-01-28T19:59:10.429Z"
   },
   {
    "duration": 13,
    "start_time": "2023-01-28T19:59:10.455Z"
   },
   {
    "duration": 12,
    "start_time": "2023-01-28T19:59:10.469Z"
   },
   {
    "duration": 14,
    "start_time": "2023-01-28T19:59:10.482Z"
   },
   {
    "duration": 10,
    "start_time": "2023-01-28T19:59:10.498Z"
   },
   {
    "duration": 190,
    "start_time": "2023-01-28T19:59:10.511Z"
   },
   {
    "duration": 116,
    "start_time": "2023-01-28T19:59:10.702Z"
   },
   {
    "duration": 10,
    "start_time": "2023-01-28T19:59:10.820Z"
   },
   {
    "duration": 290,
    "start_time": "2023-01-28T19:59:10.832Z"
   },
   {
    "duration": 187,
    "start_time": "2023-01-28T19:59:11.124Z"
   },
   {
    "duration": 322,
    "start_time": "2023-01-28T19:59:11.313Z"
   },
   {
    "duration": 216,
    "start_time": "2023-01-28T19:59:11.637Z"
   },
   {
    "duration": 288,
    "start_time": "2023-01-28T19:59:11.855Z"
   },
   {
    "duration": 6,
    "start_time": "2023-01-28T19:59:12.153Z"
   },
   {
    "duration": 146,
    "start_time": "2023-01-28T19:59:12.160Z"
   },
   {
    "duration": 7,
    "start_time": "2023-01-28T19:59:12.308Z"
   },
   {
    "duration": 26,
    "start_time": "2023-01-28T19:59:12.316Z"
   },
   {
    "duration": 29,
    "start_time": "2023-01-28T19:59:12.343Z"
   },
   {
    "duration": 142,
    "start_time": "2023-01-28T19:59:12.374Z"
   },
   {
    "duration": 5,
    "start_time": "2023-01-28T19:59:12.518Z"
   },
   {
    "duration": 31,
    "start_time": "2023-01-28T19:59:12.524Z"
   },
   {
    "duration": 33,
    "start_time": "2023-01-28T19:59:12.557Z"
   },
   {
    "duration": 136,
    "start_time": "2023-01-28T19:59:12.591Z"
   },
   {
    "duration": 23,
    "start_time": "2023-01-28T19:59:12.729Z"
   },
   {
    "duration": 73,
    "start_time": "2023-01-28T19:59:12.754Z"
   },
   {
    "duration": 57,
    "start_time": "2023-01-28T19:59:12.829Z"
   },
   {
    "duration": 75,
    "start_time": "2023-01-28T19:59:12.887Z"
   },
   {
    "duration": 44,
    "start_time": "2023-01-28T19:59:12.964Z"
   },
   {
    "duration": 66,
    "start_time": "2023-01-28T19:59:13.010Z"
   },
   {
    "duration": 48,
    "start_time": "2023-01-28T19:59:13.078Z"
   },
   {
    "duration": 93,
    "start_time": "2023-01-28T19:59:13.127Z"
   },
   {
    "duration": 72,
    "start_time": "2023-01-28T19:59:13.222Z"
   },
   {
    "duration": 4,
    "start_time": "2023-01-28T19:59:13.297Z"
   },
   {
    "duration": 34,
    "start_time": "2023-01-28T19:59:13.303Z"
   },
   {
    "duration": 131,
    "start_time": "2023-01-28T19:59:13.339Z"
   },
   {
    "duration": 8,
    "start_time": "2023-01-28T19:59:29.606Z"
   },
   {
    "duration": 1128,
    "start_time": "2023-01-28T19:59:37.315Z"
   },
   {
    "duration": 3,
    "start_time": "2023-01-28T19:59:38.445Z"
   },
   {
    "duration": 64,
    "start_time": "2023-01-28T19:59:38.449Z"
   },
   {
    "duration": 51,
    "start_time": "2023-01-28T19:59:38.515Z"
   },
   {
    "duration": 5,
    "start_time": "2023-01-28T19:59:38.568Z"
   },
   {
    "duration": 6,
    "start_time": "2023-01-28T19:59:38.574Z"
   },
   {
    "duration": 6,
    "start_time": "2023-01-28T19:59:38.581Z"
   },
   {
    "duration": 8,
    "start_time": "2023-01-28T19:59:38.588Z"
   },
   {
    "duration": 6,
    "start_time": "2023-01-28T19:59:38.597Z"
   },
   {
    "duration": 14,
    "start_time": "2023-01-28T19:59:38.605Z"
   },
   {
    "duration": 40,
    "start_time": "2023-01-28T19:59:38.620Z"
   },
   {
    "duration": 12,
    "start_time": "2023-01-28T19:59:38.662Z"
   },
   {
    "duration": 7,
    "start_time": "2023-01-28T19:59:38.675Z"
   },
   {
    "duration": 182,
    "start_time": "2023-01-28T19:59:38.683Z"
   },
   {
    "duration": 124,
    "start_time": "2023-01-28T19:59:38.867Z"
   },
   {
    "duration": 12,
    "start_time": "2023-01-28T19:59:38.992Z"
   },
   {
    "duration": 289,
    "start_time": "2023-01-28T19:59:39.005Z"
   },
   {
    "duration": 195,
    "start_time": "2023-01-28T19:59:39.296Z"
   },
   {
    "duration": 283,
    "start_time": "2023-01-28T19:59:39.493Z"
   },
   {
    "duration": 207,
    "start_time": "2023-01-28T19:59:39.778Z"
   },
   {
    "duration": 269,
    "start_time": "2023-01-28T19:59:39.986Z"
   },
   {
    "duration": 6,
    "start_time": "2023-01-28T19:59:40.257Z"
   },
   {
    "duration": 115,
    "start_time": "2023-01-28T19:59:40.264Z"
   },
   {
    "duration": 8,
    "start_time": "2023-01-28T19:59:40.380Z"
   },
   {
    "duration": 11,
    "start_time": "2023-01-28T19:59:40.389Z"
   },
   {
    "duration": 28,
    "start_time": "2023-01-28T19:59:40.401Z"
   },
   {
    "duration": 125,
    "start_time": "2023-01-28T19:59:40.430Z"
   },
   {
    "duration": 4,
    "start_time": "2023-01-28T19:59:40.558Z"
   },
   {
    "duration": 13,
    "start_time": "2023-01-28T19:59:40.563Z"
   },
   {
    "duration": 8,
    "start_time": "2023-01-28T19:59:40.577Z"
   },
   {
    "duration": 119,
    "start_time": "2023-01-28T19:59:40.586Z"
   },
   {
    "duration": 7,
    "start_time": "2023-01-28T19:59:40.707Z"
   },
   {
    "duration": 49,
    "start_time": "2023-01-28T19:59:40.716Z"
   },
   {
    "duration": 19,
    "start_time": "2023-01-28T19:59:40.767Z"
   },
   {
    "duration": 45,
    "start_time": "2023-01-28T19:59:40.788Z"
   },
   {
    "duration": 24,
    "start_time": "2023-01-28T19:59:40.835Z"
   },
   {
    "duration": 52,
    "start_time": "2023-01-28T19:59:40.860Z"
   },
   {
    "duration": 26,
    "start_time": "2023-01-28T19:59:40.914Z"
   },
   {
    "duration": 73,
    "start_time": "2023-01-28T19:59:40.941Z"
   },
   {
    "duration": 79,
    "start_time": "2023-01-28T19:59:41.016Z"
   },
   {
    "duration": 4,
    "start_time": "2023-01-28T19:59:41.097Z"
   },
   {
    "duration": 11,
    "start_time": "2023-01-28T19:59:41.103Z"
   },
   {
    "duration": 104,
    "start_time": "2023-01-28T19:59:41.116Z"
   },
   {
    "duration": 24,
    "start_time": "2023-01-28T20:00:04.576Z"
   },
   {
    "duration": 21,
    "start_time": "2023-01-28T20:00:18.638Z"
   },
   {
    "duration": 1079,
    "start_time": "2023-01-28T20:01:00.279Z"
   },
   {
    "duration": 3,
    "start_time": "2023-01-28T20:01:01.360Z"
   },
   {
    "duration": 182,
    "start_time": "2023-01-28T20:01:01.365Z"
   },
   {
    "duration": 53,
    "start_time": "2023-01-28T20:01:01.550Z"
   },
   {
    "duration": 5,
    "start_time": "2023-01-28T20:01:01.604Z"
   },
   {
    "duration": 64,
    "start_time": "2023-01-28T20:01:01.611Z"
   },
   {
    "duration": 87,
    "start_time": "2023-01-28T20:01:01.677Z"
   },
   {
    "duration": 55,
    "start_time": "2023-01-28T20:01:01.766Z"
   },
   {
    "duration": 58,
    "start_time": "2023-01-28T20:01:01.823Z"
   },
   {
    "duration": 42,
    "start_time": "2023-01-28T20:01:01.884Z"
   },
   {
    "duration": 29,
    "start_time": "2023-01-28T20:01:01.928Z"
   },
   {
    "duration": 44,
    "start_time": "2023-01-28T20:01:01.958Z"
   },
   {
    "duration": 45,
    "start_time": "2023-01-28T20:01:02.003Z"
   },
   {
    "duration": 187,
    "start_time": "2023-01-28T20:01:02.050Z"
   },
   {
    "duration": 107,
    "start_time": "2023-01-28T20:01:02.239Z"
   },
   {
    "duration": 11,
    "start_time": "2023-01-28T20:01:02.354Z"
   },
   {
    "duration": 286,
    "start_time": "2023-01-28T20:01:02.367Z"
   },
   {
    "duration": 198,
    "start_time": "2023-01-28T20:01:02.655Z"
   },
   {
    "duration": 316,
    "start_time": "2023-01-28T20:01:02.855Z"
   },
   {
    "duration": 210,
    "start_time": "2023-01-28T20:01:03.172Z"
   },
   {
    "duration": 292,
    "start_time": "2023-01-28T20:01:03.384Z"
   },
   {
    "duration": 7,
    "start_time": "2023-01-28T20:01:03.678Z"
   },
   {
    "duration": 124,
    "start_time": "2023-01-28T20:01:03.687Z"
   },
   {
    "duration": 8,
    "start_time": "2023-01-28T20:01:03.813Z"
   },
   {
    "duration": 93,
    "start_time": "2023-01-28T20:01:03.822Z"
   },
   {
    "duration": 30,
    "start_time": "2023-01-28T20:01:03.916Z"
   },
   {
    "duration": 136,
    "start_time": "2023-01-28T20:01:03.947Z"
   },
   {
    "duration": 5,
    "start_time": "2023-01-28T20:01:04.086Z"
   },
   {
    "duration": 16,
    "start_time": "2023-01-28T20:01:04.092Z"
   },
   {
    "duration": 31,
    "start_time": "2023-01-28T20:01:04.110Z"
   },
   {
    "duration": 138,
    "start_time": "2023-01-28T20:01:04.143Z"
   },
   {
    "duration": 11,
    "start_time": "2023-01-28T20:01:04.283Z"
   },
   {
    "duration": 62,
    "start_time": "2023-01-28T20:01:04.296Z"
   },
   {
    "duration": 27,
    "start_time": "2023-01-28T20:01:04.360Z"
   },
   {
    "duration": 53,
    "start_time": "2023-01-28T20:01:04.389Z"
   },
   {
    "duration": 28,
    "start_time": "2023-01-28T20:01:04.444Z"
   },
   {
    "duration": 48,
    "start_time": "2023-01-28T20:01:04.474Z"
   },
   {
    "duration": 28,
    "start_time": "2023-01-28T20:01:04.524Z"
   },
   {
    "duration": 69,
    "start_time": "2023-01-28T20:01:04.554Z"
   },
   {
    "duration": 71,
    "start_time": "2023-01-28T20:01:04.625Z"
   },
   {
    "duration": 4,
    "start_time": "2023-01-28T20:01:04.698Z"
   },
   {
    "duration": 9,
    "start_time": "2023-01-28T20:01:04.704Z"
   },
   {
    "duration": 39,
    "start_time": "2023-01-28T20:01:04.715Z"
   },
   {
    "duration": 4,
    "start_time": "2023-01-28T20:01:04.756Z"
   },
   {
    "duration": 1193,
    "start_time": "2023-01-29T11:29:33.333Z"
   },
   {
    "duration": 3,
    "start_time": "2023-01-29T11:29:34.528Z"
   },
   {
    "duration": 179,
    "start_time": "2023-01-29T11:29:34.532Z"
   },
   {
    "duration": 49,
    "start_time": "2023-01-29T11:29:34.713Z"
   },
   {
    "duration": 5,
    "start_time": "2023-01-29T11:29:34.764Z"
   },
   {
    "duration": 12,
    "start_time": "2023-01-29T11:29:34.770Z"
   },
   {
    "duration": 8,
    "start_time": "2023-01-29T11:29:34.784Z"
   },
   {
    "duration": 10,
    "start_time": "2023-01-29T11:29:34.793Z"
   },
   {
    "duration": 7,
    "start_time": "2023-01-29T11:29:34.805Z"
   },
   {
    "duration": 29,
    "start_time": "2023-01-29T11:29:34.813Z"
   },
   {
    "duration": 11,
    "start_time": "2023-01-29T11:29:34.843Z"
   },
   {
    "duration": 17,
    "start_time": "2023-01-29T11:29:34.855Z"
   },
   {
    "duration": 7,
    "start_time": "2023-01-29T11:29:34.873Z"
   },
   {
    "duration": 181,
    "start_time": "2023-01-29T11:29:34.883Z"
   },
   {
    "duration": 112,
    "start_time": "2023-01-29T11:29:35.065Z"
   },
   {
    "duration": 15,
    "start_time": "2023-01-29T11:29:35.179Z"
   },
   {
    "duration": 256,
    "start_time": "2023-01-29T11:29:35.196Z"
   },
   {
    "duration": 204,
    "start_time": "2023-01-29T11:29:35.453Z"
   },
   {
    "duration": 345,
    "start_time": "2023-01-29T11:29:35.659Z"
   },
   {
    "duration": 199,
    "start_time": "2023-01-29T11:29:36.007Z"
   },
   {
    "duration": 314,
    "start_time": "2023-01-29T11:29:36.208Z"
   },
   {
    "duration": 13,
    "start_time": "2023-01-29T11:29:36.524Z"
   },
   {
    "duration": 110,
    "start_time": "2023-01-29T11:29:36.538Z"
   },
   {
    "duration": 7,
    "start_time": "2023-01-29T11:29:36.652Z"
   },
   {
    "duration": 8,
    "start_time": "2023-01-29T11:29:36.661Z"
   },
   {
    "duration": 15,
    "start_time": "2023-01-29T11:29:36.671Z"
   },
   {
    "duration": 129,
    "start_time": "2023-01-29T11:29:36.688Z"
   },
   {
    "duration": 4,
    "start_time": "2023-01-29T11:29:36.819Z"
   },
   {
    "duration": 5,
    "start_time": "2023-01-29T11:29:36.837Z"
   },
   {
    "duration": 7,
    "start_time": "2023-01-29T11:29:36.843Z"
   },
   {
    "duration": 111,
    "start_time": "2023-01-29T11:29:36.851Z"
   },
   {
    "duration": 9,
    "start_time": "2023-01-29T11:29:36.963Z"
   },
   {
    "duration": 46,
    "start_time": "2023-01-29T11:29:36.973Z"
   },
   {
    "duration": 22,
    "start_time": "2023-01-29T11:29:37.021Z"
   },
   {
    "duration": 44,
    "start_time": "2023-01-29T11:29:37.044Z"
   },
   {
    "duration": 21,
    "start_time": "2023-01-29T11:29:37.090Z"
   },
   {
    "duration": 46,
    "start_time": "2023-01-29T11:29:37.112Z"
   },
   {
    "duration": 20,
    "start_time": "2023-01-29T11:29:37.160Z"
   },
   {
    "duration": 84,
    "start_time": "2023-01-29T11:29:37.181Z"
   },
   {
    "duration": 80,
    "start_time": "2023-01-29T11:29:37.266Z"
   },
   {
    "duration": 4,
    "start_time": "2023-01-29T11:29:37.349Z"
   },
   {
    "duration": 7,
    "start_time": "2023-01-29T11:29:37.354Z"
   },
   {
    "duration": 24,
    "start_time": "2023-01-29T11:29:37.362Z"
   },
   {
    "duration": 3,
    "start_time": "2023-01-29T11:29:37.388Z"
   },
   {
    "duration": 1023,
    "start_time": "2023-01-29T12:37:50.887Z"
   },
   {
    "duration": 3,
    "start_time": "2023-01-29T12:37:51.912Z"
   },
   {
    "duration": 129,
    "start_time": "2023-01-29T12:37:51.916Z"
   },
   {
    "duration": 48,
    "start_time": "2023-01-29T12:37:52.047Z"
   },
   {
    "duration": 8,
    "start_time": "2023-01-29T12:37:52.097Z"
   },
   {
    "duration": 69,
    "start_time": "2023-01-29T12:37:52.107Z"
   },
   {
    "duration": 60,
    "start_time": "2023-01-29T12:37:52.177Z"
   },
   {
    "duration": 91,
    "start_time": "2023-01-29T12:37:52.239Z"
   },
   {
    "duration": 82,
    "start_time": "2023-01-29T12:37:52.332Z"
   },
   {
    "duration": 78,
    "start_time": "2023-01-29T12:37:52.417Z"
   },
   {
    "duration": 72,
    "start_time": "2023-01-29T12:37:52.497Z"
   },
   {
    "duration": 56,
    "start_time": "2023-01-29T12:37:52.571Z"
   },
   {
    "duration": 58,
    "start_time": "2023-01-29T12:37:52.629Z"
   },
   {
    "duration": 210,
    "start_time": "2023-01-29T12:37:52.690Z"
   },
   {
    "duration": 111,
    "start_time": "2023-01-29T12:37:52.902Z"
   },
   {
    "duration": 22,
    "start_time": "2023-01-29T12:37:53.015Z"
   },
   {
    "duration": 281,
    "start_time": "2023-01-29T12:37:53.038Z"
   },
   {
    "duration": 178,
    "start_time": "2023-01-29T12:37:53.321Z"
   },
   {
    "duration": 309,
    "start_time": "2023-01-29T12:37:53.501Z"
   },
   {
    "duration": 197,
    "start_time": "2023-01-29T12:37:53.812Z"
   },
   {
    "duration": 300,
    "start_time": "2023-01-29T12:37:54.010Z"
   },
   {
    "duration": 6,
    "start_time": "2023-01-29T12:37:54.312Z"
   },
   {
    "duration": 139,
    "start_time": "2023-01-29T12:37:54.319Z"
   },
   {
    "duration": 7,
    "start_time": "2023-01-29T12:37:54.459Z"
   },
   {
    "duration": 48,
    "start_time": "2023-01-29T12:37:54.467Z"
   },
   {
    "duration": 58,
    "start_time": "2023-01-29T12:37:54.517Z"
   },
   {
    "duration": 145,
    "start_time": "2023-01-29T12:37:54.576Z"
   },
   {
    "duration": 15,
    "start_time": "2023-01-29T12:37:54.723Z"
   },
   {
    "duration": 32,
    "start_time": "2023-01-29T12:37:54.740Z"
   },
   {
    "duration": 36,
    "start_time": "2023-01-29T12:37:54.774Z"
   },
   {
    "duration": 118,
    "start_time": "2023-01-29T12:37:54.812Z"
   },
   {
    "duration": 27,
    "start_time": "2023-01-29T12:37:54.931Z"
   },
   {
    "duration": 59,
    "start_time": "2023-01-29T12:37:54.959Z"
   },
   {
    "duration": 46,
    "start_time": "2023-01-29T12:37:55.020Z"
   },
   {
    "duration": 67,
    "start_time": "2023-01-29T12:37:55.068Z"
   },
   {
    "duration": 34,
    "start_time": "2023-01-29T12:37:55.136Z"
   },
   {
    "duration": 80,
    "start_time": "2023-01-29T12:37:55.172Z"
   },
   {
    "duration": 45,
    "start_time": "2023-01-29T12:37:55.253Z"
   },
   {
    "duration": 114,
    "start_time": "2023-01-29T12:37:55.300Z"
   },
   {
    "duration": 111,
    "start_time": "2023-01-29T12:37:55.415Z"
   },
   {
    "duration": 4,
    "start_time": "2023-01-29T12:37:55.529Z"
   },
   {
    "duration": 34,
    "start_time": "2023-01-29T12:37:55.535Z"
   },
   {
    "duration": 44,
    "start_time": "2023-01-29T12:37:55.571Z"
   },
   {
    "duration": 31,
    "start_time": "2023-01-29T12:37:55.617Z"
   },
   {
    "duration": 121,
    "start_time": "2023-01-29T12:37:55.651Z"
   },
   {
    "duration": 0,
    "start_time": "2023-01-29T12:37:55.774Z"
   },
   {
    "duration": 8,
    "start_time": "2023-01-29T12:38:05.176Z"
   },
   {
    "duration": 6,
    "start_time": "2023-01-29T12:38:06.196Z"
   },
   {
    "duration": 1105,
    "start_time": "2023-01-29T12:46:51.151Z"
   },
   {
    "duration": 3,
    "start_time": "2023-01-29T12:46:52.258Z"
   },
   {
    "duration": 103,
    "start_time": "2023-01-29T12:46:52.262Z"
   },
   {
    "duration": 60,
    "start_time": "2023-01-29T12:46:52.367Z"
   },
   {
    "duration": 11,
    "start_time": "2023-01-29T12:46:52.429Z"
   },
   {
    "duration": 33,
    "start_time": "2023-01-29T12:46:52.441Z"
   },
   {
    "duration": 30,
    "start_time": "2023-01-29T12:46:52.476Z"
   },
   {
    "duration": 22,
    "start_time": "2023-01-29T12:46:52.509Z"
   },
   {
    "duration": 53,
    "start_time": "2023-01-29T12:46:52.533Z"
   },
   {
    "duration": 30,
    "start_time": "2023-01-29T12:46:52.588Z"
   },
   {
    "duration": 48,
    "start_time": "2023-01-29T12:46:52.620Z"
   },
   {
    "duration": 57,
    "start_time": "2023-01-29T12:46:52.670Z"
   },
   {
    "duration": 86,
    "start_time": "2023-01-29T12:46:52.729Z"
   },
   {
    "duration": 213,
    "start_time": "2023-01-29T12:46:52.818Z"
   },
   {
    "duration": 135,
    "start_time": "2023-01-29T12:46:53.033Z"
   },
   {
    "duration": 46,
    "start_time": "2023-01-29T12:46:53.170Z"
   },
   {
    "duration": 337,
    "start_time": "2023-01-29T12:46:53.218Z"
   },
   {
    "duration": 186,
    "start_time": "2023-01-29T12:46:53.556Z"
   },
   {
    "duration": 295,
    "start_time": "2023-01-29T12:46:53.744Z"
   },
   {
    "duration": 208,
    "start_time": "2023-01-29T12:46:54.040Z"
   },
   {
    "duration": 279,
    "start_time": "2023-01-29T12:46:54.250Z"
   },
   {
    "duration": 6,
    "start_time": "2023-01-29T12:46:54.537Z"
   },
   {
    "duration": 151,
    "start_time": "2023-01-29T12:46:54.545Z"
   },
   {
    "duration": 8,
    "start_time": "2023-01-29T12:46:54.697Z"
   },
   {
    "duration": 62,
    "start_time": "2023-01-29T12:46:54.707Z"
   },
   {
    "duration": 20,
    "start_time": "2023-01-29T12:46:54.771Z"
   },
   {
    "duration": 156,
    "start_time": "2023-01-29T12:46:54.793Z"
   },
   {
    "duration": 6,
    "start_time": "2023-01-29T12:46:54.951Z"
   },
   {
    "duration": 54,
    "start_time": "2023-01-29T12:46:54.959Z"
   },
   {
    "duration": 29,
    "start_time": "2023-01-29T12:46:55.014Z"
   },
   {
    "duration": 147,
    "start_time": "2023-01-29T12:46:55.044Z"
   },
   {
    "duration": 37,
    "start_time": "2023-01-29T12:46:55.193Z"
   },
   {
    "duration": 82,
    "start_time": "2023-01-29T12:46:55.231Z"
   },
   {
    "duration": 83,
    "start_time": "2023-01-29T12:46:55.314Z"
   },
   {
    "duration": 74,
    "start_time": "2023-01-29T12:46:55.399Z"
   },
   {
    "duration": 28,
    "start_time": "2023-01-29T12:46:55.475Z"
   },
   {
    "duration": 79,
    "start_time": "2023-01-29T12:46:55.504Z"
   },
   {
    "duration": 24,
    "start_time": "2023-01-29T12:46:55.585Z"
   },
   {
    "duration": 124,
    "start_time": "2023-01-29T12:46:55.611Z"
   },
   {
    "duration": 109,
    "start_time": "2023-01-29T12:46:55.737Z"
   },
   {
    "duration": 5,
    "start_time": "2023-01-29T12:46:55.851Z"
   },
   {
    "duration": 33,
    "start_time": "2023-01-29T12:46:55.857Z"
   },
   {
    "duration": 70,
    "start_time": "2023-01-29T12:46:55.891Z"
   },
   {
    "duration": 15,
    "start_time": "2023-01-29T12:46:55.963Z"
   },
   {
    "duration": 45,
    "start_time": "2023-01-29T12:46:55.979Z"
   },
   {
    "duration": 28,
    "start_time": "2023-01-29T12:46:56.026Z"
   },
   {
    "duration": 6,
    "start_time": "2023-01-29T12:50:26.106Z"
   },
   {
    "duration": 874,
    "start_time": "2023-01-29T12:50:27.798Z"
   },
   {
    "duration": 5,
    "start_time": "2023-01-29T12:50:34.108Z"
   },
   {
    "duration": 5,
    "start_time": "2023-01-29T12:50:38.095Z"
   },
   {
    "duration": 1152,
    "start_time": "2023-01-29T12:57:11.556Z"
   },
   {
    "duration": 4,
    "start_time": "2023-01-29T12:57:12.710Z"
   },
   {
    "duration": 101,
    "start_time": "2023-01-29T12:57:12.715Z"
   },
   {
    "duration": 58,
    "start_time": "2023-01-29T12:57:12.818Z"
   },
   {
    "duration": 6,
    "start_time": "2023-01-29T12:57:12.879Z"
   },
   {
    "duration": 17,
    "start_time": "2023-01-29T12:57:12.887Z"
   },
   {
    "duration": 20,
    "start_time": "2023-01-29T12:57:12.905Z"
   },
   {
    "duration": 32,
    "start_time": "2023-01-29T12:57:12.927Z"
   },
   {
    "duration": 7,
    "start_time": "2023-01-29T12:57:12.961Z"
   },
   {
    "duration": 41,
    "start_time": "2023-01-29T12:57:12.970Z"
   },
   {
    "duration": 19,
    "start_time": "2023-01-29T12:57:13.013Z"
   },
   {
    "duration": 43,
    "start_time": "2023-01-29T12:57:13.034Z"
   },
   {
    "duration": 38,
    "start_time": "2023-01-29T12:57:13.079Z"
   },
   {
    "duration": 213,
    "start_time": "2023-01-29T12:57:13.121Z"
   },
   {
    "duration": 128,
    "start_time": "2023-01-29T12:57:13.336Z"
   },
   {
    "duration": 17,
    "start_time": "2023-01-29T12:57:13.466Z"
   },
   {
    "duration": 314,
    "start_time": "2023-01-29T12:57:13.485Z"
   },
   {
    "duration": 223,
    "start_time": "2023-01-29T12:57:13.801Z"
   },
   {
    "duration": 341,
    "start_time": "2023-01-29T12:57:14.026Z"
   },
   {
    "duration": 228,
    "start_time": "2023-01-29T12:57:14.368Z"
   },
   {
    "duration": 351,
    "start_time": "2023-01-29T12:57:14.598Z"
   },
   {
    "duration": 9,
    "start_time": "2023-01-29T12:57:14.951Z"
   },
   {
    "duration": 124,
    "start_time": "2023-01-29T12:57:14.962Z"
   },
   {
    "duration": 8,
    "start_time": "2023-01-29T12:57:15.088Z"
   },
   {
    "duration": 26,
    "start_time": "2023-01-29T12:57:15.098Z"
   },
   {
    "duration": 20,
    "start_time": "2023-01-29T12:57:15.126Z"
   },
   {
    "duration": 154,
    "start_time": "2023-01-29T12:57:15.149Z"
   },
   {
    "duration": 6,
    "start_time": "2023-01-29T12:57:15.304Z"
   },
   {
    "duration": 44,
    "start_time": "2023-01-29T12:57:15.312Z"
   },
   {
    "duration": 18,
    "start_time": "2023-01-29T12:57:15.358Z"
   },
   {
    "duration": 150,
    "start_time": "2023-01-29T12:57:15.377Z"
   },
   {
    "duration": 26,
    "start_time": "2023-01-29T12:57:15.529Z"
   },
   {
    "duration": 68,
    "start_time": "2023-01-29T12:57:15.557Z"
   },
   {
    "duration": 69,
    "start_time": "2023-01-29T12:57:15.627Z"
   },
   {
    "duration": 70,
    "start_time": "2023-01-29T12:57:15.698Z"
   },
   {
    "duration": 44,
    "start_time": "2023-01-29T12:57:15.769Z"
   },
   {
    "duration": 68,
    "start_time": "2023-01-29T12:57:15.814Z"
   },
   {
    "duration": 40,
    "start_time": "2023-01-29T12:57:15.884Z"
   },
   {
    "duration": 111,
    "start_time": "2023-01-29T12:57:15.925Z"
   },
   {
    "duration": 115,
    "start_time": "2023-01-29T12:57:16.038Z"
   },
   {
    "duration": 20,
    "start_time": "2023-01-29T12:57:16.158Z"
   },
   {
    "duration": 17,
    "start_time": "2023-01-29T12:57:16.180Z"
   },
   {
    "duration": 44,
    "start_time": "2023-01-29T12:57:16.199Z"
   },
   {
    "duration": 14,
    "start_time": "2023-01-29T12:57:16.245Z"
   },
   {
    "duration": 22,
    "start_time": "2023-01-29T12:57:16.260Z"
   },
   {
    "duration": 22,
    "start_time": "2023-01-29T12:57:16.284Z"
   },
   {
    "duration": 20,
    "start_time": "2023-01-29T12:57:16.308Z"
   },
   {
    "duration": 36,
    "start_time": "2023-01-29T12:57:16.330Z"
   },
   {
    "duration": 21,
    "start_time": "2023-01-29T12:57:16.368Z"
   },
   {
    "duration": 6,
    "start_time": "2023-01-29T13:25:24.983Z"
   },
   {
    "duration": 7,
    "start_time": "2023-01-29T13:25:29.306Z"
   },
   {
    "duration": 1058,
    "start_time": "2023-01-29T13:25:55.553Z"
   },
   {
    "duration": 3,
    "start_time": "2023-01-29T13:25:56.613Z"
   },
   {
    "duration": 79,
    "start_time": "2023-01-29T13:25:56.618Z"
   },
   {
    "duration": 53,
    "start_time": "2023-01-29T13:25:56.698Z"
   },
   {
    "duration": 5,
    "start_time": "2023-01-29T13:25:56.754Z"
   },
   {
    "duration": 8,
    "start_time": "2023-01-29T13:25:56.761Z"
   },
   {
    "duration": 5,
    "start_time": "2023-01-29T13:25:56.770Z"
   },
   {
    "duration": 10,
    "start_time": "2023-01-29T13:25:56.776Z"
   },
   {
    "duration": 8,
    "start_time": "2023-01-29T13:25:56.787Z"
   },
   {
    "duration": 13,
    "start_time": "2023-01-29T13:25:56.796Z"
   },
   {
    "duration": 29,
    "start_time": "2023-01-29T13:25:56.811Z"
   },
   {
    "duration": 15,
    "start_time": "2023-01-29T13:25:56.842Z"
   },
   {
    "duration": 7,
    "start_time": "2023-01-29T13:25:56.859Z"
   },
   {
    "duration": 204,
    "start_time": "2023-01-29T13:25:56.870Z"
   },
   {
    "duration": 120,
    "start_time": "2023-01-29T13:25:57.076Z"
   },
   {
    "duration": 12,
    "start_time": "2023-01-29T13:25:57.197Z"
   },
   {
    "duration": 277,
    "start_time": "2023-01-29T13:25:57.211Z"
   },
   {
    "duration": 194,
    "start_time": "2023-01-29T13:25:57.490Z"
   },
   {
    "duration": 288,
    "start_time": "2023-01-29T13:25:57.685Z"
   },
   {
    "duration": 226,
    "start_time": "2023-01-29T13:25:57.975Z"
   },
   {
    "duration": 298,
    "start_time": "2023-01-29T13:25:58.203Z"
   },
   {
    "duration": 6,
    "start_time": "2023-01-29T13:25:58.503Z"
   },
   {
    "duration": 112,
    "start_time": "2023-01-29T13:25:58.510Z"
   },
   {
    "duration": 14,
    "start_time": "2023-01-29T13:25:58.624Z"
   },
   {
    "duration": 5,
    "start_time": "2023-01-29T13:25:58.639Z"
   },
   {
    "duration": 26,
    "start_time": "2023-01-29T13:25:58.646Z"
   },
   {
    "duration": 126,
    "start_time": "2023-01-29T13:25:58.673Z"
   },
   {
    "duration": 5,
    "start_time": "2023-01-29T13:25:58.800Z"
   },
   {
    "duration": 7,
    "start_time": "2023-01-29T13:25:58.807Z"
   },
   {
    "duration": 23,
    "start_time": "2023-01-29T13:25:58.815Z"
   },
   {
    "duration": 126,
    "start_time": "2023-01-29T13:25:58.840Z"
   },
   {
    "duration": 9,
    "start_time": "2023-01-29T13:25:58.968Z"
   },
   {
    "duration": 50,
    "start_time": "2023-01-29T13:25:58.978Z"
   },
   {
    "duration": 29,
    "start_time": "2023-01-29T13:25:59.029Z"
   },
   {
    "duration": 51,
    "start_time": "2023-01-29T13:25:59.059Z"
   },
   {
    "duration": 15,
    "start_time": "2023-01-29T13:25:59.112Z"
   },
   {
    "duration": 50,
    "start_time": "2023-01-29T13:25:59.129Z"
   },
   {
    "duration": 21,
    "start_time": "2023-01-29T13:25:59.180Z"
   },
   {
    "duration": 75,
    "start_time": "2023-01-29T13:25:59.202Z"
   },
   {
    "duration": 95,
    "start_time": "2023-01-29T13:25:59.279Z"
   },
   {
    "duration": 4,
    "start_time": "2023-01-29T13:25:59.378Z"
   },
   {
    "duration": 17,
    "start_time": "2023-01-29T13:25:59.383Z"
   },
   {
    "duration": 29,
    "start_time": "2023-01-29T13:25:59.402Z"
   },
   {
    "duration": 4,
    "start_time": "2023-01-29T13:25:59.433Z"
   },
   {
    "duration": 26,
    "start_time": "2023-01-29T13:25:59.439Z"
   },
   {
    "duration": 6,
    "start_time": "2023-01-29T13:25:59.466Z"
   },
   {
    "duration": 8,
    "start_time": "2023-01-29T13:25:59.473Z"
   },
   {
    "duration": 16,
    "start_time": "2023-01-29T13:25:59.482Z"
   },
   {
    "duration": 6,
    "start_time": "2023-01-29T13:25:59.500Z"
   },
   {
    "duration": 8,
    "start_time": "2023-01-29T13:25:59.507Z"
   },
   {
    "duration": 888,
    "start_time": "2023-01-29T13:25:59.516Z"
   },
   {
    "duration": 6,
    "start_time": "2023-01-29T13:26:09.856Z"
   },
   {
    "duration": 1100,
    "start_time": "2023-01-29T13:26:14.933Z"
   },
   {
    "duration": 3,
    "start_time": "2023-01-29T13:26:16.035Z"
   },
   {
    "duration": 120,
    "start_time": "2023-01-29T13:26:16.040Z"
   },
   {
    "duration": 70,
    "start_time": "2023-01-29T13:26:16.163Z"
   },
   {
    "duration": 8,
    "start_time": "2023-01-29T13:26:16.235Z"
   },
   {
    "duration": 65,
    "start_time": "2023-01-29T13:26:16.244Z"
   },
   {
    "duration": 58,
    "start_time": "2023-01-29T13:26:16.310Z"
   },
   {
    "duration": 39,
    "start_time": "2023-01-29T13:26:16.376Z"
   },
   {
    "duration": 45,
    "start_time": "2023-01-29T13:26:16.417Z"
   },
   {
    "duration": 39,
    "start_time": "2023-01-29T13:26:16.464Z"
   },
   {
    "duration": 20,
    "start_time": "2023-01-29T13:26:16.505Z"
   },
   {
    "duration": 73,
    "start_time": "2023-01-29T13:26:16.527Z"
   },
   {
    "duration": 6,
    "start_time": "2023-01-29T13:26:16.602Z"
   },
   {
    "duration": 186,
    "start_time": "2023-01-29T13:26:16.612Z"
   },
   {
    "duration": 117,
    "start_time": "2023-01-29T13:26:16.799Z"
   },
   {
    "duration": 22,
    "start_time": "2023-01-29T13:26:16.918Z"
   },
   {
    "duration": 292,
    "start_time": "2023-01-29T13:26:16.942Z"
   },
   {
    "duration": 191,
    "start_time": "2023-01-29T13:26:17.237Z"
   },
   {
    "duration": 390,
    "start_time": "2023-01-29T13:26:17.429Z"
   },
   {
    "duration": 209,
    "start_time": "2023-01-29T13:26:17.821Z"
   },
   {
    "duration": 307,
    "start_time": "2023-01-29T13:26:18.032Z"
   },
   {
    "duration": 7,
    "start_time": "2023-01-29T13:26:18.341Z"
   },
   {
    "duration": 160,
    "start_time": "2023-01-29T13:26:18.349Z"
   },
   {
    "duration": 11,
    "start_time": "2023-01-29T13:26:18.510Z"
   },
   {
    "duration": 7,
    "start_time": "2023-01-29T13:26:18.522Z"
   },
   {
    "duration": 31,
    "start_time": "2023-01-29T13:26:18.537Z"
   },
   {
    "duration": 197,
    "start_time": "2023-01-29T13:26:18.570Z"
   },
   {
    "duration": 6,
    "start_time": "2023-01-29T13:26:18.770Z"
   },
   {
    "duration": 23,
    "start_time": "2023-01-29T13:26:18.778Z"
   },
   {
    "duration": 12,
    "start_time": "2023-01-29T13:26:18.803Z"
   },
   {
    "duration": 127,
    "start_time": "2023-01-29T13:26:18.817Z"
   },
   {
    "duration": 60,
    "start_time": "2023-01-29T13:26:18.946Z"
   },
   {
    "duration": 62,
    "start_time": "2023-01-29T13:26:19.008Z"
   },
   {
    "duration": 74,
    "start_time": "2023-01-29T13:26:19.072Z"
   },
   {
    "duration": 66,
    "start_time": "2023-01-29T13:26:19.148Z"
   },
   {
    "duration": 61,
    "start_time": "2023-01-29T13:26:19.216Z"
   },
   {
    "duration": 68,
    "start_time": "2023-01-29T13:26:19.279Z"
   },
   {
    "duration": 24,
    "start_time": "2023-01-29T13:26:19.349Z"
   },
   {
    "duration": 90,
    "start_time": "2023-01-29T13:26:19.375Z"
   },
   {
    "duration": 96,
    "start_time": "2023-01-29T13:26:19.468Z"
   },
   {
    "duration": 11,
    "start_time": "2023-01-29T13:26:19.568Z"
   },
   {
    "duration": 33,
    "start_time": "2023-01-29T13:26:19.581Z"
   },
   {
    "duration": 62,
    "start_time": "2023-01-29T13:26:19.616Z"
   },
   {
    "duration": 4,
    "start_time": "2023-01-29T13:26:19.680Z"
   },
   {
    "duration": 15,
    "start_time": "2023-01-29T13:26:19.685Z"
   },
   {
    "duration": 22,
    "start_time": "2023-01-29T13:26:19.702Z"
   },
   {
    "duration": 35,
    "start_time": "2023-01-29T13:26:19.726Z"
   },
   {
    "duration": 24,
    "start_time": "2023-01-29T13:26:19.763Z"
   },
   {
    "duration": 5,
    "start_time": "2023-01-29T13:26:19.789Z"
   },
   {
    "duration": 9,
    "start_time": "2023-01-29T13:26:19.796Z"
   },
   {
    "duration": 27,
    "start_time": "2023-01-29T13:26:19.807Z"
   },
   {
    "duration": 1274,
    "start_time": "2023-01-29T13:27:05.705Z"
   },
   {
    "duration": 6,
    "start_time": "2023-01-29T13:27:06.982Z"
   },
   {
    "duration": 112,
    "start_time": "2023-01-29T13:27:06.990Z"
   },
   {
    "duration": 64,
    "start_time": "2023-01-29T13:27:07.104Z"
   },
   {
    "duration": 6,
    "start_time": "2023-01-29T13:27:07.171Z"
   },
   {
    "duration": 7,
    "start_time": "2023-01-29T13:27:07.179Z"
   },
   {
    "duration": 8,
    "start_time": "2023-01-29T13:27:07.187Z"
   },
   {
    "duration": 14,
    "start_time": "2023-01-29T13:27:07.197Z"
   },
   {
    "duration": 53,
    "start_time": "2023-01-29T13:27:07.213Z"
   },
   {
    "duration": 19,
    "start_time": "2023-01-29T13:27:07.268Z"
   },
   {
    "duration": 15,
    "start_time": "2023-01-29T13:27:07.289Z"
   },
   {
    "duration": 30,
    "start_time": "2023-01-29T13:27:07.306Z"
   },
   {
    "duration": 35,
    "start_time": "2023-01-29T13:27:07.338Z"
   },
   {
    "duration": 191,
    "start_time": "2023-01-29T13:27:07.377Z"
   },
   {
    "duration": 130,
    "start_time": "2023-01-29T13:27:07.570Z"
   },
   {
    "duration": 12,
    "start_time": "2023-01-29T13:27:07.702Z"
   },
   {
    "duration": 280,
    "start_time": "2023-01-29T13:27:07.716Z"
   },
   {
    "duration": 224,
    "start_time": "2023-01-29T13:27:07.998Z"
   },
   {
    "duration": 316,
    "start_time": "2023-01-29T13:27:08.223Z"
   },
   {
    "duration": 227,
    "start_time": "2023-01-29T13:27:08.540Z"
   },
   {
    "duration": 276,
    "start_time": "2023-01-29T13:27:08.769Z"
   },
   {
    "duration": 7,
    "start_time": "2023-01-29T13:27:09.047Z"
   },
   {
    "duration": 135,
    "start_time": "2023-01-29T13:27:09.056Z"
   },
   {
    "duration": 8,
    "start_time": "2023-01-29T13:27:09.192Z"
   },
   {
    "duration": 6,
    "start_time": "2023-01-29T13:27:09.202Z"
   },
   {
    "duration": 27,
    "start_time": "2023-01-29T13:27:09.210Z"
   },
   {
    "duration": 140,
    "start_time": "2023-01-29T13:27:09.239Z"
   },
   {
    "duration": 4,
    "start_time": "2023-01-29T13:27:09.381Z"
   },
   {
    "duration": 7,
    "start_time": "2023-01-29T13:27:09.387Z"
   },
   {
    "duration": 6,
    "start_time": "2023-01-29T13:27:09.396Z"
   },
   {
    "duration": 139,
    "start_time": "2023-01-29T13:27:09.403Z"
   },
   {
    "duration": 19,
    "start_time": "2023-01-29T13:27:09.544Z"
   },
   {
    "duration": 45,
    "start_time": "2023-01-29T13:27:09.565Z"
   },
   {
    "duration": 19,
    "start_time": "2023-01-29T13:27:09.612Z"
   },
   {
    "duration": 53,
    "start_time": "2023-01-29T13:27:09.633Z"
   },
   {
    "duration": 16,
    "start_time": "2023-01-29T13:27:09.688Z"
   },
   {
    "duration": 62,
    "start_time": "2023-01-29T13:27:09.706Z"
   },
   {
    "duration": 20,
    "start_time": "2023-01-29T13:27:09.770Z"
   },
   {
    "duration": 89,
    "start_time": "2023-01-29T13:27:09.792Z"
   },
   {
    "duration": 89,
    "start_time": "2023-01-29T13:27:09.882Z"
   },
   {
    "duration": 6,
    "start_time": "2023-01-29T13:27:09.975Z"
   },
   {
    "duration": 8,
    "start_time": "2023-01-29T13:27:09.982Z"
   },
   {
    "duration": 45,
    "start_time": "2023-01-29T13:27:09.992Z"
   },
   {
    "duration": 6,
    "start_time": "2023-01-29T13:27:10.039Z"
   },
   {
    "duration": 30,
    "start_time": "2023-01-29T13:27:10.046Z"
   },
   {
    "duration": 8,
    "start_time": "2023-01-29T13:27:10.078Z"
   },
   {
    "duration": 19,
    "start_time": "2023-01-29T13:27:10.087Z"
   },
   {
    "duration": 8,
    "start_time": "2023-01-29T13:27:10.107Z"
   },
   {
    "duration": 6,
    "start_time": "2023-01-29T13:27:10.117Z"
   },
   {
    "duration": 7,
    "start_time": "2023-01-29T13:27:10.125Z"
   },
   {
    "duration": 31,
    "start_time": "2023-01-29T13:27:10.134Z"
   },
   {
    "duration": 99,
    "start_time": "2023-01-29T13:27:10.167Z"
   },
   {
    "duration": 0,
    "start_time": "2023-01-29T13:27:10.268Z"
   },
   {
    "duration": 21,
    "start_time": "2023-01-29T13:27:24.464Z"
   },
   {
    "duration": 5,
    "start_time": "2023-01-29T13:27:25.721Z"
   },
   {
    "duration": 1046,
    "start_time": "2023-01-29T13:30:14.275Z"
   },
   {
    "duration": 3,
    "start_time": "2023-01-29T13:30:15.323Z"
   },
   {
    "duration": 143,
    "start_time": "2023-01-29T13:30:15.327Z"
   },
   {
    "duration": 59,
    "start_time": "2023-01-29T13:30:15.472Z"
   },
   {
    "duration": 6,
    "start_time": "2023-01-29T13:30:15.533Z"
   },
   {
    "duration": 28,
    "start_time": "2023-01-29T13:30:15.540Z"
   },
   {
    "duration": 8,
    "start_time": "2023-01-29T13:30:15.570Z"
   },
   {
    "duration": 12,
    "start_time": "2023-01-29T13:30:15.580Z"
   },
   {
    "duration": 10,
    "start_time": "2023-01-29T13:30:15.594Z"
   },
   {
    "duration": 20,
    "start_time": "2023-01-29T13:30:15.606Z"
   },
   {
    "duration": 26,
    "start_time": "2023-01-29T13:30:15.628Z"
   },
   {
    "duration": 19,
    "start_time": "2023-01-29T13:30:15.656Z"
   },
   {
    "duration": 16,
    "start_time": "2023-01-29T13:30:15.677Z"
   },
   {
    "duration": 178,
    "start_time": "2023-01-29T13:30:15.696Z"
   },
   {
    "duration": 123,
    "start_time": "2023-01-29T13:30:15.875Z"
   },
   {
    "duration": 12,
    "start_time": "2023-01-29T13:30:16.000Z"
   },
   {
    "duration": 294,
    "start_time": "2023-01-29T13:30:16.014Z"
   },
   {
    "duration": 195,
    "start_time": "2023-01-29T13:30:16.309Z"
   },
   {
    "duration": 320,
    "start_time": "2023-01-29T13:30:16.506Z"
   },
   {
    "duration": 233,
    "start_time": "2023-01-29T13:30:16.827Z"
   },
   {
    "duration": 296,
    "start_time": "2023-01-29T13:30:17.062Z"
   },
   {
    "duration": 6,
    "start_time": "2023-01-29T13:30:17.360Z"
   },
   {
    "duration": 153,
    "start_time": "2023-01-29T13:30:17.367Z"
   },
   {
    "duration": 17,
    "start_time": "2023-01-29T13:30:17.522Z"
   },
   {
    "duration": 29,
    "start_time": "2023-01-29T13:30:17.540Z"
   },
   {
    "duration": 50,
    "start_time": "2023-01-29T13:30:17.571Z"
   },
   {
    "duration": 144,
    "start_time": "2023-01-29T13:30:17.623Z"
   },
   {
    "duration": 5,
    "start_time": "2023-01-29T13:30:17.768Z"
   },
   {
    "duration": 27,
    "start_time": "2023-01-29T13:30:17.774Z"
   },
   {
    "duration": 26,
    "start_time": "2023-01-29T13:30:17.802Z"
   },
   {
    "duration": 146,
    "start_time": "2023-01-29T13:30:17.829Z"
   },
   {
    "duration": 27,
    "start_time": "2023-01-29T13:30:17.976Z"
   },
   {
    "duration": 68,
    "start_time": "2023-01-29T13:30:18.004Z"
   },
   {
    "duration": 39,
    "start_time": "2023-01-29T13:30:18.073Z"
   },
   {
    "duration": 65,
    "start_time": "2023-01-29T13:30:18.114Z"
   },
   {
    "duration": 35,
    "start_time": "2023-01-29T13:30:18.181Z"
   },
   {
    "duration": 93,
    "start_time": "2023-01-29T13:30:18.217Z"
   },
   {
    "duration": 62,
    "start_time": "2023-01-29T13:30:18.312Z"
   },
   {
    "duration": 103,
    "start_time": "2023-01-29T13:30:18.375Z"
   },
   {
    "duration": 83,
    "start_time": "2023-01-29T13:30:18.480Z"
   },
   {
    "duration": 21,
    "start_time": "2023-01-29T13:30:18.566Z"
   },
   {
    "duration": 36,
    "start_time": "2023-01-29T13:30:18.589Z"
   },
   {
    "duration": 85,
    "start_time": "2023-01-29T13:30:18.626Z"
   },
   {
    "duration": 22,
    "start_time": "2023-01-29T13:30:18.712Z"
   },
   {
    "duration": 55,
    "start_time": "2023-01-29T13:30:18.736Z"
   },
   {
    "duration": 25,
    "start_time": "2023-01-29T13:30:18.792Z"
   },
   {
    "duration": 61,
    "start_time": "2023-01-29T13:30:18.818Z"
   },
   {
    "duration": 41,
    "start_time": "2023-01-29T13:30:18.881Z"
   },
   {
    "duration": 51,
    "start_time": "2023-01-29T13:30:18.924Z"
   },
   {
    "duration": 88,
    "start_time": "2023-01-29T13:30:18.977Z"
   },
   {
    "duration": 38,
    "start_time": "2023-01-29T13:30:19.066Z"
   },
   {
    "duration": 94,
    "start_time": "2023-01-29T13:30:19.105Z"
   },
   {
    "duration": 30,
    "start_time": "2023-01-29T13:30:19.201Z"
   },
   {
    "duration": 1323,
    "start_time": "2023-01-29T13:35:09.488Z"
   },
   {
    "duration": 2,
    "start_time": "2023-01-29T13:35:10.813Z"
   },
   {
    "duration": 72,
    "start_time": "2023-01-29T13:35:10.817Z"
   },
   {
    "duration": 49,
    "start_time": "2023-01-29T13:35:10.891Z"
   },
   {
    "duration": 8,
    "start_time": "2023-01-29T13:35:10.941Z"
   },
   {
    "duration": 12,
    "start_time": "2023-01-29T13:35:10.951Z"
   },
   {
    "duration": 6,
    "start_time": "2023-01-29T13:35:10.965Z"
   },
   {
    "duration": 10,
    "start_time": "2023-01-29T13:35:10.973Z"
   },
   {
    "duration": 16,
    "start_time": "2023-01-29T13:35:10.984Z"
   },
   {
    "duration": 15,
    "start_time": "2023-01-29T13:35:11.003Z"
   },
   {
    "duration": 11,
    "start_time": "2023-01-29T13:35:11.019Z"
   },
   {
    "duration": 26,
    "start_time": "2023-01-29T13:35:11.037Z"
   },
   {
    "duration": 7,
    "start_time": "2023-01-29T13:35:11.065Z"
   },
   {
    "duration": 175,
    "start_time": "2023-01-29T13:35:11.073Z"
   },
   {
    "duration": 115,
    "start_time": "2023-01-29T13:35:11.250Z"
   },
   {
    "duration": 11,
    "start_time": "2023-01-29T13:35:11.366Z"
   },
   {
    "duration": 269,
    "start_time": "2023-01-29T13:35:11.378Z"
   },
   {
    "duration": 186,
    "start_time": "2023-01-29T13:35:11.649Z"
   },
   {
    "duration": 292,
    "start_time": "2023-01-29T13:35:11.836Z"
   },
   {
    "duration": 203,
    "start_time": "2023-01-29T13:35:12.129Z"
   },
   {
    "duration": 326,
    "start_time": "2023-01-29T13:35:12.336Z"
   },
   {
    "duration": 8,
    "start_time": "2023-01-29T13:35:12.664Z"
   },
   {
    "duration": 132,
    "start_time": "2023-01-29T13:35:12.674Z"
   },
   {
    "duration": 6,
    "start_time": "2023-01-29T13:35:12.808Z"
   },
   {
    "duration": 19,
    "start_time": "2023-01-29T13:35:12.815Z"
   },
   {
    "duration": 19,
    "start_time": "2023-01-29T13:35:12.842Z"
   },
   {
    "duration": 122,
    "start_time": "2023-01-29T13:35:12.862Z"
   },
   {
    "duration": 5,
    "start_time": "2023-01-29T13:35:12.988Z"
   },
   {
    "duration": 8,
    "start_time": "2023-01-29T13:35:12.994Z"
   },
   {
    "duration": 10,
    "start_time": "2023-01-29T13:35:13.004Z"
   },
   {
    "duration": 122,
    "start_time": "2023-01-29T13:35:13.015Z"
   },
   {
    "duration": 23,
    "start_time": "2023-01-29T13:35:13.139Z"
   },
   {
    "duration": 44,
    "start_time": "2023-01-29T13:35:13.164Z"
   },
   {
    "duration": 18,
    "start_time": "2023-01-29T13:35:13.209Z"
   },
   {
    "duration": 46,
    "start_time": "2023-01-29T13:35:13.229Z"
   },
   {
    "duration": 17,
    "start_time": "2023-01-29T13:35:13.276Z"
   },
   {
    "duration": 50,
    "start_time": "2023-01-29T13:35:13.295Z"
   },
   {
    "duration": 36,
    "start_time": "2023-01-29T13:35:13.349Z"
   },
   {
    "duration": 73,
    "start_time": "2023-01-29T13:35:13.387Z"
   },
   {
    "duration": 99,
    "start_time": "2023-01-29T13:35:13.461Z"
   },
   {
    "duration": 4,
    "start_time": "2023-01-29T13:35:13.561Z"
   },
   {
    "duration": 14,
    "start_time": "2023-01-29T13:35:13.566Z"
   },
   {
    "duration": 30,
    "start_time": "2023-01-29T13:35:13.582Z"
   },
   {
    "duration": 4,
    "start_time": "2023-01-29T13:35:13.614Z"
   },
   {
    "duration": 9,
    "start_time": "2023-01-29T13:35:13.620Z"
   },
   {
    "duration": 11,
    "start_time": "2023-01-29T13:35:13.630Z"
   },
   {
    "duration": 17,
    "start_time": "2023-01-29T13:35:13.643Z"
   },
   {
    "duration": 6,
    "start_time": "2023-01-29T13:35:13.662Z"
   },
   {
    "duration": 30,
    "start_time": "2023-01-29T13:35:13.669Z"
   },
   {
    "duration": 32,
    "start_time": "2023-01-29T13:35:13.700Z"
   },
   {
    "duration": 36,
    "start_time": "2023-01-29T13:35:13.734Z"
   },
   {
    "duration": 53,
    "start_time": "2023-01-29T13:35:13.772Z"
   },
   {
    "duration": 40,
    "start_time": "2023-01-29T13:35:13.826Z"
   },
   {
    "duration": 1422,
    "start_time": "2023-01-29T16:53:55.716Z"
   },
   {
    "duration": 3,
    "start_time": "2023-01-29T16:53:57.140Z"
   },
   {
    "duration": 265,
    "start_time": "2023-01-29T16:53:57.144Z"
   },
   {
    "duration": 54,
    "start_time": "2023-01-29T16:53:57.411Z"
   },
   {
    "duration": 5,
    "start_time": "2023-01-29T16:53:57.467Z"
   },
   {
    "duration": 17,
    "start_time": "2023-01-29T16:53:57.474Z"
   },
   {
    "duration": 21,
    "start_time": "2023-01-29T16:53:57.492Z"
   },
   {
    "duration": 27,
    "start_time": "2023-01-29T16:53:57.515Z"
   },
   {
    "duration": 20,
    "start_time": "2023-01-29T16:53:57.543Z"
   },
   {
    "duration": 24,
    "start_time": "2023-01-29T16:53:57.566Z"
   },
   {
    "duration": 14,
    "start_time": "2023-01-29T16:53:57.592Z"
   },
   {
    "duration": 36,
    "start_time": "2023-01-29T16:53:57.607Z"
   },
   {
    "duration": 17,
    "start_time": "2023-01-29T16:53:57.645Z"
   },
   {
    "duration": 215,
    "start_time": "2023-01-29T16:53:57.664Z"
   },
   {
    "duration": 128,
    "start_time": "2023-01-29T16:53:57.881Z"
   },
   {
    "duration": 14,
    "start_time": "2023-01-29T16:53:58.011Z"
   },
   {
    "duration": 329,
    "start_time": "2023-01-29T16:53:58.037Z"
   },
   {
    "duration": 229,
    "start_time": "2023-01-29T16:53:58.368Z"
   },
   {
    "duration": 387,
    "start_time": "2023-01-29T16:53:58.599Z"
   },
   {
    "duration": 228,
    "start_time": "2023-01-29T16:53:58.988Z"
   },
   {
    "duration": 342,
    "start_time": "2023-01-29T16:53:59.218Z"
   },
   {
    "duration": 7,
    "start_time": "2023-01-29T16:53:59.562Z"
   },
   {
    "duration": 146,
    "start_time": "2023-01-29T16:53:59.571Z"
   },
   {
    "duration": 20,
    "start_time": "2023-01-29T16:53:59.720Z"
   },
   {
    "duration": 9,
    "start_time": "2023-01-29T16:53:59.742Z"
   },
   {
    "duration": 40,
    "start_time": "2023-01-29T16:53:59.753Z"
   },
   {
    "duration": 162,
    "start_time": "2023-01-29T16:53:59.795Z"
   },
   {
    "duration": 5,
    "start_time": "2023-01-29T16:53:59.962Z"
   },
   {
    "duration": 35,
    "start_time": "2023-01-29T16:53:59.969Z"
   },
   {
    "duration": 33,
    "start_time": "2023-01-29T16:54:00.006Z"
   },
   {
    "duration": 155,
    "start_time": "2023-01-29T16:54:00.041Z"
   },
   {
    "duration": 36,
    "start_time": "2023-01-29T16:54:00.198Z"
   },
   {
    "duration": 76,
    "start_time": "2023-01-29T16:54:00.236Z"
   },
   {
    "duration": 67,
    "start_time": "2023-01-29T16:54:00.314Z"
   },
   {
    "duration": 97,
    "start_time": "2023-01-29T16:54:00.383Z"
   },
   {
    "duration": 136,
    "start_time": "2023-01-29T16:54:00.482Z"
   },
   {
    "duration": 153,
    "start_time": "2023-01-29T16:54:00.620Z"
   },
   {
    "duration": 73,
    "start_time": "2023-01-29T16:54:00.775Z"
   },
   {
    "duration": 126,
    "start_time": "2023-01-29T16:54:00.850Z"
   },
   {
    "duration": 124,
    "start_time": "2023-01-29T16:54:00.977Z"
   },
   {
    "duration": 5,
    "start_time": "2023-01-29T16:54:01.103Z"
   },
   {
    "duration": 27,
    "start_time": "2023-01-29T16:54:01.109Z"
   },
   {
    "duration": 57,
    "start_time": "2023-01-29T16:54:01.138Z"
   },
   {
    "duration": 24,
    "start_time": "2023-01-29T16:54:01.197Z"
   },
   {
    "duration": 78,
    "start_time": "2023-01-29T16:54:01.223Z"
   },
   {
    "duration": 48,
    "start_time": "2023-01-29T16:54:01.303Z"
   },
   {
    "duration": 56,
    "start_time": "2023-01-29T16:54:01.353Z"
   },
   {
    "duration": 60,
    "start_time": "2023-01-29T16:54:01.411Z"
   },
   {
    "duration": 26,
    "start_time": "2023-01-29T16:54:01.473Z"
   },
   {
    "duration": 39,
    "start_time": "2023-01-29T16:54:01.501Z"
   },
   {
    "duration": 19,
    "start_time": "2023-01-29T16:54:01.542Z"
   },
   {
    "duration": 52,
    "start_time": "2023-01-29T16:54:01.563Z"
   },
   {
    "duration": 33,
    "start_time": "2023-01-29T16:54:01.616Z"
   },
   {
    "duration": 108,
    "start_time": "2023-01-29T16:56:43.645Z"
   },
   {
    "duration": 1242,
    "start_time": "2023-01-29T16:57:03.529Z"
   },
   {
    "duration": 4,
    "start_time": "2023-01-29T16:57:04.773Z"
   },
   {
    "duration": 95,
    "start_time": "2023-01-29T16:57:04.779Z"
   },
   {
    "duration": 67,
    "start_time": "2023-01-29T16:57:04.876Z"
   },
   {
    "duration": 6,
    "start_time": "2023-01-29T16:57:04.945Z"
   },
   {
    "duration": 15,
    "start_time": "2023-01-29T16:57:04.953Z"
   },
   {
    "duration": 14,
    "start_time": "2023-01-29T16:57:04.970Z"
   },
   {
    "duration": 20,
    "start_time": "2023-01-29T16:57:04.986Z"
   },
   {
    "duration": 10,
    "start_time": "2023-01-29T16:57:05.008Z"
   },
   {
    "duration": 33,
    "start_time": "2023-01-29T16:57:05.020Z"
   },
   {
    "duration": 19,
    "start_time": "2023-01-29T16:57:05.055Z"
   },
   {
    "duration": 28,
    "start_time": "2023-01-29T16:57:05.076Z"
   },
   {
    "duration": 16,
    "start_time": "2023-01-29T16:57:05.106Z"
   },
   {
    "duration": 199,
    "start_time": "2023-01-29T16:57:05.125Z"
   },
   {
    "duration": 137,
    "start_time": "2023-01-29T16:57:05.326Z"
   },
   {
    "duration": 13,
    "start_time": "2023-01-29T16:57:05.465Z"
   },
   {
    "duration": 313,
    "start_time": "2023-01-29T16:57:05.480Z"
   },
   {
    "duration": 226,
    "start_time": "2023-01-29T16:57:05.794Z"
   },
   {
    "duration": 342,
    "start_time": "2023-01-29T16:57:06.022Z"
   },
   {
    "duration": 242,
    "start_time": "2023-01-29T16:57:06.366Z"
   },
   {
    "duration": 370,
    "start_time": "2023-01-29T16:57:06.610Z"
   },
   {
    "duration": 9,
    "start_time": "2023-01-29T16:57:06.982Z"
   },
   {
    "duration": 145,
    "start_time": "2023-01-29T16:57:06.993Z"
   },
   {
    "duration": 9,
    "start_time": "2023-01-29T16:57:07.140Z"
   },
   {
    "duration": 15,
    "start_time": "2023-01-29T16:57:07.151Z"
   },
   {
    "duration": 19,
    "start_time": "2023-01-29T16:57:07.168Z"
   },
   {
    "duration": 171,
    "start_time": "2023-01-29T16:57:07.190Z"
   },
   {
    "duration": 6,
    "start_time": "2023-01-29T16:57:07.363Z"
   },
   {
    "duration": 32,
    "start_time": "2023-01-29T16:57:07.371Z"
   },
   {
    "duration": 17,
    "start_time": "2023-01-29T16:57:07.405Z"
   },
   {
    "duration": 151,
    "start_time": "2023-01-29T16:57:07.424Z"
   },
   {
    "duration": 33,
    "start_time": "2023-01-29T16:57:07.577Z"
   },
   {
    "duration": 73,
    "start_time": "2023-01-29T16:57:07.612Z"
   },
   {
    "duration": 37,
    "start_time": "2023-01-29T16:57:07.688Z"
   },
   {
    "duration": 70,
    "start_time": "2023-01-29T16:57:07.727Z"
   },
   {
    "duration": 66,
    "start_time": "2023-01-29T16:57:07.798Z"
   },
   {
    "duration": 87,
    "start_time": "2023-01-29T16:57:07.867Z"
   },
   {
    "duration": 48,
    "start_time": "2023-01-29T16:57:07.956Z"
   },
   {
    "duration": 114,
    "start_time": "2023-01-29T16:57:08.005Z"
   },
   {
    "duration": 126,
    "start_time": "2023-01-29T16:57:08.120Z"
   },
   {
    "duration": 6,
    "start_time": "2023-01-29T16:57:08.250Z"
   },
   {
    "duration": 13,
    "start_time": "2023-01-29T16:57:08.258Z"
   },
   {
    "duration": 31,
    "start_time": "2023-01-29T16:57:08.273Z"
   },
   {
    "duration": 5,
    "start_time": "2023-01-29T16:57:08.306Z"
   },
   {
    "duration": 30,
    "start_time": "2023-01-29T16:57:08.313Z"
   },
   {
    "duration": 12,
    "start_time": "2023-01-29T16:57:08.345Z"
   },
   {
    "duration": 15,
    "start_time": "2023-01-29T16:57:08.359Z"
   },
   {
    "duration": 28,
    "start_time": "2023-01-29T16:57:08.376Z"
   },
   {
    "duration": 33,
    "start_time": "2023-01-29T16:57:08.406Z"
   },
   {
    "duration": 29,
    "start_time": "2023-01-29T16:57:08.441Z"
   },
   {
    "duration": 26,
    "start_time": "2023-01-29T16:57:08.472Z"
   },
   {
    "duration": 56,
    "start_time": "2023-01-29T16:57:08.501Z"
   },
   {
    "duration": 6,
    "start_time": "2023-01-29T16:57:08.560Z"
   },
   {
    "duration": 142,
    "start_time": "2023-01-29T16:57:08.567Z"
   },
   {
    "duration": 12,
    "start_time": "2023-01-29T16:57:18.575Z"
   },
   {
    "duration": 12,
    "start_time": "2023-01-29T16:57:58.679Z"
   },
   {
    "duration": 1216,
    "start_time": "2023-01-29T17:01:33.025Z"
   },
   {
    "duration": 3,
    "start_time": "2023-01-29T17:01:34.242Z"
   },
   {
    "duration": 85,
    "start_time": "2023-01-29T17:01:34.247Z"
   },
   {
    "duration": 59,
    "start_time": "2023-01-29T17:01:34.335Z"
   },
   {
    "duration": 6,
    "start_time": "2023-01-29T17:01:34.395Z"
   },
   {
    "duration": 39,
    "start_time": "2023-01-29T17:01:34.402Z"
   },
   {
    "duration": 14,
    "start_time": "2023-01-29T17:01:34.443Z"
   },
   {
    "duration": 10,
    "start_time": "2023-01-29T17:01:34.459Z"
   },
   {
    "duration": 6,
    "start_time": "2023-01-29T17:01:34.470Z"
   },
   {
    "duration": 15,
    "start_time": "2023-01-29T17:01:34.478Z"
   },
   {
    "duration": 13,
    "start_time": "2023-01-29T17:01:34.494Z"
   },
   {
    "duration": 31,
    "start_time": "2023-01-29T17:01:34.508Z"
   },
   {
    "duration": 13,
    "start_time": "2023-01-29T17:01:34.541Z"
   },
   {
    "duration": 183,
    "start_time": "2023-01-29T17:01:34.556Z"
   },
   {
    "duration": 128,
    "start_time": "2023-01-29T17:01:34.740Z"
   },
   {
    "duration": 12,
    "start_time": "2023-01-29T17:01:34.870Z"
   },
   {
    "duration": 298,
    "start_time": "2023-01-29T17:01:34.883Z"
   },
   {
    "duration": 202,
    "start_time": "2023-01-29T17:01:35.183Z"
   },
   {
    "duration": 336,
    "start_time": "2023-01-29T17:01:35.387Z"
   },
   {
    "duration": 218,
    "start_time": "2023-01-29T17:01:35.724Z"
   },
   {
    "duration": 310,
    "start_time": "2023-01-29T17:01:35.944Z"
   },
   {
    "duration": 7,
    "start_time": "2023-01-29T17:01:36.256Z"
   },
   {
    "duration": 139,
    "start_time": "2023-01-29T17:01:36.265Z"
   },
   {
    "duration": 7,
    "start_time": "2023-01-29T17:01:36.407Z"
   },
   {
    "duration": 5,
    "start_time": "2023-01-29T17:01:36.416Z"
   },
   {
    "duration": 24,
    "start_time": "2023-01-29T17:01:36.423Z"
   },
   {
    "duration": 148,
    "start_time": "2023-01-29T17:01:36.449Z"
   },
   {
    "duration": 4,
    "start_time": "2023-01-29T17:01:36.601Z"
   },
   {
    "duration": 8,
    "start_time": "2023-01-29T17:01:36.607Z"
   },
   {
    "duration": 23,
    "start_time": "2023-01-29T17:01:36.616Z"
   },
   {
    "duration": 120,
    "start_time": "2023-01-29T17:01:36.641Z"
   },
   {
    "duration": 6,
    "start_time": "2023-01-29T17:01:36.763Z"
   },
   {
    "duration": 46,
    "start_time": "2023-01-29T17:01:36.771Z"
   },
   {
    "duration": 32,
    "start_time": "2023-01-29T17:01:36.819Z"
   },
   {
    "duration": 52,
    "start_time": "2023-01-29T17:01:36.853Z"
   },
   {
    "duration": 16,
    "start_time": "2023-01-29T17:01:36.906Z"
   },
   {
    "duration": 59,
    "start_time": "2023-01-29T17:01:36.924Z"
   },
   {
    "duration": 21,
    "start_time": "2023-01-29T17:01:36.985Z"
   },
   {
    "duration": 84,
    "start_time": "2023-01-29T17:01:37.008Z"
   },
   {
    "duration": 90,
    "start_time": "2023-01-29T17:01:37.094Z"
   },
   {
    "duration": 5,
    "start_time": "2023-01-29T17:01:37.185Z"
   },
   {
    "duration": 6,
    "start_time": "2023-01-29T17:01:37.192Z"
   },
   {
    "duration": 40,
    "start_time": "2023-01-29T17:01:37.200Z"
   },
   {
    "duration": 4,
    "start_time": "2023-01-29T17:01:37.241Z"
   },
   {
    "duration": 10,
    "start_time": "2023-01-29T17:01:37.247Z"
   },
   {
    "duration": 5,
    "start_time": "2023-01-29T17:01:37.259Z"
   },
   {
    "duration": 6,
    "start_time": "2023-01-29T17:01:37.266Z"
   },
   {
    "duration": 9,
    "start_time": "2023-01-29T17:01:37.274Z"
   },
   {
    "duration": 8,
    "start_time": "2023-01-29T17:01:37.284Z"
   },
   {
    "duration": 9,
    "start_time": "2023-01-29T17:01:37.294Z"
   },
   {
    "duration": 5,
    "start_time": "2023-01-29T17:01:37.338Z"
   },
   {
    "duration": 30,
    "start_time": "2023-01-29T17:01:37.345Z"
   },
   {
    "duration": 5,
    "start_time": "2023-01-29T17:01:37.377Z"
   },
   {
    "duration": 15,
    "start_time": "2023-01-29T17:01:37.383Z"
   },
   {
    "duration": 16,
    "start_time": "2023-01-29T17:01:37.400Z"
   },
   {
    "duration": 1177,
    "start_time": "2023-01-29T18:25:09.496Z"
   },
   {
    "duration": 2,
    "start_time": "2023-01-29T18:25:10.675Z"
   },
   {
    "duration": 99,
    "start_time": "2023-01-29T18:25:10.679Z"
   },
   {
    "duration": 55,
    "start_time": "2023-01-29T18:25:10.780Z"
   },
   {
    "duration": 6,
    "start_time": "2023-01-29T18:25:10.836Z"
   },
   {
    "duration": 13,
    "start_time": "2023-01-29T18:25:10.843Z"
   },
   {
    "duration": 16,
    "start_time": "2023-01-29T18:25:10.858Z"
   },
   {
    "duration": 19,
    "start_time": "2023-01-29T18:25:10.876Z"
   },
   {
    "duration": 16,
    "start_time": "2023-01-29T18:25:10.897Z"
   },
   {
    "duration": 32,
    "start_time": "2023-01-29T18:25:10.917Z"
   },
   {
    "duration": 14,
    "start_time": "2023-01-29T18:25:10.951Z"
   },
   {
    "duration": 23,
    "start_time": "2023-01-29T18:25:10.967Z"
   },
   {
    "duration": 17,
    "start_time": "2023-01-29T18:25:10.992Z"
   },
   {
    "duration": 190,
    "start_time": "2023-01-29T18:25:11.011Z"
   },
   {
    "duration": 134,
    "start_time": "2023-01-29T18:25:11.203Z"
   },
   {
    "duration": 6,
    "start_time": "2023-01-29T18:25:11.339Z"
   },
   {
    "duration": 382,
    "start_time": "2023-01-29T18:25:11.347Z"
   },
   {
    "duration": 210,
    "start_time": "2023-01-29T18:25:11.730Z"
   },
   {
    "duration": 319,
    "start_time": "2023-01-29T18:25:11.942Z"
   },
   {
    "duration": 263,
    "start_time": "2023-01-29T18:25:12.263Z"
   },
   {
    "duration": 338,
    "start_time": "2023-01-29T18:25:12.528Z"
   },
   {
    "duration": 7,
    "start_time": "2023-01-29T18:25:12.868Z"
   },
   {
    "duration": 135,
    "start_time": "2023-01-29T18:25:12.876Z"
   },
   {
    "duration": 8,
    "start_time": "2023-01-29T18:25:13.012Z"
   },
   {
    "duration": 19,
    "start_time": "2023-01-29T18:25:13.022Z"
   },
   {
    "duration": 19,
    "start_time": "2023-01-29T18:25:13.042Z"
   },
   {
    "duration": 140,
    "start_time": "2023-01-29T18:25:13.063Z"
   },
   {
    "duration": 5,
    "start_time": "2023-01-29T18:25:13.207Z"
   },
   {
    "duration": 18,
    "start_time": "2023-01-29T18:25:13.213Z"
   },
   {
    "duration": 28,
    "start_time": "2023-01-29T18:25:13.233Z"
   },
   {
    "duration": 135,
    "start_time": "2023-01-29T18:25:13.263Z"
   },
   {
    "duration": 21,
    "start_time": "2023-01-29T18:25:13.400Z"
   },
   {
    "duration": 70,
    "start_time": "2023-01-29T18:25:13.422Z"
   },
   {
    "duration": 28,
    "start_time": "2023-01-29T18:25:13.494Z"
   },
   {
    "duration": 66,
    "start_time": "2023-01-29T18:25:13.524Z"
   },
   {
    "duration": 21,
    "start_time": "2023-01-29T18:25:13.592Z"
   },
   {
    "duration": 63,
    "start_time": "2023-01-29T18:25:13.615Z"
   },
   {
    "duration": 28,
    "start_time": "2023-01-29T18:25:13.680Z"
   },
   {
    "duration": 86,
    "start_time": "2023-01-29T18:25:13.710Z"
   },
   {
    "duration": 87,
    "start_time": "2023-01-29T18:25:13.798Z"
   },
   {
    "duration": 5,
    "start_time": "2023-01-29T18:25:13.887Z"
   },
   {
    "duration": 12,
    "start_time": "2023-01-29T18:25:13.894Z"
   },
   {
    "duration": 40,
    "start_time": "2023-01-29T18:25:13.908Z"
   },
   {
    "duration": 4,
    "start_time": "2023-01-29T18:25:13.950Z"
   },
   {
    "duration": 16,
    "start_time": "2023-01-29T18:25:13.956Z"
   },
   {
    "duration": 11,
    "start_time": "2023-01-29T18:25:13.974Z"
   },
   {
    "duration": 11,
    "start_time": "2023-01-29T18:25:13.987Z"
   },
   {
    "duration": 15,
    "start_time": "2023-01-29T18:25:14.000Z"
   },
   {
    "duration": 16,
    "start_time": "2023-01-29T18:25:14.016Z"
   },
   {
    "duration": 13,
    "start_time": "2023-01-29T18:25:14.034Z"
   },
   {
    "duration": 8,
    "start_time": "2023-01-29T18:25:14.049Z"
   },
   {
    "duration": 36,
    "start_time": "2023-01-29T18:25:14.059Z"
   },
   {
    "duration": 4,
    "start_time": "2023-01-29T18:25:14.097Z"
   },
   {
    "duration": 13,
    "start_time": "2023-01-29T18:25:14.103Z"
   },
   {
    "duration": 9,
    "start_time": "2023-01-29T18:25:14.117Z"
   },
   {
    "duration": 1243,
    "start_time": "2023-01-29T18:40:02.926Z"
   },
   {
    "duration": 3,
    "start_time": "2023-01-29T18:40:04.171Z"
   },
   {
    "duration": 92,
    "start_time": "2023-01-29T18:40:04.176Z"
   },
   {
    "duration": 69,
    "start_time": "2023-01-29T18:40:04.270Z"
   },
   {
    "duration": 20,
    "start_time": "2023-01-29T18:40:04.340Z"
   },
   {
    "duration": 27,
    "start_time": "2023-01-29T18:40:04.363Z"
   },
   {
    "duration": 22,
    "start_time": "2023-01-29T18:40:04.392Z"
   },
   {
    "duration": 38,
    "start_time": "2023-01-29T18:40:04.416Z"
   },
   {
    "duration": 21,
    "start_time": "2023-01-29T18:40:04.456Z"
   },
   {
    "duration": 44,
    "start_time": "2023-01-29T18:40:04.480Z"
   },
   {
    "duration": 13,
    "start_time": "2023-01-29T18:40:04.526Z"
   },
   {
    "duration": 50,
    "start_time": "2023-01-29T18:40:04.541Z"
   },
   {
    "duration": 15,
    "start_time": "2023-01-29T18:40:04.593Z"
   },
   {
    "duration": 212,
    "start_time": "2023-01-29T18:40:04.610Z"
   },
   {
    "duration": 145,
    "start_time": "2023-01-29T18:40:04.824Z"
   },
   {
    "duration": 8,
    "start_time": "2023-01-29T18:40:04.971Z"
   },
   {
    "duration": 303,
    "start_time": "2023-01-29T18:40:04.981Z"
   },
   {
    "duration": 237,
    "start_time": "2023-01-29T18:40:05.286Z"
   },
   {
    "duration": 343,
    "start_time": "2023-01-29T18:40:05.524Z"
   },
   {
    "duration": 242,
    "start_time": "2023-01-29T18:40:05.869Z"
   },
   {
    "duration": 364,
    "start_time": "2023-01-29T18:40:06.113Z"
   },
   {
    "duration": 7,
    "start_time": "2023-01-29T18:40:06.479Z"
   },
   {
    "duration": 135,
    "start_time": "2023-01-29T18:40:06.488Z"
   },
   {
    "duration": 15,
    "start_time": "2023-01-29T18:40:06.625Z"
   },
   {
    "duration": 22,
    "start_time": "2023-01-29T18:40:06.642Z"
   },
   {
    "duration": 21,
    "start_time": "2023-01-29T18:40:06.665Z"
   },
   {
    "duration": 154,
    "start_time": "2023-01-29T18:40:06.688Z"
   },
   {
    "duration": 5,
    "start_time": "2023-01-29T18:40:06.846Z"
   },
   {
    "duration": 28,
    "start_time": "2023-01-29T18:40:06.853Z"
   },
   {
    "duration": 20,
    "start_time": "2023-01-29T18:40:06.883Z"
   },
   {
    "duration": 148,
    "start_time": "2023-01-29T18:40:06.905Z"
   },
   {
    "duration": 13,
    "start_time": "2023-01-29T18:40:07.055Z"
   },
   {
    "duration": 63,
    "start_time": "2023-01-29T18:40:07.070Z"
   },
   {
    "duration": 29,
    "start_time": "2023-01-29T18:40:07.135Z"
   },
   {
    "duration": 69,
    "start_time": "2023-01-29T18:40:07.166Z"
   },
   {
    "duration": 40,
    "start_time": "2023-01-29T18:40:07.237Z"
   },
   {
    "duration": 64,
    "start_time": "2023-01-29T18:40:07.280Z"
   },
   {
    "duration": 37,
    "start_time": "2023-01-29T18:40:07.346Z"
   },
   {
    "duration": 130,
    "start_time": "2023-01-29T18:40:07.386Z"
   },
   {
    "duration": 136,
    "start_time": "2023-01-29T18:40:07.518Z"
   },
   {
    "duration": 6,
    "start_time": "2023-01-29T18:40:07.656Z"
   },
   {
    "duration": 26,
    "start_time": "2023-01-29T18:40:07.664Z"
   },
   {
    "duration": 42,
    "start_time": "2023-01-29T18:40:07.692Z"
   },
   {
    "duration": 24,
    "start_time": "2023-01-29T18:40:07.736Z"
   },
   {
    "duration": 19,
    "start_time": "2023-01-29T18:40:07.762Z"
   },
   {
    "duration": 14,
    "start_time": "2023-01-29T18:40:07.783Z"
   },
   {
    "duration": 19,
    "start_time": "2023-01-29T18:40:07.799Z"
   },
   {
    "duration": 32,
    "start_time": "2023-01-29T18:40:07.820Z"
   },
   {
    "duration": 16,
    "start_time": "2023-01-29T18:40:07.854Z"
   },
   {
    "duration": 27,
    "start_time": "2023-01-29T18:40:07.873Z"
   },
   {
    "duration": 15,
    "start_time": "2023-01-29T18:40:07.902Z"
   },
   {
    "duration": 74,
    "start_time": "2023-01-29T18:40:07.919Z"
   },
   {
    "duration": 5,
    "start_time": "2023-01-29T18:40:07.996Z"
   },
   {
    "duration": 13,
    "start_time": "2023-01-29T18:40:08.002Z"
   },
   {
    "duration": 22,
    "start_time": "2023-01-29T18:40:08.017Z"
   },
   {
    "duration": 67,
    "start_time": "2023-01-30T14:46:21.454Z"
   },
   {
    "duration": 1439,
    "start_time": "2023-01-30T16:33:15.140Z"
   },
   {
    "duration": 3,
    "start_time": "2023-01-30T16:33:16.581Z"
   },
   {
    "duration": 267,
    "start_time": "2023-01-30T16:33:16.585Z"
   },
   {
    "duration": 61,
    "start_time": "2023-01-30T16:33:16.854Z"
   },
   {
    "duration": 18,
    "start_time": "2023-01-30T16:33:16.938Z"
   },
   {
    "duration": 38,
    "start_time": "2023-01-30T16:33:16.957Z"
   },
   {
    "duration": 53,
    "start_time": "2023-01-30T16:33:16.996Z"
   },
   {
    "duration": 24,
    "start_time": "2023-01-30T16:33:17.051Z"
   },
   {
    "duration": 57,
    "start_time": "2023-01-30T16:33:17.077Z"
   },
   {
    "duration": 44,
    "start_time": "2023-01-30T16:33:17.136Z"
   },
   {
    "duration": 60,
    "start_time": "2023-01-30T16:33:17.182Z"
   },
   {
    "duration": 73,
    "start_time": "2023-01-30T16:33:17.245Z"
   },
   {
    "duration": 226,
    "start_time": "2023-01-30T16:33:17.320Z"
   },
   {
    "duration": 141,
    "start_time": "2023-01-30T16:33:17.550Z"
   },
   {
    "duration": 9,
    "start_time": "2023-01-30T16:33:17.693Z"
   },
   {
    "duration": 324,
    "start_time": "2023-01-30T16:33:17.704Z"
   },
   {
    "duration": 234,
    "start_time": "2023-01-30T16:33:18.030Z"
   },
   {
    "duration": 397,
    "start_time": "2023-01-30T16:33:18.266Z"
   },
   {
    "duration": 232,
    "start_time": "2023-01-30T16:33:18.664Z"
   },
   {
    "duration": 349,
    "start_time": "2023-01-30T16:33:18.898Z"
   },
   {
    "duration": 7,
    "start_time": "2023-01-30T16:33:19.249Z"
   },
   {
    "duration": 158,
    "start_time": "2023-01-30T16:33:19.257Z"
   },
   {
    "duration": 9,
    "start_time": "2023-01-30T16:33:19.416Z"
   },
   {
    "duration": 19,
    "start_time": "2023-01-30T16:33:19.437Z"
   },
   {
    "duration": 15,
    "start_time": "2023-01-30T16:33:19.458Z"
   },
   {
    "duration": 140,
    "start_time": "2023-01-30T16:33:19.475Z"
   },
   {
    "duration": 5,
    "start_time": "2023-01-30T16:33:19.617Z"
   },
   {
    "duration": 25,
    "start_time": "2023-01-30T16:33:19.636Z"
   },
   {
    "duration": 33,
    "start_time": "2023-01-30T16:33:19.663Z"
   },
   {
    "duration": 146,
    "start_time": "2023-01-30T16:33:19.698Z"
   },
   {
    "duration": 22,
    "start_time": "2023-01-30T16:33:19.851Z"
   },
   {
    "duration": 77,
    "start_time": "2023-01-30T16:33:19.875Z"
   },
   {
    "duration": 36,
    "start_time": "2023-01-30T16:33:19.954Z"
   },
   {
    "duration": 61,
    "start_time": "2023-01-30T16:33:19.992Z"
   },
   {
    "duration": 22,
    "start_time": "2023-01-30T16:33:20.055Z"
   },
   {
    "duration": 72,
    "start_time": "2023-01-30T16:33:20.079Z"
   },
   {
    "duration": 25,
    "start_time": "2023-01-30T16:33:20.153Z"
   },
   {
    "duration": 76,
    "start_time": "2023-01-30T16:33:20.180Z"
   },
   {
    "duration": 100,
    "start_time": "2023-01-30T16:33:20.258Z"
   },
   {
    "duration": 5,
    "start_time": "2023-01-30T16:33:20.360Z"
   },
   {
    "duration": 11,
    "start_time": "2023-01-30T16:33:20.369Z"
   },
   {
    "duration": 37,
    "start_time": "2023-01-30T16:33:20.381Z"
   },
   {
    "duration": 6,
    "start_time": "2023-01-30T16:33:20.420Z"
   },
   {
    "duration": 40,
    "start_time": "2023-01-30T16:33:20.428Z"
   },
   {
    "duration": 13,
    "start_time": "2023-01-30T16:33:20.470Z"
   },
   {
    "duration": 8,
    "start_time": "2023-01-30T16:33:20.485Z"
   },
   {
    "duration": 20,
    "start_time": "2023-01-30T16:33:20.495Z"
   },
   {
    "duration": 8,
    "start_time": "2023-01-30T16:33:20.517Z"
   },
   {
    "duration": 28,
    "start_time": "2023-01-30T16:33:20.526Z"
   },
   {
    "duration": 9,
    "start_time": "2023-01-30T16:33:20.556Z"
   },
   {
    "duration": 24,
    "start_time": "2023-01-30T16:33:20.567Z"
   },
   {
    "duration": 5,
    "start_time": "2023-01-30T16:33:20.593Z"
   },
   {
    "duration": 14,
    "start_time": "2023-01-30T16:33:20.600Z"
   },
   {
    "duration": 10,
    "start_time": "2023-01-30T16:33:20.615Z"
   },
   {
    "duration": 73,
    "start_time": "2023-01-30T16:37:49.796Z"
   },
   {
    "duration": 1352,
    "start_time": "2023-01-30T16:37:59.908Z"
   },
   {
    "duration": 3,
    "start_time": "2023-01-30T16:38:01.263Z"
   },
   {
    "duration": 113,
    "start_time": "2023-01-30T16:38:01.268Z"
   },
   {
    "duration": 93,
    "start_time": "2023-01-30T16:38:01.383Z"
   },
   {
    "duration": 0,
    "start_time": "2023-01-30T16:38:01.482Z"
   },
   {
    "duration": 0,
    "start_time": "2023-01-30T16:38:01.484Z"
   },
   {
    "duration": 0,
    "start_time": "2023-01-30T16:38:01.486Z"
   },
   {
    "duration": 0,
    "start_time": "2023-01-30T16:38:01.490Z"
   },
   {
    "duration": 0,
    "start_time": "2023-01-30T16:38:01.492Z"
   },
   {
    "duration": 0,
    "start_time": "2023-01-30T16:38:01.494Z"
   },
   {
    "duration": 0,
    "start_time": "2023-01-30T16:38:01.496Z"
   },
   {
    "duration": 0,
    "start_time": "2023-01-30T16:38:01.498Z"
   },
   {
    "duration": 0,
    "start_time": "2023-01-30T16:38:01.500Z"
   },
   {
    "duration": 0,
    "start_time": "2023-01-30T16:38:01.501Z"
   },
   {
    "duration": 0,
    "start_time": "2023-01-30T16:38:01.503Z"
   },
   {
    "duration": 0,
    "start_time": "2023-01-30T16:38:01.505Z"
   },
   {
    "duration": 0,
    "start_time": "2023-01-30T16:38:01.506Z"
   },
   {
    "duration": 0,
    "start_time": "2023-01-30T16:38:01.508Z"
   },
   {
    "duration": 0,
    "start_time": "2023-01-30T16:38:01.510Z"
   },
   {
    "duration": 0,
    "start_time": "2023-01-30T16:38:01.511Z"
   },
   {
    "duration": 0,
    "start_time": "2023-01-30T16:38:01.513Z"
   },
   {
    "duration": 0,
    "start_time": "2023-01-30T16:38:01.514Z"
   },
   {
    "duration": 0,
    "start_time": "2023-01-30T16:38:01.516Z"
   },
   {
    "duration": 0,
    "start_time": "2023-01-30T16:38:01.518Z"
   },
   {
    "duration": 0,
    "start_time": "2023-01-30T16:38:01.519Z"
   },
   {
    "duration": 0,
    "start_time": "2023-01-30T16:38:01.520Z"
   },
   {
    "duration": 0,
    "start_time": "2023-01-30T16:38:01.522Z"
   },
   {
    "duration": 0,
    "start_time": "2023-01-30T16:38:01.536Z"
   },
   {
    "duration": 0,
    "start_time": "2023-01-30T16:38:01.537Z"
   },
   {
    "duration": 0,
    "start_time": "2023-01-30T16:38:01.539Z"
   },
   {
    "duration": 0,
    "start_time": "2023-01-30T16:38:01.540Z"
   },
   {
    "duration": 0,
    "start_time": "2023-01-30T16:38:01.542Z"
   },
   {
    "duration": 0,
    "start_time": "2023-01-30T16:38:01.543Z"
   },
   {
    "duration": 0,
    "start_time": "2023-01-30T16:38:01.545Z"
   },
   {
    "duration": 0,
    "start_time": "2023-01-30T16:38:01.546Z"
   },
   {
    "duration": 0,
    "start_time": "2023-01-30T16:38:01.548Z"
   },
   {
    "duration": 0,
    "start_time": "2023-01-30T16:38:01.550Z"
   },
   {
    "duration": 0,
    "start_time": "2023-01-30T16:38:01.551Z"
   },
   {
    "duration": 0,
    "start_time": "2023-01-30T16:38:01.553Z"
   },
   {
    "duration": 0,
    "start_time": "2023-01-30T16:38:01.554Z"
   },
   {
    "duration": 0,
    "start_time": "2023-01-30T16:38:01.556Z"
   },
   {
    "duration": 0,
    "start_time": "2023-01-30T16:38:01.557Z"
   },
   {
    "duration": 0,
    "start_time": "2023-01-30T16:38:01.559Z"
   },
   {
    "duration": 0,
    "start_time": "2023-01-30T16:38:01.561Z"
   },
   {
    "duration": 0,
    "start_time": "2023-01-30T16:38:01.563Z"
   },
   {
    "duration": 0,
    "start_time": "2023-01-30T16:38:01.565Z"
   },
   {
    "duration": 0,
    "start_time": "2023-01-30T16:38:01.567Z"
   },
   {
    "duration": 0,
    "start_time": "2023-01-30T16:38:01.568Z"
   },
   {
    "duration": 0,
    "start_time": "2023-01-30T16:38:01.570Z"
   },
   {
    "duration": 0,
    "start_time": "2023-01-30T16:38:01.572Z"
   },
   {
    "duration": 0,
    "start_time": "2023-01-30T16:38:01.573Z"
   },
   {
    "duration": 0,
    "start_time": "2023-01-30T16:38:01.575Z"
   },
   {
    "duration": 0,
    "start_time": "2023-01-30T16:38:01.576Z"
   },
   {
    "duration": 0,
    "start_time": "2023-01-30T16:38:01.636Z"
   },
   {
    "duration": 77,
    "start_time": "2023-01-30T16:38:23.106Z"
   },
   {
    "duration": 72,
    "start_time": "2023-01-30T16:38:43.784Z"
   },
   {
    "duration": 139,
    "start_time": "2023-01-30T16:40:09.305Z"
   },
   {
    "duration": 15,
    "start_time": "2023-01-30T16:40:21.698Z"
   },
   {
    "duration": 1261,
    "start_time": "2023-01-30T16:40:43.102Z"
   },
   {
    "duration": 4,
    "start_time": "2023-01-30T16:40:44.365Z"
   },
   {
    "duration": 104,
    "start_time": "2023-01-30T16:40:44.371Z"
   },
   {
    "duration": 77,
    "start_time": "2023-01-30T16:40:44.477Z"
   },
   {
    "duration": 8,
    "start_time": "2023-01-30T16:40:44.556Z"
   },
   {
    "duration": 35,
    "start_time": "2023-01-30T16:40:44.567Z"
   },
   {
    "duration": 8,
    "start_time": "2023-01-30T16:40:44.605Z"
   },
   {
    "duration": 12,
    "start_time": "2023-01-30T16:40:44.615Z"
   },
   {
    "duration": 25,
    "start_time": "2023-01-30T16:40:44.630Z"
   },
   {
    "duration": 19,
    "start_time": "2023-01-30T16:40:44.657Z"
   },
   {
    "duration": 21,
    "start_time": "2023-01-30T16:40:44.678Z"
   },
   {
    "duration": 21,
    "start_time": "2023-01-30T16:40:44.701Z"
   },
   {
    "duration": 207,
    "start_time": "2023-01-30T16:40:44.724Z"
   },
   {
    "duration": 141,
    "start_time": "2023-01-30T16:40:44.934Z"
   },
   {
    "duration": 10,
    "start_time": "2023-01-30T16:40:45.076Z"
   },
   {
    "duration": 333,
    "start_time": "2023-01-30T16:40:45.088Z"
   },
   {
    "duration": 226,
    "start_time": "2023-01-30T16:40:45.423Z"
   },
   {
    "duration": 312,
    "start_time": "2023-01-30T16:40:45.651Z"
   },
   {
    "duration": 238,
    "start_time": "2023-01-30T16:40:45.964Z"
   },
   {
    "duration": 353,
    "start_time": "2023-01-30T16:40:46.204Z"
   },
   {
    "duration": 7,
    "start_time": "2023-01-30T16:40:46.559Z"
   },
   {
    "duration": 137,
    "start_time": "2023-01-30T16:40:46.567Z"
   },
   {
    "duration": 8,
    "start_time": "2023-01-30T16:40:46.705Z"
   },
   {
    "duration": 7,
    "start_time": "2023-01-30T16:40:46.715Z"
   },
   {
    "duration": 22,
    "start_time": "2023-01-30T16:40:46.738Z"
   },
   {
    "duration": 145,
    "start_time": "2023-01-30T16:40:46.761Z"
   },
   {
    "duration": 6,
    "start_time": "2023-01-30T16:40:46.909Z"
   },
   {
    "duration": 13,
    "start_time": "2023-01-30T16:40:46.916Z"
   },
   {
    "duration": 11,
    "start_time": "2023-01-30T16:40:46.940Z"
   },
   {
    "duration": 131,
    "start_time": "2023-01-30T16:40:46.953Z"
   },
   {
    "duration": 10,
    "start_time": "2023-01-30T16:40:47.086Z"
   },
   {
    "duration": 67,
    "start_time": "2023-01-30T16:40:47.097Z"
   },
   {
    "duration": 15,
    "start_time": "2023-01-30T16:40:47.166Z"
   },
   {
    "duration": 69,
    "start_time": "2023-01-30T16:40:47.183Z"
   },
   {
    "duration": 29,
    "start_time": "2023-01-30T16:40:47.256Z"
   },
   {
    "duration": 84,
    "start_time": "2023-01-30T16:40:47.287Z"
   },
   {
    "duration": 35,
    "start_time": "2023-01-30T16:40:47.374Z"
   },
   {
    "duration": 81,
    "start_time": "2023-01-30T16:40:47.411Z"
   },
   {
    "duration": 88,
    "start_time": "2023-01-30T16:40:47.494Z"
   },
   {
    "duration": 7,
    "start_time": "2023-01-30T16:40:47.583Z"
   },
   {
    "duration": 4,
    "start_time": "2023-01-30T16:40:47.595Z"
   },
   {
    "duration": 47,
    "start_time": "2023-01-30T16:40:47.600Z"
   },
   {
    "duration": 6,
    "start_time": "2023-01-30T16:40:47.648Z"
   },
   {
    "duration": 12,
    "start_time": "2023-01-30T16:40:47.656Z"
   },
   {
    "duration": 13,
    "start_time": "2023-01-30T16:40:47.670Z"
   },
   {
    "duration": 7,
    "start_time": "2023-01-30T16:40:47.685Z"
   },
   {
    "duration": 14,
    "start_time": "2023-01-30T16:40:47.694Z"
   },
   {
    "duration": 10,
    "start_time": "2023-01-30T16:40:47.710Z"
   },
   {
    "duration": 14,
    "start_time": "2023-01-30T16:40:47.736Z"
   },
   {
    "duration": 9,
    "start_time": "2023-01-30T16:40:47.752Z"
   },
   {
    "duration": 23,
    "start_time": "2023-01-30T16:40:47.763Z"
   },
   {
    "duration": 6,
    "start_time": "2023-01-30T16:40:47.788Z"
   },
   {
    "duration": 16,
    "start_time": "2023-01-30T16:40:47.796Z"
   },
   {
    "duration": 31,
    "start_time": "2023-01-30T16:40:47.813Z"
   },
   {
    "duration": 189,
    "start_time": "2023-01-30T16:43:43.977Z"
   },
   {
    "duration": 66,
    "start_time": "2023-01-30T16:48:46.658Z"
   },
   {
    "duration": 647,
    "start_time": "2023-01-30T16:52:45.419Z"
   },
   {
    "duration": 454,
    "start_time": "2023-01-30T16:52:46.069Z"
   },
   {
    "duration": 81,
    "start_time": "2023-01-30T16:52:46.525Z"
   },
   {
    "duration": 53,
    "start_time": "2023-01-30T16:52:46.608Z"
   },
   {
    "duration": 6,
    "start_time": "2023-01-30T16:52:46.662Z"
   },
   {
    "duration": 6,
    "start_time": "2023-01-30T16:52:46.669Z"
   },
   {
    "duration": 4,
    "start_time": "2023-01-30T16:52:46.677Z"
   },
   {
    "duration": 8,
    "start_time": "2023-01-30T16:52:46.682Z"
   },
   {
    "duration": 48,
    "start_time": "2023-01-30T16:52:46.691Z"
   },
   {
    "duration": 13,
    "start_time": "2023-01-30T16:52:46.741Z"
   },
   {
    "duration": 24,
    "start_time": "2023-01-30T16:52:46.757Z"
   },
   {
    "duration": 19,
    "start_time": "2023-01-30T16:52:46.783Z"
   },
   {
    "duration": 198,
    "start_time": "2023-01-30T16:52:46.804Z"
   },
   {
    "duration": 136,
    "start_time": "2023-01-30T16:52:47.006Z"
   },
   {
    "duration": 18,
    "start_time": "2023-01-30T16:52:47.144Z"
   },
   {
    "duration": 294,
    "start_time": "2023-01-30T16:52:47.163Z"
   },
   {
    "duration": 213,
    "start_time": "2023-01-30T16:52:47.460Z"
   },
   {
    "duration": 288,
    "start_time": "2023-01-30T16:52:47.675Z"
   },
   {
    "duration": 218,
    "start_time": "2023-01-30T16:52:47.965Z"
   },
   {
    "duration": 416,
    "start_time": "2023-01-30T16:52:48.185Z"
   },
   {
    "duration": 8,
    "start_time": "2023-01-30T16:52:48.604Z"
   },
   {
    "duration": 161,
    "start_time": "2023-01-30T16:52:48.614Z"
   },
   {
    "duration": 7,
    "start_time": "2023-01-30T16:52:48.776Z"
   },
   {
    "duration": 15,
    "start_time": "2023-01-30T16:52:48.785Z"
   },
   {
    "duration": 25,
    "start_time": "2023-01-30T16:52:48.802Z"
   },
   {
    "duration": 138,
    "start_time": "2023-01-30T16:52:48.829Z"
   },
   {
    "duration": 5,
    "start_time": "2023-01-30T16:52:48.969Z"
   },
   {
    "duration": 36,
    "start_time": "2023-01-30T16:52:48.975Z"
   },
   {
    "duration": 25,
    "start_time": "2023-01-30T16:52:49.013Z"
   },
   {
    "duration": 70,
    "start_time": "2023-01-30T16:52:49.040Z"
   },
   {
    "duration": 55,
    "start_time": "2023-01-30T16:52:49.111Z"
   },
   {
    "duration": 68,
    "start_time": "2023-01-30T16:52:49.167Z"
   },
   {
    "duration": 43,
    "start_time": "2023-01-30T16:52:49.237Z"
   },
   {
    "duration": 67,
    "start_time": "2023-01-30T16:52:49.282Z"
   },
   {
    "duration": 31,
    "start_time": "2023-01-30T16:52:49.352Z"
   },
   {
    "duration": 65,
    "start_time": "2023-01-30T16:52:49.385Z"
   },
   {
    "duration": 45,
    "start_time": "2023-01-30T16:52:49.452Z"
   },
   {
    "duration": 118,
    "start_time": "2023-01-30T16:52:49.498Z"
   },
   {
    "duration": 89,
    "start_time": "2023-01-30T16:52:49.618Z"
   },
   {
    "duration": 5,
    "start_time": "2023-01-30T16:52:49.709Z"
   },
   {
    "duration": 25,
    "start_time": "2023-01-30T16:52:49.718Z"
   },
   {
    "duration": 56,
    "start_time": "2023-01-30T16:52:49.745Z"
   },
   {
    "duration": 4,
    "start_time": "2023-01-30T16:52:49.803Z"
   },
   {
    "duration": 38,
    "start_time": "2023-01-30T16:52:49.809Z"
   },
   {
    "duration": 15,
    "start_time": "2023-01-30T16:52:49.849Z"
   },
   {
    "duration": 33,
    "start_time": "2023-01-30T16:52:49.866Z"
   },
   {
    "duration": 18,
    "start_time": "2023-01-30T16:52:49.900Z"
   },
   {
    "duration": 31,
    "start_time": "2023-01-30T16:52:49.919Z"
   },
   {
    "duration": 30,
    "start_time": "2023-01-30T16:52:49.952Z"
   },
   {
    "duration": 20,
    "start_time": "2023-01-30T16:52:49.983Z"
   },
   {
    "duration": 68,
    "start_time": "2023-01-30T16:52:50.005Z"
   },
   {
    "duration": 28,
    "start_time": "2023-01-30T16:52:50.074Z"
   },
   {
    "duration": 32,
    "start_time": "2023-01-30T16:52:50.104Z"
   },
   {
    "duration": 18,
    "start_time": "2023-01-30T16:52:50.138Z"
   },
   {
    "duration": 637,
    "start_time": "2023-01-30T16:53:19.867Z"
   },
   {
    "duration": 500,
    "start_time": "2023-01-30T16:53:20.507Z"
   },
   {
    "duration": 81,
    "start_time": "2023-01-30T16:53:21.008Z"
   },
   {
    "duration": 57,
    "start_time": "2023-01-30T16:53:21.090Z"
   },
   {
    "duration": 5,
    "start_time": "2023-01-30T16:53:21.149Z"
   },
   {
    "duration": 19,
    "start_time": "2023-01-30T16:53:21.155Z"
   },
   {
    "duration": 16,
    "start_time": "2023-01-30T16:53:21.176Z"
   },
   {
    "duration": 13,
    "start_time": "2023-01-30T16:53:21.194Z"
   },
   {
    "duration": 30,
    "start_time": "2023-01-30T16:53:21.208Z"
   },
   {
    "duration": 13,
    "start_time": "2023-01-30T16:53:21.240Z"
   },
   {
    "duration": 22,
    "start_time": "2023-01-30T16:53:21.255Z"
   },
   {
    "duration": 9,
    "start_time": "2023-01-30T16:53:21.279Z"
   },
   {
    "duration": 213,
    "start_time": "2023-01-30T16:53:21.289Z"
   },
   {
    "duration": 130,
    "start_time": "2023-01-30T16:53:21.506Z"
   },
   {
    "duration": 8,
    "start_time": "2023-01-30T16:53:21.638Z"
   },
   {
    "duration": 295,
    "start_time": "2023-01-30T16:53:21.647Z"
   },
   {
    "duration": 199,
    "start_time": "2023-01-30T16:53:21.943Z"
   },
   {
    "duration": 310,
    "start_time": "2023-01-30T16:53:22.143Z"
   },
   {
    "duration": 216,
    "start_time": "2023-01-30T16:53:22.455Z"
   },
   {
    "duration": 296,
    "start_time": "2023-01-30T16:53:22.672Z"
   },
   {
    "duration": 6,
    "start_time": "2023-01-30T16:53:22.970Z"
   },
   {
    "duration": 118,
    "start_time": "2023-01-30T16:53:22.978Z"
   },
   {
    "duration": 8,
    "start_time": "2023-01-30T16:53:23.098Z"
   },
   {
    "duration": 8,
    "start_time": "2023-01-30T16:53:23.107Z"
   },
   {
    "duration": 25,
    "start_time": "2023-01-30T16:53:23.117Z"
   },
   {
    "duration": 137,
    "start_time": "2023-01-30T16:53:23.143Z"
   },
   {
    "duration": 5,
    "start_time": "2023-01-30T16:53:23.281Z"
   },
   {
    "duration": 11,
    "start_time": "2023-01-30T16:53:23.288Z"
   },
   {
    "duration": 12,
    "start_time": "2023-01-30T16:53:23.301Z"
   },
   {
    "duration": 62,
    "start_time": "2023-01-30T16:53:23.315Z"
   },
   {
    "duration": 11,
    "start_time": "2023-01-30T16:53:23.379Z"
   },
   {
    "duration": 59,
    "start_time": "2023-01-30T16:53:23.391Z"
   },
   {
    "duration": 19,
    "start_time": "2023-01-30T16:53:23.452Z"
   },
   {
    "duration": 52,
    "start_time": "2023-01-30T16:53:23.473Z"
   },
   {
    "duration": 22,
    "start_time": "2023-01-30T16:53:23.526Z"
   },
   {
    "duration": 51,
    "start_time": "2023-01-30T16:53:23.550Z"
   },
   {
    "duration": 36,
    "start_time": "2023-01-30T16:53:23.603Z"
   },
   {
    "duration": 72,
    "start_time": "2023-01-30T16:53:23.641Z"
   },
   {
    "duration": 96,
    "start_time": "2023-01-30T16:53:23.714Z"
   },
   {
    "duration": 5,
    "start_time": "2023-01-30T16:53:23.812Z"
   },
   {
    "duration": 4,
    "start_time": "2023-01-30T16:53:23.836Z"
   },
   {
    "duration": 29,
    "start_time": "2023-01-30T16:53:23.842Z"
   },
   {
    "duration": 6,
    "start_time": "2023-01-30T16:53:23.873Z"
   },
   {
    "duration": 11,
    "start_time": "2023-01-30T16:53:23.880Z"
   },
   {
    "duration": 8,
    "start_time": "2023-01-30T16:53:23.893Z"
   },
   {
    "duration": 7,
    "start_time": "2023-01-30T16:53:23.903Z"
   },
   {
    "duration": 7,
    "start_time": "2023-01-30T16:53:23.936Z"
   },
   {
    "duration": 6,
    "start_time": "2023-01-30T16:53:23.944Z"
   },
   {
    "duration": 8,
    "start_time": "2023-01-30T16:53:23.952Z"
   },
   {
    "duration": 15,
    "start_time": "2023-01-30T16:53:23.961Z"
   },
   {
    "duration": 27,
    "start_time": "2023-01-30T16:53:23.977Z"
   },
   {
    "duration": 5,
    "start_time": "2023-01-30T16:53:24.005Z"
   },
   {
    "duration": 28,
    "start_time": "2023-01-30T16:53:24.012Z"
   },
   {
    "duration": 14,
    "start_time": "2023-01-30T16:53:24.041Z"
   },
   {
    "duration": 715,
    "start_time": "2023-01-30T16:54:10.938Z"
   },
   {
    "duration": 501,
    "start_time": "2023-01-30T16:54:11.655Z"
   },
   {
    "duration": 85,
    "start_time": "2023-01-30T16:54:12.157Z"
   },
   {
    "duration": 53,
    "start_time": "2023-01-30T16:54:12.244Z"
   },
   {
    "duration": 6,
    "start_time": "2023-01-30T16:54:12.300Z"
   },
   {
    "duration": 6,
    "start_time": "2023-01-30T16:54:12.336Z"
   },
   {
    "duration": 34,
    "start_time": "2023-01-30T16:54:12.344Z"
   },
   {
    "duration": 28,
    "start_time": "2023-01-30T16:54:12.380Z"
   },
   {
    "duration": 24,
    "start_time": "2023-01-30T16:54:12.410Z"
   },
   {
    "duration": 26,
    "start_time": "2023-01-30T16:54:12.436Z"
   },
   {
    "duration": 34,
    "start_time": "2023-01-30T16:54:12.464Z"
   },
   {
    "duration": 28,
    "start_time": "2023-01-30T16:54:12.500Z"
   },
   {
    "duration": 221,
    "start_time": "2023-01-30T16:54:12.529Z"
   },
   {
    "duration": 145,
    "start_time": "2023-01-30T16:54:12.753Z"
   },
   {
    "duration": 7,
    "start_time": "2023-01-30T16:54:12.900Z"
   },
   {
    "duration": 303,
    "start_time": "2023-01-30T16:54:12.909Z"
   },
   {
    "duration": 257,
    "start_time": "2023-01-30T16:54:13.214Z"
   },
   {
    "duration": 341,
    "start_time": "2023-01-30T16:54:13.473Z"
   },
   {
    "duration": 231,
    "start_time": "2023-01-30T16:54:13.816Z"
   },
   {
    "duration": 295,
    "start_time": "2023-01-30T16:54:14.049Z"
   },
   {
    "duration": 7,
    "start_time": "2023-01-30T16:54:14.346Z"
   },
   {
    "duration": 152,
    "start_time": "2023-01-30T16:54:14.355Z"
   },
   {
    "duration": 9,
    "start_time": "2023-01-30T16:54:14.509Z"
   },
   {
    "duration": 20,
    "start_time": "2023-01-30T16:54:14.520Z"
   },
   {
    "duration": 27,
    "start_time": "2023-01-30T16:54:14.542Z"
   },
   {
    "duration": 150,
    "start_time": "2023-01-30T16:54:14.570Z"
   },
   {
    "duration": 6,
    "start_time": "2023-01-30T16:54:14.721Z"
   },
   {
    "duration": 32,
    "start_time": "2023-01-30T16:54:14.728Z"
   },
   {
    "duration": 19,
    "start_time": "2023-01-30T16:54:14.762Z"
   },
   {
    "duration": 59,
    "start_time": "2023-01-30T16:54:14.783Z"
   },
   {
    "duration": 28,
    "start_time": "2023-01-30T16:54:14.844Z"
   },
   {
    "duration": 61,
    "start_time": "2023-01-30T16:54:14.874Z"
   },
   {
    "duration": 52,
    "start_time": "2023-01-30T16:54:14.937Z"
   },
   {
    "duration": 74,
    "start_time": "2023-01-30T16:54:14.991Z"
   },
   {
    "duration": 25,
    "start_time": "2023-01-30T16:54:15.066Z"
   },
   {
    "duration": 76,
    "start_time": "2023-01-30T16:54:15.093Z"
   },
   {
    "duration": 48,
    "start_time": "2023-01-30T16:54:15.170Z"
   },
   {
    "duration": 86,
    "start_time": "2023-01-30T16:54:15.220Z"
   },
   {
    "duration": 83,
    "start_time": "2023-01-30T16:54:15.308Z"
   },
   {
    "duration": 6,
    "start_time": "2023-01-30T16:54:15.392Z"
   },
   {
    "duration": 27,
    "start_time": "2023-01-30T16:54:15.405Z"
   },
   {
    "duration": 72,
    "start_time": "2023-01-30T16:54:15.434Z"
   },
   {
    "duration": 7,
    "start_time": "2023-01-30T16:54:15.508Z"
   },
   {
    "duration": 42,
    "start_time": "2023-01-30T16:54:15.517Z"
   },
   {
    "duration": 34,
    "start_time": "2023-01-30T16:54:15.561Z"
   },
   {
    "duration": 25,
    "start_time": "2023-01-30T16:54:15.599Z"
   },
   {
    "duration": 29,
    "start_time": "2023-01-30T16:54:15.626Z"
   },
   {
    "duration": 22,
    "start_time": "2023-01-30T16:54:15.657Z"
   },
   {
    "duration": 26,
    "start_time": "2023-01-30T16:54:15.681Z"
   },
   {
    "duration": 40,
    "start_time": "2023-01-30T16:54:15.709Z"
   },
   {
    "duration": 60,
    "start_time": "2023-01-30T16:54:15.751Z"
   },
   {
    "duration": 18,
    "start_time": "2023-01-30T16:54:15.813Z"
   },
   {
    "duration": 30,
    "start_time": "2023-01-30T16:54:15.834Z"
   },
   {
    "duration": 55,
    "start_time": "2023-01-30T16:54:15.866Z"
   },
   {
    "duration": 703,
    "start_time": "2023-01-30T16:54:44.124Z"
   },
   {
    "duration": 494,
    "start_time": "2023-01-30T16:54:44.829Z"
   },
   {
    "duration": 93,
    "start_time": "2023-01-30T16:54:45.325Z"
   },
   {
    "duration": 80,
    "start_time": "2023-01-30T16:54:45.421Z"
   },
   {
    "duration": 8,
    "start_time": "2023-01-30T16:54:45.503Z"
   },
   {
    "duration": 8,
    "start_time": "2023-01-30T16:54:45.537Z"
   },
   {
    "duration": 12,
    "start_time": "2023-01-30T16:54:45.547Z"
   },
   {
    "duration": 15,
    "start_time": "2023-01-30T16:54:45.561Z"
   },
   {
    "duration": 18,
    "start_time": "2023-01-30T16:54:45.578Z"
   },
   {
    "duration": 16,
    "start_time": "2023-01-30T16:54:45.599Z"
   },
   {
    "duration": 13,
    "start_time": "2023-01-30T16:54:45.635Z"
   },
   {
    "duration": 11,
    "start_time": "2023-01-30T16:54:45.650Z"
   },
   {
    "duration": 246,
    "start_time": "2023-01-30T16:54:45.663Z"
   },
   {
    "duration": 141,
    "start_time": "2023-01-30T16:54:45.911Z"
   },
   {
    "duration": 8,
    "start_time": "2023-01-30T16:54:46.055Z"
   },
   {
    "duration": 334,
    "start_time": "2023-01-30T16:54:46.065Z"
   },
   {
    "duration": 322,
    "start_time": "2023-01-30T16:54:46.401Z"
   },
   {
    "duration": 325,
    "start_time": "2023-01-30T16:54:46.724Z"
   },
   {
    "duration": 234,
    "start_time": "2023-01-30T16:54:47.050Z"
   },
   {
    "duration": 342,
    "start_time": "2023-01-30T16:54:47.286Z"
   },
   {
    "duration": 10,
    "start_time": "2023-01-30T16:54:47.630Z"
   },
   {
    "duration": 130,
    "start_time": "2023-01-30T16:54:47.642Z"
   },
   {
    "duration": 9,
    "start_time": "2023-01-30T16:54:47.774Z"
   },
   {
    "duration": 23,
    "start_time": "2023-01-30T16:54:47.785Z"
   },
   {
    "duration": 14,
    "start_time": "2023-01-30T16:54:47.810Z"
   },
   {
    "duration": 146,
    "start_time": "2023-01-30T16:54:47.826Z"
   },
   {
    "duration": 4,
    "start_time": "2023-01-30T16:54:47.974Z"
   },
   {
    "duration": 16,
    "start_time": "2023-01-30T16:54:47.982Z"
   },
   {
    "duration": 7,
    "start_time": "2023-01-30T16:54:48.000Z"
   },
   {
    "duration": 64,
    "start_time": "2023-01-30T16:54:48.008Z"
   },
   {
    "duration": 9,
    "start_time": "2023-01-30T16:54:48.074Z"
   },
   {
    "duration": 51,
    "start_time": "2023-01-30T16:54:48.085Z"
   },
   {
    "duration": 23,
    "start_time": "2023-01-30T16:54:48.139Z"
   },
   {
    "duration": 51,
    "start_time": "2023-01-30T16:54:48.164Z"
   },
   {
    "duration": 30,
    "start_time": "2023-01-30T16:54:48.217Z"
   },
   {
    "duration": 53,
    "start_time": "2023-01-30T16:54:48.248Z"
   },
   {
    "duration": 37,
    "start_time": "2023-01-30T16:54:48.303Z"
   },
   {
    "duration": 87,
    "start_time": "2023-01-30T16:54:48.342Z"
   },
   {
    "duration": 92,
    "start_time": "2023-01-30T16:54:48.431Z"
   },
   {
    "duration": 12,
    "start_time": "2023-01-30T16:54:48.525Z"
   },
   {
    "duration": 15,
    "start_time": "2023-01-30T16:54:48.539Z"
   },
   {
    "duration": 29,
    "start_time": "2023-01-30T16:54:48.555Z"
   },
   {
    "duration": 6,
    "start_time": "2023-01-30T16:54:48.587Z"
   },
   {
    "duration": 53,
    "start_time": "2023-01-30T16:54:48.597Z"
   },
   {
    "duration": 9,
    "start_time": "2023-01-30T16:54:48.652Z"
   },
   {
    "duration": 11,
    "start_time": "2023-01-30T16:54:48.664Z"
   },
   {
    "duration": 13,
    "start_time": "2023-01-30T16:54:48.677Z"
   },
   {
    "duration": 11,
    "start_time": "2023-01-30T16:54:48.692Z"
   },
   {
    "duration": 11,
    "start_time": "2023-01-30T16:54:48.706Z"
   },
   {
    "duration": 22,
    "start_time": "2023-01-30T16:54:48.720Z"
   },
   {
    "duration": 46,
    "start_time": "2023-01-30T16:54:48.745Z"
   },
   {
    "duration": 15,
    "start_time": "2023-01-30T16:54:48.793Z"
   },
   {
    "duration": 15,
    "start_time": "2023-01-30T16:54:48.810Z"
   },
   {
    "duration": 18,
    "start_time": "2023-01-30T16:54:48.827Z"
   },
   {
    "duration": 688,
    "start_time": "2023-01-30T16:59:43.348Z"
   },
   {
    "duration": 467,
    "start_time": "2023-01-30T16:59:44.038Z"
   },
   {
    "duration": 97,
    "start_time": "2023-01-30T16:59:44.507Z"
   },
   {
    "duration": 0,
    "start_time": "2023-01-30T16:59:44.608Z"
   },
   {
    "duration": 0,
    "start_time": "2023-01-30T16:59:44.609Z"
   },
   {
    "duration": 0,
    "start_time": "2023-01-30T16:59:44.610Z"
   },
   {
    "duration": 0,
    "start_time": "2023-01-30T16:59:44.611Z"
   },
   {
    "duration": 0,
    "start_time": "2023-01-30T16:59:44.612Z"
   },
   {
    "duration": 0,
    "start_time": "2023-01-30T16:59:44.613Z"
   },
   {
    "duration": 0,
    "start_time": "2023-01-30T16:59:44.614Z"
   },
   {
    "duration": 0,
    "start_time": "2023-01-30T16:59:44.615Z"
   },
   {
    "duration": 0,
    "start_time": "2023-01-30T16:59:44.616Z"
   },
   {
    "duration": 0,
    "start_time": "2023-01-30T16:59:44.636Z"
   },
   {
    "duration": 0,
    "start_time": "2023-01-30T16:59:44.637Z"
   },
   {
    "duration": 0,
    "start_time": "2023-01-30T16:59:44.639Z"
   },
   {
    "duration": 0,
    "start_time": "2023-01-30T16:59:44.640Z"
   },
   {
    "duration": 0,
    "start_time": "2023-01-30T16:59:44.641Z"
   },
   {
    "duration": 0,
    "start_time": "2023-01-30T16:59:44.642Z"
   },
   {
    "duration": 0,
    "start_time": "2023-01-30T16:59:44.643Z"
   },
   {
    "duration": 0,
    "start_time": "2023-01-30T16:59:44.644Z"
   },
   {
    "duration": 0,
    "start_time": "2023-01-30T16:59:44.645Z"
   },
   {
    "duration": 0,
    "start_time": "2023-01-30T16:59:44.647Z"
   },
   {
    "duration": 0,
    "start_time": "2023-01-30T16:59:44.648Z"
   },
   {
    "duration": 0,
    "start_time": "2023-01-30T16:59:44.649Z"
   },
   {
    "duration": 0,
    "start_time": "2023-01-30T16:59:44.650Z"
   },
   {
    "duration": 0,
    "start_time": "2023-01-30T16:59:44.651Z"
   },
   {
    "duration": 0,
    "start_time": "2023-01-30T16:59:44.652Z"
   },
   {
    "duration": 0,
    "start_time": "2023-01-30T16:59:44.652Z"
   },
   {
    "duration": 0,
    "start_time": "2023-01-30T16:59:44.654Z"
   },
   {
    "duration": 0,
    "start_time": "2023-01-30T16:59:44.655Z"
   },
   {
    "duration": 0,
    "start_time": "2023-01-30T16:59:44.656Z"
   },
   {
    "duration": 0,
    "start_time": "2023-01-30T16:59:44.657Z"
   },
   {
    "duration": 0,
    "start_time": "2023-01-30T16:59:44.658Z"
   },
   {
    "duration": 0,
    "start_time": "2023-01-30T16:59:44.659Z"
   },
   {
    "duration": 0,
    "start_time": "2023-01-30T16:59:44.660Z"
   },
   {
    "duration": 0,
    "start_time": "2023-01-30T16:59:44.661Z"
   },
   {
    "duration": 0,
    "start_time": "2023-01-30T16:59:44.662Z"
   },
   {
    "duration": 0,
    "start_time": "2023-01-30T16:59:44.663Z"
   },
   {
    "duration": 0,
    "start_time": "2023-01-30T16:59:44.664Z"
   },
   {
    "duration": 0,
    "start_time": "2023-01-30T16:59:44.666Z"
   },
   {
    "duration": 0,
    "start_time": "2023-01-30T16:59:44.667Z"
   },
   {
    "duration": 0,
    "start_time": "2023-01-30T16:59:44.668Z"
   },
   {
    "duration": 0,
    "start_time": "2023-01-30T16:59:44.669Z"
   },
   {
    "duration": 0,
    "start_time": "2023-01-30T16:59:44.670Z"
   },
   {
    "duration": 0,
    "start_time": "2023-01-30T16:59:44.671Z"
   },
   {
    "duration": 0,
    "start_time": "2023-01-30T16:59:44.672Z"
   },
   {
    "duration": 0,
    "start_time": "2023-01-30T16:59:44.673Z"
   },
   {
    "duration": 0,
    "start_time": "2023-01-30T16:59:44.674Z"
   },
   {
    "duration": 0,
    "start_time": "2023-01-30T16:59:44.737Z"
   },
   {
    "duration": 0,
    "start_time": "2023-01-30T16:59:44.738Z"
   },
   {
    "duration": 0,
    "start_time": "2023-01-30T16:59:44.739Z"
   },
   {
    "duration": 0,
    "start_time": "2023-01-30T16:59:44.740Z"
   },
   {
    "duration": 0,
    "start_time": "2023-01-30T16:59:44.741Z"
   },
   {
    "duration": 0,
    "start_time": "2023-01-30T16:59:44.742Z"
   },
   {
    "duration": 0,
    "start_time": "2023-01-30T16:59:44.743Z"
   },
   {
    "duration": 9,
    "start_time": "2023-01-30T17:00:10.597Z"
   },
   {
    "duration": 631,
    "start_time": "2023-01-30T17:00:26.168Z"
   },
   {
    "duration": 492,
    "start_time": "2023-01-30T17:00:26.801Z"
   },
   {
    "duration": 184,
    "start_time": "2023-01-30T17:00:27.295Z"
   },
   {
    "duration": 0,
    "start_time": "2023-01-30T17:00:27.483Z"
   },
   {
    "duration": 0,
    "start_time": "2023-01-30T17:00:27.484Z"
   },
   {
    "duration": 0,
    "start_time": "2023-01-30T17:00:27.485Z"
   },
   {
    "duration": 0,
    "start_time": "2023-01-30T17:00:27.486Z"
   },
   {
    "duration": 0,
    "start_time": "2023-01-30T17:00:27.487Z"
   },
   {
    "duration": 0,
    "start_time": "2023-01-30T17:00:27.488Z"
   },
   {
    "duration": 0,
    "start_time": "2023-01-30T17:00:27.489Z"
   },
   {
    "duration": 0,
    "start_time": "2023-01-30T17:00:27.490Z"
   },
   {
    "duration": 0,
    "start_time": "2023-01-30T17:00:27.492Z"
   },
   {
    "duration": 0,
    "start_time": "2023-01-30T17:00:27.493Z"
   },
   {
    "duration": 0,
    "start_time": "2023-01-30T17:00:27.494Z"
   },
   {
    "duration": 0,
    "start_time": "2023-01-30T17:00:27.495Z"
   },
   {
    "duration": 0,
    "start_time": "2023-01-30T17:00:27.496Z"
   },
   {
    "duration": 0,
    "start_time": "2023-01-30T17:00:27.497Z"
   },
   {
    "duration": 0,
    "start_time": "2023-01-30T17:00:27.498Z"
   },
   {
    "duration": 0,
    "start_time": "2023-01-30T17:00:27.499Z"
   },
   {
    "duration": 0,
    "start_time": "2023-01-30T17:00:27.501Z"
   },
   {
    "duration": 0,
    "start_time": "2023-01-30T17:00:27.502Z"
   },
   {
    "duration": 0,
    "start_time": "2023-01-30T17:00:27.503Z"
   },
   {
    "duration": 0,
    "start_time": "2023-01-30T17:00:27.504Z"
   },
   {
    "duration": 0,
    "start_time": "2023-01-30T17:00:27.505Z"
   },
   {
    "duration": 0,
    "start_time": "2023-01-30T17:00:27.506Z"
   },
   {
    "duration": 0,
    "start_time": "2023-01-30T17:00:27.507Z"
   },
   {
    "duration": 0,
    "start_time": "2023-01-30T17:00:27.507Z"
   },
   {
    "duration": 0,
    "start_time": "2023-01-30T17:00:27.508Z"
   },
   {
    "duration": 0,
    "start_time": "2023-01-30T17:00:27.508Z"
   },
   {
    "duration": 0,
    "start_time": "2023-01-30T17:00:27.509Z"
   },
   {
    "duration": 0,
    "start_time": "2023-01-30T17:00:27.536Z"
   },
   {
    "duration": 0,
    "start_time": "2023-01-30T17:00:27.538Z"
   },
   {
    "duration": 0,
    "start_time": "2023-01-30T17:00:27.541Z"
   },
   {
    "duration": 0,
    "start_time": "2023-01-30T17:00:27.542Z"
   },
   {
    "duration": 0,
    "start_time": "2023-01-30T17:00:27.544Z"
   },
   {
    "duration": 0,
    "start_time": "2023-01-30T17:00:27.545Z"
   },
   {
    "duration": 0,
    "start_time": "2023-01-30T17:00:27.547Z"
   },
   {
    "duration": 0,
    "start_time": "2023-01-30T17:00:27.548Z"
   },
   {
    "duration": 0,
    "start_time": "2023-01-30T17:00:27.550Z"
   },
   {
    "duration": 0,
    "start_time": "2023-01-30T17:00:27.551Z"
   },
   {
    "duration": 0,
    "start_time": "2023-01-30T17:00:27.553Z"
   },
   {
    "duration": 0,
    "start_time": "2023-01-30T17:00:27.554Z"
   },
   {
    "duration": 1,
    "start_time": "2023-01-30T17:00:27.555Z"
   },
   {
    "duration": 0,
    "start_time": "2023-01-30T17:00:27.557Z"
   },
   {
    "duration": 0,
    "start_time": "2023-01-30T17:00:27.559Z"
   },
   {
    "duration": 0,
    "start_time": "2023-01-30T17:00:27.560Z"
   },
   {
    "duration": 0,
    "start_time": "2023-01-30T17:00:27.561Z"
   },
   {
    "duration": 0,
    "start_time": "2023-01-30T17:00:27.562Z"
   },
   {
    "duration": 0,
    "start_time": "2023-01-30T17:00:27.564Z"
   },
   {
    "duration": 0,
    "start_time": "2023-01-30T17:00:27.565Z"
   },
   {
    "duration": 0,
    "start_time": "2023-01-30T17:00:27.565Z"
   },
   {
    "duration": 0,
    "start_time": "2023-01-30T17:00:27.567Z"
   },
   {
    "duration": 0,
    "start_time": "2023-01-30T17:00:27.568Z"
   },
   {
    "duration": 0,
    "start_time": "2023-01-30T17:00:27.569Z"
   },
   {
    "duration": 4,
    "start_time": "2023-01-30T17:02:11.426Z"
   },
   {
    "duration": 73,
    "start_time": "2023-01-30T17:02:14.037Z"
   },
   {
    "duration": 54,
    "start_time": "2023-01-30T17:02:19.617Z"
   },
   {
    "duration": 752,
    "start_time": "2023-01-30T17:02:27.947Z"
   },
   {
    "duration": 507,
    "start_time": "2023-01-30T17:02:28.701Z"
   },
   {
    "duration": 75,
    "start_time": "2023-01-30T17:02:29.210Z"
   },
   {
    "duration": 62,
    "start_time": "2023-01-30T17:02:29.288Z"
   },
   {
    "duration": 7,
    "start_time": "2023-01-30T17:02:29.353Z"
   },
   {
    "duration": 13,
    "start_time": "2023-01-30T17:02:29.361Z"
   },
   {
    "duration": 8,
    "start_time": "2023-01-30T17:02:29.376Z"
   },
   {
    "duration": 11,
    "start_time": "2023-01-30T17:02:29.385Z"
   },
   {
    "duration": 18,
    "start_time": "2023-01-30T17:02:29.398Z"
   },
   {
    "duration": 15,
    "start_time": "2023-01-30T17:02:29.437Z"
   },
   {
    "duration": 16,
    "start_time": "2023-01-30T17:02:29.453Z"
   },
   {
    "duration": 14,
    "start_time": "2023-01-30T17:02:29.471Z"
   },
   {
    "duration": 221,
    "start_time": "2023-01-30T17:02:29.487Z"
   },
   {
    "duration": 160,
    "start_time": "2023-01-30T17:02:29.711Z"
   },
   {
    "duration": 8,
    "start_time": "2023-01-30T17:02:29.873Z"
   },
   {
    "duration": 311,
    "start_time": "2023-01-30T17:02:29.883Z"
   },
   {
    "duration": 210,
    "start_time": "2023-01-30T17:02:30.196Z"
   },
   {
    "duration": 335,
    "start_time": "2023-01-30T17:02:30.408Z"
   },
   {
    "duration": 237,
    "start_time": "2023-01-30T17:02:30.745Z"
   },
   {
    "duration": 368,
    "start_time": "2023-01-30T17:02:30.984Z"
   },
   {
    "duration": 9,
    "start_time": "2023-01-30T17:02:31.355Z"
   },
   {
    "duration": 149,
    "start_time": "2023-01-30T17:02:31.367Z"
   },
   {
    "duration": 10,
    "start_time": "2023-01-30T17:02:31.518Z"
   },
   {
    "duration": 15,
    "start_time": "2023-01-30T17:02:31.536Z"
   },
   {
    "duration": 21,
    "start_time": "2023-01-30T17:02:31.554Z"
   },
   {
    "duration": 154,
    "start_time": "2023-01-30T17:02:31.577Z"
   },
   {
    "duration": 6,
    "start_time": "2023-01-30T17:02:31.733Z"
   },
   {
    "duration": 7,
    "start_time": "2023-01-30T17:02:31.741Z"
   },
   {
    "duration": 13,
    "start_time": "2023-01-30T17:02:31.750Z"
   },
   {
    "duration": 60,
    "start_time": "2023-01-30T17:02:31.765Z"
   },
   {
    "duration": 23,
    "start_time": "2023-01-30T17:02:31.828Z"
   },
   {
    "duration": 54,
    "start_time": "2023-01-30T17:02:31.853Z"
   },
   {
    "duration": 30,
    "start_time": "2023-01-30T17:02:31.908Z"
   },
   {
    "duration": 56,
    "start_time": "2023-01-30T17:02:31.940Z"
   },
   {
    "duration": 21,
    "start_time": "2023-01-30T17:02:31.998Z"
   },
   {
    "duration": 60,
    "start_time": "2023-01-30T17:02:32.021Z"
   },
   {
    "duration": 27,
    "start_time": "2023-01-30T17:02:32.084Z"
   },
   {
    "duration": 87,
    "start_time": "2023-01-30T17:02:32.113Z"
   },
   {
    "duration": 107,
    "start_time": "2023-01-30T17:02:32.201Z"
   },
   {
    "duration": 14,
    "start_time": "2023-01-30T17:02:32.310Z"
   },
   {
    "duration": 45,
    "start_time": "2023-01-30T17:02:32.327Z"
   },
   {
    "duration": 49,
    "start_time": "2023-01-30T17:02:32.374Z"
   },
   {
    "duration": 6,
    "start_time": "2023-01-30T17:02:32.426Z"
   },
   {
    "duration": 38,
    "start_time": "2023-01-30T17:02:32.434Z"
   },
   {
    "duration": 15,
    "start_time": "2023-01-30T17:02:32.474Z"
   },
   {
    "duration": 33,
    "start_time": "2023-01-30T17:02:32.491Z"
   },
   {
    "duration": 19,
    "start_time": "2023-01-30T17:02:32.526Z"
   },
   {
    "duration": 27,
    "start_time": "2023-01-30T17:02:32.547Z"
   },
   {
    "duration": 19,
    "start_time": "2023-01-30T17:02:32.576Z"
   },
   {
    "duration": 27,
    "start_time": "2023-01-30T17:02:32.597Z"
   },
   {
    "duration": 54,
    "start_time": "2023-01-30T17:02:32.626Z"
   },
   {
    "duration": 23,
    "start_time": "2023-01-30T17:02:32.682Z"
   },
   {
    "duration": 25,
    "start_time": "2023-01-30T17:02:32.707Z"
   },
   {
    "duration": 22,
    "start_time": "2023-01-30T17:02:32.734Z"
   },
   {
    "duration": 4,
    "start_time": "2023-01-30T17:03:19.747Z"
   },
   {
    "duration": 680,
    "start_time": "2023-01-30T17:03:30.584Z"
   },
   {
    "duration": 469,
    "start_time": "2023-01-30T17:03:31.266Z"
   },
   {
    "duration": 76,
    "start_time": "2023-01-30T17:03:31.737Z"
   },
   {
    "duration": 59,
    "start_time": "2023-01-30T17:03:31.816Z"
   },
   {
    "duration": 6,
    "start_time": "2023-01-30T17:03:31.877Z"
   },
   {
    "duration": 5,
    "start_time": "2023-01-30T17:03:31.885Z"
   },
   {
    "duration": 5,
    "start_time": "2023-01-30T17:03:31.892Z"
   },
   {
    "duration": 44,
    "start_time": "2023-01-30T17:03:31.899Z"
   },
   {
    "duration": 17,
    "start_time": "2023-01-30T17:03:31.945Z"
   },
   {
    "duration": 13,
    "start_time": "2023-01-30T17:03:31.965Z"
   },
   {
    "duration": 18,
    "start_time": "2023-01-30T17:03:31.979Z"
   },
   {
    "duration": 7,
    "start_time": "2023-01-30T17:03:31.999Z"
   },
   {
    "duration": 220,
    "start_time": "2023-01-30T17:03:32.008Z"
   },
   {
    "duration": 134,
    "start_time": "2023-01-30T17:03:32.230Z"
   },
   {
    "duration": 6,
    "start_time": "2023-01-30T17:03:32.366Z"
   },
   {
    "duration": 297,
    "start_time": "2023-01-30T17:03:32.374Z"
   },
   {
    "duration": 205,
    "start_time": "2023-01-30T17:03:32.673Z"
   },
   {
    "duration": 307,
    "start_time": "2023-01-30T17:03:32.880Z"
   },
   {
    "duration": 237,
    "start_time": "2023-01-30T17:03:33.189Z"
   },
   {
    "duration": 315,
    "start_time": "2023-01-30T17:03:33.428Z"
   },
   {
    "duration": 7,
    "start_time": "2023-01-30T17:03:33.745Z"
   },
   {
    "duration": 146,
    "start_time": "2023-01-30T17:03:33.754Z"
   },
   {
    "duration": 8,
    "start_time": "2023-01-30T17:03:33.902Z"
   },
   {
    "duration": 31,
    "start_time": "2023-01-30T17:03:33.912Z"
   },
   {
    "duration": 22,
    "start_time": "2023-01-30T17:03:33.945Z"
   },
   {
    "duration": 171,
    "start_time": "2023-01-30T17:03:33.969Z"
   },
   {
    "duration": 5,
    "start_time": "2023-01-30T17:03:34.142Z"
   },
   {
    "duration": 20,
    "start_time": "2023-01-30T17:03:34.150Z"
   },
   {
    "duration": 34,
    "start_time": "2023-01-30T17:03:34.172Z"
   },
   {
    "duration": 59,
    "start_time": "2023-01-30T17:03:34.208Z"
   },
   {
    "duration": 36,
    "start_time": "2023-01-30T17:03:34.268Z"
   },
   {
    "duration": 65,
    "start_time": "2023-01-30T17:03:34.306Z"
   },
   {
    "duration": 59,
    "start_time": "2023-01-30T17:03:34.372Z"
   },
   {
    "duration": 70,
    "start_time": "2023-01-30T17:03:34.433Z"
   },
   {
    "duration": 32,
    "start_time": "2023-01-30T17:03:34.505Z"
   },
   {
    "duration": 88,
    "start_time": "2023-01-30T17:03:34.539Z"
   },
   {
    "duration": 52,
    "start_time": "2023-01-30T17:03:34.628Z"
   },
   {
    "duration": 104,
    "start_time": "2023-01-30T17:03:34.681Z"
   },
   {
    "duration": 77,
    "start_time": "2023-01-30T17:03:34.786Z"
   },
   {
    "duration": 6,
    "start_time": "2023-01-30T17:03:34.866Z"
   },
   {
    "duration": 19,
    "start_time": "2023-01-30T17:03:34.874Z"
   },
   {
    "duration": 69,
    "start_time": "2023-01-30T17:03:34.896Z"
   },
   {
    "duration": 14,
    "start_time": "2023-01-30T17:03:34.967Z"
   },
   {
    "duration": 18,
    "start_time": "2023-01-30T17:03:34.983Z"
   },
   {
    "duration": 30,
    "start_time": "2023-01-30T17:03:35.003Z"
   },
   {
    "duration": 22,
    "start_time": "2023-01-30T17:03:35.035Z"
   },
   {
    "duration": 34,
    "start_time": "2023-01-30T17:03:35.059Z"
   },
   {
    "duration": 21,
    "start_time": "2023-01-30T17:03:35.095Z"
   },
   {
    "duration": 14,
    "start_time": "2023-01-30T17:03:35.118Z"
   },
   {
    "duration": 27,
    "start_time": "2023-01-30T17:03:35.134Z"
   },
   {
    "duration": 49,
    "start_time": "2023-01-30T17:03:35.163Z"
   },
   {
    "duration": 5,
    "start_time": "2023-01-30T17:03:35.214Z"
   },
   {
    "duration": 30,
    "start_time": "2023-01-30T17:03:35.220Z"
   },
   {
    "duration": 30,
    "start_time": "2023-01-30T17:03:35.252Z"
   },
   {
    "duration": 697,
    "start_time": "2023-01-30T17:04:38.248Z"
   },
   {
    "duration": 485,
    "start_time": "2023-01-30T17:04:38.946Z"
   },
   {
    "duration": 5,
    "start_time": "2023-01-30T17:04:39.433Z"
   },
   {
    "duration": 86,
    "start_time": "2023-01-30T17:04:39.439Z"
   },
   {
    "duration": 54,
    "start_time": "2023-01-30T17:04:39.527Z"
   },
   {
    "duration": 7,
    "start_time": "2023-01-30T17:04:39.583Z"
   },
   {
    "duration": 9,
    "start_time": "2023-01-30T17:04:39.591Z"
   },
   {
    "duration": 5,
    "start_time": "2023-01-30T17:04:39.602Z"
   },
   {
    "duration": 7,
    "start_time": "2023-01-30T17:04:39.637Z"
   },
   {
    "duration": 17,
    "start_time": "2023-01-30T17:04:39.646Z"
   },
   {
    "duration": 14,
    "start_time": "2023-01-30T17:04:39.664Z"
   },
   {
    "duration": 18,
    "start_time": "2023-01-30T17:04:39.680Z"
   },
   {
    "duration": 37,
    "start_time": "2023-01-30T17:04:39.700Z"
   },
   {
    "duration": 187,
    "start_time": "2023-01-30T17:04:39.741Z"
   },
   {
    "duration": 121,
    "start_time": "2023-01-30T17:04:39.930Z"
   },
   {
    "duration": 7,
    "start_time": "2023-01-30T17:04:40.053Z"
   },
   {
    "duration": 287,
    "start_time": "2023-01-30T17:04:40.062Z"
   },
   {
    "duration": 203,
    "start_time": "2023-01-30T17:04:40.351Z"
   },
   {
    "duration": 297,
    "start_time": "2023-01-30T17:04:40.556Z"
   },
   {
    "duration": 234,
    "start_time": "2023-01-30T17:04:40.855Z"
   },
   {
    "duration": 357,
    "start_time": "2023-01-30T17:04:41.091Z"
   },
   {
    "duration": 7,
    "start_time": "2023-01-30T17:04:41.450Z"
   },
   {
    "duration": 130,
    "start_time": "2023-01-30T17:04:41.459Z"
   },
   {
    "duration": 9,
    "start_time": "2023-01-30T17:04:41.591Z"
   },
   {
    "duration": 8,
    "start_time": "2023-01-30T17:04:41.601Z"
   },
   {
    "duration": 33,
    "start_time": "2023-01-30T17:04:41.611Z"
   },
   {
    "duration": 146,
    "start_time": "2023-01-30T17:04:41.646Z"
   },
   {
    "duration": 5,
    "start_time": "2023-01-30T17:04:41.794Z"
   },
   {
    "duration": 8,
    "start_time": "2023-01-30T17:04:41.800Z"
   },
   {
    "duration": 10,
    "start_time": "2023-01-30T17:04:41.810Z"
   },
   {
    "duration": 56,
    "start_time": "2023-01-30T17:04:41.822Z"
   },
   {
    "duration": 9,
    "start_time": "2023-01-30T17:04:41.880Z"
   },
   {
    "duration": 53,
    "start_time": "2023-01-30T17:04:41.891Z"
   },
   {
    "duration": 16,
    "start_time": "2023-01-30T17:04:41.946Z"
   },
   {
    "duration": 54,
    "start_time": "2023-01-30T17:04:41.963Z"
   },
   {
    "duration": 33,
    "start_time": "2023-01-30T17:04:42.019Z"
   },
   {
    "duration": 47,
    "start_time": "2023-01-30T17:04:42.053Z"
   },
   {
    "duration": 23,
    "start_time": "2023-01-30T17:04:42.102Z"
   },
   {
    "duration": 78,
    "start_time": "2023-01-30T17:04:42.127Z"
   },
   {
    "duration": 86,
    "start_time": "2023-01-30T17:04:42.207Z"
   },
   {
    "duration": 5,
    "start_time": "2023-01-30T17:04:42.297Z"
   },
   {
    "duration": 6,
    "start_time": "2023-01-30T17:04:42.303Z"
   },
   {
    "duration": 31,
    "start_time": "2023-01-30T17:04:42.311Z"
   },
   {
    "duration": 4,
    "start_time": "2023-01-30T17:04:42.344Z"
   },
   {
    "duration": 13,
    "start_time": "2023-01-30T17:04:42.349Z"
   },
   {
    "duration": 7,
    "start_time": "2023-01-30T17:04:42.363Z"
   },
   {
    "duration": 18,
    "start_time": "2023-01-30T17:04:42.372Z"
   },
   {
    "duration": 11,
    "start_time": "2023-01-30T17:04:42.392Z"
   },
   {
    "duration": 6,
    "start_time": "2023-01-30T17:04:42.405Z"
   },
   {
    "duration": 7,
    "start_time": "2023-01-30T17:04:42.412Z"
   },
   {
    "duration": 6,
    "start_time": "2023-01-30T17:04:42.437Z"
   },
   {
    "duration": 25,
    "start_time": "2023-01-30T17:04:42.444Z"
   },
   {
    "duration": 7,
    "start_time": "2023-01-30T17:04:42.470Z"
   },
   {
    "duration": 21,
    "start_time": "2023-01-30T17:04:42.478Z"
   },
   {
    "duration": 12,
    "start_time": "2023-01-30T17:04:42.501Z"
   },
   {
    "duration": 1172,
    "start_time": "2023-01-30T17:06:32.431Z"
   },
   {
    "duration": 2,
    "start_time": "2023-01-30T17:06:33.605Z"
   },
   {
    "duration": 93,
    "start_time": "2023-01-30T17:06:33.609Z"
   },
   {
    "duration": 55,
    "start_time": "2023-01-30T17:06:33.704Z"
   },
   {
    "duration": 6,
    "start_time": "2023-01-30T17:06:33.761Z"
   },
   {
    "duration": 12,
    "start_time": "2023-01-30T17:06:33.768Z"
   },
   {
    "duration": 16,
    "start_time": "2023-01-30T17:06:33.781Z"
   },
   {
    "duration": 14,
    "start_time": "2023-01-30T17:06:33.799Z"
   },
   {
    "duration": 27,
    "start_time": "2023-01-30T17:06:33.815Z"
   },
   {
    "duration": 12,
    "start_time": "2023-01-30T17:06:33.845Z"
   },
   {
    "duration": 16,
    "start_time": "2023-01-30T17:06:33.859Z"
   },
   {
    "duration": 15,
    "start_time": "2023-01-30T17:06:33.876Z"
   },
   {
    "duration": 204,
    "start_time": "2023-01-30T17:06:33.893Z"
   },
   {
    "duration": 130,
    "start_time": "2023-01-30T17:06:34.099Z"
   },
   {
    "duration": 14,
    "start_time": "2023-01-30T17:06:34.236Z"
   },
   {
    "duration": 346,
    "start_time": "2023-01-30T17:06:34.252Z"
   },
   {
    "duration": 202,
    "start_time": "2023-01-30T17:06:34.601Z"
   },
   {
    "duration": 341,
    "start_time": "2023-01-30T17:06:34.805Z"
   },
   {
    "duration": 239,
    "start_time": "2023-01-30T17:06:35.147Z"
   },
   {
    "duration": 301,
    "start_time": "2023-01-30T17:06:35.387Z"
   },
   {
    "duration": 7,
    "start_time": "2023-01-30T17:06:35.690Z"
   },
   {
    "duration": 141,
    "start_time": "2023-01-30T17:06:35.698Z"
   },
   {
    "duration": 8,
    "start_time": "2023-01-30T17:06:35.841Z"
   },
   {
    "duration": 13,
    "start_time": "2023-01-30T17:06:35.851Z"
   },
   {
    "duration": 19,
    "start_time": "2023-01-30T17:06:35.866Z"
   },
   {
    "duration": 133,
    "start_time": "2023-01-30T17:06:35.887Z"
   },
   {
    "duration": 5,
    "start_time": "2023-01-30T17:06:36.022Z"
   },
   {
    "duration": 5,
    "start_time": "2023-01-30T17:06:36.038Z"
   },
   {
    "duration": 21,
    "start_time": "2023-01-30T17:06:36.045Z"
   },
   {
    "duration": 54,
    "start_time": "2023-01-30T17:06:36.068Z"
   },
   {
    "duration": 18,
    "start_time": "2023-01-30T17:06:36.124Z"
   },
   {
    "duration": 53,
    "start_time": "2023-01-30T17:06:36.144Z"
   },
   {
    "duration": 26,
    "start_time": "2023-01-30T17:06:36.199Z"
   },
   {
    "duration": 50,
    "start_time": "2023-01-30T17:06:36.226Z"
   },
   {
    "duration": 14,
    "start_time": "2023-01-30T17:06:36.278Z"
   },
   {
    "duration": 69,
    "start_time": "2023-01-30T17:06:36.294Z"
   },
   {
    "duration": 33,
    "start_time": "2023-01-30T17:06:36.364Z"
   },
   {
    "duration": 84,
    "start_time": "2023-01-30T17:06:36.399Z"
   },
   {
    "duration": 89,
    "start_time": "2023-01-30T17:06:36.485Z"
   },
   {
    "duration": 4,
    "start_time": "2023-01-30T17:06:36.576Z"
   },
   {
    "duration": 8,
    "start_time": "2023-01-30T17:06:36.582Z"
   },
   {
    "duration": 35,
    "start_time": "2023-01-30T17:06:36.591Z"
   },
   {
    "duration": 10,
    "start_time": "2023-01-30T17:06:36.627Z"
   },
   {
    "duration": 8,
    "start_time": "2023-01-30T17:06:36.639Z"
   },
   {
    "duration": 6,
    "start_time": "2023-01-30T17:06:36.649Z"
   },
   {
    "duration": 17,
    "start_time": "2023-01-30T17:06:36.656Z"
   },
   {
    "duration": 8,
    "start_time": "2023-01-30T17:06:36.675Z"
   },
   {
    "duration": 12,
    "start_time": "2023-01-30T17:06:36.684Z"
   },
   {
    "duration": 10,
    "start_time": "2023-01-30T17:06:36.698Z"
   },
   {
    "duration": 5,
    "start_time": "2023-01-30T17:06:36.710Z"
   },
   {
    "duration": 32,
    "start_time": "2023-01-30T17:06:36.717Z"
   },
   {
    "duration": 4,
    "start_time": "2023-01-30T17:06:36.751Z"
   },
   {
    "duration": 15,
    "start_time": "2023-01-30T17:06:36.756Z"
   },
   {
    "duration": 9,
    "start_time": "2023-01-30T17:06:36.772Z"
   },
   {
    "duration": 72,
    "start_time": "2023-01-30T17:07:30.967Z"
   },
   {
    "duration": 80,
    "start_time": "2023-01-30T17:16:51.728Z"
   },
   {
    "duration": 1288,
    "start_time": "2023-01-31T13:23:32.474Z"
   },
   {
    "duration": 2,
    "start_time": "2023-01-31T13:23:33.765Z"
   },
   {
    "duration": 266,
    "start_time": "2023-01-31T13:23:33.769Z"
   },
   {
    "duration": 80,
    "start_time": "2023-01-31T13:23:34.037Z"
   },
   {
    "duration": 6,
    "start_time": "2023-01-31T13:23:34.121Z"
   },
   {
    "duration": 22,
    "start_time": "2023-01-31T13:23:34.130Z"
   },
   {
    "duration": 9,
    "start_time": "2023-01-31T13:23:34.154Z"
   },
   {
    "duration": 16,
    "start_time": "2023-01-31T13:23:34.165Z"
   },
   {
    "duration": 34,
    "start_time": "2023-01-31T13:23:34.183Z"
   },
   {
    "duration": 35,
    "start_time": "2023-01-31T13:23:34.219Z"
   },
   {
    "duration": 18,
    "start_time": "2023-01-31T13:23:34.256Z"
   },
   {
    "duration": 11,
    "start_time": "2023-01-31T13:23:34.277Z"
   },
   {
    "duration": 205,
    "start_time": "2023-01-31T13:23:34.290Z"
   },
   {
    "duration": 121,
    "start_time": "2023-01-31T13:23:34.502Z"
   },
   {
    "duration": 7,
    "start_time": "2023-01-31T13:23:34.625Z"
   },
   {
    "duration": 282,
    "start_time": "2023-01-31T13:23:34.633Z"
   },
   {
    "duration": 194,
    "start_time": "2023-01-31T13:23:34.917Z"
   },
   {
    "duration": 330,
    "start_time": "2023-01-31T13:23:35.113Z"
   },
   {
    "duration": 214,
    "start_time": "2023-01-31T13:23:35.444Z"
   },
   {
    "duration": 323,
    "start_time": "2023-01-31T13:23:35.659Z"
   },
   {
    "duration": 28,
    "start_time": "2023-01-31T13:23:35.984Z"
   },
   {
    "duration": 115,
    "start_time": "2023-01-31T13:23:36.014Z"
   },
   {
    "duration": 8,
    "start_time": "2023-01-31T13:23:36.130Z"
   },
   {
    "duration": 8,
    "start_time": "2023-01-31T13:23:36.139Z"
   },
   {
    "duration": 11,
    "start_time": "2023-01-31T13:23:36.149Z"
   },
   {
    "duration": 146,
    "start_time": "2023-01-31T13:23:36.161Z"
   },
   {
    "duration": 4,
    "start_time": "2023-01-31T13:23:36.309Z"
   },
   {
    "duration": 9,
    "start_time": "2023-01-31T13:23:36.315Z"
   },
   {
    "duration": 10,
    "start_time": "2023-01-31T13:23:36.325Z"
   },
   {
    "duration": 54,
    "start_time": "2023-01-31T13:23:36.336Z"
   },
   {
    "duration": 20,
    "start_time": "2023-01-31T13:23:36.393Z"
   },
   {
    "duration": 55,
    "start_time": "2023-01-31T13:23:36.414Z"
   },
   {
    "duration": 18,
    "start_time": "2023-01-31T13:23:36.471Z"
   },
   {
    "duration": 60,
    "start_time": "2023-01-31T13:23:36.491Z"
   },
   {
    "duration": 19,
    "start_time": "2023-01-31T13:23:36.553Z"
   },
   {
    "duration": 47,
    "start_time": "2023-01-31T13:23:36.574Z"
   },
   {
    "duration": 18,
    "start_time": "2023-01-31T13:23:36.622Z"
   },
   {
    "duration": 79,
    "start_time": "2023-01-31T13:23:36.642Z"
   },
   {
    "duration": 93,
    "start_time": "2023-01-31T13:23:36.723Z"
   },
   {
    "duration": 5,
    "start_time": "2023-01-31T13:23:36.817Z"
   },
   {
    "duration": 17,
    "start_time": "2023-01-31T13:23:36.825Z"
   },
   {
    "duration": 26,
    "start_time": "2023-01-31T13:23:36.843Z"
   },
   {
    "duration": 3,
    "start_time": "2023-01-31T13:23:36.871Z"
   },
   {
    "duration": 10,
    "start_time": "2023-01-31T13:23:36.876Z"
   },
   {
    "duration": 19,
    "start_time": "2023-01-31T13:23:36.887Z"
   },
   {
    "duration": 12,
    "start_time": "2023-01-31T13:23:36.908Z"
   },
   {
    "duration": 9,
    "start_time": "2023-01-31T13:23:36.922Z"
   },
   {
    "duration": 13,
    "start_time": "2023-01-31T13:23:36.933Z"
   },
   {
    "duration": 8,
    "start_time": "2023-01-31T13:23:36.948Z"
   },
   {
    "duration": 8,
    "start_time": "2023-01-31T13:23:36.957Z"
   },
   {
    "duration": 36,
    "start_time": "2023-01-31T13:23:36.967Z"
   },
   {
    "duration": 5,
    "start_time": "2023-01-31T13:23:37.006Z"
   },
   {
    "duration": 14,
    "start_time": "2023-01-31T13:23:37.013Z"
   },
   {
    "duration": 9,
    "start_time": "2023-01-31T13:23:37.028Z"
   },
   {
    "duration": 53,
    "start_time": "2023-01-31T13:29:36.506Z"
   },
   {
    "duration": 1181,
    "start_time": "2023-01-31T13:29:43.183Z"
   },
   {
    "duration": 3,
    "start_time": "2023-01-31T13:29:44.365Z"
   },
   {
    "duration": 84,
    "start_time": "2023-01-31T13:29:44.370Z"
   },
   {
    "duration": 54,
    "start_time": "2023-01-31T13:29:44.456Z"
   },
   {
    "duration": 5,
    "start_time": "2023-01-31T13:29:44.512Z"
   },
   {
    "duration": 19,
    "start_time": "2023-01-31T13:29:44.519Z"
   },
   {
    "duration": 21,
    "start_time": "2023-01-31T13:29:44.539Z"
   },
   {
    "duration": 39,
    "start_time": "2023-01-31T13:29:44.561Z"
   },
   {
    "duration": 45,
    "start_time": "2023-01-31T13:29:44.611Z"
   },
   {
    "duration": 0,
    "start_time": "2023-01-31T13:29:44.659Z"
   },
   {
    "duration": 0,
    "start_time": "2023-01-31T13:29:44.660Z"
   },
   {
    "duration": 0,
    "start_time": "2023-01-31T13:29:44.661Z"
   },
   {
    "duration": 0,
    "start_time": "2023-01-31T13:29:44.662Z"
   },
   {
    "duration": 0,
    "start_time": "2023-01-31T13:29:44.664Z"
   },
   {
    "duration": 0,
    "start_time": "2023-01-31T13:29:44.665Z"
   },
   {
    "duration": 0,
    "start_time": "2023-01-31T13:29:44.667Z"
   },
   {
    "duration": 0,
    "start_time": "2023-01-31T13:29:44.668Z"
   },
   {
    "duration": 0,
    "start_time": "2023-01-31T13:29:44.670Z"
   },
   {
    "duration": 0,
    "start_time": "2023-01-31T13:29:44.671Z"
   },
   {
    "duration": 0,
    "start_time": "2023-01-31T13:29:44.672Z"
   },
   {
    "duration": 0,
    "start_time": "2023-01-31T13:29:44.673Z"
   },
   {
    "duration": 0,
    "start_time": "2023-01-31T13:29:44.674Z"
   },
   {
    "duration": 0,
    "start_time": "2023-01-31T13:29:44.675Z"
   },
   {
    "duration": 0,
    "start_time": "2023-01-31T13:29:44.677Z"
   },
   {
    "duration": 0,
    "start_time": "2023-01-31T13:29:44.678Z"
   },
   {
    "duration": 0,
    "start_time": "2023-01-31T13:29:44.679Z"
   },
   {
    "duration": 0,
    "start_time": "2023-01-31T13:29:44.681Z"
   },
   {
    "duration": 0,
    "start_time": "2023-01-31T13:29:44.682Z"
   },
   {
    "duration": 0,
    "start_time": "2023-01-31T13:29:44.683Z"
   },
   {
    "duration": 0,
    "start_time": "2023-01-31T13:29:44.685Z"
   },
   {
    "duration": 0,
    "start_time": "2023-01-31T13:29:44.686Z"
   },
   {
    "duration": 0,
    "start_time": "2023-01-31T13:29:44.687Z"
   },
   {
    "duration": 0,
    "start_time": "2023-01-31T13:29:44.688Z"
   },
   {
    "duration": 0,
    "start_time": "2023-01-31T13:29:44.689Z"
   },
   {
    "duration": 0,
    "start_time": "2023-01-31T13:29:44.690Z"
   },
   {
    "duration": 0,
    "start_time": "2023-01-31T13:29:44.690Z"
   },
   {
    "duration": 0,
    "start_time": "2023-01-31T13:29:44.695Z"
   },
   {
    "duration": 0,
    "start_time": "2023-01-31T13:29:44.696Z"
   },
   {
    "duration": 0,
    "start_time": "2023-01-31T13:29:44.697Z"
   },
   {
    "duration": 0,
    "start_time": "2023-01-31T13:29:44.699Z"
   },
   {
    "duration": 0,
    "start_time": "2023-01-31T13:29:44.700Z"
   },
   {
    "duration": 0,
    "start_time": "2023-01-31T13:29:44.711Z"
   },
   {
    "duration": 0,
    "start_time": "2023-01-31T13:29:44.712Z"
   },
   {
    "duration": 0,
    "start_time": "2023-01-31T13:29:44.714Z"
   },
   {
    "duration": 0,
    "start_time": "2023-01-31T13:29:44.715Z"
   },
   {
    "duration": 0,
    "start_time": "2023-01-31T13:29:44.716Z"
   },
   {
    "duration": 0,
    "start_time": "2023-01-31T13:29:44.717Z"
   },
   {
    "duration": 0,
    "start_time": "2023-01-31T13:29:44.717Z"
   },
   {
    "duration": 0,
    "start_time": "2023-01-31T13:29:44.718Z"
   },
   {
    "duration": 0,
    "start_time": "2023-01-31T13:29:44.718Z"
   },
   {
    "duration": 0,
    "start_time": "2023-01-31T13:29:44.720Z"
   },
   {
    "duration": 0,
    "start_time": "2023-01-31T13:29:44.721Z"
   },
   {
    "duration": 0,
    "start_time": "2023-01-31T13:29:44.722Z"
   },
   {
    "duration": 0,
    "start_time": "2023-01-31T13:29:44.724Z"
   },
   {
    "duration": 0,
    "start_time": "2023-01-31T13:29:44.725Z"
   },
   {
    "duration": 65,
    "start_time": "2023-01-31T13:30:41.584Z"
   },
   {
    "duration": 57,
    "start_time": "2023-01-31T13:31:09.267Z"
   },
   {
    "duration": 45,
    "start_time": "2023-01-31T13:31:17.606Z"
   },
   {
    "duration": 877,
    "start_time": "2023-01-31T13:31:25.114Z"
   },
   {
    "duration": 8,
    "start_time": "2023-01-31T13:31:58.574Z"
   },
   {
    "duration": 1133,
    "start_time": "2023-01-31T14:26:59.635Z"
   },
   {
    "duration": 6,
    "start_time": "2023-01-31T14:27:00.770Z"
   },
   {
    "duration": 80,
    "start_time": "2023-01-31T14:27:00.777Z"
   },
   {
    "duration": 64,
    "start_time": "2023-01-31T14:27:00.859Z"
   },
   {
    "duration": 6,
    "start_time": "2023-01-31T14:27:00.925Z"
   },
   {
    "duration": 15,
    "start_time": "2023-01-31T14:27:00.932Z"
   },
   {
    "duration": 40,
    "start_time": "2023-01-31T14:27:00.949Z"
   },
   {
    "duration": 19,
    "start_time": "2023-01-31T14:27:00.990Z"
   },
   {
    "duration": 26,
    "start_time": "2023-01-31T14:27:01.010Z"
   },
   {
    "duration": 25,
    "start_time": "2023-01-31T14:27:01.038Z"
   },
   {
    "duration": 56,
    "start_time": "2023-01-31T14:27:01.065Z"
   },
   {
    "duration": 50,
    "start_time": "2023-01-31T14:27:01.123Z"
   },
   {
    "duration": 40,
    "start_time": "2023-01-31T14:27:01.175Z"
   },
   {
    "duration": 234,
    "start_time": "2023-01-31T14:27:01.218Z"
   },
   {
    "duration": 128,
    "start_time": "2023-01-31T14:27:01.454Z"
   },
   {
    "duration": 15,
    "start_time": "2023-01-31T14:27:01.584Z"
   },
   {
    "duration": 308,
    "start_time": "2023-01-31T14:27:01.601Z"
   },
   {
    "duration": 189,
    "start_time": "2023-01-31T14:27:01.910Z"
   },
   {
    "duration": 322,
    "start_time": "2023-01-31T14:27:02.100Z"
   },
   {
    "duration": 217,
    "start_time": "2023-01-31T14:27:02.424Z"
   },
   {
    "duration": 304,
    "start_time": "2023-01-31T14:27:02.642Z"
   },
   {
    "duration": 7,
    "start_time": "2023-01-31T14:27:02.947Z"
   },
   {
    "duration": 122,
    "start_time": "2023-01-31T14:27:02.955Z"
   },
   {
    "duration": 8,
    "start_time": "2023-01-31T14:27:03.078Z"
   },
   {
    "duration": 21,
    "start_time": "2023-01-31T14:27:03.087Z"
   },
   {
    "duration": 32,
    "start_time": "2023-01-31T14:27:03.110Z"
   },
   {
    "duration": 116,
    "start_time": "2023-01-31T14:27:03.144Z"
   },
   {
    "duration": 6,
    "start_time": "2023-01-31T14:27:03.262Z"
   },
   {
    "duration": 7,
    "start_time": "2023-01-31T14:27:03.269Z"
   },
   {
    "duration": 6,
    "start_time": "2023-01-31T14:27:03.277Z"
   },
   {
    "duration": 66,
    "start_time": "2023-01-31T14:27:03.285Z"
   },
   {
    "duration": 10,
    "start_time": "2023-01-31T14:27:03.353Z"
   },
   {
    "duration": 52,
    "start_time": "2023-01-31T14:27:03.365Z"
   },
   {
    "duration": 19,
    "start_time": "2023-01-31T14:27:03.419Z"
   },
   {
    "duration": 46,
    "start_time": "2023-01-31T14:27:03.439Z"
   },
   {
    "duration": 26,
    "start_time": "2023-01-31T14:27:03.487Z"
   },
   {
    "duration": 61,
    "start_time": "2023-01-31T14:27:03.515Z"
   },
   {
    "duration": 31,
    "start_time": "2023-01-31T14:27:03.577Z"
   },
   {
    "duration": 76,
    "start_time": "2023-01-31T14:27:03.610Z"
   },
   {
    "duration": 88,
    "start_time": "2023-01-31T14:27:03.688Z"
   },
   {
    "duration": 5,
    "start_time": "2023-01-31T14:27:03.779Z"
   },
   {
    "duration": 20,
    "start_time": "2023-01-31T14:27:03.794Z"
   },
   {
    "duration": 31,
    "start_time": "2023-01-31T14:27:03.816Z"
   },
   {
    "duration": 5,
    "start_time": "2023-01-31T14:27:03.849Z"
   },
   {
    "duration": 23,
    "start_time": "2023-01-31T14:27:03.856Z"
   },
   {
    "duration": 6,
    "start_time": "2023-01-31T14:27:03.880Z"
   },
   {
    "duration": 16,
    "start_time": "2023-01-31T14:27:03.888Z"
   },
   {
    "duration": 12,
    "start_time": "2023-01-31T14:27:03.907Z"
   },
   {
    "duration": 8,
    "start_time": "2023-01-31T14:27:03.921Z"
   },
   {
    "duration": 21,
    "start_time": "2023-01-31T14:27:03.931Z"
   },
   {
    "duration": 7,
    "start_time": "2023-01-31T14:27:03.954Z"
   },
   {
    "duration": 29,
    "start_time": "2023-01-31T14:27:03.962Z"
   },
   {
    "duration": 16,
    "start_time": "2023-01-31T14:27:03.993Z"
   },
   {
    "duration": 18,
    "start_time": "2023-01-31T14:27:04.011Z"
   },
   {
    "duration": 14,
    "start_time": "2023-01-31T14:27:04.031Z"
   },
   {
    "duration": 1088,
    "start_time": "2023-01-31T14:31:24.616Z"
   },
   {
    "duration": 3,
    "start_time": "2023-01-31T14:31:25.706Z"
   },
   {
    "duration": 97,
    "start_time": "2023-01-31T14:31:25.710Z"
   },
   {
    "duration": 53,
    "start_time": "2023-01-31T14:31:25.809Z"
   },
   {
    "duration": 6,
    "start_time": "2023-01-31T14:31:25.864Z"
   },
   {
    "duration": 32,
    "start_time": "2023-01-31T14:31:25.872Z"
   },
   {
    "duration": 19,
    "start_time": "2023-01-31T14:31:25.907Z"
   },
   {
    "duration": 9,
    "start_time": "2023-01-31T14:31:25.927Z"
   },
   {
    "duration": 6,
    "start_time": "2023-01-31T14:31:25.937Z"
   },
   {
    "duration": 9,
    "start_time": "2023-01-31T14:31:25.944Z"
   },
   {
    "duration": 891,
    "start_time": "2023-01-31T14:31:25.955Z"
   },
   {
    "duration": 0,
    "start_time": "2023-01-31T14:31:26.849Z"
   },
   {
    "duration": 0,
    "start_time": "2023-01-31T14:31:26.851Z"
   },
   {
    "duration": 0,
    "start_time": "2023-01-31T14:31:26.853Z"
   },
   {
    "duration": 0,
    "start_time": "2023-01-31T14:31:26.854Z"
   },
   {
    "duration": 0,
    "start_time": "2023-01-31T14:31:26.856Z"
   },
   {
    "duration": 0,
    "start_time": "2023-01-31T14:31:26.857Z"
   },
   {
    "duration": 0,
    "start_time": "2023-01-31T14:31:26.858Z"
   },
   {
    "duration": 0,
    "start_time": "2023-01-31T14:31:26.860Z"
   },
   {
    "duration": 0,
    "start_time": "2023-01-31T14:31:26.861Z"
   },
   {
    "duration": 0,
    "start_time": "2023-01-31T14:31:26.862Z"
   },
   {
    "duration": 0,
    "start_time": "2023-01-31T14:31:26.864Z"
   },
   {
    "duration": 0,
    "start_time": "2023-01-31T14:31:26.865Z"
   },
   {
    "duration": 0,
    "start_time": "2023-01-31T14:31:26.867Z"
   },
   {
    "duration": 0,
    "start_time": "2023-01-31T14:31:26.868Z"
   },
   {
    "duration": 0,
    "start_time": "2023-01-31T14:31:26.870Z"
   },
   {
    "duration": 0,
    "start_time": "2023-01-31T14:31:26.872Z"
   },
   {
    "duration": 0,
    "start_time": "2023-01-31T14:31:26.873Z"
   },
   {
    "duration": 0,
    "start_time": "2023-01-31T14:31:26.874Z"
   },
   {
    "duration": 0,
    "start_time": "2023-01-31T14:31:26.876Z"
   },
   {
    "duration": 0,
    "start_time": "2023-01-31T14:31:26.878Z"
   },
   {
    "duration": 0,
    "start_time": "2023-01-31T14:31:26.880Z"
   },
   {
    "duration": 0,
    "start_time": "2023-01-31T14:31:26.881Z"
   },
   {
    "duration": 0,
    "start_time": "2023-01-31T14:31:26.882Z"
   },
   {
    "duration": 1,
    "start_time": "2023-01-31T14:31:26.883Z"
   },
   {
    "duration": 0,
    "start_time": "2023-01-31T14:31:26.885Z"
   },
   {
    "duration": 0,
    "start_time": "2023-01-31T14:31:26.886Z"
   },
   {
    "duration": 0,
    "start_time": "2023-01-31T14:31:26.893Z"
   },
   {
    "duration": 0,
    "start_time": "2023-01-31T14:31:26.894Z"
   },
   {
    "duration": 0,
    "start_time": "2023-01-31T14:31:26.895Z"
   },
   {
    "duration": 0,
    "start_time": "2023-01-31T14:31:26.896Z"
   },
   {
    "duration": 0,
    "start_time": "2023-01-31T14:31:26.896Z"
   },
   {
    "duration": 0,
    "start_time": "2023-01-31T14:31:26.897Z"
   },
   {
    "duration": 0,
    "start_time": "2023-01-31T14:31:26.898Z"
   },
   {
    "duration": 0,
    "start_time": "2023-01-31T14:31:26.898Z"
   },
   {
    "duration": 0,
    "start_time": "2023-01-31T14:31:26.899Z"
   },
   {
    "duration": 0,
    "start_time": "2023-01-31T14:31:26.899Z"
   },
   {
    "duration": 0,
    "start_time": "2023-01-31T14:31:26.900Z"
   },
   {
    "duration": 0,
    "start_time": "2023-01-31T14:31:26.901Z"
   },
   {
    "duration": 0,
    "start_time": "2023-01-31T14:31:26.901Z"
   },
   {
    "duration": 0,
    "start_time": "2023-01-31T14:31:26.902Z"
   },
   {
    "duration": 0,
    "start_time": "2023-01-31T14:31:26.903Z"
   },
   {
    "duration": 0,
    "start_time": "2023-01-31T14:31:26.904Z"
   },
   {
    "duration": 0,
    "start_time": "2023-01-31T14:31:26.905Z"
   },
   {
    "duration": 0,
    "start_time": "2023-01-31T14:31:26.906Z"
   },
   {
    "duration": 0,
    "start_time": "2023-01-31T14:31:26.907Z"
   },
   {
    "duration": 0,
    "start_time": "2023-01-31T14:31:26.908Z"
   },
   {
    "duration": 10,
    "start_time": "2023-01-31T14:32:11.935Z"
   },
   {
    "duration": 15,
    "start_time": "2023-01-31T14:32:29.018Z"
   },
   {
    "duration": 15,
    "start_time": "2023-01-31T14:32:57.750Z"
   },
   {
    "duration": 1116,
    "start_time": "2023-01-31T14:33:03.642Z"
   },
   {
    "duration": 2,
    "start_time": "2023-01-31T14:33:04.760Z"
   },
   {
    "duration": 91,
    "start_time": "2023-01-31T14:33:04.764Z"
   },
   {
    "duration": 58,
    "start_time": "2023-01-31T14:33:04.856Z"
   },
   {
    "duration": 5,
    "start_time": "2023-01-31T14:33:04.917Z"
   },
   {
    "duration": 15,
    "start_time": "2023-01-31T14:33:04.924Z"
   },
   {
    "duration": 27,
    "start_time": "2023-01-31T14:33:04.941Z"
   },
   {
    "duration": 35,
    "start_time": "2023-01-31T14:33:04.969Z"
   },
   {
    "duration": 42,
    "start_time": "2023-01-31T14:33:05.006Z"
   },
   {
    "duration": 41,
    "start_time": "2023-01-31T14:33:05.050Z"
   },
   {
    "duration": 50,
    "start_time": "2023-01-31T14:33:05.093Z"
   },
   {
    "duration": 57,
    "start_time": "2023-01-31T14:33:05.145Z"
   },
   {
    "duration": 58,
    "start_time": "2023-01-31T14:33:05.205Z"
   },
   {
    "duration": 43,
    "start_time": "2023-01-31T14:33:05.266Z"
   },
   {
    "duration": 218,
    "start_time": "2023-01-31T14:33:05.310Z"
   },
   {
    "duration": 135,
    "start_time": "2023-01-31T14:33:05.530Z"
   },
   {
    "duration": 9,
    "start_time": "2023-01-31T14:33:05.667Z"
   },
   {
    "duration": 289,
    "start_time": "2023-01-31T14:33:05.677Z"
   },
   {
    "duration": 210,
    "start_time": "2023-01-31T14:33:05.968Z"
   },
   {
    "duration": 323,
    "start_time": "2023-01-31T14:33:06.180Z"
   },
   {
    "duration": 203,
    "start_time": "2023-01-31T14:33:06.505Z"
   },
   {
    "duration": 272,
    "start_time": "2023-01-31T14:33:06.710Z"
   },
   {
    "duration": 15,
    "start_time": "2023-01-31T14:33:06.984Z"
   },
   {
    "duration": 137,
    "start_time": "2023-01-31T14:33:07.001Z"
   },
   {
    "duration": 7,
    "start_time": "2023-01-31T14:33:07.140Z"
   },
   {
    "duration": 8,
    "start_time": "2023-01-31T14:33:07.148Z"
   },
   {
    "duration": 22,
    "start_time": "2023-01-31T14:33:07.157Z"
   },
   {
    "duration": 144,
    "start_time": "2023-01-31T14:33:07.181Z"
   },
   {
    "duration": 5,
    "start_time": "2023-01-31T14:33:07.327Z"
   },
   {
    "duration": 17,
    "start_time": "2023-01-31T14:33:07.333Z"
   },
   {
    "duration": 25,
    "start_time": "2023-01-31T14:33:07.351Z"
   },
   {
    "duration": 72,
    "start_time": "2023-01-31T14:33:07.378Z"
   },
   {
    "duration": 24,
    "start_time": "2023-01-31T14:33:07.452Z"
   },
   {
    "duration": 74,
    "start_time": "2023-01-31T14:33:07.478Z"
   },
   {
    "duration": 56,
    "start_time": "2023-01-31T14:33:07.554Z"
   },
   {
    "duration": 77,
    "start_time": "2023-01-31T14:33:07.611Z"
   },
   {
    "duration": 77,
    "start_time": "2023-01-31T14:33:07.690Z"
   },
   {
    "duration": 85,
    "start_time": "2023-01-31T14:33:07.768Z"
   },
   {
    "duration": 36,
    "start_time": "2023-01-31T14:33:07.855Z"
   },
   {
    "duration": 107,
    "start_time": "2023-01-31T14:33:07.892Z"
   },
   {
    "duration": 68,
    "start_time": "2023-01-31T14:33:08.009Z"
   },
   {
    "duration": 18,
    "start_time": "2023-01-31T14:33:08.079Z"
   },
   {
    "duration": 22,
    "start_time": "2023-01-31T14:33:08.099Z"
   },
   {
    "duration": 64,
    "start_time": "2023-01-31T14:33:08.123Z"
   },
   {
    "duration": 32,
    "start_time": "2023-01-31T14:33:08.189Z"
   },
   {
    "duration": 23,
    "start_time": "2023-01-31T14:33:08.223Z"
   },
   {
    "duration": 22,
    "start_time": "2023-01-31T14:33:08.248Z"
   },
   {
    "duration": 38,
    "start_time": "2023-01-31T14:33:08.271Z"
   },
   {
    "duration": 21,
    "start_time": "2023-01-31T14:33:08.310Z"
   },
   {
    "duration": 35,
    "start_time": "2023-01-31T14:33:08.335Z"
   },
   {
    "duration": 41,
    "start_time": "2023-01-31T14:33:08.372Z"
   },
   {
    "duration": 18,
    "start_time": "2023-01-31T14:33:08.415Z"
   },
   {
    "duration": 40,
    "start_time": "2023-01-31T14:33:08.435Z"
   },
   {
    "duration": 8,
    "start_time": "2023-01-31T14:33:08.477Z"
   },
   {
    "duration": 45,
    "start_time": "2023-01-31T14:33:08.486Z"
   },
   {
    "duration": 36,
    "start_time": "2023-01-31T14:33:08.533Z"
   },
   {
    "duration": 1163,
    "start_time": "2023-01-31T14:34:13.775Z"
   },
   {
    "duration": 2,
    "start_time": "2023-01-31T14:34:14.940Z"
   },
   {
    "duration": 143,
    "start_time": "2023-01-31T14:34:14.943Z"
   },
   {
    "duration": 60,
    "start_time": "2023-01-31T14:34:15.087Z"
   },
   {
    "duration": 6,
    "start_time": "2023-01-31T14:34:15.148Z"
   },
   {
    "duration": 17,
    "start_time": "2023-01-31T14:34:15.156Z"
   },
   {
    "duration": 69,
    "start_time": "2023-01-31T14:34:15.175Z"
   },
   {
    "duration": 66,
    "start_time": "2023-01-31T14:34:15.246Z"
   },
   {
    "duration": 35,
    "start_time": "2023-01-31T14:34:15.314Z"
   },
   {
    "duration": 65,
    "start_time": "2023-01-31T14:34:15.351Z"
   },
   {
    "duration": 30,
    "start_time": "2023-01-31T14:34:15.417Z"
   },
   {
    "duration": 41,
    "start_time": "2023-01-31T14:34:15.449Z"
   },
   {
    "duration": 52,
    "start_time": "2023-01-31T14:34:15.491Z"
   },
   {
    "duration": 42,
    "start_time": "2023-01-31T14:34:15.546Z"
   },
   {
    "duration": 244,
    "start_time": "2023-01-31T14:34:15.589Z"
   },
   {
    "duration": 117,
    "start_time": "2023-01-31T14:34:15.834Z"
   },
   {
    "duration": 7,
    "start_time": "2023-01-31T14:34:15.952Z"
   },
   {
    "duration": 285,
    "start_time": "2023-01-31T14:34:15.960Z"
   },
   {
    "duration": 205,
    "start_time": "2023-01-31T14:34:16.246Z"
   },
   {
    "duration": 320,
    "start_time": "2023-01-31T14:34:16.453Z"
   },
   {
    "duration": 197,
    "start_time": "2023-01-31T14:34:16.774Z"
   },
   {
    "duration": 335,
    "start_time": "2023-01-31T14:34:16.972Z"
   },
   {
    "duration": 8,
    "start_time": "2023-01-31T14:34:17.309Z"
   },
   {
    "duration": 160,
    "start_time": "2023-01-31T14:34:17.318Z"
   },
   {
    "duration": 20,
    "start_time": "2023-01-31T14:34:17.480Z"
   },
   {
    "duration": 9,
    "start_time": "2023-01-31T14:34:17.501Z"
   },
   {
    "duration": 26,
    "start_time": "2023-01-31T14:34:17.512Z"
   },
   {
    "duration": 123,
    "start_time": "2023-01-31T14:34:17.539Z"
   },
   {
    "duration": 4,
    "start_time": "2023-01-31T14:34:17.664Z"
   },
   {
    "duration": 42,
    "start_time": "2023-01-31T14:34:17.670Z"
   },
   {
    "duration": 31,
    "start_time": "2023-01-31T14:34:17.714Z"
   },
   {
    "duration": 103,
    "start_time": "2023-01-31T14:34:17.747Z"
   },
   {
    "duration": 26,
    "start_time": "2023-01-31T14:34:17.852Z"
   },
   {
    "duration": 87,
    "start_time": "2023-01-31T14:34:17.880Z"
   },
   {
    "duration": 51,
    "start_time": "2023-01-31T14:34:17.969Z"
   },
   {
    "duration": 100,
    "start_time": "2023-01-31T14:34:18.021Z"
   },
   {
    "duration": 54,
    "start_time": "2023-01-31T14:34:18.122Z"
   },
   {
    "duration": 76,
    "start_time": "2023-01-31T14:34:18.177Z"
   },
   {
    "duration": 37,
    "start_time": "2023-01-31T14:34:18.255Z"
   },
   {
    "duration": 84,
    "start_time": "2023-01-31T14:34:18.306Z"
   },
   {
    "duration": 76,
    "start_time": "2023-01-31T14:34:18.394Z"
   },
   {
    "duration": 40,
    "start_time": "2023-01-31T14:34:18.472Z"
   },
   {
    "duration": 24,
    "start_time": "2023-01-31T14:34:18.515Z"
   },
   {
    "duration": 68,
    "start_time": "2023-01-31T14:34:18.540Z"
   },
   {
    "duration": 12,
    "start_time": "2023-01-31T14:34:18.610Z"
   },
   {
    "duration": 50,
    "start_time": "2023-01-31T14:34:18.624Z"
   },
   {
    "duration": 36,
    "start_time": "2023-01-31T14:34:18.675Z"
   },
   {
    "duration": 23,
    "start_time": "2023-01-31T14:34:18.712Z"
   },
   {
    "duration": 39,
    "start_time": "2023-01-31T14:34:18.737Z"
   },
   {
    "duration": 29,
    "start_time": "2023-01-31T14:34:18.777Z"
   },
   {
    "duration": 15,
    "start_time": "2023-01-31T14:34:18.808Z"
   },
   {
    "duration": 28,
    "start_time": "2023-01-31T14:34:18.825Z"
   },
   {
    "duration": 50,
    "start_time": "2023-01-31T14:34:18.854Z"
   },
   {
    "duration": 4,
    "start_time": "2023-01-31T14:34:18.906Z"
   },
   {
    "duration": 22,
    "start_time": "2023-01-31T14:34:18.913Z"
   },
   {
    "duration": 15,
    "start_time": "2023-01-31T14:34:18.936Z"
   },
   {
    "duration": 44,
    "start_time": "2023-01-31T14:35:55.606Z"
   },
   {
    "duration": 52,
    "start_time": "2023-01-31T14:47:31.656Z"
   },
   {
    "duration": 43,
    "start_time": "2023-01-31T14:48:01.745Z"
   },
   {
    "duration": 5,
    "start_time": "2023-01-31T14:48:20.326Z"
   },
   {
    "duration": 4,
    "start_time": "2023-01-31T14:56:09.847Z"
   },
   {
    "duration": 1181,
    "start_time": "2023-01-31T14:56:16.119Z"
   },
   {
    "duration": 3,
    "start_time": "2023-01-31T14:56:17.302Z"
   },
   {
    "duration": 78,
    "start_time": "2023-01-31T14:56:17.308Z"
   },
   {
    "duration": 70,
    "start_time": "2023-01-31T14:56:17.388Z"
   },
   {
    "duration": 5,
    "start_time": "2023-01-31T14:56:17.460Z"
   },
   {
    "duration": 29,
    "start_time": "2023-01-31T14:56:17.466Z"
   },
   {
    "duration": 11,
    "start_time": "2023-01-31T14:56:17.496Z"
   },
   {
    "duration": 21,
    "start_time": "2023-01-31T14:56:17.508Z"
   },
   {
    "duration": 11,
    "start_time": "2023-01-31T14:56:17.530Z"
   },
   {
    "duration": 14,
    "start_time": "2023-01-31T14:56:17.542Z"
   },
   {
    "duration": 8,
    "start_time": "2023-01-31T14:56:17.558Z"
   },
   {
    "duration": 22,
    "start_time": "2023-01-31T14:56:17.567Z"
   },
   {
    "duration": 17,
    "start_time": "2023-01-31T14:56:17.591Z"
   },
   {
    "duration": 14,
    "start_time": "2023-01-31T14:56:17.621Z"
   },
   {
    "duration": 8,
    "start_time": "2023-01-31T14:56:17.637Z"
   },
   {
    "duration": 194,
    "start_time": "2023-01-31T14:56:17.647Z"
   },
   {
    "duration": 125,
    "start_time": "2023-01-31T14:56:17.843Z"
   },
   {
    "duration": 6,
    "start_time": "2023-01-31T14:56:17.970Z"
   },
   {
    "duration": 291,
    "start_time": "2023-01-31T14:56:17.977Z"
   },
   {
    "duration": 232,
    "start_time": "2023-01-31T14:56:18.270Z"
   },
   {
    "duration": 281,
    "start_time": "2023-01-31T14:56:18.504Z"
   },
   {
    "duration": 209,
    "start_time": "2023-01-31T14:56:18.787Z"
   },
   {
    "duration": 310,
    "start_time": "2023-01-31T14:56:18.997Z"
   },
   {
    "duration": 8,
    "start_time": "2023-01-31T14:56:19.309Z"
   },
   {
    "duration": 141,
    "start_time": "2023-01-31T14:56:19.318Z"
   },
   {
    "duration": 8,
    "start_time": "2023-01-31T14:56:19.461Z"
   },
   {
    "duration": 7,
    "start_time": "2023-01-31T14:56:19.470Z"
   },
   {
    "duration": 44,
    "start_time": "2023-01-31T14:56:19.478Z"
   },
   {
    "duration": 148,
    "start_time": "2023-01-31T14:56:19.524Z"
   },
   {
    "duration": 5,
    "start_time": "2023-01-31T14:56:19.674Z"
   },
   {
    "duration": 46,
    "start_time": "2023-01-31T14:56:19.681Z"
   },
   {
    "duration": 13,
    "start_time": "2023-01-31T14:56:19.729Z"
   },
   {
    "duration": 47,
    "start_time": "2023-01-31T14:56:19.744Z"
   },
   {
    "duration": 32,
    "start_time": "2023-01-31T14:56:19.792Z"
   },
   {
    "duration": 46,
    "start_time": "2023-01-31T14:56:19.826Z"
   },
   {
    "duration": 16,
    "start_time": "2023-01-31T14:56:19.873Z"
   },
   {
    "duration": 73,
    "start_time": "2023-01-31T14:56:19.890Z"
   },
   {
    "duration": 34,
    "start_time": "2023-01-31T14:56:19.965Z"
   },
   {
    "duration": 63,
    "start_time": "2023-01-31T14:56:20.006Z"
   },
   {
    "duration": 44,
    "start_time": "2023-01-31T14:56:20.071Z"
   },
   {
    "duration": 68,
    "start_time": "2023-01-31T14:56:20.122Z"
   },
   {
    "duration": 82,
    "start_time": "2023-01-31T14:56:20.192Z"
   },
   {
    "duration": 4,
    "start_time": "2023-01-31T14:56:20.276Z"
   },
   {
    "duration": 25,
    "start_time": "2023-01-31T14:56:20.281Z"
   },
   {
    "duration": 39,
    "start_time": "2023-01-31T14:56:20.308Z"
   },
   {
    "duration": 4,
    "start_time": "2023-01-31T14:56:20.349Z"
   },
   {
    "duration": 13,
    "start_time": "2023-01-31T14:56:20.355Z"
   },
   {
    "duration": 7,
    "start_time": "2023-01-31T14:56:20.370Z"
   },
   {
    "duration": 21,
    "start_time": "2023-01-31T14:56:20.379Z"
   },
   {
    "duration": 28,
    "start_time": "2023-01-31T14:56:20.405Z"
   },
   {
    "duration": 9,
    "start_time": "2023-01-31T14:56:20.435Z"
   },
   {
    "duration": 11,
    "start_time": "2023-01-31T14:56:20.445Z"
   },
   {
    "duration": 5,
    "start_time": "2023-01-31T14:56:20.458Z"
   },
   {
    "duration": 23,
    "start_time": "2023-01-31T14:56:20.465Z"
   },
   {
    "duration": 10,
    "start_time": "2023-01-31T14:56:20.489Z"
   },
   {
    "duration": 29,
    "start_time": "2023-01-31T14:56:20.502Z"
   },
   {
    "duration": 9,
    "start_time": "2023-01-31T14:56:20.533Z"
   },
   {
    "duration": 102,
    "start_time": "2023-01-31T14:57:37.035Z"
   },
   {
    "duration": 4,
    "start_time": "2023-01-31T14:57:52.265Z"
   },
   {
    "duration": 64,
    "start_time": "2023-01-31T15:12:19.368Z"
   },
   {
    "duration": 4,
    "start_time": "2023-01-31T15:12:34.475Z"
   },
   {
    "duration": 4,
    "start_time": "2023-01-31T15:14:22.576Z"
   },
   {
    "duration": 5,
    "start_time": "2023-01-31T15:15:21.575Z"
   },
   {
    "duration": 1133,
    "start_time": "2023-01-31T15:15:46.877Z"
   },
   {
    "duration": 3,
    "start_time": "2023-01-31T15:15:48.011Z"
   },
   {
    "duration": 96,
    "start_time": "2023-01-31T15:15:48.015Z"
   },
   {
    "duration": 53,
    "start_time": "2023-01-31T15:15:48.112Z"
   },
   {
    "duration": 6,
    "start_time": "2023-01-31T15:15:48.167Z"
   },
   {
    "duration": 31,
    "start_time": "2023-01-31T15:15:48.175Z"
   },
   {
    "duration": 10,
    "start_time": "2023-01-31T15:15:48.207Z"
   },
   {
    "duration": 3,
    "start_time": "2023-01-31T15:15:48.219Z"
   },
   {
    "duration": 9,
    "start_time": "2023-01-31T15:15:48.224Z"
   },
   {
    "duration": 11,
    "start_time": "2023-01-31T15:15:48.234Z"
   },
   {
    "duration": 20,
    "start_time": "2023-01-31T15:15:48.246Z"
   },
   {
    "duration": 31,
    "start_time": "2023-01-31T15:15:48.268Z"
   },
   {
    "duration": 16,
    "start_time": "2023-01-31T15:15:48.301Z"
   },
   {
    "duration": 8,
    "start_time": "2023-01-31T15:15:48.320Z"
   },
   {
    "duration": 194,
    "start_time": "2023-01-31T15:15:48.329Z"
   },
   {
    "duration": 118,
    "start_time": "2023-01-31T15:15:48.525Z"
   },
   {
    "duration": 6,
    "start_time": "2023-01-31T15:15:48.644Z"
   },
   {
    "duration": 270,
    "start_time": "2023-01-31T15:15:48.651Z"
   },
   {
    "duration": 203,
    "start_time": "2023-01-31T15:15:48.923Z"
   },
   {
    "duration": 287,
    "start_time": "2023-01-31T15:15:49.128Z"
   },
   {
    "duration": 195,
    "start_time": "2023-01-31T15:15:49.416Z"
   },
   {
    "duration": 271,
    "start_time": "2023-01-31T15:15:49.612Z"
   },
   {
    "duration": 10,
    "start_time": "2023-01-31T15:15:49.893Z"
   },
   {
    "duration": 131,
    "start_time": "2023-01-31T15:15:49.905Z"
   },
   {
    "duration": 8,
    "start_time": "2023-01-31T15:15:50.038Z"
   },
   {
    "duration": 13,
    "start_time": "2023-01-31T15:15:50.047Z"
   },
   {
    "duration": 17,
    "start_time": "2023-01-31T15:15:50.062Z"
   },
   {
    "duration": 129,
    "start_time": "2023-01-31T15:15:50.081Z"
   },
   {
    "duration": 4,
    "start_time": "2023-01-31T15:15:50.212Z"
   },
   {
    "duration": 20,
    "start_time": "2023-01-31T15:15:50.218Z"
   },
   {
    "duration": 7,
    "start_time": "2023-01-31T15:15:50.240Z"
   },
   {
    "duration": 56,
    "start_time": "2023-01-31T15:15:50.249Z"
   },
   {
    "duration": 14,
    "start_time": "2023-01-31T15:15:50.306Z"
   },
   {
    "duration": 46,
    "start_time": "2023-01-31T15:15:50.321Z"
   },
   {
    "duration": 58,
    "start_time": "2023-01-31T15:15:50.369Z"
   },
   {
    "duration": 46,
    "start_time": "2023-01-31T15:15:50.429Z"
   },
   {
    "duration": 40,
    "start_time": "2023-01-31T15:15:50.477Z"
   },
   {
    "duration": 45,
    "start_time": "2023-01-31T15:15:50.518Z"
   },
   {
    "duration": 42,
    "start_time": "2023-01-31T15:15:50.565Z"
   },
   {
    "duration": 77,
    "start_time": "2023-01-31T15:15:50.609Z"
   },
   {
    "duration": 74,
    "start_time": "2023-01-31T15:15:50.690Z"
   },
   {
    "duration": 13,
    "start_time": "2023-01-31T15:15:50.765Z"
   },
   {
    "duration": 24,
    "start_time": "2023-01-31T15:15:50.780Z"
   },
   {
    "duration": 28,
    "start_time": "2023-01-31T15:15:50.806Z"
   },
   {
    "duration": 4,
    "start_time": "2023-01-31T15:15:50.836Z"
   },
   {
    "duration": 11,
    "start_time": "2023-01-31T15:15:50.841Z"
   },
   {
    "duration": 10,
    "start_time": "2023-01-31T15:15:50.853Z"
   },
   {
    "duration": 7,
    "start_time": "2023-01-31T15:15:50.864Z"
   },
   {
    "duration": 43,
    "start_time": "2023-01-31T15:15:50.872Z"
   },
   {
    "duration": 15,
    "start_time": "2023-01-31T15:15:50.916Z"
   },
   {
    "duration": 14,
    "start_time": "2023-01-31T15:15:50.932Z"
   },
   {
    "duration": 7,
    "start_time": "2023-01-31T15:15:50.947Z"
   },
   {
    "duration": 26,
    "start_time": "2023-01-31T15:15:50.956Z"
   },
   {
    "duration": 4,
    "start_time": "2023-01-31T15:15:50.984Z"
   },
   {
    "duration": 20,
    "start_time": "2023-01-31T15:15:50.989Z"
   },
   {
    "duration": 15,
    "start_time": "2023-01-31T15:15:51.011Z"
   },
   {
    "duration": 1309,
    "start_time": "2023-01-31T20:39:12.848Z"
   },
   {
    "duration": 2,
    "start_time": "2023-01-31T20:39:14.159Z"
   },
   {
    "duration": 245,
    "start_time": "2023-01-31T20:39:14.163Z"
   },
   {
    "duration": 54,
    "start_time": "2023-01-31T20:39:14.409Z"
   },
   {
    "duration": 5,
    "start_time": "2023-01-31T20:39:14.465Z"
   },
   {
    "duration": 25,
    "start_time": "2023-01-31T20:39:14.471Z"
   },
   {
    "duration": 12,
    "start_time": "2023-01-31T20:39:14.497Z"
   },
   {
    "duration": 3,
    "start_time": "2023-01-31T20:39:14.510Z"
   },
   {
    "duration": 8,
    "start_time": "2023-01-31T20:39:14.515Z"
   },
   {
    "duration": 11,
    "start_time": "2023-01-31T20:39:14.525Z"
   },
   {
    "duration": 16,
    "start_time": "2023-01-31T20:39:14.538Z"
   },
   {
    "duration": 18,
    "start_time": "2023-01-31T20:39:14.556Z"
   },
   {
    "duration": 27,
    "start_time": "2023-01-31T20:39:14.576Z"
   },
   {
    "duration": 7,
    "start_time": "2023-01-31T20:39:14.606Z"
   },
   {
    "duration": 198,
    "start_time": "2023-01-31T20:39:14.614Z"
   },
   {
    "duration": 136,
    "start_time": "2023-01-31T20:39:14.813Z"
   },
   {
    "duration": 6,
    "start_time": "2023-01-31T20:39:14.951Z"
   },
   {
    "duration": 299,
    "start_time": "2023-01-31T20:39:14.959Z"
   },
   {
    "duration": 208,
    "start_time": "2023-01-31T20:39:15.260Z"
   },
   {
    "duration": 351,
    "start_time": "2023-01-31T20:39:15.470Z"
   },
   {
    "duration": 213,
    "start_time": "2023-01-31T20:39:15.823Z"
   },
   {
    "duration": 351,
    "start_time": "2023-01-31T20:39:16.038Z"
   },
   {
    "duration": 7,
    "start_time": "2023-01-31T20:39:16.391Z"
   },
   {
    "duration": 143,
    "start_time": "2023-01-31T20:39:16.400Z"
   },
   {
    "duration": 8,
    "start_time": "2023-01-31T20:39:16.544Z"
   },
   {
    "duration": 5,
    "start_time": "2023-01-31T20:39:16.554Z"
   },
   {
    "duration": 32,
    "start_time": "2023-01-31T20:39:16.561Z"
   },
   {
    "duration": 120,
    "start_time": "2023-01-31T20:39:16.594Z"
   },
   {
    "duration": 4,
    "start_time": "2023-01-31T20:39:16.716Z"
   },
   {
    "duration": 10,
    "start_time": "2023-01-31T20:39:16.722Z"
   },
   {
    "duration": 7,
    "start_time": "2023-01-31T20:39:16.733Z"
   },
   {
    "duration": 59,
    "start_time": "2023-01-31T20:39:16.742Z"
   },
   {
    "duration": 6,
    "start_time": "2023-01-31T20:39:16.804Z"
   },
   {
    "duration": 46,
    "start_time": "2023-01-31T20:39:16.812Z"
   },
   {
    "duration": 34,
    "start_time": "2023-01-31T20:39:16.861Z"
   },
   {
    "duration": 51,
    "start_time": "2023-01-31T20:39:16.897Z"
   },
   {
    "duration": 14,
    "start_time": "2023-01-31T20:39:16.950Z"
   },
   {
    "duration": 66,
    "start_time": "2023-01-31T20:39:16.966Z"
   },
   {
    "duration": 20,
    "start_time": "2023-01-31T20:39:17.033Z"
   },
   {
    "duration": 91,
    "start_time": "2023-01-31T20:39:17.055Z"
   },
   {
    "duration": 74,
    "start_time": "2023-01-31T20:39:17.150Z"
   },
   {
    "duration": 5,
    "start_time": "2023-01-31T20:39:17.226Z"
   },
   {
    "duration": 7,
    "start_time": "2023-01-31T20:39:17.232Z"
   },
   {
    "duration": 27,
    "start_time": "2023-01-31T20:39:17.241Z"
   },
   {
    "duration": 4,
    "start_time": "2023-01-31T20:39:17.269Z"
   },
   {
    "duration": 9,
    "start_time": "2023-01-31T20:39:17.291Z"
   },
   {
    "duration": 6,
    "start_time": "2023-01-31T20:39:17.302Z"
   },
   {
    "duration": 5,
    "start_time": "2023-01-31T20:39:17.309Z"
   },
   {
    "duration": 8,
    "start_time": "2023-01-31T20:39:17.316Z"
   },
   {
    "duration": 5,
    "start_time": "2023-01-31T20:39:17.326Z"
   },
   {
    "duration": 7,
    "start_time": "2023-01-31T20:39:17.333Z"
   },
   {
    "duration": 5,
    "start_time": "2023-01-31T20:39:17.342Z"
   },
   {
    "duration": 51,
    "start_time": "2023-01-31T20:39:17.349Z"
   },
   {
    "duration": 4,
    "start_time": "2023-01-31T20:39:17.402Z"
   },
   {
    "duration": 10,
    "start_time": "2023-01-31T20:39:17.408Z"
   },
   {
    "duration": 8,
    "start_time": "2023-01-31T20:39:17.419Z"
   },
   {
    "duration": 7,
    "start_time": "2023-01-31T20:47:48.302Z"
   },
   {
    "duration": 9,
    "start_time": "2023-01-31T20:52:07.122Z"
   },
   {
    "duration": 100,
    "start_time": "2023-01-31T20:54:02.074Z"
   },
   {
    "duration": 1108,
    "start_time": "2023-01-31T20:54:13.745Z"
   },
   {
    "duration": 2,
    "start_time": "2023-01-31T20:54:14.856Z"
   },
   {
    "duration": 81,
    "start_time": "2023-01-31T20:54:14.860Z"
   },
   {
    "duration": 52,
    "start_time": "2023-01-31T20:54:14.943Z"
   },
   {
    "duration": 6,
    "start_time": "2023-01-31T20:54:14.997Z"
   },
   {
    "duration": 19,
    "start_time": "2023-01-31T20:54:15.005Z"
   },
   {
    "duration": 11,
    "start_time": "2023-01-31T20:54:15.026Z"
   },
   {
    "duration": 6,
    "start_time": "2023-01-31T20:54:15.039Z"
   },
   {
    "duration": 29,
    "start_time": "2023-01-31T20:54:15.047Z"
   },
   {
    "duration": 5,
    "start_time": "2023-01-31T20:54:15.078Z"
   },
   {
    "duration": 17,
    "start_time": "2023-01-31T20:54:15.084Z"
   },
   {
    "duration": 13,
    "start_time": "2023-01-31T20:54:15.103Z"
   },
   {
    "duration": 16,
    "start_time": "2023-01-31T20:54:15.118Z"
   },
   {
    "duration": 13,
    "start_time": "2023-01-31T20:54:15.137Z"
   },
   {
    "duration": 14,
    "start_time": "2023-01-31T20:54:15.151Z"
   },
   {
    "duration": 7,
    "start_time": "2023-01-31T20:54:15.166Z"
   },
   {
    "duration": 188,
    "start_time": "2023-01-31T20:54:15.191Z"
   },
   {
    "duration": 133,
    "start_time": "2023-01-31T20:54:15.381Z"
   },
   {
    "duration": 6,
    "start_time": "2023-01-31T20:54:15.516Z"
   },
   {
    "duration": 277,
    "start_time": "2023-01-31T20:54:15.524Z"
   },
   {
    "duration": 210,
    "start_time": "2023-01-31T20:54:15.802Z"
   },
   {
    "duration": 310,
    "start_time": "2023-01-31T20:54:16.013Z"
   },
   {
    "duration": 220,
    "start_time": "2023-01-31T20:54:16.325Z"
   },
   {
    "duration": 326,
    "start_time": "2023-01-31T20:54:16.546Z"
   },
   {
    "duration": 7,
    "start_time": "2023-01-31T20:54:16.874Z"
   },
   {
    "duration": 141,
    "start_time": "2023-01-31T20:54:16.883Z"
   },
   {
    "duration": 8,
    "start_time": "2023-01-31T20:54:17.025Z"
   },
   {
    "duration": 9,
    "start_time": "2023-01-31T20:54:17.035Z"
   },
   {
    "duration": 16,
    "start_time": "2023-01-31T20:54:17.046Z"
   },
   {
    "duration": 128,
    "start_time": "2023-01-31T20:54:17.064Z"
   },
   {
    "duration": 7,
    "start_time": "2023-01-31T20:54:17.193Z"
   },
   {
    "duration": 9,
    "start_time": "2023-01-31T20:54:17.202Z"
   },
   {
    "duration": 14,
    "start_time": "2023-01-31T20:54:17.213Z"
   },
   {
    "duration": 47,
    "start_time": "2023-01-31T20:54:17.229Z"
   },
   {
    "duration": 17,
    "start_time": "2023-01-31T20:54:17.278Z"
   },
   {
    "duration": 47,
    "start_time": "2023-01-31T20:54:17.297Z"
   },
   {
    "duration": 17,
    "start_time": "2023-01-31T20:54:17.346Z"
   },
   {
    "duration": 70,
    "start_time": "2023-01-31T20:54:17.365Z"
   },
   {
    "duration": 19,
    "start_time": "2023-01-31T20:54:17.437Z"
   },
   {
    "duration": 57,
    "start_time": "2023-01-31T20:54:17.458Z"
   },
   {
    "duration": 20,
    "start_time": "2023-01-31T20:54:17.519Z"
   },
   {
    "duration": 85,
    "start_time": "2023-01-31T20:54:17.541Z"
   },
   {
    "duration": 91,
    "start_time": "2023-01-31T20:54:17.627Z"
   },
   {
    "duration": 4,
    "start_time": "2023-01-31T20:54:17.719Z"
   },
   {
    "duration": 9,
    "start_time": "2023-01-31T20:54:17.725Z"
   },
   {
    "duration": 30,
    "start_time": "2023-01-31T20:54:17.736Z"
   },
   {
    "duration": 4,
    "start_time": "2023-01-31T20:54:17.767Z"
   },
   {
    "duration": 22,
    "start_time": "2023-01-31T20:54:17.773Z"
   },
   {
    "duration": 6,
    "start_time": "2023-01-31T20:54:17.797Z"
   },
   {
    "duration": 6,
    "start_time": "2023-01-31T20:54:17.804Z"
   },
   {
    "duration": 8,
    "start_time": "2023-01-31T20:54:17.811Z"
   },
   {
    "duration": 4,
    "start_time": "2023-01-31T20:54:17.821Z"
   },
   {
    "duration": 8,
    "start_time": "2023-01-31T20:54:17.826Z"
   },
   {
    "duration": 5,
    "start_time": "2023-01-31T20:54:17.836Z"
   },
   {
    "duration": 51,
    "start_time": "2023-01-31T20:54:17.843Z"
   },
   {
    "duration": 6,
    "start_time": "2023-01-31T20:54:17.896Z"
   },
   {
    "duration": 13,
    "start_time": "2023-01-31T20:54:17.904Z"
   },
   {
    "duration": 10,
    "start_time": "2023-01-31T20:54:17.920Z"
   },
   {
    "duration": 273,
    "start_time": "2023-01-31T21:04:45.393Z"
   },
   {
    "duration": 230,
    "start_time": "2023-01-31T21:08:01.990Z"
   },
   {
    "duration": 160,
    "start_time": "2023-01-31T21:10:47.441Z"
   },
   {
    "duration": 163,
    "start_time": "2023-01-31T21:11:10.042Z"
   },
   {
    "duration": 151,
    "start_time": "2023-01-31T21:11:27.464Z"
   },
   {
    "duration": 151,
    "start_time": "2023-01-31T21:11:50.122Z"
   },
   {
    "duration": 146,
    "start_time": "2023-01-31T21:13:40.007Z"
   },
   {
    "duration": 11,
    "start_time": "2023-01-31T21:25:56.169Z"
   },
   {
    "duration": 138,
    "start_time": "2023-01-31T21:26:28.829Z"
   },
   {
    "duration": 1161,
    "start_time": "2023-01-31T21:26:39.292Z"
   },
   {
    "duration": 3,
    "start_time": "2023-01-31T21:26:40.455Z"
   },
   {
    "duration": 87,
    "start_time": "2023-01-31T21:26:40.459Z"
   },
   {
    "duration": 54,
    "start_time": "2023-01-31T21:26:40.548Z"
   },
   {
    "duration": 6,
    "start_time": "2023-01-31T21:26:40.604Z"
   },
   {
    "duration": 6,
    "start_time": "2023-01-31T21:26:40.611Z"
   },
   {
    "duration": 13,
    "start_time": "2023-01-31T21:26:40.618Z"
   },
   {
    "duration": 6,
    "start_time": "2023-01-31T21:26:40.633Z"
   },
   {
    "duration": 18,
    "start_time": "2023-01-31T21:26:40.640Z"
   },
   {
    "duration": 32,
    "start_time": "2023-01-31T21:26:40.661Z"
   },
   {
    "duration": 10,
    "start_time": "2023-01-31T21:26:40.695Z"
   },
   {
    "duration": 14,
    "start_time": "2023-01-31T21:26:40.706Z"
   },
   {
    "duration": 14,
    "start_time": "2023-01-31T21:26:40.721Z"
   },
   {
    "duration": 14,
    "start_time": "2023-01-31T21:26:40.736Z"
   },
   {
    "duration": 41,
    "start_time": "2023-01-31T21:26:40.752Z"
   },
   {
    "duration": 6,
    "start_time": "2023-01-31T21:26:40.796Z"
   },
   {
    "duration": 201,
    "start_time": "2023-01-31T21:26:40.804Z"
   },
   {
    "duration": 142,
    "start_time": "2023-01-31T21:26:41.007Z"
   },
   {
    "duration": 7,
    "start_time": "2023-01-31T21:26:41.151Z"
   },
   {
    "duration": 334,
    "start_time": "2023-01-31T21:26:41.160Z"
   },
   {
    "duration": 232,
    "start_time": "2023-01-31T21:26:41.496Z"
   },
   {
    "duration": 284,
    "start_time": "2023-01-31T21:26:41.730Z"
   },
   {
    "duration": 221,
    "start_time": "2023-01-31T21:26:42.016Z"
   },
   {
    "duration": 372,
    "start_time": "2023-01-31T21:26:42.239Z"
   },
   {
    "duration": 7,
    "start_time": "2023-01-31T21:26:42.613Z"
   },
   {
    "duration": 158,
    "start_time": "2023-01-31T21:26:42.622Z"
   },
   {
    "duration": 15,
    "start_time": "2023-01-31T21:26:42.782Z"
   },
   {
    "duration": 6,
    "start_time": "2023-01-31T21:26:42.801Z"
   },
   {
    "duration": 16,
    "start_time": "2023-01-31T21:26:42.809Z"
   },
   {
    "duration": 160,
    "start_time": "2023-01-31T21:26:42.827Z"
   },
   {
    "duration": 147,
    "start_time": "2023-01-31T21:26:42.992Z"
   },
   {
    "duration": 5,
    "start_time": "2023-01-31T21:26:43.141Z"
   },
   {
    "duration": 8,
    "start_time": "2023-01-31T21:26:43.148Z"
   },
   {
    "duration": 8,
    "start_time": "2023-01-31T21:26:43.158Z"
   },
   {
    "duration": 158,
    "start_time": "2023-01-31T21:26:43.167Z"
   },
   {
    "duration": 8,
    "start_time": "2023-01-31T21:26:43.327Z"
   },
   {
    "duration": 75,
    "start_time": "2023-01-31T21:26:43.337Z"
   },
   {
    "duration": 18,
    "start_time": "2023-01-31T21:26:43.414Z"
   },
   {
    "duration": 71,
    "start_time": "2023-01-31T21:26:43.434Z"
   },
   {
    "duration": 18,
    "start_time": "2023-01-31T21:26:43.507Z"
   },
   {
    "duration": 72,
    "start_time": "2023-01-31T21:26:43.528Z"
   },
   {
    "duration": 27,
    "start_time": "2023-01-31T21:26:43.601Z"
   },
   {
    "duration": 82,
    "start_time": "2023-01-31T21:26:43.630Z"
   },
   {
    "duration": 103,
    "start_time": "2023-01-31T21:26:43.714Z"
   },
   {
    "duration": 5,
    "start_time": "2023-01-31T21:26:43.819Z"
   },
   {
    "duration": 8,
    "start_time": "2023-01-31T21:26:43.826Z"
   },
   {
    "duration": 39,
    "start_time": "2023-01-31T21:26:43.836Z"
   },
   {
    "duration": 15,
    "start_time": "2023-01-31T21:26:43.877Z"
   },
   {
    "duration": 9,
    "start_time": "2023-01-31T21:26:43.894Z"
   },
   {
    "duration": 8,
    "start_time": "2023-01-31T21:26:43.906Z"
   },
   {
    "duration": 6,
    "start_time": "2023-01-31T21:26:43.915Z"
   },
   {
    "duration": 8,
    "start_time": "2023-01-31T21:26:43.923Z"
   },
   {
    "duration": 5,
    "start_time": "2023-01-31T21:26:43.933Z"
   },
   {
    "duration": 7,
    "start_time": "2023-01-31T21:26:43.940Z"
   },
   {
    "duration": 43,
    "start_time": "2023-01-31T21:26:43.949Z"
   },
   {
    "duration": 23,
    "start_time": "2023-01-31T21:26:43.994Z"
   },
   {
    "duration": 5,
    "start_time": "2023-01-31T21:26:44.018Z"
   },
   {
    "duration": 11,
    "start_time": "2023-01-31T21:26:44.025Z"
   },
   {
    "duration": 11,
    "start_time": "2023-01-31T21:26:44.038Z"
   },
   {
    "duration": 256,
    "start_time": "2023-01-31T21:26:57.439Z"
   },
   {
    "duration": 1435,
    "start_time": "2023-02-01T08:06:50.195Z"
   },
   {
    "duration": 3,
    "start_time": "2023-02-01T08:06:51.632Z"
   },
   {
    "duration": 247,
    "start_time": "2023-02-01T08:06:51.637Z"
   },
   {
    "duration": 62,
    "start_time": "2023-02-01T08:06:51.886Z"
   },
   {
    "duration": 7,
    "start_time": "2023-02-01T08:06:51.950Z"
   },
   {
    "duration": 6,
    "start_time": "2023-02-01T08:06:51.960Z"
   },
   {
    "duration": 14,
    "start_time": "2023-02-01T08:06:51.968Z"
   },
   {
    "duration": 8,
    "start_time": "2023-02-01T08:06:52.020Z"
   },
   {
    "duration": 19,
    "start_time": "2023-02-01T08:06:52.030Z"
   },
   {
    "duration": 23,
    "start_time": "2023-02-01T08:06:52.051Z"
   },
   {
    "duration": 9,
    "start_time": "2023-02-01T08:06:52.076Z"
   },
   {
    "duration": 21,
    "start_time": "2023-02-01T08:06:52.087Z"
   },
   {
    "duration": 19,
    "start_time": "2023-02-01T08:06:52.110Z"
   },
   {
    "duration": 15,
    "start_time": "2023-02-01T08:06:52.133Z"
   },
   {
    "duration": 17,
    "start_time": "2023-02-01T08:06:52.150Z"
   },
   {
    "duration": 7,
    "start_time": "2023-02-01T08:06:52.169Z"
   },
   {
    "duration": 247,
    "start_time": "2023-02-01T08:06:52.178Z"
   },
   {
    "duration": 137,
    "start_time": "2023-02-01T08:06:52.427Z"
   },
   {
    "duration": 14,
    "start_time": "2023-02-01T08:06:52.566Z"
   },
   {
    "duration": 314,
    "start_time": "2023-02-01T08:06:52.581Z"
   },
   {
    "duration": 217,
    "start_time": "2023-02-01T08:06:52.897Z"
   },
   {
    "duration": 376,
    "start_time": "2023-02-01T08:06:53.115Z"
   },
   {
    "duration": 241,
    "start_time": "2023-02-01T08:06:53.493Z"
   },
   {
    "duration": 313,
    "start_time": "2023-02-01T08:06:53.736Z"
   },
   {
    "duration": 9,
    "start_time": "2023-02-01T08:06:54.051Z"
   },
   {
    "duration": 185,
    "start_time": "2023-02-01T08:06:54.062Z"
   },
   {
    "duration": 8,
    "start_time": "2023-02-01T08:06:54.249Z"
   },
   {
    "duration": 6,
    "start_time": "2023-02-01T08:06:54.259Z"
   },
   {
    "duration": 15,
    "start_time": "2023-02-01T08:06:54.266Z"
   },
   {
    "duration": 193,
    "start_time": "2023-02-01T08:06:54.283Z"
   },
   {
    "duration": 6,
    "start_time": "2023-02-01T08:06:54.477Z"
   },
   {
    "duration": 9,
    "start_time": "2023-02-01T08:06:54.485Z"
   },
   {
    "duration": 27,
    "start_time": "2023-02-01T08:06:54.496Z"
   },
   {
    "duration": 60,
    "start_time": "2023-02-01T08:06:54.525Z"
   },
   {
    "duration": 23,
    "start_time": "2023-02-01T08:06:54.590Z"
   },
   {
    "duration": 65,
    "start_time": "2023-02-01T08:06:54.615Z"
   },
   {
    "duration": 30,
    "start_time": "2023-02-01T08:06:54.683Z"
   },
   {
    "duration": 82,
    "start_time": "2023-02-01T08:06:54.715Z"
   },
   {
    "duration": 33,
    "start_time": "2023-02-01T08:06:54.799Z"
   },
   {
    "duration": 69,
    "start_time": "2023-02-01T08:06:54.834Z"
   },
   {
    "duration": 30,
    "start_time": "2023-02-01T08:06:54.908Z"
   },
   {
    "duration": 108,
    "start_time": "2023-02-01T08:06:54.940Z"
   },
   {
    "duration": 122,
    "start_time": "2023-02-01T08:06:55.050Z"
   },
   {
    "duration": 10,
    "start_time": "2023-02-01T08:06:55.173Z"
   },
   {
    "duration": 9,
    "start_time": "2023-02-01T08:06:55.184Z"
   },
   {
    "duration": 42,
    "start_time": "2023-02-01T08:06:55.195Z"
   },
   {
    "duration": 5,
    "start_time": "2023-02-01T08:06:55.240Z"
   },
   {
    "duration": 16,
    "start_time": "2023-02-01T08:06:55.247Z"
   },
   {
    "duration": 7,
    "start_time": "2023-02-01T08:06:55.265Z"
   },
   {
    "duration": 8,
    "start_time": "2023-02-01T08:06:55.274Z"
   },
   {
    "duration": 9,
    "start_time": "2023-02-01T08:06:55.283Z"
   },
   {
    "duration": 28,
    "start_time": "2023-02-01T08:06:55.293Z"
   },
   {
    "duration": 10,
    "start_time": "2023-02-01T08:06:55.323Z"
   },
   {
    "duration": 6,
    "start_time": "2023-02-01T08:06:55.335Z"
   },
   {
    "duration": 27,
    "start_time": "2023-02-01T08:06:55.342Z"
   },
   {
    "duration": 5,
    "start_time": "2023-02-01T08:06:55.371Z"
   },
   {
    "duration": 43,
    "start_time": "2023-02-01T08:06:55.378Z"
   },
   {
    "duration": 10,
    "start_time": "2023-02-01T08:06:55.423Z"
   },
   {
    "duration": 226,
    "start_time": "2023-02-01T08:16:31.982Z"
   },
   {
    "duration": 1156,
    "start_time": "2023-02-01T08:16:47.562Z"
   },
   {
    "duration": 3,
    "start_time": "2023-02-01T08:16:48.721Z"
   },
   {
    "duration": 84,
    "start_time": "2023-02-01T08:16:48.725Z"
   },
   {
    "duration": 67,
    "start_time": "2023-02-01T08:16:48.811Z"
   },
   {
    "duration": 7,
    "start_time": "2023-02-01T08:16:48.880Z"
   },
   {
    "duration": 34,
    "start_time": "2023-02-01T08:16:48.888Z"
   },
   {
    "duration": 17,
    "start_time": "2023-02-01T08:16:48.924Z"
   },
   {
    "duration": 10,
    "start_time": "2023-02-01T08:16:48.943Z"
   },
   {
    "duration": 16,
    "start_time": "2023-02-01T08:16:48.955Z"
   },
   {
    "duration": 8,
    "start_time": "2023-02-01T08:16:48.973Z"
   },
   {
    "duration": 11,
    "start_time": "2023-02-01T08:16:48.983Z"
   },
   {
    "duration": 37,
    "start_time": "2023-02-01T08:16:48.996Z"
   },
   {
    "duration": 14,
    "start_time": "2023-02-01T08:16:49.037Z"
   },
   {
    "duration": 15,
    "start_time": "2023-02-01T08:16:49.056Z"
   },
   {
    "duration": 15,
    "start_time": "2023-02-01T08:16:49.073Z"
   },
   {
    "duration": 33,
    "start_time": "2023-02-01T08:16:49.090Z"
   },
   {
    "duration": 207,
    "start_time": "2023-02-01T08:16:49.126Z"
   },
   {
    "duration": 132,
    "start_time": "2023-02-01T08:16:49.335Z"
   },
   {
    "duration": 8,
    "start_time": "2023-02-01T08:16:49.469Z"
   },
   {
    "duration": 343,
    "start_time": "2023-02-01T08:16:49.480Z"
   },
   {
    "duration": 245,
    "start_time": "2023-02-01T08:16:49.825Z"
   },
   {
    "duration": 358,
    "start_time": "2023-02-01T08:16:50.072Z"
   },
   {
    "duration": 239,
    "start_time": "2023-02-01T08:16:50.432Z"
   },
   {
    "duration": 346,
    "start_time": "2023-02-01T08:16:50.674Z"
   },
   {
    "duration": 12,
    "start_time": "2023-02-01T08:16:51.022Z"
   },
   {
    "duration": 168,
    "start_time": "2023-02-01T08:16:51.036Z"
   },
   {
    "duration": 15,
    "start_time": "2023-02-01T08:16:51.206Z"
   },
   {
    "duration": 6,
    "start_time": "2023-02-01T08:16:51.223Z"
   },
   {
    "duration": 11,
    "start_time": "2023-02-01T08:16:51.231Z"
   },
   {
    "duration": 232,
    "start_time": "2023-02-01T08:16:51.243Z"
   },
   {
    "duration": 0,
    "start_time": "2023-02-01T08:16:51.477Z"
   },
   {
    "duration": 0,
    "start_time": "2023-02-01T08:16:51.478Z"
   },
   {
    "duration": 0,
    "start_time": "2023-02-01T08:16:51.480Z"
   },
   {
    "duration": 0,
    "start_time": "2023-02-01T08:16:51.481Z"
   },
   {
    "duration": 0,
    "start_time": "2023-02-01T08:16:51.482Z"
   },
   {
    "duration": 0,
    "start_time": "2023-02-01T08:16:51.484Z"
   },
   {
    "duration": 0,
    "start_time": "2023-02-01T08:16:51.485Z"
   },
   {
    "duration": 0,
    "start_time": "2023-02-01T08:16:51.487Z"
   },
   {
    "duration": 0,
    "start_time": "2023-02-01T08:16:51.488Z"
   },
   {
    "duration": 0,
    "start_time": "2023-02-01T08:16:51.489Z"
   },
   {
    "duration": 0,
    "start_time": "2023-02-01T08:16:51.490Z"
   },
   {
    "duration": 0,
    "start_time": "2023-02-01T08:16:51.492Z"
   },
   {
    "duration": 0,
    "start_time": "2023-02-01T08:16:51.493Z"
   },
   {
    "duration": 0,
    "start_time": "2023-02-01T08:16:51.494Z"
   },
   {
    "duration": 0,
    "start_time": "2023-02-01T08:16:51.521Z"
   },
   {
    "duration": 0,
    "start_time": "2023-02-01T08:16:51.523Z"
   },
   {
    "duration": 0,
    "start_time": "2023-02-01T08:16:51.524Z"
   },
   {
    "duration": 0,
    "start_time": "2023-02-01T08:16:51.526Z"
   },
   {
    "duration": 0,
    "start_time": "2023-02-01T08:16:51.527Z"
   },
   {
    "duration": 0,
    "start_time": "2023-02-01T08:16:51.529Z"
   },
   {
    "duration": 0,
    "start_time": "2023-02-01T08:16:51.530Z"
   },
   {
    "duration": 0,
    "start_time": "2023-02-01T08:16:51.531Z"
   },
   {
    "duration": 0,
    "start_time": "2023-02-01T08:16:51.532Z"
   },
   {
    "duration": 0,
    "start_time": "2023-02-01T08:16:51.533Z"
   },
   {
    "duration": 0,
    "start_time": "2023-02-01T08:16:51.535Z"
   },
   {
    "duration": 0,
    "start_time": "2023-02-01T08:16:51.537Z"
   },
   {
    "duration": 0,
    "start_time": "2023-02-01T08:16:51.538Z"
   },
   {
    "duration": 0,
    "start_time": "2023-02-01T08:16:51.539Z"
   },
   {
    "duration": 0,
    "start_time": "2023-02-01T08:16:51.540Z"
   },
   {
    "duration": 170,
    "start_time": "2023-02-01T08:17:54.432Z"
   },
   {
    "duration": 1226,
    "start_time": "2023-02-01T08:18:27.721Z"
   },
   {
    "duration": 3,
    "start_time": "2023-02-01T08:18:28.949Z"
   },
   {
    "duration": 98,
    "start_time": "2023-02-01T08:18:28.954Z"
   },
   {
    "duration": 54,
    "start_time": "2023-02-01T08:18:29.053Z"
   },
   {
    "duration": 12,
    "start_time": "2023-02-01T08:18:29.109Z"
   },
   {
    "duration": 15,
    "start_time": "2023-02-01T08:18:29.124Z"
   },
   {
    "duration": 13,
    "start_time": "2023-02-01T08:18:29.140Z"
   },
   {
    "duration": 7,
    "start_time": "2023-02-01T08:18:29.155Z"
   },
   {
    "duration": 13,
    "start_time": "2023-02-01T08:18:29.163Z"
   },
   {
    "duration": 20,
    "start_time": "2023-02-01T08:18:29.177Z"
   },
   {
    "duration": 15,
    "start_time": "2023-02-01T08:18:29.199Z"
   },
   {
    "duration": 35,
    "start_time": "2023-02-01T08:18:29.216Z"
   },
   {
    "duration": 37,
    "start_time": "2023-02-01T08:18:29.253Z"
   },
   {
    "duration": 23,
    "start_time": "2023-02-01T08:18:29.293Z"
   },
   {
    "duration": 41,
    "start_time": "2023-02-01T08:18:29.318Z"
   },
   {
    "duration": 19,
    "start_time": "2023-02-01T08:18:29.361Z"
   },
   {
    "duration": 216,
    "start_time": "2023-02-01T08:18:29.381Z"
   },
   {
    "duration": 131,
    "start_time": "2023-02-01T08:18:29.598Z"
   },
   {
    "duration": 10,
    "start_time": "2023-02-01T08:18:29.731Z"
   },
   {
    "duration": 339,
    "start_time": "2023-02-01T08:18:29.742Z"
   },
   {
    "duration": 228,
    "start_time": "2023-02-01T08:18:30.083Z"
   },
   {
    "duration": 338,
    "start_time": "2023-02-01T08:18:30.320Z"
   },
   {
    "duration": 225,
    "start_time": "2023-02-01T08:18:30.660Z"
   },
   {
    "duration": 339,
    "start_time": "2023-02-01T08:18:30.887Z"
   },
   {
    "duration": 9,
    "start_time": "2023-02-01T08:18:31.229Z"
   },
   {
    "duration": 179,
    "start_time": "2023-02-01T08:18:31.239Z"
   },
   {
    "duration": 12,
    "start_time": "2023-02-01T08:18:31.420Z"
   },
   {
    "duration": 17,
    "start_time": "2023-02-01T08:18:31.435Z"
   },
   {
    "duration": 14,
    "start_time": "2023-02-01T08:18:31.454Z"
   },
   {
    "duration": 168,
    "start_time": "2023-02-01T08:18:31.469Z"
   },
   {
    "duration": 236,
    "start_time": "2023-02-01T08:18:31.639Z"
   },
   {
    "duration": 0,
    "start_time": "2023-02-01T08:18:31.877Z"
   },
   {
    "duration": 0,
    "start_time": "2023-02-01T08:18:31.879Z"
   },
   {
    "duration": 0,
    "start_time": "2023-02-01T08:18:31.880Z"
   },
   {
    "duration": 0,
    "start_time": "2023-02-01T08:18:31.881Z"
   },
   {
    "duration": 0,
    "start_time": "2023-02-01T08:18:31.882Z"
   },
   {
    "duration": 0,
    "start_time": "2023-02-01T08:18:31.883Z"
   },
   {
    "duration": 0,
    "start_time": "2023-02-01T08:18:31.884Z"
   },
   {
    "duration": 0,
    "start_time": "2023-02-01T08:18:31.885Z"
   },
   {
    "duration": 0,
    "start_time": "2023-02-01T08:18:31.886Z"
   },
   {
    "duration": 0,
    "start_time": "2023-02-01T08:18:31.888Z"
   },
   {
    "duration": 0,
    "start_time": "2023-02-01T08:18:31.889Z"
   },
   {
    "duration": 0,
    "start_time": "2023-02-01T08:18:31.890Z"
   },
   {
    "duration": 0,
    "start_time": "2023-02-01T08:18:31.891Z"
   },
   {
    "duration": 0,
    "start_time": "2023-02-01T08:18:31.921Z"
   },
   {
    "duration": 0,
    "start_time": "2023-02-01T08:18:31.923Z"
   },
   {
    "duration": 0,
    "start_time": "2023-02-01T08:18:31.924Z"
   },
   {
    "duration": 0,
    "start_time": "2023-02-01T08:18:31.925Z"
   },
   {
    "duration": 0,
    "start_time": "2023-02-01T08:18:31.927Z"
   },
   {
    "duration": 0,
    "start_time": "2023-02-01T08:18:31.929Z"
   },
   {
    "duration": 0,
    "start_time": "2023-02-01T08:18:32.044Z"
   },
   {
    "duration": 0,
    "start_time": "2023-02-01T08:18:32.045Z"
   },
   {
    "duration": 0,
    "start_time": "2023-02-01T08:18:32.046Z"
   },
   {
    "duration": 0,
    "start_time": "2023-02-01T08:18:32.047Z"
   },
   {
    "duration": 0,
    "start_time": "2023-02-01T08:18:32.048Z"
   },
   {
    "duration": 0,
    "start_time": "2023-02-01T08:18:32.049Z"
   },
   {
    "duration": 0,
    "start_time": "2023-02-01T08:18:32.050Z"
   },
   {
    "duration": 0,
    "start_time": "2023-02-01T08:18:32.051Z"
   },
   {
    "duration": 0,
    "start_time": "2023-02-01T08:18:32.052Z"
   },
   {
    "duration": 118,
    "start_time": "2023-02-01T08:19:00.669Z"
   },
   {
    "duration": 135,
    "start_time": "2023-02-01T08:21:49.934Z"
   },
   {
    "duration": 139,
    "start_time": "2023-02-01T08:22:45.686Z"
   },
   {
    "duration": 1167,
    "start_time": "2023-02-01T08:22:57.034Z"
   },
   {
    "duration": 3,
    "start_time": "2023-02-01T08:22:58.203Z"
   },
   {
    "duration": 93,
    "start_time": "2023-02-01T08:22:58.208Z"
   },
   {
    "duration": 61,
    "start_time": "2023-02-01T08:22:58.304Z"
   },
   {
    "duration": 11,
    "start_time": "2023-02-01T08:22:58.367Z"
   },
   {
    "duration": 5,
    "start_time": "2023-02-01T08:22:58.379Z"
   },
   {
    "duration": 47,
    "start_time": "2023-02-01T08:22:58.385Z"
   },
   {
    "duration": 8,
    "start_time": "2023-02-01T08:22:58.434Z"
   },
   {
    "duration": 12,
    "start_time": "2023-02-01T08:22:58.444Z"
   },
   {
    "duration": 4,
    "start_time": "2023-02-01T08:22:58.459Z"
   },
   {
    "duration": 9,
    "start_time": "2023-02-01T08:22:58.465Z"
   },
   {
    "duration": 11,
    "start_time": "2023-02-01T08:22:58.475Z"
   },
   {
    "duration": 48,
    "start_time": "2023-02-01T08:22:58.489Z"
   },
   {
    "duration": 14,
    "start_time": "2023-02-01T08:22:58.539Z"
   },
   {
    "duration": 13,
    "start_time": "2023-02-01T08:22:58.555Z"
   },
   {
    "duration": 8,
    "start_time": "2023-02-01T08:22:58.570Z"
   },
   {
    "duration": 229,
    "start_time": "2023-02-01T08:22:58.579Z"
   },
   {
    "duration": 127,
    "start_time": "2023-02-01T08:22:58.809Z"
   },
   {
    "duration": 8,
    "start_time": "2023-02-01T08:22:58.937Z"
   },
   {
    "duration": 313,
    "start_time": "2023-02-01T08:22:58.947Z"
   },
   {
    "duration": 228,
    "start_time": "2023-02-01T08:22:59.263Z"
   },
   {
    "duration": 336,
    "start_time": "2023-02-01T08:22:59.493Z"
   },
   {
    "duration": 240,
    "start_time": "2023-02-01T08:22:59.833Z"
   },
   {
    "duration": 366,
    "start_time": "2023-02-01T08:23:00.075Z"
   },
   {
    "duration": 7,
    "start_time": "2023-02-01T08:23:00.443Z"
   },
   {
    "duration": 188,
    "start_time": "2023-02-01T08:23:00.452Z"
   },
   {
    "duration": 9,
    "start_time": "2023-02-01T08:23:00.641Z"
   },
   {
    "duration": 20,
    "start_time": "2023-02-01T08:23:00.654Z"
   },
   {
    "duration": 22,
    "start_time": "2023-02-01T08:23:00.676Z"
   },
   {
    "duration": 161,
    "start_time": "2023-02-01T08:23:00.700Z"
   },
   {
    "duration": 153,
    "start_time": "2023-02-01T08:23:00.862Z"
   },
   {
    "duration": 7,
    "start_time": "2023-02-01T08:23:01.020Z"
   },
   {
    "duration": 33,
    "start_time": "2023-02-01T08:23:01.029Z"
   },
   {
    "duration": 16,
    "start_time": "2023-02-01T08:23:01.063Z"
   },
   {
    "duration": 169,
    "start_time": "2023-02-01T08:23:01.081Z"
   },
   {
    "duration": 12,
    "start_time": "2023-02-01T08:23:01.252Z"
   },
   {
    "duration": 60,
    "start_time": "2023-02-01T08:23:01.265Z"
   },
   {
    "duration": 39,
    "start_time": "2023-02-01T08:23:01.326Z"
   },
   {
    "duration": 68,
    "start_time": "2023-02-01T08:23:01.367Z"
   },
   {
    "duration": 25,
    "start_time": "2023-02-01T08:23:01.436Z"
   },
   {
    "duration": 72,
    "start_time": "2023-02-01T08:23:01.463Z"
   },
   {
    "duration": 45,
    "start_time": "2023-02-01T08:23:01.538Z"
   },
   {
    "duration": 76,
    "start_time": "2023-02-01T08:23:01.585Z"
   },
   {
    "duration": 75,
    "start_time": "2023-02-01T08:23:01.663Z"
   },
   {
    "duration": 8,
    "start_time": "2023-02-01T08:23:01.740Z"
   },
   {
    "duration": 32,
    "start_time": "2023-02-01T08:23:01.750Z"
   },
   {
    "duration": 56,
    "start_time": "2023-02-01T08:23:01.784Z"
   },
   {
    "duration": 11,
    "start_time": "2023-02-01T08:23:01.841Z"
   },
   {
    "duration": 23,
    "start_time": "2023-02-01T08:23:01.854Z"
   },
   {
    "duration": 23,
    "start_time": "2023-02-01T08:23:01.879Z"
   },
   {
    "duration": 37,
    "start_time": "2023-02-01T08:23:01.903Z"
   },
   {
    "duration": 22,
    "start_time": "2023-02-01T08:23:01.942Z"
   },
   {
    "duration": 22,
    "start_time": "2023-02-01T08:23:01.966Z"
   },
   {
    "duration": 40,
    "start_time": "2023-02-01T08:23:01.990Z"
   },
   {
    "duration": 31,
    "start_time": "2023-02-01T08:23:02.033Z"
   },
   {
    "duration": 43,
    "start_time": "2023-02-01T08:23:02.066Z"
   },
   {
    "duration": 5,
    "start_time": "2023-02-01T08:23:02.111Z"
   },
   {
    "duration": 32,
    "start_time": "2023-02-01T08:23:02.117Z"
   },
   {
    "duration": 27,
    "start_time": "2023-02-01T08:23:02.150Z"
   },
   {
    "duration": 157,
    "start_time": "2023-02-01T08:23:32.813Z"
   },
   {
    "duration": 143,
    "start_time": "2023-02-01T08:23:41.653Z"
   },
   {
    "duration": 1235,
    "start_time": "2023-02-01T08:23:47.714Z"
   },
   {
    "duration": 3,
    "start_time": "2023-02-01T08:23:48.951Z"
   },
   {
    "duration": 93,
    "start_time": "2023-02-01T08:23:48.956Z"
   },
   {
    "duration": 54,
    "start_time": "2023-02-01T08:23:49.051Z"
   },
   {
    "duration": 16,
    "start_time": "2023-02-01T08:23:49.107Z"
   },
   {
    "duration": 17,
    "start_time": "2023-02-01T08:23:49.125Z"
   },
   {
    "duration": 15,
    "start_time": "2023-02-01T08:23:49.144Z"
   },
   {
    "duration": 11,
    "start_time": "2023-02-01T08:23:49.161Z"
   },
   {
    "duration": 18,
    "start_time": "2023-02-01T08:23:49.174Z"
   },
   {
    "duration": 16,
    "start_time": "2023-02-01T08:23:49.194Z"
   },
   {
    "duration": 26,
    "start_time": "2023-02-01T08:23:49.212Z"
   },
   {
    "duration": 17,
    "start_time": "2023-02-01T08:23:49.240Z"
   },
   {
    "duration": 16,
    "start_time": "2023-02-01T08:23:49.259Z"
   },
   {
    "duration": 16,
    "start_time": "2023-02-01T08:23:49.279Z"
   },
   {
    "duration": 15,
    "start_time": "2023-02-01T08:23:49.297Z"
   },
   {
    "duration": 27,
    "start_time": "2023-02-01T08:23:49.314Z"
   },
   {
    "duration": 202,
    "start_time": "2023-02-01T08:23:49.343Z"
   },
   {
    "duration": 144,
    "start_time": "2023-02-01T08:23:49.547Z"
   },
   {
    "duration": 6,
    "start_time": "2023-02-01T08:23:49.693Z"
   },
   {
    "duration": 320,
    "start_time": "2023-02-01T08:23:49.701Z"
   },
   {
    "duration": 225,
    "start_time": "2023-02-01T08:23:50.022Z"
   },
   {
    "duration": 297,
    "start_time": "2023-02-01T08:23:50.249Z"
   },
   {
    "duration": 230,
    "start_time": "2023-02-01T08:23:50.548Z"
   },
   {
    "duration": 335,
    "start_time": "2023-02-01T08:23:50.780Z"
   },
   {
    "duration": 14,
    "start_time": "2023-02-01T08:23:51.120Z"
   },
   {
    "duration": 195,
    "start_time": "2023-02-01T08:23:51.137Z"
   },
   {
    "duration": 9,
    "start_time": "2023-02-01T08:23:51.335Z"
   },
   {
    "duration": 31,
    "start_time": "2023-02-01T08:23:51.345Z"
   },
   {
    "duration": 21,
    "start_time": "2023-02-01T08:23:51.378Z"
   },
   {
    "duration": 178,
    "start_time": "2023-02-01T08:23:51.401Z"
   },
   {
    "duration": 148,
    "start_time": "2023-02-01T08:23:51.581Z"
   },
   {
    "duration": 5,
    "start_time": "2023-02-01T08:23:51.731Z"
   },
   {
    "duration": 11,
    "start_time": "2023-02-01T08:23:51.738Z"
   },
   {
    "duration": 23,
    "start_time": "2023-02-01T08:23:51.751Z"
   },
   {
    "duration": 158,
    "start_time": "2023-02-01T08:23:51.776Z"
   },
   {
    "duration": 18,
    "start_time": "2023-02-01T08:23:51.936Z"
   },
   {
    "duration": 68,
    "start_time": "2023-02-01T08:23:51.956Z"
   },
   {
    "duration": 36,
    "start_time": "2023-02-01T08:23:52.027Z"
   },
   {
    "duration": 91,
    "start_time": "2023-02-01T08:23:52.065Z"
   },
   {
    "duration": 39,
    "start_time": "2023-02-01T08:23:52.157Z"
   },
   {
    "duration": 77,
    "start_time": "2023-02-01T08:23:52.200Z"
   },
   {
    "duration": 25,
    "start_time": "2023-02-01T08:23:52.279Z"
   },
   {
    "duration": 105,
    "start_time": "2023-02-01T08:23:52.306Z"
   },
   {
    "duration": 120,
    "start_time": "2023-02-01T08:23:52.413Z"
   },
   {
    "duration": 7,
    "start_time": "2023-02-01T08:23:52.536Z"
   },
   {
    "duration": 22,
    "start_time": "2023-02-01T08:23:52.546Z"
   },
   {
    "duration": 55,
    "start_time": "2023-02-01T08:23:52.570Z"
   },
   {
    "duration": 9,
    "start_time": "2023-02-01T08:23:52.628Z"
   },
   {
    "duration": 28,
    "start_time": "2023-02-01T08:23:52.639Z"
   },
   {
    "duration": 21,
    "start_time": "2023-02-01T08:23:52.669Z"
   },
   {
    "duration": 34,
    "start_time": "2023-02-01T08:23:52.692Z"
   },
   {
    "duration": 36,
    "start_time": "2023-02-01T08:23:52.729Z"
   },
   {
    "duration": 40,
    "start_time": "2023-02-01T08:23:52.767Z"
   },
   {
    "duration": 26,
    "start_time": "2023-02-01T08:23:52.809Z"
   },
   {
    "duration": 26,
    "start_time": "2023-02-01T08:23:52.837Z"
   },
   {
    "duration": 33,
    "start_time": "2023-02-01T08:23:52.865Z"
   },
   {
    "duration": 5,
    "start_time": "2023-02-01T08:23:52.900Z"
   },
   {
    "duration": 30,
    "start_time": "2023-02-01T08:23:52.906Z"
   },
   {
    "duration": 43,
    "start_time": "2023-02-01T08:23:52.938Z"
   },
   {
    "duration": 154,
    "start_time": "2023-02-01T08:25:33.834Z"
   },
   {
    "duration": 150,
    "start_time": "2023-02-01T08:25:57.445Z"
   },
   {
    "duration": 156,
    "start_time": "2023-02-01T08:26:26.246Z"
   },
   {
    "duration": 171,
    "start_time": "2023-02-01T08:26:36.301Z"
   },
   {
    "duration": 168,
    "start_time": "2023-02-01T08:26:43.714Z"
   },
   {
    "duration": 1189,
    "start_time": "2023-02-01T08:26:55.721Z"
   },
   {
    "duration": 3,
    "start_time": "2023-02-01T08:26:56.912Z"
   },
   {
    "duration": 92,
    "start_time": "2023-02-01T08:26:56.916Z"
   },
   {
    "duration": 61,
    "start_time": "2023-02-01T08:26:57.010Z"
   },
   {
    "duration": 5,
    "start_time": "2023-02-01T08:26:57.073Z"
   },
   {
    "duration": 6,
    "start_time": "2023-02-01T08:26:57.080Z"
   },
   {
    "duration": 43,
    "start_time": "2023-02-01T08:26:57.087Z"
   },
   {
    "duration": 13,
    "start_time": "2023-02-01T08:26:57.133Z"
   },
   {
    "duration": 14,
    "start_time": "2023-02-01T08:26:57.147Z"
   },
   {
    "duration": 7,
    "start_time": "2023-02-01T08:26:57.162Z"
   },
   {
    "duration": 9,
    "start_time": "2023-02-01T08:26:57.171Z"
   },
   {
    "duration": 11,
    "start_time": "2023-02-01T08:26:57.181Z"
   },
   {
    "duration": 37,
    "start_time": "2023-02-01T08:26:57.193Z"
   },
   {
    "duration": 15,
    "start_time": "2023-02-01T08:26:57.235Z"
   },
   {
    "duration": 17,
    "start_time": "2023-02-01T08:26:57.251Z"
   },
   {
    "duration": 9,
    "start_time": "2023-02-01T08:26:57.270Z"
   },
   {
    "duration": 222,
    "start_time": "2023-02-01T08:26:57.280Z"
   },
   {
    "duration": 135,
    "start_time": "2023-02-01T08:26:57.503Z"
   },
   {
    "duration": 8,
    "start_time": "2023-02-01T08:26:57.640Z"
   },
   {
    "duration": 312,
    "start_time": "2023-02-01T08:26:57.650Z"
   },
   {
    "duration": 220,
    "start_time": "2023-02-01T08:26:57.963Z"
   },
   {
    "duration": 336,
    "start_time": "2023-02-01T08:26:58.185Z"
   },
   {
    "duration": 218,
    "start_time": "2023-02-01T08:26:58.524Z"
   },
   {
    "duration": 292,
    "start_time": "2023-02-01T08:26:58.744Z"
   },
   {
    "duration": 7,
    "start_time": "2023-02-01T08:26:59.038Z"
   },
   {
    "duration": 167,
    "start_time": "2023-02-01T08:26:59.047Z"
   },
   {
    "duration": 17,
    "start_time": "2023-02-01T08:26:59.216Z"
   },
   {
    "duration": 24,
    "start_time": "2023-02-01T08:26:59.236Z"
   },
   {
    "duration": 11,
    "start_time": "2023-02-01T08:26:59.261Z"
   },
   {
    "duration": 149,
    "start_time": "2023-02-01T08:26:59.273Z"
   },
   {
    "duration": 177,
    "start_time": "2023-02-01T08:26:59.425Z"
   },
   {
    "duration": 5,
    "start_time": "2023-02-01T08:26:59.604Z"
   },
   {
    "duration": 17,
    "start_time": "2023-02-01T08:26:59.620Z"
   },
   {
    "duration": 6,
    "start_time": "2023-02-01T08:26:59.640Z"
   },
   {
    "duration": 128,
    "start_time": "2023-02-01T08:26:59.648Z"
   },
   {
    "duration": 7,
    "start_time": "2023-02-01T08:26:59.778Z"
   },
   {
    "duration": 60,
    "start_time": "2023-02-01T08:26:59.787Z"
   },
   {
    "duration": 17,
    "start_time": "2023-02-01T08:26:59.849Z"
   },
   {
    "duration": 61,
    "start_time": "2023-02-01T08:26:59.867Z"
   },
   {
    "duration": 22,
    "start_time": "2023-02-01T08:26:59.931Z"
   },
   {
    "duration": 63,
    "start_time": "2023-02-01T08:26:59.958Z"
   },
   {
    "duration": 22,
    "start_time": "2023-02-01T08:27:00.023Z"
   },
   {
    "duration": 91,
    "start_time": "2023-02-01T08:27:00.047Z"
   },
   {
    "duration": 93,
    "start_time": "2023-02-01T08:27:00.140Z"
   },
   {
    "duration": 5,
    "start_time": "2023-02-01T08:27:00.236Z"
   },
   {
    "duration": 12,
    "start_time": "2023-02-01T08:27:00.243Z"
   },
   {
    "duration": 38,
    "start_time": "2023-02-01T08:27:00.256Z"
   },
   {
    "duration": 4,
    "start_time": "2023-02-01T08:27:00.296Z"
   },
   {
    "duration": 41,
    "start_time": "2023-02-01T08:27:00.301Z"
   },
   {
    "duration": 15,
    "start_time": "2023-02-01T08:27:00.344Z"
   },
   {
    "duration": 8,
    "start_time": "2023-02-01T08:27:00.361Z"
   },
   {
    "duration": 23,
    "start_time": "2023-02-01T08:27:00.371Z"
   },
   {
    "duration": 66,
    "start_time": "2023-02-01T08:27:00.396Z"
   },
   {
    "duration": 39,
    "start_time": "2023-02-01T08:27:00.464Z"
   },
   {
    "duration": 63,
    "start_time": "2023-02-01T08:27:00.505Z"
   },
   {
    "duration": 51,
    "start_time": "2023-02-01T08:27:00.569Z"
   },
   {
    "duration": 18,
    "start_time": "2023-02-01T08:27:00.622Z"
   },
   {
    "duration": 27,
    "start_time": "2023-02-01T08:27:00.642Z"
   },
   {
    "duration": 25,
    "start_time": "2023-02-01T08:27:00.671Z"
   },
   {
    "duration": 70,
    "start_time": "2023-02-01T08:37:12.132Z"
   },
   {
    "duration": 72,
    "start_time": "2023-02-01T08:37:20.352Z"
   },
   {
    "duration": 9,
    "start_time": "2023-02-01T09:20:38.031Z"
   },
   {
    "duration": 1243,
    "start_time": "2023-02-01T09:20:52.770Z"
   },
   {
    "duration": 6,
    "start_time": "2023-02-01T09:20:54.016Z"
   },
   {
    "duration": 116,
    "start_time": "2023-02-01T09:20:54.024Z"
   },
   {
    "duration": 89,
    "start_time": "2023-02-01T09:20:54.142Z"
   },
   {
    "duration": 8,
    "start_time": "2023-02-01T09:20:54.233Z"
   },
   {
    "duration": 10,
    "start_time": "2023-02-01T09:20:54.243Z"
   },
   {
    "duration": 32,
    "start_time": "2023-02-01T09:20:54.255Z"
   },
   {
    "duration": 41,
    "start_time": "2023-02-01T09:20:54.289Z"
   },
   {
    "duration": 27,
    "start_time": "2023-02-01T09:20:54.332Z"
   },
   {
    "duration": 9,
    "start_time": "2023-02-01T09:20:54.361Z"
   },
   {
    "duration": 13,
    "start_time": "2023-02-01T09:20:54.372Z"
   },
   {
    "duration": 14,
    "start_time": "2023-02-01T09:20:54.386Z"
   },
   {
    "duration": 23,
    "start_time": "2023-02-01T09:20:54.402Z"
   },
   {
    "duration": 15,
    "start_time": "2023-02-01T09:20:54.429Z"
   },
   {
    "duration": 16,
    "start_time": "2023-02-01T09:20:54.446Z"
   },
   {
    "duration": 12,
    "start_time": "2023-02-01T09:20:54.464Z"
   },
   {
    "duration": 291,
    "start_time": "2023-02-01T09:20:54.478Z"
   },
   {
    "duration": 183,
    "start_time": "2023-02-01T09:20:54.772Z"
   },
   {
    "duration": 9,
    "start_time": "2023-02-01T09:20:54.957Z"
   },
   {
    "duration": 360,
    "start_time": "2023-02-01T09:20:54.968Z"
   },
   {
    "duration": 248,
    "start_time": "2023-02-01T09:20:55.329Z"
   },
   {
    "duration": 349,
    "start_time": "2023-02-01T09:20:55.579Z"
   },
   {
    "duration": 253,
    "start_time": "2023-02-01T09:20:55.931Z"
   },
   {
    "duration": 347,
    "start_time": "2023-02-01T09:20:56.187Z"
   },
   {
    "duration": 8,
    "start_time": "2023-02-01T09:20:56.537Z"
   },
   {
    "duration": 197,
    "start_time": "2023-02-01T09:20:56.548Z"
   },
   {
    "duration": 13,
    "start_time": "2023-02-01T09:20:56.747Z"
   },
   {
    "duration": 15,
    "start_time": "2023-02-01T09:20:56.764Z"
   },
   {
    "duration": 17,
    "start_time": "2023-02-01T09:20:56.781Z"
   },
   {
    "duration": 160,
    "start_time": "2023-02-01T09:20:56.822Z"
   },
   {
    "duration": 188,
    "start_time": "2023-02-01T09:20:56.985Z"
   },
   {
    "duration": 6,
    "start_time": "2023-02-01T09:20:57.175Z"
   },
   {
    "duration": 12,
    "start_time": "2023-02-01T09:20:57.183Z"
   },
   {
    "duration": 26,
    "start_time": "2023-02-01T09:20:57.197Z"
   },
   {
    "duration": 158,
    "start_time": "2023-02-01T09:20:57.225Z"
   },
   {
    "duration": 11,
    "start_time": "2023-02-01T09:20:57.385Z"
   },
   {
    "duration": 63,
    "start_time": "2023-02-01T09:20:57.398Z"
   },
   {
    "duration": 19,
    "start_time": "2023-02-01T09:20:57.463Z"
   },
   {
    "duration": 93,
    "start_time": "2023-02-01T09:20:57.484Z"
   },
   {
    "duration": 21,
    "start_time": "2023-02-01T09:20:57.579Z"
   },
   {
    "duration": 75,
    "start_time": "2023-02-01T09:20:57.605Z"
   },
   {
    "duration": 43,
    "start_time": "2023-02-01T09:20:57.682Z"
   },
   {
    "duration": 140,
    "start_time": "2023-02-01T09:20:57.727Z"
   },
   {
    "duration": 101,
    "start_time": "2023-02-01T09:20:57.872Z"
   },
   {
    "duration": 6,
    "start_time": "2023-02-01T09:20:57.976Z"
   },
   {
    "duration": 9,
    "start_time": "2023-02-01T09:20:57.986Z"
   },
   {
    "duration": 58,
    "start_time": "2023-02-01T09:20:57.997Z"
   },
   {
    "duration": 5,
    "start_time": "2023-02-01T09:20:58.057Z"
   },
   {
    "duration": 12,
    "start_time": "2023-02-01T09:20:58.064Z"
   },
   {
    "duration": 8,
    "start_time": "2023-02-01T09:20:58.078Z"
   },
   {
    "duration": 35,
    "start_time": "2023-02-01T09:20:58.088Z"
   },
   {
    "duration": 16,
    "start_time": "2023-02-01T09:20:58.127Z"
   },
   {
    "duration": 8,
    "start_time": "2023-02-01T09:20:58.146Z"
   },
   {
    "duration": 14,
    "start_time": "2023-02-01T09:20:58.157Z"
   },
   {
    "duration": 7,
    "start_time": "2023-02-01T09:20:58.174Z"
   },
   {
    "duration": 87,
    "start_time": "2023-02-01T09:20:58.183Z"
   },
   {
    "duration": 7,
    "start_time": "2023-02-01T09:20:58.273Z"
   },
   {
    "duration": 22,
    "start_time": "2023-02-01T09:20:58.282Z"
   },
   {
    "duration": 13,
    "start_time": "2023-02-01T09:20:58.321Z"
   },
   {
    "duration": 1315,
    "start_time": "2023-02-01T09:23:53.424Z"
   },
   {
    "duration": 7,
    "start_time": "2023-02-01T09:23:54.743Z"
   },
   {
    "duration": 118,
    "start_time": "2023-02-01T09:23:54.753Z"
   },
   {
    "duration": 75,
    "start_time": "2023-02-01T09:23:54.873Z"
   },
   {
    "duration": 8,
    "start_time": "2023-02-01T09:23:54.951Z"
   },
   {
    "duration": 27,
    "start_time": "2023-02-01T09:23:54.961Z"
   },
   {
    "duration": 70,
    "start_time": "2023-02-01T09:23:54.990Z"
   },
   {
    "duration": 17,
    "start_time": "2023-02-01T09:23:55.062Z"
   },
   {
    "duration": 69,
    "start_time": "2023-02-01T09:23:55.081Z"
   },
   {
    "duration": 11,
    "start_time": "2023-02-01T09:23:55.152Z"
   },
   {
    "duration": 12,
    "start_time": "2023-02-01T09:23:55.165Z"
   },
   {
    "duration": 15,
    "start_time": "2023-02-01T09:23:55.179Z"
   },
   {
    "duration": 31,
    "start_time": "2023-02-01T09:23:55.196Z"
   },
   {
    "duration": 26,
    "start_time": "2023-02-01T09:23:55.232Z"
   },
   {
    "duration": 32,
    "start_time": "2023-02-01T09:23:55.261Z"
   },
   {
    "duration": 13,
    "start_time": "2023-02-01T09:23:55.296Z"
   },
   {
    "duration": 223,
    "start_time": "2023-02-01T09:23:55.312Z"
   },
   {
    "duration": 157,
    "start_time": "2023-02-01T09:23:55.538Z"
   },
   {
    "duration": 24,
    "start_time": "2023-02-01T09:23:55.698Z"
   },
   {
    "duration": 370,
    "start_time": "2023-02-01T09:23:55.725Z"
   },
   {
    "duration": 239,
    "start_time": "2023-02-01T09:23:56.097Z"
   },
   {
    "duration": 377,
    "start_time": "2023-02-01T09:23:56.338Z"
   },
   {
    "duration": 229,
    "start_time": "2023-02-01T09:23:56.722Z"
   },
   {
    "duration": 306,
    "start_time": "2023-02-01T09:23:56.953Z"
   },
   {
    "duration": 8,
    "start_time": "2023-02-01T09:23:57.261Z"
   },
   {
    "duration": 199,
    "start_time": "2023-02-01T09:23:57.271Z"
   },
   {
    "duration": 9,
    "start_time": "2023-02-01T09:23:57.473Z"
   },
   {
    "duration": 5,
    "start_time": "2023-02-01T09:23:57.484Z"
   },
   {
    "duration": 39,
    "start_time": "2023-02-01T09:23:57.491Z"
   },
   {
    "duration": 182,
    "start_time": "2023-02-01T09:23:57.534Z"
   },
   {
    "duration": 172,
    "start_time": "2023-02-01T09:23:57.718Z"
   },
   {
    "duration": 6,
    "start_time": "2023-02-01T09:23:57.892Z"
   },
   {
    "duration": 91,
    "start_time": "2023-02-01T09:23:57.899Z"
   },
   {
    "duration": 94,
    "start_time": "2023-02-01T09:23:57.991Z"
   },
   {
    "duration": 125,
    "start_time": "2023-02-01T09:23:58.087Z"
   },
   {
    "duration": 0,
    "start_time": "2023-02-01T09:23:58.214Z"
   },
   {
    "duration": 0,
    "start_time": "2023-02-01T09:23:58.215Z"
   },
   {
    "duration": 0,
    "start_time": "2023-02-01T09:23:58.221Z"
   },
   {
    "duration": 0,
    "start_time": "2023-02-01T09:23:58.222Z"
   },
   {
    "duration": 0,
    "start_time": "2023-02-01T09:23:58.223Z"
   },
   {
    "duration": 0,
    "start_time": "2023-02-01T09:23:58.224Z"
   },
   {
    "duration": 0,
    "start_time": "2023-02-01T09:23:58.225Z"
   },
   {
    "duration": 0,
    "start_time": "2023-02-01T09:23:58.227Z"
   },
   {
    "duration": 0,
    "start_time": "2023-02-01T09:23:58.332Z"
   },
   {
    "duration": 0,
    "start_time": "2023-02-01T09:23:58.337Z"
   },
   {
    "duration": 0,
    "start_time": "2023-02-01T09:23:58.339Z"
   },
   {
    "duration": 1,
    "start_time": "2023-02-01T09:23:58.340Z"
   },
   {
    "duration": 0,
    "start_time": "2023-02-01T09:23:58.342Z"
   },
   {
    "duration": 0,
    "start_time": "2023-02-01T09:23:58.344Z"
   },
   {
    "duration": 1231,
    "start_time": "2023-02-01T09:25:12.294Z"
   },
   {
    "duration": 6,
    "start_time": "2023-02-01T09:25:13.529Z"
   },
   {
    "duration": 93,
    "start_time": "2023-02-01T09:25:13.538Z"
   },
   {
    "duration": 98,
    "start_time": "2023-02-01T09:25:13.633Z"
   },
   {
    "duration": 8,
    "start_time": "2023-02-01T09:25:13.736Z"
   },
   {
    "duration": 9,
    "start_time": "2023-02-01T09:25:13.747Z"
   },
   {
    "duration": 15,
    "start_time": "2023-02-01T09:25:13.758Z"
   },
   {
    "duration": 52,
    "start_time": "2023-02-01T09:25:13.775Z"
   },
   {
    "duration": 15,
    "start_time": "2023-02-01T09:25:13.829Z"
   },
   {
    "duration": 7,
    "start_time": "2023-02-01T09:25:13.845Z"
   },
   {
    "duration": 13,
    "start_time": "2023-02-01T09:25:13.853Z"
   },
   {
    "duration": 12,
    "start_time": "2023-02-01T09:25:13.868Z"
   },
   {
    "duration": 47,
    "start_time": "2023-02-01T09:25:13.882Z"
   },
   {
    "duration": 18,
    "start_time": "2023-02-01T09:25:13.934Z"
   },
   {
    "duration": 20,
    "start_time": "2023-02-01T09:25:13.954Z"
   },
   {
    "duration": 14,
    "start_time": "2023-02-01T09:25:13.976Z"
   },
   {
    "duration": 239,
    "start_time": "2023-02-01T09:25:13.992Z"
   },
   {
    "duration": 150,
    "start_time": "2023-02-01T09:25:14.233Z"
   },
   {
    "duration": 14,
    "start_time": "2023-02-01T09:25:14.386Z"
   },
   {
    "duration": 397,
    "start_time": "2023-02-01T09:25:14.402Z"
   },
   {
    "duration": 330,
    "start_time": "2023-02-01T09:25:14.801Z"
   },
   {
    "duration": 388,
    "start_time": "2023-02-01T09:25:15.135Z"
   },
   {
    "duration": 238,
    "start_time": "2023-02-01T09:25:15.526Z"
   },
   {
    "duration": 378,
    "start_time": "2023-02-01T09:25:15.766Z"
   },
   {
    "duration": 9,
    "start_time": "2023-02-01T09:25:16.145Z"
   },
   {
    "duration": 187,
    "start_time": "2023-02-01T09:25:16.156Z"
   },
   {
    "duration": 9,
    "start_time": "2023-02-01T09:25:16.345Z"
   },
   {
    "duration": 13,
    "start_time": "2023-02-01T09:25:16.356Z"
   },
   {
    "duration": 13,
    "start_time": "2023-02-01T09:25:16.371Z"
   },
   {
    "duration": 187,
    "start_time": "2023-02-01T09:25:16.386Z"
   },
   {
    "duration": 175,
    "start_time": "2023-02-01T09:25:16.575Z"
   },
   {
    "duration": 8,
    "start_time": "2023-02-01T09:25:16.752Z"
   },
   {
    "duration": 94,
    "start_time": "2023-02-01T09:25:16.763Z"
   },
   {
    "duration": 87,
    "start_time": "2023-02-01T09:25:16.859Z"
   },
   {
    "duration": 6,
    "start_time": "2023-02-01T09:25:16.948Z"
   },
   {
    "duration": 22,
    "start_time": "2023-02-01T09:25:16.957Z"
   },
   {
    "duration": 71,
    "start_time": "2023-02-01T09:25:16.981Z"
   },
   {
    "duration": 6,
    "start_time": "2023-02-01T09:25:17.054Z"
   },
   {
    "duration": 34,
    "start_time": "2023-02-01T09:25:17.063Z"
   },
   {
    "duration": 95,
    "start_time": "2023-02-01T09:25:17.099Z"
   },
   {
    "duration": 7,
    "start_time": "2023-02-01T09:25:17.198Z"
   },
   {
    "duration": 15,
    "start_time": "2023-02-01T09:25:17.208Z"
   },
   {
    "duration": 3,
    "start_time": "2023-02-01T09:25:17.225Z"
   },
   {
    "duration": 7,
    "start_time": "2023-02-01T09:25:17.230Z"
   },
   {
    "duration": 7,
    "start_time": "2023-02-01T09:25:17.239Z"
   },
   {
    "duration": 75,
    "start_time": "2023-02-01T09:25:17.248Z"
   },
   {
    "duration": 6,
    "start_time": "2023-02-01T09:25:17.325Z"
   },
   {
    "duration": 17,
    "start_time": "2023-02-01T09:25:17.333Z"
   },
   {
    "duration": 10,
    "start_time": "2023-02-01T09:25:17.352Z"
   },
   {
    "duration": 1324,
    "start_time": "2023-02-01T09:27:12.808Z"
   },
   {
    "duration": 4,
    "start_time": "2023-02-01T09:27:14.135Z"
   },
   {
    "duration": 96,
    "start_time": "2023-02-01T09:27:14.141Z"
   },
   {
    "duration": 110,
    "start_time": "2023-02-01T09:27:14.241Z"
   },
   {
    "duration": 8,
    "start_time": "2023-02-01T09:27:14.353Z"
   },
   {
    "duration": 21,
    "start_time": "2023-02-01T09:27:14.363Z"
   },
   {
    "duration": 28,
    "start_time": "2023-02-01T09:27:14.387Z"
   },
   {
    "duration": 9,
    "start_time": "2023-02-01T09:27:14.422Z"
   },
   {
    "duration": 25,
    "start_time": "2023-02-01T09:27:14.434Z"
   },
   {
    "duration": 37,
    "start_time": "2023-02-01T09:27:14.463Z"
   },
   {
    "duration": 26,
    "start_time": "2023-02-01T09:27:14.503Z"
   },
   {
    "duration": 28,
    "start_time": "2023-02-01T09:27:14.531Z"
   },
   {
    "duration": 59,
    "start_time": "2023-02-01T09:27:14.562Z"
   },
   {
    "duration": 46,
    "start_time": "2023-02-01T09:27:14.624Z"
   },
   {
    "duration": 36,
    "start_time": "2023-02-01T09:27:14.672Z"
   },
   {
    "duration": 28,
    "start_time": "2023-02-01T09:27:14.710Z"
   },
   {
    "duration": 312,
    "start_time": "2023-02-01T09:27:14.742Z"
   },
   {
    "duration": 193,
    "start_time": "2023-02-01T09:27:15.057Z"
   },
   {
    "duration": 11,
    "start_time": "2023-02-01T09:27:15.252Z"
   },
   {
    "duration": 377,
    "start_time": "2023-02-01T09:27:15.266Z"
   },
   {
    "duration": 269,
    "start_time": "2023-02-01T09:27:15.645Z"
   },
   {
    "duration": 364,
    "start_time": "2023-02-01T09:27:15.920Z"
   },
   {
    "duration": 297,
    "start_time": "2023-02-01T09:27:16.287Z"
   },
   {
    "duration": 435,
    "start_time": "2023-02-01T09:27:16.586Z"
   },
   {
    "duration": 10,
    "start_time": "2023-02-01T09:27:17.022Z"
   },
   {
    "duration": 195,
    "start_time": "2023-02-01T09:27:17.034Z"
   },
   {
    "duration": 13,
    "start_time": "2023-02-01T09:27:17.231Z"
   },
   {
    "duration": 13,
    "start_time": "2023-02-01T09:27:17.248Z"
   },
   {
    "duration": 24,
    "start_time": "2023-02-01T09:27:17.264Z"
   },
   {
    "duration": 188,
    "start_time": "2023-02-01T09:27:17.290Z"
   },
   {
    "duration": 177,
    "start_time": "2023-02-01T09:27:17.482Z"
   },
   {
    "duration": 7,
    "start_time": "2023-02-01T09:27:17.661Z"
   },
   {
    "duration": 155,
    "start_time": "2023-02-01T09:27:17.670Z"
   },
   {
    "duration": 109,
    "start_time": "2023-02-01T09:27:17.827Z"
   },
   {
    "duration": 5,
    "start_time": "2023-02-01T09:27:17.938Z"
   },
   {
    "duration": 12,
    "start_time": "2023-02-01T09:27:17.946Z"
   },
   {
    "duration": 69,
    "start_time": "2023-02-01T09:27:17.960Z"
   },
   {
    "duration": 6,
    "start_time": "2023-02-01T09:27:18.031Z"
   },
   {
    "duration": 18,
    "start_time": "2023-02-01T09:27:18.040Z"
   },
   {
    "duration": 9,
    "start_time": "2023-02-01T09:27:18.060Z"
   },
   {
    "duration": 12,
    "start_time": "2023-02-01T09:27:18.071Z"
   },
   {
    "duration": 8,
    "start_time": "2023-02-01T09:27:18.085Z"
   },
   {
    "duration": 26,
    "start_time": "2023-02-01T09:27:18.095Z"
   },
   {
    "duration": 84,
    "start_time": "2023-02-01T09:27:18.125Z"
   },
   {
    "duration": 8,
    "start_time": "2023-02-01T09:27:18.221Z"
   },
   {
    "duration": 97,
    "start_time": "2023-02-01T09:27:18.232Z"
   },
   {
    "duration": 6,
    "start_time": "2023-02-01T09:27:18.332Z"
   },
   {
    "duration": 27,
    "start_time": "2023-02-01T09:27:18.340Z"
   },
   {
    "duration": 11,
    "start_time": "2023-02-01T09:27:18.369Z"
   },
   {
    "duration": 107,
    "start_time": "2023-02-01T09:28:52.710Z"
   },
   {
    "duration": 7,
    "start_time": "2023-02-01T09:29:12.419Z"
   },
   {
    "duration": 1192,
    "start_time": "2023-02-01T09:29:18.749Z"
   },
   {
    "duration": 3,
    "start_time": "2023-02-01T09:29:19.943Z"
   },
   {
    "duration": 93,
    "start_time": "2023-02-01T09:29:19.948Z"
   },
   {
    "duration": 88,
    "start_time": "2023-02-01T09:29:20.046Z"
   },
   {
    "duration": 7,
    "start_time": "2023-02-01T09:29:20.136Z"
   },
   {
    "duration": 8,
    "start_time": "2023-02-01T09:29:20.145Z"
   },
   {
    "duration": 17,
    "start_time": "2023-02-01T09:29:20.156Z"
   },
   {
    "duration": 8,
    "start_time": "2023-02-01T09:29:20.175Z"
   },
   {
    "duration": 15,
    "start_time": "2023-02-01T09:29:20.222Z"
   },
   {
    "duration": 9,
    "start_time": "2023-02-01T09:29:20.240Z"
   },
   {
    "duration": 12,
    "start_time": "2023-02-01T09:29:20.251Z"
   },
   {
    "duration": 13,
    "start_time": "2023-02-01T09:29:20.266Z"
   },
   {
    "duration": 48,
    "start_time": "2023-02-01T09:29:20.281Z"
   },
   {
    "duration": 16,
    "start_time": "2023-02-01T09:29:20.331Z"
   },
   {
    "duration": 15,
    "start_time": "2023-02-01T09:29:20.350Z"
   },
   {
    "duration": 11,
    "start_time": "2023-02-01T09:29:20.367Z"
   },
   {
    "duration": 252,
    "start_time": "2023-02-01T09:29:20.380Z"
   },
   {
    "duration": 152,
    "start_time": "2023-02-01T09:29:20.633Z"
   },
   {
    "duration": 8,
    "start_time": "2023-02-01T09:29:20.787Z"
   },
   {
    "duration": 327,
    "start_time": "2023-02-01T09:29:20.797Z"
   },
   {
    "duration": 232,
    "start_time": "2023-02-01T09:29:21.126Z"
   },
   {
    "duration": 365,
    "start_time": "2023-02-01T09:29:21.360Z"
   },
   {
    "duration": 240,
    "start_time": "2023-02-01T09:29:21.727Z"
   },
   {
    "duration": 354,
    "start_time": "2023-02-01T09:29:21.969Z"
   },
   {
    "duration": 9,
    "start_time": "2023-02-01T09:29:22.326Z"
   },
   {
    "duration": 204,
    "start_time": "2023-02-01T09:29:22.337Z"
   },
   {
    "duration": 10,
    "start_time": "2023-02-01T09:29:22.544Z"
   },
   {
    "duration": 8,
    "start_time": "2023-02-01T09:29:22.558Z"
   },
   {
    "duration": 29,
    "start_time": "2023-02-01T09:29:22.568Z"
   },
   {
    "duration": 194,
    "start_time": "2023-02-01T09:29:22.600Z"
   },
   {
    "duration": 173,
    "start_time": "2023-02-01T09:29:22.797Z"
   },
   {
    "duration": 6,
    "start_time": "2023-02-01T09:29:22.972Z"
   },
   {
    "duration": 115,
    "start_time": "2023-02-01T09:29:22.980Z"
   },
   {
    "duration": 93,
    "start_time": "2023-02-01T09:29:23.097Z"
   },
   {
    "duration": 20,
    "start_time": "2023-02-01T09:29:23.192Z"
   },
   {
    "duration": 15,
    "start_time": "2023-02-01T09:29:23.222Z"
   },
   {
    "duration": 86,
    "start_time": "2023-02-01T09:29:23.239Z"
   },
   {
    "duration": 6,
    "start_time": "2023-02-01T09:29:23.327Z"
   },
   {
    "duration": 33,
    "start_time": "2023-02-01T09:29:23.335Z"
   },
   {
    "duration": 10,
    "start_time": "2023-02-01T09:29:23.370Z"
   },
   {
    "duration": 13,
    "start_time": "2023-02-01T09:29:23.383Z"
   },
   {
    "duration": 27,
    "start_time": "2023-02-01T09:29:23.399Z"
   },
   {
    "duration": 28,
    "start_time": "2023-02-01T09:29:23.429Z"
   },
   {
    "duration": 132,
    "start_time": "2023-02-01T09:29:23.460Z"
   },
   {
    "duration": 25,
    "start_time": "2023-02-01T09:29:23.595Z"
   },
   {
    "duration": 81,
    "start_time": "2023-02-01T09:29:23.623Z"
   },
   {
    "duration": 7,
    "start_time": "2023-02-01T09:29:23.706Z"
   },
   {
    "duration": 39,
    "start_time": "2023-02-01T09:29:23.715Z"
   },
   {
    "duration": 16,
    "start_time": "2023-02-01T09:29:23.757Z"
   },
   {
    "duration": 1253,
    "start_time": "2023-02-01T09:30:08.456Z"
   },
   {
    "duration": 3,
    "start_time": "2023-02-01T09:30:09.712Z"
   },
   {
    "duration": 88,
    "start_time": "2023-02-01T09:30:09.721Z"
   },
   {
    "duration": 113,
    "start_time": "2023-02-01T09:30:09.813Z"
   },
   {
    "duration": 8,
    "start_time": "2023-02-01T09:30:09.928Z"
   },
   {
    "duration": 10,
    "start_time": "2023-02-01T09:30:09.938Z"
   },
   {
    "duration": 15,
    "start_time": "2023-02-01T09:30:09.951Z"
   },
   {
    "duration": 7,
    "start_time": "2023-02-01T09:30:09.968Z"
   },
   {
    "duration": 50,
    "start_time": "2023-02-01T09:30:09.978Z"
   },
   {
    "duration": 4,
    "start_time": "2023-02-01T09:30:10.033Z"
   },
   {
    "duration": 15,
    "start_time": "2023-02-01T09:30:10.040Z"
   },
   {
    "duration": 13,
    "start_time": "2023-02-01T09:30:10.057Z"
   },
   {
    "duration": 16,
    "start_time": "2023-02-01T09:30:10.072Z"
   },
   {
    "duration": 41,
    "start_time": "2023-02-01T09:30:10.090Z"
   },
   {
    "duration": 36,
    "start_time": "2023-02-01T09:30:10.133Z"
   },
   {
    "duration": 9,
    "start_time": "2023-02-01T09:30:10.170Z"
   },
   {
    "duration": 228,
    "start_time": "2023-02-01T09:30:10.181Z"
   },
   {
    "duration": 145,
    "start_time": "2023-02-01T09:30:10.411Z"
   },
   {
    "duration": 7,
    "start_time": "2023-02-01T09:30:10.558Z"
   },
   {
    "duration": 326,
    "start_time": "2023-02-01T09:30:10.567Z"
   },
   {
    "duration": 234,
    "start_time": "2023-02-01T09:30:10.894Z"
   },
   {
    "duration": 302,
    "start_time": "2023-02-01T09:30:11.130Z"
   },
   {
    "duration": 241,
    "start_time": "2023-02-01T09:30:11.434Z"
   },
   {
    "duration": 340,
    "start_time": "2023-02-01T09:30:11.677Z"
   },
   {
    "duration": 7,
    "start_time": "2023-02-01T09:30:12.020Z"
   },
   {
    "duration": 182,
    "start_time": "2023-02-01T09:30:12.029Z"
   },
   {
    "duration": 14,
    "start_time": "2023-02-01T09:30:12.213Z"
   },
   {
    "duration": 6,
    "start_time": "2023-02-01T09:30:12.231Z"
   },
   {
    "duration": 14,
    "start_time": "2023-02-01T09:30:12.239Z"
   },
   {
    "duration": 213,
    "start_time": "2023-02-01T09:30:12.255Z"
   },
   {
    "duration": 182,
    "start_time": "2023-02-01T09:30:12.470Z"
   },
   {
    "duration": 6,
    "start_time": "2023-02-01T09:30:12.654Z"
   },
   {
    "duration": 126,
    "start_time": "2023-02-01T09:30:12.662Z"
   },
   {
    "duration": 145,
    "start_time": "2023-02-01T09:30:12.791Z"
   },
   {
    "duration": 5,
    "start_time": "2023-02-01T09:30:12.938Z"
   },
   {
    "duration": 12,
    "start_time": "2023-02-01T09:30:12.944Z"
   },
   {
    "duration": 64,
    "start_time": "2023-02-01T09:30:12.958Z"
   },
   {
    "duration": 5,
    "start_time": "2023-02-01T09:30:13.023Z"
   },
   {
    "duration": 14,
    "start_time": "2023-02-01T09:30:13.030Z"
   },
   {
    "duration": 9,
    "start_time": "2023-02-01T09:30:13.047Z"
   },
   {
    "duration": 11,
    "start_time": "2023-02-01T09:30:13.059Z"
   },
   {
    "duration": 12,
    "start_time": "2023-02-01T09:30:13.073Z"
   },
   {
    "duration": 33,
    "start_time": "2023-02-01T09:30:13.089Z"
   },
   {
    "duration": 83,
    "start_time": "2023-02-01T09:30:13.124Z"
   },
   {
    "duration": 8,
    "start_time": "2023-02-01T09:30:13.222Z"
   },
   {
    "duration": 67,
    "start_time": "2023-02-01T09:30:13.232Z"
   },
   {
    "duration": 21,
    "start_time": "2023-02-01T09:30:13.301Z"
   },
   {
    "duration": 13,
    "start_time": "2023-02-01T09:30:13.325Z"
   },
   {
    "duration": 23,
    "start_time": "2023-02-01T09:30:13.341Z"
   },
   {
    "duration": 5,
    "start_time": "2023-02-01T09:33:36.119Z"
   },
   {
    "duration": 118,
    "start_time": "2023-02-01T09:38:13.078Z"
   },
   {
    "duration": 7,
    "start_time": "2023-02-01T09:38:30.103Z"
   },
   {
    "duration": 110,
    "start_time": "2023-02-01T09:38:56.391Z"
   },
   {
    "duration": 1155,
    "start_time": "2023-02-01T09:39:55.369Z"
   },
   {
    "duration": 3,
    "start_time": "2023-02-01T09:39:56.527Z"
   },
   {
    "duration": 89,
    "start_time": "2023-02-01T09:39:56.531Z"
   },
   {
    "duration": 63,
    "start_time": "2023-02-01T09:39:56.623Z"
   },
   {
    "duration": 38,
    "start_time": "2023-02-01T09:39:56.687Z"
   },
   {
    "duration": 12,
    "start_time": "2023-02-01T09:39:56.727Z"
   },
   {
    "duration": 13,
    "start_time": "2023-02-01T09:39:56.741Z"
   },
   {
    "duration": 10,
    "start_time": "2023-02-01T09:39:56.756Z"
   },
   {
    "duration": 24,
    "start_time": "2023-02-01T09:39:56.768Z"
   },
   {
    "duration": 7,
    "start_time": "2023-02-01T09:39:56.795Z"
   },
   {
    "duration": 32,
    "start_time": "2023-02-01T09:39:56.805Z"
   },
   {
    "duration": 16,
    "start_time": "2023-02-01T09:39:56.839Z"
   },
   {
    "duration": 23,
    "start_time": "2023-02-01T09:39:56.857Z"
   },
   {
    "duration": 16,
    "start_time": "2023-02-01T09:39:56.882Z"
   },
   {
    "duration": 25,
    "start_time": "2023-02-01T09:39:56.900Z"
   },
   {
    "duration": 14,
    "start_time": "2023-02-01T09:39:56.927Z"
   },
   {
    "duration": 205,
    "start_time": "2023-02-01T09:39:56.943Z"
   },
   {
    "duration": 153,
    "start_time": "2023-02-01T09:39:57.150Z"
   },
   {
    "duration": 8,
    "start_time": "2023-02-01T09:39:57.305Z"
   },
   {
    "duration": 317,
    "start_time": "2023-02-01T09:39:57.315Z"
   },
   {
    "duration": 245,
    "start_time": "2023-02-01T09:39:57.634Z"
   },
   {
    "duration": 360,
    "start_time": "2023-02-01T09:39:57.881Z"
   },
   {
    "duration": 229,
    "start_time": "2023-02-01T09:39:58.243Z"
   },
   {
    "duration": 347,
    "start_time": "2023-02-01T09:39:58.474Z"
   },
   {
    "duration": 8,
    "start_time": "2023-02-01T09:39:58.823Z"
   },
   {
    "duration": 196,
    "start_time": "2023-02-01T09:39:58.833Z"
   },
   {
    "duration": 9,
    "start_time": "2023-02-01T09:39:59.030Z"
   },
   {
    "duration": 23,
    "start_time": "2023-02-01T09:39:59.043Z"
   },
   {
    "duration": 23,
    "start_time": "2023-02-01T09:39:59.068Z"
   },
   {
    "duration": 175,
    "start_time": "2023-02-01T09:39:59.092Z"
   },
   {
    "duration": 167,
    "start_time": "2023-02-01T09:39:59.269Z"
   },
   {
    "duration": 5,
    "start_time": "2023-02-01T09:39:59.438Z"
   },
   {
    "duration": 88,
    "start_time": "2023-02-01T09:39:59.445Z"
   },
   {
    "duration": 94,
    "start_time": "2023-02-01T09:39:59.535Z"
   },
   {
    "duration": 20,
    "start_time": "2023-02-01T09:39:59.631Z"
   },
   {
    "duration": 12,
    "start_time": "2023-02-01T09:39:59.653Z"
   },
   {
    "duration": 66,
    "start_time": "2023-02-01T09:39:59.667Z"
   },
   {
    "duration": 5,
    "start_time": "2023-02-01T09:39:59.734Z"
   },
   {
    "duration": 37,
    "start_time": "2023-02-01T09:39:59.741Z"
   },
   {
    "duration": 15,
    "start_time": "2023-02-01T09:39:59.780Z"
   },
   {
    "duration": 26,
    "start_time": "2023-02-01T09:39:59.797Z"
   },
   {
    "duration": 26,
    "start_time": "2023-02-01T09:39:59.825Z"
   },
   {
    "duration": 31,
    "start_time": "2023-02-01T09:39:59.853Z"
   },
   {
    "duration": 85,
    "start_time": "2023-02-01T09:39:59.886Z"
   },
   {
    "duration": 14,
    "start_time": "2023-02-01T09:39:59.973Z"
   },
   {
    "duration": 53,
    "start_time": "2023-02-01T09:39:59.990Z"
   },
   {
    "duration": 6,
    "start_time": "2023-02-01T09:40:00.045Z"
   },
   {
    "duration": 21,
    "start_time": "2023-02-01T09:40:00.053Z"
   },
   {
    "duration": 14,
    "start_time": "2023-02-01T09:40:00.076Z"
   },
   {
    "duration": 1598,
    "start_time": "2023-02-01T09:40:54.846Z"
   },
   {
    "duration": 16,
    "start_time": "2023-02-01T09:42:08.394Z"
   },
   {
    "duration": 71,
    "start_time": "2023-02-01T09:43:24.302Z"
   },
   {
    "duration": 1290,
    "start_time": "2023-02-01T09:45:42.759Z"
   },
   {
    "duration": 6,
    "start_time": "2023-02-01T09:46:05.548Z"
   },
   {
    "duration": 1259,
    "start_time": "2023-02-01T09:46:11.085Z"
   },
   {
    "duration": 4,
    "start_time": "2023-02-01T09:46:12.347Z"
   },
   {
    "duration": 94,
    "start_time": "2023-02-01T09:46:12.353Z"
   },
   {
    "duration": 71,
    "start_time": "2023-02-01T09:46:12.450Z"
   },
   {
    "duration": 7,
    "start_time": "2023-02-01T09:46:12.522Z"
   },
   {
    "duration": 7,
    "start_time": "2023-02-01T09:46:12.531Z"
   },
   {
    "duration": 15,
    "start_time": "2023-02-01T09:46:12.539Z"
   },
   {
    "duration": 8,
    "start_time": "2023-02-01T09:46:12.556Z"
   },
   {
    "duration": 15,
    "start_time": "2023-02-01T09:46:12.566Z"
   },
   {
    "duration": 5,
    "start_time": "2023-02-01T09:46:12.583Z"
   },
   {
    "duration": 9,
    "start_time": "2023-02-01T09:46:12.621Z"
   },
   {
    "duration": 13,
    "start_time": "2023-02-01T09:46:12.632Z"
   },
   {
    "duration": 19,
    "start_time": "2023-02-01T09:46:12.647Z"
   },
   {
    "duration": 14,
    "start_time": "2023-02-01T09:46:12.668Z"
   },
   {
    "duration": 40,
    "start_time": "2023-02-01T09:46:12.684Z"
   },
   {
    "duration": 8,
    "start_time": "2023-02-01T09:46:12.726Z"
   },
   {
    "duration": 208,
    "start_time": "2023-02-01T09:46:12.736Z"
   },
   {
    "duration": 146,
    "start_time": "2023-02-01T09:46:12.946Z"
   },
   {
    "duration": 8,
    "start_time": "2023-02-01T09:46:13.094Z"
   },
   {
    "duration": 329,
    "start_time": "2023-02-01T09:46:13.104Z"
   },
   {
    "duration": 263,
    "start_time": "2023-02-01T09:46:13.435Z"
   },
   {
    "duration": 344,
    "start_time": "2023-02-01T09:46:13.701Z"
   },
   {
    "duration": 236,
    "start_time": "2023-02-01T09:46:14.048Z"
   },
   {
    "duration": 379,
    "start_time": "2023-02-01T09:46:14.287Z"
   },
   {
    "duration": 9,
    "start_time": "2023-02-01T09:46:14.668Z"
   },
   {
    "duration": 184,
    "start_time": "2023-02-01T09:46:14.680Z"
   },
   {
    "duration": 10,
    "start_time": "2023-02-01T09:46:14.866Z"
   },
   {
    "duration": 8,
    "start_time": "2023-02-01T09:46:14.879Z"
   },
   {
    "duration": 33,
    "start_time": "2023-02-01T09:46:14.889Z"
   },
   {
    "duration": 169,
    "start_time": "2023-02-01T09:46:14.924Z"
   },
   {
    "duration": 169,
    "start_time": "2023-02-01T09:46:15.095Z"
   },
   {
    "duration": 5,
    "start_time": "2023-02-01T09:46:15.266Z"
   },
   {
    "duration": 79,
    "start_time": "2023-02-01T09:46:15.273Z"
   },
   {
    "duration": 94,
    "start_time": "2023-02-01T09:46:15.354Z"
   },
   {
    "duration": 5,
    "start_time": "2023-02-01T09:46:15.450Z"
   },
   {
    "duration": 9,
    "start_time": "2023-02-01T09:46:15.457Z"
   },
   {
    "duration": 60,
    "start_time": "2023-02-01T09:46:15.468Z"
   },
   {
    "duration": 6,
    "start_time": "2023-02-01T09:46:15.530Z"
   },
   {
    "duration": 14,
    "start_time": "2023-02-01T09:46:15.537Z"
   },
   {
    "duration": 8,
    "start_time": "2023-02-01T09:46:15.553Z"
   },
   {
    "duration": 8,
    "start_time": "2023-02-01T09:46:15.563Z"
   },
   {
    "duration": 11,
    "start_time": "2023-02-01T09:46:15.572Z"
   },
   {
    "duration": 39,
    "start_time": "2023-02-01T09:46:15.585Z"
   },
   {
    "duration": 96,
    "start_time": "2023-02-01T09:46:15.626Z"
   },
   {
    "duration": 7,
    "start_time": "2023-02-01T09:46:15.724Z"
   },
   {
    "duration": 52,
    "start_time": "2023-02-01T09:46:15.733Z"
   },
   {
    "duration": 5,
    "start_time": "2023-02-01T09:46:15.787Z"
   },
   {
    "duration": 30,
    "start_time": "2023-02-01T09:46:15.794Z"
   },
   {
    "duration": 10,
    "start_time": "2023-02-01T09:46:15.827Z"
   },
   {
    "duration": 1240,
    "start_time": "2023-02-01T10:55:49.301Z"
   },
   {
    "duration": 4,
    "start_time": "2023-02-01T10:55:50.543Z"
   },
   {
    "duration": 114,
    "start_time": "2023-02-01T10:55:50.549Z"
   },
   {
    "duration": 81,
    "start_time": "2023-02-01T10:55:50.665Z"
   },
   {
    "duration": 7,
    "start_time": "2023-02-01T10:55:50.748Z"
   },
   {
    "duration": 10,
    "start_time": "2023-02-01T10:55:50.757Z"
   },
   {
    "duration": 21,
    "start_time": "2023-02-01T10:55:50.769Z"
   },
   {
    "duration": 8,
    "start_time": "2023-02-01T10:55:50.792Z"
   },
   {
    "duration": 46,
    "start_time": "2023-02-01T10:55:50.802Z"
   },
   {
    "duration": 8,
    "start_time": "2023-02-01T10:55:50.849Z"
   },
   {
    "duration": 8,
    "start_time": "2023-02-01T10:55:50.858Z"
   },
   {
    "duration": 11,
    "start_time": "2023-02-01T10:55:50.868Z"
   },
   {
    "duration": 14,
    "start_time": "2023-02-01T10:55:50.881Z"
   },
   {
    "duration": 13,
    "start_time": "2023-02-01T10:55:50.898Z"
   },
   {
    "duration": 18,
    "start_time": "2023-02-01T10:55:50.923Z"
   },
   {
    "duration": 6,
    "start_time": "2023-02-01T10:55:50.943Z"
   },
   {
    "duration": 230,
    "start_time": "2023-02-01T10:55:50.951Z"
   },
   {
    "duration": 150,
    "start_time": "2023-02-01T10:55:51.183Z"
   },
   {
    "duration": 7,
    "start_time": "2023-02-01T10:55:51.335Z"
   },
   {
    "duration": 334,
    "start_time": "2023-02-01T10:55:51.344Z"
   },
   {
    "duration": 229,
    "start_time": "2023-02-01T10:55:51.680Z"
   },
   {
    "duration": 346,
    "start_time": "2023-02-01T10:55:51.911Z"
   },
   {
    "duration": 280,
    "start_time": "2023-02-01T10:55:52.259Z"
   },
   {
    "duration": 296,
    "start_time": "2023-02-01T10:55:52.541Z"
   },
   {
    "duration": 8,
    "start_time": "2023-02-01T10:55:52.842Z"
   },
   {
    "duration": 175,
    "start_time": "2023-02-01T10:55:52.851Z"
   },
   {
    "duration": 11,
    "start_time": "2023-02-01T10:55:53.030Z"
   },
   {
    "duration": 6,
    "start_time": "2023-02-01T10:55:53.043Z"
   },
   {
    "duration": 11,
    "start_time": "2023-02-01T10:55:53.050Z"
   },
   {
    "duration": 175,
    "start_time": "2023-02-01T10:55:53.063Z"
   },
   {
    "duration": 163,
    "start_time": "2023-02-01T10:55:53.240Z"
   },
   {
    "duration": 6,
    "start_time": "2023-02-01T10:55:53.405Z"
   },
   {
    "duration": 68,
    "start_time": "2023-02-01T10:55:53.423Z"
   },
   {
    "duration": 95,
    "start_time": "2023-02-01T10:55:53.493Z"
   },
   {
    "duration": 6,
    "start_time": "2023-02-01T10:55:53.589Z"
   },
   {
    "duration": 31,
    "start_time": "2023-02-01T10:55:53.597Z"
   },
   {
    "duration": 45,
    "start_time": "2023-02-01T10:55:53.636Z"
   },
   {
    "duration": 5,
    "start_time": "2023-02-01T10:55:53.683Z"
   },
   {
    "duration": 15,
    "start_time": "2023-02-01T10:55:53.689Z"
   },
   {
    "duration": 94,
    "start_time": "2023-02-01T10:55:53.705Z"
   },
   {
    "duration": 7,
    "start_time": "2023-02-01T10:55:53.802Z"
   },
   {
    "duration": 22,
    "start_time": "2023-02-01T10:55:53.822Z"
   },
   {
    "duration": 7,
    "start_time": "2023-02-01T10:55:53.846Z"
   },
   {
    "duration": 10,
    "start_time": "2023-02-01T10:55:53.855Z"
   },
   {
    "duration": 7,
    "start_time": "2023-02-01T10:55:53.867Z"
   },
   {
    "duration": 63,
    "start_time": "2023-02-01T10:55:53.876Z"
   },
   {
    "duration": 6,
    "start_time": "2023-02-01T10:55:53.941Z"
   },
   {
    "duration": 17,
    "start_time": "2023-02-01T10:55:53.949Z"
   },
   {
    "duration": 11,
    "start_time": "2023-02-01T10:55:53.968Z"
   },
   {
    "duration": 5,
    "start_time": "2023-02-01T11:02:02.536Z"
   },
   {
    "duration": 3,
    "start_time": "2023-02-01T11:14:56.989Z"
   },
   {
    "duration": 3,
    "start_time": "2023-02-01T11:15:08.483Z"
   },
   {
    "duration": 1257,
    "start_time": "2023-02-01T11:15:20.442Z"
   },
   {
    "duration": 3,
    "start_time": "2023-02-01T11:15:21.702Z"
   },
   {
    "duration": 94,
    "start_time": "2023-02-01T11:15:21.707Z"
   },
   {
    "duration": 85,
    "start_time": "2023-02-01T11:15:21.803Z"
   },
   {
    "duration": 7,
    "start_time": "2023-02-01T11:15:21.889Z"
   },
   {
    "duration": 24,
    "start_time": "2023-02-01T11:15:21.897Z"
   },
   {
    "duration": 16,
    "start_time": "2023-02-01T11:15:21.924Z"
   },
   {
    "duration": 9,
    "start_time": "2023-02-01T11:15:21.942Z"
   },
   {
    "duration": 22,
    "start_time": "2023-02-01T11:15:21.953Z"
   },
   {
    "duration": 6,
    "start_time": "2023-02-01T11:15:21.978Z"
   },
   {
    "duration": 10,
    "start_time": "2023-02-01T11:15:21.985Z"
   },
   {
    "duration": 37,
    "start_time": "2023-02-01T11:15:21.997Z"
   },
   {
    "duration": 25,
    "start_time": "2023-02-01T11:15:22.037Z"
   },
   {
    "duration": 17,
    "start_time": "2023-02-01T11:15:22.064Z"
   },
   {
    "duration": 17,
    "start_time": "2023-02-01T11:15:22.083Z"
   },
   {
    "duration": 38,
    "start_time": "2023-02-01T11:15:22.101Z"
   },
   {
    "duration": 227,
    "start_time": "2023-02-01T11:15:22.141Z"
   },
   {
    "duration": 140,
    "start_time": "2023-02-01T11:15:22.370Z"
   },
   {
    "duration": 11,
    "start_time": "2023-02-01T11:15:22.512Z"
   },
   {
    "duration": 353,
    "start_time": "2023-02-01T11:15:22.525Z"
   },
   {
    "duration": 229,
    "start_time": "2023-02-01T11:15:22.880Z"
   },
   {
    "duration": 324,
    "start_time": "2023-02-01T11:15:23.111Z"
   },
   {
    "duration": 250,
    "start_time": "2023-02-01T11:15:23.438Z"
   },
   {
    "duration": 347,
    "start_time": "2023-02-01T11:15:23.690Z"
   },
   {
    "duration": 7,
    "start_time": "2023-02-01T11:15:24.040Z"
   },
   {
    "duration": 195,
    "start_time": "2023-02-01T11:15:24.048Z"
   },
   {
    "duration": 9,
    "start_time": "2023-02-01T11:15:24.245Z"
   },
   {
    "duration": 42,
    "start_time": "2023-02-01T11:15:24.259Z"
   },
   {
    "duration": 56,
    "start_time": "2023-02-01T11:15:24.302Z"
   },
   {
    "duration": 203,
    "start_time": "2023-02-01T11:15:24.360Z"
   },
   {
    "duration": 228,
    "start_time": "2023-02-01T11:15:24.566Z"
   },
   {
    "duration": 5,
    "start_time": "2023-02-01T11:15:24.797Z"
   },
   {
    "duration": 101,
    "start_time": "2023-02-01T11:15:24.804Z"
   },
   {
    "duration": 119,
    "start_time": "2023-02-01T11:15:24.927Z"
   },
   {
    "duration": 6,
    "start_time": "2023-02-01T11:15:25.048Z"
   },
   {
    "duration": 15,
    "start_time": "2023-02-01T11:15:25.057Z"
   },
   {
    "duration": 76,
    "start_time": "2023-02-01T11:15:25.075Z"
   },
   {
    "duration": 5,
    "start_time": "2023-02-01T11:15:25.153Z"
   },
   {
    "duration": 18,
    "start_time": "2023-02-01T11:15:25.160Z"
   },
   {
    "duration": 8,
    "start_time": "2023-02-01T11:15:25.180Z"
   },
   {
    "duration": 37,
    "start_time": "2023-02-01T11:15:25.190Z"
   },
   {
    "duration": 11,
    "start_time": "2023-02-01T11:15:25.229Z"
   },
   {
    "duration": 12,
    "start_time": "2023-02-01T11:15:25.242Z"
   },
   {
    "duration": 91,
    "start_time": "2023-02-01T11:15:25.256Z"
   },
   {
    "duration": 18,
    "start_time": "2023-02-01T11:15:25.349Z"
   },
   {
    "duration": 17,
    "start_time": "2023-02-01T11:15:25.369Z"
   },
   {
    "duration": 60,
    "start_time": "2023-02-01T11:15:25.389Z"
   },
   {
    "duration": 5,
    "start_time": "2023-02-01T11:15:25.451Z"
   },
   {
    "duration": 43,
    "start_time": "2023-02-01T11:15:25.457Z"
   },
   {
    "duration": 18,
    "start_time": "2023-02-01T11:15:25.502Z"
   },
   {
    "duration": 4,
    "start_time": "2023-02-01T11:17:09.095Z"
   },
   {
    "duration": 3,
    "start_time": "2023-02-01T11:17:15.976Z"
   },
   {
    "duration": 4,
    "start_time": "2023-02-01T11:17:36.874Z"
   },
   {
    "duration": 1203,
    "start_time": "2023-02-01T11:18:03.090Z"
   },
   {
    "duration": 3,
    "start_time": "2023-02-01T11:18:04.296Z"
   },
   {
    "duration": 145,
    "start_time": "2023-02-01T11:18:04.301Z"
   },
   {
    "duration": 55,
    "start_time": "2023-02-01T11:18:04.447Z"
   },
   {
    "duration": 7,
    "start_time": "2023-02-01T11:18:04.504Z"
   },
   {
    "duration": 15,
    "start_time": "2023-02-01T11:18:04.525Z"
   },
   {
    "duration": 15,
    "start_time": "2023-02-01T11:18:04.542Z"
   },
   {
    "duration": 22,
    "start_time": "2023-02-01T11:18:04.559Z"
   },
   {
    "duration": 25,
    "start_time": "2023-02-01T11:18:04.583Z"
   },
   {
    "duration": 30,
    "start_time": "2023-02-01T11:18:04.610Z"
   },
   {
    "duration": 24,
    "start_time": "2023-02-01T11:18:04.643Z"
   },
   {
    "duration": 19,
    "start_time": "2023-02-01T11:18:04.669Z"
   },
   {
    "duration": 32,
    "start_time": "2023-02-01T11:18:04.691Z"
   },
   {
    "duration": 25,
    "start_time": "2023-02-01T11:18:04.730Z"
   },
   {
    "duration": 31,
    "start_time": "2023-02-01T11:18:04.757Z"
   },
   {
    "duration": 25,
    "start_time": "2023-02-01T11:18:04.790Z"
   },
   {
    "duration": 247,
    "start_time": "2023-02-01T11:18:04.817Z"
   },
   {
    "duration": 130,
    "start_time": "2023-02-01T11:18:05.066Z"
   },
   {
    "duration": 8,
    "start_time": "2023-02-01T11:18:05.197Z"
   },
   {
    "duration": 326,
    "start_time": "2023-02-01T11:18:05.206Z"
   },
   {
    "duration": 215,
    "start_time": "2023-02-01T11:18:05.534Z"
   },
   {
    "duration": 286,
    "start_time": "2023-02-01T11:18:05.752Z"
   },
   {
    "duration": 231,
    "start_time": "2023-02-01T11:18:06.040Z"
   },
   {
    "duration": 333,
    "start_time": "2023-02-01T11:18:06.273Z"
   },
   {
    "duration": 14,
    "start_time": "2023-02-01T11:18:06.607Z"
   },
   {
    "duration": 164,
    "start_time": "2023-02-01T11:18:06.632Z"
   },
   {
    "duration": 8,
    "start_time": "2023-02-01T11:18:06.798Z"
   },
   {
    "duration": 25,
    "start_time": "2023-02-01T11:18:06.808Z"
   },
   {
    "duration": 21,
    "start_time": "2023-02-01T11:18:06.835Z"
   },
   {
    "duration": 142,
    "start_time": "2023-02-01T11:18:06.857Z"
   },
   {
    "duration": 162,
    "start_time": "2023-02-01T11:18:07.000Z"
   },
   {
    "duration": 5,
    "start_time": "2023-02-01T11:18:07.164Z"
   },
   {
    "duration": 83,
    "start_time": "2023-02-01T11:18:07.170Z"
   },
   {
    "duration": 89,
    "start_time": "2023-02-01T11:18:07.254Z"
   },
   {
    "duration": 4,
    "start_time": "2023-02-01T11:18:07.345Z"
   },
   {
    "duration": 16,
    "start_time": "2023-02-01T11:18:07.351Z"
   },
   {
    "duration": 46,
    "start_time": "2023-02-01T11:18:07.368Z"
   },
   {
    "duration": 8,
    "start_time": "2023-02-01T11:18:07.416Z"
   },
   {
    "duration": 19,
    "start_time": "2023-02-01T11:18:07.426Z"
   },
   {
    "duration": 89,
    "start_time": "2023-02-01T11:18:07.447Z"
   },
   {
    "duration": 6,
    "start_time": "2023-02-01T11:18:07.539Z"
   },
   {
    "duration": 9,
    "start_time": "2023-02-01T11:18:07.547Z"
   },
   {
    "duration": 11,
    "start_time": "2023-02-01T11:18:07.557Z"
   },
   {
    "duration": 9,
    "start_time": "2023-02-01T11:18:07.569Z"
   },
   {
    "duration": 13,
    "start_time": "2023-02-01T11:18:07.579Z"
   },
   {
    "duration": 9,
    "start_time": "2023-02-01T11:18:07.594Z"
   },
   {
    "duration": 64,
    "start_time": "2023-02-01T11:18:07.605Z"
   },
   {
    "duration": 4,
    "start_time": "2023-02-01T11:18:07.671Z"
   },
   {
    "duration": 25,
    "start_time": "2023-02-01T11:18:07.677Z"
   },
   {
    "duration": 10,
    "start_time": "2023-02-01T11:18:07.704Z"
   },
   {
    "duration": 4,
    "start_time": "2023-02-01T11:18:47.933Z"
   },
   {
    "duration": 3,
    "start_time": "2023-02-01T11:22:19.839Z"
   },
   {
    "duration": 1205,
    "start_time": "2023-02-01T11:25:15.023Z"
   },
   {
    "duration": 4,
    "start_time": "2023-02-01T11:25:16.230Z"
   },
   {
    "duration": 96,
    "start_time": "2023-02-01T11:25:16.235Z"
   },
   {
    "duration": 61,
    "start_time": "2023-02-01T11:25:16.333Z"
   },
   {
    "duration": 29,
    "start_time": "2023-02-01T11:25:16.397Z"
   },
   {
    "duration": 10,
    "start_time": "2023-02-01T11:25:16.428Z"
   },
   {
    "duration": 13,
    "start_time": "2023-02-01T11:25:16.440Z"
   },
   {
    "duration": 6,
    "start_time": "2023-02-01T11:25:16.455Z"
   },
   {
    "duration": 13,
    "start_time": "2023-02-01T11:25:16.463Z"
   },
   {
    "duration": 6,
    "start_time": "2023-02-01T11:25:16.478Z"
   },
   {
    "duration": 7,
    "start_time": "2023-02-01T11:25:16.520Z"
   },
   {
    "duration": 13,
    "start_time": "2023-02-01T11:25:16.529Z"
   },
   {
    "duration": 14,
    "start_time": "2023-02-01T11:25:16.544Z"
   },
   {
    "duration": 14,
    "start_time": "2023-02-01T11:25:16.562Z"
   },
   {
    "duration": 44,
    "start_time": "2023-02-01T11:25:16.577Z"
   },
   {
    "duration": 7,
    "start_time": "2023-02-01T11:25:16.622Z"
   },
   {
    "duration": 206,
    "start_time": "2023-02-01T11:25:16.631Z"
   },
   {
    "duration": 138,
    "start_time": "2023-02-01T11:25:16.839Z"
   },
   {
    "duration": 7,
    "start_time": "2023-02-01T11:25:16.979Z"
   },
   {
    "duration": 301,
    "start_time": "2023-02-01T11:25:16.988Z"
   },
   {
    "duration": 216,
    "start_time": "2023-02-01T11:25:17.291Z"
   },
   {
    "duration": 314,
    "start_time": "2023-02-01T11:25:17.509Z"
   },
   {
    "duration": 232,
    "start_time": "2023-02-01T11:25:17.826Z"
   },
   {
    "duration": 296,
    "start_time": "2023-02-01T11:25:18.061Z"
   },
   {
    "duration": 9,
    "start_time": "2023-02-01T11:25:18.359Z"
   },
   {
    "duration": 176,
    "start_time": "2023-02-01T11:25:18.370Z"
   },
   {
    "duration": 8,
    "start_time": "2023-02-01T11:25:18.548Z"
   },
   {
    "duration": 9,
    "start_time": "2023-02-01T11:25:18.558Z"
   },
   {
    "duration": 11,
    "start_time": "2023-02-01T11:25:18.569Z"
   },
   {
    "duration": 170,
    "start_time": "2023-02-01T11:25:18.582Z"
   },
   {
    "duration": 158,
    "start_time": "2023-02-01T11:25:18.754Z"
   },
   {
    "duration": 9,
    "start_time": "2023-02-01T11:25:18.914Z"
   },
   {
    "duration": 67,
    "start_time": "2023-02-01T11:25:18.925Z"
   },
   {
    "duration": 99,
    "start_time": "2023-02-01T11:25:18.994Z"
   },
   {
    "duration": 5,
    "start_time": "2023-02-01T11:25:19.096Z"
   },
   {
    "duration": 22,
    "start_time": "2023-02-01T11:25:19.102Z"
   },
   {
    "duration": 49,
    "start_time": "2023-02-01T11:25:19.126Z"
   },
   {
    "duration": 5,
    "start_time": "2023-02-01T11:25:19.177Z"
   },
   {
    "duration": 12,
    "start_time": "2023-02-01T11:25:19.184Z"
   },
   {
    "duration": 87,
    "start_time": "2023-02-01T11:25:19.220Z"
   },
   {
    "duration": 6,
    "start_time": "2023-02-01T11:25:19.321Z"
   },
   {
    "duration": 9,
    "start_time": "2023-02-01T11:25:19.329Z"
   },
   {
    "duration": 9,
    "start_time": "2023-02-01T11:25:19.339Z"
   },
   {
    "duration": 7,
    "start_time": "2023-02-01T11:25:19.349Z"
   },
   {
    "duration": 0,
    "start_time": "2023-02-01T11:25:19.358Z"
   },
   {
    "duration": 0,
    "start_time": "2023-02-01T11:25:19.359Z"
   },
   {
    "duration": 0,
    "start_time": "2023-02-01T11:25:19.361Z"
   },
   {
    "duration": 0,
    "start_time": "2023-02-01T11:25:19.362Z"
   },
   {
    "duration": 0,
    "start_time": "2023-02-01T11:25:19.364Z"
   },
   {
    "duration": 0,
    "start_time": "2023-02-01T11:25:19.366Z"
   },
   {
    "duration": 3,
    "start_time": "2023-02-01T11:28:39.883Z"
   },
   {
    "duration": 144,
    "start_time": "2023-02-01T11:35:09.093Z"
   },
   {
    "duration": 88,
    "start_time": "2023-02-01T11:35:33.607Z"
   },
   {
    "duration": 6,
    "start_time": "2023-02-01T11:35:50.999Z"
   },
   {
    "duration": 5,
    "start_time": "2023-02-01T11:36:16.674Z"
   },
   {
    "duration": 4,
    "start_time": "2023-02-01T11:36:35.597Z"
   },
   {
    "duration": 4,
    "start_time": "2023-02-01T11:36:47.205Z"
   },
   {
    "duration": 4,
    "start_time": "2023-02-01T11:36:57.435Z"
   },
   {
    "duration": 5,
    "start_time": "2023-02-01T11:37:23.443Z"
   },
   {
    "duration": 4,
    "start_time": "2023-02-01T11:37:37.946Z"
   },
   {
    "duration": 4,
    "start_time": "2023-02-01T11:37:51.732Z"
   },
   {
    "duration": 1157,
    "start_time": "2023-02-01T11:38:36.463Z"
   },
   {
    "duration": 4,
    "start_time": "2023-02-01T11:38:37.622Z"
   },
   {
    "duration": 84,
    "start_time": "2023-02-01T11:38:37.628Z"
   },
   {
    "duration": 58,
    "start_time": "2023-02-01T11:38:37.714Z"
   },
   {
    "duration": 5,
    "start_time": "2023-02-01T11:38:37.775Z"
   },
   {
    "duration": 40,
    "start_time": "2023-02-01T11:38:37.782Z"
   },
   {
    "duration": 15,
    "start_time": "2023-02-01T11:38:37.824Z"
   },
   {
    "duration": 18,
    "start_time": "2023-02-01T11:38:37.841Z"
   },
   {
    "duration": 18,
    "start_time": "2023-02-01T11:38:37.861Z"
   },
   {
    "duration": 17,
    "start_time": "2023-02-01T11:38:37.880Z"
   },
   {
    "duration": 28,
    "start_time": "2023-02-01T11:38:37.899Z"
   },
   {
    "duration": 16,
    "start_time": "2023-02-01T11:38:37.929Z"
   },
   {
    "duration": 32,
    "start_time": "2023-02-01T11:38:37.947Z"
   },
   {
    "duration": 18,
    "start_time": "2023-02-01T11:38:37.982Z"
   },
   {
    "duration": 29,
    "start_time": "2023-02-01T11:38:38.002Z"
   },
   {
    "duration": 15,
    "start_time": "2023-02-01T11:38:38.032Z"
   },
   {
    "duration": 199,
    "start_time": "2023-02-01T11:38:38.050Z"
   },
   {
    "duration": 141,
    "start_time": "2023-02-01T11:38:38.251Z"
   },
   {
    "duration": 7,
    "start_time": "2023-02-01T11:38:38.394Z"
   },
   {
    "duration": 325,
    "start_time": "2023-02-01T11:38:38.403Z"
   },
   {
    "duration": 224,
    "start_time": "2023-02-01T11:38:38.730Z"
   },
   {
    "duration": 286,
    "start_time": "2023-02-01T11:38:38.956Z"
   },
   {
    "duration": 232,
    "start_time": "2023-02-01T11:38:39.244Z"
   },
   {
    "duration": 332,
    "start_time": "2023-02-01T11:38:39.478Z"
   },
   {
    "duration": 13,
    "start_time": "2023-02-01T11:38:39.812Z"
   },
   {
    "duration": 169,
    "start_time": "2023-02-01T11:38:39.827Z"
   },
   {
    "duration": 8,
    "start_time": "2023-02-01T11:38:39.998Z"
   },
   {
    "duration": 16,
    "start_time": "2023-02-01T11:38:40.008Z"
   },
   {
    "duration": 13,
    "start_time": "2023-02-01T11:38:40.025Z"
   },
   {
    "duration": 165,
    "start_time": "2023-02-01T11:38:40.039Z"
   },
   {
    "duration": 163,
    "start_time": "2023-02-01T11:38:40.207Z"
   },
   {
    "duration": 5,
    "start_time": "2023-02-01T11:38:40.372Z"
   },
   {
    "duration": 77,
    "start_time": "2023-02-01T11:38:40.378Z"
   },
   {
    "duration": 94,
    "start_time": "2023-02-01T11:38:40.457Z"
   },
   {
    "duration": 5,
    "start_time": "2023-02-01T11:38:40.553Z"
   },
   {
    "duration": 9,
    "start_time": "2023-02-01T11:38:40.560Z"
   },
   {
    "duration": 66,
    "start_time": "2023-02-01T11:38:40.571Z"
   },
   {
    "duration": 5,
    "start_time": "2023-02-01T11:38:40.640Z"
   },
   {
    "duration": 13,
    "start_time": "2023-02-01T11:38:40.647Z"
   },
   {
    "duration": 102,
    "start_time": "2023-02-01T11:38:40.662Z"
   },
   {
    "duration": 8,
    "start_time": "2023-02-01T11:38:40.768Z"
   },
   {
    "duration": 7,
    "start_time": "2023-02-01T11:38:40.777Z"
   },
   {
    "duration": 11,
    "start_time": "2023-02-01T11:38:40.785Z"
   },
   {
    "duration": 22,
    "start_time": "2023-02-01T11:38:40.798Z"
   },
   {
    "duration": 8,
    "start_time": "2023-02-01T11:38:40.822Z"
   },
   {
    "duration": 10,
    "start_time": "2023-02-01T11:38:40.832Z"
   },
   {
    "duration": 50,
    "start_time": "2023-02-01T11:38:40.844Z"
   },
   {
    "duration": 6,
    "start_time": "2023-02-01T11:38:40.895Z"
   },
   {
    "duration": 13,
    "start_time": "2023-02-01T11:38:40.922Z"
   },
   {
    "duration": 10,
    "start_time": "2023-02-01T11:38:40.937Z"
   },
   {
    "duration": 107,
    "start_time": "2023-02-01T11:51:25.909Z"
   },
   {
    "duration": 9,
    "start_time": "2023-02-01T11:51:39.809Z"
   },
   {
    "duration": 7,
    "start_time": "2023-02-01T11:51:43.621Z"
   },
   {
    "duration": 10,
    "start_time": "2023-02-01T11:51:43.630Z"
   },
   {
    "duration": 7,
    "start_time": "2023-02-01T11:53:24.005Z"
   },
   {
    "duration": 9,
    "start_time": "2023-02-01T11:54:42.356Z"
   },
   {
    "duration": 5,
    "start_time": "2023-02-01T11:54:42.902Z"
   },
   {
    "duration": 7,
    "start_time": "2023-02-01T11:54:43.525Z"
   },
   {
    "duration": 1211,
    "start_time": "2023-02-01T11:54:59.948Z"
   },
   {
    "duration": 3,
    "start_time": "2023-02-01T11:55:01.161Z"
   },
   {
    "duration": 89,
    "start_time": "2023-02-01T11:55:01.166Z"
   },
   {
    "duration": 61,
    "start_time": "2023-02-01T11:55:01.258Z"
   },
   {
    "duration": 6,
    "start_time": "2023-02-01T11:55:01.321Z"
   },
   {
    "duration": 17,
    "start_time": "2023-02-01T11:55:01.329Z"
   },
   {
    "duration": 48,
    "start_time": "2023-02-01T11:55:01.348Z"
   },
   {
    "duration": 24,
    "start_time": "2023-02-01T11:55:01.398Z"
   },
   {
    "duration": 28,
    "start_time": "2023-02-01T11:55:01.424Z"
   },
   {
    "duration": 32,
    "start_time": "2023-02-01T11:55:01.456Z"
   },
   {
    "duration": 36,
    "start_time": "2023-02-01T11:55:01.490Z"
   },
   {
    "duration": 35,
    "start_time": "2023-02-01T11:55:01.528Z"
   },
   {
    "duration": 45,
    "start_time": "2023-02-01T11:55:01.565Z"
   },
   {
    "duration": 53,
    "start_time": "2023-02-01T11:55:01.612Z"
   },
   {
    "duration": 129,
    "start_time": "2023-02-01T11:55:01.667Z"
   },
   {
    "duration": 60,
    "start_time": "2023-02-01T11:55:01.797Z"
   },
   {
    "duration": 241,
    "start_time": "2023-02-01T11:55:01.859Z"
   },
   {
    "duration": 129,
    "start_time": "2023-02-01T11:55:02.102Z"
   },
   {
    "duration": 8,
    "start_time": "2023-02-01T11:55:02.233Z"
   },
   {
    "duration": 315,
    "start_time": "2023-02-01T11:55:02.243Z"
   },
   {
    "duration": 232,
    "start_time": "2023-02-01T11:55:02.560Z"
   },
   {
    "duration": 349,
    "start_time": "2023-02-01T11:55:02.794Z"
   },
   {
    "duration": 228,
    "start_time": "2023-02-01T11:55:03.145Z"
   },
   {
    "duration": 364,
    "start_time": "2023-02-01T11:55:03.376Z"
   },
   {
    "duration": 9,
    "start_time": "2023-02-01T11:55:03.743Z"
   },
   {
    "duration": 182,
    "start_time": "2023-02-01T11:55:03.754Z"
   },
   {
    "duration": 8,
    "start_time": "2023-02-01T11:55:03.938Z"
   },
   {
    "duration": 7,
    "start_time": "2023-02-01T11:55:03.950Z"
   },
   {
    "duration": 17,
    "start_time": "2023-02-01T11:55:03.959Z"
   },
   {
    "duration": 171,
    "start_time": "2023-02-01T11:55:03.978Z"
   },
   {
    "duration": 163,
    "start_time": "2023-02-01T11:55:04.151Z"
   },
   {
    "duration": 6,
    "start_time": "2023-02-01T11:55:04.322Z"
   },
   {
    "duration": 76,
    "start_time": "2023-02-01T11:55:04.329Z"
   },
   {
    "duration": 99,
    "start_time": "2023-02-01T11:55:04.422Z"
   },
   {
    "duration": 8,
    "start_time": "2023-02-01T11:55:04.523Z"
   },
   {
    "duration": 14,
    "start_time": "2023-02-01T11:55:04.533Z"
   },
   {
    "duration": 53,
    "start_time": "2023-02-01T11:55:04.550Z"
   },
   {
    "duration": 19,
    "start_time": "2023-02-01T11:55:04.604Z"
   },
   {
    "duration": 19,
    "start_time": "2023-02-01T11:55:04.625Z"
   },
   {
    "duration": 11,
    "start_time": "2023-02-01T11:55:04.646Z"
   },
   {
    "duration": 17,
    "start_time": "2023-02-01T11:55:04.660Z"
   },
   {
    "duration": 14,
    "start_time": "2023-02-01T11:55:04.679Z"
   },
   {
    "duration": 27,
    "start_time": "2023-02-01T11:55:04.695Z"
   },
   {
    "duration": 109,
    "start_time": "2023-02-01T11:55:04.725Z"
   },
   {
    "duration": 17,
    "start_time": "2023-02-01T11:55:04.836Z"
   },
   {
    "duration": 10,
    "start_time": "2023-02-01T11:55:04.856Z"
   },
   {
    "duration": 56,
    "start_time": "2023-02-01T11:55:04.868Z"
   },
   {
    "duration": 5,
    "start_time": "2023-02-01T11:55:04.926Z"
   },
   {
    "duration": 17,
    "start_time": "2023-02-01T11:55:04.933Z"
   },
   {
    "duration": 9,
    "start_time": "2023-02-01T11:55:04.951Z"
   },
   {
    "duration": 1142,
    "start_time": "2023-02-01T11:55:37.368Z"
   },
   {
    "duration": 3,
    "start_time": "2023-02-01T11:55:38.512Z"
   },
   {
    "duration": 100,
    "start_time": "2023-02-01T11:55:38.517Z"
   },
   {
    "duration": 62,
    "start_time": "2023-02-01T11:55:38.619Z"
   },
   {
    "duration": 39,
    "start_time": "2023-02-01T11:55:38.683Z"
   },
   {
    "duration": 6,
    "start_time": "2023-02-01T11:55:38.723Z"
   },
   {
    "duration": 26,
    "start_time": "2023-02-01T11:55:38.731Z"
   },
   {
    "duration": 33,
    "start_time": "2023-02-01T11:55:38.759Z"
   },
   {
    "duration": 52,
    "start_time": "2023-02-01T11:55:38.794Z"
   },
   {
    "duration": 30,
    "start_time": "2023-02-01T11:55:38.848Z"
   },
   {
    "duration": 26,
    "start_time": "2023-02-01T11:55:38.880Z"
   },
   {
    "duration": 33,
    "start_time": "2023-02-01T11:55:38.908Z"
   },
   {
    "duration": 19,
    "start_time": "2023-02-01T11:55:38.943Z"
   },
   {
    "duration": 23,
    "start_time": "2023-02-01T11:55:38.966Z"
   },
   {
    "duration": 48,
    "start_time": "2023-02-01T11:55:38.990Z"
   },
   {
    "duration": 9,
    "start_time": "2023-02-01T11:55:39.040Z"
   },
   {
    "duration": 236,
    "start_time": "2023-02-01T11:55:39.051Z"
   },
   {
    "duration": 136,
    "start_time": "2023-02-01T11:55:39.289Z"
   },
   {
    "duration": 8,
    "start_time": "2023-02-01T11:55:39.427Z"
   },
   {
    "duration": 311,
    "start_time": "2023-02-01T11:55:39.437Z"
   },
   {
    "duration": 230,
    "start_time": "2023-02-01T11:55:39.750Z"
   },
   {
    "duration": 339,
    "start_time": "2023-02-01T11:55:39.982Z"
   },
   {
    "duration": 239,
    "start_time": "2023-02-01T11:55:40.322Z"
   },
   {
    "duration": 299,
    "start_time": "2023-02-01T11:55:40.563Z"
   },
   {
    "duration": 8,
    "start_time": "2023-02-01T11:55:40.863Z"
   },
   {
    "duration": 174,
    "start_time": "2023-02-01T11:55:40.873Z"
   },
   {
    "duration": 8,
    "start_time": "2023-02-01T11:55:41.049Z"
   },
   {
    "duration": 10,
    "start_time": "2023-02-01T11:55:41.059Z"
   },
   {
    "duration": 21,
    "start_time": "2023-02-01T11:55:41.071Z"
   },
   {
    "duration": 168,
    "start_time": "2023-02-01T11:55:41.094Z"
   },
   {
    "duration": 187,
    "start_time": "2023-02-01T11:55:41.264Z"
   },
   {
    "duration": 6,
    "start_time": "2023-02-01T11:55:41.453Z"
   },
   {
    "duration": 91,
    "start_time": "2023-02-01T11:55:41.460Z"
   },
   {
    "duration": 85,
    "start_time": "2023-02-01T11:55:41.553Z"
   },
   {
    "duration": 5,
    "start_time": "2023-02-01T11:55:41.640Z"
   },
   {
    "duration": 9,
    "start_time": "2023-02-01T11:55:41.647Z"
   },
   {
    "duration": 64,
    "start_time": "2023-02-01T11:55:41.658Z"
   },
   {
    "duration": 5,
    "start_time": "2023-02-01T11:55:41.723Z"
   },
   {
    "duration": 12,
    "start_time": "2023-02-01T11:55:41.730Z"
   },
   {
    "duration": 107,
    "start_time": "2023-02-01T11:55:41.744Z"
   },
   {
    "duration": 11,
    "start_time": "2023-02-01T11:55:41.856Z"
   },
   {
    "duration": 12,
    "start_time": "2023-02-01T11:55:41.869Z"
   },
   {
    "duration": 17,
    "start_time": "2023-02-01T11:55:41.883Z"
   },
   {
    "duration": 10,
    "start_time": "2023-02-01T11:55:41.902Z"
   },
   {
    "duration": 10,
    "start_time": "2023-02-01T11:55:41.914Z"
   },
   {
    "duration": 9,
    "start_time": "2023-02-01T11:55:41.926Z"
   },
   {
    "duration": 50,
    "start_time": "2023-02-01T11:55:41.936Z"
   },
   {
    "duration": 5,
    "start_time": "2023-02-01T11:55:41.987Z"
   },
   {
    "duration": 33,
    "start_time": "2023-02-01T11:55:41.993Z"
   },
   {
    "duration": 8,
    "start_time": "2023-02-01T11:55:42.028Z"
   },
   {
    "duration": 73,
    "start_time": "2023-02-01T11:56:04.532Z"
   },
   {
    "duration": 6,
    "start_time": "2023-02-01T11:56:12.549Z"
   },
   {
    "duration": 1222,
    "start_time": "2023-02-01T11:56:28.902Z"
   },
   {
    "duration": 3,
    "start_time": "2023-02-01T11:56:30.126Z"
   },
   {
    "duration": 92,
    "start_time": "2023-02-01T11:56:30.131Z"
   },
   {
    "duration": 63,
    "start_time": "2023-02-01T11:56:30.224Z"
   },
   {
    "duration": 7,
    "start_time": "2023-02-01T11:56:30.323Z"
   },
   {
    "duration": 36,
    "start_time": "2023-02-01T11:56:30.333Z"
   },
   {
    "duration": 28,
    "start_time": "2023-02-01T11:56:30.372Z"
   },
   {
    "duration": 23,
    "start_time": "2023-02-01T11:56:30.401Z"
   },
   {
    "duration": 31,
    "start_time": "2023-02-01T11:56:30.426Z"
   },
   {
    "duration": 49,
    "start_time": "2023-02-01T11:56:30.459Z"
   },
   {
    "duration": 41,
    "start_time": "2023-02-01T11:56:30.510Z"
   },
   {
    "duration": 40,
    "start_time": "2023-02-01T11:56:30.553Z"
   },
   {
    "duration": 41,
    "start_time": "2023-02-01T11:56:30.596Z"
   },
   {
    "duration": 39,
    "start_time": "2023-02-01T11:56:30.640Z"
   },
   {
    "duration": 50,
    "start_time": "2023-02-01T11:56:30.681Z"
   },
   {
    "duration": 43,
    "start_time": "2023-02-01T11:56:30.733Z"
   },
   {
    "duration": 243,
    "start_time": "2023-02-01T11:56:30.778Z"
   },
   {
    "duration": 142,
    "start_time": "2023-02-01T11:56:31.023Z"
   },
   {
    "duration": 7,
    "start_time": "2023-02-01T11:56:31.166Z"
   },
   {
    "duration": 318,
    "start_time": "2023-02-01T11:56:31.175Z"
   },
   {
    "duration": 227,
    "start_time": "2023-02-01T11:56:31.496Z"
   },
   {
    "duration": 306,
    "start_time": "2023-02-01T11:56:31.725Z"
   },
   {
    "duration": 231,
    "start_time": "2023-02-01T11:56:32.033Z"
   },
   {
    "duration": 323,
    "start_time": "2023-02-01T11:56:32.266Z"
   },
   {
    "duration": 9,
    "start_time": "2023-02-01T11:56:32.592Z"
   },
   {
    "duration": 180,
    "start_time": "2023-02-01T11:56:32.603Z"
   },
   {
    "duration": 10,
    "start_time": "2023-02-01T11:56:32.785Z"
   },
   {
    "duration": 24,
    "start_time": "2023-02-01T11:56:32.798Z"
   },
   {
    "duration": 7,
    "start_time": "2023-02-01T11:56:32.825Z"
   },
   {
    "duration": 16,
    "start_time": "2023-02-01T11:56:32.834Z"
   },
   {
    "duration": 224,
    "start_time": "2023-02-01T11:56:32.853Z"
   },
   {
    "duration": 163,
    "start_time": "2023-02-01T11:56:33.079Z"
   },
   {
    "duration": 5,
    "start_time": "2023-02-01T11:56:33.244Z"
   },
   {
    "duration": 75,
    "start_time": "2023-02-01T11:56:33.250Z"
   },
   {
    "duration": 130,
    "start_time": "2023-02-01T11:56:33.327Z"
   },
   {
    "duration": 5,
    "start_time": "2023-02-01T11:56:33.459Z"
   },
   {
    "duration": 5,
    "start_time": "2023-02-01T11:56:33.521Z"
   },
   {
    "duration": 143,
    "start_time": "2023-02-01T11:56:33.528Z"
   },
   {
    "duration": 5,
    "start_time": "2023-02-01T11:56:33.673Z"
   },
   {
    "duration": 45,
    "start_time": "2023-02-01T11:56:33.679Z"
   },
   {
    "duration": 20,
    "start_time": "2023-02-01T11:56:33.729Z"
   },
   {
    "duration": 23,
    "start_time": "2023-02-01T11:56:33.751Z"
   },
   {
    "duration": 24,
    "start_time": "2023-02-01T11:56:33.775Z"
   },
   {
    "duration": 21,
    "start_time": "2023-02-01T11:56:33.801Z"
   },
   {
    "duration": 34,
    "start_time": "2023-02-01T11:56:33.824Z"
   },
   {
    "duration": 20,
    "start_time": "2023-02-01T11:56:33.860Z"
   },
   {
    "duration": 21,
    "start_time": "2023-02-01T11:56:33.882Z"
   },
   {
    "duration": 62,
    "start_time": "2023-02-01T11:56:33.905Z"
   },
   {
    "duration": 5,
    "start_time": "2023-02-01T11:56:33.969Z"
   },
   {
    "duration": 45,
    "start_time": "2023-02-01T11:56:33.976Z"
   },
   {
    "duration": 110,
    "start_time": "2023-02-01T11:56:34.023Z"
   },
   {
    "duration": 1215,
    "start_time": "2023-02-01T11:57:22.314Z"
   },
   {
    "duration": 3,
    "start_time": "2023-02-01T11:57:23.531Z"
   },
   {
    "duration": 99,
    "start_time": "2023-02-01T11:57:23.535Z"
   },
   {
    "duration": 61,
    "start_time": "2023-02-01T11:57:23.636Z"
   },
   {
    "duration": 7,
    "start_time": "2023-02-01T11:57:23.720Z"
   },
   {
    "duration": 13,
    "start_time": "2023-02-01T11:57:23.729Z"
   },
   {
    "duration": 29,
    "start_time": "2023-02-01T11:57:23.744Z"
   },
   {
    "duration": 16,
    "start_time": "2023-02-01T11:57:23.775Z"
   },
   {
    "duration": 28,
    "start_time": "2023-02-01T11:57:23.793Z"
   },
   {
    "duration": 12,
    "start_time": "2023-02-01T11:57:23.823Z"
   },
   {
    "duration": 22,
    "start_time": "2023-02-01T11:57:23.837Z"
   },
   {
    "duration": 26,
    "start_time": "2023-02-01T11:57:23.861Z"
   },
   {
    "duration": 22,
    "start_time": "2023-02-01T11:57:23.889Z"
   },
   {
    "duration": 26,
    "start_time": "2023-02-01T11:57:23.914Z"
   },
   {
    "duration": 17,
    "start_time": "2023-02-01T11:57:23.942Z"
   },
   {
    "duration": 12,
    "start_time": "2023-02-01T11:57:23.961Z"
   },
   {
    "duration": 221,
    "start_time": "2023-02-01T11:57:23.974Z"
   },
   {
    "duration": 143,
    "start_time": "2023-02-01T11:57:24.197Z"
   },
   {
    "duration": 8,
    "start_time": "2023-02-01T11:57:24.342Z"
   },
   {
    "duration": 387,
    "start_time": "2023-02-01T11:57:24.353Z"
   },
   {
    "duration": 245,
    "start_time": "2023-02-01T11:57:24.742Z"
   },
   {
    "duration": 357,
    "start_time": "2023-02-01T11:57:24.990Z"
   },
   {
    "duration": 237,
    "start_time": "2023-02-01T11:57:25.349Z"
   },
   {
    "duration": 348,
    "start_time": "2023-02-01T11:57:25.588Z"
   },
   {
    "duration": 7,
    "start_time": "2023-02-01T11:57:25.938Z"
   },
   {
    "duration": 178,
    "start_time": "2023-02-01T11:57:25.946Z"
   },
   {
    "duration": 8,
    "start_time": "2023-02-01T11:57:26.126Z"
   },
   {
    "duration": 6,
    "start_time": "2023-02-01T11:57:26.136Z"
   },
   {
    "duration": 6,
    "start_time": "2023-02-01T11:57:26.144Z"
   },
   {
    "duration": 12,
    "start_time": "2023-02-01T11:57:26.152Z"
   },
   {
    "duration": 200,
    "start_time": "2023-02-01T11:57:26.166Z"
   },
   {
    "duration": 171,
    "start_time": "2023-02-01T11:57:26.368Z"
   },
   {
    "duration": 6,
    "start_time": "2023-02-01T11:57:26.541Z"
   },
   {
    "duration": 111,
    "start_time": "2023-02-01T11:57:26.549Z"
   },
   {
    "duration": 97,
    "start_time": "2023-02-01T11:57:26.661Z"
   },
   {
    "duration": 7,
    "start_time": "2023-02-01T11:57:26.760Z"
   },
   {
    "duration": 16,
    "start_time": "2023-02-01T11:57:26.769Z"
   },
   {
    "duration": 60,
    "start_time": "2023-02-01T11:57:26.787Z"
   },
   {
    "duration": 5,
    "start_time": "2023-02-01T11:57:26.850Z"
   },
   {
    "duration": 12,
    "start_time": "2023-02-01T11:57:26.858Z"
   },
   {
    "duration": 8,
    "start_time": "2023-02-01T11:57:26.876Z"
   },
   {
    "duration": 40,
    "start_time": "2023-02-01T11:57:26.886Z"
   },
   {
    "duration": 11,
    "start_time": "2023-02-01T11:57:26.928Z"
   },
   {
    "duration": 9,
    "start_time": "2023-02-01T11:57:26.941Z"
   },
   {
    "duration": 8,
    "start_time": "2023-02-01T11:57:26.952Z"
   },
   {
    "duration": 11,
    "start_time": "2023-02-01T11:57:26.961Z"
   },
   {
    "duration": 10,
    "start_time": "2023-02-01T11:57:26.973Z"
   },
   {
    "duration": 65,
    "start_time": "2023-02-01T11:57:26.985Z"
   },
   {
    "duration": 5,
    "start_time": "2023-02-01T11:57:27.052Z"
   },
   {
    "duration": 17,
    "start_time": "2023-02-01T11:57:27.059Z"
   },
   {
    "duration": 104,
    "start_time": "2023-02-01T11:57:27.078Z"
   },
   {
    "duration": 7,
    "start_time": "2023-02-01T12:00:01.209Z"
   },
   {
    "duration": 6,
    "start_time": "2023-02-01T12:00:01.820Z"
   },
   {
    "duration": 1237,
    "start_time": "2023-02-01T12:01:57.009Z"
   },
   {
    "duration": 0,
    "start_time": "2023-02-01T12:01:58.248Z"
   },
   {
    "duration": 0,
    "start_time": "2023-02-01T12:01:58.249Z"
   },
   {
    "duration": 1158,
    "start_time": "2023-02-01T12:02:12.859Z"
   },
   {
    "duration": 3,
    "start_time": "2023-02-01T12:02:14.020Z"
   },
   {
    "duration": 84,
    "start_time": "2023-02-01T12:02:14.025Z"
   },
   {
    "duration": 59,
    "start_time": "2023-02-01T12:02:14.111Z"
   },
   {
    "duration": 5,
    "start_time": "2023-02-01T12:02:14.173Z"
   },
   {
    "duration": 12,
    "start_time": "2023-02-01T12:02:14.180Z"
   },
   {
    "duration": 11,
    "start_time": "2023-02-01T12:02:14.220Z"
   },
   {
    "duration": 7,
    "start_time": "2023-02-01T12:02:14.232Z"
   },
   {
    "duration": 21,
    "start_time": "2023-02-01T12:02:14.241Z"
   },
   {
    "duration": 16,
    "start_time": "2023-02-01T12:02:14.264Z"
   },
   {
    "duration": 16,
    "start_time": "2023-02-01T12:02:14.282Z"
   },
   {
    "duration": 32,
    "start_time": "2023-02-01T12:02:14.300Z"
   },
   {
    "duration": 27,
    "start_time": "2023-02-01T12:02:14.334Z"
   },
   {
    "duration": 27,
    "start_time": "2023-02-01T12:02:14.366Z"
   },
   {
    "duration": 15,
    "start_time": "2023-02-01T12:02:14.395Z"
   },
   {
    "duration": 9,
    "start_time": "2023-02-01T12:02:14.412Z"
   },
   {
    "duration": 198,
    "start_time": "2023-02-01T12:02:14.422Z"
   },
   {
    "duration": 156,
    "start_time": "2023-02-01T12:02:14.622Z"
   },
   {
    "duration": 10,
    "start_time": "2023-02-01T12:02:14.781Z"
   },
   {
    "duration": 375,
    "start_time": "2023-02-01T12:02:14.793Z"
   },
   {
    "duration": 230,
    "start_time": "2023-02-01T12:02:15.169Z"
   },
   {
    "duration": 343,
    "start_time": "2023-02-01T12:02:15.401Z"
   },
   {
    "duration": 244,
    "start_time": "2023-02-01T12:02:15.745Z"
   },
   {
    "duration": 372,
    "start_time": "2023-02-01T12:02:15.991Z"
   },
   {
    "duration": 7,
    "start_time": "2023-02-01T12:02:16.366Z"
   },
   {
    "duration": 205,
    "start_time": "2023-02-01T12:02:16.375Z"
   },
   {
    "duration": 12,
    "start_time": "2023-02-01T12:02:16.582Z"
   },
   {
    "duration": 7,
    "start_time": "2023-02-01T12:02:16.596Z"
   },
   {
    "duration": 16,
    "start_time": "2023-02-01T12:02:16.621Z"
   },
   {
    "duration": 174,
    "start_time": "2023-02-01T12:02:16.639Z"
   },
   {
    "duration": 214,
    "start_time": "2023-02-01T12:02:16.815Z"
   },
   {
    "duration": 7,
    "start_time": "2023-02-01T12:02:17.032Z"
   },
   {
    "duration": 92,
    "start_time": "2023-02-01T12:02:17.042Z"
   },
   {
    "duration": 97,
    "start_time": "2023-02-01T12:02:17.137Z"
   },
   {
    "duration": 6,
    "start_time": "2023-02-01T12:02:17.236Z"
   },
   {
    "duration": 13,
    "start_time": "2023-02-01T12:02:17.244Z"
   },
   {
    "duration": 64,
    "start_time": "2023-02-01T12:02:17.259Z"
   },
   {
    "duration": 5,
    "start_time": "2023-02-01T12:02:17.326Z"
   },
   {
    "duration": 15,
    "start_time": "2023-02-01T12:02:17.334Z"
   },
   {
    "duration": 113,
    "start_time": "2023-02-01T12:02:17.351Z"
   },
   {
    "duration": 10,
    "start_time": "2023-02-01T12:02:17.470Z"
   },
   {
    "duration": 1298,
    "start_time": "2023-02-01T12:02:17.482Z"
   },
   {
    "duration": 0,
    "start_time": "2023-02-01T12:02:18.782Z"
   },
   {
    "duration": 0,
    "start_time": "2023-02-01T12:02:18.783Z"
   },
   {
    "duration": 0,
    "start_time": "2023-02-01T12:02:18.785Z"
   },
   {
    "duration": 0,
    "start_time": "2023-02-01T12:02:18.786Z"
   },
   {
    "duration": 0,
    "start_time": "2023-02-01T12:02:18.788Z"
   },
   {
    "duration": 0,
    "start_time": "2023-02-01T12:02:18.790Z"
   },
   {
    "duration": 0,
    "start_time": "2023-02-01T12:02:18.791Z"
   },
   {
    "duration": 0,
    "start_time": "2023-02-01T12:02:18.793Z"
   },
   {
    "duration": 1211,
    "start_time": "2023-02-01T12:03:09.638Z"
   },
   {
    "duration": 3,
    "start_time": "2023-02-01T12:03:10.852Z"
   },
   {
    "duration": 85,
    "start_time": "2023-02-01T12:03:10.857Z"
   },
   {
    "duration": 76,
    "start_time": "2023-02-01T12:03:10.944Z"
   },
   {
    "duration": 7,
    "start_time": "2023-02-01T12:03:11.023Z"
   },
   {
    "duration": 7,
    "start_time": "2023-02-01T12:03:11.031Z"
   },
   {
    "duration": 11,
    "start_time": "2023-02-01T12:03:11.040Z"
   },
   {
    "duration": 7,
    "start_time": "2023-02-01T12:03:11.053Z"
   },
   {
    "duration": 14,
    "start_time": "2023-02-01T12:03:11.062Z"
   },
   {
    "duration": 43,
    "start_time": "2023-02-01T12:03:11.078Z"
   },
   {
    "duration": 9,
    "start_time": "2023-02-01T12:03:11.123Z"
   },
   {
    "duration": 16,
    "start_time": "2023-02-01T12:03:11.133Z"
   },
   {
    "duration": 23,
    "start_time": "2023-02-01T12:03:11.151Z"
   },
   {
    "duration": 15,
    "start_time": "2023-02-01T12:03:11.177Z"
   },
   {
    "duration": 31,
    "start_time": "2023-02-01T12:03:11.194Z"
   },
   {
    "duration": 14,
    "start_time": "2023-02-01T12:03:11.227Z"
   },
   {
    "duration": 204,
    "start_time": "2023-02-01T12:03:11.243Z"
   },
   {
    "duration": 144,
    "start_time": "2023-02-01T12:03:11.449Z"
   },
   {
    "duration": 8,
    "start_time": "2023-02-01T12:03:11.595Z"
   },
   {
    "duration": 310,
    "start_time": "2023-02-01T12:03:11.605Z"
   },
   {
    "duration": 234,
    "start_time": "2023-02-01T12:03:11.917Z"
   },
   {
    "duration": 295,
    "start_time": "2023-02-01T12:03:12.153Z"
   },
   {
    "duration": 235,
    "start_time": "2023-02-01T12:03:12.450Z"
   },
   {
    "duration": 336,
    "start_time": "2023-02-01T12:03:12.687Z"
   },
   {
    "duration": 7,
    "start_time": "2023-02-01T12:03:13.025Z"
   },
   {
    "duration": 185,
    "start_time": "2023-02-01T12:03:13.034Z"
   },
   {
    "duration": 8,
    "start_time": "2023-02-01T12:03:13.221Z"
   },
   {
    "duration": 5,
    "start_time": "2023-02-01T12:03:13.231Z"
   },
   {
    "duration": 16,
    "start_time": "2023-02-01T12:03:13.238Z"
   },
   {
    "duration": 183,
    "start_time": "2023-02-01T12:03:13.256Z"
   },
   {
    "duration": 186,
    "start_time": "2023-02-01T12:03:13.441Z"
   },
   {
    "duration": 6,
    "start_time": "2023-02-01T12:03:13.629Z"
   },
   {
    "duration": 151,
    "start_time": "2023-02-01T12:03:13.637Z"
   },
   {
    "duration": 107,
    "start_time": "2023-02-01T12:03:13.790Z"
   },
   {
    "duration": 5,
    "start_time": "2023-02-01T12:03:13.899Z"
   },
   {
    "duration": 6,
    "start_time": "2023-02-01T12:03:13.920Z"
   },
   {
    "duration": 50,
    "start_time": "2023-02-01T12:03:13.928Z"
   },
   {
    "duration": 8,
    "start_time": "2023-02-01T12:03:13.981Z"
   },
   {
    "duration": 34,
    "start_time": "2023-02-01T12:03:13.992Z"
   },
   {
    "duration": 106,
    "start_time": "2023-02-01T12:03:14.029Z"
   },
   {
    "duration": 8,
    "start_time": "2023-02-01T12:03:14.140Z"
   },
   {
    "duration": 9,
    "start_time": "2023-02-01T12:03:14.151Z"
   },
   {
    "duration": 39,
    "start_time": "2023-02-01T12:03:14.162Z"
   },
   {
    "duration": 16,
    "start_time": "2023-02-01T12:03:14.203Z"
   },
   {
    "duration": 12,
    "start_time": "2023-02-01T12:03:14.221Z"
   },
   {
    "duration": 8,
    "start_time": "2023-02-01T12:03:14.235Z"
   },
   {
    "duration": 57,
    "start_time": "2023-02-01T12:03:14.244Z"
   },
   {
    "duration": 23,
    "start_time": "2023-02-01T12:03:14.302Z"
   },
   {
    "duration": 13,
    "start_time": "2023-02-01T12:03:14.327Z"
   },
   {
    "duration": 11,
    "start_time": "2023-02-01T12:03:14.342Z"
   },
   {
    "duration": 6,
    "start_time": "2023-02-01T12:04:52.597Z"
   },
   {
    "duration": 7,
    "start_time": "2023-02-01T12:04:52.959Z"
   },
   {
    "duration": 5,
    "start_time": "2023-02-01T12:04:53.509Z"
   },
   {
    "duration": 4,
    "start_time": "2023-02-01T12:04:56.058Z"
   },
   {
    "duration": 75,
    "start_time": "2023-02-01T12:05:39.605Z"
   },
   {
    "duration": 1314,
    "start_time": "2023-02-01T12:08:03.996Z"
   },
   {
    "duration": 3,
    "start_time": "2023-02-01T12:08:05.312Z"
   },
   {
    "duration": 96,
    "start_time": "2023-02-01T12:08:05.320Z"
   },
   {
    "duration": 59,
    "start_time": "2023-02-01T12:08:05.418Z"
   },
   {
    "duration": 5,
    "start_time": "2023-02-01T12:08:05.479Z"
   },
   {
    "duration": 39,
    "start_time": "2023-02-01T12:08:05.486Z"
   },
   {
    "duration": 42,
    "start_time": "2023-02-01T12:08:05.527Z"
   },
   {
    "duration": 40,
    "start_time": "2023-02-01T12:08:05.571Z"
   },
   {
    "duration": 33,
    "start_time": "2023-02-01T12:08:05.612Z"
   },
   {
    "duration": 35,
    "start_time": "2023-02-01T12:08:05.647Z"
   },
   {
    "duration": 42,
    "start_time": "2023-02-01T12:08:05.684Z"
   },
   {
    "duration": 36,
    "start_time": "2023-02-01T12:08:05.728Z"
   },
   {
    "duration": 20,
    "start_time": "2023-02-01T12:08:05.766Z"
   },
   {
    "duration": 35,
    "start_time": "2023-02-01T12:08:05.788Z"
   },
   {
    "duration": 42,
    "start_time": "2023-02-01T12:08:05.825Z"
   },
   {
    "duration": 40,
    "start_time": "2023-02-01T12:08:05.869Z"
   },
   {
    "duration": 211,
    "start_time": "2023-02-01T12:08:05.911Z"
   },
   {
    "duration": 142,
    "start_time": "2023-02-01T12:08:06.124Z"
   },
   {
    "duration": 8,
    "start_time": "2023-02-01T12:08:06.268Z"
   },
   {
    "duration": 317,
    "start_time": "2023-02-01T12:08:06.277Z"
   },
   {
    "duration": 217,
    "start_time": "2023-02-01T12:08:06.596Z"
   },
   {
    "duration": 311,
    "start_time": "2023-02-01T12:08:06.815Z"
   },
   {
    "duration": 229,
    "start_time": "2023-02-01T12:08:07.127Z"
   },
   {
    "duration": 292,
    "start_time": "2023-02-01T12:08:07.358Z"
   },
   {
    "duration": 8,
    "start_time": "2023-02-01T12:08:07.651Z"
   },
   {
    "duration": 190,
    "start_time": "2023-02-01T12:08:07.660Z"
   },
   {
    "duration": 9,
    "start_time": "2023-02-01T12:08:07.852Z"
   },
   {
    "duration": 5,
    "start_time": "2023-02-01T12:08:07.865Z"
   },
   {
    "duration": 17,
    "start_time": "2023-02-01T12:08:07.872Z"
   },
   {
    "duration": 170,
    "start_time": "2023-02-01T12:08:07.891Z"
   },
   {
    "duration": 163,
    "start_time": "2023-02-01T12:08:08.063Z"
   },
   {
    "duration": 5,
    "start_time": "2023-02-01T12:08:08.228Z"
   },
   {
    "duration": 102,
    "start_time": "2023-02-01T12:08:08.235Z"
   },
   {
    "duration": 99,
    "start_time": "2023-02-01T12:08:08.340Z"
   },
   {
    "duration": 5,
    "start_time": "2023-02-01T12:08:08.441Z"
   },
   {
    "duration": 8,
    "start_time": "2023-02-01T12:08:08.447Z"
   },
   {
    "duration": 65,
    "start_time": "2023-02-01T12:08:08.457Z"
   },
   {
    "duration": 4,
    "start_time": "2023-02-01T12:08:08.524Z"
   },
   {
    "duration": 11,
    "start_time": "2023-02-01T12:08:08.530Z"
   },
   {
    "duration": 10,
    "start_time": "2023-02-01T12:08:08.543Z"
   },
   {
    "duration": 20,
    "start_time": "2023-02-01T12:08:08.555Z"
   },
   {
    "duration": 109,
    "start_time": "2023-02-01T12:08:08.576Z"
   },
   {
    "duration": 10,
    "start_time": "2023-02-01T12:08:08.687Z"
   },
   {
    "duration": 6,
    "start_time": "2023-02-01T12:08:08.699Z"
   },
   {
    "duration": 14,
    "start_time": "2023-02-01T12:08:08.707Z"
   },
   {
    "duration": 6,
    "start_time": "2023-02-01T12:08:08.722Z"
   },
   {
    "duration": 46,
    "start_time": "2023-02-01T12:08:08.730Z"
   },
   {
    "duration": 5,
    "start_time": "2023-02-01T12:08:08.778Z"
   },
   {
    "duration": 13,
    "start_time": "2023-02-01T12:08:08.785Z"
   },
   {
    "duration": 9,
    "start_time": "2023-02-01T12:08:08.822Z"
   },
   {
    "duration": 5,
    "start_time": "2023-02-01T12:10:04.533Z"
   },
   {
    "duration": 1214,
    "start_time": "2023-02-01T12:10:12.007Z"
   },
   {
    "duration": 3,
    "start_time": "2023-02-01T12:10:13.224Z"
   },
   {
    "duration": 118,
    "start_time": "2023-02-01T12:10:13.229Z"
   },
   {
    "duration": 80,
    "start_time": "2023-02-01T12:10:13.349Z"
   },
   {
    "duration": 7,
    "start_time": "2023-02-01T12:10:13.432Z"
   },
   {
    "duration": 11,
    "start_time": "2023-02-01T12:10:13.441Z"
   },
   {
    "duration": 21,
    "start_time": "2023-02-01T12:10:13.454Z"
   },
   {
    "duration": 35,
    "start_time": "2023-02-01T12:10:13.477Z"
   },
   {
    "duration": 29,
    "start_time": "2023-02-01T12:10:13.514Z"
   },
   {
    "duration": 28,
    "start_time": "2023-02-01T12:10:13.546Z"
   },
   {
    "duration": 36,
    "start_time": "2023-02-01T12:10:13.576Z"
   },
   {
    "duration": 47,
    "start_time": "2023-02-01T12:10:13.614Z"
   },
   {
    "duration": 31,
    "start_time": "2023-02-01T12:10:13.664Z"
   },
   {
    "duration": 54,
    "start_time": "2023-02-01T12:10:13.699Z"
   },
   {
    "duration": 28,
    "start_time": "2023-02-01T12:10:13.755Z"
   },
   {
    "duration": 51,
    "start_time": "2023-02-01T12:10:13.785Z"
   },
   {
    "duration": 217,
    "start_time": "2023-02-01T12:10:13.838Z"
   },
   {
    "duration": 140,
    "start_time": "2023-02-01T12:10:14.057Z"
   },
   {
    "duration": 22,
    "start_time": "2023-02-01T12:10:14.199Z"
   },
   {
    "duration": 376,
    "start_time": "2023-02-01T12:10:14.223Z"
   },
   {
    "duration": 291,
    "start_time": "2023-02-01T12:10:14.601Z"
   },
   {
    "duration": 330,
    "start_time": "2023-02-01T12:10:14.894Z"
   },
   {
    "duration": 235,
    "start_time": "2023-02-01T12:10:15.225Z"
   },
   {
    "duration": 297,
    "start_time": "2023-02-01T12:10:15.462Z"
   },
   {
    "duration": 7,
    "start_time": "2023-02-01T12:10:15.761Z"
   },
   {
    "duration": 169,
    "start_time": "2023-02-01T12:10:15.769Z"
   },
   {
    "duration": 8,
    "start_time": "2023-02-01T12:10:15.940Z"
   },
   {
    "duration": 16,
    "start_time": "2023-02-01T12:10:15.949Z"
   },
   {
    "duration": 41,
    "start_time": "2023-02-01T12:10:15.966Z"
   },
   {
    "duration": 157,
    "start_time": "2023-02-01T12:10:16.009Z"
   },
   {
    "duration": 156,
    "start_time": "2023-02-01T12:10:16.168Z"
   },
   {
    "duration": 5,
    "start_time": "2023-02-01T12:10:16.326Z"
   },
   {
    "duration": 66,
    "start_time": "2023-02-01T12:10:16.333Z"
   },
   {
    "duration": 91,
    "start_time": "2023-02-01T12:10:16.401Z"
   },
   {
    "duration": 5,
    "start_time": "2023-02-01T12:10:16.493Z"
   },
   {
    "duration": 24,
    "start_time": "2023-02-01T12:10:16.500Z"
   },
   {
    "duration": 48,
    "start_time": "2023-02-01T12:10:16.526Z"
   },
   {
    "duration": 4,
    "start_time": "2023-02-01T12:10:16.576Z"
   },
   {
    "duration": 16,
    "start_time": "2023-02-01T12:10:16.582Z"
   },
   {
    "duration": 102,
    "start_time": "2023-02-01T12:10:16.600Z"
   },
   {
    "duration": 19,
    "start_time": "2023-02-01T12:10:16.706Z"
   },
   {
    "duration": 13,
    "start_time": "2023-02-01T12:10:16.727Z"
   },
   {
    "duration": 14,
    "start_time": "2023-02-01T12:10:16.741Z"
   },
   {
    "duration": 6,
    "start_time": "2023-02-01T12:10:16.757Z"
   },
   {
    "duration": 10,
    "start_time": "2023-02-01T12:10:16.764Z"
   },
   {
    "duration": 12,
    "start_time": "2023-02-01T12:10:16.777Z"
   },
   {
    "duration": 54,
    "start_time": "2023-02-01T12:10:16.791Z"
   },
   {
    "duration": 6,
    "start_time": "2023-02-01T12:10:16.846Z"
   },
   {
    "duration": 14,
    "start_time": "2023-02-01T12:10:16.853Z"
   },
   {
    "duration": 17,
    "start_time": "2023-02-01T12:10:16.869Z"
   },
   {
    "duration": 1154,
    "start_time": "2023-02-01T12:41:54.939Z"
   },
   {
    "duration": 2,
    "start_time": "2023-02-01T12:41:56.095Z"
   },
   {
    "duration": 86,
    "start_time": "2023-02-01T12:41:56.098Z"
   },
   {
    "duration": 55,
    "start_time": "2023-02-01T12:41:56.186Z"
   },
   {
    "duration": 6,
    "start_time": "2023-02-01T12:41:56.243Z"
   },
   {
    "duration": 7,
    "start_time": "2023-02-01T12:41:56.251Z"
   },
   {
    "duration": 13,
    "start_time": "2023-02-01T12:41:56.259Z"
   },
   {
    "duration": 7,
    "start_time": "2023-02-01T12:41:56.273Z"
   },
   {
    "duration": 48,
    "start_time": "2023-02-01T12:41:56.281Z"
   },
   {
    "duration": 8,
    "start_time": "2023-02-01T12:41:56.333Z"
   },
   {
    "duration": 8,
    "start_time": "2023-02-01T12:41:56.342Z"
   },
   {
    "duration": 10,
    "start_time": "2023-02-01T12:41:56.352Z"
   },
   {
    "duration": 13,
    "start_time": "2023-02-01T12:41:56.364Z"
   },
   {
    "duration": 12,
    "start_time": "2023-02-01T12:41:56.379Z"
   },
   {
    "duration": 40,
    "start_time": "2023-02-01T12:41:56.393Z"
   },
   {
    "duration": 7,
    "start_time": "2023-02-01T12:41:56.435Z"
   },
   {
    "duration": 230,
    "start_time": "2023-02-01T12:41:56.444Z"
   },
   {
    "duration": 127,
    "start_time": "2023-02-01T12:41:56.677Z"
   },
   {
    "duration": 16,
    "start_time": "2023-02-01T12:41:56.806Z"
   },
   {
    "duration": 273,
    "start_time": "2023-02-01T12:41:56.824Z"
   },
   {
    "duration": 204,
    "start_time": "2023-02-01T12:41:57.098Z"
   },
   {
    "duration": 319,
    "start_time": "2023-02-01T12:41:57.304Z"
   },
   {
    "duration": 223,
    "start_time": "2023-02-01T12:41:57.625Z"
   },
   {
    "duration": 284,
    "start_time": "2023-02-01T12:41:57.850Z"
   },
   {
    "duration": 7,
    "start_time": "2023-02-01T12:41:58.136Z"
   },
   {
    "duration": 161,
    "start_time": "2023-02-01T12:41:58.145Z"
   },
   {
    "duration": 16,
    "start_time": "2023-02-01T12:41:58.308Z"
   },
   {
    "duration": 5,
    "start_time": "2023-02-01T12:41:58.328Z"
   },
   {
    "duration": 14,
    "start_time": "2023-02-01T12:41:58.335Z"
   },
   {
    "duration": 172,
    "start_time": "2023-02-01T12:41:58.351Z"
   },
   {
    "duration": 163,
    "start_time": "2023-02-01T12:41:58.525Z"
   },
   {
    "duration": 5,
    "start_time": "2023-02-01T12:41:58.691Z"
   },
   {
    "duration": 74,
    "start_time": "2023-02-01T12:41:58.697Z"
   },
   {
    "duration": 84,
    "start_time": "2023-02-01T12:41:58.772Z"
   },
   {
    "duration": 7,
    "start_time": "2023-02-01T12:41:58.858Z"
   },
   {
    "duration": 9,
    "start_time": "2023-02-01T12:41:58.867Z"
   },
   {
    "duration": 61,
    "start_time": "2023-02-01T12:41:58.878Z"
   },
   {
    "duration": 4,
    "start_time": "2023-02-01T12:41:58.941Z"
   },
   {
    "duration": 12,
    "start_time": "2023-02-01T12:41:58.946Z"
   },
   {
    "duration": 6,
    "start_time": "2023-02-01T12:41:58.960Z"
   },
   {
    "duration": 7,
    "start_time": "2023-02-01T12:41:58.968Z"
   },
   {
    "duration": 5,
    "start_time": "2023-02-01T12:41:58.977Z"
   },
   {
    "duration": 9,
    "start_time": "2023-02-01T12:41:58.984Z"
   },
   {
    "duration": 81,
    "start_time": "2023-02-01T12:41:59.021Z"
   },
   {
    "duration": 18,
    "start_time": "2023-02-01T12:41:59.103Z"
   },
   {
    "duration": 7,
    "start_time": "2023-02-01T12:41:59.123Z"
   },
   {
    "duration": 44,
    "start_time": "2023-02-01T12:41:59.132Z"
   },
   {
    "duration": 5,
    "start_time": "2023-02-01T12:41:59.178Z"
   },
   {
    "duration": 38,
    "start_time": "2023-02-01T12:41:59.184Z"
   },
   {
    "duration": 9,
    "start_time": "2023-02-01T12:41:59.224Z"
   },
   {
    "duration": 1201,
    "start_time": "2023-02-01T12:49:25.021Z"
   },
   {
    "duration": 3,
    "start_time": "2023-02-01T12:49:26.224Z"
   },
   {
    "duration": 86,
    "start_time": "2023-02-01T12:49:26.228Z"
   },
   {
    "duration": 72,
    "start_time": "2023-02-01T12:49:26.316Z"
   },
   {
    "duration": 32,
    "start_time": "2023-02-01T12:49:26.391Z"
   },
   {
    "duration": 7,
    "start_time": "2023-02-01T12:49:26.425Z"
   },
   {
    "duration": 14,
    "start_time": "2023-02-01T12:49:26.433Z"
   },
   {
    "duration": 8,
    "start_time": "2023-02-01T12:49:26.449Z"
   },
   {
    "duration": 13,
    "start_time": "2023-02-01T12:49:26.459Z"
   },
   {
    "duration": 6,
    "start_time": "2023-02-01T12:49:26.474Z"
   },
   {
    "duration": 46,
    "start_time": "2023-02-01T12:49:26.481Z"
   },
   {
    "duration": 12,
    "start_time": "2023-02-01T12:49:26.529Z"
   },
   {
    "duration": 15,
    "start_time": "2023-02-01T12:49:26.543Z"
   },
   {
    "duration": 15,
    "start_time": "2023-02-01T12:49:26.563Z"
   },
   {
    "duration": 49,
    "start_time": "2023-02-01T12:49:26.581Z"
   },
   {
    "duration": 7,
    "start_time": "2023-02-01T12:49:26.632Z"
   },
   {
    "duration": 211,
    "start_time": "2023-02-01T12:49:26.641Z"
   },
   {
    "duration": 153,
    "start_time": "2023-02-01T12:49:26.854Z"
   },
   {
    "duration": 18,
    "start_time": "2023-02-01T12:49:27.009Z"
   },
   {
    "duration": 361,
    "start_time": "2023-02-01T12:49:27.028Z"
   },
   {
    "duration": 223,
    "start_time": "2023-02-01T12:49:27.391Z"
   },
   {
    "duration": 303,
    "start_time": "2023-02-01T12:49:27.621Z"
   },
   {
    "duration": 233,
    "start_time": "2023-02-01T12:49:27.926Z"
   },
   {
    "duration": 295,
    "start_time": "2023-02-01T12:49:28.161Z"
   },
   {
    "duration": 7,
    "start_time": "2023-02-01T12:49:28.457Z"
   },
   {
    "duration": 175,
    "start_time": "2023-02-01T12:49:28.465Z"
   },
   {
    "duration": 8,
    "start_time": "2023-02-01T12:49:28.642Z"
   },
   {
    "duration": 5,
    "start_time": "2023-02-01T12:49:28.652Z"
   },
   {
    "duration": 11,
    "start_time": "2023-02-01T12:49:28.658Z"
   },
   {
    "duration": 169,
    "start_time": "2023-02-01T12:49:28.670Z"
   },
   {
    "duration": 164,
    "start_time": "2023-02-01T12:49:28.841Z"
   },
   {
    "duration": 6,
    "start_time": "2023-02-01T12:49:29.007Z"
   },
   {
    "duration": 101,
    "start_time": "2023-02-01T12:49:29.021Z"
   },
   {
    "duration": 80,
    "start_time": "2023-02-01T12:49:29.124Z"
   },
   {
    "duration": 24,
    "start_time": "2023-02-01T12:49:29.206Z"
   },
   {
    "duration": 11,
    "start_time": "2023-02-01T12:49:29.232Z"
   },
   {
    "duration": 49,
    "start_time": "2023-02-01T12:49:29.245Z"
   },
   {
    "duration": 5,
    "start_time": "2023-02-01T12:49:29.296Z"
   },
   {
    "duration": 9,
    "start_time": "2023-02-01T12:49:29.320Z"
   },
   {
    "duration": 106,
    "start_time": "2023-02-01T12:49:29.331Z"
   },
   {
    "duration": 10,
    "start_time": "2023-02-01T12:49:29.440Z"
   },
   {
    "duration": 9,
    "start_time": "2023-02-01T12:49:29.452Z"
   },
   {
    "duration": 9,
    "start_time": "2023-02-01T12:49:29.462Z"
   },
   {
    "duration": 5,
    "start_time": "2023-02-01T12:49:29.473Z"
   },
   {
    "duration": 7,
    "start_time": "2023-02-01T12:49:29.480Z"
   },
   {
    "duration": 7,
    "start_time": "2023-02-01T12:49:29.489Z"
   },
   {
    "duration": 68,
    "start_time": "2023-02-01T12:49:29.497Z"
   },
   {
    "duration": 5,
    "start_time": "2023-02-01T12:49:29.566Z"
   },
   {
    "duration": 16,
    "start_time": "2023-02-01T12:49:29.573Z"
   },
   {
    "duration": 10,
    "start_time": "2023-02-01T12:49:29.591Z"
   },
   {
    "duration": 1235,
    "start_time": "2023-02-01T12:50:31.389Z"
   },
   {
    "duration": 3,
    "start_time": "2023-02-01T12:50:32.626Z"
   },
   {
    "duration": 124,
    "start_time": "2023-02-01T12:50:32.631Z"
   },
   {
    "duration": 62,
    "start_time": "2023-02-01T12:50:32.757Z"
   },
   {
    "duration": 5,
    "start_time": "2023-02-01T12:50:32.822Z"
   },
   {
    "duration": 57,
    "start_time": "2023-02-01T12:50:32.829Z"
   },
   {
    "duration": 57,
    "start_time": "2023-02-01T12:50:32.887Z"
   },
   {
    "duration": 41,
    "start_time": "2023-02-01T12:50:32.946Z"
   },
   {
    "duration": 45,
    "start_time": "2023-02-01T12:50:32.989Z"
   },
   {
    "duration": 28,
    "start_time": "2023-02-01T12:50:33.035Z"
   },
   {
    "duration": 28,
    "start_time": "2023-02-01T12:50:33.065Z"
   },
   {
    "duration": 26,
    "start_time": "2023-02-01T12:50:33.095Z"
   },
   {
    "duration": 38,
    "start_time": "2023-02-01T12:50:33.122Z"
   },
   {
    "duration": 39,
    "start_time": "2023-02-01T12:50:33.164Z"
   },
   {
    "duration": 30,
    "start_time": "2023-02-01T12:50:33.205Z"
   },
   {
    "duration": 23,
    "start_time": "2023-02-01T12:50:33.237Z"
   },
   {
    "duration": 378,
    "start_time": "2023-02-01T12:50:33.262Z"
   },
   {
    "duration": 146,
    "start_time": "2023-02-01T12:50:33.642Z"
   },
   {
    "duration": 8,
    "start_time": "2023-02-01T12:50:33.789Z"
   },
   {
    "duration": 315,
    "start_time": "2023-02-01T12:50:33.799Z"
   },
   {
    "duration": 228,
    "start_time": "2023-02-01T12:50:34.121Z"
   },
   {
    "duration": 324,
    "start_time": "2023-02-01T12:50:34.351Z"
   },
   {
    "duration": 245,
    "start_time": "2023-02-01T12:50:34.678Z"
   },
   {
    "duration": 323,
    "start_time": "2023-02-01T12:50:34.924Z"
   },
   {
    "duration": 9,
    "start_time": "2023-02-01T12:50:35.249Z"
   },
   {
    "duration": 181,
    "start_time": "2023-02-01T12:50:35.259Z"
   },
   {
    "duration": 8,
    "start_time": "2023-02-01T12:50:35.441Z"
   },
   {
    "duration": 17,
    "start_time": "2023-02-01T12:50:35.451Z"
   },
   {
    "duration": 31,
    "start_time": "2023-02-01T12:50:35.470Z"
   },
   {
    "duration": 166,
    "start_time": "2023-02-01T12:50:35.503Z"
   },
   {
    "duration": 160,
    "start_time": "2023-02-01T12:50:35.671Z"
   },
   {
    "duration": 6,
    "start_time": "2023-02-01T12:50:35.833Z"
   },
   {
    "duration": 95,
    "start_time": "2023-02-01T12:50:35.841Z"
   },
   {
    "duration": 89,
    "start_time": "2023-02-01T12:50:35.938Z"
   },
   {
    "duration": 6,
    "start_time": "2023-02-01T12:50:36.028Z"
   },
   {
    "duration": 35,
    "start_time": "2023-02-01T12:50:36.036Z"
   },
   {
    "duration": 63,
    "start_time": "2023-02-01T12:50:36.072Z"
   },
   {
    "duration": 5,
    "start_time": "2023-02-01T12:50:36.137Z"
   },
   {
    "duration": 49,
    "start_time": "2023-02-01T12:50:36.143Z"
   },
   {
    "duration": 113,
    "start_time": "2023-02-01T12:50:36.193Z"
   },
   {
    "duration": 31,
    "start_time": "2023-02-01T12:50:36.310Z"
   },
   {
    "duration": 17,
    "start_time": "2023-02-01T12:50:36.343Z"
   },
   {
    "duration": 46,
    "start_time": "2023-02-01T12:50:36.362Z"
   },
   {
    "duration": 27,
    "start_time": "2023-02-01T12:50:36.410Z"
   },
   {
    "duration": 28,
    "start_time": "2023-02-01T12:50:36.439Z"
   },
   {
    "duration": 30,
    "start_time": "2023-02-01T12:50:36.469Z"
   },
   {
    "duration": 58,
    "start_time": "2023-02-01T12:50:36.501Z"
   },
   {
    "duration": 7,
    "start_time": "2023-02-01T12:50:36.561Z"
   },
   {
    "duration": 27,
    "start_time": "2023-02-01T12:50:36.569Z"
   },
   {
    "duration": 28,
    "start_time": "2023-02-01T12:50:36.598Z"
   },
   {
    "duration": 1245,
    "start_time": "2023-02-02T09:58:35.155Z"
   },
   {
    "duration": 3,
    "start_time": "2023-02-02T09:58:36.403Z"
   },
   {
    "duration": 228,
    "start_time": "2023-02-02T09:58:36.408Z"
   },
   {
    "duration": 61,
    "start_time": "2023-02-02T09:58:36.643Z"
   },
   {
    "duration": 5,
    "start_time": "2023-02-02T09:58:36.706Z"
   },
   {
    "duration": 9,
    "start_time": "2023-02-02T09:58:36.727Z"
   },
   {
    "duration": 20,
    "start_time": "2023-02-02T09:58:36.739Z"
   },
   {
    "duration": 8,
    "start_time": "2023-02-02T09:58:36.760Z"
   },
   {
    "duration": 22,
    "start_time": "2023-02-02T09:58:36.769Z"
   },
   {
    "duration": 17,
    "start_time": "2023-02-02T09:58:36.793Z"
   },
   {
    "duration": 11,
    "start_time": "2023-02-02T09:58:36.812Z"
   },
   {
    "duration": 40,
    "start_time": "2023-02-02T09:58:36.824Z"
   },
   {
    "duration": 22,
    "start_time": "2023-02-02T09:58:36.866Z"
   },
   {
    "duration": 12,
    "start_time": "2023-02-02T09:58:36.889Z"
   },
   {
    "duration": 30,
    "start_time": "2023-02-02T09:58:36.902Z"
   },
   {
    "duration": 25,
    "start_time": "2023-02-02T09:58:36.934Z"
   },
   {
    "duration": 202,
    "start_time": "2023-02-02T09:58:36.960Z"
   },
   {
    "duration": 123,
    "start_time": "2023-02-02T09:58:37.164Z"
   },
   {
    "duration": 10,
    "start_time": "2023-02-02T09:58:37.294Z"
   },
   {
    "duration": 308,
    "start_time": "2023-02-02T09:58:37.306Z"
   },
   {
    "duration": 208,
    "start_time": "2023-02-02T09:58:37.615Z"
   },
   {
    "duration": 333,
    "start_time": "2023-02-02T09:58:37.825Z"
   },
   {
    "duration": 210,
    "start_time": "2023-02-02T09:58:38.160Z"
   },
   {
    "duration": 295,
    "start_time": "2023-02-02T09:58:38.372Z"
   },
   {
    "duration": 7,
    "start_time": "2023-02-02T09:58:38.669Z"
   },
   {
    "duration": 178,
    "start_time": "2023-02-02T09:58:38.678Z"
   },
   {
    "duration": 7,
    "start_time": "2023-02-02T09:58:38.858Z"
   },
   {
    "duration": 6,
    "start_time": "2023-02-02T09:58:38.868Z"
   },
   {
    "duration": 13,
    "start_time": "2023-02-02T09:58:38.876Z"
   },
   {
    "duration": 175,
    "start_time": "2023-02-02T09:58:38.893Z"
   },
   {
    "duration": 180,
    "start_time": "2023-02-02T09:58:39.070Z"
   },
   {
    "duration": 7,
    "start_time": "2023-02-02T09:58:39.251Z"
   },
   {
    "duration": 101,
    "start_time": "2023-02-02T09:58:39.259Z"
   },
   {
    "duration": 90,
    "start_time": "2023-02-02T09:58:39.362Z"
   },
   {
    "duration": 5,
    "start_time": "2023-02-02T09:58:39.454Z"
   },
   {
    "duration": 10,
    "start_time": "2023-02-02T09:58:39.460Z"
   },
   {
    "duration": 64,
    "start_time": "2023-02-02T09:58:39.473Z"
   },
   {
    "duration": 7,
    "start_time": "2023-02-02T09:58:39.539Z"
   },
   {
    "duration": 13,
    "start_time": "2023-02-02T09:58:39.548Z"
   },
   {
    "duration": 6,
    "start_time": "2023-02-02T09:58:39.563Z"
   },
   {
    "duration": 7,
    "start_time": "2023-02-02T09:58:39.571Z"
   },
   {
    "duration": 8,
    "start_time": "2023-02-02T09:58:39.580Z"
   },
   {
    "duration": 10,
    "start_time": "2023-02-02T09:58:39.590Z"
   },
   {
    "duration": 77,
    "start_time": "2023-02-02T09:58:39.626Z"
   },
   {
    "duration": 8,
    "start_time": "2023-02-02T09:58:39.705Z"
   },
   {
    "duration": 20,
    "start_time": "2023-02-02T09:58:39.714Z"
   },
   {
    "duration": 99,
    "start_time": "2023-02-02T09:58:39.743Z"
   },
   {
    "duration": 6,
    "start_time": "2023-02-02T09:58:39.844Z"
   },
   {
    "duration": 13,
    "start_time": "2023-02-02T09:58:39.851Z"
   },
   {
    "duration": 11,
    "start_time": "2023-02-02T09:58:39.866Z"
   },
   {
    "duration": 1140,
    "start_time": "2023-02-02T10:05:36.649Z"
   },
   {
    "duration": 3,
    "start_time": "2023-02-02T10:05:37.791Z"
   },
   {
    "duration": 120,
    "start_time": "2023-02-02T10:05:37.795Z"
   },
   {
    "duration": 54,
    "start_time": "2023-02-02T10:05:37.917Z"
   },
   {
    "duration": 25,
    "start_time": "2023-02-02T10:05:37.973Z"
   },
   {
    "duration": 29,
    "start_time": "2023-02-02T10:05:38.000Z"
   },
   {
    "duration": 76,
    "start_time": "2023-02-02T10:05:38.031Z"
   },
   {
    "duration": 68,
    "start_time": "2023-02-02T10:05:38.108Z"
   },
   {
    "duration": 71,
    "start_time": "2023-02-02T10:05:38.178Z"
   },
   {
    "duration": 60,
    "start_time": "2023-02-02T10:05:38.252Z"
   },
   {
    "duration": 46,
    "start_time": "2023-02-02T10:05:38.314Z"
   },
   {
    "duration": 68,
    "start_time": "2023-02-02T10:05:38.361Z"
   },
   {
    "duration": 41,
    "start_time": "2023-02-02T10:05:38.431Z"
   },
   {
    "duration": 50,
    "start_time": "2023-02-02T10:05:38.474Z"
   },
   {
    "duration": 60,
    "start_time": "2023-02-02T10:05:38.526Z"
   },
   {
    "duration": 46,
    "start_time": "2023-02-02T10:05:38.587Z"
   },
   {
    "duration": 214,
    "start_time": "2023-02-02T10:05:38.635Z"
   },
   {
    "duration": 131,
    "start_time": "2023-02-02T10:05:38.851Z"
   },
   {
    "duration": 6,
    "start_time": "2023-02-02T10:05:38.984Z"
   },
   {
    "duration": 299,
    "start_time": "2023-02-02T10:05:38.992Z"
   },
   {
    "duration": 217,
    "start_time": "2023-02-02T10:05:39.292Z"
   },
   {
    "duration": 306,
    "start_time": "2023-02-02T10:05:39.511Z"
   },
   {
    "duration": 218,
    "start_time": "2023-02-02T10:05:39.819Z"
   },
   {
    "duration": 332,
    "start_time": "2023-02-02T10:05:40.039Z"
   },
   {
    "duration": 9,
    "start_time": "2023-02-02T10:05:40.373Z"
   },
   {
    "duration": 226,
    "start_time": "2023-02-02T10:05:40.384Z"
   },
   {
    "duration": 7,
    "start_time": "2023-02-02T10:05:40.613Z"
   },
   {
    "duration": 34,
    "start_time": "2023-02-02T10:05:40.637Z"
   },
   {
    "duration": 43,
    "start_time": "2023-02-02T10:05:40.673Z"
   },
   {
    "duration": 174,
    "start_time": "2023-02-02T10:05:40.717Z"
   },
   {
    "duration": 141,
    "start_time": "2023-02-02T10:05:40.892Z"
   },
   {
    "duration": 5,
    "start_time": "2023-02-02T10:05:41.035Z"
   },
   {
    "duration": 122,
    "start_time": "2023-02-02T10:05:41.041Z"
   },
   {
    "duration": 87,
    "start_time": "2023-02-02T10:05:41.165Z"
   },
   {
    "duration": 45,
    "start_time": "2023-02-02T10:05:41.254Z"
   },
   {
    "duration": 72,
    "start_time": "2023-02-02T10:05:41.301Z"
   },
   {
    "duration": 75,
    "start_time": "2023-02-02T10:05:41.375Z"
   },
   {
    "duration": 4,
    "start_time": "2023-02-02T10:05:41.452Z"
   },
   {
    "duration": 38,
    "start_time": "2023-02-02T10:05:41.458Z"
   },
   {
    "duration": 46,
    "start_time": "2023-02-02T10:05:41.498Z"
   },
   {
    "duration": 50,
    "start_time": "2023-02-02T10:05:41.545Z"
   },
   {
    "duration": 40,
    "start_time": "2023-02-02T10:05:41.597Z"
   },
   {
    "duration": 44,
    "start_time": "2023-02-02T10:05:41.640Z"
   },
   {
    "duration": 88,
    "start_time": "2023-02-02T10:05:41.685Z"
   },
   {
    "duration": 57,
    "start_time": "2023-02-02T10:05:41.774Z"
   },
   {
    "duration": 44,
    "start_time": "2023-02-02T10:05:41.832Z"
   },
   {
    "duration": 66,
    "start_time": "2023-02-02T10:05:41.878Z"
   },
   {
    "duration": 24,
    "start_time": "2023-02-02T10:05:41.946Z"
   },
   {
    "duration": 55,
    "start_time": "2023-02-02T10:05:41.972Z"
   },
   {
    "duration": 60,
    "start_time": "2023-02-02T10:05:42.028Z"
   },
   {
    "duration": 38,
    "start_time": "2023-02-02T10:15:09.406Z"
   },
   {
    "duration": 5,
    "start_time": "2023-02-02T10:16:45.203Z"
   },
   {
    "duration": 41,
    "start_time": "2023-02-02T10:16:59.600Z"
   },
   {
    "duration": 5,
    "start_time": "2023-02-02T10:17:05.267Z"
   },
   {
    "duration": 5,
    "start_time": "2023-02-02T10:17:13.037Z"
   },
   {
    "duration": 35,
    "start_time": "2023-02-02T10:17:41.662Z"
   },
   {
    "duration": 3,
    "start_time": "2023-02-02T10:17:59.623Z"
   },
   {
    "duration": 42,
    "start_time": "2023-02-02T10:18:18.278Z"
   },
   {
    "duration": 36,
    "start_time": "2023-02-02T10:18:41.096Z"
   },
   {
    "duration": 4,
    "start_time": "2023-02-02T10:19:43.172Z"
   },
   {
    "duration": 4,
    "start_time": "2023-02-02T10:19:56.039Z"
   },
   {
    "duration": 43,
    "start_time": "2023-02-02T10:20:14.296Z"
   },
   {
    "duration": 4,
    "start_time": "2023-02-02T10:20:33.630Z"
   },
   {
    "duration": 52,
    "start_time": "2023-02-02T10:20:40.650Z"
   },
   {
    "duration": 59,
    "start_time": "2023-02-02T10:22:03.559Z"
   },
   {
    "duration": 6,
    "start_time": "2023-02-02T10:22:08.991Z"
   },
   {
    "duration": 3,
    "start_time": "2023-02-02T10:22:54.879Z"
   },
   {
    "duration": 4,
    "start_time": "2023-02-02T10:23:06.746Z"
   },
   {
    "duration": 5,
    "start_time": "2023-02-02T10:23:46.098Z"
   },
   {
    "duration": 4,
    "start_time": "2023-02-02T10:23:56.120Z"
   },
   {
    "duration": 1125,
    "start_time": "2023-02-02T10:24:24.518Z"
   },
   {
    "duration": 3,
    "start_time": "2023-02-02T10:24:25.646Z"
   },
   {
    "duration": 74,
    "start_time": "2023-02-02T10:24:25.651Z"
   },
   {
    "duration": 60,
    "start_time": "2023-02-02T10:24:25.727Z"
   },
   {
    "duration": 39,
    "start_time": "2023-02-02T10:24:25.789Z"
   },
   {
    "duration": 5,
    "start_time": "2023-02-02T10:24:25.830Z"
   },
   {
    "duration": 11,
    "start_time": "2023-02-02T10:24:25.837Z"
   },
   {
    "duration": 6,
    "start_time": "2023-02-02T10:24:25.850Z"
   },
   {
    "duration": 13,
    "start_time": "2023-02-02T10:24:25.858Z"
   },
   {
    "duration": 6,
    "start_time": "2023-02-02T10:24:25.873Z"
   },
   {
    "duration": 8,
    "start_time": "2023-02-02T10:24:25.881Z"
   },
   {
    "duration": 40,
    "start_time": "2023-02-02T10:24:25.891Z"
   },
   {
    "duration": 13,
    "start_time": "2023-02-02T10:24:25.933Z"
   },
   {
    "duration": 15,
    "start_time": "2023-02-02T10:24:25.948Z"
   },
   {
    "duration": 18,
    "start_time": "2023-02-02T10:24:25.965Z"
   },
   {
    "duration": 8,
    "start_time": "2023-02-02T10:24:25.985Z"
   },
   {
    "duration": 202,
    "start_time": "2023-02-02T10:24:25.995Z"
   },
   {
    "duration": 123,
    "start_time": "2023-02-02T10:24:26.198Z"
   },
   {
    "duration": 7,
    "start_time": "2023-02-02T10:24:26.326Z"
   },
   {
    "duration": 372,
    "start_time": "2023-02-02T10:24:26.335Z"
   },
   {
    "duration": 220,
    "start_time": "2023-02-02T10:24:26.709Z"
   },
   {
    "duration": 304,
    "start_time": "2023-02-02T10:24:26.931Z"
   },
   {
    "duration": 206,
    "start_time": "2023-02-02T10:24:27.237Z"
   },
   {
    "duration": 286,
    "start_time": "2023-02-02T10:24:27.445Z"
   },
   {
    "duration": 8,
    "start_time": "2023-02-02T10:24:27.734Z"
   },
   {
    "duration": 165,
    "start_time": "2023-02-02T10:24:27.744Z"
   },
   {
    "duration": 18,
    "start_time": "2023-02-02T10:24:27.911Z"
   },
   {
    "duration": 5,
    "start_time": "2023-02-02T10:24:27.934Z"
   },
   {
    "duration": 13,
    "start_time": "2023-02-02T10:24:27.942Z"
   },
   {
    "duration": 252,
    "start_time": "2023-02-02T10:24:27.957Z"
   },
   {
    "duration": 150,
    "start_time": "2023-02-02T10:24:28.211Z"
   },
   {
    "duration": 5,
    "start_time": "2023-02-02T10:24:28.363Z"
   },
   {
    "duration": 76,
    "start_time": "2023-02-02T10:24:28.370Z"
   },
   {
    "duration": 80,
    "start_time": "2023-02-02T10:24:28.448Z"
   },
   {
    "duration": 6,
    "start_time": "2023-02-02T10:24:28.530Z"
   },
   {
    "duration": 7,
    "start_time": "2023-02-02T10:24:28.537Z"
   },
   {
    "duration": 49,
    "start_time": "2023-02-02T10:24:28.546Z"
   },
   {
    "duration": 4,
    "start_time": "2023-02-02T10:24:28.596Z"
   },
   {
    "duration": 33,
    "start_time": "2023-02-02T10:24:28.602Z"
   },
   {
    "duration": 18,
    "start_time": "2023-02-02T10:24:28.637Z"
   },
   {
    "duration": 9,
    "start_time": "2023-02-02T10:24:28.658Z"
   },
   {
    "duration": 128,
    "start_time": "2023-02-02T10:24:28.669Z"
   },
   {
    "duration": 5,
    "start_time": "2023-02-02T10:24:28.799Z"
   },
   {
    "duration": 8,
    "start_time": "2023-02-02T10:24:28.806Z"
   },
   {
    "duration": 15,
    "start_time": "2023-02-02T10:24:28.815Z"
   },
   {
    "duration": 25,
    "start_time": "2023-02-02T10:24:28.831Z"
   },
   {
    "duration": 40,
    "start_time": "2023-02-02T10:24:28.858Z"
   },
   {
    "duration": 5,
    "start_time": "2023-02-02T10:24:28.899Z"
   },
   {
    "duration": 12,
    "start_time": "2023-02-02T10:24:28.906Z"
   },
   {
    "duration": 18,
    "start_time": "2023-02-02T10:24:28.919Z"
   },
   {
    "duration": 1021,
    "start_time": "2023-02-02T10:26:53.471Z"
   },
   {
    "duration": 3,
    "start_time": "2023-02-02T10:26:54.495Z"
   },
   {
    "duration": 114,
    "start_time": "2023-02-02T10:26:54.499Z"
   },
   {
    "duration": 65,
    "start_time": "2023-02-02T10:26:54.615Z"
   },
   {
    "duration": 7,
    "start_time": "2023-02-02T10:26:54.681Z"
   },
   {
    "duration": 40,
    "start_time": "2023-02-02T10:26:54.690Z"
   },
   {
    "duration": 62,
    "start_time": "2023-02-02T10:26:54.732Z"
   },
   {
    "duration": 35,
    "start_time": "2023-02-02T10:26:54.796Z"
   },
   {
    "duration": 85,
    "start_time": "2023-02-02T10:26:54.833Z"
   },
   {
    "duration": 56,
    "start_time": "2023-02-02T10:26:54.922Z"
   },
   {
    "duration": 38,
    "start_time": "2023-02-02T10:26:54.979Z"
   },
   {
    "duration": 66,
    "start_time": "2023-02-02T10:26:55.019Z"
   },
   {
    "duration": 54,
    "start_time": "2023-02-02T10:26:55.087Z"
   },
   {
    "duration": 50,
    "start_time": "2023-02-02T10:26:55.143Z"
   },
   {
    "duration": 68,
    "start_time": "2023-02-02T10:26:55.194Z"
   },
   {
    "duration": 31,
    "start_time": "2023-02-02T10:26:55.263Z"
   },
   {
    "duration": 254,
    "start_time": "2023-02-02T10:26:55.295Z"
   },
   {
    "duration": 136,
    "start_time": "2023-02-02T10:26:55.551Z"
   },
   {
    "duration": 7,
    "start_time": "2023-02-02T10:26:55.689Z"
   },
   {
    "duration": 306,
    "start_time": "2023-02-02T10:26:55.697Z"
   },
   {
    "duration": 193,
    "start_time": "2023-02-02T10:26:56.005Z"
   },
   {
    "duration": 320,
    "start_time": "2023-02-02T10:26:56.200Z"
   },
   {
    "duration": 224,
    "start_time": "2023-02-02T10:26:56.528Z"
   },
   {
    "duration": 267,
    "start_time": "2023-02-02T10:26:56.754Z"
   },
   {
    "duration": 7,
    "start_time": "2023-02-02T10:26:57.026Z"
   },
   {
    "duration": 192,
    "start_time": "2023-02-02T10:26:57.034Z"
   },
   {
    "duration": 9,
    "start_time": "2023-02-02T10:26:57.228Z"
   },
   {
    "duration": 20,
    "start_time": "2023-02-02T10:26:57.241Z"
   },
   {
    "duration": 59,
    "start_time": "2023-02-02T10:26:57.263Z"
   },
   {
    "duration": 172,
    "start_time": "2023-02-02T10:26:57.324Z"
   },
   {
    "duration": 144,
    "start_time": "2023-02-02T10:26:57.498Z"
   },
   {
    "duration": 5,
    "start_time": "2023-02-02T10:26:57.644Z"
   },
   {
    "duration": 105,
    "start_time": "2023-02-02T10:26:57.651Z"
   },
   {
    "duration": 122,
    "start_time": "2023-02-02T10:26:57.757Z"
   },
   {
    "duration": 75,
    "start_time": "2023-02-02T10:26:57.881Z"
   },
   {
    "duration": 43,
    "start_time": "2023-02-02T10:26:57.958Z"
   },
   {
    "duration": 72,
    "start_time": "2023-02-02T10:26:58.003Z"
   },
   {
    "duration": 12,
    "start_time": "2023-02-02T10:26:58.077Z"
   },
   {
    "duration": 44,
    "start_time": "2023-02-02T10:26:58.091Z"
   },
   {
    "duration": 39,
    "start_time": "2023-02-02T10:26:58.137Z"
   },
   {
    "duration": 44,
    "start_time": "2023-02-02T10:26:58.178Z"
   },
   {
    "duration": 46,
    "start_time": "2023-02-02T10:26:58.224Z"
   },
   {
    "duration": 30,
    "start_time": "2023-02-02T10:26:58.272Z"
   },
   {
    "duration": 126,
    "start_time": "2023-02-02T10:26:58.304Z"
   },
   {
    "duration": 47,
    "start_time": "2023-02-02T10:26:58.431Z"
   },
   {
    "duration": 36,
    "start_time": "2023-02-02T10:26:58.479Z"
   },
   {
    "duration": 72,
    "start_time": "2023-02-02T10:26:58.516Z"
   },
   {
    "duration": 5,
    "start_time": "2023-02-02T10:26:58.589Z"
   },
   {
    "duration": 64,
    "start_time": "2023-02-02T10:26:58.595Z"
   },
   {
    "duration": 67,
    "start_time": "2023-02-02T10:26:58.661Z"
   },
   {
    "duration": 6,
    "start_time": "2023-02-02T10:46:01.815Z"
   },
   {
    "duration": 4,
    "start_time": "2023-02-02T10:46:34.362Z"
   },
   {
    "duration": 5,
    "start_time": "2023-02-02T10:47:08.563Z"
   },
   {
    "duration": 45,
    "start_time": "2023-02-02T10:47:57.045Z"
   },
   {
    "duration": 5,
    "start_time": "2023-02-02T10:48:12.476Z"
   },
   {
    "duration": 5,
    "start_time": "2023-02-02T10:48:42.975Z"
   },
   {
    "duration": 1160,
    "start_time": "2023-02-02T10:50:10.125Z"
   },
   {
    "duration": 2,
    "start_time": "2023-02-02T10:50:11.287Z"
   },
   {
    "duration": 76,
    "start_time": "2023-02-02T10:50:11.291Z"
   },
   {
    "duration": 58,
    "start_time": "2023-02-02T10:50:11.369Z"
   },
   {
    "duration": 6,
    "start_time": "2023-02-02T10:50:11.428Z"
   },
   {
    "duration": 7,
    "start_time": "2023-02-02T10:50:11.436Z"
   },
   {
    "duration": 15,
    "start_time": "2023-02-02T10:50:11.445Z"
   },
   {
    "duration": 7,
    "start_time": "2023-02-02T10:50:11.462Z"
   },
   {
    "duration": 25,
    "start_time": "2023-02-02T10:50:11.471Z"
   },
   {
    "duration": 3,
    "start_time": "2023-02-02T10:50:11.499Z"
   },
   {
    "duration": 26,
    "start_time": "2023-02-02T10:50:11.504Z"
   },
   {
    "duration": 11,
    "start_time": "2023-02-02T10:50:11.532Z"
   },
   {
    "duration": 14,
    "start_time": "2023-02-02T10:50:11.545Z"
   },
   {
    "duration": 24,
    "start_time": "2023-02-02T10:50:11.560Z"
   },
   {
    "duration": 24,
    "start_time": "2023-02-02T10:50:11.586Z"
   },
   {
    "duration": 16,
    "start_time": "2023-02-02T10:50:11.612Z"
   },
   {
    "duration": 181,
    "start_time": "2023-02-02T10:50:11.630Z"
   },
   {
    "duration": 116,
    "start_time": "2023-02-02T10:50:11.812Z"
   },
   {
    "duration": 7,
    "start_time": "2023-02-02T10:50:11.930Z"
   },
   {
    "duration": 324,
    "start_time": "2023-02-02T10:50:11.938Z"
   },
   {
    "duration": 196,
    "start_time": "2023-02-02T10:50:12.263Z"
   },
   {
    "duration": 275,
    "start_time": "2023-02-02T10:50:12.460Z"
   },
   {
    "duration": 212,
    "start_time": "2023-02-02T10:50:12.736Z"
   },
   {
    "duration": 279,
    "start_time": "2023-02-02T10:50:12.950Z"
   },
   {
    "duration": 8,
    "start_time": "2023-02-02T10:50:13.230Z"
   },
   {
    "duration": 159,
    "start_time": "2023-02-02T10:50:13.239Z"
   },
   {
    "duration": 7,
    "start_time": "2023-02-02T10:50:13.400Z"
   },
   {
    "duration": 17,
    "start_time": "2023-02-02T10:50:13.411Z"
   },
   {
    "duration": 13,
    "start_time": "2023-02-02T10:50:13.429Z"
   },
   {
    "duration": 175,
    "start_time": "2023-02-02T10:50:13.443Z"
   },
   {
    "duration": 147,
    "start_time": "2023-02-02T10:50:13.619Z"
   },
   {
    "duration": 4,
    "start_time": "2023-02-02T10:50:13.768Z"
   },
   {
    "duration": 69,
    "start_time": "2023-02-02T10:50:13.774Z"
   },
   {
    "duration": 88,
    "start_time": "2023-02-02T10:50:13.844Z"
   },
   {
    "duration": 9,
    "start_time": "2023-02-02T10:50:13.934Z"
   },
   {
    "duration": 7,
    "start_time": "2023-02-02T10:50:13.945Z"
   },
   {
    "duration": 41,
    "start_time": "2023-02-02T10:50:13.953Z"
   },
   {
    "duration": 3,
    "start_time": "2023-02-02T10:50:13.996Z"
   },
   {
    "duration": 12,
    "start_time": "2023-02-02T10:50:14.001Z"
   },
   {
    "duration": 18,
    "start_time": "2023-02-02T10:50:14.014Z"
   },
   {
    "duration": 7,
    "start_time": "2023-02-02T10:50:14.033Z"
   },
   {
    "duration": 100,
    "start_time": "2023-02-02T10:50:14.042Z"
   },
   {
    "duration": 9,
    "start_time": "2023-02-02T10:50:14.144Z"
   },
   {
    "duration": 9,
    "start_time": "2023-02-02T10:50:14.154Z"
   },
   {
    "duration": 8,
    "start_time": "2023-02-02T10:50:14.164Z"
   },
   {
    "duration": 11,
    "start_time": "2023-02-02T10:50:14.174Z"
   },
   {
    "duration": 48,
    "start_time": "2023-02-02T10:50:14.187Z"
   },
   {
    "duration": 4,
    "start_time": "2023-02-02T10:50:14.237Z"
   },
   {
    "duration": 20,
    "start_time": "2023-02-02T10:50:14.242Z"
   },
   {
    "duration": 14,
    "start_time": "2023-02-02T10:50:14.263Z"
   },
   {
    "duration": 13,
    "start_time": "2023-02-02T10:52:11.717Z"
   },
   {
    "duration": 5,
    "start_time": "2023-02-02T10:52:33.056Z"
   },
   {
    "duration": 5,
    "start_time": "2023-02-02T10:53:14.236Z"
   },
   {
    "duration": 1048,
    "start_time": "2023-02-02T10:53:28.784Z"
   },
   {
    "duration": 3,
    "start_time": "2023-02-02T10:53:29.834Z"
   },
   {
    "duration": 74,
    "start_time": "2023-02-02T10:53:29.838Z"
   },
   {
    "duration": 70,
    "start_time": "2023-02-02T10:53:29.915Z"
   },
   {
    "duration": 6,
    "start_time": "2023-02-02T10:53:29.987Z"
   },
   {
    "duration": 11,
    "start_time": "2023-02-02T10:53:29.994Z"
   },
   {
    "duration": 15,
    "start_time": "2023-02-02T10:53:30.028Z"
   },
   {
    "duration": 16,
    "start_time": "2023-02-02T10:53:30.046Z"
   },
   {
    "duration": 27,
    "start_time": "2023-02-02T10:53:30.064Z"
   },
   {
    "duration": 30,
    "start_time": "2023-02-02T10:53:30.095Z"
   },
   {
    "duration": 38,
    "start_time": "2023-02-02T10:53:30.127Z"
   },
   {
    "duration": 28,
    "start_time": "2023-02-02T10:53:30.167Z"
   },
   {
    "duration": 52,
    "start_time": "2023-02-02T10:53:30.196Z"
   },
   {
    "duration": 37,
    "start_time": "2023-02-02T10:53:30.250Z"
   },
   {
    "duration": 63,
    "start_time": "2023-02-02T10:53:30.289Z"
   },
   {
    "duration": 26,
    "start_time": "2023-02-02T10:53:30.356Z"
   },
   {
    "duration": 252,
    "start_time": "2023-02-02T10:53:30.385Z"
   },
   {
    "duration": 134,
    "start_time": "2023-02-02T10:53:30.639Z"
   },
   {
    "duration": 7,
    "start_time": "2023-02-02T10:53:30.775Z"
   },
   {
    "duration": 280,
    "start_time": "2023-02-02T10:53:30.784Z"
   },
   {
    "duration": 217,
    "start_time": "2023-02-02T10:53:31.065Z"
   },
   {
    "duration": 327,
    "start_time": "2023-02-02T10:53:31.284Z"
   },
   {
    "duration": 215,
    "start_time": "2023-02-02T10:53:31.613Z"
   },
   {
    "duration": 288,
    "start_time": "2023-02-02T10:53:31.830Z"
   },
   {
    "duration": 11,
    "start_time": "2023-02-02T10:53:32.120Z"
   },
   {
    "duration": 155,
    "start_time": "2023-02-02T10:53:32.133Z"
   },
   {
    "duration": 8,
    "start_time": "2023-02-02T10:53:32.290Z"
   },
   {
    "duration": 25,
    "start_time": "2023-02-02T10:53:32.302Z"
   },
   {
    "duration": 9,
    "start_time": "2023-02-02T10:53:32.329Z"
   },
   {
    "duration": 143,
    "start_time": "2023-02-02T10:53:32.340Z"
   },
   {
    "duration": 143,
    "start_time": "2023-02-02T10:53:32.485Z"
   },
   {
    "duration": 5,
    "start_time": "2023-02-02T10:53:32.631Z"
   },
   {
    "duration": 89,
    "start_time": "2023-02-02T10:53:32.638Z"
   },
   {
    "duration": 78,
    "start_time": "2023-02-02T10:53:32.729Z"
   },
   {
    "duration": 16,
    "start_time": "2023-02-02T10:53:32.826Z"
   },
   {
    "duration": 8,
    "start_time": "2023-02-02T10:53:32.844Z"
   },
   {
    "duration": 64,
    "start_time": "2023-02-02T10:53:32.854Z"
   },
   {
    "duration": 5,
    "start_time": "2023-02-02T10:53:32.920Z"
   },
   {
    "duration": 16,
    "start_time": "2023-02-02T10:53:32.926Z"
   },
   {
    "duration": 10,
    "start_time": "2023-02-02T10:53:32.944Z"
   },
   {
    "duration": 12,
    "start_time": "2023-02-02T10:53:32.956Z"
   },
   {
    "duration": 9,
    "start_time": "2023-02-02T10:53:32.970Z"
   },
   {
    "duration": 18,
    "start_time": "2023-02-02T10:53:32.981Z"
   },
   {
    "duration": 95,
    "start_time": "2023-02-02T10:53:33.001Z"
   },
   {
    "duration": 8,
    "start_time": "2023-02-02T10:53:33.098Z"
   },
   {
    "duration": 21,
    "start_time": "2023-02-02T10:53:33.108Z"
   },
   {
    "duration": 39,
    "start_time": "2023-02-02T10:53:33.131Z"
   },
   {
    "duration": 5,
    "start_time": "2023-02-02T10:53:33.172Z"
   },
   {
    "duration": 23,
    "start_time": "2023-02-02T10:53:33.179Z"
   },
   {
    "duration": 27,
    "start_time": "2023-02-02T10:53:33.204Z"
   },
   {
    "duration": 45,
    "start_time": "2023-02-02T10:53:59.815Z"
   },
   {
    "duration": 5,
    "start_time": "2023-02-02T10:54:59.312Z"
   },
   {
    "duration": 1127,
    "start_time": "2023-02-02T10:55:10.553Z"
   },
   {
    "duration": 4,
    "start_time": "2023-02-02T10:55:11.682Z"
   },
   {
    "duration": 70,
    "start_time": "2023-02-02T10:55:11.687Z"
   },
   {
    "duration": 54,
    "start_time": "2023-02-02T10:55:11.760Z"
   },
   {
    "duration": 5,
    "start_time": "2023-02-02T10:55:11.815Z"
   },
   {
    "duration": 5,
    "start_time": "2023-02-02T10:55:11.826Z"
   },
   {
    "duration": 10,
    "start_time": "2023-02-02T10:55:11.833Z"
   },
   {
    "duration": 6,
    "start_time": "2023-02-02T10:55:11.845Z"
   },
   {
    "duration": 24,
    "start_time": "2023-02-02T10:55:11.853Z"
   },
   {
    "duration": 17,
    "start_time": "2023-02-02T10:55:11.879Z"
   },
   {
    "duration": 13,
    "start_time": "2023-02-02T10:55:11.898Z"
   },
   {
    "duration": 20,
    "start_time": "2023-02-02T10:55:11.912Z"
   },
   {
    "duration": 15,
    "start_time": "2023-02-02T10:55:11.934Z"
   },
   {
    "duration": 12,
    "start_time": "2023-02-02T10:55:11.951Z"
   },
   {
    "duration": 19,
    "start_time": "2023-02-02T10:55:11.964Z"
   },
   {
    "duration": 18,
    "start_time": "2023-02-02T10:55:11.985Z"
   },
   {
    "duration": 202,
    "start_time": "2023-02-02T10:55:12.006Z"
   },
   {
    "duration": 117,
    "start_time": "2023-02-02T10:55:12.210Z"
   },
   {
    "duration": 7,
    "start_time": "2023-02-02T10:55:12.328Z"
   },
   {
    "duration": 286,
    "start_time": "2023-02-02T10:55:12.337Z"
   },
   {
    "duration": 217,
    "start_time": "2023-02-02T10:55:12.626Z"
   },
   {
    "duration": 282,
    "start_time": "2023-02-02T10:55:12.845Z"
   },
   {
    "duration": 214,
    "start_time": "2023-02-02T10:55:13.128Z"
   },
   {
    "duration": 301,
    "start_time": "2023-02-02T10:55:13.344Z"
   },
   {
    "duration": 7,
    "start_time": "2023-02-02T10:55:13.646Z"
   },
   {
    "duration": 165,
    "start_time": "2023-02-02T10:55:13.655Z"
   },
   {
    "duration": 9,
    "start_time": "2023-02-02T10:55:13.822Z"
   },
   {
    "duration": 4,
    "start_time": "2023-02-02T10:55:13.835Z"
   },
   {
    "duration": 14,
    "start_time": "2023-02-02T10:55:13.841Z"
   },
   {
    "duration": 152,
    "start_time": "2023-02-02T10:55:13.856Z"
   },
   {
    "duration": 160,
    "start_time": "2023-02-02T10:55:14.010Z"
   },
   {
    "duration": 6,
    "start_time": "2023-02-02T10:55:14.172Z"
   },
   {
    "duration": 76,
    "start_time": "2023-02-02T10:55:14.180Z"
   },
   {
    "duration": 78,
    "start_time": "2023-02-02T10:55:14.258Z"
   },
   {
    "duration": 4,
    "start_time": "2023-02-02T10:55:14.338Z"
   },
   {
    "duration": 9,
    "start_time": "2023-02-02T10:55:14.344Z"
   },
   {
    "duration": 40,
    "start_time": "2023-02-02T10:55:14.354Z"
   },
   {
    "duration": 3,
    "start_time": "2023-02-02T10:55:14.396Z"
   },
   {
    "duration": 28,
    "start_time": "2023-02-02T10:55:14.401Z"
   },
   {
    "duration": 7,
    "start_time": "2023-02-02T10:55:14.431Z"
   },
   {
    "duration": 13,
    "start_time": "2023-02-02T10:55:14.439Z"
   },
   {
    "duration": 94,
    "start_time": "2023-02-02T10:55:14.453Z"
   },
   {
    "duration": 9,
    "start_time": "2023-02-02T10:55:14.549Z"
   },
   {
    "duration": 11,
    "start_time": "2023-02-02T10:55:14.560Z"
   },
   {
    "duration": 6,
    "start_time": "2023-02-02T10:55:14.573Z"
   },
   {
    "duration": 8,
    "start_time": "2023-02-02T10:55:14.581Z"
   },
   {
    "duration": 53,
    "start_time": "2023-02-02T10:55:14.591Z"
   },
   {
    "duration": 5,
    "start_time": "2023-02-02T10:55:14.645Z"
   },
   {
    "duration": 23,
    "start_time": "2023-02-02T10:55:14.652Z"
   },
   {
    "duration": 10,
    "start_time": "2023-02-02T10:55:14.676Z"
   },
   {
    "duration": 37,
    "start_time": "2023-02-02T10:59:09.496Z"
   },
   {
    "duration": 1103,
    "start_time": "2023-02-02T11:00:08.206Z"
   },
   {
    "duration": 3,
    "start_time": "2023-02-02T11:00:09.311Z"
   },
   {
    "duration": 96,
    "start_time": "2023-02-02T11:00:09.315Z"
   },
   {
    "duration": 63,
    "start_time": "2023-02-02T11:00:09.413Z"
   },
   {
    "duration": 7,
    "start_time": "2023-02-02T11:00:09.478Z"
   },
   {
    "duration": 40,
    "start_time": "2023-02-02T11:00:09.487Z"
   },
   {
    "duration": 11,
    "start_time": "2023-02-02T11:00:09.529Z"
   },
   {
    "duration": 30,
    "start_time": "2023-02-02T11:00:09.542Z"
   },
   {
    "duration": 36,
    "start_time": "2023-02-02T11:00:09.575Z"
   },
   {
    "duration": 38,
    "start_time": "2023-02-02T11:00:09.614Z"
   },
   {
    "duration": 27,
    "start_time": "2023-02-02T11:00:09.654Z"
   },
   {
    "duration": 21,
    "start_time": "2023-02-02T11:00:09.683Z"
   },
   {
    "duration": 43,
    "start_time": "2023-02-02T11:00:09.706Z"
   },
   {
    "duration": 17,
    "start_time": "2023-02-02T11:00:09.752Z"
   },
   {
    "duration": 71,
    "start_time": "2023-02-02T11:00:09.772Z"
   },
   {
    "duration": 40,
    "start_time": "2023-02-02T11:00:09.845Z"
   },
   {
    "duration": 225,
    "start_time": "2023-02-02T11:00:09.887Z"
   },
   {
    "duration": 129,
    "start_time": "2023-02-02T11:00:10.115Z"
   },
   {
    "duration": 6,
    "start_time": "2023-02-02T11:00:10.246Z"
   },
   {
    "duration": 340,
    "start_time": "2023-02-02T11:00:10.254Z"
   },
   {
    "duration": 257,
    "start_time": "2023-02-02T11:00:10.597Z"
   },
   {
    "duration": 274,
    "start_time": "2023-02-02T11:00:10.855Z"
   },
   {
    "duration": 210,
    "start_time": "2023-02-02T11:00:11.131Z"
   },
   {
    "duration": 273,
    "start_time": "2023-02-02T11:00:11.343Z"
   },
   {
    "duration": 13,
    "start_time": "2023-02-02T11:00:11.617Z"
   },
   {
    "duration": 156,
    "start_time": "2023-02-02T11:00:11.631Z"
   },
   {
    "duration": 8,
    "start_time": "2023-02-02T11:00:11.788Z"
   },
   {
    "duration": 6,
    "start_time": "2023-02-02T11:00:11.798Z"
   },
   {
    "duration": 34,
    "start_time": "2023-02-02T11:00:11.805Z"
   },
   {
    "duration": 143,
    "start_time": "2023-02-02T11:00:11.841Z"
   },
   {
    "duration": 146,
    "start_time": "2023-02-02T11:00:11.986Z"
   },
   {
    "duration": 5,
    "start_time": "2023-02-02T11:00:12.134Z"
   },
   {
    "duration": 72,
    "start_time": "2023-02-02T11:00:12.140Z"
   },
   {
    "duration": 79,
    "start_time": "2023-02-02T11:00:12.213Z"
   },
   {
    "duration": 5,
    "start_time": "2023-02-02T11:00:12.295Z"
   },
   {
    "duration": 27,
    "start_time": "2023-02-02T11:00:12.302Z"
   },
   {
    "duration": 42,
    "start_time": "2023-02-02T11:00:12.331Z"
   },
   {
    "duration": 5,
    "start_time": "2023-02-02T11:00:12.375Z"
   },
   {
    "duration": 18,
    "start_time": "2023-02-02T11:00:12.382Z"
   },
   {
    "duration": 100,
    "start_time": "2023-02-02T11:00:12.402Z"
   },
   {
    "duration": 7,
    "start_time": "2023-02-02T11:00:12.506Z"
   },
   {
    "duration": 25,
    "start_time": "2023-02-02T11:00:12.514Z"
   },
   {
    "duration": 28,
    "start_time": "2023-02-02T11:00:12.541Z"
   },
   {
    "duration": 20,
    "start_time": "2023-02-02T11:00:12.570Z"
   },
   {
    "duration": 20,
    "start_time": "2023-02-02T11:00:12.591Z"
   },
   {
    "duration": 23,
    "start_time": "2023-02-02T11:00:12.613Z"
   },
   {
    "duration": 44,
    "start_time": "2023-02-02T11:00:12.638Z"
   },
   {
    "duration": 5,
    "start_time": "2023-02-02T11:00:12.683Z"
   },
   {
    "duration": 20,
    "start_time": "2023-02-02T11:00:12.689Z"
   },
   {
    "duration": 32,
    "start_time": "2023-02-02T11:00:12.711Z"
   },
   {
    "duration": 51,
    "start_time": "2023-02-02T11:03:06.610Z"
   },
   {
    "duration": 42,
    "start_time": "2023-02-02T11:03:16.843Z"
   },
   {
    "duration": 46,
    "start_time": "2023-02-02T11:03:24.403Z"
   },
   {
    "duration": 43,
    "start_time": "2023-02-02T11:03:53.223Z"
   },
   {
    "duration": 44,
    "start_time": "2023-02-02T11:04:27.258Z"
   },
   {
    "duration": 50,
    "start_time": "2023-02-02T11:05:04.187Z"
   },
   {
    "duration": 42,
    "start_time": "2023-02-02T11:05:31.214Z"
   },
   {
    "duration": 1028,
    "start_time": "2023-02-02T11:05:57.565Z"
   },
   {
    "duration": 3,
    "start_time": "2023-02-02T11:05:58.595Z"
   },
   {
    "duration": 109,
    "start_time": "2023-02-02T11:05:58.599Z"
   },
   {
    "duration": 51,
    "start_time": "2023-02-02T11:05:58.710Z"
   },
   {
    "duration": 10,
    "start_time": "2023-02-02T11:05:58.764Z"
   },
   {
    "duration": 59,
    "start_time": "2023-02-02T11:05:58.776Z"
   },
   {
    "duration": 67,
    "start_time": "2023-02-02T11:05:58.837Z"
   },
   {
    "duration": 45,
    "start_time": "2023-02-02T11:05:58.906Z"
   },
   {
    "duration": 48,
    "start_time": "2023-02-02T11:05:58.953Z"
   },
   {
    "duration": 31,
    "start_time": "2023-02-02T11:05:59.003Z"
   },
   {
    "duration": 34,
    "start_time": "2023-02-02T11:05:59.035Z"
   },
   {
    "duration": 11,
    "start_time": "2023-02-02T11:05:59.071Z"
   },
   {
    "duration": 17,
    "start_time": "2023-02-02T11:05:59.084Z"
   },
   {
    "duration": 23,
    "start_time": "2023-02-02T11:05:59.105Z"
   },
   {
    "duration": 73,
    "start_time": "2023-02-02T11:05:59.130Z"
   },
   {
    "duration": 15,
    "start_time": "2023-02-02T11:05:59.205Z"
   },
   {
    "duration": 191,
    "start_time": "2023-02-02T11:05:59.222Z"
   },
   {
    "duration": 125,
    "start_time": "2023-02-02T11:05:59.414Z"
   },
   {
    "duration": 7,
    "start_time": "2023-02-02T11:05:59.541Z"
   },
   {
    "duration": 277,
    "start_time": "2023-02-02T11:05:59.550Z"
   },
   {
    "duration": 198,
    "start_time": "2023-02-02T11:05:59.829Z"
   },
   {
    "duration": 287,
    "start_time": "2023-02-02T11:06:00.029Z"
   },
   {
    "duration": 217,
    "start_time": "2023-02-02T11:06:00.318Z"
   },
   {
    "duration": 339,
    "start_time": "2023-02-02T11:06:00.537Z"
   },
   {
    "duration": 7,
    "start_time": "2023-02-02T11:06:00.879Z"
   },
   {
    "duration": 201,
    "start_time": "2023-02-02T11:06:00.888Z"
   },
   {
    "duration": 9,
    "start_time": "2023-02-02T11:06:01.091Z"
   },
   {
    "duration": 57,
    "start_time": "2023-02-02T11:06:01.102Z"
   },
   {
    "duration": 59,
    "start_time": "2023-02-02T11:06:01.161Z"
   },
   {
    "duration": 163,
    "start_time": "2023-02-02T11:06:01.222Z"
   },
   {
    "duration": 155,
    "start_time": "2023-02-02T11:06:01.387Z"
   },
   {
    "duration": 5,
    "start_time": "2023-02-02T11:06:01.544Z"
   },
   {
    "duration": 102,
    "start_time": "2023-02-02T11:06:01.551Z"
   },
   {
    "duration": 122,
    "start_time": "2023-02-02T11:06:01.655Z"
   },
   {
    "duration": 72,
    "start_time": "2023-02-02T11:06:01.779Z"
   },
   {
    "duration": 32,
    "start_time": "2023-02-02T11:06:01.852Z"
   },
   {
    "duration": 81,
    "start_time": "2023-02-02T11:06:01.886Z"
   },
   {
    "duration": 4,
    "start_time": "2023-02-02T11:06:01.969Z"
   },
   {
    "duration": 141,
    "start_time": "2023-02-02T11:06:01.974Z"
   },
   {
    "duration": 13,
    "start_time": "2023-02-02T11:06:02.116Z"
   },
   {
    "duration": 19,
    "start_time": "2023-02-02T11:06:02.133Z"
   },
   {
    "duration": 49,
    "start_time": "2023-02-02T11:06:02.153Z"
   },
   {
    "duration": 26,
    "start_time": "2023-02-02T11:06:02.204Z"
   },
   {
    "duration": 46,
    "start_time": "2023-02-02T11:06:02.232Z"
   },
   {
    "duration": 129,
    "start_time": "2023-02-02T11:06:02.280Z"
   },
   {
    "duration": 33,
    "start_time": "2023-02-02T11:06:02.411Z"
   },
   {
    "duration": 61,
    "start_time": "2023-02-02T11:06:02.446Z"
   },
   {
    "duration": 4,
    "start_time": "2023-02-02T11:06:02.509Z"
   },
   {
    "duration": 36,
    "start_time": "2023-02-02T11:06:02.514Z"
   },
   {
    "duration": 86,
    "start_time": "2023-02-02T11:06:02.552Z"
   },
   {
    "duration": 39,
    "start_time": "2023-02-02T11:06:50.309Z"
   },
   {
    "duration": 8,
    "start_time": "2023-02-02T11:08:54.020Z"
   },
   {
    "duration": 8,
    "start_time": "2023-02-02T11:09:52.592Z"
   },
   {
    "duration": 60,
    "start_time": "2023-02-02T11:11:55.924Z"
   },
   {
    "duration": 6,
    "start_time": "2023-02-02T11:12:44.658Z"
   },
   {
    "duration": 1035,
    "start_time": "2023-02-02T11:13:06.370Z"
   },
   {
    "duration": 3,
    "start_time": "2023-02-02T11:13:07.407Z"
   },
   {
    "duration": 70,
    "start_time": "2023-02-02T11:13:07.412Z"
   },
   {
    "duration": 58,
    "start_time": "2023-02-02T11:13:07.483Z"
   },
   {
    "duration": 6,
    "start_time": "2023-02-02T11:13:07.544Z"
   },
   {
    "duration": 6,
    "start_time": "2023-02-02T11:13:07.552Z"
   },
   {
    "duration": 15,
    "start_time": "2023-02-02T11:13:07.560Z"
   },
   {
    "duration": 8,
    "start_time": "2023-02-02T11:13:07.576Z"
   },
   {
    "duration": 42,
    "start_time": "2023-02-02T11:13:07.585Z"
   },
   {
    "duration": 5,
    "start_time": "2023-02-02T11:13:07.629Z"
   },
   {
    "duration": 16,
    "start_time": "2023-02-02T11:13:07.635Z"
   },
   {
    "duration": 12,
    "start_time": "2023-02-02T11:13:07.653Z"
   },
   {
    "duration": 16,
    "start_time": "2023-02-02T11:13:07.666Z"
   },
   {
    "duration": 14,
    "start_time": "2023-02-02T11:13:07.686Z"
   },
   {
    "duration": 32,
    "start_time": "2023-02-02T11:13:07.702Z"
   },
   {
    "duration": 13,
    "start_time": "2023-02-02T11:13:07.736Z"
   },
   {
    "duration": 181,
    "start_time": "2023-02-02T11:13:07.751Z"
   },
   {
    "duration": 132,
    "start_time": "2023-02-02T11:13:07.934Z"
   },
   {
    "duration": 7,
    "start_time": "2023-02-02T11:13:08.067Z"
   },
   {
    "duration": 280,
    "start_time": "2023-02-02T11:13:08.075Z"
   },
   {
    "duration": 204,
    "start_time": "2023-02-02T11:13:08.357Z"
   },
   {
    "duration": 266,
    "start_time": "2023-02-02T11:13:08.563Z"
   },
   {
    "duration": 206,
    "start_time": "2023-02-02T11:13:08.830Z"
   },
   {
    "duration": 292,
    "start_time": "2023-02-02T11:13:09.037Z"
   },
   {
    "duration": 7,
    "start_time": "2023-02-02T11:13:09.331Z"
   },
   {
    "duration": 159,
    "start_time": "2023-02-02T11:13:09.339Z"
   },
   {
    "duration": 8,
    "start_time": "2023-02-02T11:13:09.500Z"
   },
   {
    "duration": 17,
    "start_time": "2023-02-02T11:13:09.510Z"
   },
   {
    "duration": 18,
    "start_time": "2023-02-02T11:13:09.529Z"
   },
   {
    "duration": 144,
    "start_time": "2023-02-02T11:13:09.549Z"
   },
   {
    "duration": 154,
    "start_time": "2023-02-02T11:13:09.694Z"
   },
   {
    "duration": 6,
    "start_time": "2023-02-02T11:13:09.850Z"
   },
   {
    "duration": 111,
    "start_time": "2023-02-02T11:13:09.857Z"
   },
   {
    "duration": 89,
    "start_time": "2023-02-02T11:13:09.969Z"
   },
   {
    "duration": 6,
    "start_time": "2023-02-02T11:13:10.060Z"
   },
   {
    "duration": 22,
    "start_time": "2023-02-02T11:13:10.067Z"
   },
   {
    "duration": 48,
    "start_time": "2023-02-02T11:13:10.091Z"
   },
   {
    "duration": 4,
    "start_time": "2023-02-02T11:13:10.141Z"
   },
   {
    "duration": 17,
    "start_time": "2023-02-02T11:13:10.147Z"
   },
   {
    "duration": 10,
    "start_time": "2023-02-02T11:13:10.166Z"
   },
   {
    "duration": 14,
    "start_time": "2023-02-02T11:13:10.179Z"
   },
   {
    "duration": 6,
    "start_time": "2023-02-02T11:13:10.195Z"
   },
   {
    "duration": 7,
    "start_time": "2023-02-02T11:13:10.202Z"
   },
   {
    "duration": 16,
    "start_time": "2023-02-02T11:13:10.211Z"
   },
   {
    "duration": 5,
    "start_time": "2023-02-02T11:13:10.228Z"
   },
   {
    "duration": 12,
    "start_time": "2023-02-02T11:13:10.235Z"
   },
   {
    "duration": 41,
    "start_time": "2023-02-02T11:13:10.249Z"
   },
   {
    "duration": 4,
    "start_time": "2023-02-02T11:13:10.292Z"
   },
   {
    "duration": 30,
    "start_time": "2023-02-02T11:13:10.298Z"
   },
   {
    "duration": 20,
    "start_time": "2023-02-02T11:13:10.330Z"
   },
   {
    "duration": 1163,
    "start_time": "2023-02-02T11:36:27.423Z"
   },
   {
    "duration": 3,
    "start_time": "2023-02-02T11:36:28.588Z"
   },
   {
    "duration": 88,
    "start_time": "2023-02-02T11:36:28.592Z"
   },
   {
    "duration": 58,
    "start_time": "2023-02-02T11:36:28.682Z"
   },
   {
    "duration": 5,
    "start_time": "2023-02-02T11:36:28.744Z"
   },
   {
    "duration": 6,
    "start_time": "2023-02-02T11:36:28.751Z"
   },
   {
    "duration": 10,
    "start_time": "2023-02-02T11:36:28.759Z"
   },
   {
    "duration": 6,
    "start_time": "2023-02-02T11:36:28.771Z"
   },
   {
    "duration": 19,
    "start_time": "2023-02-02T11:36:28.779Z"
   },
   {
    "duration": 4,
    "start_time": "2023-02-02T11:36:28.826Z"
   },
   {
    "duration": 14,
    "start_time": "2023-02-02T11:36:28.832Z"
   },
   {
    "duration": 12,
    "start_time": "2023-02-02T11:36:28.847Z"
   },
   {
    "duration": 20,
    "start_time": "2023-02-02T11:36:28.860Z"
   },
   {
    "duration": 13,
    "start_time": "2023-02-02T11:36:28.885Z"
   },
   {
    "duration": 32,
    "start_time": "2023-02-02T11:36:28.899Z"
   },
   {
    "duration": 18,
    "start_time": "2023-02-02T11:36:28.932Z"
   },
   {
    "duration": 182,
    "start_time": "2023-02-02T11:36:28.951Z"
   },
   {
    "duration": 131,
    "start_time": "2023-02-02T11:36:29.135Z"
   },
   {
    "duration": 6,
    "start_time": "2023-02-02T11:36:29.268Z"
   },
   {
    "duration": 284,
    "start_time": "2023-02-02T11:36:29.276Z"
   },
   {
    "duration": 203,
    "start_time": "2023-02-02T11:36:29.562Z"
   },
   {
    "duration": 286,
    "start_time": "2023-02-02T11:36:29.768Z"
   },
   {
    "duration": 241,
    "start_time": "2023-02-02T11:36:30.056Z"
   },
   {
    "duration": 367,
    "start_time": "2023-02-02T11:36:30.299Z"
   },
   {
    "duration": 9,
    "start_time": "2023-02-02T11:36:30.668Z"
   },
   {
    "duration": 249,
    "start_time": "2023-02-02T11:36:30.679Z"
   },
   {
    "duration": 8,
    "start_time": "2023-02-02T11:36:30.930Z"
   },
   {
    "duration": 38,
    "start_time": "2023-02-02T11:36:30.940Z"
   },
   {
    "duration": 66,
    "start_time": "2023-02-02T11:36:30.980Z"
   },
   {
    "duration": 165,
    "start_time": "2023-02-02T11:36:31.047Z"
   },
   {
    "duration": 148,
    "start_time": "2023-02-02T11:36:31.213Z"
   },
   {
    "duration": 6,
    "start_time": "2023-02-02T11:36:31.363Z"
   },
   {
    "duration": 88,
    "start_time": "2023-02-02T11:36:31.371Z"
   },
   {
    "duration": 71,
    "start_time": "2023-02-02T11:36:31.461Z"
   },
   {
    "duration": 5,
    "start_time": "2023-02-02T11:36:31.534Z"
   },
   {
    "duration": 37,
    "start_time": "2023-02-02T11:36:31.540Z"
   },
   {
    "duration": 99,
    "start_time": "2023-02-02T11:36:31.579Z"
   },
   {
    "duration": 44,
    "start_time": "2023-02-02T11:36:31.680Z"
   },
   {
    "duration": 33,
    "start_time": "2023-02-02T11:36:31.725Z"
   },
   {
    "duration": 33,
    "start_time": "2023-02-02T11:36:31.759Z"
   },
   {
    "duration": 26,
    "start_time": "2023-02-02T11:36:31.796Z"
   },
   {
    "duration": 60,
    "start_time": "2023-02-02T11:36:31.823Z"
   },
   {
    "duration": 40,
    "start_time": "2023-02-02T11:36:31.885Z"
   },
   {
    "duration": 49,
    "start_time": "2023-02-02T11:36:31.926Z"
   },
   {
    "duration": 26,
    "start_time": "2023-02-02T11:36:31.977Z"
   },
   {
    "duration": 81,
    "start_time": "2023-02-02T11:36:32.005Z"
   },
   {
    "duration": 121,
    "start_time": "2023-02-02T11:36:32.088Z"
   },
   {
    "duration": 5,
    "start_time": "2023-02-02T11:36:32.211Z"
   },
   {
    "duration": 33,
    "start_time": "2023-02-02T11:36:32.218Z"
   },
   {
    "duration": 40,
    "start_time": "2023-02-02T11:36:32.252Z"
   },
   {
    "duration": 1073,
    "start_time": "2023-02-02T11:50:58.825Z"
   },
   {
    "duration": 2,
    "start_time": "2023-02-02T11:50:59.900Z"
   },
   {
    "duration": 122,
    "start_time": "2023-02-02T11:50:59.904Z"
   },
   {
    "duration": 0,
    "start_time": "2023-02-02T11:51:00.032Z"
   },
   {
    "duration": 0,
    "start_time": "2023-02-02T11:51:00.033Z"
   },
   {
    "duration": 0,
    "start_time": "2023-02-02T11:51:00.035Z"
   },
   {
    "duration": 0,
    "start_time": "2023-02-02T11:51:00.036Z"
   },
   {
    "duration": 0,
    "start_time": "2023-02-02T11:51:00.038Z"
   },
   {
    "duration": 0,
    "start_time": "2023-02-02T11:51:00.039Z"
   },
   {
    "duration": 0,
    "start_time": "2023-02-02T11:51:00.040Z"
   },
   {
    "duration": 0,
    "start_time": "2023-02-02T11:51:00.041Z"
   },
   {
    "duration": 1,
    "start_time": "2023-02-02T11:51:00.042Z"
   },
   {
    "duration": 0,
    "start_time": "2023-02-02T11:51:00.044Z"
   },
   {
    "duration": 0,
    "start_time": "2023-02-02T11:51:00.045Z"
   },
   {
    "duration": 0,
    "start_time": "2023-02-02T11:51:00.046Z"
   },
   {
    "duration": 0,
    "start_time": "2023-02-02T11:51:00.047Z"
   },
   {
    "duration": 0,
    "start_time": "2023-02-02T11:51:00.048Z"
   },
   {
    "duration": 0,
    "start_time": "2023-02-02T11:51:00.049Z"
   },
   {
    "duration": 0,
    "start_time": "2023-02-02T11:51:00.050Z"
   },
   {
    "duration": 0,
    "start_time": "2023-02-02T11:51:00.051Z"
   },
   {
    "duration": 0,
    "start_time": "2023-02-02T11:51:00.052Z"
   },
   {
    "duration": 0,
    "start_time": "2023-02-02T11:51:00.054Z"
   },
   {
    "duration": 0,
    "start_time": "2023-02-02T11:51:00.055Z"
   },
   {
    "duration": 0,
    "start_time": "2023-02-02T11:51:00.056Z"
   },
   {
    "duration": 0,
    "start_time": "2023-02-02T11:51:00.057Z"
   },
   {
    "duration": 0,
    "start_time": "2023-02-02T11:51:00.058Z"
   },
   {
    "duration": 0,
    "start_time": "2023-02-02T11:51:00.058Z"
   },
   {
    "duration": 0,
    "start_time": "2023-02-02T11:51:00.059Z"
   },
   {
    "duration": 0,
    "start_time": "2023-02-02T11:51:00.060Z"
   },
   {
    "duration": 0,
    "start_time": "2023-02-02T11:51:00.061Z"
   },
   {
    "duration": 0,
    "start_time": "2023-02-02T11:51:00.062Z"
   },
   {
    "duration": 0,
    "start_time": "2023-02-02T11:51:00.063Z"
   },
   {
    "duration": 0,
    "start_time": "2023-02-02T11:51:00.064Z"
   },
   {
    "duration": 0,
    "start_time": "2023-02-02T11:51:00.065Z"
   },
   {
    "duration": 0,
    "start_time": "2023-02-02T11:51:00.066Z"
   },
   {
    "duration": 0,
    "start_time": "2023-02-02T11:51:00.067Z"
   },
   {
    "duration": 0,
    "start_time": "2023-02-02T11:51:00.069Z"
   },
   {
    "duration": 0,
    "start_time": "2023-02-02T11:51:00.069Z"
   },
   {
    "duration": 0,
    "start_time": "2023-02-02T11:51:00.127Z"
   },
   {
    "duration": 0,
    "start_time": "2023-02-02T11:51:00.128Z"
   },
   {
    "duration": 0,
    "start_time": "2023-02-02T11:51:00.129Z"
   },
   {
    "duration": 0,
    "start_time": "2023-02-02T11:51:00.130Z"
   },
   {
    "duration": 0,
    "start_time": "2023-02-02T11:51:00.131Z"
   },
   {
    "duration": 0,
    "start_time": "2023-02-02T11:51:00.132Z"
   },
   {
    "duration": 0,
    "start_time": "2023-02-02T11:51:00.133Z"
   },
   {
    "duration": 0,
    "start_time": "2023-02-02T11:51:00.134Z"
   },
   {
    "duration": 1,
    "start_time": "2023-02-02T11:51:00.135Z"
   },
   {
    "duration": 0,
    "start_time": "2023-02-02T11:51:00.136Z"
   },
   {
    "duration": 0,
    "start_time": "2023-02-02T11:51:00.137Z"
   },
   {
    "duration": 0,
    "start_time": "2023-02-02T11:51:00.138Z"
   },
   {
    "duration": 1140,
    "start_time": "2023-02-02T11:51:41.125Z"
   },
   {
    "duration": 3,
    "start_time": "2023-02-02T11:51:42.267Z"
   },
   {
    "duration": 108,
    "start_time": "2023-02-02T11:51:42.271Z"
   },
   {
    "duration": 0,
    "start_time": "2023-02-02T11:51:42.384Z"
   },
   {
    "duration": 0,
    "start_time": "2023-02-02T11:51:42.385Z"
   },
   {
    "duration": 0,
    "start_time": "2023-02-02T11:51:42.386Z"
   },
   {
    "duration": 0,
    "start_time": "2023-02-02T11:51:42.387Z"
   },
   {
    "duration": 0,
    "start_time": "2023-02-02T11:51:42.389Z"
   },
   {
    "duration": 0,
    "start_time": "2023-02-02T11:51:42.390Z"
   },
   {
    "duration": 0,
    "start_time": "2023-02-02T11:51:42.391Z"
   },
   {
    "duration": 0,
    "start_time": "2023-02-02T11:51:42.392Z"
   },
   {
    "duration": 0,
    "start_time": "2023-02-02T11:51:42.393Z"
   },
   {
    "duration": 0,
    "start_time": "2023-02-02T11:51:42.394Z"
   },
   {
    "duration": 0,
    "start_time": "2023-02-02T11:51:42.395Z"
   },
   {
    "duration": 0,
    "start_time": "2023-02-02T11:51:42.396Z"
   },
   {
    "duration": 0,
    "start_time": "2023-02-02T11:51:42.397Z"
   },
   {
    "duration": 0,
    "start_time": "2023-02-02T11:51:42.398Z"
   },
   {
    "duration": 0,
    "start_time": "2023-02-02T11:51:42.400Z"
   },
   {
    "duration": 0,
    "start_time": "2023-02-02T11:51:42.401Z"
   },
   {
    "duration": 0,
    "start_time": "2023-02-02T11:51:42.402Z"
   },
   {
    "duration": 0,
    "start_time": "2023-02-02T11:51:42.427Z"
   },
   {
    "duration": 0,
    "start_time": "2023-02-02T11:51:42.428Z"
   },
   {
    "duration": 0,
    "start_time": "2023-02-02T11:51:42.429Z"
   },
   {
    "duration": 0,
    "start_time": "2023-02-02T11:51:42.431Z"
   },
   {
    "duration": 0,
    "start_time": "2023-02-02T11:51:42.432Z"
   },
   {
    "duration": 0,
    "start_time": "2023-02-02T11:51:42.433Z"
   },
   {
    "duration": 0,
    "start_time": "2023-02-02T11:51:42.435Z"
   },
   {
    "duration": 0,
    "start_time": "2023-02-02T11:51:42.436Z"
   },
   {
    "duration": 0,
    "start_time": "2023-02-02T11:51:42.437Z"
   },
   {
    "duration": 0,
    "start_time": "2023-02-02T11:51:42.438Z"
   },
   {
    "duration": 0,
    "start_time": "2023-02-02T11:51:42.439Z"
   },
   {
    "duration": 0,
    "start_time": "2023-02-02T11:51:42.441Z"
   },
   {
    "duration": 0,
    "start_time": "2023-02-02T11:51:42.442Z"
   },
   {
    "duration": 0,
    "start_time": "2023-02-02T11:51:42.443Z"
   },
   {
    "duration": 0,
    "start_time": "2023-02-02T11:51:42.444Z"
   },
   {
    "duration": 0,
    "start_time": "2023-02-02T11:51:42.445Z"
   },
   {
    "duration": 0,
    "start_time": "2023-02-02T11:51:42.447Z"
   },
   {
    "duration": 0,
    "start_time": "2023-02-02T11:51:42.447Z"
   },
   {
    "duration": 0,
    "start_time": "2023-02-02T11:51:42.449Z"
   },
   {
    "duration": 0,
    "start_time": "2023-02-02T11:51:42.450Z"
   },
   {
    "duration": 0,
    "start_time": "2023-02-02T11:51:42.451Z"
   },
   {
    "duration": 0,
    "start_time": "2023-02-02T11:51:42.452Z"
   },
   {
    "duration": 0,
    "start_time": "2023-02-02T11:51:42.454Z"
   },
   {
    "duration": 0,
    "start_time": "2023-02-02T11:51:42.455Z"
   },
   {
    "duration": 0,
    "start_time": "2023-02-02T11:51:42.455Z"
   },
   {
    "duration": 0,
    "start_time": "2023-02-02T11:51:42.457Z"
   },
   {
    "duration": 0,
    "start_time": "2023-02-02T11:51:42.458Z"
   },
   {
    "duration": 0,
    "start_time": "2023-02-02T11:51:42.459Z"
   },
   {
    "duration": 0,
    "start_time": "2023-02-02T11:51:42.461Z"
   },
   {
    "duration": 0,
    "start_time": "2023-02-02T11:51:42.462Z"
   },
   {
    "duration": 15,
    "start_time": "2023-02-02T11:52:21.087Z"
   },
   {
    "duration": 1107,
    "start_time": "2023-02-02T11:53:51.626Z"
   },
   {
    "duration": 3,
    "start_time": "2023-02-02T11:53:52.735Z"
   },
   {
    "duration": 121,
    "start_time": "2023-02-02T11:53:52.740Z"
   },
   {
    "duration": 0,
    "start_time": "2023-02-02T11:53:52.865Z"
   },
   {
    "duration": 0,
    "start_time": "2023-02-02T11:53:52.867Z"
   },
   {
    "duration": 0,
    "start_time": "2023-02-02T11:53:52.868Z"
   },
   {
    "duration": 0,
    "start_time": "2023-02-02T11:53:52.869Z"
   },
   {
    "duration": 0,
    "start_time": "2023-02-02T11:53:52.870Z"
   },
   {
    "duration": 0,
    "start_time": "2023-02-02T11:53:52.871Z"
   },
   {
    "duration": 0,
    "start_time": "2023-02-02T11:53:52.872Z"
   },
   {
    "duration": 0,
    "start_time": "2023-02-02T11:53:52.873Z"
   },
   {
    "duration": 0,
    "start_time": "2023-02-02T11:53:52.874Z"
   },
   {
    "duration": 0,
    "start_time": "2023-02-02T11:53:52.875Z"
   },
   {
    "duration": 0,
    "start_time": "2023-02-02T11:53:52.876Z"
   },
   {
    "duration": 0,
    "start_time": "2023-02-02T11:53:52.876Z"
   },
   {
    "duration": 0,
    "start_time": "2023-02-02T11:53:52.877Z"
   },
   {
    "duration": 0,
    "start_time": "2023-02-02T11:53:52.878Z"
   },
   {
    "duration": 0,
    "start_time": "2023-02-02T11:53:52.879Z"
   },
   {
    "duration": 0,
    "start_time": "2023-02-02T11:53:52.880Z"
   },
   {
    "duration": 0,
    "start_time": "2023-02-02T11:53:52.881Z"
   },
   {
    "duration": 0,
    "start_time": "2023-02-02T11:53:52.882Z"
   },
   {
    "duration": 0,
    "start_time": "2023-02-02T11:53:52.883Z"
   },
   {
    "duration": 0,
    "start_time": "2023-02-02T11:53:52.884Z"
   },
   {
    "duration": 0,
    "start_time": "2023-02-02T11:53:52.885Z"
   },
   {
    "duration": 0,
    "start_time": "2023-02-02T11:53:52.886Z"
   },
   {
    "duration": 0,
    "start_time": "2023-02-02T11:53:52.887Z"
   },
   {
    "duration": 0,
    "start_time": "2023-02-02T11:53:52.888Z"
   },
   {
    "duration": 0,
    "start_time": "2023-02-02T11:53:52.889Z"
   },
   {
    "duration": 0,
    "start_time": "2023-02-02T11:53:52.890Z"
   },
   {
    "duration": 0,
    "start_time": "2023-02-02T11:53:52.891Z"
   },
   {
    "duration": 0,
    "start_time": "2023-02-02T11:53:52.927Z"
   },
   {
    "duration": 0,
    "start_time": "2023-02-02T11:53:52.929Z"
   },
   {
    "duration": 0,
    "start_time": "2023-02-02T11:53:52.930Z"
   },
   {
    "duration": 0,
    "start_time": "2023-02-02T11:53:52.932Z"
   },
   {
    "duration": 0,
    "start_time": "2023-02-02T11:53:52.933Z"
   },
   {
    "duration": 0,
    "start_time": "2023-02-02T11:53:52.935Z"
   },
   {
    "duration": 0,
    "start_time": "2023-02-02T11:53:52.936Z"
   },
   {
    "duration": 0,
    "start_time": "2023-02-02T11:53:52.937Z"
   },
   {
    "duration": 0,
    "start_time": "2023-02-02T11:53:52.939Z"
   },
   {
    "duration": 0,
    "start_time": "2023-02-02T11:53:52.940Z"
   },
   {
    "duration": 0,
    "start_time": "2023-02-02T11:53:52.941Z"
   },
   {
    "duration": 0,
    "start_time": "2023-02-02T11:53:52.943Z"
   },
   {
    "duration": 0,
    "start_time": "2023-02-02T11:53:52.944Z"
   },
   {
    "duration": 0,
    "start_time": "2023-02-02T11:53:52.945Z"
   },
   {
    "duration": 0,
    "start_time": "2023-02-02T11:53:52.946Z"
   },
   {
    "duration": 0,
    "start_time": "2023-02-02T11:53:52.947Z"
   },
   {
    "duration": 0,
    "start_time": "2023-02-02T11:53:52.948Z"
   },
   {
    "duration": 0,
    "start_time": "2023-02-02T11:53:52.949Z"
   },
   {
    "duration": 0,
    "start_time": "2023-02-02T11:53:52.950Z"
   },
   {
    "duration": 0,
    "start_time": "2023-02-02T11:53:52.951Z"
   },
   {
    "duration": 0,
    "start_time": "2023-02-02T11:53:52.952Z"
   },
   {
    "duration": 82,
    "start_time": "2023-02-02T14:21:13.850Z"
   },
   {
    "duration": 3,
    "start_time": "2023-02-02T14:21:15.516Z"
   },
   {
    "duration": 1080,
    "start_time": "2023-02-02T14:21:25.004Z"
   },
   {
    "duration": 2,
    "start_time": "2023-02-02T14:21:26.087Z"
   },
   {
    "duration": 74,
    "start_time": "2023-02-02T14:21:26.091Z"
   },
   {
    "duration": 57,
    "start_time": "2023-02-02T14:21:26.166Z"
   },
   {
    "duration": 4,
    "start_time": "2023-02-02T14:21:26.225Z"
   },
   {
    "duration": 9,
    "start_time": "2023-02-02T14:21:26.231Z"
   },
   {
    "duration": 12,
    "start_time": "2023-02-02T14:21:26.241Z"
   },
   {
    "duration": 6,
    "start_time": "2023-02-02T14:21:26.255Z"
   },
   {
    "duration": 11,
    "start_time": "2023-02-02T14:21:26.263Z"
   },
   {
    "duration": 5,
    "start_time": "2023-02-02T14:21:26.276Z"
   },
   {
    "duration": 8,
    "start_time": "2023-02-02T14:21:26.282Z"
   },
   {
    "duration": 10,
    "start_time": "2023-02-02T14:21:26.291Z"
   },
   {
    "duration": 13,
    "start_time": "2023-02-02T14:21:26.328Z"
   },
   {
    "duration": 14,
    "start_time": "2023-02-02T14:21:26.344Z"
   },
   {
    "duration": 41,
    "start_time": "2023-02-02T14:21:26.360Z"
   },
   {
    "duration": 9,
    "start_time": "2023-02-02T14:21:26.403Z"
   },
   {
    "duration": 182,
    "start_time": "2023-02-02T14:21:26.414Z"
   },
   {
    "duration": 134,
    "start_time": "2023-02-02T14:21:26.598Z"
   },
   {
    "duration": 7,
    "start_time": "2023-02-02T14:21:26.733Z"
   },
   {
    "duration": 285,
    "start_time": "2023-02-02T14:21:26.742Z"
   },
   {
    "duration": 209,
    "start_time": "2023-02-02T14:21:27.028Z"
   },
   {
    "duration": 283,
    "start_time": "2023-02-02T14:21:27.239Z"
   },
   {
    "duration": 213,
    "start_time": "2023-02-02T14:21:27.527Z"
   },
   {
    "duration": 294,
    "start_time": "2023-02-02T14:21:27.742Z"
   },
   {
    "duration": 8,
    "start_time": "2023-02-02T14:21:28.038Z"
   },
   {
    "duration": 170,
    "start_time": "2023-02-02T14:21:28.047Z"
   },
   {
    "duration": 13,
    "start_time": "2023-02-02T14:21:28.219Z"
   },
   {
    "duration": 25,
    "start_time": "2023-02-02T14:21:28.234Z"
   },
   {
    "duration": 11,
    "start_time": "2023-02-02T14:21:28.261Z"
   },
   {
    "duration": 135,
    "start_time": "2023-02-02T14:21:28.273Z"
   },
   {
    "duration": 145,
    "start_time": "2023-02-02T14:21:28.410Z"
   },
   {
    "duration": 4,
    "start_time": "2023-02-02T14:21:28.557Z"
   },
   {
    "duration": 79,
    "start_time": "2023-02-02T14:21:28.563Z"
   },
   {
    "duration": 96,
    "start_time": "2023-02-02T14:21:28.644Z"
   },
   {
    "duration": 40,
    "start_time": "2023-02-02T14:21:28.742Z"
   },
   {
    "duration": 27,
    "start_time": "2023-02-02T14:21:28.784Z"
   },
   {
    "duration": 66,
    "start_time": "2023-02-02T14:21:28.812Z"
   },
   {
    "duration": 4,
    "start_time": "2023-02-02T14:21:28.880Z"
   },
   {
    "duration": 39,
    "start_time": "2023-02-02T14:21:28.886Z"
   },
   {
    "duration": 28,
    "start_time": "2023-02-02T14:21:28.926Z"
   },
   {
    "duration": 21,
    "start_time": "2023-02-02T14:21:28.958Z"
   },
   {
    "duration": 29,
    "start_time": "2023-02-02T14:21:28.980Z"
   },
   {
    "duration": 13,
    "start_time": "2023-02-02T14:21:29.011Z"
   },
   {
    "duration": 28,
    "start_time": "2023-02-02T14:21:29.026Z"
   },
   {
    "duration": 14,
    "start_time": "2023-02-02T14:21:29.055Z"
   },
   {
    "duration": 14,
    "start_time": "2023-02-02T14:21:29.071Z"
   },
   {
    "duration": 54,
    "start_time": "2023-02-02T14:21:29.086Z"
   },
   {
    "duration": 5,
    "start_time": "2023-02-02T14:21:29.142Z"
   },
   {
    "duration": 22,
    "start_time": "2023-02-02T14:21:29.149Z"
   },
   {
    "duration": 13,
    "start_time": "2023-02-02T14:21:29.173Z"
   },
   {
    "duration": 1353,
    "start_time": "2023-02-02T17:08:40.672Z"
   },
   {
    "duration": 3,
    "start_time": "2023-02-02T17:08:42.028Z"
   },
   {
    "duration": 240,
    "start_time": "2023-02-02T17:08:42.032Z"
   },
   {
    "duration": 56,
    "start_time": "2023-02-02T17:08:42.273Z"
   },
   {
    "duration": 5,
    "start_time": "2023-02-02T17:08:42.332Z"
   },
   {
    "duration": 9,
    "start_time": "2023-02-02T17:08:42.341Z"
   },
   {
    "duration": 13,
    "start_time": "2023-02-02T17:08:42.351Z"
   },
   {
    "duration": 6,
    "start_time": "2023-02-02T17:08:42.366Z"
   },
   {
    "duration": 18,
    "start_time": "2023-02-02T17:08:42.374Z"
   },
   {
    "duration": 19,
    "start_time": "2023-02-02T17:08:42.394Z"
   },
   {
    "duration": 18,
    "start_time": "2023-02-02T17:08:42.415Z"
   },
   {
    "duration": 17,
    "start_time": "2023-02-02T17:08:42.435Z"
   },
   {
    "duration": 15,
    "start_time": "2023-02-02T17:08:42.454Z"
   },
   {
    "duration": 13,
    "start_time": "2023-02-02T17:08:42.473Z"
   },
   {
    "duration": 15,
    "start_time": "2023-02-02T17:08:42.488Z"
   },
   {
    "duration": 35,
    "start_time": "2023-02-02T17:08:42.505Z"
   },
   {
    "duration": 194,
    "start_time": "2023-02-02T17:08:42.542Z"
   },
   {
    "duration": 136,
    "start_time": "2023-02-02T17:08:42.738Z"
   },
   {
    "duration": 6,
    "start_time": "2023-02-02T17:08:42.876Z"
   },
   {
    "duration": 279,
    "start_time": "2023-02-02T17:08:42.884Z"
   },
   {
    "duration": 209,
    "start_time": "2023-02-02T17:08:43.165Z"
   },
   {
    "duration": 380,
    "start_time": "2023-02-02T17:08:43.376Z"
   },
   {
    "duration": 222,
    "start_time": "2023-02-02T17:08:43.758Z"
   },
   {
    "duration": 305,
    "start_time": "2023-02-02T17:08:43.982Z"
   },
   {
    "duration": 7,
    "start_time": "2023-02-02T17:08:44.289Z"
   },
   {
    "duration": 171,
    "start_time": "2023-02-02T17:08:44.298Z"
   },
   {
    "duration": 9,
    "start_time": "2023-02-02T17:08:44.473Z"
   },
   {
    "duration": 8,
    "start_time": "2023-02-02T17:08:44.483Z"
   },
   {
    "duration": 14,
    "start_time": "2023-02-02T17:08:44.492Z"
   },
   {
    "duration": 167,
    "start_time": "2023-02-02T17:08:44.508Z"
   },
   {
    "duration": 160,
    "start_time": "2023-02-02T17:08:44.677Z"
   },
   {
    "duration": 6,
    "start_time": "2023-02-02T17:08:44.839Z"
   },
   {
    "duration": 61,
    "start_time": "2023-02-02T17:08:44.847Z"
   },
   {
    "duration": 75,
    "start_time": "2023-02-02T17:08:44.910Z"
   },
   {
    "duration": 5,
    "start_time": "2023-02-02T17:08:44.987Z"
   },
   {
    "duration": 6,
    "start_time": "2023-02-02T17:08:44.993Z"
   },
   {
    "duration": 55,
    "start_time": "2023-02-02T17:08:45.001Z"
   },
   {
    "duration": 4,
    "start_time": "2023-02-02T17:08:45.057Z"
   },
   {
    "duration": 23,
    "start_time": "2023-02-02T17:08:45.063Z"
   },
   {
    "duration": 7,
    "start_time": "2023-02-02T17:08:45.087Z"
   },
   {
    "duration": 10,
    "start_time": "2023-02-02T17:08:45.097Z"
   },
   {
    "duration": 15,
    "start_time": "2023-02-02T17:08:45.110Z"
   },
   {
    "duration": 15,
    "start_time": "2023-02-02T17:08:45.127Z"
   },
   {
    "duration": 12,
    "start_time": "2023-02-02T17:08:45.144Z"
   },
   {
    "duration": 12,
    "start_time": "2023-02-02T17:08:45.157Z"
   },
   {
    "duration": 7,
    "start_time": "2023-02-02T17:08:45.171Z"
   },
   {
    "duration": 45,
    "start_time": "2023-02-02T17:08:45.179Z"
   },
   {
    "duration": 11,
    "start_time": "2023-02-02T17:08:45.227Z"
   },
   {
    "duration": 16,
    "start_time": "2023-02-02T17:08:45.240Z"
   },
   {
    "duration": 14,
    "start_time": "2023-02-02T17:08:45.257Z"
   },
   {
    "duration": 1291,
    "start_time": "2023-02-02T17:12:36.094Z"
   },
   {
    "duration": 3,
    "start_time": "2023-02-02T17:12:37.388Z"
   },
   {
    "duration": 110,
    "start_time": "2023-02-02T17:12:37.392Z"
   },
   {
    "duration": 67,
    "start_time": "2023-02-02T17:12:37.504Z"
   },
   {
    "duration": 8,
    "start_time": "2023-02-02T17:12:37.573Z"
   },
   {
    "duration": 34,
    "start_time": "2023-02-02T17:12:37.583Z"
   },
   {
    "duration": 44,
    "start_time": "2023-02-02T17:12:37.619Z"
   },
   {
    "duration": 41,
    "start_time": "2023-02-02T17:12:37.665Z"
   },
   {
    "duration": 29,
    "start_time": "2023-02-02T17:12:37.708Z"
   },
   {
    "duration": 33,
    "start_time": "2023-02-02T17:12:37.739Z"
   },
   {
    "duration": 24,
    "start_time": "2023-02-02T17:12:37.775Z"
   },
   {
    "duration": 35,
    "start_time": "2023-02-02T17:12:37.801Z"
   },
   {
    "duration": 46,
    "start_time": "2023-02-02T17:12:37.838Z"
   },
   {
    "duration": 44,
    "start_time": "2023-02-02T17:12:37.887Z"
   },
   {
    "duration": 57,
    "start_time": "2023-02-02T17:12:37.933Z"
   },
   {
    "duration": 35,
    "start_time": "2023-02-02T17:12:37.992Z"
   },
   {
    "duration": 248,
    "start_time": "2023-02-02T17:12:38.029Z"
   },
   {
    "duration": 189,
    "start_time": "2023-02-02T17:12:38.279Z"
   },
   {
    "duration": 9,
    "start_time": "2023-02-02T17:12:38.470Z"
   },
   {
    "duration": 325,
    "start_time": "2023-02-02T17:12:38.481Z"
   },
   {
    "duration": 214,
    "start_time": "2023-02-02T17:12:38.808Z"
   },
   {
    "duration": 329,
    "start_time": "2023-02-02T17:12:39.024Z"
   },
   {
    "duration": 239,
    "start_time": "2023-02-02T17:12:39.355Z"
   },
   {
    "duration": 328,
    "start_time": "2023-02-02T17:12:39.596Z"
   },
   {
    "duration": 14,
    "start_time": "2023-02-02T17:12:39.926Z"
   },
   {
    "duration": 178,
    "start_time": "2023-02-02T17:12:39.942Z"
   },
   {
    "duration": 15,
    "start_time": "2023-02-02T17:12:40.122Z"
   },
   {
    "duration": 12,
    "start_time": "2023-02-02T17:12:40.139Z"
   },
   {
    "duration": 26,
    "start_time": "2023-02-02T17:12:40.153Z"
   },
   {
    "duration": 165,
    "start_time": "2023-02-02T17:12:40.181Z"
   },
   {
    "duration": 170,
    "start_time": "2023-02-02T17:12:40.348Z"
   },
   {
    "duration": 18,
    "start_time": "2023-02-02T17:12:40.519Z"
   },
   {
    "duration": 85,
    "start_time": "2023-02-02T17:12:40.539Z"
   },
   {
    "duration": 125,
    "start_time": "2023-02-02T17:12:40.626Z"
   },
   {
    "duration": 56,
    "start_time": "2023-02-02T17:12:40.753Z"
   },
   {
    "duration": 18,
    "start_time": "2023-02-02T17:12:40.811Z"
   },
   {
    "duration": 80,
    "start_time": "2023-02-02T17:12:40.831Z"
   },
   {
    "duration": 4,
    "start_time": "2023-02-02T17:12:40.913Z"
   },
   {
    "duration": 38,
    "start_time": "2023-02-02T17:12:40.919Z"
   },
   {
    "duration": 42,
    "start_time": "2023-02-02T17:12:40.959Z"
   },
   {
    "duration": 20,
    "start_time": "2023-02-02T17:12:41.007Z"
   },
   {
    "duration": 33,
    "start_time": "2023-02-02T17:12:41.029Z"
   },
   {
    "duration": 29,
    "start_time": "2023-02-02T17:12:41.064Z"
   },
   {
    "duration": 46,
    "start_time": "2023-02-02T17:12:41.095Z"
   },
   {
    "duration": 11,
    "start_time": "2023-02-02T17:12:41.143Z"
   },
   {
    "duration": 28,
    "start_time": "2023-02-02T17:12:41.156Z"
   },
   {
    "duration": 47,
    "start_time": "2023-02-02T17:12:41.187Z"
   },
   {
    "duration": 6,
    "start_time": "2023-02-02T17:12:41.237Z"
   },
   {
    "duration": 19,
    "start_time": "2023-02-02T17:12:41.245Z"
   },
   {
    "duration": 14,
    "start_time": "2023-02-02T17:12:41.266Z"
   },
   {
    "duration": 1165,
    "start_time": "2023-02-02T17:15:45.847Z"
   },
   {
    "duration": 3,
    "start_time": "2023-02-02T17:15:47.014Z"
   },
   {
    "duration": 127,
    "start_time": "2023-02-02T17:15:47.018Z"
   },
   {
    "duration": 55,
    "start_time": "2023-02-02T17:15:47.147Z"
   },
   {
    "duration": 6,
    "start_time": "2023-02-02T17:15:47.203Z"
   },
   {
    "duration": 35,
    "start_time": "2023-02-02T17:15:47.210Z"
   },
   {
    "duration": 35,
    "start_time": "2023-02-02T17:15:47.247Z"
   },
   {
    "duration": 12,
    "start_time": "2023-02-02T17:15:47.284Z"
   },
   {
    "duration": 36,
    "start_time": "2023-02-02T17:15:47.297Z"
   },
   {
    "duration": 17,
    "start_time": "2023-02-02T17:15:47.335Z"
   },
   {
    "duration": 34,
    "start_time": "2023-02-02T17:15:47.354Z"
   },
   {
    "duration": 24,
    "start_time": "2023-02-02T17:15:47.390Z"
   },
   {
    "duration": 30,
    "start_time": "2023-02-02T17:15:47.416Z"
   },
   {
    "duration": 36,
    "start_time": "2023-02-02T17:15:47.449Z"
   },
   {
    "duration": 40,
    "start_time": "2023-02-02T17:15:47.487Z"
   },
   {
    "duration": 26,
    "start_time": "2023-02-02T17:15:47.529Z"
   },
   {
    "duration": 208,
    "start_time": "2023-02-02T17:15:47.557Z"
   },
   {
    "duration": 138,
    "start_time": "2023-02-02T17:15:47.767Z"
   },
   {
    "duration": 8,
    "start_time": "2023-02-02T17:15:47.907Z"
   },
   {
    "duration": 308,
    "start_time": "2023-02-02T17:15:47.916Z"
   },
   {
    "duration": 216,
    "start_time": "2023-02-02T17:15:48.226Z"
   },
   {
    "duration": 307,
    "start_time": "2023-02-02T17:15:48.444Z"
   },
   {
    "duration": 210,
    "start_time": "2023-02-02T17:15:48.753Z"
   },
   {
    "duration": 277,
    "start_time": "2023-02-02T17:15:48.965Z"
   },
   {
    "duration": 7,
    "start_time": "2023-02-02T17:15:49.244Z"
   },
   {
    "duration": 185,
    "start_time": "2023-02-02T17:15:49.253Z"
   },
   {
    "duration": 11,
    "start_time": "2023-02-02T17:15:49.439Z"
   },
   {
    "duration": 24,
    "start_time": "2023-02-02T17:15:49.456Z"
   },
   {
    "duration": 16,
    "start_time": "2023-02-02T17:15:49.482Z"
   },
   {
    "duration": 156,
    "start_time": "2023-02-02T17:15:49.500Z"
   },
   {
    "duration": 160,
    "start_time": "2023-02-02T17:15:49.658Z"
   },
   {
    "duration": 4,
    "start_time": "2023-02-02T17:15:49.820Z"
   },
   {
    "duration": 63,
    "start_time": "2023-02-02T17:15:49.836Z"
   },
   {
    "duration": 85,
    "start_time": "2023-02-02T17:15:49.901Z"
   },
   {
    "duration": 5,
    "start_time": "2023-02-02T17:15:49.988Z"
   },
   {
    "duration": 10,
    "start_time": "2023-02-02T17:15:49.995Z"
   },
   {
    "duration": 54,
    "start_time": "2023-02-02T17:15:50.006Z"
   },
   {
    "duration": 5,
    "start_time": "2023-02-02T17:15:50.062Z"
   },
   {
    "duration": 16,
    "start_time": "2023-02-02T17:15:50.069Z"
   },
   {
    "duration": 9,
    "start_time": "2023-02-02T17:15:50.087Z"
   },
   {
    "duration": 15,
    "start_time": "2023-02-02T17:15:50.098Z"
   },
   {
    "duration": 107,
    "start_time": "2023-02-02T17:15:50.115Z"
   },
   {
    "duration": 13,
    "start_time": "2023-02-02T17:15:50.224Z"
   },
   {
    "duration": 5,
    "start_time": "2023-02-02T17:15:50.239Z"
   },
   {
    "duration": 11,
    "start_time": "2023-02-02T17:15:50.246Z"
   },
   {
    "duration": 7,
    "start_time": "2023-02-02T17:15:50.258Z"
   },
   {
    "duration": 41,
    "start_time": "2023-02-02T17:15:50.266Z"
   },
   {
    "duration": 5,
    "start_time": "2023-02-02T17:15:50.308Z"
   },
   {
    "duration": 11,
    "start_time": "2023-02-02T17:15:50.337Z"
   },
   {
    "duration": 14,
    "start_time": "2023-02-02T17:15:50.350Z"
   },
   {
    "duration": 1130,
    "start_time": "2023-02-02T17:16:29.376Z"
   },
   {
    "duration": 3,
    "start_time": "2023-02-02T17:16:30.508Z"
   },
   {
    "duration": 113,
    "start_time": "2023-02-02T17:16:30.512Z"
   },
   {
    "duration": 58,
    "start_time": "2023-02-02T17:16:30.628Z"
   },
   {
    "duration": 6,
    "start_time": "2023-02-02T17:16:30.688Z"
   },
   {
    "duration": 42,
    "start_time": "2023-02-02T17:16:30.696Z"
   },
   {
    "duration": 53,
    "start_time": "2023-02-02T17:16:30.739Z"
   },
   {
    "duration": 34,
    "start_time": "2023-02-02T17:16:30.795Z"
   },
   {
    "duration": 32,
    "start_time": "2023-02-02T17:16:30.831Z"
   },
   {
    "duration": 21,
    "start_time": "2023-02-02T17:16:30.866Z"
   },
   {
    "duration": 30,
    "start_time": "2023-02-02T17:16:30.889Z"
   },
   {
    "duration": 36,
    "start_time": "2023-02-02T17:16:30.922Z"
   },
   {
    "duration": 44,
    "start_time": "2023-02-02T17:16:30.960Z"
   },
   {
    "duration": 27,
    "start_time": "2023-02-02T17:16:31.006Z"
   },
   {
    "duration": 40,
    "start_time": "2023-02-02T17:16:31.035Z"
   },
   {
    "duration": 18,
    "start_time": "2023-02-02T17:16:31.076Z"
   },
   {
    "duration": 201,
    "start_time": "2023-02-02T17:16:31.096Z"
   },
   {
    "duration": 137,
    "start_time": "2023-02-02T17:16:31.299Z"
   },
   {
    "duration": 7,
    "start_time": "2023-02-02T17:16:31.438Z"
   },
   {
    "duration": 301,
    "start_time": "2023-02-02T17:16:31.447Z"
   },
   {
    "duration": 222,
    "start_time": "2023-02-02T17:16:31.750Z"
   },
   {
    "duration": 292,
    "start_time": "2023-02-02T17:16:31.974Z"
   },
   {
    "duration": 220,
    "start_time": "2023-02-02T17:16:32.268Z"
   },
   {
    "duration": 334,
    "start_time": "2023-02-02T17:16:32.490Z"
   },
   {
    "duration": 10,
    "start_time": "2023-02-02T17:16:32.826Z"
   },
   {
    "duration": 174,
    "start_time": "2023-02-02T17:16:32.838Z"
   },
   {
    "duration": 8,
    "start_time": "2023-02-02T17:16:33.014Z"
   },
   {
    "duration": 14,
    "start_time": "2023-02-02T17:16:33.025Z"
   },
   {
    "duration": 13,
    "start_time": "2023-02-02T17:16:33.041Z"
   },
   {
    "duration": 150,
    "start_time": "2023-02-02T17:16:33.056Z"
   },
   {
    "duration": 166,
    "start_time": "2023-02-02T17:16:33.207Z"
   },
   {
    "duration": 6,
    "start_time": "2023-02-02T17:16:33.376Z"
   },
   {
    "duration": 79,
    "start_time": "2023-02-02T17:16:33.384Z"
   },
   {
    "duration": 85,
    "start_time": "2023-02-02T17:16:33.465Z"
   },
   {
    "duration": 6,
    "start_time": "2023-02-02T17:16:33.552Z"
   },
   {
    "duration": 11,
    "start_time": "2023-02-02T17:16:33.559Z"
   },
   {
    "duration": 51,
    "start_time": "2023-02-02T17:16:33.572Z"
   },
   {
    "duration": 12,
    "start_time": "2023-02-02T17:16:33.625Z"
   },
   {
    "duration": 18,
    "start_time": "2023-02-02T17:16:33.639Z"
   },
   {
    "duration": 7,
    "start_time": "2023-02-02T17:16:33.659Z"
   },
   {
    "duration": 10,
    "start_time": "2023-02-02T17:16:33.667Z"
   },
   {
    "duration": 9,
    "start_time": "2023-02-02T17:16:33.678Z"
   },
   {
    "duration": 9,
    "start_time": "2023-02-02T17:16:33.689Z"
   },
   {
    "duration": 106,
    "start_time": "2023-02-02T17:16:33.700Z"
   },
   {
    "duration": 17,
    "start_time": "2023-02-02T17:16:33.808Z"
   },
   {
    "duration": 15,
    "start_time": "2023-02-02T17:16:33.827Z"
   },
   {
    "duration": 48,
    "start_time": "2023-02-02T17:16:33.843Z"
   },
   {
    "duration": 6,
    "start_time": "2023-02-02T17:16:33.893Z"
   },
   {
    "duration": 23,
    "start_time": "2023-02-02T17:16:33.901Z"
   },
   {
    "duration": 45,
    "start_time": "2023-02-02T17:16:33.926Z"
   },
   {
    "duration": 1150,
    "start_time": "2023-02-02T17:18:08.284Z"
   },
   {
    "duration": 3,
    "start_time": "2023-02-02T17:18:09.436Z"
   },
   {
    "duration": 88,
    "start_time": "2023-02-02T17:18:09.441Z"
   },
   {
    "duration": 58,
    "start_time": "2023-02-02T17:18:09.531Z"
   },
   {
    "duration": 6,
    "start_time": "2023-02-02T17:18:09.591Z"
   },
   {
    "duration": 8,
    "start_time": "2023-02-02T17:18:09.599Z"
   },
   {
    "duration": 12,
    "start_time": "2023-02-02T17:18:09.637Z"
   },
   {
    "duration": 6,
    "start_time": "2023-02-02T17:18:09.650Z"
   },
   {
    "duration": 14,
    "start_time": "2023-02-02T17:18:09.658Z"
   },
   {
    "duration": 11,
    "start_time": "2023-02-02T17:18:09.674Z"
   },
   {
    "duration": 12,
    "start_time": "2023-02-02T17:18:09.687Z"
   },
   {
    "duration": 21,
    "start_time": "2023-02-02T17:18:09.701Z"
   },
   {
    "duration": 22,
    "start_time": "2023-02-02T17:18:09.724Z"
   },
   {
    "duration": 15,
    "start_time": "2023-02-02T17:18:09.749Z"
   },
   {
    "duration": 21,
    "start_time": "2023-02-02T17:18:09.766Z"
   },
   {
    "duration": 23,
    "start_time": "2023-02-02T17:18:09.789Z"
   },
   {
    "duration": 191,
    "start_time": "2023-02-02T17:18:09.814Z"
   },
   {
    "duration": 145,
    "start_time": "2023-02-02T17:18:10.007Z"
   },
   {
    "duration": 8,
    "start_time": "2023-02-02T17:18:10.154Z"
   },
   {
    "duration": 287,
    "start_time": "2023-02-02T17:18:10.164Z"
   },
   {
    "duration": 215,
    "start_time": "2023-02-02T17:18:10.453Z"
   },
   {
    "duration": 283,
    "start_time": "2023-02-02T17:18:10.670Z"
   },
   {
    "duration": 228,
    "start_time": "2023-02-02T17:18:10.955Z"
   },
   {
    "duration": 339,
    "start_time": "2023-02-02T17:18:11.186Z"
   },
   {
    "duration": 8,
    "start_time": "2023-02-02T17:18:11.536Z"
   },
   {
    "duration": 165,
    "start_time": "2023-02-02T17:18:11.546Z"
   },
   {
    "duration": 8,
    "start_time": "2023-02-02T17:18:11.713Z"
   },
   {
    "duration": 16,
    "start_time": "2023-02-02T17:18:11.723Z"
   },
   {
    "duration": 10,
    "start_time": "2023-02-02T17:18:11.741Z"
   },
   {
    "duration": 157,
    "start_time": "2023-02-02T17:18:11.753Z"
   },
   {
    "duration": 155,
    "start_time": "2023-02-02T17:18:11.912Z"
   },
   {
    "duration": 5,
    "start_time": "2023-02-02T17:18:12.069Z"
   },
   {
    "duration": 96,
    "start_time": "2023-02-02T17:18:12.075Z"
   },
   {
    "duration": 91,
    "start_time": "2023-02-02T17:18:12.173Z"
   },
   {
    "duration": 5,
    "start_time": "2023-02-02T17:18:12.266Z"
   },
   {
    "duration": 23,
    "start_time": "2023-02-02T17:18:12.272Z"
   },
   {
    "duration": 46,
    "start_time": "2023-02-02T17:18:12.297Z"
   },
   {
    "duration": 5,
    "start_time": "2023-02-02T17:18:12.345Z"
   },
   {
    "duration": 13,
    "start_time": "2023-02-02T17:18:12.351Z"
   },
   {
    "duration": 5,
    "start_time": "2023-02-02T17:18:12.366Z"
   },
   {
    "duration": 25,
    "start_time": "2023-02-02T17:18:12.375Z"
   },
   {
    "duration": 24,
    "start_time": "2023-02-02T17:18:12.402Z"
   },
   {
    "duration": 9,
    "start_time": "2023-02-02T17:18:12.428Z"
   },
   {
    "duration": 15,
    "start_time": "2023-02-02T17:18:12.439Z"
   },
   {
    "duration": 10,
    "start_time": "2023-02-02T17:18:12.455Z"
   },
   {
    "duration": 7,
    "start_time": "2023-02-02T17:18:12.467Z"
   },
   {
    "duration": 39,
    "start_time": "2023-02-02T17:18:12.476Z"
   },
   {
    "duration": 6,
    "start_time": "2023-02-02T17:18:12.517Z"
   },
   {
    "duration": 12,
    "start_time": "2023-02-02T17:18:12.537Z"
   },
   {
    "duration": 10,
    "start_time": "2023-02-02T17:18:12.551Z"
   },
   {
    "duration": 1146,
    "start_time": "2023-02-02T17:19:59.284Z"
   },
   {
    "duration": 3,
    "start_time": "2023-02-02T17:20:00.433Z"
   },
   {
    "duration": 100,
    "start_time": "2023-02-02T17:20:00.438Z"
   },
   {
    "duration": 98,
    "start_time": "2023-02-02T17:20:00.540Z"
   },
   {
    "duration": 7,
    "start_time": "2023-02-02T17:20:00.641Z"
   },
   {
    "duration": 31,
    "start_time": "2023-02-02T17:20:00.650Z"
   },
   {
    "duration": 72,
    "start_time": "2023-02-02T17:20:00.683Z"
   },
   {
    "duration": 35,
    "start_time": "2023-02-02T17:20:00.757Z"
   },
   {
    "duration": 33,
    "start_time": "2023-02-02T17:20:00.794Z"
   },
   {
    "duration": 32,
    "start_time": "2023-02-02T17:20:00.829Z"
   },
   {
    "duration": 39,
    "start_time": "2023-02-02T17:20:00.863Z"
   },
   {
    "duration": 33,
    "start_time": "2023-02-02T17:20:00.904Z"
   },
   {
    "duration": 33,
    "start_time": "2023-02-02T17:20:00.939Z"
   },
   {
    "duration": 32,
    "start_time": "2023-02-02T17:20:00.975Z"
   },
   {
    "duration": 59,
    "start_time": "2023-02-02T17:20:01.009Z"
   },
   {
    "duration": 36,
    "start_time": "2023-02-02T17:20:01.070Z"
   },
   {
    "duration": 220,
    "start_time": "2023-02-02T17:20:01.108Z"
   },
   {
    "duration": 136,
    "start_time": "2023-02-02T17:20:01.330Z"
   },
   {
    "duration": 8,
    "start_time": "2023-02-02T17:20:01.468Z"
   },
   {
    "duration": 317,
    "start_time": "2023-02-02T17:20:01.478Z"
   },
   {
    "duration": 229,
    "start_time": "2023-02-02T17:20:01.797Z"
   },
   {
    "duration": 311,
    "start_time": "2023-02-02T17:20:02.028Z"
   },
   {
    "duration": 212,
    "start_time": "2023-02-02T17:20:02.341Z"
   },
   {
    "duration": 292,
    "start_time": "2023-02-02T17:20:02.554Z"
   },
   {
    "duration": 7,
    "start_time": "2023-02-02T17:20:02.848Z"
   },
   {
    "duration": 181,
    "start_time": "2023-02-02T17:20:02.856Z"
   },
   {
    "duration": 9,
    "start_time": "2023-02-02T17:20:03.039Z"
   },
   {
    "duration": 20,
    "start_time": "2023-02-02T17:20:03.049Z"
   },
   {
    "duration": 30,
    "start_time": "2023-02-02T17:20:03.070Z"
   },
   {
    "duration": 162,
    "start_time": "2023-02-02T17:20:03.102Z"
   },
   {
    "duration": 149,
    "start_time": "2023-02-02T17:20:03.266Z"
   },
   {
    "duration": 5,
    "start_time": "2023-02-02T17:20:03.418Z"
   },
   {
    "duration": 81,
    "start_time": "2023-02-02T17:20:03.436Z"
   },
   {
    "duration": 104,
    "start_time": "2023-02-02T17:20:03.518Z"
   },
   {
    "duration": 5,
    "start_time": "2023-02-02T17:20:03.624Z"
   },
   {
    "duration": 14,
    "start_time": "2023-02-02T17:20:03.630Z"
   },
   {
    "duration": 67,
    "start_time": "2023-02-02T17:20:03.646Z"
   },
   {
    "duration": 12,
    "start_time": "2023-02-02T17:20:03.715Z"
   },
   {
    "duration": 20,
    "start_time": "2023-02-02T17:20:03.729Z"
   },
   {
    "duration": 23,
    "start_time": "2023-02-02T17:20:03.750Z"
   },
   {
    "duration": 20,
    "start_time": "2023-02-02T17:20:03.777Z"
   },
   {
    "duration": 41,
    "start_time": "2023-02-02T17:20:03.799Z"
   },
   {
    "duration": 21,
    "start_time": "2023-02-02T17:20:03.842Z"
   },
   {
    "duration": 28,
    "start_time": "2023-02-02T17:20:03.865Z"
   },
   {
    "duration": 11,
    "start_time": "2023-02-02T17:20:03.895Z"
   },
   {
    "duration": 21,
    "start_time": "2023-02-02T17:20:03.907Z"
   },
   {
    "duration": 49,
    "start_time": "2023-02-02T17:20:03.930Z"
   },
   {
    "duration": 4,
    "start_time": "2023-02-02T17:20:03.981Z"
   },
   {
    "duration": 14,
    "start_time": "2023-02-02T17:20:03.987Z"
   },
   {
    "duration": 27,
    "start_time": "2023-02-02T17:20:04.002Z"
   },
   {
    "duration": 1240,
    "start_time": "2023-02-03T17:32:03.344Z"
   },
   {
    "duration": 3,
    "start_time": "2023-02-03T17:32:04.586Z"
   },
   {
    "duration": 275,
    "start_time": "2023-02-03T17:32:04.591Z"
   },
   {
    "duration": 49,
    "start_time": "2023-02-03T17:32:04.868Z"
   },
   {
    "duration": 5,
    "start_time": "2023-02-03T17:32:04.918Z"
   },
   {
    "duration": 18,
    "start_time": "2023-02-03T17:32:04.925Z"
   },
   {
    "duration": 13,
    "start_time": "2023-02-03T17:32:04.946Z"
   },
   {
    "duration": 6,
    "start_time": "2023-02-03T17:32:04.960Z"
   },
   {
    "duration": 12,
    "start_time": "2023-02-03T17:32:04.968Z"
   },
   {
    "duration": 12,
    "start_time": "2023-02-03T17:32:04.982Z"
   },
   {
    "duration": 12,
    "start_time": "2023-02-03T17:32:04.995Z"
   },
   {
    "duration": 12,
    "start_time": "2023-02-03T17:32:05.008Z"
   },
   {
    "duration": 19,
    "start_time": "2023-02-03T17:32:05.021Z"
   },
   {
    "duration": 12,
    "start_time": "2023-02-03T17:32:05.042Z"
   },
   {
    "duration": 26,
    "start_time": "2023-02-03T17:32:05.056Z"
   },
   {
    "duration": 9,
    "start_time": "2023-02-03T17:32:05.083Z"
   },
   {
    "duration": 195,
    "start_time": "2023-02-03T17:32:05.093Z"
   },
   {
    "duration": 128,
    "start_time": "2023-02-03T17:32:05.290Z"
   },
   {
    "duration": 8,
    "start_time": "2023-02-03T17:32:05.420Z"
   },
   {
    "duration": 277,
    "start_time": "2023-02-03T17:32:05.432Z"
   },
   {
    "duration": 185,
    "start_time": "2023-02-03T17:32:05.711Z"
   },
   {
    "duration": 352,
    "start_time": "2023-02-03T17:32:05.898Z"
   },
   {
    "duration": 193,
    "start_time": "2023-02-03T17:32:06.251Z"
   },
   {
    "duration": 290,
    "start_time": "2023-02-03T17:32:06.446Z"
   },
   {
    "duration": 9,
    "start_time": "2023-02-03T17:32:06.738Z"
   },
   {
    "duration": 150,
    "start_time": "2023-02-03T17:32:06.748Z"
   },
   {
    "duration": 7,
    "start_time": "2023-02-03T17:32:06.900Z"
   },
   {
    "duration": 19,
    "start_time": "2023-02-03T17:32:06.909Z"
   },
   {
    "duration": 15,
    "start_time": "2023-02-03T17:32:06.929Z"
   },
   {
    "duration": 132,
    "start_time": "2023-02-03T17:32:06.946Z"
   },
   {
    "duration": 198,
    "start_time": "2023-02-03T17:32:07.080Z"
   },
   {
    "duration": 4,
    "start_time": "2023-02-03T17:32:07.279Z"
   },
   {
    "duration": 88,
    "start_time": "2023-02-03T17:32:07.285Z"
   },
   {
    "duration": 88,
    "start_time": "2023-02-03T17:32:07.375Z"
   },
   {
    "duration": 5,
    "start_time": "2023-02-03T17:32:07.465Z"
   },
   {
    "duration": 9,
    "start_time": "2023-02-03T17:32:07.472Z"
   },
   {
    "duration": 48,
    "start_time": "2023-02-03T17:32:07.482Z"
   },
   {
    "duration": 6,
    "start_time": "2023-02-03T17:32:07.532Z"
   },
   {
    "duration": 20,
    "start_time": "2023-02-03T17:32:07.541Z"
   },
   {
    "duration": 13,
    "start_time": "2023-02-03T17:32:07.563Z"
   },
   {
    "duration": 17,
    "start_time": "2023-02-03T17:32:07.578Z"
   },
   {
    "duration": 15,
    "start_time": "2023-02-03T17:32:07.597Z"
   },
   {
    "duration": 6,
    "start_time": "2023-02-03T17:32:07.614Z"
   },
   {
    "duration": 8,
    "start_time": "2023-02-03T17:32:07.622Z"
   },
   {
    "duration": 21,
    "start_time": "2023-02-03T17:32:07.632Z"
   },
   {
    "duration": 6,
    "start_time": "2023-02-03T17:32:07.655Z"
   },
   {
    "duration": 38,
    "start_time": "2023-02-03T17:32:07.662Z"
   },
   {
    "duration": 3,
    "start_time": "2023-02-03T17:32:07.702Z"
   },
   {
    "duration": 25,
    "start_time": "2023-02-03T17:32:07.706Z"
   },
   {
    "duration": 22,
    "start_time": "2023-02-03T17:32:07.733Z"
   },
   {
    "duration": 985,
    "start_time": "2023-03-25T13:20:06.500Z"
   },
   {
    "duration": 3,
    "start_time": "2023-03-25T13:20:07.487Z"
   },
   {
    "duration": 221,
    "start_time": "2023-03-25T13:20:07.491Z"
   },
   {
    "duration": 49,
    "start_time": "2023-03-25T13:20:07.714Z"
   },
   {
    "duration": 6,
    "start_time": "2023-03-25T13:20:07.766Z"
   },
   {
    "duration": 4,
    "start_time": "2023-03-25T13:20:07.774Z"
   },
   {
    "duration": 8,
    "start_time": "2023-03-25T13:20:07.780Z"
   },
   {
    "duration": 6,
    "start_time": "2023-03-25T13:20:07.790Z"
   },
   {
    "duration": 16,
    "start_time": "2023-03-25T13:20:07.798Z"
   },
   {
    "duration": 4,
    "start_time": "2023-03-25T13:20:07.815Z"
   },
   {
    "duration": 6,
    "start_time": "2023-03-25T13:20:07.821Z"
   },
   {
    "duration": 8,
    "start_time": "2023-03-25T13:20:07.828Z"
   },
   {
    "duration": 37,
    "start_time": "2023-03-25T13:20:07.837Z"
   },
   {
    "duration": 14,
    "start_time": "2023-03-25T13:20:07.877Z"
   },
   {
    "duration": 12,
    "start_time": "2023-03-25T13:20:07.892Z"
   },
   {
    "duration": 13,
    "start_time": "2023-03-25T13:20:07.906Z"
   },
   {
    "duration": 201,
    "start_time": "2023-03-25T13:20:07.921Z"
   },
   {
    "duration": 110,
    "start_time": "2023-03-25T13:20:08.124Z"
   },
   {
    "duration": 6,
    "start_time": "2023-03-25T13:20:08.235Z"
   },
   {
    "duration": 240,
    "start_time": "2023-03-25T13:20:08.242Z"
   },
   {
    "duration": 169,
    "start_time": "2023-03-25T13:20:08.483Z"
   },
   {
    "duration": 274,
    "start_time": "2023-03-25T13:20:08.654Z"
   },
   {
    "duration": 206,
    "start_time": "2023-03-25T13:20:08.930Z"
   },
   {
    "duration": 299,
    "start_time": "2023-03-25T13:20:09.138Z"
   },
   {
    "duration": 8,
    "start_time": "2023-03-25T13:20:09.439Z"
   },
   {
    "duration": 141,
    "start_time": "2023-03-25T13:20:09.451Z"
   },
   {
    "duration": 6,
    "start_time": "2023-03-25T13:20:09.594Z"
   },
   {
    "duration": 5,
    "start_time": "2023-03-25T13:20:09.601Z"
   },
   {
    "duration": 10,
    "start_time": "2023-03-25T13:20:09.607Z"
   },
   {
    "duration": 132,
    "start_time": "2023-03-25T13:20:09.618Z"
   },
   {
    "duration": 139,
    "start_time": "2023-03-25T13:20:09.752Z"
   },
   {
    "duration": 6,
    "start_time": "2023-03-25T13:20:09.894Z"
   },
   {
    "duration": 99,
    "start_time": "2023-03-25T13:20:09.902Z"
   },
   {
    "duration": 79,
    "start_time": "2023-03-25T13:20:10.003Z"
   },
   {
    "duration": 5,
    "start_time": "2023-03-25T13:20:10.083Z"
   },
   {
    "duration": 5,
    "start_time": "2023-03-25T13:20:10.090Z"
   },
   {
    "duration": 33,
    "start_time": "2023-03-25T13:20:10.096Z"
   },
   {
    "duration": 4,
    "start_time": "2023-03-25T13:20:10.130Z"
   },
   {
    "duration": 8,
    "start_time": "2023-03-25T13:20:10.135Z"
   },
   {
    "duration": 68,
    "start_time": "2023-03-25T13:20:10.169Z"
   },
   {
    "duration": 6,
    "start_time": "2023-03-25T13:20:10.241Z"
   },
   {
    "duration": 19,
    "start_time": "2023-03-25T13:20:10.249Z"
   },
   {
    "duration": 4,
    "start_time": "2023-03-25T13:20:10.270Z"
   },
   {
    "duration": 15,
    "start_time": "2023-03-25T13:20:10.275Z"
   },
   {
    "duration": 5,
    "start_time": "2023-03-25T13:20:10.291Z"
   },
   {
    "duration": 5,
    "start_time": "2023-03-25T13:20:10.297Z"
   },
   {
    "duration": 36,
    "start_time": "2023-03-25T13:20:10.303Z"
   },
   {
    "duration": 4,
    "start_time": "2023-03-25T13:20:10.341Z"
   },
   {
    "duration": 30,
    "start_time": "2023-03-25T13:20:10.346Z"
   },
   {
    "duration": 7,
    "start_time": "2023-03-25T13:20:10.378Z"
   },
   {
    "duration": 55,
    "start_time": "2023-04-25T17:50:16.201Z"
   }
  ],
  "kernelspec": {
   "display_name": "Python 3 (ipykernel)",
   "language": "python",
   "name": "python3"
  },
  "language_info": {
   "codemirror_mode": {
    "name": "ipython",
    "version": 3
   },
   "file_extension": ".py",
   "mimetype": "text/x-python",
   "name": "python",
   "nbconvert_exporter": "python",
   "pygments_lexer": "ipython3",
   "version": "3.9.7"
  },
  "toc": {
   "base_numbering": 1,
   "nav_menu": {
    "height": "11.4583px",
    "width": "159.988px"
   },
   "number_sections": true,
   "sideBar": true,
   "skip_h1_title": true,
   "title_cell": "Table of Contents",
   "title_sidebar": "Contents",
   "toc_cell": false,
   "toc_position": {
    "height": "calc(100% - 180px)",
    "left": "10px",
    "top": "150px",
    "width": "511.991px"
   },
   "toc_section_display": true,
   "toc_window_display": false
  }
 },
 "nbformat": 4,
 "nbformat_minor": 2
}
