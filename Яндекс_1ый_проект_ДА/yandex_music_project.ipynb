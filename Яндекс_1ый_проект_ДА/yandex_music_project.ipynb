{
 "cells": [
  {
   "cell_type": "markdown",
   "metadata": {
    "id": "E0vqbgi9ay0H"
   },
   "source": [
    "# Яндекс.Музыка"
   ]
  },
  {
   "cell_type": "markdown",
   "metadata": {
    "id": "VUC88oWjTJw2"
   },
   "source": [
    "Сравнение Москвы и Петербурга окружено мифами. Например:\n",
    " * Москва — мегаполис, подчинённый жёсткому ритму рабочей недели;\n",
    " * Петербург — культурная столица, со своими вкусами.\n",
    "\n",
    "На данных Яндекс.Музыки сравним поведение пользователей двух столиц.\n",
    "\n",
    "**Цель исследования** — проверить три гипотезы:\n",
    "1. Активность пользователей зависит от дня недели. Причём в Москве и Петербурге это проявляется по-разному.\n",
    "2. В понедельник утром в Москве преобладают одни жанры, а в Петербурге — другие. Так же и вечером пятницы преобладают разные жанры — в зависимости от города. \n",
    "3. Москва и Петербург предпочитают разные жанры музыки. В Москве чаще слушают поп-музыку, в Петербурге — русский рэп.\n",
    "\n",
    "**Ход исследования**\n",
    "\n",
    "Проверим данные на ошибки и оценим их влияние на исследование. Далее постараемся исправить критические ошибки.\n",
    " \n",
    "Таким образом, исследование пройдёт в три этапа:\n",
    " 1. Обзор данных.\n",
    " 2. Предобработка данных.\n",
    " 3. Проверка гипотез."
   ]
  },
  {
   "cell_type": "markdown",
   "metadata": {
    "id": "Ml1hmfXC_Zcs"
   },
   "source": [
    "## Обзор данных\n",
    "\n",
    "Составим первое представление о данных Яндекс.Музыки."
   ]
  },
  {
   "cell_type": "code",
   "execution_count": 1,
   "metadata": {
    "id": "AXN7PHPN_Zcs"
   },
   "outputs": [],
   "source": [
    "# импортируем библиотеки\n",
    "import pandas as pd\n",
    "import os"
   ]
  },
  {
   "cell_type": "code",
   "execution_count": 2,
   "metadata": {},
   "outputs": [],
   "source": [
    "# сохраняем уникальный путь для данных\n",
    "path = 'C:\\\\Users\\\\tbyni\\\\OneDrive\\\\Рабочий стол\\\\Яндекс_Практикум\\\\Проекты ЯП\\\\1 Проект Музыка больших городов\\\\'"
   ]
  },
  {
   "cell_type": "code",
   "execution_count": 3,
   "metadata": {},
   "outputs": [],
   "source": [
    "# Выгружаем необходимую информацию. \n",
    "df = pd.read_csv(path + 'yandex_music_project.csv', sep = ',')"
   ]
  },
  {
   "cell_type": "code",
   "execution_count": 4,
   "metadata": {},
   "outputs": [
    {
     "name": "stdout",
     "output_type": "stream",
     "text": [
      "Something is wrong\n"
     ]
    }
   ],
   "source": [
    "# пропишем путь чтобы избежать возможных ошибок\n",
    "pth1 = 'yandex_music_project.csv'\n",
    "pth2 = '/datasets/yandex_music_project.csv'\n",
    "\n",
    "\n",
    "if os.path.exists(pth1):\n",
    "    df = pd.read_csv(pth1)\n",
    "else:\n",
    "    print('Something is wrong')"
   ]
  },
  {
   "cell_type": "code",
   "execution_count": 5,
   "metadata": {
    "id": "oWTVX3gW_Zct",
    "scrolled": true
   },
   "outputs": [
    {
     "data": {
      "text/html": [
       "<div>\n",
       "<style scoped>\n",
       "    .dataframe tbody tr th:only-of-type {\n",
       "        vertical-align: middle;\n",
       "    }\n",
       "\n",
       "    .dataframe tbody tr th {\n",
       "        vertical-align: top;\n",
       "    }\n",
       "\n",
       "    .dataframe thead th {\n",
       "        text-align: right;\n",
       "    }\n",
       "</style>\n",
       "<table border=\"1\" class=\"dataframe\">\n",
       "  <thead>\n",
       "    <tr style=\"text-align: right;\">\n",
       "      <th></th>\n",
       "      <th>userID</th>\n",
       "      <th>Track</th>\n",
       "      <th>artist</th>\n",
       "      <th>genre</th>\n",
       "      <th>City</th>\n",
       "      <th>time</th>\n",
       "      <th>Day</th>\n",
       "    </tr>\n",
       "  </thead>\n",
       "  <tbody>\n",
       "    <tr>\n",
       "      <th>0</th>\n",
       "      <td>FFB692EC</td>\n",
       "      <td>Kamigata To Boots</td>\n",
       "      <td>The Mass Missile</td>\n",
       "      <td>rock</td>\n",
       "      <td>Saint-Petersburg</td>\n",
       "      <td>20:28:33</td>\n",
       "      <td>Wednesday</td>\n",
       "    </tr>\n",
       "    <tr>\n",
       "      <th>1</th>\n",
       "      <td>55204538</td>\n",
       "      <td>Delayed Because of Accident</td>\n",
       "      <td>Andreas Rönnberg</td>\n",
       "      <td>rock</td>\n",
       "      <td>Moscow</td>\n",
       "      <td>14:07:09</td>\n",
       "      <td>Friday</td>\n",
       "    </tr>\n",
       "    <tr>\n",
       "      <th>2</th>\n",
       "      <td>20EC38</td>\n",
       "      <td>Funiculì funiculà</td>\n",
       "      <td>Mario Lanza</td>\n",
       "      <td>pop</td>\n",
       "      <td>Saint-Petersburg</td>\n",
       "      <td>20:58:07</td>\n",
       "      <td>Wednesday</td>\n",
       "    </tr>\n",
       "    <tr>\n",
       "      <th>3</th>\n",
       "      <td>A3DD03C9</td>\n",
       "      <td>Dragons in the Sunset</td>\n",
       "      <td>Fire + Ice</td>\n",
       "      <td>folk</td>\n",
       "      <td>Saint-Petersburg</td>\n",
       "      <td>08:37:09</td>\n",
       "      <td>Monday</td>\n",
       "    </tr>\n",
       "    <tr>\n",
       "      <th>4</th>\n",
       "      <td>E2DC1FAE</td>\n",
       "      <td>Soul People</td>\n",
       "      <td>Space Echo</td>\n",
       "      <td>dance</td>\n",
       "      <td>Moscow</td>\n",
       "      <td>08:34:34</td>\n",
       "      <td>Monday</td>\n",
       "    </tr>\n",
       "    <tr>\n",
       "      <th>5</th>\n",
       "      <td>842029A1</td>\n",
       "      <td>Преданная</td>\n",
       "      <td>IMPERVTOR</td>\n",
       "      <td>rusrap</td>\n",
       "      <td>Saint-Petersburg</td>\n",
       "      <td>13:09:41</td>\n",
       "      <td>Friday</td>\n",
       "    </tr>\n",
       "    <tr>\n",
       "      <th>6</th>\n",
       "      <td>4CB90AA5</td>\n",
       "      <td>True</td>\n",
       "      <td>Roman Messer</td>\n",
       "      <td>dance</td>\n",
       "      <td>Moscow</td>\n",
       "      <td>13:00:07</td>\n",
       "      <td>Wednesday</td>\n",
       "    </tr>\n",
       "    <tr>\n",
       "      <th>7</th>\n",
       "      <td>F03E1C1F</td>\n",
       "      <td>Feeling This Way</td>\n",
       "      <td>Polina Griffith</td>\n",
       "      <td>dance</td>\n",
       "      <td>Moscow</td>\n",
       "      <td>20:47:49</td>\n",
       "      <td>Wednesday</td>\n",
       "    </tr>\n",
       "    <tr>\n",
       "      <th>8</th>\n",
       "      <td>8FA1D3BE</td>\n",
       "      <td>И вновь продолжается бой</td>\n",
       "      <td>NaN</td>\n",
       "      <td>ruspop</td>\n",
       "      <td>Moscow</td>\n",
       "      <td>09:17:40</td>\n",
       "      <td>Friday</td>\n",
       "    </tr>\n",
       "    <tr>\n",
       "      <th>9</th>\n",
       "      <td>E772D5C0</td>\n",
       "      <td>Pessimist</td>\n",
       "      <td>NaN</td>\n",
       "      <td>dance</td>\n",
       "      <td>Saint-Petersburg</td>\n",
       "      <td>21:20:49</td>\n",
       "      <td>Wednesday</td>\n",
       "    </tr>\n",
       "  </tbody>\n",
       "</table>\n",
       "</div>"
      ],
      "text/plain": [
       "     userID                        Track            artist   genre  \\\n",
       "0  FFB692EC            Kamigata To Boots  The Mass Missile    rock   \n",
       "1  55204538  Delayed Because of Accident  Andreas Rönnberg    rock   \n",
       "2    20EC38            Funiculì funiculà       Mario Lanza     pop   \n",
       "3  A3DD03C9        Dragons in the Sunset        Fire + Ice    folk   \n",
       "4  E2DC1FAE                  Soul People        Space Echo   dance   \n",
       "5  842029A1                    Преданная         IMPERVTOR  rusrap   \n",
       "6  4CB90AA5                         True      Roman Messer   dance   \n",
       "7  F03E1C1F             Feeling This Way   Polina Griffith   dance   \n",
       "8  8FA1D3BE     И вновь продолжается бой               NaN  ruspop   \n",
       "9  E772D5C0                    Pessimist               NaN   dance   \n",
       "\n",
       "             City        time        Day  \n",
       "0  Saint-Petersburg  20:28:33  Wednesday  \n",
       "1            Moscow  14:07:09     Friday  \n",
       "2  Saint-Petersburg  20:58:07  Wednesday  \n",
       "3  Saint-Petersburg  08:37:09     Monday  \n",
       "4            Moscow  08:34:34     Monday  \n",
       "5  Saint-Petersburg  13:09:41     Friday  \n",
       "6            Moscow  13:00:07  Wednesday  \n",
       "7            Moscow  20:47:49  Wednesday  \n",
       "8            Moscow  09:17:40     Friday  \n",
       "9  Saint-Petersburg  21:20:49  Wednesday  "
      ]
     },
     "execution_count": 5,
     "metadata": {},
     "output_type": "execute_result"
    }
   ],
   "source": [
    "# получаем первые 10 строк\n",
    "df.head(10)"
   ]
  },
  {
   "cell_type": "code",
   "execution_count": 6,
   "metadata": {
    "id": "DSf2kIb-_Zct"
   },
   "outputs": [
    {
     "name": "stdout",
     "output_type": "stream",
     "text": [
      "<class 'pandas.core.frame.DataFrame'>\n",
      "RangeIndex: 65079 entries, 0 to 65078\n",
      "Data columns (total 7 columns):\n",
      " #   Column    Non-Null Count  Dtype \n",
      "---  ------    --------------  ----- \n",
      " 0     userID  65079 non-null  object\n",
      " 1   Track     63848 non-null  object\n",
      " 2   artist    57876 non-null  object\n",
      " 3   genre     63881 non-null  object\n",
      " 4     City    65079 non-null  object\n",
      " 5   time      65079 non-null  object\n",
      " 6   Day       65079 non-null  object\n",
      "dtypes: object(7)\n",
      "memory usage: 3.5+ MB\n"
     ]
    }
   ],
   "source": [
    "# получаем общую информацию о датафрейме\n",
    "df.info()"
   ]
  },
  {
   "cell_type": "markdown",
   "metadata": {
    "id": "TaQ2Iwbr_Zct"
   },
   "source": [
    "Итак, в таблице семь столбцов. Тип данных во всех столбцах — `object`.\n",
    "\n",
    "Согласно документации к данным:\n",
    "* `userID` — идентификатор пользователя;\n",
    "* `Track` — название трека;  \n",
    "* `artist` — имя исполнителя;\n",
    "* `genre` — название жанра;\n",
    "* `City` — город пользователя;\n",
    "* `time` — время начала прослушивания;\n",
    "* `Day` — день недели.\n",
    "\n",
    "В названиях колонок видны три нарушения стиля:\n",
    "1. Строчные буквы сочетаются с прописными.\n",
    "2. Встречаются пробелы.\n",
    "3. Ошибки в названиях столбцов.\n",
    "\n",
    "В данных присутствуют пропущенные значения."
   ]
  },
  {
   "cell_type": "markdown",
   "metadata": {
    "id": "MCB6-dXG_Zct"
   },
   "source": [
    "**Выводы**\n",
    "\n",
    "В каждой строке таблицы — данные о прослушанном треке. Часть колонок описывает саму композицию: название, исполнителя и жанр. Остальные данные рассказывают о пользователе: из какого он города, когда он слушал музыку. \n",
    "\n",
    "Предварительно можно утверждать, что, данных достаточно для проверки гипотез. Но встречаются пропуски в данных, а в названиях колонок — расхождения с хорошим стилем.\n",
    "\n",
    "Чтобы двигаться дальше, нужно устранить проблемы в данных."
   ]
  },
  {
   "cell_type": "markdown",
   "metadata": {
    "id": "SjYF6Ub9_Zct"
   },
   "source": [
    "## Предобработка данных"
   ]
  },
  {
   "cell_type": "markdown",
   "metadata": {
    "id": "dIaKXr29_Zct"
   },
   "source": [
    "### Стиль заголовков"
   ]
  },
  {
   "cell_type": "code",
   "execution_count": 7,
   "metadata": {
    "id": "oKOTdF_Q_Zct"
   },
   "outputs": [
    {
     "data": {
      "text/plain": [
       "Index(['  userID', 'Track', 'artist', 'genre', '  City  ', 'time', 'Day'], dtype='object')"
      ]
     },
     "execution_count": 7,
     "metadata": {},
     "output_type": "execute_result"
    }
   ],
   "source": [
    "# перечень названий столбцов таблицы df\n",
    "df.columns"
   ]
  },
  {
   "cell_type": "markdown",
   "metadata": {
    "id": "zj5534cv_Zct"
   },
   "source": [
    "Приведем названия в соответствие с хорошим стилем:\n",
    "* несколько слов в названии запишем в «змеином_регистре»,\n",
    "* все символы сделаем строчными,\n",
    "* устраним пробелы."
   ]
  },
  {
   "cell_type": "code",
   "execution_count": 8,
   "metadata": {
    "id": "ISlFqs5y_Zct"
   },
   "outputs": [
    {
     "data": {
      "text/plain": [
       "Index(['user_id', 'track', 'artist', 'genre', 'city', 'time', 'day'], dtype='object')"
      ]
     },
     "execution_count": 8,
     "metadata": {},
     "output_type": "execute_result"
    }
   ],
   "source": [
    "# переименовываем столбцы\n",
    "df = df.rename(columns={\"  userID\":\"user_id\", \"Track\":\"track\", \"  City  \":\"city\", \"Day\":\"day\"})\n",
    "df.columns"
   ]
  },
  {
   "cell_type": "code",
   "execution_count": 9,
   "metadata": {
    "id": "d4NOAmTW_Zct"
   },
   "outputs": [
    {
     "data": {
      "text/plain": [
       "['user_id', 'track', 'artist', 'genre', 'city', 'time', 'day']"
      ]
     },
     "execution_count": 9,
     "metadata": {},
     "output_type": "execute_result"
    }
   ],
   "source": [
    "# проверка результатов\n",
    "list(df) "
   ]
  },
  {
   "cell_type": "markdown",
   "metadata": {
    "id": "5ISfbcfY_Zct"
   },
   "source": [
    "### Пропуски значений"
   ]
  },
  {
   "cell_type": "code",
   "execution_count": 10,
   "metadata": {
    "id": "RskX29qr_Zct"
   },
   "outputs": [
    {
     "data": {
      "text/plain": [
       "user_id       0\n",
       "track      1231\n",
       "artist     7203\n",
       "genre      1198\n",
       "city          0\n",
       "time          0\n",
       "day           0\n",
       "dtype: int64"
      ]
     },
     "execution_count": 10,
     "metadata": {},
     "output_type": "execute_result"
    }
   ],
   "source": [
    "# подсчитываем пропуски\n",
    "df.isna().sum()"
   ]
  },
  {
   "cell_type": "markdown",
   "metadata": {
    "id": "qubhgnlO_Zct"
   },
   "source": [
    "Не все пропущенные значения влияют на исследование. Так в `track` и `artist` пропуски не важны для нашей работы. Достаточно заменить их явными обозначениями.\n",
    "\n",
    "Но пропуски в `genre` могут помешать сравнению музыкальных вкусов в Москве и Санкт-Петербурге. На практике было бы правильно установить причину пропусков и восстановить данные. Такой возможности нет в учебном проекте. Придётся:\n",
    "* заполнить и эти пропуски явными обозначениями,\n",
    "* оценить, насколько они повредят расчётам. "
   ]
  },
  {
   "cell_type": "markdown",
   "metadata": {
    "id": "fSv2laPA_Zct"
   },
   "source": [
    "Заменим пропущенные значения в столбцах `track`, `artist` и `genre` на строку `'unknown'`."
   ]
  },
  {
   "cell_type": "code",
   "execution_count": 11,
   "metadata": {
    "id": "KplB5qWs_Zct"
   },
   "outputs": [],
   "source": [
    "# перебор названий столбцов в цикле и замена пропущенных значений на 'unknown'\n",
    "columns_to_replace = [\"track\", \"artist\", \"genre\"] \n",
    "for column in columns_to_replace: \n",
    "    df[column] = df[column].fillna(\"unknown\")"
   ]
  },
  {
   "cell_type": "markdown",
   "metadata": {
    "id": "Ilsm-MZo_Zct"
   },
   "source": [
    "Убедимся, что в таблице не осталось пропусков. Для этого ещё раз посчитаем пропущенные значения."
   ]
  },
  {
   "cell_type": "code",
   "execution_count": 12,
   "metadata": {
    "id": "Tq4nYRX4_Zct"
   },
   "outputs": [
    {
     "data": {
      "text/plain": [
       "user_id    0\n",
       "track      0\n",
       "artist     0\n",
       "genre      0\n",
       "city       0\n",
       "time       0\n",
       "day        0\n",
       "dtype: int64"
      ]
     },
     "execution_count": 12,
     "metadata": {},
     "output_type": "execute_result"
    }
   ],
   "source": [
    "# подсчитываем пропуски\n",
    "df.isna().sum()"
   ]
  },
  {
   "cell_type": "markdown",
   "metadata": {
    "id": "BWKRtBJ3_Zct"
   },
   "source": [
    "### Дубликаты"
   ]
  },
  {
   "cell_type": "code",
   "execution_count": 13,
   "metadata": {
    "id": "36eES_S0_Zct"
   },
   "outputs": [
    {
     "data": {
      "text/plain": [
       "3826"
      ]
     },
     "execution_count": 13,
     "metadata": {},
     "output_type": "execute_result"
    }
   ],
   "source": [
    "# подсчитываем явные дубликаты\n",
    "df.duplicated().sum()"
   ]
  },
  {
   "cell_type": "code",
   "execution_count": 14,
   "metadata": {
    "id": "exFHq6tt_Zct"
   },
   "outputs": [],
   "source": [
    "# удаление явных дубликатов (с удалением старых индексов и формированием новых)\n",
    "df = df.drop_duplicates().reset_index(drop=True)"
   ]
  },
  {
   "cell_type": "code",
   "execution_count": 15,
   "metadata": {
    "id": "-8PuNWQ0_Zct"
   },
   "outputs": [
    {
     "data": {
      "text/plain": [
       "0"
      ]
     },
     "execution_count": 15,
     "metadata": {},
     "output_type": "execute_result"
    }
   ],
   "source": [
    "# проверка на отсутствие дубликатов\n",
    "df.duplicated().sum()"
   ]
  },
  {
   "cell_type": "markdown",
   "metadata": {
    "id": "eSjWwsOh_Zct"
   },
   "source": [
    "Выведем на экран список уникальных названий жанров, отсортированный в алфавитном порядке."
   ]
  },
  {
   "cell_type": "code",
   "execution_count": 16,
   "metadata": {
    "id": "JIUcqzZN_Zct"
   },
   "outputs": [
    {
     "data": {
      "text/plain": [
       "array(['acid', 'acoustic', 'action', 'adult', 'africa', 'afrikaans',\n",
       "       'alternative', 'alternativepunk', 'ambient', 'americana',\n",
       "       'animated', 'anime', 'arabesk', 'arabic', 'arena',\n",
       "       'argentinetango', 'art', 'audiobook', 'author', 'avantgarde',\n",
       "       'axé', 'baile', 'balkan', 'beats', 'bigroom', 'black', 'bluegrass',\n",
       "       'blues', 'bollywood', 'bossa', 'brazilian', 'breakbeat', 'breaks',\n",
       "       'broadway', 'cantautori', 'cantopop', 'canzone', 'caribbean',\n",
       "       'caucasian', 'celtic', 'chamber', 'chanson', 'children', 'chill',\n",
       "       'chinese', 'choral', 'christian', 'christmas', 'classical',\n",
       "       'classicmetal', 'club', 'colombian', 'comedy', 'conjazz',\n",
       "       'contemporary', 'country', 'cuban', 'dance', 'dancehall',\n",
       "       'dancepop', 'dark', 'death', 'deep', 'deutschrock', 'deutschspr',\n",
       "       'dirty', 'disco', 'dnb', 'documentary', 'downbeat', 'downtempo',\n",
       "       'drum', 'dub', 'dubstep', 'eastern', 'easy', 'electronic',\n",
       "       'electropop', 'emo', 'entehno', 'epicmetal', 'estrada', 'ethnic',\n",
       "       'eurofolk', 'european', 'experimental', 'extrememetal', 'fado',\n",
       "       'fairytail', 'film', 'fitness', 'flamenco', 'folk', 'folklore',\n",
       "       'folkmetal', 'folkrock', 'folktronica', 'forró', 'frankreich',\n",
       "       'französisch', 'french', 'funk', 'future', 'gangsta', 'garage',\n",
       "       'german', 'ghazal', 'gitarre', 'glitch', 'gospel', 'gothic',\n",
       "       'grime', 'grunge', 'gypsy', 'handsup', \"hard'n'heavy\", 'hardcore',\n",
       "       'hardstyle', 'hardtechno', 'hip', 'hip-hop', 'hiphop',\n",
       "       'historisch', 'holiday', 'hop', 'horror', 'house', 'hymn', 'idm',\n",
       "       'independent', 'indian', 'indie', 'indipop', 'industrial',\n",
       "       'inspirational', 'instrumental', 'international', 'irish', 'jam',\n",
       "       'japanese', 'jazz', 'jewish', 'jpop', 'jungle', 'k-pop',\n",
       "       'karadeniz', 'karaoke', 'kayokyoku', 'korean', 'laiko', 'latin',\n",
       "       'latino', 'leftfield', 'local', 'lounge', 'loungeelectronic',\n",
       "       'lovers', 'malaysian', 'mandopop', 'marschmusik', 'meditative',\n",
       "       'mediterranean', 'melodic', 'metal', 'metalcore', 'mexican',\n",
       "       'middle', 'minimal', 'miscellaneous', 'modern', 'mood', 'mpb',\n",
       "       'muslim', 'native', 'neoklassik', 'neue', 'new', 'newage',\n",
       "       'newwave', 'nu', 'nujazz', 'numetal', 'oceania', 'old', 'opera',\n",
       "       'orchestral', 'other', 'piano', 'podcasts', 'pop', 'popdance',\n",
       "       'popelectronic', 'popeurodance', 'poprussian', 'post',\n",
       "       'posthardcore', 'postrock', 'power', 'progmetal', 'progressive',\n",
       "       'psychedelic', 'punjabi', 'punk', 'quebecois', 'ragga', 'ram',\n",
       "       'rancheras', 'rap', 'rave', 'reggae', 'reggaeton', 'regional',\n",
       "       'relax', 'religious', 'retro', 'rhythm', 'rnb', 'rnr', 'rock',\n",
       "       'rockabilly', 'rockalternative', 'rockindie', 'rockother',\n",
       "       'romance', 'roots', 'ruspop', 'rusrap', 'rusrock', 'russian',\n",
       "       'salsa', 'samba', 'scenic', 'schlager', 'self', 'sertanejo',\n",
       "       'shanson', 'shoegazing', 'showtunes', 'singer', 'ska', 'skarock',\n",
       "       'slow', 'smooth', 'soft', 'soul', 'soulful', 'sound', 'soundtrack',\n",
       "       'southern', 'specialty', 'speech', 'spiritual', 'sport',\n",
       "       'stonerrock', 'surf', 'swing', 'synthpop', 'synthrock',\n",
       "       'sängerportrait', 'tango', 'tanzorchester', 'taraftar', 'tatar',\n",
       "       'tech', 'techno', 'teen', 'thrash', 'top', 'traditional',\n",
       "       'tradjazz', 'trance', 'tribal', 'trip', 'triphop', 'tropical',\n",
       "       'türk', 'türkçe', 'ukrrock', 'unknown', 'urban', 'uzbek',\n",
       "       'variété', 'vi', 'videogame', 'vocal', 'western', 'world',\n",
       "       'worldbeat', 'ïîï', 'электроника'], dtype=object)"
      ]
     },
     "execution_count": 16,
     "metadata": {},
     "output_type": "execute_result"
    }
   ],
   "source": [
    "# просматриваем необходимый столбец, сортируем и выводим уникальные значения. \n",
    "df_genre = df.loc[:, \"genre\"]\n",
    "df_gen = df_genre.sort_values(ascending=True)\n",
    "df[\"genre\"].sort_values().unique()"
   ]
  },
  {
   "cell_type": "markdown",
   "metadata": {
    "id": "qej-Qmuo_Zct"
   },
   "source": [
    "Просмотрим список и найдем неявные дубликаты."
   ]
  },
  {
   "cell_type": "code",
   "execution_count": 17,
   "metadata": {
    "id": "ErNDkmns_Zct"
   },
   "outputs": [],
   "source": [
    "# функция для замены неявных дубликатов\n",
    "def replace_wrong_genres(wrong_genres, correct_genre): \n",
    "    for wrong_genre in wrong_genres:\n",
    "        df[\"genre\"] = df[\"genre\"].replace(wrong_genre,correct_genre)"
   ]
  },
  {
   "cell_type": "code",
   "execution_count": 18,
   "metadata": {
    "id": "YN5i2hpmSo09"
   },
   "outputs": [],
   "source": [
    "# устраненяем неявные дубликаты\n",
    "wrong = [\"hip\",\"hop\",\"hip-hop\"]\n",
    "correct = \"hiphop\"\n",
    "replace_wrong_genres(wrong, correct)\n"
   ]
  },
  {
   "cell_type": "code",
   "execution_count": 19,
   "metadata": {
    "id": "wvixALnFG15m"
   },
   "outputs": [
    {
     "data": {
      "text/plain": [
       "array(['acid', 'acoustic', 'action', 'adult', 'africa', 'afrikaans',\n",
       "       'alternative', 'alternativepunk', 'ambient', 'americana',\n",
       "       'animated', 'anime', 'arabesk', 'arabic', 'arena',\n",
       "       'argentinetango', 'art', 'audiobook', 'author', 'avantgarde',\n",
       "       'axé', 'baile', 'balkan', 'beats', 'bigroom', 'black', 'bluegrass',\n",
       "       'blues', 'bollywood', 'bossa', 'brazilian', 'breakbeat', 'breaks',\n",
       "       'broadway', 'cantautori', 'cantopop', 'canzone', 'caribbean',\n",
       "       'caucasian', 'celtic', 'chamber', 'chanson', 'children', 'chill',\n",
       "       'chinese', 'choral', 'christian', 'christmas', 'classical',\n",
       "       'classicmetal', 'club', 'colombian', 'comedy', 'conjazz',\n",
       "       'contemporary', 'country', 'cuban', 'dance', 'dancehall',\n",
       "       'dancepop', 'dark', 'death', 'deep', 'deutschrock', 'deutschspr',\n",
       "       'dirty', 'disco', 'dnb', 'documentary', 'downbeat', 'downtempo',\n",
       "       'drum', 'dub', 'dubstep', 'eastern', 'easy', 'electronic',\n",
       "       'electropop', 'emo', 'entehno', 'epicmetal', 'estrada', 'ethnic',\n",
       "       'eurofolk', 'european', 'experimental', 'extrememetal', 'fado',\n",
       "       'fairytail', 'film', 'fitness', 'flamenco', 'folk', 'folklore',\n",
       "       'folkmetal', 'folkrock', 'folktronica', 'forró', 'frankreich',\n",
       "       'französisch', 'french', 'funk', 'future', 'gangsta', 'garage',\n",
       "       'german', 'ghazal', 'gitarre', 'glitch', 'gospel', 'gothic',\n",
       "       'grime', 'grunge', 'gypsy', 'handsup', \"hard'n'heavy\", 'hardcore',\n",
       "       'hardstyle', 'hardtechno', 'hiphop', 'historisch', 'holiday',\n",
       "       'horror', 'house', 'hymn', 'idm', 'independent', 'indian', 'indie',\n",
       "       'indipop', 'industrial', 'inspirational', 'instrumental',\n",
       "       'international', 'irish', 'jam', 'japanese', 'jazz', 'jewish',\n",
       "       'jpop', 'jungle', 'k-pop', 'karadeniz', 'karaoke', 'kayokyoku',\n",
       "       'korean', 'laiko', 'latin', 'latino', 'leftfield', 'local',\n",
       "       'lounge', 'loungeelectronic', 'lovers', 'malaysian', 'mandopop',\n",
       "       'marschmusik', 'meditative', 'mediterranean', 'melodic', 'metal',\n",
       "       'metalcore', 'mexican', 'middle', 'minimal', 'miscellaneous',\n",
       "       'modern', 'mood', 'mpb', 'muslim', 'native', 'neoklassik', 'neue',\n",
       "       'new', 'newage', 'newwave', 'nu', 'nujazz', 'numetal', 'oceania',\n",
       "       'old', 'opera', 'orchestral', 'other', 'piano', 'podcasts', 'pop',\n",
       "       'popdance', 'popelectronic', 'popeurodance', 'poprussian', 'post',\n",
       "       'posthardcore', 'postrock', 'power', 'progmetal', 'progressive',\n",
       "       'psychedelic', 'punjabi', 'punk', 'quebecois', 'ragga', 'ram',\n",
       "       'rancheras', 'rap', 'rave', 'reggae', 'reggaeton', 'regional',\n",
       "       'relax', 'religious', 'retro', 'rhythm', 'rnb', 'rnr', 'rock',\n",
       "       'rockabilly', 'rockalternative', 'rockindie', 'rockother',\n",
       "       'romance', 'roots', 'ruspop', 'rusrap', 'rusrock', 'russian',\n",
       "       'salsa', 'samba', 'scenic', 'schlager', 'self', 'sertanejo',\n",
       "       'shanson', 'shoegazing', 'showtunes', 'singer', 'ska', 'skarock',\n",
       "       'slow', 'smooth', 'soft', 'soul', 'soulful', 'sound', 'soundtrack',\n",
       "       'southern', 'specialty', 'speech', 'spiritual', 'sport',\n",
       "       'stonerrock', 'surf', 'swing', 'synthpop', 'synthrock',\n",
       "       'sängerportrait', 'tango', 'tanzorchester', 'taraftar', 'tatar',\n",
       "       'tech', 'techno', 'teen', 'thrash', 'top', 'traditional',\n",
       "       'tradjazz', 'trance', 'tribal', 'trip', 'triphop', 'tropical',\n",
       "       'türk', 'türkçe', 'ukrrock', 'unknown', 'urban', 'uzbek',\n",
       "       'variété', 'vi', 'videogame', 'vocal', 'western', 'world',\n",
       "       'worldbeat', 'ïîï', 'электроника'], dtype=object)"
      ]
     },
     "execution_count": 19,
     "metadata": {},
     "output_type": "execute_result"
    }
   ],
   "source": [
    "# проверяем на неявные дубликаты\n",
    "df[\"genre\"].sort_values().unique()"
   ]
  },
  {
   "cell_type": "markdown",
   "metadata": {
    "id": "jz6a9-7HQUDd"
   },
   "source": [
    "**Выводы**\n",
    "\n",
    "Обнаружили три проблемы в данных:\n",
    "\n",
    "- нарушения в стиле заголовков,\n",
    "- пропущенные значения,\n",
    "- дубликаты — явные и неявные.\n",
    "\n",
    "Все неточности скорректированы.  "
   ]
  },
  {
   "cell_type": "markdown",
   "metadata": {
    "id": "WttZHXH0SqKk"
   },
   "source": [
    "## Проверка гипотез"
   ]
  },
  {
   "cell_type": "markdown",
   "metadata": {
    "id": "Im936VVi_Zcu"
   },
   "source": [
    "### Сравнение поведения пользователей двух столиц"
   ]
  },
  {
   "cell_type": "markdown",
   "metadata": {
    "id": "nwt_MuaL_Zcu"
   },
   "source": [
    "Первая гипотеза утверждает, что пользователи по-разному слушают музыку в Москве и Санкт-Петербурге. Проверим это предположение по данным о трёх днях недели — понедельнике, среде и пятнице. Для этого:\n",
    "\n",
    "* Разделим пользователей Москвы и Санкт-Петербурга\n",
    "* Сравним, сколько треков послушала каждая группа пользователей в понедельник, среду и пятницу.\n"
   ]
  },
  {
   "cell_type": "code",
   "execution_count": 20,
   "metadata": {
    "id": "0_Qs96oh_Zcu"
   },
   "outputs": [
    {
     "data": {
      "text/plain": [
       "city\n",
       "Moscow              42741\n",
       "Saint-Petersburg    18512\n",
       "Name: genre, dtype: int64"
      ]
     },
     "execution_count": 20,
     "metadata": {},
     "output_type": "execute_result"
    }
   ],
   "source": [
    "# подсчитываем прослушивания в каждом городе.\n",
    "df.groupby(\"city\")[\"genre\"].count()"
   ]
  },
  {
   "cell_type": "markdown",
   "metadata": {
    "id": "dzli3w8o_Zcu"
   },
   "source": [
    "В Москве прослушиваний больше, чем в Петербурге. Из этого не следует, что московские пользователи чаще слушают музыку. Просто самих пользователей в Москве больше."
   ]
  },
  {
   "cell_type": "code",
   "execution_count": 21,
   "metadata": {
    "id": "uZMKjiJz_Zcu"
   },
   "outputs": [
    {
     "data": {
      "text/plain": [
       "day\n",
       "Friday       21840\n",
       "Monday       21354\n",
       "Wednesday    18059\n",
       "Name: genre, dtype: int64"
      ]
     },
     "execution_count": 21,
     "metadata": {},
     "output_type": "execute_result"
    }
   ],
   "source": [
    "# подсчитываем прослушивания в каждый из трёх дней\n",
    "df.groupby(\"day\")[\"genre\"].count()"
   ]
  },
  {
   "cell_type": "markdown",
   "metadata": {
    "id": "cC2tNrlL_Zcu"
   },
   "source": [
    "В среднем пользователи из двух городов менее активны по средам. Но картина может измениться, если рассмотреть каждый город в отдельности."
   ]
  },
  {
   "cell_type": "code",
   "execution_count": 22,
   "metadata": {
    "id": "Nz3GdQB1_Zcu",
    "scrolled": true
   },
   "outputs": [],
   "source": [
    "# создаем функцию для подсчета\n",
    "def number_tracks(day, city):\n",
    "    track_list=df[(df[\"day\"]==day) & (df[\"city\"]==city)]\n",
    "    track_list_count = track_list[\"user_id\"].count()\n",
    "    return track_list_count"
   ]
  },
  {
   "cell_type": "code",
   "execution_count": 23,
   "metadata": {
    "id": "rJcRATNQ_Zcu"
   },
   "outputs": [
    {
     "data": {
      "text/plain": [
       "15740"
      ]
     },
     "execution_count": 23,
     "metadata": {},
     "output_type": "execute_result"
    }
   ],
   "source": [
    "# количество прослушиваний в Москве по понедельникам\n",
    "number_tracks(\"Monday\", \"Moscow\")"
   ]
  },
  {
   "cell_type": "code",
   "execution_count": 24,
   "metadata": {
    "id": "hq_ncZ5T_Zcu"
   },
   "outputs": [
    {
     "data": {
      "text/plain": [
       "5614"
      ]
     },
     "execution_count": 24,
     "metadata": {},
     "output_type": "execute_result"
    }
   ],
   "source": [
    "# количество прослушиваний в Санкт-Петербурге по понедельникам\n",
    "number_tracks(\"Monday\", \"Saint-Petersburg\")"
   ]
  },
  {
   "cell_type": "code",
   "execution_count": 25,
   "metadata": {
    "id": "_NTy2VPU_Zcu"
   },
   "outputs": [
    {
     "data": {
      "text/plain": [
       "11056"
      ]
     },
     "execution_count": 25,
     "metadata": {},
     "output_type": "execute_result"
    }
   ],
   "source": [
    "# количество прослушиваний в Москве по средам\n",
    "number_tracks(\"Wednesday\", \"Moscow\")"
   ]
  },
  {
   "cell_type": "code",
   "execution_count": 26,
   "metadata": {
    "id": "j2y3TAwo_Zcu"
   },
   "outputs": [
    {
     "data": {
      "text/plain": [
       "7003"
      ]
     },
     "execution_count": 26,
     "metadata": {},
     "output_type": "execute_result"
    }
   ],
   "source": [
    "# количество прослушиваний в Санкт-Петербурге по средам\n",
    "number_tracks(\"Wednesday\", \"Saint-Petersburg\")"
   ]
  },
  {
   "cell_type": "code",
   "execution_count": 27,
   "metadata": {
    "id": "vYDw5u_K_Zcu"
   },
   "outputs": [
    {
     "data": {
      "text/plain": [
       "15945"
      ]
     },
     "execution_count": 27,
     "metadata": {},
     "output_type": "execute_result"
    }
   ],
   "source": [
    "# количество прослушиваний в Москве по пятницам\n",
    "number_tracks(\"Friday\", \"Moscow\")"
   ]
  },
  {
   "cell_type": "code",
   "execution_count": 28,
   "metadata": {
    "id": "8_yzFtW3_Zcu"
   },
   "outputs": [
    {
     "data": {
      "text/plain": [
       "5895"
      ]
     },
     "execution_count": 28,
     "metadata": {},
     "output_type": "execute_result"
    }
   ],
   "source": [
    "# количество прослушиваний в Санкт-Петербурге по пятницам\n",
    "number_tracks(\"Friday\", \"Saint-Petersburg\")"
   ]
  },
  {
   "cell_type": "code",
   "execution_count": 29,
   "metadata": {
    "id": "APAcLpOr_Zcu"
   },
   "outputs": [
    {
     "data": {
      "text/html": [
       "<div>\n",
       "<style scoped>\n",
       "    .dataframe tbody tr th:only-of-type {\n",
       "        vertical-align: middle;\n",
       "    }\n",
       "\n",
       "    .dataframe tbody tr th {\n",
       "        vertical-align: top;\n",
       "    }\n",
       "\n",
       "    .dataframe thead th {\n",
       "        text-align: right;\n",
       "    }\n",
       "</style>\n",
       "<table border=\"1\" class=\"dataframe\">\n",
       "  <thead>\n",
       "    <tr style=\"text-align: right;\">\n",
       "      <th></th>\n",
       "      <th>city</th>\n",
       "      <th>monday</th>\n",
       "      <th>wednesday</th>\n",
       "      <th>friday</th>\n",
       "    </tr>\n",
       "  </thead>\n",
       "  <tbody>\n",
       "    <tr>\n",
       "      <th>0</th>\n",
       "      <td>Moscow</td>\n",
       "      <td>15740</td>\n",
       "      <td>11056</td>\n",
       "      <td>15945</td>\n",
       "    </tr>\n",
       "    <tr>\n",
       "      <th>1</th>\n",
       "      <td>Saint-Petersburg</td>\n",
       "      <td>5614</td>\n",
       "      <td>7003</td>\n",
       "      <td>5895</td>\n",
       "    </tr>\n",
       "  </tbody>\n",
       "</table>\n",
       "</div>"
      ],
      "text/plain": [
       "               city  monday  wednesday  friday\n",
       "0            Moscow   15740      11056   15945\n",
       "1  Saint-Petersburg    5614       7003    5895"
      ]
     },
     "execution_count": 29,
     "metadata": {},
     "output_type": "execute_result"
    }
   ],
   "source": [
    "# Таблица с результатами\n",
    "data = [[\"Moscow\", 15740, 11056, 15945],\n",
    "       [\"Saint-Petersburg\", 5614, 7003, 5895]]\n",
    "columns = [\"city\",\"monday\",\"wednesday\",\"friday\"]\n",
    "table = pd.DataFrame(data = data, columns = columns)\n",
    "table"
   ]
  },
  {
   "cell_type": "markdown",
   "metadata": {
    "id": "-EgPIHYu_Zcu"
   },
   "source": [
    "**Выводы**\n",
    "\n",
    "Данные показывают разницу поведения пользователей:\n",
    "\n",
    "- В Москве пик прослушиваний приходится на понедельник и пятницу, а в среду заметен спад.\n",
    "- В Петербурге, наоборот, больше слушают музыку по средам. Активность в понедельник и пятницу здесь почти в равной мере уступает среде.\n",
    "\n",
    "Значит, данные говорят в пользу первой гипотезы."
   ]
  },
  {
   "cell_type": "markdown",
   "metadata": {
    "id": "atZAxtq4_Zcu"
   },
   "source": [
    "### Музыка в начале и в конце недели"
   ]
  },
  {
   "cell_type": "markdown",
   "metadata": {
    "id": "eXrQqXFH_Zcu"
   },
   "source": [
    "Согласно второй гипотезе, утром в понедельник в Москве преобладают одни жанры, а в Петербурге — другие. Так же и вечером пятницы преобладают разные жанры — в зависимости от города."
   ]
  },
  {
   "cell_type": "code",
   "execution_count": 30,
   "metadata": {
    "id": "qeaFfM_P_Zcu"
   },
   "outputs": [],
   "source": [
    "# получение таблицы moscow_general из тех строк таблицы df, \n",
    "# для которых значение в столбце 'city' равно 'Moscow'\n",
    "moscow_general=df[df[\"city\"] == \"Moscow\"] "
   ]
  },
  {
   "cell_type": "code",
   "execution_count": 31,
   "metadata": {
    "id": "ORaVRKto_Zcu"
   },
   "outputs": [],
   "source": [
    "# получение таблицы spb_general из тех строк таблицы df,\n",
    "# для которых значение в столбце 'city' равно 'Saint-Petersburg'\n",
    "spb_general = df[df[\"city\"] == \"Saint-Petersburg\"]"
   ]
  },
  {
   "cell_type": "code",
   "execution_count": 32,
   "metadata": {
    "id": "laJT9BYl_Zcu"
   },
   "outputs": [],
   "source": [
    "# Функция для подсчета топ 10 жанров.\n",
    "def genre_weekday(df, day, time1, time2):\n",
    "    genre_df = df[(df[\"day\"]==day) & (df[\"time\"]>time1) & (df[\"time\"]<=time2)]\n",
    "    genre_df_sorted = genre_df.groupby(\"genre\")[\"genre\"].count().sort_values(ascending = False).head(10)\n",
    "    return genre_df_sorted.head(10)"
   ]
  },
  {
   "cell_type": "markdown",
   "metadata": {
    "id": "la2s2_PF_Zcu"
   },
   "source": [
    "Cравним результаты функции `genre_weekday()` для Москвы и Санкт-Петербурга в понедельник утром (с 7:00 до 11:00) и в пятницу вечером (с 17:00 до 23:00):"
   ]
  },
  {
   "cell_type": "code",
   "execution_count": 33,
   "metadata": {
    "id": "yz7itPUQ_Zcu"
   },
   "outputs": [
    {
     "data": {
      "text/plain": [
       "genre\n",
       "pop            781\n",
       "dance          549\n",
       "electronic     480\n",
       "rock           474\n",
       "hiphop         286\n",
       "ruspop         186\n",
       "world          181\n",
       "rusrap         175\n",
       "alternative    164\n",
       "unknown        161\n",
       "Name: genre, dtype: int64"
      ]
     },
     "execution_count": 33,
     "metadata": {},
     "output_type": "execute_result"
    }
   ],
   "source": [
    "# вызов функции для определенного времени. Понедельник/Москва.\n",
    "genre_weekday(moscow_general, \"Monday\", \"07:00\", \"11:00\")"
   ]
  },
  {
   "cell_type": "code",
   "execution_count": 34,
   "metadata": {
    "id": "kwUcHPdy_Zcu"
   },
   "outputs": [
    {
     "data": {
      "text/plain": [
       "genre\n",
       "pop            218\n",
       "dance          182\n",
       "rock           162\n",
       "electronic     147\n",
       "hiphop          80\n",
       "ruspop          64\n",
       "alternative     58\n",
       "rusrap          55\n",
       "jazz            44\n",
       "classical       40\n",
       "Name: genre, dtype: int64"
      ]
     },
     "execution_count": 34,
     "metadata": {},
     "output_type": "execute_result"
    }
   ],
   "source": [
    "# Понедельник/Санкт-Петербург.\n",
    "genre_weekday(spb_general, \"Monday\", \"07:00\", \"11:00\")"
   ]
  },
  {
   "cell_type": "code",
   "execution_count": 35,
   "metadata": {
    "id": "EzXVRE1o_Zcu"
   },
   "outputs": [
    {
     "data": {
      "text/plain": [
       "genre\n",
       "pop            713\n",
       "rock           517\n",
       "dance          495\n",
       "electronic     482\n",
       "hiphop         273\n",
       "world          208\n",
       "ruspop         170\n",
       "alternative    163\n",
       "classical      163\n",
       "rusrap         142\n",
       "Name: genre, dtype: int64"
      ]
     },
     "execution_count": 35,
     "metadata": {},
     "output_type": "execute_result"
    }
   ],
   "source": [
    "# Пятница/Москва.\n",
    "genre_weekday(moscow_general, \"Friday\", \"17:00\", \"23:00\")"
   ]
  },
  {
   "cell_type": "code",
   "execution_count": 36,
   "metadata": {
    "id": "JZaEKu5v_Zcu"
   },
   "outputs": [
    {
     "data": {
      "text/plain": [
       "genre\n",
       "pop            256\n",
       "electronic     216\n",
       "rock           216\n",
       "dance          210\n",
       "hiphop          97\n",
       "alternative     63\n",
       "jazz            61\n",
       "classical       60\n",
       "rusrap          59\n",
       "world           54\n",
       "Name: genre, dtype: int64"
      ]
     },
     "execution_count": 36,
     "metadata": {},
     "output_type": "execute_result"
    }
   ],
   "source": [
    "# Пятница/Санкт-Петербург.\n",
    "genre_weekday(spb_general, \"Friday\", \"17:00\", \"23:00\") "
   ]
  },
  {
   "cell_type": "markdown",
   "metadata": {
    "id": "wrCe4MNX_Zcu"
   },
   "source": [
    "**Выводы**\n",
    "\n",
    "Если сравнить топ-10 жанров в понедельник утром, можно сделать такие выводы:\n",
    "\n",
    "1. В Москве и Петербурге слушают похожую музыку. Единственное отличие — в московский рейтинг вошёл жанр “world”, а в петербургский — джаз и классика.\n",
    "\n",
    "2. В Москве пропущенных значений оказалось так много, что значение `'unknown'` заняло десятое место среди самых популярных жанров. Значит, пропущенные значения занимают существенную долю в данных и угрожают достоверности исследования.\n",
    "\n",
    "Вечер пятницы не меняет эту картину. Некоторые жанры поднимаются немного выше, другие спускаются, но в целом топ-10 остаётся тем же самым.\n",
    "\n",
    "Таким образом, вторая гипотеза подтвердилась лишь частично:\n",
    "* Пользователи слушают похожую музыку в начале недели и в конце.\n",
    "* Разница между Москвой и Петербургом не слишком выражена. В Москве чаще слушают русскую популярную музыку, в Петербурге — джаз.\n",
    "\n",
    "Однако пропуски в данных ставят под сомнение этот результат. В Москве их так много, что рейтинг топ-10 мог бы выглядеть иначе, если бы не утерянные  данные о жанрах."
   ]
  },
  {
   "cell_type": "markdown",
   "metadata": {
    "id": "JolODAqr_Zcu"
   },
   "source": [
    "### Жанровые предпочтения в Москве и Петербурге\n",
    "\n",
    "Гипотеза: Петербург — столица рэпа, музыку этого жанра там слушают чаще, чем в Москве.  А Москва — город контрастов, в котором, тем не менее, преобладает поп-музыка."
   ]
  },
  {
   "cell_type": "code",
   "execution_count": 37,
   "metadata": {
    "id": "r19lIPke_Zcu"
   },
   "outputs": [],
   "source": [
    "# топ 10 жанров в Москве\n",
    "moscow_genres=moscow_general.groupby(\"genre\")[\"genre\"].count().sort_values(ascending = False)"
   ]
  },
  {
   "cell_type": "code",
   "execution_count": 38,
   "metadata": {
    "id": "WhCSooF8_Zcv"
   },
   "outputs": [
    {
     "data": {
      "text/plain": [
       "genre\n",
       "pop            5892\n",
       "dance          4435\n",
       "rock           3965\n",
       "electronic     3786\n",
       "hiphop         2096\n",
       "classical      1616\n",
       "world          1432\n",
       "alternative    1379\n",
       "ruspop         1372\n",
       "rusrap         1161\n",
       "Name: genre, dtype: int64"
      ]
     },
     "execution_count": 38,
     "metadata": {},
     "output_type": "execute_result"
    }
   ],
   "source": [
    "# просмотр первых 10 строк moscow_genres\n",
    "moscow_genres.head(10)"
   ]
  },
  {
   "cell_type": "markdown",
   "metadata": {
    "id": "cnPG2vnN_Zcv"
   },
   "source": [
    "Повторим то же и для Петербурга.\n",
    "\n",
    "Сгруппируем таблицу `spb_general` по жанру. Посчитаем прослушивания треков каждого жанра. Результат отсортируем в порядке убывания."
   ]
  },
  {
   "cell_type": "code",
   "execution_count": 39,
   "metadata": {
    "id": "gluLIpE7_Zcv"
   },
   "outputs": [],
   "source": [
    "# топ 10 жанров в Санкт-Петербурге\n",
    "spb_genres=spb_general.groupby(\"genre\")[\"genre\"].count().sort_values(ascending=False)"
   ]
  },
  {
   "cell_type": "code",
   "execution_count": 40,
   "metadata": {
    "id": "uaGJHjVU_Zcv"
   },
   "outputs": [
    {
     "data": {
      "text/plain": [
       "genre\n",
       "pop            2431\n",
       "dance          1932\n",
       "rock           1879\n",
       "electronic     1736\n",
       "hiphop          960\n",
       "alternative     649\n",
       "classical       646\n",
       "rusrap          564\n",
       "ruspop          538\n",
       "world           515\n",
       "Name: genre, dtype: int64"
      ]
     },
     "execution_count": 40,
     "metadata": {},
     "output_type": "execute_result"
    }
   ],
   "source": [
    "# просмотр первых 10 строк spb_genres\n",
    "spb_genres.head(10)"
   ]
  },
  {
   "cell_type": "markdown",
   "metadata": {
    "id": "RY51YJYu_Zcv"
   },
   "source": [
    "**Выводы**"
   ]
  },
  {
   "cell_type": "markdown",
   "metadata": {
    "id": "nVhnJEm__Zcv"
   },
   "source": [
    "Гипотеза частично подтвердилась:\n",
    "* Поп-музыка — самый популярный жанр в Москве, как и предполагала гипотеза. Более того, в топ-10 жанров встречается близкий жанр — русская популярная музыка.\n",
    "* Вопреки ожиданиям, рэп одинаково популярен в Москве и Петербурге. \n"
   ]
  },
  {
   "cell_type": "markdown",
   "metadata": {
    "id": "ykKQ0N65_Zcv"
   },
   "source": [
    "## Итоги исследования"
   ]
  },
  {
   "cell_type": "markdown",
   "metadata": {
    "id": "tjUwbHb3_Zcv"
   },
   "source": [
    "Мы проверили три гипотезы и установили:\n",
    "\n",
    "1. День недели по-разному влияет на активность пользователей в Москве и Петербурге. \n",
    "\n",
    "Первая гипотеза полностью подтвердилась.\n",
    "\n",
    "2. Музыкальные предпочтения не сильно меняются в течение недели — будь то Москва или Петербург. Небольшие различия заметны в начале недели, по понедельникам:\n",
    "* в Москве слушают музыку жанра “world”,\n",
    "* в Петербурге — джаз и классику.\n",
    "\n",
    "Таким образом, вторая гипотеза подтвердилась лишь отчасти. Этот результат мог оказаться иным, если бы не пропуски в данных.\n",
    "\n",
    "3. Во вкусах пользователей Москвы и Петербурга больше общего чем различий. Вопреки ожиданиям, предпочтения жанров в Петербурге напоминают московские.\n",
    "\n",
    "Третья гипотеза не подтвердилась. Если различия в предпочтениях и существуют, на основной массе пользователей они незаметны."
   ]
  }
 ],
 "metadata": {
  "ExecuteTimeLog": [
   {
    "duration": 51,
    "start_time": "2022-05-05T10:20:51.057Z"
   },
   {
    "duration": 5,
    "start_time": "2022-05-05T10:21:44.441Z"
   },
   {
    "duration": 7,
    "start_time": "2022-05-05T10:22:05.667Z"
   },
   {
    "duration": 401,
    "start_time": "2022-05-05T10:22:40.880Z"
   },
   {
    "duration": 161,
    "start_time": "2022-05-05T10:22:59.245Z"
   },
   {
    "duration": 17,
    "start_time": "2022-05-05T10:23:13.468Z"
   },
   {
    "duration": 31,
    "start_time": "2022-05-05T10:24:11.753Z"
   },
   {
    "duration": 38,
    "start_time": "2022-05-05T10:41:55.605Z"
   },
   {
    "duration": 10,
    "start_time": "2022-05-05T10:46:41.302Z"
   },
   {
    "duration": 10,
    "start_time": "2022-05-05T10:48:59.082Z"
   },
   {
    "duration": 3,
    "start_time": "2022-05-05T10:53:20.926Z"
   },
   {
    "duration": 4,
    "start_time": "2022-05-05T10:53:50.082Z"
   },
   {
    "duration": 9,
    "start_time": "2022-05-05T10:54:48.233Z"
   },
   {
    "duration": 9,
    "start_time": "2022-05-05T10:55:40.223Z"
   },
   {
    "duration": 8,
    "start_time": "2022-05-05T10:55:58.095Z"
   },
   {
    "duration": 8,
    "start_time": "2022-05-05T10:57:05.510Z"
   },
   {
    "duration": 7,
    "start_time": "2022-05-05T10:57:28.217Z"
   },
   {
    "duration": 11,
    "start_time": "2022-05-05T10:57:59.054Z"
   },
   {
    "duration": 4,
    "start_time": "2022-05-05T11:00:27.207Z"
   },
   {
    "duration": 12,
    "start_time": "2022-05-05T11:02:08.914Z"
   },
   {
    "duration": 9,
    "start_time": "2022-05-05T11:02:39.530Z"
   },
   {
    "duration": 3,
    "start_time": "2022-05-05T11:03:16.116Z"
   },
   {
    "duration": 8,
    "start_time": "2022-05-05T11:03:34.356Z"
   },
   {
    "duration": 10,
    "start_time": "2022-05-05T11:04:36.365Z"
   },
   {
    "duration": 11,
    "start_time": "2022-05-05T11:06:37.292Z"
   },
   {
    "duration": 3,
    "start_time": "2022-05-05T11:06:47.176Z"
   },
   {
    "duration": 11,
    "start_time": "2022-05-05T11:15:15.578Z"
   },
   {
    "duration": 15,
    "start_time": "2022-05-05T11:15:44.082Z"
   },
   {
    "duration": 18,
    "start_time": "2022-05-05T11:16:40.271Z"
   },
   {
    "duration": 14,
    "start_time": "2022-05-05T11:16:59.981Z"
   },
   {
    "duration": 11,
    "start_time": "2022-05-05T11:17:11.161Z"
   },
   {
    "duration": 4,
    "start_time": "2022-05-05T11:19:49.897Z"
   },
   {
    "duration": 0,
    "start_time": "2022-05-05T11:20:04.814Z"
   },
   {
    "duration": 3,
    "start_time": "2022-05-05T11:23:24.607Z"
   },
   {
    "duration": 6,
    "start_time": "2022-05-05T11:23:55.962Z"
   },
   {
    "duration": 10,
    "start_time": "2022-05-05T11:33:48.497Z"
   },
   {
    "duration": 18,
    "start_time": "2022-05-05T11:33:54.571Z"
   },
   {
    "duration": 11,
    "start_time": "2022-05-05T11:35:54.776Z"
   },
   {
    "duration": 7,
    "start_time": "2022-05-05T11:37:00.830Z"
   },
   {
    "duration": 5,
    "start_time": "2022-05-05T11:37:49.522Z"
   },
   {
    "duration": 28,
    "start_time": "2022-05-05T11:53:03.970Z"
   },
   {
    "duration": 27,
    "start_time": "2022-05-05T12:37:31.053Z"
   },
   {
    "duration": 3571,
    "start_time": "2022-05-05T12:37:35.336Z"
   },
   {
    "duration": 3532,
    "start_time": "2022-05-05T12:41:22.713Z"
   },
   {
    "duration": 0,
    "start_time": "2022-05-05T12:41:57.360Z"
   },
   {
    "duration": 29,
    "start_time": "2022-05-05T12:42:04.430Z"
   },
   {
    "duration": 3299,
    "start_time": "2022-05-05T12:43:14.393Z"
   },
   {
    "duration": 3258,
    "start_time": "2022-05-05T12:43:56.792Z"
   },
   {
    "duration": 18,
    "start_time": "2022-05-05T12:46:25.664Z"
   },
   {
    "duration": 21,
    "start_time": "2022-05-05T12:46:29.327Z"
   },
   {
    "duration": 18,
    "start_time": "2022-05-05T12:46:33.038Z"
   },
   {
    "duration": 20,
    "start_time": "2022-05-05T12:46:37.042Z"
   },
   {
    "duration": 27,
    "start_time": "2022-05-05T12:46:45.468Z"
   },
   {
    "duration": 17,
    "start_time": "2022-05-05T12:46:55.163Z"
   },
   {
    "duration": 63,
    "start_time": "2022-05-05T12:49:02.315Z"
   },
   {
    "duration": 72,
    "start_time": "2022-05-05T12:51:18.466Z"
   },
   {
    "duration": 71,
    "start_time": "2022-05-05T13:02:59.780Z"
   },
   {
    "duration": 56,
    "start_time": "2022-05-05T13:03:27.908Z"
   },
   {
    "duration": 9,
    "start_time": "2022-05-05T13:20:38.214Z"
   },
   {
    "duration": 11,
    "start_time": "2022-05-05T13:26:31.019Z"
   },
   {
    "duration": 11,
    "start_time": "2022-05-05T13:26:52.224Z"
   },
   {
    "duration": 56,
    "start_time": "2022-05-05T13:27:02.087Z"
   },
   {
    "duration": 55,
    "start_time": "2022-05-05T13:29:29.314Z"
   },
   {
    "duration": 53,
    "start_time": "2022-05-05T13:29:54.852Z"
   },
   {
    "duration": 56,
    "start_time": "2022-05-05T13:30:10.644Z"
   },
   {
    "duration": 9,
    "start_time": "2022-05-05T13:30:24.840Z"
   },
   {
    "duration": 56,
    "start_time": "2022-05-05T13:36:07.502Z"
   },
   {
    "duration": 57,
    "start_time": "2022-05-05T13:36:25.391Z"
   },
   {
    "duration": 286,
    "start_time": "2022-05-05T13:37:40.535Z"
   },
   {
    "duration": 231,
    "start_time": "2022-05-05T13:37:48.349Z"
   },
   {
    "duration": 243,
    "start_time": "2022-05-05T13:37:56.202Z"
   },
   {
    "duration": 237,
    "start_time": "2022-05-05T13:38:03.781Z"
   },
   {
    "duration": 54,
    "start_time": "2022-05-05T13:38:10.423Z"
   },
   {
    "duration": 7,
    "start_time": "2022-05-05T13:49:52.720Z"
   },
   {
    "duration": 7,
    "start_time": "2022-05-05T13:49:58.370Z"
   },
   {
    "duration": 11,
    "start_time": "2022-05-05T13:51:06.155Z"
   },
   {
    "duration": 11,
    "start_time": "2022-05-05T13:51:16.861Z"
   },
   {
    "duration": 7,
    "start_time": "2022-05-05T13:51:28.380Z"
   },
   {
    "duration": 9,
    "start_time": "2022-05-05T13:55:17.055Z"
   },
   {
    "duration": 1972,
    "start_time": "2022-05-05T13:55:33.224Z"
   },
   {
    "duration": 311,
    "start_time": "2022-05-05T13:55:35.417Z"
   },
   {
    "duration": 6,
    "start_time": "2022-05-05T13:55:44.676Z"
   },
   {
    "duration": 7,
    "start_time": "2022-05-05T13:55:48.367Z"
   },
   {
    "duration": 7,
    "start_time": "2022-05-05T13:55:52.542Z"
   },
   {
    "duration": 8,
    "start_time": "2022-05-05T13:58:18.574Z"
   },
   {
    "duration": 7,
    "start_time": "2022-05-05T13:59:09.939Z"
   },
   {
    "duration": 7,
    "start_time": "2022-05-05T14:02:08.138Z"
   },
   {
    "duration": 7,
    "start_time": "2022-05-05T14:02:12.087Z"
   },
   {
    "duration": 7,
    "start_time": "2022-05-05T14:02:25.631Z"
   },
   {
    "duration": 8,
    "start_time": "2022-05-05T14:02:31.405Z"
   },
   {
    "duration": 7,
    "start_time": "2022-05-05T14:04:30.090Z"
   },
   {
    "duration": 7,
    "start_time": "2022-05-05T14:04:41.406Z"
   },
   {
    "duration": 12,
    "start_time": "2022-05-05T14:05:22.039Z"
   },
   {
    "duration": 10,
    "start_time": "2022-05-05T14:05:41.212Z"
   },
   {
    "duration": 11,
    "start_time": "2022-05-05T14:05:47.157Z"
   },
   {
    "duration": 8,
    "start_time": "2022-05-05T14:06:11.348Z"
   },
   {
    "duration": 12,
    "start_time": "2022-05-05T14:08:21.312Z"
   },
   {
    "duration": 11,
    "start_time": "2022-05-05T14:08:33.544Z"
   },
   {
    "duration": 609,
    "start_time": "2022-05-05T14:13:47.028Z"
   },
   {
    "duration": 12,
    "start_time": "2022-05-05T14:13:54.550Z"
   },
   {
    "duration": 28,
    "start_time": "2022-05-05T14:14:09.572Z"
   },
   {
    "duration": 5,
    "start_time": "2022-05-05T14:14:18.636Z"
   },
   {
    "duration": 16,
    "start_time": "2022-05-05T14:14:24.828Z"
   },
   {
    "duration": 4,
    "start_time": "2022-05-05T14:14:36.696Z"
   },
   {
    "duration": 31,
    "start_time": "2022-05-05T14:14:42.119Z"
   },
   {
    "duration": 3552,
    "start_time": "2022-05-05T14:14:49.206Z"
   },
   {
    "duration": 3199,
    "start_time": "2022-05-05T14:14:57.903Z"
   },
   {
    "duration": 27,
    "start_time": "2022-05-05T14:15:28.247Z"
   },
   {
    "duration": 0,
    "start_time": "2022-05-05T14:15:52.364Z"
   },
   {
    "duration": 5117,
    "start_time": "2022-05-05T14:15:54.475Z"
   },
   {
    "duration": 0,
    "start_time": "2022-05-05T14:15:59.593Z"
   },
   {
    "duration": 20,
    "start_time": "2022-05-05T14:16:09.483Z"
   },
   {
    "duration": 27,
    "start_time": "2022-05-05T14:16:14.244Z"
   },
   {
    "duration": 19,
    "start_time": "2022-05-05T14:16:19.299Z"
   },
   {
    "duration": 27,
    "start_time": "2022-05-05T14:16:22.238Z"
   },
   {
    "duration": 80,
    "start_time": "2022-05-05T14:16:28.118Z"
   },
   {
    "duration": 79,
    "start_time": "2022-05-05T14:16:34.903Z"
   },
   {
    "duration": 57,
    "start_time": "2022-05-05T14:16:38.347Z"
   },
   {
    "duration": 25,
    "start_time": "2022-05-05T14:17:54.830Z"
   },
   {
    "duration": 61,
    "start_time": "2022-05-05T14:18:13.139Z"
   },
   {
    "duration": 62,
    "start_time": "2022-05-05T14:18:17.765Z"
   },
   {
    "duration": 62,
    "start_time": "2022-05-05T14:18:32.990Z"
   },
   {
    "duration": 16,
    "start_time": "2022-05-05T14:18:38.095Z"
   },
   {
    "duration": 72,
    "start_time": "2022-05-05T14:19:29.405Z"
   },
   {
    "duration": 3,
    "start_time": "2022-05-05T14:20:21.681Z"
   },
   {
    "duration": 189,
    "start_time": "2022-05-05T14:20:26.015Z"
   },
   {
    "duration": 13,
    "start_time": "2022-05-05T14:20:28.460Z"
   },
   {
    "duration": 29,
    "start_time": "2022-05-05T14:20:33.691Z"
   },
   {
    "duration": 5,
    "start_time": "2022-05-05T14:20:55.349Z"
   },
   {
    "duration": 33,
    "start_time": "2022-05-05T14:20:59.455Z"
   },
   {
    "duration": 3687,
    "start_time": "2022-05-05T14:21:28.186Z"
   },
   {
    "duration": 0,
    "start_time": "2022-05-05T14:22:06.667Z"
   },
   {
    "duration": 3513,
    "start_time": "2022-05-05T14:22:08.126Z"
   },
   {
    "duration": 0,
    "start_time": "2022-05-05T14:22:39.912Z"
   },
   {
    "duration": 26,
    "start_time": "2022-05-05T14:22:43.685Z"
   },
   {
    "duration": 26,
    "start_time": "2022-05-05T14:22:46.176Z"
   },
   {
    "duration": 3377,
    "start_time": "2022-05-05T14:23:15.120Z"
   },
   {
    "duration": 44,
    "start_time": "2022-05-05T14:23:19.524Z"
   },
   {
    "duration": 4,
    "start_time": "2022-05-05T14:24:09.802Z"
   },
   {
    "duration": 8,
    "start_time": "2022-05-05T14:24:15.196Z"
   },
   {
    "duration": 5,
    "start_time": "2022-05-05T14:24:20.260Z"
   },
   {
    "duration": 42,
    "start_time": "2022-05-05T14:24:38.891Z"
   },
   {
    "duration": 27,
    "start_time": "2022-05-05T14:24:52.250Z"
   },
   {
    "duration": 32,
    "start_time": "2022-05-05T14:24:57.162Z"
   },
   {
    "duration": 69,
    "start_time": "2022-05-05T14:25:04.256Z"
   },
   {
    "duration": 77,
    "start_time": "2022-05-05T14:25:09.303Z"
   },
   {
    "duration": 65,
    "start_time": "2022-05-05T14:25:11.914Z"
   },
   {
    "duration": 0,
    "start_time": "2022-05-05T14:25:28.816Z"
   },
   {
    "duration": 3682,
    "start_time": "2022-05-05T14:25:47.619Z"
   },
   {
    "duration": 6,
    "start_time": "2022-05-05T14:26:08.097Z"
   },
   {
    "duration": 6,
    "start_time": "2022-05-05T14:26:10.248Z"
   },
   {
    "duration": 6,
    "start_time": "2022-05-05T14:26:13.470Z"
   },
   {
    "duration": 6,
    "start_time": "2022-05-05T14:29:31.717Z"
   },
   {
    "duration": 11,
    "start_time": "2022-05-05T14:29:48.433Z"
   },
   {
    "duration": 6,
    "start_time": "2022-05-05T14:30:33.578Z"
   },
   {
    "duration": 7,
    "start_time": "2022-05-05T14:30:38.019Z"
   },
   {
    "duration": 6,
    "start_time": "2022-05-05T14:30:40.376Z"
   },
   {
    "duration": 6,
    "start_time": "2022-05-05T14:31:04.818Z"
   },
   {
    "duration": 8,
    "start_time": "2022-05-05T14:31:12.880Z"
   },
   {
    "duration": 14,
    "start_time": "2022-05-05T14:33:28.735Z"
   },
   {
    "duration": 12,
    "start_time": "2022-05-05T14:33:44.068Z"
   },
   {
    "duration": 11,
    "start_time": "2022-05-05T14:34:05.741Z"
   },
   {
    "duration": 15,
    "start_time": "2022-05-05T14:34:52.655Z"
   },
   {
    "duration": 13,
    "start_time": "2022-05-05T14:34:58.436Z"
   },
   {
    "duration": 11,
    "start_time": "2022-05-05T14:35:07.006Z"
   },
   {
    "duration": 16,
    "start_time": "2022-05-05T14:35:16.486Z"
   },
   {
    "duration": 11,
    "start_time": "2022-05-05T14:35:21.382Z"
   },
   {
    "duration": 16,
    "start_time": "2022-05-05T14:38:44.708Z"
   },
   {
    "duration": 10,
    "start_time": "2022-05-05T14:47:38.100Z"
   },
   {
    "duration": 10,
    "start_time": "2022-05-05T14:48:42.360Z"
   },
   {
    "duration": 14,
    "start_time": "2022-05-05T15:02:53.373Z"
   },
   {
    "duration": 12,
    "start_time": "2022-05-05T15:03:08.863Z"
   },
   {
    "duration": 13,
    "start_time": "2022-05-05T15:04:40.019Z"
   },
   {
    "duration": 17,
    "start_time": "2022-05-05T15:05:06.833Z"
   },
   {
    "duration": 11,
    "start_time": "2022-05-05T15:05:20.845Z"
   },
   {
    "duration": 10,
    "start_time": "2022-05-05T15:05:42.658Z"
   },
   {
    "duration": 11,
    "start_time": "2022-05-05T15:05:57.309Z"
   },
   {
    "duration": 11,
    "start_time": "2022-05-05T15:06:34.238Z"
   },
   {
    "duration": 11,
    "start_time": "2022-05-05T15:08:14.207Z"
   },
   {
    "duration": 8,
    "start_time": "2022-05-05T15:08:43.654Z"
   },
   {
    "duration": 4,
    "start_time": "2022-05-05T15:14:49.535Z"
   },
   {
    "duration": 13,
    "start_time": "2022-05-05T15:30:49.122Z"
   },
   {
    "duration": 12,
    "start_time": "2022-05-05T15:43:57.182Z"
   },
   {
    "duration": 14,
    "start_time": "2022-05-05T15:44:18.354Z"
   },
   {
    "duration": 13,
    "start_time": "2022-05-05T15:44:30.018Z"
   },
   {
    "duration": 12,
    "start_time": "2022-05-05T15:44:36.944Z"
   },
   {
    "duration": 11,
    "start_time": "2022-05-05T15:44:50.722Z"
   },
   {
    "duration": 11,
    "start_time": "2022-05-05T15:45:56.799Z"
   },
   {
    "duration": 12,
    "start_time": "2022-05-05T16:21:15.912Z"
   },
   {
    "duration": 13,
    "start_time": "2022-05-05T16:21:22.080Z"
   },
   {
    "duration": 12,
    "start_time": "2022-05-05T16:21:35.156Z"
   },
   {
    "duration": 9,
    "start_time": "2022-05-05T16:29:19.824Z"
   },
   {
    "duration": 54,
    "start_time": "2022-05-05T16:34:24.620Z"
   },
   {
    "duration": 4,
    "start_time": "2022-05-05T16:44:02.579Z"
   },
   {
    "duration": 14,
    "start_time": "2022-05-05T16:46:58.179Z"
   },
   {
    "duration": 42,
    "start_time": "2022-05-05T16:47:14.255Z"
   },
   {
    "duration": 4,
    "start_time": "2022-05-05T16:50:49.694Z"
   },
   {
    "duration": 46,
    "start_time": "2022-05-05T16:50:56.018Z"
   },
   {
    "duration": 43,
    "start_time": "2022-05-05T16:51:50.411Z"
   },
   {
    "duration": 11,
    "start_time": "2022-05-05T16:56:21.327Z"
   },
   {
    "duration": 8,
    "start_time": "2022-05-05T16:56:33.178Z"
   },
   {
    "duration": 4,
    "start_time": "2022-05-05T16:58:32.538Z"
   },
   {
    "duration": 4,
    "start_time": "2022-05-05T16:58:39.419Z"
   },
   {
    "duration": 13,
    "start_time": "2022-05-05T16:58:45.088Z"
   },
   {
    "duration": 11,
    "start_time": "2022-05-05T16:58:58.523Z"
   },
   {
    "duration": 11,
    "start_time": "2022-05-05T16:59:02.929Z"
   },
   {
    "duration": 7,
    "start_time": "2022-05-05T16:59:08.318Z"
   },
   {
    "duration": 3,
    "start_time": "2022-05-05T16:59:17.670Z"
   },
   {
    "duration": 3,
    "start_time": "2022-05-05T16:59:24.372Z"
   },
   {
    "duration": 4,
    "start_time": "2022-05-05T16:59:46.988Z"
   },
   {
    "duration": 204,
    "start_time": "2022-05-05T17:00:56.628Z"
   },
   {
    "duration": 225,
    "start_time": "2022-05-05T17:01:14.652Z"
   },
   {
    "duration": 8,
    "start_time": "2022-05-05T17:04:10.313Z"
   },
   {
    "duration": 12,
    "start_time": "2022-05-05T17:07:33.156Z"
   },
   {
    "duration": 12,
    "start_time": "2022-05-05T17:07:45.104Z"
   },
   {
    "duration": 51,
    "start_time": "2022-05-05T17:08:19.956Z"
   },
   {
    "duration": 9,
    "start_time": "2022-05-05T17:08:48.083Z"
   },
   {
    "duration": 9,
    "start_time": "2022-05-05T17:08:55.606Z"
   },
   {
    "duration": 10,
    "start_time": "2022-05-05T17:09:06.459Z"
   },
   {
    "duration": 41,
    "start_time": "2022-05-05T17:09:29.655Z"
   },
   {
    "duration": 7,
    "start_time": "2022-05-05T17:09:41.437Z"
   },
   {
    "duration": 37,
    "start_time": "2022-05-05T17:11:27.482Z"
   },
   {
    "duration": 36,
    "start_time": "2022-05-05T17:12:53.156Z"
   },
   {
    "duration": 43,
    "start_time": "2022-05-05T17:13:32.385Z"
   },
   {
    "duration": 2382,
    "start_time": "2022-05-05T17:13:38.882Z"
   },
   {
    "duration": 2455,
    "start_time": "2022-05-05T17:13:48.719Z"
   },
   {
    "duration": 2633,
    "start_time": "2022-05-05T17:14:07.091Z"
   },
   {
    "duration": 3440,
    "start_time": "2022-05-05T17:14:11.049Z"
   },
   {
    "duration": 41,
    "start_time": "2022-05-05T17:14:26.098Z"
   },
   {
    "duration": 0,
    "start_time": "2022-05-05T17:15:07.282Z"
   },
   {
    "duration": 44,
    "start_time": "2022-05-05T17:15:14.512Z"
   },
   {
    "duration": 14,
    "start_time": "2022-05-05T18:18:14.519Z"
   },
   {
    "duration": 8,
    "start_time": "2022-05-05T18:18:33.823Z"
   },
   {
    "duration": 8,
    "start_time": "2022-05-05T18:18:57.626Z"
   },
   {
    "duration": 7,
    "start_time": "2022-05-05T18:19:09.232Z"
   },
   {
    "duration": 7,
    "start_time": "2022-05-05T18:19:13.329Z"
   },
   {
    "duration": 6,
    "start_time": "2022-05-05T18:19:16.703Z"
   },
   {
    "duration": 15,
    "start_time": "2022-05-05T18:19:47.568Z"
   },
   {
    "duration": 14,
    "start_time": "2022-05-05T18:20:06.799Z"
   },
   {
    "duration": 12,
    "start_time": "2022-05-05T18:20:19.365Z"
   },
   {
    "duration": 53,
    "start_time": "2022-05-05T18:21:01.917Z"
   },
   {
    "duration": 37,
    "start_time": "2022-05-05T18:21:28.133Z"
   },
   {
    "duration": 40,
    "start_time": "2022-05-05T18:21:39.471Z"
   },
   {
    "duration": 2372,
    "start_time": "2022-05-05T18:22:27.075Z"
   },
   {
    "duration": 203,
    "start_time": "2022-05-05T18:34:20.369Z"
   },
   {
    "duration": 3,
    "start_time": "2022-05-05T18:45:55.850Z"
   },
   {
    "duration": 43,
    "start_time": "2022-05-05T18:46:07.781Z"
   },
   {
    "duration": 11,
    "start_time": "2022-05-05T18:47:16.442Z"
   },
   {
    "duration": 9,
    "start_time": "2022-05-05T18:47:27.016Z"
   },
   {
    "duration": 39,
    "start_time": "2022-05-05T18:47:47.239Z"
   },
   {
    "duration": 50,
    "start_time": "2022-05-05T18:48:56.605Z"
   },
   {
    "duration": 10,
    "start_time": "2022-05-05T18:49:35.538Z"
   },
   {
    "duration": 8,
    "start_time": "2022-05-05T18:50:06.303Z"
   },
   {
    "duration": 9,
    "start_time": "2022-05-05T18:50:31.115Z"
   },
   {
    "duration": 6,
    "start_time": "2022-05-05T18:50:45.743Z"
   },
   {
    "duration": 9,
    "start_time": "2022-05-05T18:50:55.783Z"
   },
   {
    "duration": 12,
    "start_time": "2022-05-05T18:51:36.091Z"
   },
   {
    "duration": 7,
    "start_time": "2022-05-05T18:51:49.687Z"
   },
   {
    "duration": 7,
    "start_time": "2022-05-05T18:52:04.226Z"
   },
   {
    "duration": 4,
    "start_time": "2022-05-05T18:52:06.054Z"
   },
   {
    "duration": 3,
    "start_time": "2022-05-05T18:52:11.782Z"
   },
   {
    "duration": 43,
    "start_time": "2022-05-05T18:53:26.190Z"
   },
   {
    "duration": 39,
    "start_time": "2022-05-05T18:55:28.561Z"
   },
   {
    "duration": 46,
    "start_time": "2022-05-05T18:59:04.447Z"
   },
   {
    "duration": 42,
    "start_time": "2022-05-05T19:00:53.335Z"
   },
   {
    "duration": 11,
    "start_time": "2022-05-06T08:12:42.265Z"
   },
   {
    "duration": 4,
    "start_time": "2022-05-06T08:12:45.330Z"
   },
   {
    "duration": 4,
    "start_time": "2022-05-06T08:20:19.535Z"
   },
   {
    "duration": 3,
    "start_time": "2022-05-06T08:21:38.797Z"
   },
   {
    "duration": 3,
    "start_time": "2022-05-06T08:29:24.603Z"
   },
   {
    "duration": 3,
    "start_time": "2022-05-06T08:29:27.178Z"
   },
   {
    "duration": 4,
    "start_time": "2022-05-06T08:29:38.646Z"
   },
   {
    "duration": 3,
    "start_time": "2022-05-06T08:29:40.443Z"
   },
   {
    "duration": 3,
    "start_time": "2022-05-06T08:29:54.643Z"
   },
   {
    "duration": 4,
    "start_time": "2022-05-06T08:29:57.080Z"
   },
   {
    "duration": 4,
    "start_time": "2022-05-06T08:29:59.673Z"
   },
   {
    "duration": 43,
    "start_time": "2022-05-06T08:30:06.875Z"
   },
   {
    "duration": 4,
    "start_time": "2022-05-06T08:30:15.664Z"
   },
   {
    "duration": 6,
    "start_time": "2022-05-06T08:30:50.876Z"
   },
   {
    "duration": 6,
    "start_time": "2022-05-06T08:30:57.090Z"
   },
   {
    "duration": 6,
    "start_time": "2022-05-06T08:31:14.641Z"
   },
   {
    "duration": 7,
    "start_time": "2022-05-06T08:31:21.602Z"
   },
   {
    "duration": 6,
    "start_time": "2022-05-06T08:31:23.583Z"
   },
   {
    "duration": 376,
    "start_time": "2022-05-06T08:31:26.897Z"
   },
   {
    "duration": 183,
    "start_time": "2022-05-06T08:31:29.253Z"
   },
   {
    "duration": 25,
    "start_time": "2022-05-06T08:31:32.182Z"
   },
   {
    "duration": 37,
    "start_time": "2022-05-06T08:31:35.717Z"
   },
   {
    "duration": 6,
    "start_time": "2022-05-06T08:31:43.029Z"
   },
   {
    "duration": 13,
    "start_time": "2022-05-06T08:31:46.481Z"
   },
   {
    "duration": 5,
    "start_time": "2022-05-06T08:31:49.904Z"
   },
   {
    "duration": 32,
    "start_time": "2022-05-06T08:31:53.772Z"
   },
   {
    "duration": 21,
    "start_time": "2022-05-06T08:31:58.286Z"
   },
   {
    "duration": 52,
    "start_time": "2022-05-06T08:32:01.312Z"
   },
   {
    "duration": 69,
    "start_time": "2022-05-06T08:32:05.286Z"
   },
   {
    "duration": 138,
    "start_time": "2022-05-06T08:32:09.844Z"
   },
   {
    "duration": 66,
    "start_time": "2022-05-06T08:32:12.679Z"
   },
   {
    "duration": 52,
    "start_time": "2022-05-06T08:32:15.765Z"
   },
   {
    "duration": 7,
    "start_time": "2022-05-06T08:32:34.177Z"
   },
   {
    "duration": 5,
    "start_time": "2022-05-06T08:32:37.279Z"
   },
   {
    "duration": 4,
    "start_time": "2022-05-06T08:32:48.372Z"
   },
   {
    "duration": 8,
    "start_time": "2022-05-06T08:33:00.070Z"
   },
   {
    "duration": 40,
    "start_time": "2022-05-06T08:33:22.705Z"
   },
   {
    "duration": 3,
    "start_time": "2022-05-06T08:37:16.536Z"
   },
   {
    "duration": 27,
    "start_time": "2022-05-06T08:37:56.768Z"
   },
   {
    "duration": 103,
    "start_time": "2022-05-06T08:38:15.411Z"
   },
   {
    "duration": 9,
    "start_time": "2022-05-06T08:38:27.369Z"
   },
   {
    "duration": 9,
    "start_time": "2022-05-06T08:38:54.282Z"
   },
   {
    "duration": 10,
    "start_time": "2022-05-06T08:39:11.785Z"
   },
   {
    "duration": 9,
    "start_time": "2022-05-06T08:39:34.473Z"
   },
   {
    "duration": 10,
    "start_time": "2022-05-06T08:39:50.407Z"
   },
   {
    "duration": 3,
    "start_time": "2022-05-06T08:39:57.371Z"
   },
   {
    "duration": 10,
    "start_time": "2022-05-06T08:40:01.029Z"
   },
   {
    "duration": 3,
    "start_time": "2022-05-06T08:41:07.482Z"
   },
   {
    "duration": 8,
    "start_time": "2022-05-06T08:43:29.719Z"
   },
   {
    "duration": 3,
    "start_time": "2022-05-06T08:43:59.879Z"
   },
   {
    "duration": 7,
    "start_time": "2022-05-06T08:44:01.599Z"
   },
   {
    "duration": 111,
    "start_time": "2022-05-06T08:45:59.599Z"
   },
   {
    "duration": 4,
    "start_time": "2022-05-06T08:46:06.867Z"
   },
   {
    "duration": 113,
    "start_time": "2022-05-06T08:46:23.163Z"
   },
   {
    "duration": 3,
    "start_time": "2022-05-06T08:46:32.510Z"
   },
   {
    "duration": 101,
    "start_time": "2022-05-06T08:50:51.717Z"
   },
   {
    "duration": 13,
    "start_time": "2022-05-06T08:51:04.956Z"
   },
   {
    "duration": 43,
    "start_time": "2022-05-06T08:52:22.610Z"
   },
   {
    "duration": 19,
    "start_time": "2022-05-06T08:53:19.537Z"
   },
   {
    "duration": 11,
    "start_time": "2022-05-06T08:54:29.872Z"
   },
   {
    "duration": 16,
    "start_time": "2022-05-06T08:57:28.238Z"
   },
   {
    "duration": 38,
    "start_time": "2022-05-06T08:58:26.261Z"
   },
   {
    "duration": 67,
    "start_time": "2022-05-06T08:59:51.168Z"
   },
   {
    "duration": 77,
    "start_time": "2022-05-06T09:00:11.507Z"
   },
   {
    "duration": 3,
    "start_time": "2022-05-06T09:00:17.973Z"
   },
   {
    "duration": 11,
    "start_time": "2022-05-06T09:00:20.826Z"
   },
   {
    "duration": 12,
    "start_time": "2022-05-06T09:00:42.961Z"
   },
   {
    "duration": 120,
    "start_time": "2022-05-06T09:02:05.802Z"
   },
   {
    "duration": 104,
    "start_time": "2022-05-06T09:02:13.956Z"
   },
   {
    "duration": 105,
    "start_time": "2022-05-06T09:02:21.781Z"
   },
   {
    "duration": 3,
    "start_time": "2022-05-06T09:03:54.715Z"
   },
   {
    "duration": 43,
    "start_time": "2022-05-06T09:03:58.816Z"
   },
   {
    "duration": 11,
    "start_time": "2022-05-06T09:19:56.030Z"
   },
   {
    "duration": 10,
    "start_time": "2022-05-06T09:20:24.686Z"
   },
   {
    "duration": 10,
    "start_time": "2022-05-06T09:20:37.871Z"
   },
   {
    "duration": 135,
    "start_time": "2022-05-06T09:20:59.966Z"
   },
   {
    "duration": 7,
    "start_time": "2022-05-06T09:21:07.192Z"
   },
   {
    "duration": 10,
    "start_time": "2022-05-06T09:22:03.204Z"
   },
   {
    "duration": 123,
    "start_time": "2022-05-06T09:23:55.987Z"
   },
   {
    "duration": 7,
    "start_time": "2022-05-06T09:24:00.506Z"
   },
   {
    "duration": 10,
    "start_time": "2022-05-06T09:24:20.213Z"
   },
   {
    "duration": 126,
    "start_time": "2022-05-06T09:24:46.211Z"
   },
   {
    "duration": 142,
    "start_time": "2022-05-06T09:25:49.023Z"
   },
   {
    "duration": 11,
    "start_time": "2022-05-06T09:25:52.670Z"
   },
   {
    "duration": 4,
    "start_time": "2022-05-06T09:26:22.437Z"
   },
   {
    "duration": 11,
    "start_time": "2022-05-06T09:37:45.181Z"
   },
   {
    "duration": 10,
    "start_time": "2022-05-06T09:37:55.588Z"
   },
   {
    "duration": 10,
    "start_time": "2022-05-06T09:39:23.074Z"
   },
   {
    "duration": 85,
    "start_time": "2022-05-06T09:40:12.238Z"
   },
   {
    "duration": 87,
    "start_time": "2022-05-06T09:40:21.217Z"
   },
   {
    "duration": 132,
    "start_time": "2022-05-06T09:40:37.473Z"
   },
   {
    "duration": 3,
    "start_time": "2022-05-06T09:40:45.840Z"
   },
   {
    "duration": 10,
    "start_time": "2022-05-06T09:40:52.989Z"
   },
   {
    "duration": 9,
    "start_time": "2022-05-06T09:41:10.633Z"
   },
   {
    "duration": 37,
    "start_time": "2022-05-06T09:41:38.602Z"
   },
   {
    "duration": 41,
    "start_time": "2022-05-06T09:43:24.365Z"
   },
   {
    "duration": 17,
    "start_time": "2022-05-06T10:05:21.443Z"
   },
   {
    "duration": 11,
    "start_time": "2022-05-06T10:09:06.363Z"
   },
   {
    "duration": 12,
    "start_time": "2022-05-06T10:10:11.302Z"
   },
   {
    "duration": 3,
    "start_time": "2022-05-06T10:19:36.284Z"
   },
   {
    "duration": 3,
    "start_time": "2022-05-06T10:21:10.112Z"
   },
   {
    "duration": 8,
    "start_time": "2022-05-06T10:33:28.708Z"
   },
   {
    "duration": 8,
    "start_time": "2022-05-06T10:38:22.335Z"
   },
   {
    "duration": 3,
    "start_time": "2022-05-06T10:44:09.238Z"
   },
   {
    "duration": 47,
    "start_time": "2022-05-06T10:46:37.915Z"
   },
   {
    "duration": 8,
    "start_time": "2022-05-06T10:46:45.868Z"
   },
   {
    "duration": 7,
    "start_time": "2022-05-06T10:46:50.471Z"
   },
   {
    "duration": 4,
    "start_time": "2022-05-06T10:47:13.740Z"
   },
   {
    "duration": 6,
    "start_time": "2022-05-06T10:47:20.430Z"
   },
   {
    "duration": 6,
    "start_time": "2022-05-06T10:47:48.727Z"
   },
   {
    "duration": 5,
    "start_time": "2022-05-06T10:48:08.667Z"
   },
   {
    "duration": 6,
    "start_time": "2022-05-06T10:48:15.510Z"
   },
   {
    "duration": 5,
    "start_time": "2022-05-06T10:49:04.511Z"
   },
   {
    "duration": 6,
    "start_time": "2022-05-06T10:50:25.998Z"
   },
   {
    "duration": 6,
    "start_time": "2022-05-06T10:50:38.667Z"
   },
   {
    "duration": 347,
    "start_time": "2022-05-06T10:50:45.396Z"
   },
   {
    "duration": 144,
    "start_time": "2022-05-06T10:50:49.597Z"
   },
   {
    "duration": 16,
    "start_time": "2022-05-06T10:50:51.567Z"
   },
   {
    "duration": 29,
    "start_time": "2022-05-06T10:50:54.931Z"
   },
   {
    "duration": 4,
    "start_time": "2022-05-06T10:50:59.947Z"
   },
   {
    "duration": 12,
    "start_time": "2022-05-06T10:51:03.355Z"
   },
   {
    "duration": 4,
    "start_time": "2022-05-06T10:51:05.326Z"
   },
   {
    "duration": 24,
    "start_time": "2022-05-06T10:51:07.506Z"
   },
   {
    "duration": 20,
    "start_time": "2022-05-06T10:51:10.384Z"
   },
   {
    "duration": 24,
    "start_time": "2022-05-06T10:51:11.933Z"
   },
   {
    "duration": 65,
    "start_time": "2022-05-06T10:51:13.821Z"
   },
   {
    "duration": 71,
    "start_time": "2022-05-06T10:51:15.183Z"
   },
   {
    "duration": 57,
    "start_time": "2022-05-06T10:51:16.498Z"
   },
   {
    "duration": 71,
    "start_time": "2022-05-06T10:51:19.567Z"
   },
   {
    "duration": 3,
    "start_time": "2022-05-06T10:51:22.411Z"
   },
   {
    "duration": 10,
    "start_time": "2022-05-06T10:51:23.822Z"
   },
   {
    "duration": 37,
    "start_time": "2022-05-06T10:51:26.609Z"
   },
   {
    "duration": 11,
    "start_time": "2022-05-06T10:51:31.831Z"
   },
   {
    "duration": 12,
    "start_time": "2022-05-06T10:51:33.930Z"
   },
   {
    "duration": 3,
    "start_time": "2022-05-06T10:51:37.843Z"
   },
   {
    "duration": 27,
    "start_time": "2022-05-06T10:51:39.786Z"
   },
   {
    "duration": 17,
    "start_time": "2022-05-06T10:51:54.538Z"
   },
   {
    "duration": 7,
    "start_time": "2022-05-06T10:52:04.225Z"
   },
   {
    "duration": 15,
    "start_time": "2022-05-06T10:52:34.035Z"
   },
   {
    "duration": 14,
    "start_time": "2022-05-06T10:52:47.136Z"
   },
   {
    "duration": 14,
    "start_time": "2022-05-06T10:53:34.789Z"
   },
   {
    "duration": 16,
    "start_time": "2022-05-06T12:07:15.891Z"
   },
   {
    "duration": 14,
    "start_time": "2022-05-06T12:07:44.403Z"
   },
   {
    "duration": 17,
    "start_time": "2022-05-06T12:08:12.448Z"
   },
   {
    "duration": 14,
    "start_time": "2022-05-06T12:09:06.725Z"
   },
   {
    "duration": 4,
    "start_time": "2022-05-06T12:28:47.288Z"
   },
   {
    "duration": 13,
    "start_time": "2022-05-06T12:28:56.201Z"
   },
   {
    "duration": 9,
    "start_time": "2022-05-06T12:33:33.814Z"
   },
   {
    "duration": 112,
    "start_time": "2022-05-06T12:38:42.238Z"
   },
   {
    "duration": 4,
    "start_time": "2022-05-06T12:38:51.495Z"
   },
   {
    "duration": 3,
    "start_time": "2022-05-06T12:38:57.193Z"
   },
   {
    "duration": 137,
    "start_time": "2022-05-06T12:40:51.409Z"
   },
   {
    "duration": 111,
    "start_time": "2022-05-06T12:43:00.569Z"
   },
   {
    "duration": 229,
    "start_time": "2022-05-06T12:43:10.570Z"
   },
   {
    "duration": 104,
    "start_time": "2022-05-06T12:44:12.974Z"
   },
   {
    "duration": 116,
    "start_time": "2022-05-06T12:47:43.990Z"
   },
   {
    "duration": 140,
    "start_time": "2022-05-06T12:48:06.947Z"
   },
   {
    "duration": 108,
    "start_time": "2022-05-06T12:48:23.544Z"
   },
   {
    "duration": 140,
    "start_time": "2022-05-06T12:48:36.843Z"
   },
   {
    "duration": 189,
    "start_time": "2022-05-06T12:49:01.207Z"
   },
   {
    "duration": 116,
    "start_time": "2022-05-06T12:49:30.344Z"
   },
   {
    "duration": 106,
    "start_time": "2022-05-06T12:50:08.134Z"
   },
   {
    "duration": 6,
    "start_time": "2022-05-06T12:50:27.718Z"
   },
   {
    "duration": 3,
    "start_time": "2022-05-06T12:51:55.792Z"
   },
   {
    "duration": 7,
    "start_time": "2022-05-06T12:51:58.538Z"
   },
   {
    "duration": 16,
    "start_time": "2022-05-06T12:52:05.461Z"
   },
   {
    "duration": 17,
    "start_time": "2022-05-06T12:52:08.137Z"
   },
   {
    "duration": 14,
    "start_time": "2022-05-06T12:52:17.988Z"
   },
   {
    "duration": 14,
    "start_time": "2022-05-06T12:52:23.253Z"
   },
   {
    "duration": 13,
    "start_time": "2022-05-06T12:52:30.095Z"
   },
   {
    "duration": 16,
    "start_time": "2022-05-06T12:52:34.361Z"
   },
   {
    "duration": 15,
    "start_time": "2022-05-06T12:52:38.983Z"
   },
   {
    "duration": 4,
    "start_time": "2022-05-06T12:52:44.715Z"
   },
   {
    "duration": 4,
    "start_time": "2022-05-06T12:53:17.648Z"
   },
   {
    "duration": 8,
    "start_time": "2022-05-06T12:53:28.880Z"
   },
   {
    "duration": 8,
    "start_time": "2022-05-06T12:53:40.232Z"
   },
   {
    "duration": 8,
    "start_time": "2022-05-06T12:53:51.720Z"
   },
   {
    "duration": 8,
    "start_time": "2022-05-06T12:54:29.824Z"
   },
   {
    "duration": 7,
    "start_time": "2022-05-06T12:54:49.651Z"
   },
   {
    "duration": 8,
    "start_time": "2022-05-06T12:56:14.608Z"
   },
   {
    "duration": 6,
    "start_time": "2022-05-06T12:56:26.912Z"
   },
   {
    "duration": 7,
    "start_time": "2022-05-06T12:56:47.328Z"
   },
   {
    "duration": 4,
    "start_time": "2022-05-06T12:57:01.873Z"
   },
   {
    "duration": 25,
    "start_time": "2022-05-06T12:57:04.948Z"
   },
   {
    "duration": 15,
    "start_time": "2022-05-06T12:57:06.553Z"
   },
   {
    "duration": 17,
    "start_time": "2022-05-06T12:57:08.621Z"
   },
   {
    "duration": 7,
    "start_time": "2022-05-06T12:57:41.026Z"
   },
   {
    "duration": 7,
    "start_time": "2022-05-06T12:57:58.062Z"
   },
   {
    "duration": 8,
    "start_time": "2022-05-06T12:58:03.197Z"
   },
   {
    "duration": 9,
    "start_time": "2022-05-06T12:59:09.239Z"
   },
   {
    "duration": 3,
    "start_time": "2022-05-06T13:00:33.912Z"
   },
   {
    "duration": 4,
    "start_time": "2022-05-06T13:00:36.022Z"
   },
   {
    "duration": 7,
    "start_time": "2022-05-06T13:00:38.894Z"
   },
   {
    "duration": 7,
    "start_time": "2022-05-06T13:00:39.751Z"
   },
   {
    "duration": 4,
    "start_time": "2022-05-06T13:00:49.001Z"
   },
   {
    "duration": 7,
    "start_time": "2022-05-06T13:00:52.019Z"
   },
   {
    "duration": 3,
    "start_time": "2022-05-06T13:01:04.324Z"
   },
   {
    "duration": 16,
    "start_time": "2022-05-06T13:01:06.807Z"
   },
   {
    "duration": 13,
    "start_time": "2022-05-06T13:01:09.195Z"
   },
   {
    "duration": 8,
    "start_time": "2022-05-06T13:01:22.809Z"
   },
   {
    "duration": 12,
    "start_time": "2022-05-06T13:01:31.363Z"
   },
   {
    "duration": 11,
    "start_time": "2022-05-06T13:01:35.011Z"
   },
   {
    "duration": 139,
    "start_time": "2022-05-06T13:01:55.971Z"
   },
   {
    "duration": 158,
    "start_time": "2022-05-06T13:02:02.060Z"
   },
   {
    "duration": 116,
    "start_time": "2022-05-06T13:02:12.677Z"
   },
   {
    "duration": 106,
    "start_time": "2022-05-06T13:03:55.474Z"
   },
   {
    "duration": 111,
    "start_time": "2022-05-06T13:20:09.613Z"
   },
   {
    "duration": 137,
    "start_time": "2022-05-06T13:20:28.375Z"
   },
   {
    "duration": 114,
    "start_time": "2022-05-06T13:20:50.121Z"
   },
   {
    "duration": 107,
    "start_time": "2022-05-06T13:24:25.189Z"
   },
   {
    "duration": 122,
    "start_time": "2022-05-06T13:24:49.981Z"
   },
   {
    "duration": 104,
    "start_time": "2022-05-06T13:25:10.332Z"
   },
   {
    "duration": 123,
    "start_time": "2022-05-06T13:25:19.333Z"
   },
   {
    "duration": 209,
    "start_time": "2022-05-06T13:27:00.122Z"
   },
   {
    "duration": 106,
    "start_time": "2022-05-06T13:27:23.385Z"
   },
   {
    "duration": 100,
    "start_time": "2022-05-06T13:33:25.917Z"
   },
   {
    "duration": 132,
    "start_time": "2022-05-06T13:36:18.930Z"
   },
   {
    "duration": 98,
    "start_time": "2022-05-06T13:36:38.267Z"
   },
   {
    "duration": 99,
    "start_time": "2022-05-06T13:36:52.774Z"
   },
   {
    "duration": 102,
    "start_time": "2022-05-06T13:37:02.142Z"
   },
   {
    "duration": 135,
    "start_time": "2022-05-06T13:37:08.711Z"
   },
   {
    "duration": 119,
    "start_time": "2022-05-06T13:37:15.531Z"
   },
   {
    "duration": 111,
    "start_time": "2022-05-06T13:37:21.894Z"
   },
   {
    "duration": 118,
    "start_time": "2022-05-06T13:37:26.663Z"
   },
   {
    "duration": 955,
    "start_time": "2022-05-06T13:37:49.294Z"
   },
   {
    "duration": 114,
    "start_time": "2022-05-06T13:37:54.646Z"
   },
   {
    "duration": 8,
    "start_time": "2022-05-06T13:38:07.778Z"
   },
   {
    "duration": 8,
    "start_time": "2022-05-06T13:38:24.018Z"
   },
   {
    "duration": 7,
    "start_time": "2022-05-06T13:39:03.574Z"
   },
   {
    "duration": 8,
    "start_time": "2022-05-06T13:39:11.506Z"
   },
   {
    "duration": 9,
    "start_time": "2022-05-06T13:39:22.046Z"
   },
   {
    "duration": 8,
    "start_time": "2022-05-06T13:39:33.321Z"
   },
   {
    "duration": 9,
    "start_time": "2022-05-06T13:39:52.273Z"
   },
   {
    "duration": 7,
    "start_time": "2022-05-06T13:39:58.245Z"
   },
   {
    "duration": 3,
    "start_time": "2022-05-06T13:40:02.081Z"
   },
   {
    "duration": 3,
    "start_time": "2022-05-06T13:40:17.622Z"
   },
   {
    "duration": 8,
    "start_time": "2022-05-06T13:40:23.421Z"
   },
   {
    "duration": 116,
    "start_time": "2022-05-06T13:54:11.720Z"
   },
   {
    "duration": 111,
    "start_time": "2022-05-06T13:57:09.793Z"
   },
   {
    "duration": 104,
    "start_time": "2022-05-06T13:57:17.332Z"
   },
   {
    "duration": 106,
    "start_time": "2022-05-06T13:57:21.344Z"
   },
   {
    "duration": 102,
    "start_time": "2022-05-06T13:57:24.763Z"
   },
   {
    "duration": 8,
    "start_time": "2022-05-06T13:57:33.431Z"
   },
   {
    "duration": 8,
    "start_time": "2022-05-06T13:58:16.434Z"
   },
   {
    "duration": 8,
    "start_time": "2022-05-06T13:58:31.959Z"
   },
   {
    "duration": 9,
    "start_time": "2022-05-06T13:59:01.323Z"
   },
   {
    "duration": 7,
    "start_time": "2022-05-06T14:01:17.305Z"
   },
   {
    "duration": 8,
    "start_time": "2022-05-06T14:04:47.697Z"
   },
   {
    "duration": 8,
    "start_time": "2022-05-06T14:05:18.792Z"
   },
   {
    "duration": 4,
    "start_time": "2022-05-06T14:08:29.864Z"
   },
   {
    "duration": 3,
    "start_time": "2022-05-06T14:08:33.125Z"
   },
   {
    "duration": 3,
    "start_time": "2022-05-06T14:09:00.221Z"
   },
   {
    "duration": 3,
    "start_time": "2022-05-06T14:09:03.185Z"
   },
   {
    "duration": 4,
    "start_time": "2022-05-06T14:09:05.266Z"
   },
   {
    "duration": 150,
    "start_time": "2022-05-06T14:11:47.956Z"
   },
   {
    "duration": 357,
    "start_time": "2022-05-06T14:12:00.235Z"
   },
   {
    "duration": 176,
    "start_time": "2022-05-06T14:12:10.460Z"
   },
   {
    "duration": 106,
    "start_time": "2022-05-06T14:12:26.844Z"
   },
   {
    "duration": 5,
    "start_time": "2022-05-06T14:12:37.579Z"
   },
   {
    "duration": 3,
    "start_time": "2022-05-06T14:12:40.766Z"
   },
   {
    "duration": 4,
    "start_time": "2022-05-06T14:13:19.723Z"
   },
   {
    "duration": 4,
    "start_time": "2022-05-06T14:13:22.286Z"
   },
   {
    "duration": 4,
    "start_time": "2022-05-06T14:13:24.879Z"
   },
   {
    "duration": 4,
    "start_time": "2022-05-06T14:13:28.519Z"
   },
   {
    "duration": 4,
    "start_time": "2022-05-06T14:14:01.975Z"
   },
   {
    "duration": 3,
    "start_time": "2022-05-06T14:14:04.547Z"
   },
   {
    "duration": 3,
    "start_time": "2022-05-06T14:14:06.503Z"
   },
   {
    "duration": 3,
    "start_time": "2022-05-06T14:14:26.914Z"
   },
   {
    "duration": 3,
    "start_time": "2022-05-06T14:14:28.566Z"
   },
   {
    "duration": 4,
    "start_time": "2022-05-06T14:15:14.998Z"
   },
   {
    "duration": 4,
    "start_time": "2022-05-06T14:15:17.641Z"
   },
   {
    "duration": 4,
    "start_time": "2022-05-06T14:15:38.804Z"
   },
   {
    "duration": 3,
    "start_time": "2022-05-06T14:15:40.210Z"
   },
   {
    "duration": 4,
    "start_time": "2022-05-06T14:15:46.569Z"
   },
   {
    "duration": 48,
    "start_time": "2022-05-06T14:18:47.010Z"
   },
   {
    "duration": 8,
    "start_time": "2022-05-06T14:19:21.056Z"
   },
   {
    "duration": 7,
    "start_time": "2022-05-06T14:19:27.867Z"
   },
   {
    "duration": 8,
    "start_time": "2022-05-06T14:27:44.179Z"
   },
   {
    "duration": 3,
    "start_time": "2022-05-06T14:28:09.818Z"
   },
   {
    "duration": 7,
    "start_time": "2022-05-06T14:28:18.666Z"
   },
   {
    "duration": 3,
    "start_time": "2022-05-06T14:29:21.813Z"
   },
   {
    "duration": 9,
    "start_time": "2022-05-06T14:29:25.896Z"
   },
   {
    "duration": 4,
    "start_time": "2022-05-06T14:29:43.840Z"
   },
   {
    "duration": 6,
    "start_time": "2022-05-06T14:29:45.968Z"
   },
   {
    "duration": 4,
    "start_time": "2022-05-06T14:29:55.296Z"
   },
   {
    "duration": 7,
    "start_time": "2022-05-06T14:29:57.924Z"
   },
   {
    "duration": 397,
    "start_time": "2022-05-06T14:30:05.239Z"
   },
   {
    "duration": 134,
    "start_time": "2022-05-06T14:30:07.709Z"
   },
   {
    "duration": 16,
    "start_time": "2022-05-06T14:30:08.731Z"
   },
   {
    "duration": 28,
    "start_time": "2022-05-06T14:30:11.695Z"
   },
   {
    "duration": 4,
    "start_time": "2022-05-06T14:30:15.061Z"
   },
   {
    "duration": 12,
    "start_time": "2022-05-06T14:30:21.264Z"
   },
   {
    "duration": 4,
    "start_time": "2022-05-06T14:30:24.199Z"
   },
   {
    "duration": 25,
    "start_time": "2022-05-06T14:30:25.845Z"
   },
   {
    "duration": 18,
    "start_time": "2022-05-06T14:30:28.510Z"
   },
   {
    "duration": 24,
    "start_time": "2022-05-06T14:30:32.218Z"
   },
   {
    "duration": 63,
    "start_time": "2022-05-06T14:30:33.864Z"
   },
   {
    "duration": 71,
    "start_time": "2022-05-06T14:30:36.452Z"
   },
   {
    "duration": 57,
    "start_time": "2022-05-06T14:30:37.878Z"
   },
   {
    "duration": 67,
    "start_time": "2022-05-06T14:30:40.819Z"
   },
   {
    "duration": 3,
    "start_time": "2022-05-06T14:30:45.040Z"
   },
   {
    "duration": 10,
    "start_time": "2022-05-06T14:30:47.397Z"
   },
   {
    "duration": 37,
    "start_time": "2022-05-06T14:30:50.648Z"
   },
   {
    "duration": 12,
    "start_time": "2022-05-06T14:30:59.515Z"
   },
   {
    "duration": 11,
    "start_time": "2022-05-06T14:31:12.549Z"
   },
   {
    "duration": 4,
    "start_time": "2022-05-06T14:31:25.085Z"
   },
   {
    "duration": 4,
    "start_time": "2022-05-06T14:31:49.195Z"
   },
   {
    "duration": 16,
    "start_time": "2022-05-06T14:31:51.967Z"
   },
   {
    "duration": 15,
    "start_time": "2022-05-06T14:31:56.320Z"
   },
   {
    "duration": 31,
    "start_time": "2022-05-06T14:34:31.625Z"
   },
   {
    "duration": 8,
    "start_time": "2022-05-06T14:34:45.494Z"
   },
   {
    "duration": 5,
    "start_time": "2022-05-06T14:34:52.386Z"
   },
   {
    "duration": 7,
    "start_time": "2022-05-06T14:35:22.998Z"
   },
   {
    "duration": 8,
    "start_time": "2022-05-06T14:35:32.353Z"
   },
   {
    "duration": 26,
    "start_time": "2022-05-06T14:35:44.929Z"
   },
   {
    "duration": 16,
    "start_time": "2022-05-06T14:40:07.304Z"
   },
   {
    "duration": 4,
    "start_time": "2022-05-06T14:40:52.453Z"
   },
   {
    "duration": 4,
    "start_time": "2022-05-06T14:41:22.198Z"
   },
   {
    "duration": 3,
    "start_time": "2022-05-06T14:41:24.934Z"
   },
   {
    "duration": 4,
    "start_time": "2022-05-06T14:41:32.681Z"
   },
   {
    "duration": 4,
    "start_time": "2022-05-06T14:41:36.218Z"
   },
   {
    "duration": 4,
    "start_time": "2022-05-06T14:41:55.364Z"
   },
   {
    "duration": 4,
    "start_time": "2022-05-06T14:42:04.502Z"
   },
   {
    "duration": 3,
    "start_time": "2022-05-06T14:42:06.593Z"
   },
   {
    "duration": 8,
    "start_time": "2022-05-06T14:42:14.295Z"
   },
   {
    "duration": 4,
    "start_time": "2022-05-06T14:57:00.093Z"
   },
   {
    "duration": 40,
    "start_time": "2022-05-06T14:58:21.582Z"
   },
   {
    "duration": 3,
    "start_time": "2022-05-06T14:58:54.720Z"
   },
   {
    "duration": 5,
    "start_time": "2022-05-06T16:34:29.484Z"
   },
   {
    "duration": 4,
    "start_time": "2022-05-06T16:50:37.064Z"
   },
   {
    "duration": 4,
    "start_time": "2022-05-06T16:59:26.717Z"
   },
   {
    "duration": 3,
    "start_time": "2022-05-06T16:59:46.591Z"
   },
   {
    "duration": 7,
    "start_time": "2022-05-06T17:01:23.615Z"
   },
   {
    "duration": 6,
    "start_time": "2022-05-06T17:01:53.105Z"
   },
   {
    "duration": 6,
    "start_time": "2022-05-06T17:02:33.874Z"
   },
   {
    "duration": 7,
    "start_time": "2022-05-06T17:02:46.377Z"
   },
   {
    "duration": 4,
    "start_time": "2022-05-06T17:03:04.623Z"
   },
   {
    "duration": 6,
    "start_time": "2022-05-06T17:03:30.052Z"
   },
   {
    "duration": 6,
    "start_time": "2022-05-06T17:04:42.586Z"
   },
   {
    "duration": 6,
    "start_time": "2022-05-06T17:06:25.256Z"
   },
   {
    "duration": 5,
    "start_time": "2022-05-06T17:07:31.013Z"
   },
   {
    "duration": 362,
    "start_time": "2022-05-06T17:07:38.583Z"
   },
   {
    "duration": 141,
    "start_time": "2022-05-06T17:07:39.985Z"
   },
   {
    "duration": 18,
    "start_time": "2022-05-06T17:07:41.211Z"
   },
   {
    "duration": 29,
    "start_time": "2022-05-06T17:07:42.983Z"
   },
   {
    "duration": 4,
    "start_time": "2022-05-06T17:07:46.060Z"
   },
   {
    "duration": 12,
    "start_time": "2022-05-06T17:07:50.564Z"
   },
   {
    "duration": 4,
    "start_time": "2022-05-06T17:07:53.944Z"
   },
   {
    "duration": 23,
    "start_time": "2022-05-06T17:07:55.493Z"
   },
   {
    "duration": 17,
    "start_time": "2022-05-06T17:08:00.257Z"
   },
   {
    "duration": 24,
    "start_time": "2022-05-06T17:08:04.959Z"
   },
   {
    "duration": 59,
    "start_time": "2022-05-06T17:08:07.572Z"
   },
   {
    "duration": 70,
    "start_time": "2022-05-06T17:08:11.167Z"
   },
   {
    "duration": 56,
    "start_time": "2022-05-06T17:08:16.857Z"
   },
   {
    "duration": 66,
    "start_time": "2022-05-06T17:08:21.404Z"
   },
   {
    "duration": 2,
    "start_time": "2022-05-06T17:08:24.940Z"
   },
   {
    "duration": 9,
    "start_time": "2022-05-06T17:08:28.152Z"
   },
   {
    "duration": 38,
    "start_time": "2022-05-06T17:08:29.995Z"
   },
   {
    "duration": 11,
    "start_time": "2022-05-06T17:08:35.258Z"
   },
   {
    "duration": 11,
    "start_time": "2022-05-06T17:08:38.256Z"
   },
   {
    "duration": 4,
    "start_time": "2022-05-06T17:08:42.197Z"
   },
   {
    "duration": 15,
    "start_time": "2022-05-06T17:08:48.060Z"
   },
   {
    "duration": 13,
    "start_time": "2022-05-06T17:08:49.799Z"
   },
   {
    "duration": 13,
    "start_time": "2022-05-06T17:08:50.352Z"
   },
   {
    "duration": 13,
    "start_time": "2022-05-06T17:08:52.179Z"
   },
   {
    "duration": 15,
    "start_time": "2022-05-06T17:08:52.685Z"
   },
   {
    "duration": 13,
    "start_time": "2022-05-06T17:08:53.084Z"
   },
   {
    "duration": 8,
    "start_time": "2022-05-06T17:08:55.310Z"
   },
   {
    "duration": 10,
    "start_time": "2022-05-06T17:08:59.124Z"
   },
   {
    "duration": 8,
    "start_time": "2022-05-06T17:08:59.891Z"
   },
   {
    "duration": 12,
    "start_time": "2022-05-06T17:09:18.693Z"
   },
   {
    "duration": 10,
    "start_time": "2022-05-06T17:09:19.137Z"
   },
   {
    "duration": 42,
    "start_time": "2022-05-06T17:10:05.121Z"
   },
   {
    "duration": 21,
    "start_time": "2022-05-06T17:10:35.571Z"
   },
   {
    "duration": 5,
    "start_time": "2022-05-06T17:10:55.865Z"
   },
   {
    "duration": 1704,
    "start_time": "2022-05-06T17:10:58.144Z"
   },
   {
    "duration": 1788,
    "start_time": "2022-05-06T17:11:28.669Z"
   },
   {
    "duration": 1706,
    "start_time": "2022-05-06T17:11:31.388Z"
   },
   {
    "duration": 6,
    "start_time": "2022-05-06T17:12:18.327Z"
   },
   {
    "duration": 2,
    "start_time": "2022-05-06T17:12:47.026Z"
   },
   {
    "duration": 1622,
    "start_time": "2022-05-06T17:12:54.734Z"
   },
   {
    "duration": 1623,
    "start_time": "2022-05-06T17:12:57.342Z"
   },
   {
    "duration": 3,
    "start_time": "2022-05-06T17:13:22.831Z"
   },
   {
    "duration": 5,
    "start_time": "2022-05-06T17:13:36.886Z"
   },
   {
    "duration": 11,
    "start_time": "2022-05-06T17:21:18.649Z"
   },
   {
    "duration": 1571,
    "start_time": "2022-05-06T17:21:33.143Z"
   },
   {
    "duration": 5,
    "start_time": "2022-05-06T17:23:42.124Z"
   },
   {
    "duration": 20,
    "start_time": "2022-05-06T17:23:46.228Z"
   },
   {
    "duration": 5,
    "start_time": "2022-05-06T17:30:21.992Z"
   },
   {
    "duration": 25,
    "start_time": "2022-05-06T17:30:25.147Z"
   },
   {
    "duration": 5,
    "start_time": "2022-05-06T17:30:52.134Z"
   },
   {
    "duration": 15,
    "start_time": "2022-05-06T17:30:54.976Z"
   },
   {
    "duration": 15,
    "start_time": "2022-05-06T17:34:42.361Z"
   },
   {
    "duration": 16,
    "start_time": "2022-05-06T17:34:53.107Z"
   },
   {
    "duration": 6,
    "start_time": "2022-05-06T17:35:42.357Z"
   },
   {
    "duration": 5,
    "start_time": "2022-05-06T17:37:27.228Z"
   },
   {
    "duration": 16,
    "start_time": "2022-05-06T17:37:32.063Z"
   },
   {
    "duration": 16,
    "start_time": "2022-05-06T17:40:35.148Z"
   },
   {
    "duration": 7,
    "start_time": "2022-05-06T17:55:00.276Z"
   },
   {
    "duration": 12,
    "start_time": "2022-05-06T17:55:29.099Z"
   },
   {
    "duration": 17,
    "start_time": "2022-05-06T17:57:16.671Z"
   },
   {
    "duration": 18,
    "start_time": "2022-05-06T17:58:06.383Z"
   },
   {
    "duration": 12,
    "start_time": "2022-05-06T17:58:07.740Z"
   },
   {
    "duration": 5,
    "start_time": "2022-05-06T17:58:13.665Z"
   },
   {
    "duration": 25,
    "start_time": "2022-05-06T17:58:16.494Z"
   },
   {
    "duration": 13,
    "start_time": "2022-05-06T18:00:54.732Z"
   },
   {
    "duration": 15,
    "start_time": "2022-05-06T18:01:00.483Z"
   },
   {
    "duration": 13,
    "start_time": "2022-05-06T18:01:36.119Z"
   },
   {
    "duration": 12,
    "start_time": "2022-05-06T18:06:13.239Z"
   },
   {
    "duration": 4,
    "start_time": "2022-05-06T18:06:24.627Z"
   },
   {
    "duration": 7,
    "start_time": "2022-05-06T18:11:39.073Z"
   },
   {
    "duration": 6,
    "start_time": "2022-05-06T18:13:39.932Z"
   },
   {
    "duration": 5,
    "start_time": "2022-05-06T18:13:40.926Z"
   },
   {
    "duration": 3,
    "start_time": "2022-05-06T18:27:45.698Z"
   },
   {
    "duration": 162,
    "start_time": "2022-05-06T18:27:51.775Z"
   },
   {
    "duration": 10,
    "start_time": "2022-05-06T18:28:19.034Z"
   },
   {
    "duration": 34,
    "start_time": "2022-05-06T18:28:42.476Z"
   },
   {
    "duration": 6,
    "start_time": "2022-05-06T18:28:49.782Z"
   },
   {
    "duration": 9,
    "start_time": "2022-05-06T18:28:57.965Z"
   },
   {
    "duration": 4,
    "start_time": "2022-05-06T18:29:04.832Z"
   },
   {
    "duration": 23,
    "start_time": "2022-05-06T18:29:09.126Z"
   },
   {
    "duration": 23,
    "start_time": "2022-05-06T18:29:45.650Z"
   },
   {
    "duration": 24,
    "start_time": "2022-05-06T18:29:51.992Z"
   },
   {
    "duration": 72,
    "start_time": "2022-05-06T18:29:56.417Z"
   },
   {
    "duration": 74,
    "start_time": "2022-05-06T18:30:01.286Z"
   },
   {
    "duration": 61,
    "start_time": "2022-05-06T18:30:03.841Z"
   },
   {
    "duration": 70,
    "start_time": "2022-05-06T18:30:33.084Z"
   },
   {
    "duration": 4,
    "start_time": "2022-05-06T18:31:17.883Z"
   },
   {
    "duration": 9,
    "start_time": "2022-05-06T18:31:20.135Z"
   },
   {
    "duration": 37,
    "start_time": "2022-05-06T18:31:38.882Z"
   },
   {
    "duration": 45,
    "start_time": "2022-05-06T18:31:42.836Z"
   },
   {
    "duration": 20,
    "start_time": "2022-05-06T18:32:09.547Z"
   },
   {
    "duration": 12,
    "start_time": "2022-05-06T18:32:15.032Z"
   },
   {
    "duration": 23,
    "start_time": "2022-05-06T18:32:45.112Z"
   },
   {
    "duration": 16,
    "start_time": "2022-05-06T18:32:52.497Z"
   },
   {
    "duration": 30,
    "start_time": "2022-05-06T18:32:54.038Z"
   },
   {
    "duration": 53,
    "start_time": "2022-05-06T18:33:01.979Z"
   },
   {
    "duration": 66,
    "start_time": "2022-05-06T18:33:03.239Z"
   },
   {
    "duration": 60,
    "start_time": "2022-05-06T18:33:04.232Z"
   },
   {
    "duration": 88,
    "start_time": "2022-05-06T18:33:18.189Z"
   },
   {
    "duration": 3,
    "start_time": "2022-05-06T18:33:43.759Z"
   },
   {
    "duration": 13,
    "start_time": "2022-05-06T18:33:44.745Z"
   },
   {
    "duration": 44,
    "start_time": "2022-05-06T18:33:51.233Z"
   },
   {
    "duration": 3,
    "start_time": "2022-05-06T18:35:40.170Z"
   },
   {
    "duration": 9,
    "start_time": "2022-05-06T18:35:41.574Z"
   },
   {
    "duration": 44,
    "start_time": "2022-05-06T18:35:49.932Z"
   },
   {
    "duration": 11,
    "start_time": "2022-05-06T18:36:01.033Z"
   },
   {
    "duration": 11,
    "start_time": "2022-05-06T18:36:04.762Z"
   },
   {
    "duration": 3,
    "start_time": "2022-05-06T18:36:16.792Z"
   },
   {
    "duration": 24,
    "start_time": "2022-05-06T18:36:19.182Z"
   },
   {
    "duration": 22,
    "start_time": "2022-05-06T18:36:20.133Z"
   },
   {
    "duration": 15,
    "start_time": "2022-05-06T18:36:21.197Z"
   },
   {
    "duration": 15,
    "start_time": "2022-05-06T18:36:22.076Z"
   },
   {
    "duration": 16,
    "start_time": "2022-05-06T18:36:22.768Z"
   },
   {
    "duration": 14,
    "start_time": "2022-05-06T18:36:28.221Z"
   },
   {
    "duration": 10,
    "start_time": "2022-05-06T18:36:30.520Z"
   },
   {
    "duration": 14,
    "start_time": "2022-05-06T18:36:48.322Z"
   },
   {
    "duration": 13,
    "start_time": "2022-05-06T18:36:49.791Z"
   },
   {
    "duration": 16,
    "start_time": "2022-05-06T18:36:50.598Z"
   },
   {
    "duration": 15,
    "start_time": "2022-05-06T18:36:51.381Z"
   },
   {
    "duration": 9,
    "start_time": "2022-05-06T18:36:53.598Z"
   },
   {
    "duration": 9,
    "start_time": "2022-05-06T18:36:57.765Z"
   },
   {
    "duration": 12,
    "start_time": "2022-05-06T18:36:58.958Z"
   },
   {
    "duration": 5,
    "start_time": "2022-05-06T18:37:05.399Z"
   },
   {
    "duration": 16,
    "start_time": "2022-05-06T18:37:08.613Z"
   },
   {
    "duration": 12,
    "start_time": "2022-05-06T18:37:11.395Z"
   },
   {
    "duration": 15,
    "start_time": "2022-05-06T18:37:16.217Z"
   },
   {
    "duration": 11,
    "start_time": "2022-05-06T18:37:17.112Z"
   },
   {
    "duration": 8,
    "start_time": "2022-05-06T18:37:20.100Z"
   },
   {
    "duration": 5,
    "start_time": "2022-05-06T18:37:22.178Z"
   },
   {
    "duration": 6,
    "start_time": "2022-05-06T18:37:23.185Z"
   },
   {
    "duration": 5,
    "start_time": "2022-05-06T18:37:24.736Z"
   },
   {
    "duration": 2,
    "start_time": "2022-05-06T18:46:37.943Z"
   },
   {
    "duration": 155,
    "start_time": "2022-05-06T18:46:49.118Z"
   },
   {
    "duration": 10,
    "start_time": "2022-05-06T18:46:51.998Z"
   },
   {
    "duration": 29,
    "start_time": "2022-05-06T18:46:55.060Z"
   },
   {
    "duration": 44,
    "start_time": "2022-05-06T18:46:57.675Z"
   },
   {
    "duration": 4,
    "start_time": "2022-05-06T18:47:10.903Z"
   },
   {
    "duration": 10,
    "start_time": "2022-05-06T18:47:21.498Z"
   },
   {
    "duration": 4,
    "start_time": "2022-05-06T18:47:26.706Z"
   },
   {
    "duration": 41,
    "start_time": "2022-05-06T18:47:56.794Z"
   },
   {
    "duration": 27,
    "start_time": "2022-05-06T18:48:06.011Z"
   },
   {
    "duration": 39,
    "start_time": "2022-05-06T18:48:10.835Z"
   },
   {
    "duration": 99,
    "start_time": "2022-05-06T18:48:17.975Z"
   },
   {
    "duration": 77,
    "start_time": "2022-05-06T18:48:48.209Z"
   },
   {
    "duration": 59,
    "start_time": "2022-05-06T18:48:49.636Z"
   },
   {
    "duration": 54,
    "start_time": "2022-05-06T18:48:53.264Z"
   },
   {
    "duration": 131,
    "start_time": "2022-05-06T18:49:00.735Z"
   },
   {
    "duration": 71,
    "start_time": "2022-05-06T18:49:26.069Z"
   },
   {
    "duration": 3,
    "start_time": "2022-05-06T18:49:31.324Z"
   },
   {
    "duration": 10,
    "start_time": "2022-05-06T18:49:34.460Z"
   },
   {
    "duration": 44,
    "start_time": "2022-05-06T18:50:02.654Z"
   },
   {
    "duration": 11,
    "start_time": "2022-05-06T18:50:49.912Z"
   },
   {
    "duration": 12,
    "start_time": "2022-05-06T18:50:57.515Z"
   },
   {
    "duration": 12,
    "start_time": "2022-05-06T18:51:19.213Z"
   },
   {
    "duration": 4,
    "start_time": "2022-05-06T18:51:23.426Z"
   },
   {
    "duration": 4,
    "start_time": "2022-05-06T18:51:25.929Z"
   },
   {
    "duration": 16,
    "start_time": "2022-05-06T18:51:36.377Z"
   },
   {
    "duration": 14,
    "start_time": "2022-05-06T18:51:40.478Z"
   },
   {
    "duration": 16,
    "start_time": "2022-05-06T18:51:49.269Z"
   },
   {
    "duration": 14,
    "start_time": "2022-05-06T18:51:51.074Z"
   },
   {
    "duration": 20,
    "start_time": "2022-05-06T18:51:54.157Z"
   },
   {
    "duration": 13,
    "start_time": "2022-05-06T18:51:56.875Z"
   },
   {
    "duration": 8,
    "start_time": "2022-05-06T18:52:02.515Z"
   },
   {
    "duration": 13,
    "start_time": "2022-05-06T18:52:08.969Z"
   },
   {
    "duration": 10,
    "start_time": "2022-05-06T18:52:09.535Z"
   },
   {
    "duration": 8,
    "start_time": "2022-05-06T18:52:17.318Z"
   },
   {
    "duration": 7,
    "start_time": "2022-05-06T18:52:32.149Z"
   },
   {
    "duration": 18,
    "start_time": "2022-05-06T18:52:35.773Z"
   },
   {
    "duration": 17,
    "start_time": "2022-05-06T18:52:46.124Z"
   },
   {
    "duration": 27,
    "start_time": "2022-05-06T18:53:03.898Z"
   },
   {
    "duration": 18,
    "start_time": "2022-05-06T18:53:09.500Z"
   },
   {
    "duration": 9,
    "start_time": "2022-05-06T18:53:17.175Z"
   },
   {
    "duration": 5,
    "start_time": "2022-05-06T18:53:22.915Z"
   },
   {
    "duration": 10,
    "start_time": "2022-05-06T18:53:29.225Z"
   },
   {
    "duration": 6,
    "start_time": "2022-05-06T18:53:33.804Z"
   },
   {
    "duration": 674,
    "start_time": "2022-05-08T18:17:35.180Z"
   },
   {
    "duration": 221,
    "start_time": "2022-05-08T18:17:35.858Z"
   },
   {
    "duration": 27,
    "start_time": "2022-05-08T18:17:36.082Z"
   },
   {
    "duration": 43,
    "start_time": "2022-05-08T18:17:36.124Z"
   },
   {
    "duration": 6,
    "start_time": "2022-05-08T18:17:36.170Z"
   },
   {
    "duration": 51,
    "start_time": "2022-05-08T18:17:36.178Z"
   },
   {
    "duration": 8,
    "start_time": "2022-05-08T18:17:36.233Z"
   },
   {
    "duration": 38,
    "start_time": "2022-05-08T18:17:36.245Z"
   },
   {
    "duration": 54,
    "start_time": "2022-05-08T18:17:36.285Z"
   },
   {
    "duration": 37,
    "start_time": "2022-05-08T18:17:36.344Z"
   },
   {
    "duration": 132,
    "start_time": "2022-05-08T18:17:36.384Z"
   },
   {
    "duration": 137,
    "start_time": "2022-05-08T18:17:36.518Z"
   },
   {
    "duration": 116,
    "start_time": "2022-05-08T18:17:36.657Z"
   },
   {
    "duration": 115,
    "start_time": "2022-05-08T18:17:36.776Z"
   },
   {
    "duration": 4,
    "start_time": "2022-05-08T18:17:36.894Z"
   },
   {
    "duration": 34,
    "start_time": "2022-05-08T18:17:36.901Z"
   },
   {
    "duration": 55,
    "start_time": "2022-05-08T18:17:36.938Z"
   },
   {
    "duration": 43,
    "start_time": "2022-05-08T18:17:36.995Z"
   },
   {
    "duration": 23,
    "start_time": "2022-05-08T18:17:37.040Z"
   },
   {
    "duration": 23,
    "start_time": "2022-05-08T18:17:37.066Z"
   },
   {
    "duration": 62,
    "start_time": "2022-05-08T18:17:37.092Z"
   },
   {
    "duration": 20,
    "start_time": "2022-05-08T18:17:37.156Z"
   },
   {
    "duration": 41,
    "start_time": "2022-05-08T18:17:37.178Z"
   },
   {
    "duration": 30,
    "start_time": "2022-05-08T18:17:37.222Z"
   },
   {
    "duration": 43,
    "start_time": "2022-05-08T18:17:37.254Z"
   },
   {
    "duration": 52,
    "start_time": "2022-05-08T18:17:37.300Z"
   },
   {
    "duration": 14,
    "start_time": "2022-05-08T18:17:37.355Z"
   },
   {
    "duration": 21,
    "start_time": "2022-05-08T18:17:37.374Z"
   },
   {
    "duration": 32,
    "start_time": "2022-05-08T18:17:37.397Z"
   },
   {
    "duration": 9,
    "start_time": "2022-05-08T18:17:37.437Z"
   },
   {
    "duration": 42,
    "start_time": "2022-05-08T18:17:37.448Z"
   },
   {
    "duration": 23,
    "start_time": "2022-05-08T18:17:37.492Z"
   },
   {
    "duration": 40,
    "start_time": "2022-05-08T18:17:37.517Z"
   },
   {
    "duration": 16,
    "start_time": "2022-05-08T18:17:37.559Z"
   },
   {
    "duration": 13,
    "start_time": "2022-05-08T18:17:37.577Z"
   },
   {
    "duration": 8,
    "start_time": "2022-05-08T18:17:37.592Z"
   },
   {
    "duration": 10,
    "start_time": "2022-05-08T18:17:37.625Z"
   },
   {
    "duration": 10,
    "start_time": "2022-05-08T18:17:37.641Z"
   },
   {
    "duration": 4,
    "start_time": "2022-05-08T18:22:37.141Z"
   },
   {
    "duration": 574,
    "start_time": "2022-05-08T18:23:07.501Z"
   },
   {
    "duration": 243,
    "start_time": "2022-05-08T18:23:08.078Z"
   },
   {
    "duration": 42,
    "start_time": "2022-05-08T18:23:08.325Z"
   },
   {
    "duration": 66,
    "start_time": "2022-05-08T18:23:08.370Z"
   },
   {
    "duration": 7,
    "start_time": "2022-05-08T18:23:08.439Z"
   },
   {
    "duration": 24,
    "start_time": "2022-05-08T18:23:08.450Z"
   },
   {
    "duration": 8,
    "start_time": "2022-05-08T18:23:08.476Z"
   },
   {
    "duration": 78,
    "start_time": "2022-05-08T18:23:08.486Z"
   },
   {
    "duration": 35,
    "start_time": "2022-05-08T18:23:08.567Z"
   },
   {
    "duration": 36,
    "start_time": "2022-05-08T18:23:08.633Z"
   },
   {
    "duration": 136,
    "start_time": "2022-05-08T18:23:08.672Z"
   },
   {
    "duration": 181,
    "start_time": "2022-05-08T18:23:08.811Z"
   },
   {
    "duration": 157,
    "start_time": "2022-05-08T18:23:08.995Z"
   },
   {
    "duration": 174,
    "start_time": "2022-05-08T18:23:09.154Z"
   },
   {
    "duration": 6,
    "start_time": "2022-05-08T18:23:09.331Z"
   },
   {
    "duration": 17,
    "start_time": "2022-05-08T18:23:09.340Z"
   },
   {
    "duration": 88,
    "start_time": "2022-05-08T18:23:09.359Z"
   },
   {
    "duration": 17,
    "start_time": "2022-05-08T18:23:09.449Z"
   },
   {
    "duration": 17,
    "start_time": "2022-05-08T18:23:09.468Z"
   },
   {
    "duration": 5,
    "start_time": "2022-05-08T18:23:09.487Z"
   },
   {
    "duration": 37,
    "start_time": "2022-05-08T18:23:09.526Z"
   },
   {
    "duration": 21,
    "start_time": "2022-05-08T18:23:09.566Z"
   },
   {
    "duration": 56,
    "start_time": "2022-05-08T18:23:09.589Z"
   },
   {
    "duration": 19,
    "start_time": "2022-05-08T18:23:09.648Z"
   },
   {
    "duration": 22,
    "start_time": "2022-05-08T18:23:09.669Z"
   },
   {
    "duration": 48,
    "start_time": "2022-05-08T18:23:09.694Z"
   },
   {
    "duration": 14,
    "start_time": "2022-05-08T18:23:09.745Z"
   },
   {
    "duration": 16,
    "start_time": "2022-05-08T18:23:09.766Z"
   },
   {
    "duration": 54,
    "start_time": "2022-05-08T18:23:09.785Z"
   },
   {
    "duration": 8,
    "start_time": "2022-05-08T18:23:09.843Z"
   },
   {
    "duration": 35,
    "start_time": "2022-05-08T18:23:09.853Z"
   },
   {
    "duration": 38,
    "start_time": "2022-05-08T18:23:09.890Z"
   },
   {
    "duration": 34,
    "start_time": "2022-05-08T18:23:09.932Z"
   },
   {
    "duration": 23,
    "start_time": "2022-05-08T18:23:09.968Z"
   },
   {
    "duration": 46,
    "start_time": "2022-05-08T18:23:09.994Z"
   },
   {
    "duration": 12,
    "start_time": "2022-05-08T18:23:10.045Z"
   },
   {
    "duration": 13,
    "start_time": "2022-05-08T18:23:10.062Z"
   },
   {
    "duration": 8,
    "start_time": "2022-05-08T18:23:10.078Z"
   },
   {
    "duration": 557,
    "start_time": "2022-05-08T18:27:36.495Z"
   },
   {
    "duration": 231,
    "start_time": "2022-05-08T18:27:37.054Z"
   },
   {
    "duration": 43,
    "start_time": "2022-05-08T18:27:37.288Z"
   },
   {
    "duration": 52,
    "start_time": "2022-05-08T18:27:37.336Z"
   },
   {
    "duration": 6,
    "start_time": "2022-05-08T18:27:37.390Z"
   },
   {
    "duration": 38,
    "start_time": "2022-05-08T18:27:37.398Z"
   },
   {
    "duration": 17,
    "start_time": "2022-05-08T18:27:37.438Z"
   },
   {
    "duration": 41,
    "start_time": "2022-05-08T18:27:37.457Z"
   },
   {
    "duration": 51,
    "start_time": "2022-05-08T18:27:37.501Z"
   },
   {
    "duration": 36,
    "start_time": "2022-05-08T18:27:37.557Z"
   },
   {
    "duration": 144,
    "start_time": "2022-05-08T18:27:37.596Z"
   },
   {
    "duration": 138,
    "start_time": "2022-05-08T18:27:37.742Z"
   },
   {
    "duration": 111,
    "start_time": "2022-05-08T18:27:37.882Z"
   },
   {
    "duration": 109,
    "start_time": "2022-05-08T18:27:37.995Z"
   },
   {
    "duration": 4,
    "start_time": "2022-05-08T18:27:38.106Z"
   },
   {
    "duration": 32,
    "start_time": "2022-05-08T18:27:38.112Z"
   },
   {
    "duration": 55,
    "start_time": "2022-05-08T18:27:38.146Z"
   },
   {
    "duration": 49,
    "start_time": "2022-05-08T18:27:38.203Z"
   },
   {
    "duration": 16,
    "start_time": "2022-05-08T18:27:38.254Z"
   },
   {
    "duration": 5,
    "start_time": "2022-05-08T18:27:38.272Z"
   },
   {
    "duration": 52,
    "start_time": "2022-05-08T18:27:38.280Z"
   },
   {
    "duration": 20,
    "start_time": "2022-05-08T18:27:38.335Z"
   },
   {
    "duration": 21,
    "start_time": "2022-05-08T18:27:38.357Z"
   },
   {
    "duration": 52,
    "start_time": "2022-05-08T18:27:38.381Z"
   },
   {
    "duration": 31,
    "start_time": "2022-05-08T18:27:38.436Z"
   },
   {
    "duration": 27,
    "start_time": "2022-05-08T18:27:38.469Z"
   },
   {
    "duration": 39,
    "start_time": "2022-05-08T18:27:38.499Z"
   },
   {
    "duration": 16,
    "start_time": "2022-05-08T18:27:38.546Z"
   },
   {
    "duration": 15,
    "start_time": "2022-05-08T18:27:38.565Z"
   },
   {
    "duration": 47,
    "start_time": "2022-05-08T18:27:38.582Z"
   },
   {
    "duration": 41,
    "start_time": "2022-05-08T18:27:38.632Z"
   },
   {
    "duration": 17,
    "start_time": "2022-05-08T18:27:38.675Z"
   },
   {
    "duration": 39,
    "start_time": "2022-05-08T18:27:38.695Z"
   },
   {
    "duration": 17,
    "start_time": "2022-05-08T18:27:38.738Z"
   },
   {
    "duration": 14,
    "start_time": "2022-05-08T18:27:38.757Z"
   },
   {
    "duration": 7,
    "start_time": "2022-05-08T18:27:38.773Z"
   },
   {
    "duration": 54,
    "start_time": "2022-05-08T18:27:38.782Z"
   },
   {
    "duration": 11,
    "start_time": "2022-05-08T18:27:38.840Z"
   },
   {
    "duration": 527,
    "start_time": "2022-05-08T18:30:37.345Z"
   },
   {
    "duration": 218,
    "start_time": "2022-05-08T18:30:37.874Z"
   },
   {
    "duration": 38,
    "start_time": "2022-05-08T18:30:38.094Z"
   },
   {
    "duration": 43,
    "start_time": "2022-05-08T18:30:38.136Z"
   },
   {
    "duration": 7,
    "start_time": "2022-05-08T18:30:38.182Z"
   },
   {
    "duration": 53,
    "start_time": "2022-05-08T18:30:38.192Z"
   },
   {
    "duration": 10,
    "start_time": "2022-05-08T18:30:38.248Z"
   },
   {
    "duration": 34,
    "start_time": "2022-05-08T18:30:38.260Z"
   },
   {
    "duration": 68,
    "start_time": "2022-05-08T18:30:38.296Z"
   },
   {
    "duration": 34,
    "start_time": "2022-05-08T18:30:38.369Z"
   },
   {
    "duration": 143,
    "start_time": "2022-05-08T18:30:38.406Z"
   },
   {
    "duration": 143,
    "start_time": "2022-05-08T18:30:38.551Z"
   },
   {
    "duration": 115,
    "start_time": "2022-05-08T18:30:38.696Z"
   },
   {
    "duration": 128,
    "start_time": "2022-05-08T18:30:38.814Z"
   },
   {
    "duration": 5,
    "start_time": "2022-05-08T18:30:38.944Z"
   },
   {
    "duration": 17,
    "start_time": "2022-05-08T18:30:38.951Z"
   },
   {
    "duration": 84,
    "start_time": "2022-05-08T18:30:38.970Z"
   },
   {
    "duration": 16,
    "start_time": "2022-05-08T18:30:39.057Z"
   },
   {
    "duration": 16,
    "start_time": "2022-05-08T18:30:39.076Z"
   },
   {
    "duration": 36,
    "start_time": "2022-05-08T18:30:39.095Z"
   },
   {
    "duration": 37,
    "start_time": "2022-05-08T18:30:39.134Z"
   },
   {
    "duration": 19,
    "start_time": "2022-05-08T18:30:39.173Z"
   },
   {
    "duration": 53,
    "start_time": "2022-05-08T18:30:39.195Z"
   },
   {
    "duration": 21,
    "start_time": "2022-05-08T18:30:39.250Z"
   },
   {
    "duration": 24,
    "start_time": "2022-05-08T18:30:39.273Z"
   },
   {
    "duration": 50,
    "start_time": "2022-05-08T18:30:39.300Z"
   },
   {
    "duration": 13,
    "start_time": "2022-05-08T18:30:39.352Z"
   },
   {
    "duration": 16,
    "start_time": "2022-05-08T18:30:39.372Z"
   },
   {
    "duration": 53,
    "start_time": "2022-05-08T18:30:39.390Z"
   },
   {
    "duration": 7,
    "start_time": "2022-05-08T18:30:39.446Z"
   },
   {
    "duration": 27,
    "start_time": "2022-05-08T18:30:39.455Z"
   },
   {
    "duration": 16,
    "start_time": "2022-05-08T18:30:39.485Z"
   },
   {
    "duration": 27,
    "start_time": "2022-05-08T18:30:39.530Z"
   },
   {
    "duration": 17,
    "start_time": "2022-05-08T18:30:39.559Z"
   },
   {
    "duration": 47,
    "start_time": "2022-05-08T18:30:39.578Z"
   },
   {
    "duration": 10,
    "start_time": "2022-05-08T18:30:39.628Z"
   },
   {
    "duration": 11,
    "start_time": "2022-05-08T18:30:39.644Z"
   },
   {
    "duration": 8,
    "start_time": "2022-05-08T18:30:39.657Z"
   },
   {
    "duration": 8,
    "start_time": "2022-05-30T08:19:56.594Z"
   },
   {
    "duration": 380,
    "start_time": "2022-09-13T11:26:09.583Z"
   },
   {
    "duration": 222,
    "start_time": "2022-09-13T11:26:09.965Z"
   },
   {
    "duration": 17,
    "start_time": "2022-09-13T11:26:10.189Z"
   },
   {
    "duration": 37,
    "start_time": "2022-09-13T11:26:10.208Z"
   },
   {
    "duration": 4,
    "start_time": "2022-09-13T11:26:10.247Z"
   },
   {
    "duration": 35,
    "start_time": "2022-09-13T11:26:10.252Z"
   },
   {
    "duration": 26,
    "start_time": "2022-09-13T11:26:10.289Z"
   },
   {
    "duration": 48,
    "start_time": "2022-09-13T11:26:10.316Z"
   },
   {
    "duration": 30,
    "start_time": "2022-09-13T11:26:10.366Z"
   },
   {
    "duration": 44,
    "start_time": "2022-09-13T11:26:10.398Z"
   },
   {
    "duration": 77,
    "start_time": "2022-09-13T11:26:10.443Z"
   },
   {
    "duration": 72,
    "start_time": "2022-09-13T11:26:10.522Z"
   },
   {
    "duration": 58,
    "start_time": "2022-09-13T11:26:10.595Z"
   },
   {
    "duration": 69,
    "start_time": "2022-09-13T11:26:10.654Z"
   },
   {
    "duration": 3,
    "start_time": "2022-09-13T11:26:10.724Z"
   },
   {
    "duration": 29,
    "start_time": "2022-09-13T11:26:10.728Z"
   },
   {
    "duration": 78,
    "start_time": "2022-09-13T11:26:10.759Z"
   },
   {
    "duration": 10,
    "start_time": "2022-09-13T11:26:10.839Z"
   },
   {
    "duration": 28,
    "start_time": "2022-09-13T11:26:10.851Z"
   },
   {
    "duration": 15,
    "start_time": "2022-09-13T11:26:10.881Z"
   },
   {
    "duration": 33,
    "start_time": "2022-09-13T11:26:10.897Z"
   },
   {
    "duration": 22,
    "start_time": "2022-09-13T11:26:10.931Z"
   },
   {
    "duration": 19,
    "start_time": "2022-09-13T11:26:10.955Z"
   },
   {
    "duration": 15,
    "start_time": "2022-09-13T11:26:10.976Z"
   },
   {
    "duration": 25,
    "start_time": "2022-09-13T11:26:10.993Z"
   },
   {
    "duration": 15,
    "start_time": "2022-09-13T11:26:11.020Z"
   },
   {
    "duration": 30,
    "start_time": "2022-09-13T11:26:11.037Z"
   },
   {
    "duration": 24,
    "start_time": "2022-09-13T11:26:11.070Z"
   },
   {
    "duration": 27,
    "start_time": "2022-09-13T11:26:11.096Z"
   },
   {
    "duration": 19,
    "start_time": "2022-09-13T11:26:11.125Z"
   },
   {
    "duration": 37,
    "start_time": "2022-09-13T11:26:11.145Z"
   },
   {
    "duration": 15,
    "start_time": "2022-09-13T11:26:11.183Z"
   },
   {
    "duration": 30,
    "start_time": "2022-09-13T11:26:11.200Z"
   },
   {
    "duration": 21,
    "start_time": "2022-09-13T11:26:11.232Z"
   },
   {
    "duration": 25,
    "start_time": "2022-09-13T11:26:11.254Z"
   },
   {
    "duration": 15,
    "start_time": "2022-09-13T11:26:11.281Z"
   },
   {
    "duration": 28,
    "start_time": "2022-09-13T11:26:11.297Z"
   },
   {
    "duration": 27,
    "start_time": "2022-09-13T11:26:11.327Z"
   },
   {
    "duration": 424,
    "start_time": "2022-09-13T11:33:50.766Z"
   },
   {
    "duration": 188,
    "start_time": "2022-09-13T11:33:51.192Z"
   },
   {
    "duration": 22,
    "start_time": "2022-09-13T11:33:51.382Z"
   },
   {
    "duration": 49,
    "start_time": "2022-09-13T11:33:51.407Z"
   },
   {
    "duration": 5,
    "start_time": "2022-09-13T11:33:51.457Z"
   },
   {
    "duration": 18,
    "start_time": "2022-09-13T11:33:51.464Z"
   },
   {
    "duration": 6,
    "start_time": "2022-09-13T11:33:51.484Z"
   },
   {
    "duration": 26,
    "start_time": "2022-09-13T11:33:51.492Z"
   },
   {
    "duration": 45,
    "start_time": "2022-09-13T11:33:51.520Z"
   },
   {
    "duration": 25,
    "start_time": "2022-09-13T11:33:51.570Z"
   },
   {
    "duration": 90,
    "start_time": "2022-09-13T11:33:51.597Z"
   },
   {
    "duration": 96,
    "start_time": "2022-09-13T11:33:51.689Z"
   },
   {
    "duration": 64,
    "start_time": "2022-09-13T11:33:51.787Z"
   },
   {
    "duration": 78,
    "start_time": "2022-09-13T11:33:51.853Z"
   },
   {
    "duration": 14,
    "start_time": "2022-09-13T11:33:51.933Z"
   },
   {
    "duration": 30,
    "start_time": "2022-09-13T11:33:51.950Z"
   },
   {
    "duration": 67,
    "start_time": "2022-09-13T11:33:51.982Z"
   },
   {
    "duration": 22,
    "start_time": "2022-09-13T11:33:52.051Z"
   },
   {
    "duration": 11,
    "start_time": "2022-09-13T11:33:52.074Z"
   },
   {
    "duration": 4,
    "start_time": "2022-09-13T11:33:52.086Z"
   },
   {
    "duration": 22,
    "start_time": "2022-09-13T11:33:52.091Z"
   },
   {
    "duration": 40,
    "start_time": "2022-09-13T11:33:52.115Z"
   },
   {
    "duration": 24,
    "start_time": "2022-09-13T11:33:52.158Z"
   },
   {
    "duration": 13,
    "start_time": "2022-09-13T11:33:52.184Z"
   },
   {
    "duration": 17,
    "start_time": "2022-09-13T11:33:52.199Z"
   },
   {
    "duration": 13,
    "start_time": "2022-09-13T11:33:52.218Z"
   },
   {
    "duration": 15,
    "start_time": "2022-09-13T11:33:52.248Z"
   },
   {
    "duration": 12,
    "start_time": "2022-09-13T11:33:52.267Z"
   },
   {
    "duration": 20,
    "start_time": "2022-09-13T11:33:52.280Z"
   },
   {
    "duration": 6,
    "start_time": "2022-09-13T11:33:52.302Z"
   },
   {
    "duration": 19,
    "start_time": "2022-09-13T11:33:52.309Z"
   },
   {
    "duration": 32,
    "start_time": "2022-09-13T11:33:52.329Z"
   },
   {
    "duration": 25,
    "start_time": "2022-09-13T11:33:52.363Z"
   },
   {
    "duration": 11,
    "start_time": "2022-09-13T11:33:52.390Z"
   },
   {
    "duration": 9,
    "start_time": "2022-09-13T11:33:52.403Z"
   },
   {
    "duration": 14,
    "start_time": "2022-09-13T11:33:52.414Z"
   },
   {
    "duration": 15,
    "start_time": "2022-09-13T11:33:52.429Z"
   },
   {
    "duration": 31,
    "start_time": "2022-09-13T11:33:52.446Z"
   },
   {
    "duration": 432,
    "start_time": "2022-09-13T11:36:56.010Z"
   },
   {
    "duration": 197,
    "start_time": "2022-09-13T11:36:56.446Z"
   },
   {
    "duration": 27,
    "start_time": "2022-09-13T11:36:56.645Z"
   },
   {
    "duration": 32,
    "start_time": "2022-09-13T11:36:56.676Z"
   },
   {
    "duration": 4,
    "start_time": "2022-09-13T11:36:56.710Z"
   },
   {
    "duration": 48,
    "start_time": "2022-09-13T11:36:56.716Z"
   },
   {
    "duration": 7,
    "start_time": "2022-09-13T11:36:56.766Z"
   },
   {
    "duration": 28,
    "start_time": "2022-09-13T11:36:56.775Z"
   },
   {
    "duration": 20,
    "start_time": "2022-09-13T11:36:56.806Z"
   },
   {
    "duration": 39,
    "start_time": "2022-09-13T11:36:56.829Z"
   },
   {
    "duration": 85,
    "start_time": "2022-09-13T11:36:56.870Z"
   },
   {
    "duration": 90,
    "start_time": "2022-09-13T11:36:56.957Z"
   },
   {
    "duration": 60,
    "start_time": "2022-09-13T11:36:57.048Z"
   },
   {
    "duration": 84,
    "start_time": "2022-09-13T11:36:57.109Z"
   },
   {
    "duration": 3,
    "start_time": "2022-09-13T11:36:57.195Z"
   },
   {
    "duration": 20,
    "start_time": "2022-09-13T11:36:57.199Z"
   },
   {
    "duration": 42,
    "start_time": "2022-09-13T11:36:57.221Z"
   },
   {
    "duration": 13,
    "start_time": "2022-09-13T11:36:57.264Z"
   },
   {
    "duration": 14,
    "start_time": "2022-09-13T11:36:57.278Z"
   },
   {
    "duration": 4,
    "start_time": "2022-09-13T11:36:57.293Z"
   },
   {
    "duration": 18,
    "start_time": "2022-09-13T11:36:57.298Z"
   },
   {
    "duration": 29,
    "start_time": "2022-09-13T11:36:57.318Z"
   },
   {
    "duration": 22,
    "start_time": "2022-09-13T11:36:57.349Z"
   },
   {
    "duration": 16,
    "start_time": "2022-09-13T11:36:57.377Z"
   },
   {
    "duration": 17,
    "start_time": "2022-09-13T11:36:57.394Z"
   },
   {
    "duration": 18,
    "start_time": "2022-09-13T11:36:57.413Z"
   },
   {
    "duration": 10,
    "start_time": "2022-09-13T11:36:57.447Z"
   },
   {
    "duration": 24,
    "start_time": "2022-09-13T11:36:57.460Z"
   },
   {
    "duration": 9,
    "start_time": "2022-09-13T11:36:57.486Z"
   },
   {
    "duration": 3,
    "start_time": "2022-09-13T11:36:57.497Z"
   },
   {
    "duration": 18,
    "start_time": "2022-09-13T11:36:57.502Z"
   },
   {
    "duration": 29,
    "start_time": "2022-09-13T11:36:57.521Z"
   },
   {
    "duration": 23,
    "start_time": "2022-09-13T11:36:57.552Z"
   },
   {
    "duration": 12,
    "start_time": "2022-09-13T11:36:57.576Z"
   },
   {
    "duration": 10,
    "start_time": "2022-09-13T11:36:57.589Z"
   },
   {
    "duration": 4,
    "start_time": "2022-09-13T11:36:57.600Z"
   },
   {
    "duration": 6,
    "start_time": "2022-09-13T11:36:57.606Z"
   },
   {
    "duration": 34,
    "start_time": "2022-09-13T11:36:57.614Z"
   }
  ],
  "colab": {
   "collapsed_sections": [
    "E0vqbgi9ay0H",
    "VUC88oWjTJw2"
   ],
   "name": "yandex_music_project.ipynb",
   "provenance": []
  },
  "kernelspec": {
   "display_name": "Python 3 (ipykernel)",
   "language": "python",
   "name": "python3"
  },
  "language_info": {
   "codemirror_mode": {
    "name": "ipython",
    "version": 3
   },
   "file_extension": ".py",
   "mimetype": "text/x-python",
   "name": "python",
   "nbconvert_exporter": "python",
   "pygments_lexer": "ipython3",
   "version": "3.9.7"
  },
  "toc": {
   "base_numbering": 1,
   "nav_menu": {},
   "number_sections": true,
   "sideBar": true,
   "skip_h1_title": true,
   "title_cell": "Table of Contents",
   "title_sidebar": "Contents",
   "toc_cell": false,
   "toc_position": {},
   "toc_section_display": true,
   "toc_window_display": false
  }
 },
 "nbformat": 4,
 "nbformat_minor": 1
}
